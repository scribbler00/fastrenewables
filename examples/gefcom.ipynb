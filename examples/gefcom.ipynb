{
 "cells": [
  {
   "cell_type": "code",
   "execution_count": 1,
   "metadata": {},
   "outputs": [],
   "source": [
    "from fastrenewables.tabular.learner import *\n",
    "from fastrenewables.tabular.data import *\n",
    "from fastrenewables.tabular.core import *\n",
    "import pandas as pd\n",
    "import zipfile\n",
    "import zipfile, re, os\n",
    "import numpy as np\n",
    "from fastai.torch_basics import *\n",
    "from fastai.metrics import rmse, mae\n",
    "from fastai.tabular.all import *"
   ]
  },
  {
   "cell_type": "code",
   "execution_count": 2,
   "metadata": {},
   "outputs": [],
   "source": [
    "def read_single_file(file_name):\n",
    "    df = pd.read_hdf(file_name, key=\"powerdata\")\n",
    "    return df"
   ]
  },
  {
   "cell_type": "code",
   "execution_count": 3,
   "metadata": {},
   "outputs": [],
   "source": [
    "def extract_single_file(path_to_zip_file, directory_to_extract_to):\n",
    "    with zipfile.ZipFile(path_to_zip_file, 'r') as zip_ref:\n",
    "        zip_ref.extractall(path=directory_to_extract_to)"
   ]
  },
  {
   "cell_type": "code",
   "execution_count": 4,
   "metadata": {},
   "outputs": [],
   "source": [
    "def extract_zip_in_folder(toFolder):\n",
    "    for root, dirs, files in os.walk(toFolder):\n",
    "        for filename in files:\n",
    "            if re.search(r'\\.zip$', filename):\n",
    "                fileSpec = os.path.join(root, filename)\n",
    "                extract_single_file(fileSpec, root)"
   ]
  },
  {
   "cell_type": "code",
   "execution_count": 5,
   "metadata": {},
   "outputs": [],
   "source": [
    "def get_wind_speed(x, y):\n",
    "    z = np.sqrt(x ** 2 + y ** 2)\n",
    "    return z\n",
    "\n",
    "def get_wind_direction(x, y):\n",
    "    z = get_wind_speed(x, y)\n",
    "    phi = 2 * np.arctan(y / (x + z + 1e-16))\n",
    "    return phi"
   ]
  },
  {
   "cell_type": "code",
   "execution_count": 6,
   "metadata": {},
   "outputs": [],
   "source": [
    "def read_csv(file_name):\n",
    "    df = pd.read_csv(file_name, sep=\",\")\n",
    "    df.TIMESTAMP = pd.to_datetime(df.TIMESTAMP, infer_datetime_format=True, utc=True)\n",
    "    df = df.rename(columns={\"TIMESTAMP\": \"TimeUTC\", \"TARGETVAR\": \"PowerGeneration\", \"ZONEID\":\"TaskID\"})\n",
    "    df.set_index(\"TimeUTC\", inplace=True)\n",
    "    \n",
    "    return df"
   ]
  },
  {
   "cell_type": "code",
   "execution_count": 7,
   "metadata": {},
   "outputs": [],
   "source": [
    "def create_complete_task(file_name_task, file_name_solution=None):\n",
    "    df = read_csv(file_name_task)\n",
    "    \n",
    "    cols = [(\"U10\", \"V10\"),(\"U100\", \"V100\")]\n",
    "        \n",
    "    for c in cols:\n",
    "        ws = get_wind_speed(df[c[0]].values, df[c[1]].values)\n",
    "        wd = get_wind_direction(df[c[0]].values, df[c[1]].values)\n",
    "        w_height = \"100\" if \"100\" in c[0] else \"10\"\n",
    "        \n",
    "        df[f\"WindSpeed{w_height}m\"] = ws\n",
    "        df[f\"SinWindDirection{w_height}m\"] = np.sin(wd)\n",
    "        df[f\"CosWindDirection{w_height}m\"] = np.cos(wd)   \n",
    "    \n",
    "    df[\"WindSpeed10m_t_m1\"] = df.WindSpeed10m.shift(1).fillna(method='bfill')\n",
    "    df[\"WindSpeed10m_t_p1\"] = df.WindSpeed10m.shift(-1).fillna(method='ffill')\n",
    "    \n",
    "    df[\"WindSpeed100m_t_m1\"] = df.WindSpeed100m.shift(1).fillna(method='bfill')\n",
    "    df[\"WindSpeed100m_t_p1\"] = df.WindSpeed100m.shift(-1).fillna(method='ffill')\n",
    "    \n",
    "    if file_name_solution is not None:\n",
    "        df_solution = read_csv(file_name_solution)\n",
    "        df_solution = df_solution[df_solution.TaskID==df.TaskID[0]]\n",
    "        \n",
    "#         check if timestamps match\n",
    "        if (df.index == df_solution.index).sum() == df.shape[0]:\n",
    "            \n",
    "            df[\"PowerGeneration\"] = df_solution.PowerGeneration.values\n",
    "        else:\n",
    "            raise Warning(\"Timestamps do not match.\")\n",
    "    df.dropna(inplace=True)\n",
    "    return df  "
   ]
  },
  {
   "cell_type": "code",
   "execution_count": 8,
   "metadata": {},
   "outputs": [],
   "source": [
    "def merge_dfs(first_list, second_list):\n",
    "    dfs = []\n",
    "    if len(first_list)!= len(second_list):\n",
    "        raise ValueError(\"Different lenghts of list.\")\n",
    "        \n",
    "    for idx in range(len(first_list)):\n",
    "        df1, df2 = first_list[idx], second_list[idx]\n",
    "        if df1.TaskID[0] != df2.TaskID[0]:\n",
    "            raise ValueError(\"Not sorted correctly. Not matching task ids.\")\n",
    "        dfs.append(pd.concat([df1, df2], axis=0))\n",
    "        \n",
    "    return dfs"
   ]
  },
  {
   "cell_type": "code",
   "execution_count": 9,
   "metadata": {},
   "outputs": [],
   "source": [
    "def prepare_for_tasks(dfs, gefcom_task=1):\n",
    "    \n",
    "    start_date = pd.to_datetime(\"2012-10-01\", utc=True) + pd.DateOffset(months=gefcom_task-1)\n",
    "    end_date = last_day_of_month(start_date)\n",
    "    \n",
    "    dfs_train = []\n",
    "    for df in dfs:\n",
    "        mask = df.index < start_date\n",
    "        dfs_train.append(df[mask])\n",
    "        \n",
    "    dfs_test = []\n",
    "    for df in dfs:\n",
    "        mask = (df.index >= start_date) & (df.index <= end_date)\n",
    "        dfs_test.append(df[mask])\n",
    "\n",
    "    return pd.concat(dfs_train, axis=0), pd.concat(dfs_test, axis=0)"
   ]
  },
  {
   "cell_type": "code",
   "execution_count": 10,
   "metadata": {},
   "outputs": [],
   "source": [
    "import datetime\n",
    "\n",
    "def last_day_of_month(any_day):\n",
    "    # this will never fail\n",
    "    # get close to the end of the month for any day, and add 4 days 'over'\n",
    "    next_month = any_day.replace(day=28) + datetime.timedelta(days=4)\n",
    "    # subtract the number of remaining 'overage' days to get last day of current month, or said programattically said, the previous day of the first of next month\n",
    "    return next_month - datetime.timedelta(days=next_month.day)"
   ]
  },
  {
   "cell_type": "code",
   "execution_count": 11,
   "metadata": {},
   "outputs": [
    {
     "name": "stdout",
     "output_type": "stream",
     "text": [
      "--2021-09-22 15:46:31--  https://www.dropbox.com/s/pqenrr2mcvl0hk9/GEFCom2014.zip\n",
      "Resolving www.dropbox.com (www.dropbox.com)... 162.125.66.18, 2620:100:6022:18::a27d:4212\n",
      "Connecting to www.dropbox.com (www.dropbox.com)|162.125.66.18|:443... connected.\n",
      "HTTP request sent, awaiting response... 301 Moved Permanently\n",
      "Location: /s/raw/pqenrr2mcvl0hk9/GEFCom2014.zip [following]\n",
      "--2021-09-22 15:46:31--  https://www.dropbox.com/s/raw/pqenrr2mcvl0hk9/GEFCom2014.zip\n",
      "Reusing existing connection to www.dropbox.com:443.\n",
      "HTTP request sent, awaiting response... 302 Found\n",
      "Location: https://ucddf2d3ad8dd48133645ee8b991.dl.dropboxusercontent.com/cd/0/inline/BWpHvpGaRRMr9pyEcq9UBGRVJaW2BWV48Y0cEXbDjsOSJPani1Oaeqb4n2GVbMVKpw8OdWHsaF9VA645udbisd8HnC79m7sYqYInvX7EzfrTtxqIUqej9LoirX1Z5Kt5Pd6Pw0HM9supOr4lgeFmhNh8/file# [following]\n",
      "--2021-09-22 15:46:32--  https://ucddf2d3ad8dd48133645ee8b991.dl.dropboxusercontent.com/cd/0/inline/BWpHvpGaRRMr9pyEcq9UBGRVJaW2BWV48Y0cEXbDjsOSJPani1Oaeqb4n2GVbMVKpw8OdWHsaF9VA645udbisd8HnC79m7sYqYInvX7EzfrTtxqIUqej9LoirX1Z5Kt5Pd6Pw0HM9supOr4lgeFmhNh8/file\n",
      "Resolving ucddf2d3ad8dd48133645ee8b991.dl.dropboxusercontent.com (ucddf2d3ad8dd48133645ee8b991.dl.dropboxusercontent.com)... 162.125.66.15, 2620:100:6022:15::a27d:420f\n",
      "Connecting to ucddf2d3ad8dd48133645ee8b991.dl.dropboxusercontent.com (ucddf2d3ad8dd48133645ee8b991.dl.dropboxusercontent.com)|162.125.66.15|:443... connected.\n",
      "HTTP request sent, awaiting response... 302 Found\n",
      "Location: /cd/0/inline2/BWru705fz7i0-nDDWvAi3TUqY2Hj5c4Vv-QJHUaJj8yxkxJJ5FYcSZtrIOcpXys8eBoDNYcphAWMwRUTOokTJFXyQ1YgN0t7GSs6LfjKA6MP2RUeTCfeH5NQlUDzHLPl2UazjAvljIGDwh4i1YyPDtC6iEQRQGru9sB1XZfDH2u7rQ2ZHCZX9sb-cYtAR307l2B-fQsPpUSSOPd7R-5ytozfsuVT0c8fQR4fWCXU5SDF2cLlEcCGnbwsKwC6KbZbVmdhkV86BNe7cvGZ4fQFKBhZQFtBe4ukOgtVr4mCUjiaQx2FSKWfL--uh3VYvQcZrDL1mDpftk1RcAtfPfysfiEFCVPlKEypE47IroynE5vch5Cr2gWHFnffS69SFXvdy8Q/file [following]\n",
      "--2021-09-22 15:46:32--  https://ucddf2d3ad8dd48133645ee8b991.dl.dropboxusercontent.com/cd/0/inline2/BWru705fz7i0-nDDWvAi3TUqY2Hj5c4Vv-QJHUaJj8yxkxJJ5FYcSZtrIOcpXys8eBoDNYcphAWMwRUTOokTJFXyQ1YgN0t7GSs6LfjKA6MP2RUeTCfeH5NQlUDzHLPl2UazjAvljIGDwh4i1YyPDtC6iEQRQGru9sB1XZfDH2u7rQ2ZHCZX9sb-cYtAR307l2B-fQsPpUSSOPd7R-5ytozfsuVT0c8fQR4fWCXU5SDF2cLlEcCGnbwsKwC6KbZbVmdhkV86BNe7cvGZ4fQFKBhZQFtBe4ukOgtVr4mCUjiaQx2FSKWfL--uh3VYvQcZrDL1mDpftk1RcAtfPfysfiEFCVPlKEypE47IroynE5vch5Cr2gWHFnffS69SFXvdy8Q/file\n",
      "Reusing existing connection to ucddf2d3ad8dd48133645ee8b991.dl.dropboxusercontent.com:443.\n",
      "HTTP request sent, awaiting response... 200 OK\n",
      "Length: 126360077 (121M) [application/zip]\n",
      "Saving to: ‘GEFCom2014.zip’\n",
      "\n",
      "GEFCom2014.zip      100%[===================>] 120,51M  21,2MB/s    in 6,6s    \n",
      "\n",
      "2021-09-22 15:46:40 (18,4 MB/s) - ‘GEFCom2014.zip’ saved [126360077/126360077]\n",
      "\n"
     ]
    }
   ],
   "source": [
    "# uncomment if file is not yet downloaded\n",
    "\n",
    "# !wget \"https://www.dropbox.com/s/pqenrr2mcvl0hk9/GEFCom2014.zip\"\n",
    "# extract_single_file(\"GEFCom2014.zip\", \"./\")\n",
    "# extract_single_file(\"GEFCom2014 Data/GEFCom2014-W_V2.zip\", \"./\")\n",
    "# extract_zip_in_folder(\"./Wind/\")"
   ]
  },
  {
   "cell_type": "code",
   "execution_count": 12,
   "metadata": {},
   "outputs": [
    {
     "name": "stdout",
     "output_type": "stream",
     "text": [
      "\u001b[0m\u001b[01;34m'GEFCom2014 Data'\u001b[0m/   \u001b[01;31mGEFCom2014.zip\u001b[0m   gefcom.ipynb   preprocessing.py   \u001b[01;34mWind\u001b[0m/\r\n"
     ]
    }
   ],
   "source": [
    "ls"
   ]
  },
  {
   "cell_type": "code",
   "execution_count": 13,
   "metadata": {},
   "outputs": [],
   "source": [
    "files_task_15 = !ls {\"./Wind/Task\\ 15/Task15_W_Zone1_10/*csv\"}"
   ]
  },
  {
   "cell_type": "code",
   "execution_count": 14,
   "metadata": {},
   "outputs": [],
   "source": [
    "dfs_task15 = [create_complete_task(f) for f in files_task_15]"
   ]
  },
  {
   "cell_type": "code",
   "execution_count": 15,
   "metadata": {},
   "outputs": [],
   "source": [
    "files_task_15_solution = !ls {\"./Wind/Task\\ 15/TaskExpVars15_W_Zone1_10/*csv\"}\n",
    "dfs_task15_solution = [create_complete_task(f, './Wind/Solution to Task 15/solution15_W.csv') for f in files_task_15_solution]"
   ]
  },
  {
   "cell_type": "code",
   "execution_count": 16,
   "metadata": {},
   "outputs": [],
   "source": [
    "dfs = merge_dfs(dfs_task15, dfs_task15_solution)"
   ]
  },
  {
   "cell_type": "code",
   "execution_count": 17,
   "metadata": {},
   "outputs": [],
   "source": [
    "GEFCOM_TASK = 4"
   ]
  },
  {
   "cell_type": "code",
   "execution_count": 18,
   "metadata": {},
   "outputs": [],
   "source": [
    "df_train, df_test = prepare_for_tasks(dfs, gefcom_task=GEFCOM_TASK)"
   ]
  },
  {
   "cell_type": "code",
   "execution_count": 19,
   "metadata": {},
   "outputs": [],
   "source": [
    "cat_names = [\"TaskID\"]\n",
    "\n",
    "cont_names = ['U10', 'V10', 'U100', 'V100',\n",
    "       'WindSpeed10m', 'SinWindDirection10m', 'CosWindDirection10m',\n",
    "       'WindSpeed100m', 'SinWindDirection100m', 'CosWindDirection100m',\n",
    "       'WindSpeed10m_t_m1', 'WindSpeed10m_t_p1', 'WindSpeed100m_t_m1',\n",
    "       'WindSpeed100m_t_p1']\n",
    "y_names = [\"PowerGeneration\"]\n"
   ]
  },
  {
   "cell_type": "code",
   "execution_count": 20,
   "metadata": {},
   "outputs": [],
   "source": [
    "dls = RenewableDataLoaders.from_df(df_train, \n",
    "                                   cat_names=cat_names, \n",
    "                                   cont_names=cont_names, \n",
    "                                   y_names=y_names,\n",
    "                                   bs=24*10, \n",
    "                                   shuffle=True\n",
    "                                  )"
   ]
  },
  {
   "cell_type": "code",
   "execution_count": 21,
   "metadata": {},
   "outputs": [
    {
     "data": {
      "text/plain": [
       "count    7.026400e+04\n",
       "mean     6.712153e-18\n",
       "std      1.000007e+00\n",
       "min     -2.118351e+00\n",
       "25%     -7.889739e-01\n",
       "50%     -1.519718e-01\n",
       "75%      6.230441e-01\n",
       "max      5.454891e+00\n",
       "Name: WindSpeed10m, dtype: float64"
      ]
     },
     "execution_count": 21,
     "metadata": {},
     "output_type": "execute_result"
    }
   ],
   "source": [
    "dls.dataset.items.WindSpeed10m.describe()"
   ]
  },
  {
   "cell_type": "code",
   "execution_count": 22,
   "metadata": {},
   "outputs": [],
   "source": [
    "class QuantileLoss(nn.Module):\n",
    "    def __init__(self, quantiles=[0.5]):\n",
    "        super().__init__()\n",
    "        self.quantiles = quantiles\n",
    "        \n",
    "    def forward(self, preds, target):\n",
    "        assert not target.requires_grad\n",
    "        assert preds.size(0) == target.size(0)\n",
    "        \n",
    "        losses = []\n",
    "\n",
    "        for i, q in enumerate(self.quantiles):\n",
    "            errors = target - preds[:, i]\n",
    "            losses.append(\n",
    "                torch.max(\n",
    "                   errors * q, \n",
    "                   (-1) * errors * (1-q)\n",
    "            ).unsqueeze(1))\n",
    "        loss = torch.cat(losses).mean()\n",
    "\n",
    "        \n",
    "        return loss"
   ]
  },
  {
   "cell_type": "code",
   "execution_count": 23,
   "metadata": {},
   "outputs": [],
   "source": [
    "quantiles = np.arange(0.01,1,0.01)\n",
    "quantiles = [0.1, 0.25, 0.5, 0.75, 0.9]"
   ]
  },
  {
   "cell_type": "code",
   "execution_count": 24,
   "metadata": {},
   "outputs": [],
   "source": [
    "learn = renewable_learner(dls, \n",
    "                          layers=[len(cont_names), 200, 50, 10,  len(quantiles)],\n",
    "#                           metrics=[rmse, mae], \n",
    "                          n_out=len(quantiles), \n",
    "                          loss_func=QuantileLoss(quantiles=list(quantiles)))"
   ]
  },
  {
   "cell_type": "code",
   "execution_count": 25,
   "metadata": {},
   "outputs": [
    {
     "data": {
      "text/plain": [
       "MultiLayerPerceptron(\n",
       "  (embedding_module): EmbeddingModule(\n",
       "    (embeddings): ModuleList(\n",
       "      (0): Embedding(11, 6)\n",
       "    )\n",
       "    (emb_drop): Dropout(p=0.1, inplace=False)\n",
       "  )\n",
       "  (final_activation): Identity()\n",
       "  (embeds): ModuleList()\n",
       "  (emb_drop): Dropout(p=0.0, inplace=False)\n",
       "  (bn_cont): BatchNorm1d(14, eps=1e-05, momentum=0.1, affine=True, track_running_stats=True)\n",
       "  (layers): Sequential(\n",
       "    (0): LinBnDrop(\n",
       "      (0): Linear(in_features=20, out_features=200, bias=False)\n",
       "      (1): ReLU(inplace=True)\n",
       "      (2): BatchNorm1d(200, eps=1e-05, momentum=0.1, affine=True, track_running_stats=True)\n",
       "    )\n",
       "    (1): LinBnDrop(\n",
       "      (0): Linear(in_features=200, out_features=50, bias=False)\n",
       "      (1): ReLU(inplace=True)\n",
       "      (2): BatchNorm1d(50, eps=1e-05, momentum=0.1, affine=True, track_running_stats=True)\n",
       "    )\n",
       "    (2): LinBnDrop(\n",
       "      (0): Linear(in_features=50, out_features=10, bias=False)\n",
       "      (1): ReLU(inplace=True)\n",
       "      (2): BatchNorm1d(10, eps=1e-05, momentum=0.1, affine=True, track_running_stats=True)\n",
       "    )\n",
       "    (3): LinBnDrop(\n",
       "      (0): Linear(in_features=10, out_features=5, bias=True)\n",
       "    )\n",
       "  )\n",
       ")"
      ]
     },
     "execution_count": 25,
     "metadata": {},
     "output_type": "execute_result"
    }
   ],
   "source": [
    "learn.model"
   ]
  },
  {
   "cell_type": "code",
   "execution_count": 26,
   "metadata": {},
   "outputs": [
    {
     "data": {
      "text/html": [
       "<table border=\"1\" class=\"dataframe\">\n",
       "  <thead>\n",
       "    <tr style=\"text-align: left;\">\n",
       "      <th>epoch</th>\n",
       "      <th>train_loss</th>\n",
       "      <th>valid_loss</th>\n",
       "      <th>time</th>\n",
       "    </tr>\n",
       "  </thead>\n",
       "  <tbody>\n",
       "    <tr>\n",
       "      <td>0</td>\n",
       "      <td>0.158506</td>\n",
       "      <td>0.121201</td>\n",
       "      <td>00:03</td>\n",
       "    </tr>\n",
       "    <tr>\n",
       "      <td>1</td>\n",
       "      <td>0.084765</td>\n",
       "      <td>0.083799</td>\n",
       "      <td>00:02</td>\n",
       "    </tr>\n",
       "    <tr>\n",
       "      <td>2</td>\n",
       "      <td>0.083962</td>\n",
       "      <td>0.083703</td>\n",
       "      <td>00:03</td>\n",
       "    </tr>\n",
       "    <tr>\n",
       "      <td>3</td>\n",
       "      <td>0.083991</td>\n",
       "      <td>0.083656</td>\n",
       "      <td>00:03</td>\n",
       "    </tr>\n",
       "    <tr>\n",
       "      <td>4</td>\n",
       "      <td>0.083888</td>\n",
       "      <td>0.083658</td>\n",
       "      <td>00:02</td>\n",
       "    </tr>\n",
       "  </tbody>\n",
       "</table>"
      ],
      "text/plain": [
       "<IPython.core.display.HTML object>"
      ]
     },
     "metadata": {},
     "output_type": "display_data"
    }
   ],
   "source": [
    "learn.fit_one_cycle(5)"
   ]
  },
  {
   "cell_type": "code",
   "execution_count": 27,
   "metadata": {},
   "outputs": [
    {
     "data": {
      "text/html": [
       "<table border=\"1\" class=\"dataframe\">\n",
       "  <thead>\n",
       "    <tr style=\"text-align: left;\">\n",
       "      <th>epoch</th>\n",
       "      <th>train_loss</th>\n",
       "      <th>valid_loss</th>\n",
       "      <th>time</th>\n",
       "    </tr>\n",
       "  </thead>\n",
       "  <tbody>\n",
       "    <tr>\n",
       "      <td>0</td>\n",
       "      <td>0.083835</td>\n",
       "      <td>0.083675</td>\n",
       "      <td>00:03</td>\n",
       "    </tr>\n",
       "    <tr>\n",
       "      <td>1</td>\n",
       "      <td>0.083853</td>\n",
       "      <td>0.083661</td>\n",
       "      <td>00:02</td>\n",
       "    </tr>\n",
       "    <tr>\n",
       "      <td>2</td>\n",
       "      <td>0.083953</td>\n",
       "      <td>0.083672</td>\n",
       "      <td>00:02</td>\n",
       "    </tr>\n",
       "    <tr>\n",
       "      <td>3</td>\n",
       "      <td>0.083584</td>\n",
       "      <td>0.083687</td>\n",
       "      <td>00:03</td>\n",
       "    </tr>\n",
       "    <tr>\n",
       "      <td>4</td>\n",
       "      <td>0.083696</td>\n",
       "      <td>0.083674</td>\n",
       "      <td>00:03</td>\n",
       "    </tr>\n",
       "    <tr>\n",
       "      <td>5</td>\n",
       "      <td>0.084150</td>\n",
       "      <td>0.083660</td>\n",
       "      <td>00:03</td>\n",
       "    </tr>\n",
       "    <tr>\n",
       "      <td>6</td>\n",
       "      <td>0.083865</td>\n",
       "      <td>0.083640</td>\n",
       "      <td>00:03</td>\n",
       "    </tr>\n",
       "    <tr>\n",
       "      <td>7</td>\n",
       "      <td>0.083536</td>\n",
       "      <td>0.083680</td>\n",
       "      <td>00:02</td>\n",
       "    </tr>\n",
       "    <tr>\n",
       "      <td>8</td>\n",
       "      <td>0.083806</td>\n",
       "      <td>0.083645</td>\n",
       "      <td>00:02</td>\n",
       "    </tr>\n",
       "    <tr>\n",
       "      <td>9</td>\n",
       "      <td>0.083648</td>\n",
       "      <td>0.083676</td>\n",
       "      <td>00:02</td>\n",
       "    </tr>\n",
       "  </tbody>\n",
       "</table>"
      ],
      "text/plain": [
       "<IPython.core.display.HTML object>"
      ]
     },
     "metadata": {},
     "output_type": "display_data"
    }
   ],
   "source": [
    "learn.fit(10)"
   ]
  },
  {
   "cell_type": "code",
   "execution_count": 28,
   "metadata": {},
   "outputs": [
    {
     "data": {
      "text/plain": [
       "count    7.210000e+03\n",
       "mean    -1.110531e-16\n",
       "std      1.000069e+00\n",
       "min     -2.875503e+00\n",
       "25%     -6.492170e-01\n",
       "50%     -4.159524e-03\n",
       "75%      6.434804e-01\n",
       "max      4.055518e+00\n",
       "Name: WindSpeed100m, dtype: float64"
      ]
     },
     "execution_count": 28,
     "metadata": {},
     "output_type": "execute_result"
    }
   ],
   "source": [
    "to_test = dls.train_ds.new(df_test)\n",
    "to_test.setup()\n",
    "to_test.items.WindSpeed100m.describe()"
   ]
  },
  {
   "cell_type": "code",
   "execution_count": 29,
   "metadata": {},
   "outputs": [],
   "source": [
    "dl_test = to_test.dataloaders(shuffle=False, drop_last=False)"
   ]
  },
  {
   "cell_type": "code",
   "execution_count": 30,
   "metadata": {},
   "outputs": [],
   "source": [
    "yhat = learn.model(torch.tensor(to_test.cats.values).long().to(\"cuda:0\"), torch.tensor(to_test.conts.values).float().to(\"cuda:0\"))\n",
    "yhat = to_np(yhat)"
   ]
  },
  {
   "cell_type": "code",
   "execution_count": 31,
   "metadata": {},
   "outputs": [
    {
     "data": {
      "text/plain": [
       "(7210, 5)"
      ]
     },
     "execution_count": 31,
     "metadata": {},
     "output_type": "execute_result"
    }
   ],
   "source": [
    "yhat.shape"
   ]
  },
  {
   "cell_type": "code",
   "execution_count": 32,
   "metadata": {},
   "outputs": [],
   "source": [
    "y = to_test.ys.values"
   ]
  },
  {
   "cell_type": "code",
   "execution_count": 33,
   "metadata": {},
   "outputs": [
    {
     "data": {
      "text/plain": [
       "(7210, 1)"
      ]
     },
     "execution_count": 33,
     "metadata": {},
     "output_type": "execute_result"
    }
   ],
   "source": [
    "y.shape"
   ]
  },
  {
   "cell_type": "code",
   "execution_count": 34,
   "metadata": {},
   "outputs": [
    {
     "data": {
      "text/plain": [
       "[<matplotlib.lines.Line2D at 0x7f4374cc0af0>]"
      ]
     },
     "execution_count": 34,
     "metadata": {},
     "output_type": "execute_result"
    },
    {
     "data": {
      "image/png": "[encoded data removed]",
      "text/plain": [
       "<Figure size 432x288 with 1 Axes>"
      ]
     },
     "metadata": {
      "needs_background": "light"
     },
     "output_type": "display_data"
    }
   ],
   "source": [
    "start,end = 0,24*7\n",
    "plt.plot(y[start:end])\n",
    "plt.plot(yhat[start:end,0])\n",
    "plt.plot(yhat[start:end,len(quantiles)//2])\n",
    "plt.plot(yhat[start:end,-1])\n",
    "# plt.plot(yhat.reshape(-1, len(quantiles))[start:end,len(quantiles)//2])\n",
    "# plt.plot(yhat.reshape(-1, len(quantiles))[start:end,-1])"
   ]
  },
  {
   "cell_type": "code",
   "execution_count": 35,
   "metadata": {},
   "outputs": [],
   "source": [
    "# dl_test.dataset.items[\"Yhat\"] = yhat"
   ]
  },
  {
   "cell_type": "code",
   "execution_count": 36,
   "metadata": {},
   "outputs": [],
   "source": [
    "# rmse_errors, mae_errors = [],[]\n",
    "# for k,df in dl_test.dataset.items.groupby(\"TaskID\"):\n",
    "#     rmse_error = ((df.PowerGeneration-df.Yhat)**2).mean()**0.5\n",
    "#     mae_error = (df.PowerGeneration-df.Yhat).abs().mean()\n",
    "#     rmse_errors.append(rmse_error)\n",
    "#     mae_errors.append(mae_error)\n",
    "#     print(k,rmse_error, mae_error)"
   ]
  },
  {
   "cell_type": "code",
   "execution_count": 37,
   "metadata": {},
   "outputs": [],
   "source": [
    "# plt.boxplot(rmse_errors)\n",
    "# plt.title(f\"GEFCOM_TASK {GEFCOM_TASK}\")\n",
    "# plt.show()"
   ]
  }
 ],
 "metadata": {
  "kernelspec": {
   "display_name": "Python 3",
   "language": "python",
   "name": "python3"
  },
  "language_info": {
   "codemirror_mode": {
    "name": "ipython",
    "version": 3
   },
   "file_extension": ".py",
   "mimetype": "text/x-python",
   "name": "python",
   "nbconvert_exporter": "python",
   "pygments_lexer": "ipython3",
   "version": "3.8.5"
  }
 },
 "nbformat": 4,
 "nbformat_minor": 4
}
