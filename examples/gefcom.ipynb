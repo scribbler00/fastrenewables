{
 "cells": [
  {
   "cell_type": "code",
   "execution_count": null,
   "metadata": {},
   "outputs": [],
   "source": [
    "from fastrenewables.tabular.learner import *\n",
    "from fastrenewables.tabular.data import *\n",
    "from fastrenewables.tabular.core import *\n",
    "from fastrenewables.metrics import crps_for_quantiles\n",
    "import pandas as pd\n",
    "import zipfile\n",
    "import zipfile, re, os\n",
    "import numpy as np\n",
    "from fastai.torch_basics import *\n",
    "from fastai.metrics import rmse, mae\n",
    "from fastai.tabular.all import *\n",
    "import seaborn as sns\n",
    "import properscoring as ps\n",
    "import dcor\n"
   ]
  },
  {
   "cell_type": "code",
   "execution_count": null,
   "metadata": {},
   "outputs": [],
   "source": [
    "# !pip install fastdownload\n",
    "# pip install dcor\n",
    "# pip install properscoring"
   ]
  },
  {
   "cell_type": "code",
   "execution_count": null,
   "metadata": {},
   "outputs": [],
   "source": [
    "# https://github.com/fastai/fastdownload/issues/16\n",
    "# pip install \"git+https://github.com/GenevieveBuckley/fastdownload/@fmod-exists-error\""
   ]
  },
  {
   "cell_type": "code",
   "execution_count": null,
   "metadata": {},
   "outputs": [],
   "source": [
    "from fastdownload import FastDownload"
   ]
  },
  {
   "cell_type": "code",
   "execution_count": null,
   "metadata": {},
   "outputs": [
    {
     "data": {
      "text/html": [
       "\n",
       "    <div>\n",
       "        <style>\n",
       "            /* Turns off some styling */\n",
       "            progress {\n",
       "                /* gets rid of default border in Firefox and Opera. */\n",
       "                border: none;\n",
       "                /* Needs to be in here for Safari polyfill so background images work as expected. */\n",
       "                background-size: auto;\n",
       "            }\n",
       "            .progress-bar-interrupted, .progress-bar-interrupted::-webkit-progress-bar {\n",
       "                background: #F44336;\n",
       "            }\n",
       "        </style>\n",
       "      <progress value='126361600' class='' max='126360077' style='width:300px; height:20px; vertical-align: middle;'></progress>\n",
       "      100.00% [126361600/126360077 00:06<00:00]\n",
       "    </div>\n",
       "    "
      ],
      "text/plain": [
       "<IPython.core.display.HTML object>"
      ]
     },
     "metadata": {},
     "output_type": "display_data"
    }
   ],
   "source": [
    "d = FastDownload()\n",
    "path = d.get('https://www.dropbox.com/s/pqenrr2mcvl0hk9/GEFCom2014.zip?dl=1')"
   ]
  },
  {
   "cell_type": "code",
   "execution_count": null,
   "metadata": {},
   "outputs": [],
   "source": [
    "def read_single_file(file_name):\n",
    "    df = pd.read_hdf(file_name, key=\"powerdata\")\n",
    "    return df"
   ]
  },
  {
   "cell_type": "code",
   "execution_count": null,
   "metadata": {},
   "outputs": [],
   "source": [
    "def extract_single_file(path_to_zip_file, directory_to_extract_to):\n",
    "    with zipfile.ZipFile(path_to_zip_file, 'r') as zip_ref:\n",
    "        zip_ref.extractall(path=directory_to_extract_to)"
   ]
  },
  {
   "cell_type": "code",
   "execution_count": null,
   "metadata": {},
   "outputs": [],
   "source": [
    "def extract_zip_in_folder(toFolder):\n",
    "    for root, dirs, files in os.walk(toFolder):\n",
    "        for filename in files:\n",
    "            if re.search(r'\\.zip$', filename):\n",
    "                fileSpec = os.path.join(root, filename)\n",
    "                extract_single_file(fileSpec, root)"
   ]
  },
  {
   "cell_type": "code",
   "execution_count": null,
   "metadata": {},
   "outputs": [],
   "source": [
    "def get_wind_speed(x, y):\n",
    "    z = np.sqrt(x ** 2 + y ** 2)\n",
    "    return z\n",
    "\n",
    "def get_wind_direction(x, y):\n",
    "    z = get_wind_speed(x, y)\n",
    "    phi = 2 * np.arctan(y / (x + z + 1e-16))\n",
    "    return phi"
   ]
  },
  {
   "cell_type": "code",
   "execution_count": null,
   "metadata": {},
   "outputs": [],
   "source": [
    "def read_csv(file_name):\n",
    "    df = pd.read_csv(file_name, sep=\",\")\n",
    "    df.TIMESTAMP = pd.to_datetime(df.TIMESTAMP, infer_datetime_format=True, utc=True)\n",
    "    df = df.rename(columns={\"TIMESTAMP\": \"TimeUTC\", \"TARGETVAR\": \"PowerGeneration\", \"ZONEID\":\"TaskID\"})\n",
    "    df.set_index(\"TimeUTC\", inplace=True)\n",
    "    \n",
    "    return df"
   ]
  },
  {
   "cell_type": "code",
   "execution_count": null,
   "metadata": {},
   "outputs": [],
   "source": [
    "def create_complete_task(file_name_task, file_name_solution=None):\n",
    "    df = read_csv(file_name_task)\n",
    "    \n",
    "    cols = [(\"U10\", \"V10\"),(\"U100\", \"V100\")]\n",
    "        \n",
    "    for c in cols:\n",
    "        ws = get_wind_speed(df[c[0]].values, df[c[1]].values)\n",
    "        wd = get_wind_direction(df[c[0]].values, df[c[1]].values)\n",
    "        w_height = \"100\" if \"100\" in c[0] else \"10\"\n",
    "        \n",
    "        df[f\"WindSpeed{w_height}m\"] = ws\n",
    "        df[f\"SinWindDirection{w_height}m\"] = np.sin(wd)\n",
    "        df[f\"CosWindDirection{w_height}m\"] = np.cos(wd)   \n",
    "    \n",
    "    df[\"WindSpeed10m_t_m1\"] = df.WindSpeed10m.shift(1).fillna(method='bfill')\n",
    "#     df[\"WindSpeed10m_t_p1\"] = df.WindSpeed10m.shift(-1).fillna(method='ffill')\n",
    "    \n",
    "    df[\"WindSpeed100m_t_m1\"] = df.WindSpeed100m.shift(1).fillna(method='bfill')\n",
    "#     df[\"WindSpeed100m_t_p1\"] = df.WindSpeed100m.shift(-1).fillna(method='ffill')\n",
    "    \n",
    "    if file_name_solution is not None:\n",
    "        df_solution = read_csv(file_name_solution)\n",
    "        df_solution = df_solution[df_solution.TaskID==df.TaskID[0]]\n",
    "        \n",
    "#         check if timestamps match\n",
    "        if (df.index == df_solution.index).sum() == df.shape[0]:\n",
    "            \n",
    "            df[\"PowerGeneration\"] = df_solution.PowerGeneration.values\n",
    "        else:\n",
    "            raise Warning(\"Timestamps do not match.\")\n",
    "    df.dropna(inplace=True)\n",
    "    return df  "
   ]
  },
  {
   "cell_type": "code",
   "execution_count": null,
   "metadata": {},
   "outputs": [],
   "source": [
    "def merge_dfs(first_list, second_list):\n",
    "    dfs = []\n",
    "    if len(first_list)!= len(second_list):\n",
    "        raise ValueError(\"Different lenghts of list.\")\n",
    "        \n",
    "    for idx in range(len(first_list)):\n",
    "        df1, df2 = first_list[idx], second_list[idx]\n",
    "        if df1.TaskID[0] != df2.TaskID[0]:\n",
    "            raise ValueError(\"Not sorted correctly. Not matching task ids.\")\n",
    "        dfs.append(pd.concat([df1, df2], axis=0))\n",
    "        \n",
    "    return dfs"
   ]
  },
  {
   "cell_type": "code",
   "execution_count": null,
   "metadata": {},
   "outputs": [],
   "source": [
    "def prepare_for_tasks(dfs, gefcom_task=1):\n",
    "    \n",
    "    start_date = pd.to_datetime(\"2012-10-01\", utc=True) + pd.DateOffset(months=gefcom_task-1)\n",
    "    end_date = last_day_of_month(start_date)\n",
    "    \n",
    "    dfs_train = []\n",
    "    for df in dfs:\n",
    "        mask = df.index < start_date\n",
    "        dfs_train.append(df[mask])\n",
    "        \n",
    "    dfs_test = []\n",
    "    for df in dfs:\n",
    "        mask = (df.index >= start_date) & (df.index <= end_date)\n",
    "        dfs_test.append(df[mask])\n",
    "\n",
    "    return pd.concat(dfs_train, axis=0), pd.concat(dfs_test, axis=0)"
   ]
  },
  {
   "cell_type": "code",
   "execution_count": null,
   "metadata": {},
   "outputs": [],
   "source": [
    "import datetime\n",
    "\n",
    "def last_day_of_month(any_day):\n",
    "    # this will never fail\n",
    "    # get close to the end of the month for any day, and add 4 days 'over'\n",
    "    next_month = any_day.replace(day=28) + datetime.timedelta(days=4)\n",
    "    # subtract the number of remaining 'overage' days to get last day of current month, or said programattically said, the previous day of the first of next month\n",
    "    return next_month - datetime.timedelta(days=next_month.day)"
   ]
  },
  {
   "cell_type": "code",
   "execution_count": null,
   "metadata": {},
   "outputs": [],
   "source": [
    "# uncomment if file is not yet downloaded\n",
    "\n",
    "# !wget \"https://www.dropbox.com/s/pqenrr2mcvl0hk9/GEFCom2014.zip\"\n",
    "# extract_single_file(\"GEFCom2014.zip\", \"./\")\n",
    "# extract_single_file(\"GEFCom2014 Data/GEFCom2014-W_V2.zip\", \"./\")\n",
    "# extract_zip_in_folder(\"./Wind/\")"
   ]
  },
  {
   "cell_type": "code",
   "execution_count": null,
   "metadata": {},
   "outputs": [],
   "source": [
    "ls"
   ]
  },
  {
   "cell_type": "code",
   "execution_count": null,
   "metadata": {},
   "outputs": [],
   "source": [
    "files_task = !ls {\"./Wind/Task\\ 15/Task15_W_Zone1_10/*csv\"}"
   ]
  },
  {
   "cell_type": "code",
   "execution_count": null,
   "metadata": {},
   "outputs": [],
   "source": [
    "dfs_task = [create_complete_task(f) for f in files_task]\n",
    "len(dfs_task)"
   ]
  },
  {
   "cell_type": "code",
   "execution_count": null,
   "metadata": {},
   "outputs": [],
   "source": [
    "files_task_solution = !ls {\"./Wind/Task\\ 15/TaskExpVars15_W_Zone1_10/*csv\"}\n",
    "dfs_task_solution = [create_complete_task(f, './Wind/Solution to Task 15/solution15_W.csv') for f in files_task_solution]"
   ]
  },
  {
   "cell_type": "code",
   "execution_count": null,
   "metadata": {},
   "outputs": [],
   "source": [
    "dfs = merge_dfs(dfs_task, dfs_task_solution)"
   ]
  },
  {
   "cell_type": "code",
   "execution_count": null,
   "metadata": {},
   "outputs": [],
   "source": [
    "GEFCOM_TASK = 3"
   ]
  },
  {
   "cell_type": "code",
   "execution_count": null,
   "metadata": {},
   "outputs": [],
   "source": [
    "df_train, df_test = prepare_for_tasks(dfs, gefcom_task=GEFCOM_TASK)"
   ]
  },
  {
   "cell_type": "code",
   "execution_count": null,
   "metadata": {},
   "outputs": [],
   "source": [
    "df_train.head(2)"
   ]
  },
  {
   "cell_type": "code",
   "execution_count": null,
   "metadata": {},
   "outputs": [],
   "source": [
    "df_train.tail(2)"
   ]
  },
  {
   "cell_type": "code",
   "execution_count": null,
   "metadata": {},
   "outputs": [],
   "source": [
    "df_train.index.month"
   ]
  },
  {
   "cell_type": "code",
   "execution_count": null,
   "metadata": {},
   "outputs": [],
   "source": [
    "df_train.dtypes"
   ]
  },
  {
   "cell_type": "code",
   "execution_count": null,
   "metadata": {},
   "outputs": [],
   "source": [
    "df_train.TaskID.unique()"
   ]
  },
  {
   "cell_type": "code",
   "execution_count": null,
   "metadata": {},
   "outputs": [],
   "source": [
    "cat_names = [\"TaskID\"]\n",
    "\n",
    "cont_names = ['U10', 'V10', 'U100', 'V100',\n",
    "       'WindSpeed10m', 'SinWindDirection10m', 'CosWindDirection10m',\n",
    "       'WindSpeed100m', 'SinWindDirection100m', 'CosWindDirection100m',\n",
    "       'WindSpeed10m_t_m1', \n",
    "#         'WindSpeed10m_t_p1', \n",
    "       'WindSpeed100m_t_m1',\n",
    "#        'WindSpeed100m_t_p1'\n",
    "             ]\n",
    "y_names = [\"PowerGeneration\"]\n"
   ]
  },
  {
   "cell_type": "code",
   "execution_count": null,
   "metadata": {},
   "outputs": [],
   "source": [
    "dls = RenewableDataLoaders.from_df(df_train, \n",
    "                                   cat_names=cat_names, \n",
    "                                   cont_names=cont_names, \n",
    "                                   y_names=y_names,\n",
    "                                   bs=24*30, \n",
    "                                   shuffle=True\n",
    "                                  )"
   ]
  },
  {
   "cell_type": "code",
   "execution_count": null,
   "metadata": {},
   "outputs": [],
   "source": [
    "dls.dataset.items.WindSpeed10m.describe()"
   ]
  },
  {
   "cell_type": "code",
   "execution_count": null,
   "metadata": {},
   "outputs": [],
   "source": [
    "dls.train_ds.items.head(2)"
   ]
  },
  {
   "cell_type": "code",
   "execution_count": null,
   "metadata": {},
   "outputs": [],
   "source": []
  },
  {
   "cell_type": "markdown",
   "metadata": {},
   "source": [
    "Principle Idea: Use a Bayesian neural network to forecast the expected power generation. Use the power generation from t-1 as input to the model during training. Also we should forecast the mean as well as the variance, essentially we train a one step ahead model.\n",
    "\n",
    "To create a scenario forecast, we need to adapt the inference. Essentially we use the one step ahead model model to lets say the next 72 hours. Therefore, we replace the historical power measurements through the power forecast from the previous time stamp."
   ]
  },
  {
   "cell_type": "code",
   "execution_count": null,
   "metadata": {},
   "outputs": [],
   "source": [
    "quantiles = np.arange(0.01,1,0.01)\n",
    "# quantiles = [0.1, 0.25, 0.5, 0.75, 0.9]"
   ]
  },
  {
   "cell_type": "code",
   "execution_count": null,
   "metadata": {},
   "outputs": [],
   "source": [
    "n_out = len(quantiles)\n",
    "# n_out=1\n",
    "learn = renewable_learner(dls, \n",
    "                          layers=[len(cont_names), 200, 300, 400,  n_out],\n",
    "#                           metrics=[rmse, mae], \n",
    "                           n_out=n_out, \n",
    "                          loss_func=Quantile_Score(taus=list(quantiles))\n",
    "                         )"
   ]
  },
  {
   "cell_type": "code",
   "execution_count": null,
   "metadata": {},
   "outputs": [],
   "source": [
    "learn.model"
   ]
  },
  {
   "cell_type": "code",
   "execution_count": null,
   "metadata": {},
   "outputs": [],
   "source": [
    "learn.lr_find()\n",
    "# plt.show()"
   ]
  },
  {
   "cell_type": "code",
   "execution_count": null,
   "metadata": {},
   "outputs": [],
   "source": [
    "plt.show()"
   ]
  },
  {
   "cell_type": "code",
   "execution_count": null,
   "metadata": {},
   "outputs": [],
   "source": [
    "lr=1e-3"
   ]
  },
  {
   "cell_type": "code",
   "execution_count": null,
   "metadata": {},
   "outputs": [],
   "source": [
    "learn.fit_one_cycle(5, lr_max=lr)"
   ]
  },
  {
   "cell_type": "code",
   "execution_count": null,
   "metadata": {},
   "outputs": [],
   "source": [
    "learn.fit(10, lr=lr)"
   ]
  },
  {
   "cell_type": "code",
   "execution_count": null,
   "metadata": {},
   "outputs": [],
   "source": [
    "# learn.fit(10, lr=lr)"
   ]
  },
  {
   "cell_type": "code",
   "execution_count": null,
   "metadata": {},
   "outputs": [],
   "source": [
    "to_test = dls.train_ds.new(df_test)\n",
    "to_test.setup()\n",
    "to_test.items.WindSpeed100m.describe()"
   ]
  },
  {
   "cell_type": "code",
   "execution_count": null,
   "metadata": {},
   "outputs": [],
   "source": [
    "dl_test = to_test.dataloaders(shuffle=False, drop_last=False)"
   ]
  },
  {
   "cell_type": "code",
   "execution_count": null,
   "metadata": {},
   "outputs": [],
   "source": [
    "to_test.items.shape"
   ]
  },
  {
   "cell_type": "code",
   "execution_count": null,
   "metadata": {},
   "outputs": [],
   "source": [
    "to_test.items.head(10)"
   ]
  },
  {
   "cell_type": "code",
   "execution_count": null,
   "metadata": {},
   "outputs": [],
   "source": [
    "to_test.items.index.unique()"
   ]
  },
  {
   "cell_type": "code",
   "execution_count": null,
   "metadata": {},
   "outputs": [],
   "source": [
    "yhat = learn.model(torch.tensor(to_test.cats.values).long().to(\"cuda:0\"), torch.tensor(to_test.conts.values).float().to(\"cuda:0\"))\n",
    "yhat = to_np(yhat)"
   ]
  },
  {
   "cell_type": "code",
   "execution_count": null,
   "metadata": {},
   "outputs": [],
   "source": [
    "yhat.shape"
   ]
  },
  {
   "cell_type": "code",
   "execution_count": null,
   "metadata": {},
   "outputs": [],
   "source": [
    "# sort to avoid quantile crissing\n",
    "yhat = np.sort(yhat, axis=1)"
   ]
  },
  {
   "cell_type": "code",
   "execution_count": null,
   "metadata": {},
   "outputs": [],
   "source": [
    "to_test.items"
   ]
  },
  {
   "cell_type": "code",
   "execution_count": null,
   "metadata": {},
   "outputs": [],
   "source": [
    "y = to_test.ys.values"
   ]
  },
  {
   "cell_type": "code",
   "execution_count": null,
   "metadata": {},
   "outputs": [],
   "source": [
    "y.shape"
   ]
  },
  {
   "cell_type": "code",
   "execution_count": null,
   "metadata": {},
   "outputs": [],
   "source": [
    "plt.figure(figsize=(16,9))\n",
    "start = 50\n",
    "end = start+24*3\n",
    "plt.plot(y[start:end], label=\"y\")\n",
    "for q_i in range(0, yhat.shape[1], 3):\n",
    "    plt.plot(yhat[start:end, q_i], alpha=0.1, c=\"black\")\n",
    "    \n",
    "plt.plot(yhat[start:end, len(quantiles)//2], alpha=0.75, c=\"red\", label=\"yhat_0.5\")\n",
    "# plt.ylim(-1,2)\n",
    "plt.legend()\n",
    "plt.show()"
   ]
  },
  {
   "cell_type": "code",
   "execution_count": null,
   "metadata": {},
   "outputs": [],
   "source": [
    "yhat.shape"
   ]
  },
  {
   "cell_type": "code",
   "execution_count": null,
   "metadata": {},
   "outputs": [],
   "source": [
    "crps_mean = ps.crps_ensemble(y.reshape(-1), yhat).mean()"
   ]
  },
  {
   "cell_type": "code",
   "execution_count": null,
   "metadata": {},
   "outputs": [],
   "source": [
    "crps_mean"
   ]
  },
  {
   "cell_type": "code",
   "execution_count": null,
   "metadata": {},
   "outputs": [],
   "source": [
    "crps_mean, crps_all = crps_for_quantiles(yhat, y.reshape(-1), quantiles=quantiles)\n",
    "crps_mean"
   ]
  },
  {
   "cell_type": "code",
   "execution_count": null,
   "metadata": {},
   "outputs": [],
   "source": [
    "start_id, end_id = 0,0\n",
    "crps_values = []\n",
    "for k,df in to_test.items.groupby(\"TaskID\"):\n",
    "    start_id = end_id\n",
    "    end_id = start_id + df.shape[0]\n",
    "    crps_mean, _ = crps_for_quantiles(yhat[start_id:end_id,:], y[start_id:end_id,:].reshape(-1), quantiles=quantiles)\n",
    "    crps_values.append(crps_mean)"
   ]
  },
  {
   "cell_type": "code",
   "execution_count": null,
   "metadata": {},
   "outputs": [],
   "source": [
    "sns.boxplot(crps_values)\n",
    "plt.title(\"CRPS values of all tasks.\")\n",
    "plt.show()"
   ]
  },
  {
   "cell_type": "code",
   "execution_count": null,
   "metadata": {},
   "outputs": [],
   "source": [
    "# dcor.energy_distance(y.reshape(-1), yhat)"
   ]
  }
 ],
 "metadata": {
  "kernelspec": {
   "display_name": "Python 3",
   "language": "python",
   "name": "python3"
  }
 },
 "nbformat": 4,
 "nbformat_minor": 4
}
