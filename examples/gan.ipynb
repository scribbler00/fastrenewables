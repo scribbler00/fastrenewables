{
 "cells": [
  {
   "cell_type": "code",
   "execution_count": 92,
   "id": "0874bda9",
   "metadata": {},
   "outputs": [],
   "source": [
    "\n",
    "from fastai.torch_basics import *\n",
    "from fastai.data.all import *\n",
    "from fastai.tabular.data import *\n",
    "from fastai.tabular.core import *\n",
    "from fastai.tabular.model import *\n",
    "from fastai.basics import *\n",
    "from fastrenewables.tabular.core import *\n",
    "from fastrenewables.tabular.data import *\n",
    "from fastrenewables.tabular.model import *\n",
    "from fastrenewables.utils import *\n",
    "from fastrenewables.gan.learner import *\n",
    "\n",
    "from fastrenewables.timeseries.core import *\n",
    "from fastrenewables.timeseries.data import *\n",
    "from fastrenewables.timeseries.model import *\n",
    "\n",
    "import matplotlib.pyplot as plt\n",
    "import seaborn as sns"
   ]
  },
  {
   "cell_type": "code",
   "execution_count": 2,
   "id": "d4daa4bc",
   "metadata": {},
   "outputs": [],
   "source": [
    "def get_dls(cat_names, cont_names):\n",
    "    pd.options.mode.chained_assignment=None\n",
    "    \n",
    "    dls = RenewableDataLoaders.from_files(glob.glob(\"../data/*.h5\"), \n",
    "                                          pre_procs=[FilterYear(year=2020)],\n",
    "                                          procs = [NormalizePerTask(norm_type=\"minmaxnorm\")],\n",
    "                                          cat_names=cat_names, cont_names=cont_names, y_names=cont_names)\n",
    "    return dls\n",
    "\n"
   ]
  },
  {
   "cell_type": "code",
   "execution_count": 3,
   "id": "7d4f0c5c",
   "metadata": {},
   "outputs": [],
   "source": [
    "cont_names = ['WindSpeed58m', 'PS_SFC_0_M',  \"PowerGeneration\"]\n",
    "cat_names = ['TaskID']"
   ]
  },
  {
   "cell_type": "code",
   "execution_count": 4,
   "id": "cf0cfab5",
   "metadata": {},
   "outputs": [],
   "source": [
    "dls = get_dls(cat_names, cont_names)"
   ]
  },
  {
   "cell_type": "code",
   "execution_count": 5,
   "id": "da431857",
   "metadata": {},
   "outputs": [],
   "source": [
    "n_cats = len(dls.train_ds.cats.TaskID.unique()) #len(cat_names)\n",
    "n_conts =  len(cont_names)"
   ]
  },
  {
   "cell_type": "code",
   "execution_count": 100,
   "id": "8feb98f9",
   "metadata": {},
   "outputs": [
    {
     "data": {
      "text/plain": [
       "EmbeddingModule(\n",
       "  (embeddings): ModuleList(\n",
       "    (0): Embedding(4, 3)\n",
       "  )\n",
       ")"
      ]
     },
     "execution_count": 100,
     "metadata": {},
     "output_type": "execute_result"
    }
   ],
   "source": [
    "emb_module = EmbeddingModule(categorical_dimensions=[n_cats+1])\n",
    "# emb_module = None\n",
    "emb_module"
   ]
  },
  {
   "cell_type": "code",
   "execution_count": 101,
   "id": "68e65e66",
   "metadata": {},
   "outputs": [],
   "source": [
    "n_samples = 1024\n",
    "n_classes = 2 # TODO is this n_cats for auxilary?\n",
    "n_features = n_conts\n",
    "# batch_size = 512\n",
    "n_z = 10\n",
    "n_in = n_features\n",
    "n_hidden = 256\n",
    "epochs = 50\n",
    "n_gen = 1\n",
    "n_dis = 1\n",
    "batch_norm = True"
   ]
  },
  {
   "cell_type": "code",
   "execution_count": 104,
   "id": "88fa207d",
   "metadata": {},
   "outputs": [],
   "source": [
    "structure = [n_z, n_hidden, n_hidden, n_hidden, n_in]"
   ]
  },
  {
   "cell_type": "code",
   "execution_count": 102,
   "id": "b5a4ca60",
   "metadata": {},
   "outputs": [],
   "source": [
    "model = get_gan_model(structure=structure, \n",
    "                      n_classes=n_classes, \n",
    "                      emb_module=emb_module, \n",
    "                      bn=batch_norm, \n",
    "                      gan_type='bce')"
   ]
  },
  {
   "cell_type": "code",
   "execution_count": 103,
   "id": "ddbd816b",
   "metadata": {},
   "outputs": [
    {
     "data": {
      "text/plain": [
       "GAN(\n",
       "  (generator): GANMLP(\n",
       "    (embedding_module): EmbeddingModule(\n",
       "      (embeddings): ModuleList(\n",
       "        (0): Embedding(4, 3)\n",
       "      )\n",
       "    )\n",
       "    (model): Sequential(\n",
       "      (0): Sequential(\n",
       "        (0): Linear(in_features=13, out_features=256, bias=True)\n",
       "        (1): BatchNorm1d(256, eps=1e-05, momentum=0.1, affine=True, track_running_stats=True)\n",
       "        (2): ReLU()\n",
       "      )\n",
       "      (1): Sequential(\n",
       "        (0): Linear(in_features=256, out_features=256, bias=True)\n",
       "        (1): BatchNorm1d(256, eps=1e-05, momentum=0.1, affine=True, track_running_stats=True)\n",
       "        (2): ReLU()\n",
       "      )\n",
       "      (2): Sequential(\n",
       "        (0): Linear(in_features=256, out_features=256, bias=True)\n",
       "        (1): BatchNorm1d(256, eps=1e-05, momentum=0.1, affine=True, track_running_stats=True)\n",
       "        (2): ReLU()\n",
       "      )\n",
       "      (3): Sequential(\n",
       "        (0): Linear(in_features=256, out_features=3, bias=True)\n",
       "      )\n",
       "      (4): Sigmoid()\n",
       "    )\n",
       "  )\n",
       "  (discriminator): GANMLP(\n",
       "    (embedding_module): EmbeddingModule(\n",
       "      (embeddings): ModuleList(\n",
       "        (0): Embedding(4, 3)\n",
       "      )\n",
       "    )\n",
       "    (model): Sequential(\n",
       "      (0): Sequential(\n",
       "        (0): Linear(in_features=6, out_features=256, bias=True)\n",
       "        (1): LeakyReLU(negative_slope=0.01)\n",
       "      )\n",
       "      (1): Sequential(\n",
       "        (0): Linear(in_features=256, out_features=256, bias=True)\n",
       "        (1): LeakyReLU(negative_slope=0.01)\n",
       "      )\n",
       "      (2): Sequential(\n",
       "        (0): Linear(in_features=256, out_features=256, bias=True)\n",
       "        (1): LeakyReLU(negative_slope=0.01)\n",
       "      )\n",
       "      (3): Sequential(\n",
       "        (0): Linear(in_features=256, out_features=1, bias=True)\n",
       "      )\n",
       "      (4): Sigmoid()\n",
       "    )\n",
       "  )\n",
       "  (bce_loss): BCELoss()\n",
       "  (auxiliary_loss_function): CrossEntropyLoss()\n",
       ")"
      ]
     },
     "execution_count": 103,
     "metadata": {},
     "output_type": "execute_result"
    }
   ],
   "source": [
    "model"
   ]
  },
  {
   "cell_type": "code",
   "execution_count": 9,
   "id": "be225e0d",
   "metadata": {},
   "outputs": [
    {
     "name": "stderr",
     "output_type": "stream",
     "text": [
      "100%|████████████████████████████████████████████████████████████████████████████████████████████████████████████████████████████████████████████████████████████████████████████████████████████████████████████████████████████████████████████████████████████████████████████████████████████████████████████████████████████████████████████████████████████████████████████████████████████████████████████████████████████████████████████████████████| 50/50 [03:23<00:00,  4.07s/it]\n"
     ]
    }
   ],
   "source": [
    "lr = 1e-4\n",
    "learner = GANLearner(gan=model, n_gen=n_gen, n_dis=n_dis)\n",
    "learner.fit(dls.train, epochs=epochs, lr=lr, plot_epochs=epochs, save_model=True)"
   ]
  },
  {
   "cell_type": "code",
   "execution_count": 18,
   "id": "c5114de4",
   "metadata": {},
   "outputs": [],
   "source": [
    "all_fakes_conts, all_cats = [], []"
   ]
  },
  {
   "cell_type": "code",
   "execution_count": 19,
   "id": "f20114f3",
   "metadata": {},
   "outputs": [],
   "source": [
    "for x_cat, x_cont, y in dls.valid:\n",
    "    x_fake = learner.generate_samples(x_cat, x_cont)\n",
    "    all_fakes_conts.append(x_fake)\n",
    "    all_cats.append(x_cat)"
   ]
  },
  {
   "cell_type": "code",
   "execution_count": 21,
   "id": "621a225e",
   "metadata": {},
   "outputs": [],
   "source": [
    "all_fakes_conts = torch.cat(all_fakes_conts)\n",
    "all_cats = torch.cat(all_cats)"
   ]
  },
  {
   "cell_type": "code",
   "execution_count": 91,
   "id": "7ccb7cb8",
   "metadata": {
    "scrolled": true
   },
   "outputs": [
    {
     "data": {
      "image/png": "[encoded data removed]",
      "text/plain": [
       "<Figure size 432x288 with 1 Axes>"
      ]
     },
     "metadata": {
      "needs_background": "light"
     },
     "output_type": "display_data"
    },
    {
     "data": {
      "image/png": "[encoded data removed]",
      "text/plain": [
       "<Figure size 432x288 with 1 Axes>"
      ]
     },
     "metadata": {
      "needs_background": "light"
     },
     "output_type": "display_data"
    },
    {
     "data": {
      "image/png": "[encoded data removed]",
      "text/plain": [
       "<Figure size 432x288 with 1 Axes>"
      ]
     },
     "metadata": {
      "needs_background": "light"
     },
     "output_type": "display_data"
    },
    {
     "data": {
      "image/png": "[encoded data removed]",
      "text/plain": [
       "<Figure size 432x288 with 1 Axes>"
      ]
     },
     "metadata": {
      "needs_background": "light"
     },
     "output_type": "display_data"
    },
    {
     "data": {
      "image/png": "[encoded data removed]",
      "text/plain": [
       "<Figure size 432x288 with 1 Axes>"
      ]
     },
     "metadata": {
      "needs_background": "light"
     },
     "output_type": "display_data"
    },
    {
     "data": {
      "image/png": "[encoded data removed]",
      "text/plain": [
       "<Figure size 432x288 with 1 Axes>"
      ]
     },
     "metadata": {
      "needs_background": "light"
     },
     "output_type": "display_data"
    },
    {
     "data": {
      "image/png": "[encoded data removed]",
      "text/plain": [
       "<Figure size 432x288 with 1 Axes>"
      ]
     },
     "metadata": {
      "needs_background": "light"
     },
     "output_type": "display_data"
    },
    {
     "data": {
      "image/png": "[encoded data removed]",
      "text/plain": [
       "<Figure size 432x288 with 1 Axes>"
      ]
     },
     "metadata": {
      "needs_background": "light"
     },
     "output_type": "display_data"
    },
    {
     "data": {
      "image/png": "[encoded data removed]",
      "text/plain": [
       "<Figure size 432x288 with 1 Axes>"
      ]
     },
     "metadata": {
      "needs_background": "light"
     },
     "output_type": "display_data"
    }
   ],
   "source": [
    "for tid in all_cats.unique():\n",
    "    mask = (dls.valid_ds.cats == float(tid)).values\n",
    "    ws = dls.valid_ds.conts.WindSpeed58m.values[mask.reshape(-1)]\n",
    "    power = dls.valid_ds.conts.PowerGeneration.values[mask.reshape(-1)]\n",
    "    plt.scatter(ws, power)\n",
    "    mask = all_cats == float(tid)\n",
    "    \n",
    "    ws_fake = all_fakes_conts[mask.reshape(-1),0]\n",
    "    power_fake = all_fakes_conts[mask.reshape(-1),-1]\n",
    "    plt.scatter(ws_fake,power_fake)\n",
    "    plt.show()\n",
    "    \n",
    "    n_bins = 25\n",
    "    stat_type = \"probability\"\n",
    "    stat_type = \"density\"\n",
    "    sns.histplot(ws, label=\"real\", stat=stat_type, bins=n_bins)\n",
    "    sns.histplot(ws_fake, label=\"fake\", alpha=0.4, color=\"grey\", stat=stat_type, bins=n_bins)\n",
    "    plt.title(\"ws\")\n",
    "    plt.legend()\n",
    "    plt.show()\n",
    "    \n",
    "    sns.histplot(power, label=\"real\", stat=stat_type, bins=n_bins)\n",
    "    sns.histplot(power_fake, label=\"fake\", alpha=0.4, color=\"grey\", stat=stat_type, bins=n_bins)\n",
    "    plt.title(\"power\")\n",
    "    plt.legend()\n",
    "    plt.show()"
   ]
  },
  {
   "cell_type": "code",
   "execution_count": 14,
   "id": "bde0b3d9",
   "metadata": {},
   "outputs": [
    {
     "data": {
      "text/plain": [
       "GAN(\n",
       "  (generator): GANMLP(\n",
       "    (model): Sequential(\n",
       "      (0): Sequential(\n",
       "        (0): Linear(in_features=10, out_features=256, bias=True)\n",
       "        (1): BatchNorm1d(256, eps=1e-05, momentum=0.1, affine=True, track_running_stats=True)\n",
       "        (2): ReLU()\n",
       "      )\n",
       "      (1): Sequential(\n",
       "        (0): Linear(in_features=256, out_features=256, bias=True)\n",
       "        (1): BatchNorm1d(256, eps=1e-05, momentum=0.1, affine=True, track_running_stats=True)\n",
       "        (2): ReLU()\n",
       "      )\n",
       "      (2): Sequential(\n",
       "        (0): Linear(in_features=256, out_features=256, bias=True)\n",
       "        (1): BatchNorm1d(256, eps=1e-05, momentum=0.1, affine=True, track_running_stats=True)\n",
       "        (2): ReLU()\n",
       "      )\n",
       "      (3): Sequential(\n",
       "        (0): Linear(in_features=256, out_features=3, bias=True)\n",
       "      )\n",
       "      (4): Sigmoid()\n",
       "    )\n",
       "  )\n",
       "  (discriminator): GANMLP(\n",
       "    (model): Sequential(\n",
       "      (0): Sequential(\n",
       "        (0): Linear(in_features=3, out_features=256, bias=True)\n",
       "        (1): LeakyReLU(negative_slope=0.01)\n",
       "      )\n",
       "      (1): Sequential(\n",
       "        (0): Linear(in_features=256, out_features=256, bias=True)\n",
       "        (1): LeakyReLU(negative_slope=0.01)\n",
       "      )\n",
       "      (2): Sequential(\n",
       "        (0): Linear(in_features=256, out_features=256, bias=True)\n",
       "        (1): LeakyReLU(negative_slope=0.01)\n",
       "      )\n",
       "      (3): Sequential(\n",
       "        (0): Linear(in_features=256, out_features=1, bias=True)\n",
       "      )\n",
       "      (4): Sigmoid()\n",
       "    )\n",
       "  )\n",
       "  (bce_loss): BCELoss()\n",
       "  (auxiliary_loss_function): CrossEntropyLoss()\n",
       ")"
      ]
     },
     "execution_count": 14,
     "metadata": {},
     "output_type": "execute_result"
    }
   ],
   "source": [
    "model"
   ]
  },
  {
   "cell_type": "code",
   "execution_count": 95,
   "id": "6b9bbece",
   "metadata": {},
   "outputs": [],
   "source": [
    "def get_dls_ts(cat_names, cont_names):\n",
    "    pd.options.mode.chained_assignment=None\n",
    "    \n",
    "    dls = RenewableTimeSeriesDataLoaders.from_files(glob.glob(\"../data/*.h5\"), \n",
    "                                          pre_procs=[FilterYear(year=2020), FilterInconsistentSamplesPerDay],\n",
    "                                          procs = [NormalizePerTask(norm_type=\"minmaxnorm\")],\n",
    "                                          cat_names=cat_names, cont_names=cont_names, y_names=cont_names)\n",
    "    return dls\n",
    "\n"
   ]
  },
  {
   "cell_type": "code",
   "execution_count": 96,
   "id": "3af8705e",
   "metadata": {},
   "outputs": [],
   "source": [
    "dls_ts = get_dls_ts(cat_names, cont_names)"
   ]
  },
  {
   "cell_type": "code",
   "execution_count": 98,
   "id": "12fb2a28",
   "metadata": {},
   "outputs": [],
   "source": [
    "emb_module = EmbeddingModule(categorical_dimensions=[n_cats+1])\n",
    "# emb_module = None\n",
    "emb_module"
   ]
  },
  {
   "cell_type": "code",
   "execution_count": 222,
   "id": "eff4f018",
   "metadata": {},
   "outputs": [],
   "source": [
    "n_hidden = 64\n",
    "n_z = 128\n",
    "structure = [n_z, 128, 64, 32, n_in]"
   ]
  },
  {
   "cell_type": "code",
   "execution_count": 223,
   "id": "2b3801d5",
   "metadata": {
    "scrolled": true
   },
   "outputs": [
    {
     "data": {
      "text/plain": [
       "TemporalCNN(\n",
       "  (embedding_module): EmbeddingModule(\n",
       "    (embeddings): ModuleList(\n",
       "      (0): Embedding(4, 3)\n",
       "    )\n",
       "  )\n",
       "  (layers): TemporalConvNet(\n",
       "    (temporal_blocks): Sequential(\n",
       "      (0): ResidualBlock(\n",
       "        (conv1): Conv1d(128, 128, kernel_size=(3,), stride=(1,), padding=(2,))\n",
       "        (chomp1): Chomp1d()\n",
       "        (act_func1): ReLU()\n",
       "        (dropout1): Dropout2d(p=0.0, inplace=False)\n",
       "        (conv2): Conv1d(128, 128, kernel_size=(3,), stride=(1,), padding=(2,))\n",
       "        (chomp2): Chomp1d()\n",
       "        (act_func2): ReLU()\n",
       "        (dropout2): Dropout2d(p=0.0, inplace=False)\n",
       "        (net): Sequential(\n",
       "          (0): Conv1d(128, 128, kernel_size=(3,), stride=(1,), padding=(2,))\n",
       "          (1): Chomp1d()\n",
       "          (2): ReLU()\n",
       "          (3): Dropout2d(p=0.0, inplace=False)\n",
       "          (4): Conv1d(128, 128, kernel_size=(3,), stride=(1,), padding=(2,))\n",
       "          (5): Chomp1d()\n",
       "          (6): ReLU()\n",
       "          (7): Dropout2d(p=0.0, inplace=False)\n",
       "        )\n",
       "        (act_func3): ReLU()\n",
       "        (embedding_transform): Conv1d(3, 128, kernel_size=(1,), stride=(1,))\n",
       "      )\n",
       "      (1): ResidualBlock(\n",
       "        (conv1): Conv1d(128, 64, kernel_size=(3,), stride=(1,), padding=(4,), dilation=(2,))\n",
       "        (chomp1): Chomp1d()\n",
       "        (act_func1): ReLU()\n",
       "        (dropout1): Dropout2d(p=0.0, inplace=False)\n",
       "        (conv2): Conv1d(64, 64, kernel_size=(3,), stride=(1,), padding=(4,), dilation=(2,))\n",
       "        (chomp2): Chomp1d()\n",
       "        (act_func2): ReLU()\n",
       "        (dropout2): Dropout2d(p=0.0, inplace=False)\n",
       "        (net): Sequential(\n",
       "          (0): Conv1d(128, 64, kernel_size=(3,), stride=(1,), padding=(4,), dilation=(2,))\n",
       "          (1): Chomp1d()\n",
       "          (2): ReLU()\n",
       "          (3): Dropout2d(p=0.0, inplace=False)\n",
       "          (4): Conv1d(64, 64, kernel_size=(3,), stride=(1,), padding=(4,), dilation=(2,))\n",
       "          (5): Chomp1d()\n",
       "          (6): ReLU()\n",
       "          (7): Dropout2d(p=0.0, inplace=False)\n",
       "        )\n",
       "        (downsample): Conv1d(128, 64, kernel_size=(1,), stride=(1,))\n",
       "        (act_func3): ReLU()\n",
       "        (embedding_transform): Conv1d(3, 64, kernel_size=(1,), stride=(1,))\n",
       "      )\n",
       "      (2): ResidualBlock(\n",
       "        (conv1): Conv1d(64, 32, kernel_size=(3,), stride=(1,), padding=(8,), dilation=(4,))\n",
       "        (chomp1): Chomp1d()\n",
       "        (act_func1): ReLU()\n",
       "        (dropout1): Dropout2d(p=0.0, inplace=False)\n",
       "        (conv2): Conv1d(32, 32, kernel_size=(3,), stride=(1,), padding=(8,), dilation=(4,))\n",
       "        (chomp2): Chomp1d()\n",
       "        (act_func2): ReLU()\n",
       "        (dropout2): Dropout2d(p=0.0, inplace=False)\n",
       "        (net): Sequential(\n",
       "          (0): Conv1d(64, 32, kernel_size=(3,), stride=(1,), padding=(8,), dilation=(4,))\n",
       "          (1): Chomp1d()\n",
       "          (2): ReLU()\n",
       "          (3): Dropout2d(p=0.0, inplace=False)\n",
       "          (4): Conv1d(32, 32, kernel_size=(3,), stride=(1,), padding=(8,), dilation=(4,))\n",
       "          (5): Chomp1d()\n",
       "          (6): ReLU()\n",
       "          (7): Dropout2d(p=0.0, inplace=False)\n",
       "        )\n",
       "        (downsample): Conv1d(64, 32, kernel_size=(1,), stride=(1,))\n",
       "        (act_func3): ReLU()\n",
       "        (embedding_transform): Conv1d(3, 32, kernel_size=(1,), stride=(1,))\n",
       "      )\n",
       "      (3): ResidualBlock(\n",
       "        (conv1): Conv1d(32, 3, kernel_size=(3,), stride=(1,), padding=(16,), dilation=(8,))\n",
       "        (chomp1): Chomp1d()\n",
       "        (act_func1): Sigmoid()\n",
       "        (dropout1): Dropout2d(p=0.0, inplace=False)\n",
       "        (conv2): Conv1d(3, 3, kernel_size=(3,), stride=(1,), padding=(16,), dilation=(8,))\n",
       "        (chomp2): Chomp1d()\n",
       "        (act_func2): Sigmoid()\n",
       "        (dropout2): Dropout2d(p=0.0, inplace=False)\n",
       "        (net): Sequential(\n",
       "          (0): Conv1d(32, 3, kernel_size=(3,), stride=(1,), padding=(16,), dilation=(8,))\n",
       "          (1): Chomp1d()\n",
       "          (2): Sigmoid()\n",
       "          (3): Dropout2d(p=0.0, inplace=False)\n",
       "          (4): Conv1d(3, 3, kernel_size=(3,), stride=(1,), padding=(16,), dilation=(8,))\n",
       "          (5): Chomp1d()\n",
       "          (6): Sigmoid()\n",
       "          (7): Dropout2d(p=0.0, inplace=False)\n",
       "        )\n",
       "        (downsample): Conv1d(32, 3, kernel_size=(1,), stride=(1,))\n",
       "        (act_func3): Sigmoid()\n",
       "      )\n",
       "    )\n",
       "  )\n",
       ")"
      ]
     },
     "execution_count": 223,
     "metadata": {},
     "output_type": "execute_result"
    }
   ],
   "source": [
    "generator = TemporalCNN(cnn_structure=structure, batch_norm_cont=False, \n",
    "                                   cnn_type='tcn', \n",
    "                                   final_activation=nn.Sigmoid,\n",
    "                                   embedding_module=emb_module, \n",
    "                                   add_embedding_at_layer=[idx for idx in range(len(structure)-2)],\n",
    "                       )\n",
    "generator"
   ]
  },
  {
   "cell_type": "code",
   "execution_count": 224,
   "id": "a3ae1488",
   "metadata": {
    "scrolled": true
   },
   "outputs": [
    {
     "data": {
      "text/plain": [
       "TemporalCNN(\n",
       "  (embedding_module): EmbeddingModule(\n",
       "    (embeddings): ModuleList(\n",
       "      (0): Embedding(4, 3)\n",
       "    )\n",
       "  )\n",
       "  (layers): TemporalConvNet(\n",
       "    (temporal_blocks): Sequential(\n",
       "      (0): ResidualBlock(\n",
       "        (conv1): Conv1d(3, 32, kernel_size=(3,), stride=(1,), padding=(2,))\n",
       "        (chomp1): Chomp1d()\n",
       "        (act_func1): ReLU()\n",
       "        (dropout1): Dropout2d(p=0.0, inplace=False)\n",
       "        (conv2): Conv1d(32, 32, kernel_size=(3,), stride=(1,), padding=(2,))\n",
       "        (chomp2): Chomp1d()\n",
       "        (act_func2): ReLU()\n",
       "        (dropout2): Dropout2d(p=0.0, inplace=False)\n",
       "        (net): Sequential(\n",
       "          (0): Conv1d(3, 32, kernel_size=(3,), stride=(1,), padding=(2,))\n",
       "          (1): Chomp1d()\n",
       "          (2): ReLU()\n",
       "          (3): Dropout2d(p=0.0, inplace=False)\n",
       "          (4): Conv1d(32, 32, kernel_size=(3,), stride=(1,), padding=(2,))\n",
       "          (5): Chomp1d()\n",
       "          (6): ReLU()\n",
       "          (7): Dropout2d(p=0.0, inplace=False)\n",
       "        )\n",
       "        (downsample): Conv1d(3, 32, kernel_size=(1,), stride=(1,))\n",
       "        (act_func3): ReLU()\n",
       "        (embedding_transform): Conv1d(3, 32, kernel_size=(1,), stride=(1,))\n",
       "      )\n",
       "      (1): ResidualBlock(\n",
       "        (conv1): Conv1d(32, 64, kernel_size=(3,), stride=(1,), padding=(4,), dilation=(2,))\n",
       "        (chomp1): Chomp1d()\n",
       "        (act_func1): ReLU()\n",
       "        (dropout1): Dropout2d(p=0.0, inplace=False)\n",
       "        (conv2): Conv1d(64, 64, kernel_size=(3,), stride=(1,), padding=(4,), dilation=(2,))\n",
       "        (chomp2): Chomp1d()\n",
       "        (act_func2): ReLU()\n",
       "        (dropout2): Dropout2d(p=0.0, inplace=False)\n",
       "        (net): Sequential(\n",
       "          (0): Conv1d(32, 64, kernel_size=(3,), stride=(1,), padding=(4,), dilation=(2,))\n",
       "          (1): Chomp1d()\n",
       "          (2): ReLU()\n",
       "          (3): Dropout2d(p=0.0, inplace=False)\n",
       "          (4): Conv1d(64, 64, kernel_size=(3,), stride=(1,), padding=(4,), dilation=(2,))\n",
       "          (5): Chomp1d()\n",
       "          (6): ReLU()\n",
       "          (7): Dropout2d(p=0.0, inplace=False)\n",
       "        )\n",
       "        (downsample): Conv1d(32, 64, kernel_size=(1,), stride=(1,))\n",
       "        (act_func3): ReLU()\n",
       "        (embedding_transform): Conv1d(3, 64, kernel_size=(1,), stride=(1,))\n",
       "      )\n",
       "      (2): ResidualBlock(\n",
       "        (conv1): Conv1d(64, 128, kernel_size=(3,), stride=(1,), padding=(8,), dilation=(4,))\n",
       "        (chomp1): Chomp1d()\n",
       "        (act_func1): ReLU()\n",
       "        (dropout1): Dropout2d(p=0.0, inplace=False)\n",
       "        (conv2): Conv1d(128, 128, kernel_size=(3,), stride=(1,), padding=(8,), dilation=(4,))\n",
       "        (chomp2): Chomp1d()\n",
       "        (act_func2): ReLU()\n",
       "        (dropout2): Dropout2d(p=0.0, inplace=False)\n",
       "        (net): Sequential(\n",
       "          (0): Conv1d(64, 128, kernel_size=(3,), stride=(1,), padding=(8,), dilation=(4,))\n",
       "          (1): Chomp1d()\n",
       "          (2): ReLU()\n",
       "          (3): Dropout2d(p=0.0, inplace=False)\n",
       "          (4): Conv1d(128, 128, kernel_size=(3,), stride=(1,), padding=(8,), dilation=(4,))\n",
       "          (5): Chomp1d()\n",
       "          (6): ReLU()\n",
       "          (7): Dropout2d(p=0.0, inplace=False)\n",
       "        )\n",
       "        (downsample): Conv1d(64, 128, kernel_size=(1,), stride=(1,))\n",
       "        (act_func3): ReLU()\n",
       "        (embedding_transform): Conv1d(3, 128, kernel_size=(1,), stride=(1,))\n",
       "      )\n",
       "      (3): ResidualBlock(\n",
       "        (conv1): Conv1d(128, 1, kernel_size=(3,), stride=(1,), padding=(16,), dilation=(8,))\n",
       "        (chomp1): Chomp1d()\n",
       "        (act_func1): Sigmoid()\n",
       "        (dropout1): Dropout2d(p=0.0, inplace=False)\n",
       "        (conv2): Conv1d(1, 1, kernel_size=(3,), stride=(1,), padding=(16,), dilation=(8,))\n",
       "        (chomp2): Chomp1d()\n",
       "        (act_func2): Sigmoid()\n",
       "        (dropout2): Dropout2d(p=0.0, inplace=False)\n",
       "        (net): Sequential(\n",
       "          (0): Conv1d(128, 1, kernel_size=(3,), stride=(1,), padding=(16,), dilation=(8,))\n",
       "          (1): Chomp1d()\n",
       "          (2): Sigmoid()\n",
       "          (3): Dropout2d(p=0.0, inplace=False)\n",
       "          (4): Conv1d(1, 1, kernel_size=(3,), stride=(1,), padding=(16,), dilation=(8,))\n",
       "          (5): Chomp1d()\n",
       "          (6): Sigmoid()\n",
       "          (7): Dropout2d(p=0.0, inplace=False)\n",
       "        )\n",
       "        (downsample): Conv1d(128, 1, kernel_size=(1,), stride=(1,))\n",
       "        (act_func3): Sigmoid()\n",
       "      )\n",
       "    )\n",
       "  )\n",
       ")"
      ]
     },
     "execution_count": 224,
     "metadata": {},
     "output_type": "execute_result"
    }
   ],
   "source": [
    "dis_structure = structure[::-1]\n",
    "dis_structure[-1] = 1\n",
    "discriminator = TemporalCNN(cnn_structure=dis_structure, batch_norm_cont=False, \n",
    "                                   cnn_type='tcn', \n",
    "                                   final_activation=nn.Sigmoid,\n",
    "                                   embedding_module=emb_module, \n",
    "                                   add_embedding_at_layer=[idx for idx in range(len(dis_structure)-2)],\n",
    "                       )\n",
    "discriminator"
   ]
  },
  {
   "cell_type": "code",
   "execution_count": 225,
   "id": "c583e15c",
   "metadata": {},
   "outputs": [],
   "source": [
    "gan_class = GAN\n",
    "opt_fct = torch.optim.Adam\n",
    "auxiliary=False\n",
    "aux_factor=0.0\n",
    "label_noise=0\n",
    "label_bias=0\n",
    "\n",
    "gen_opt = opt_fct(params=generator.parameters())\n",
    "dis_opt = opt_fct(params=discriminator.parameters())\n",
    "model = gan_class(generator=generator, discriminator=discriminator, gen_optim=gen_opt, dis_optim=dis_opt, n_z=n_z, \\\n",
    "                  auxiliary=auxiliary, auxiliary_weighting_factor=aux_factor, \\\n",
    "                  label_noise=label_noise, label_bias=label_bias)"
   ]
  },
  {
   "cell_type": "code",
   "execution_count": null,
   "id": "454f78f6",
   "metadata": {},
   "outputs": [
    {
     "name": "stderr",
     "output_type": "stream",
     "text": [
      "  4%|█████████████████▋                                                                                                                                                                                                                                                                                                                                                                                                                                       | 2/50 [00:03<01:12,  1.51s/it]"
     ]
    }
   ],
   "source": [
    "lr = 1e-4\n",
    "epochs = 50\n",
    "learner = GANLearner(gan=model, n_gen=n_gen, n_dis=n_dis)\n",
    "learner.fit(dls_ts.train, epochs=epochs, lr=lr, plot_epochs=epochs, save_model=True)"
   ]
  },
  {
   "cell_type": "code",
   "execution_count": null,
   "id": "014d8f01",
   "metadata": {},
   "outputs": [],
   "source": [
    "all_fakes_conts, all_cats = [], []\n",
    "for x_cat, x_cont, y in dls_ts.valid:\n",
    "    x_fake = learner.generate_samples(x_cat, x_cont)\n",
    "    all_fakes_conts.append(x_fake)\n",
    "    all_cats.append(x_cat)\n",
    "    \n",
    "all_fakes_conts = torch.cat(all_fakes_conts)\n",
    "all_cats = torch.cat(all_cats)"
   ]
  },
  {
   "cell_type": "code",
   "execution_count": null,
   "id": "0fe436ad",
   "metadata": {},
   "outputs": [],
   "source": [
    "all_fakes_conts.shape, all_cats.shape"
   ]
  },
  {
   "cell_type": "code",
   "execution_count": null,
   "id": "cf260c09",
   "metadata": {
    "scrolled": false
   },
   "outputs": [],
   "source": [
    "for tid in all_cats.unique():\n",
    "    mask = (dls.valid_ds.cats == float(tid)).values\n",
    "    ws = dls.valid_ds.conts.WindSpeed58m.values[mask.reshape(-1)]\n",
    "    power = dls.valid_ds.conts.PowerGeneration.values[mask.reshape(-1)]\n",
    "    plt.scatter(ws, power)\n",
    "    \n",
    "    \n",
    "    mask = flatten_ts(all_cats) == float(tid)\n",
    "    ws_fake = flatten_ts(all_fakes_conts)[mask.reshape(-1),0]\n",
    "    power_fake = flatten_ts(all_fakes_conts)[mask.reshape(-1),-1]\n",
    "    plt.scatter(ws_fake,power_fake)\n",
    "    plt.show()\n",
    "    \n",
    "    n_bins = 25\n",
    "    stat_type = \"probability\"\n",
    "    stat_type = \"density\"\n",
    "    sns.histplot(ws, label=\"real\", stat=stat_type, bins=n_bins)\n",
    "    sns.histplot(ws_fake, label=\"fake\", alpha=0.4, color=\"grey\", stat=stat_type, bins=n_bins)\n",
    "    plt.title(\"ws\")\n",
    "    plt.legend()\n",
    "    plt.show()\n",
    "    \n",
    "    sns.histplot(power, label=\"real\", stat=stat_type, bins=n_bins)\n",
    "    sns.histplot(power_fake, label=\"fake\", alpha=0.4, color=\"grey\", stat=stat_type, bins=n_bins)\n",
    "    plt.title(\"power\")\n",
    "    plt.legend()\n",
    "    plt.show()"
   ]
  },
  {
   "cell_type": "code",
   "execution_count": null,
   "id": "cafafa19",
   "metadata": {},
   "outputs": [],
   "source": [
    "import statsmodels.api as sm\n",
    "from statsmodels.graphics.tsaplots import plot_acf"
   ]
  },
  {
   "cell_type": "code",
   "execution_count": null,
   "id": "683cb6cb",
   "metadata": {},
   "outputs": [],
   "source": [
    "plot_acf(dls.valid_ds.conts.sort_index().PowerGeneration, lags=24)\n",
    "plt.show()"
   ]
  },
  {
   "cell_type": "code",
   "execution_count": null,
   "id": "634b7562",
   "metadata": {},
   "outputs": [],
   "source": [
    "plot_acf(dls.valid_ds.conts.sort_index().WindSpeed58m, lags=24)\n",
    "plt.show()"
   ]
  },
  {
   "cell_type": "code",
   "execution_count": null,
   "id": "73d2231b",
   "metadata": {},
   "outputs": [],
   "source": [
    "plot_acf(all_fakes_conts[:,0,:].reshape(-1), lags=24)\n",
    "plt.show()"
   ]
  },
  {
   "cell_type": "code",
   "execution_count": null,
   "id": "64348ede",
   "metadata": {},
   "outputs": [],
   "source": [
    "plot_acf(all_fakes_conts[:,2,:].reshape(-1), lags=24)\n",
    "plt.show()"
   ]
  },
  {
   "cell_type": "code",
   "execution_count": null,
   "id": "127c7ceb",
   "metadata": {},
   "outputs": [],
   "source": []
  }
 ],
 "metadata": {
  "kernelspec": {
   "display_name": "Python 3 (ipykernel)",
   "language": "python",
   "name": "python3"
  },
  "language_info": {
   "codemirror_mode": {
    "name": "ipython",
    "version": 3
   },
   "file_extension": ".py",
   "mimetype": "text/x-python",
   "name": "python",
   "nbconvert_exporter": "python",
   "pygments_lexer": "ipython3",
   "version": "3.8.10"
  }
 },
 "nbformat": 4,
 "nbformat_minor": 5
}
