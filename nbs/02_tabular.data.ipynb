{
 "cells": [
  {
   "cell_type": "code",
   "execution_count": 1,
   "metadata": {},
   "outputs": [],
   "source": [
    "# default_exp tabular.data"
   ]
  },
  {
   "cell_type": "markdown",
   "metadata": {},
   "source": [
    "# tabular.data\n",
    "\n",
    "> API details."
   ]
  },
  {
   "cell_type": "code",
   "execution_count": 2,
   "metadata": {},
   "outputs": [],
   "source": [
    "#export\n",
    "from fastai.torch_basics import *\n",
    "from fastai.data.all import *\n",
    "from fastai.tabular.data import *\n",
    "from fastai.tabular.core import *\n",
    "from fastrenewables.tabular.core import *\n",
    "import glob"
   ]
  },
  {
   "cell_type": "code",
   "execution_count": 3,
   "metadata": {},
   "outputs": [],
   "source": [
    "#hide\n",
    "from nbdev.showdoc import *"
   ]
  },
  {
   "cell_type": "code",
   "execution_count": 4,
   "metadata": {},
   "outputs": [],
   "source": [
    "#export\n",
    "class RenewableDataLoaders(DataLoaders):\n",
    "    \"A dataloader for `fastrenewables` tabular data.\"\n",
    "    @classmethod\n",
    "    @delegates(Tabular.dataloaders, but=[\"dl_type\", \"dl_kwargs\"])\n",
    "    def from_df(cls, df, path='.', procs=None, pre_procs=None, cat_names=None, cont_names=None, y_names=None, y_block=None,\n",
    "                splits=None, **kwargs):\n",
    "        \n",
    "        \"Create from `df` in `path` using `procs`\"\n",
    "        if cat_names is None: cat_names = []\n",
    "        if cont_names is None: cont_names = list(set(df)-set(L(cat_names))-set(L(y_names)))\n",
    "        \n",
    "        if pre_procs is None: pre_procs = [\n",
    "            CreateTimeStampIndex(\"TimeUTC\"),\n",
    "                AddSeasonalFeatures,\n",
    "            ]\n",
    "        if procs is None:\n",
    "            procs = [\n",
    "                NormalizePerTask, \n",
    "                    Categorify]\n",
    "        \n",
    "        y_block = RegressionBlock()\n",
    "        if \"y_block\" in list(kwargs.keys()):\n",
    "            y_block = kwargs[\"y_block\"]\n",
    "            \n",
    "        splits = RandomSplitter(valid_pct=0.2) if splits is None else splits\n",
    "        to = TabularRenewables(\n",
    "            df,\n",
    "            cont_names=cont_names,\n",
    "            cat_names=cat_names,\n",
    "            y_names=y_names,\n",
    "            pre_process=pre_procs,\n",
    "            procs=procs,\n",
    "            splits=splits,\n",
    "            y_block=y_block\n",
    "        )\n",
    "        \n",
    "\n",
    "        return to.dataloaders(path=path, **kwargs)\n",
    "\n",
    "    \n",
    "    @classmethod\n",
    "    def from_files(cls, files, **kwargs):\n",
    "        dfs = read_files(files)\n",
    "        \n",
    "        dfs = pd.concat(dfs, axis=0)\n",
    "#         if \"cat_names\" in kwargs.keys():\n",
    "#             kwargs[\"cat_names\"] = kwargs[\"cat_names\"] if \"TaskID\" in kwargs[\"cat_names\"] else kwargs[\"cat_names\"] + [\"TaskID\"]\n",
    "#         else:\n",
    "#             kwargs[\"cat_names\"] = [\"TaskID\"]\n",
    "        \n",
    "        return cls.from_df(dfs, **kwargs)"
   ]
  },
  {
   "cell_type": "code",
   "execution_count": 5,
   "metadata": {},
   "outputs": [
    {
     "data": {
      "text/plain": [
       "3"
      ]
     },
     "execution_count": 5,
     "metadata": {},
     "output_type": "execute_result"
    }
   ],
   "source": [
    "files = glob.glob(\"../data/*.h5\"); len(files)"
   ]
  },
  {
   "cell_type": "code",
   "execution_count": 6,
   "metadata": {},
   "outputs": [
    {
     "data": {
      "text/plain": [
       "['../data/00011.h5', '../data/00161.h5', '../data/00090.h5']"
      ]
     },
     "execution_count": 6,
     "metadata": {},
     "output_type": "execute_result"
    }
   ],
   "source": [
    "files"
   ]
  },
  {
   "cell_type": "code",
   "execution_count": 7,
   "metadata": {},
   "outputs": [],
   "source": [
    "cont_names = ['T_HAG_2_M', 'RELHUM_HAG_2_M', 'PS_SFC_0_M', 'ASWDIFDS_SFC_0_M',\n",
    "       'ASWDIRS_SFC_0_M', 'WindSpeed58m',\n",
    "       'SinWindDirection58m', 'CosWindDirection58m', 'WindSpeed60m',\n",
    "       'SinWindDirection60m', 'CosWindDirection60m', 'WindSpeed58mMinus_t_1',\n",
    "       'SinWindDirection58mMinus_t_1', 'CosWindDirection58mMinus_t_1',\n",
    "       'WindSpeed60mMinus_t_1', 'SinWindDirection60mMinus_t_1',\n",
    "       'CosWindDirection60mMinus_t_1', 'WindSpeed58mPlus_t_1',\n",
    "       'SinWindDirection58mPlus_t_1', 'CosWindDirection58mPlus_t_1',\n",
    "       'WindSpeed60mPlus_t_1', 'SinWindDirection60mPlus_t_1',\n",
    "       'CosWindDirection60mPlus_t_1']\n",
    "cat_names = ['TaskID', 'Month', 'Day', 'Hour']"
   ]
  },
  {
   "cell_type": "code",
   "execution_count": 8,
   "metadata": {},
   "outputs": [],
   "source": [
    "pd.options.mode.chained_assignment=None\n",
    "dls = RenewableDataLoaders.from_files(glob.glob(\"../data/*.h5\"), y_names=\"PowerGeneration\", \n",
    "                                      pre_procs=[FilterYear(year=2020), \n",
    "                                                 AddSeasonalFeatures(as_cont=False)], \n",
    "                                      cat_names=cat_names, cont_names=cont_names)"
   ]
  },
  {
   "cell_type": "code",
   "execution_count": 9,
   "metadata": {},
   "outputs": [],
   "source": [
    "cat,X, y = dls.one_batch()"
   ]
  },
  {
   "cell_type": "code",
   "execution_count": 10,
   "metadata": {},
   "outputs": [
    {
     "data": {
      "text/plain": [
       "(torch.Size([64, 4]), torch.Size([64, 23]), torch.Size([64, 1]))"
      ]
     },
     "execution_count": 10,
     "metadata": {},
     "output_type": "execute_result"
    }
   ],
   "source": [
    "cat.shape, X.shape, y.shape"
   ]
  },
  {
   "cell_type": "code",
   "execution_count": 11,
   "metadata": {},
   "outputs": [
    {
     "data": {
      "text/plain": [
       "Timestamp('2019-12-31 23:00:00+0000', tz='UTC')"
      ]
     },
     "execution_count": 11,
     "metadata": {},
     "output_type": "execute_result"
    }
   ],
   "source": [
    "dls.train_ds.items.index.max()"
   ]
  },
  {
   "cell_type": "code",
   "execution_count": 12,
   "metadata": {},
   "outputs": [
    {
     "name": "stdout",
     "output_type": "stream",
     "text": [
      "Converted 00a_utils.ipynb.\n",
      "Converted 00b_losses.ipynb.\n",
      "Converted 00c_utils_blitz.ipynb.\n",
      "Converted 00d_baselines.ipynb.\n",
      "Converted 00e_metrics.ipynb.\n",
      "Converted 00f_utils_pytorch.ipynb.\n",
      "Converted 01_tabular.core.ipynb.\n",
      "Converted 02_tabular.data.ipynb.\n",
      "Converted 03_tabular.model.ipynb.\n",
      "Converted 04_tabular.learner.ipynb.\n",
      "Converted 05_timeseries.core.ipynb.\n",
      "Converted 06_timeseries.data.ipynb.\n",
      "Converted 07_timeseries.model.ipynb.\n",
      "Converted 08_timeseries.learner.ipynb.\n",
      "Converted 09_gan.core.ipynb.\n",
      "Converted 10_gan.model.ipynb.\n",
      "Converted 11_gan.learner.ipynb.\n",
      "Converted 12_autoencoder_models.ipynb.\n",
      "Converted 13_probabilistic_models.ipynb.\n",
      "Converted index.ipynb.\n"
     ]
    }
   ],
   "source": [
    "#hide\n",
    "from nbdev.export import notebook2script\n",
    "notebook2script()"
   ]
  }
 ],
 "metadata": {
  "kernelspec": {
   "display_name": "Python 3",
   "language": "python",
   "name": "python3"
  },
  "language_info": {
   "codemirror_mode": {
    "name": "ipython",
    "version": 3
   },
   "file_extension": ".py",
   "mimetype": "text/x-python",
   "name": "python",
   "nbconvert_exporter": "python",
   "pygments_lexer": "ipython3",
   "version": "3.8.8"
  }
 },
 "nbformat": 4,
 "nbformat_minor": 4
}
