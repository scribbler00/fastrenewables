{
 "cells": [
  {
   "cell_type": "code",
   "execution_count": null,
   "metadata": {},
   "outputs": [],
   "source": [
    "# default_exp timeseries.learner"
   ]
  },
  {
   "cell_type": "markdown",
   "metadata": {},
   "source": [
    "# timeseries.learner\n",
    "\n",
    "> API details."
   ]
  },
  {
   "cell_type": "code",
   "execution_count": null,
   "metadata": {},
   "outputs": [],
   "source": [
    "#hide\n",
    "%load_ext autoreload\n",
    "%autoreload 2"
   ]
  },
  {
   "cell_type": "code",
   "execution_count": null,
   "metadata": {},
   "outputs": [],
   "source": [
    "#export\n",
    "from fastai.torch_basics import *\n",
    "from fastai.data.all import *\n",
    "from fastai.tabular.data import *\n",
    "from fastai.tabular.core import *\n",
    "from fastai.tabular.model import *\n",
    "from fastai.basics import *\n",
    "from fastrenewables.tabular.core import *\n",
    "from fastrenewables.tabular.model import *\n",
    "from fastrenewables.timeseries.core import *\n",
    "from fastrenewables.timeseries.data import *\n",
    "from fastrenewables.timeseries.model import *\n",
    "from fastrenewables.losses import VILoss\n",
    "import pandas as pd"
   ]
  },
  {
   "cell_type": "code",
   "execution_count": null,
   "metadata": {},
   "outputs": [],
   "source": [
    "#hide\n",
    "from nbdev.showdoc import *"
   ]
  },
  {
   "cell_type": "code",
   "execution_count": null,
   "metadata": {},
   "outputs": [],
   "source": [
    "#export\n",
    "class RenewableTimeseriesLearner(Learner):\n",
    "    \"`Learner` for renewable timerseries data.\"\n",
    "    def predict(self, ds_idx=1, test_dl=None, filter=True, as_df=False):\n",
    "        device = next(self.model.parameters()).device\n",
    "        preds, targets = None, None\n",
    "        if test_dl is not None:\n",
    "            to = test_dl.train_ds\n",
    "        elif ds_idx == 0:\n",
    "            to = self.dls.train_ds\n",
    "        elif ds_idx == 1:\n",
    "            to = self.dls.valid_ds\n",
    "            \n",
    "        # to increase speed we direclty predict on all tensors   \n",
    "        if isinstance(to, (TimeseriesDataset)):\n",
    "            with torch.no_grad():\n",
    "                preds = self.model(to.cats.to(device), to.conts.to(device))\n",
    "\n",
    "            preds, targets = to_np(preds).reshape(-1), to_np(to.ys).reshape(-1)\n",
    "            if filter:\n",
    "                preds[preds < 0] = 0\n",
    "                preds[preds > 1.1] = 1.1\n",
    "        else:\n",
    "            raise NotImplementedError(\"Unknown type\")\n",
    "        \n",
    "        if as_df:\n",
    "            return pd.DataFrame({\"Prediction\": preds, \"Target\":targets}, index=to.indexes.reshape(-1))\n",
    "        else:\n",
    "            return preds, targets"
   ]
  },
  {
   "cell_type": "code",
   "execution_count": null,
   "metadata": {},
   "outputs": [
    {
     "data": {
      "text/markdown": [
       "<h3 id=\"RenewableTimeseriesLearner\" class=\"doc_header\"><code>class</code> <code>RenewableTimeseriesLearner</code><a href=\"\" class=\"source_link\" style=\"float:right\">[source]</a></h3>\n",
       "\n",
       "> <code>RenewableTimeseriesLearner</code>(**`dls`**, **`model`**, **`loss_func`**=*`None`*, **`opt_func`**=*`Adam`*, **`lr`**=*`0.001`*, **`splitter`**=*`trainable_params`*, **`cbs`**=*`None`*, **`metrics`**=*`None`*, **`path`**=*`None`*, **`model_dir`**=*`'models'`*, **`wd`**=*`None`*, **`wd_bn_bias`**=*`False`*, **`train_bn`**=*`True`*, **`moms`**=*`(0.95, 0.85, 0.95)`*) :: `Learner`\n",
       "\n",
       "`Learner` for renewable data"
      ],
      "text/plain": [
       "<IPython.core.display.Markdown object>"
      ]
     },
     "metadata": {},
     "output_type": "display_data"
    }
   ],
   "source": [
    "show_doc(RenewableTimeseriesLearner, title_level=3)"
   ]
  },
  {
   "cell_type": "code",
   "execution_count": null,
   "metadata": {},
   "outputs": [],
   "source": [
    "def get_dls():\n",
    "#     cat_names = ['TaskID', 'Month', 'Day', 'Hour']\n",
    "    cat_names = ['TaskID', 'Day', 'Hour']\n",
    "    cont_names = ['T_HAG_2_M', 'RELHUM_HAG_2_M', 'PS_SFC_0_M', 'ASWDIFDS_SFC_0_M',\n",
    "           'ASWDIRS_SFC_0_M', 'WindSpeed58m']\n",
    "    y_names=\"PowerGeneration\"\n",
    "#     y_names=\"Month\"\n",
    "    \n",
    "    pd.options.mode.chained_assignment=None\n",
    "    \n",
    "    dls = RenewableTimeSeriesDataLoaders.from_files(glob.glob(\"../data/*.h5\"), \n",
    "                                                    y_names=y_names, \n",
    "                                                    cat_names=cat_names, \n",
    "                                                    cont_names=cont_names,\n",
    "                                      pre_procs=[FilterYear(year=2020), \n",
    "                                                 AddSeasonalFeatures(as_cont=False),\n",
    "                                                 FilterInconsistentSamplesPerDay], \n",
    "                                      procs=Categorify, \n",
    "                                      bs=13,\n",
    "                                      y_block=RegressionBlock())\n",
    "    return dls\n",
    "\n"
   ]
  },
  {
   "cell_type": "code",
   "execution_count": null,
   "metadata": {},
   "outputs": [],
   "source": [
    "dls = get_dls()"
   ]
  },
  {
   "cell_type": "code",
   "execution_count": null,
   "metadata": {},
   "outputs": [
    {
     "data": {
      "text/plain": [
       "FlattenedLoss of MSELoss()"
      ]
     },
     "execution_count": null,
     "metadata": {},
     "output_type": "execute_result"
    }
   ],
   "source": [
    "dls.train_ds.loss_func"
   ]
  },
  {
   "cell_type": "code",
   "execution_count": null,
   "metadata": {},
   "outputs": [
    {
     "data": {
      "text/plain": [
       "1"
      ]
     },
     "execution_count": null,
     "metadata": {},
     "output_type": "execute_result"
    }
   ],
   "source": [
    "dls.train_ds.c"
   ]
  },
  {
   "cell_type": "code",
   "execution_count": null,
   "metadata": {},
   "outputs": [
    {
     "data": {
      "text/plain": [
       "index:\n",
       " [[['2019-08-10T00:00:00.000000000' '2019-08-10T01:00:00.000000000'\n",
       "   '2019-08-10T02:00:00.000000000' ... '2019-08-10T21:00:00.000000000'\n",
       "   '2019-08-10T22:00:00.000000000' '2019-08-10T23:00:00.000000000']]\n",
       "\n",
       " [['2019-01-14T00:00:00.000000000' '2019-01-14T01:00:00.000000000'\n",
       "   '2019-01-14T02:00:00.000000000' ... '2019-01-14T21:00:00.000000000'\n",
       "   '2019-01-14T22:00:00.000000000' '2019-01-14T23:00:00.000000000']]\n",
       "\n",
       " [['2019-09-20T00:00:00.000000000' '2019-09-20T01:00:00.000000000'\n",
       "   '2019-09-20T02:00:00.000000000' ... '2019-09-20T21:00:00.000000000'\n",
       "   '2019-09-20T22:00:00.000000000' '2019-09-20T23:00:00.000000000']]\n",
       "\n",
       " ...\n",
       "\n",
       " [['2019-11-12T00:00:00.000000000' '2019-11-12T01:00:00.000000000'\n",
       "   '2019-11-12T02:00:00.000000000' ... '2019-11-12T21:00:00.000000000'\n",
       "   '2019-11-12T22:00:00.000000000' '2019-11-12T23:00:00.000000000']]\n",
       "\n",
       " [['2019-06-13T00:00:00.000000000' '2019-06-13T01:00:00.000000000'\n",
       "   '2019-06-13T02:00:00.000000000' ... '2019-06-13T21:00:00.000000000'\n",
       "   '2019-06-13T22:00:00.000000000' '2019-06-13T23:00:00.000000000']]\n",
       "\n",
       " [['2019-09-11T00:00:00.000000000' '2019-09-11T01:00:00.000000000'\n",
       "   '2019-09-11T02:00:00.000000000' ... '2019-09-11T21:00:00.000000000'\n",
       "   '2019-09-11T22:00:00.000000000' '2019-09-11T23:00:00.000000000']]]\n",
       "['TaskID', 'Day', 'Hour']:\n",
       "tensor([[[ 3,  3,  3,  ...,  3,  3,  3],\n",
       "         [10, 10, 10,  ..., 10, 10, 10],\n",
       "         [ 1,  2,  3,  ..., 22, 23, 24]],\n",
       "\n",
       "        [[ 2,  2,  2,  ...,  2,  2,  2],\n",
       "         [14, 14, 14,  ..., 14, 14, 14],\n",
       "         [ 1,  2,  3,  ..., 22, 23, 24]],\n",
       "\n",
       "        [[ 2,  2,  2,  ...,  2,  2,  2],\n",
       "         [20, 20, 20,  ..., 20, 20, 20],\n",
       "         [ 1,  2,  3,  ..., 22, 23, 24]],\n",
       "\n",
       "        ...,\n",
       "\n",
       "        [[ 2,  2,  2,  ...,  2,  2,  2],\n",
       "         [12, 12, 12,  ..., 12, 12, 12],\n",
       "         [ 1,  2,  3,  ..., 22, 23, 24]],\n",
       "\n",
       "        [[ 2,  2,  2,  ...,  2,  2,  2],\n",
       "         [13, 13, 13,  ..., 13, 13, 13],\n",
       "         [ 1,  2,  3,  ..., 22, 23, 24]],\n",
       "\n",
       "        [[ 2,  2,  2,  ...,  2,  2,  2],\n",
       "         [11, 11, 11,  ..., 11, 11, 11],\n",
       "         [ 1,  2,  3,  ..., 22, 23, 24]]])\n",
       "\n",
       "['T_HAG_2_M', 'RELHUM_HAG_2_M', 'PS_SFC_0_M', 'ASWDIFDS_SFC_0_M', 'ASWDIRS_SFC_0_M', 'WindSpeed58m']:\n",
       "tensor([[[2.9347e+02, 2.9351e+02, 2.9317e+02,  ..., 2.9146e+02,\n",
       "          2.9104e+02, 2.9066e+02],\n",
       "         [9.5139e+01, 9.3941e+01, 9.4140e+01,  ..., 6.2239e+01,\n",
       "          6.3717e+01, 6.3936e+01],\n",
       "         [9.7537e+04, 9.7551e+04, 9.7578e+04,  ..., 9.8122e+04,\n",
       "          9.8143e+04, 9.8173e+04],\n",
       "         [9.5227e+01, 9.1420e+01, 8.7902e+01,  ..., 9.8091e+01,\n",
       "          9.5960e+01, 9.3917e+01],\n",
       "         [6.8489e+01, 6.5754e+01, 6.3222e+01,  ..., 1.3372e+02,\n",
       "          1.3081e+02, 1.2803e+02],\n",
       "         [6.4560e+00, 7.2330e+00, 7.5779e+00,  ..., 6.1795e+00,\n",
       "          6.1751e+00, 5.6016e+00]],\n",
       "\n",
       "        [[2.7612e+02, 2.7582e+02, 2.7470e+02,  ..., 2.7292e+02,\n",
       "          2.7207e+02, 2.7180e+02],\n",
       "         [8.9160e+01, 8.9137e+01, 9.3418e+01,  ..., 9.0157e+01,\n",
       "          8.8827e+01, 8.8128e+01],\n",
       "         [9.2305e+04, 9.2369e+04, 9.2411e+04,  ..., 9.3390e+04,\n",
       "          9.3426e+04, 9.3467e+04],\n",
       "         [2.7809e+01, 2.6695e+01, 2.5668e+01,  ..., 3.2004e+01,\n",
       "          3.1309e+01, 3.0641e+01],\n",
       "         [2.6290e+00, 2.5230e+00, 2.4300e+00,  ..., 1.1051e+01,\n",
       "          1.0812e+01, 1.0582e+01],\n",
       "         [1.1012e+01, 1.2027e+01, 8.6401e+00,  ..., 6.6815e+00,\n",
       "          5.5723e+00, 4.3243e+00]],\n",
       "\n",
       "        [[2.7709e+02, 2.7656e+02, 2.7599e+02,  ..., 2.8108e+02,\n",
       "          2.8062e+02, 2.8031e+02],\n",
       "         [7.9390e+01, 8.0835e+01, 8.2911e+01,  ..., 6.4464e+01,\n",
       "          6.4629e+01, 6.3380e+01],\n",
       "         [9.4225e+04, 9.4182e+04, 9.4182e+04,  ..., 9.3921e+04,\n",
       "          9.3882e+04, 9.3868e+04],\n",
       "         [4.6663e+01, 4.4795e+01, 4.3074e+01,  ..., 5.0386e+01,\n",
       "          4.9292e+01, 4.8244e+01],\n",
       "         [1.6368e+02, 1.5713e+02, 1.5109e+02,  ..., 1.7051e+02,\n",
       "          1.6680e+02, 1.6326e+02],\n",
       "         [3.1841e+00, 2.6220e+00, 2.5893e+00,  ..., 1.8579e+00,\n",
       "          1.8863e+00, 1.6230e+00]],\n",
       "\n",
       "        ...,\n",
       "\n",
       "        [[2.7485e+02, 2.7455e+02, 2.7445e+02,  ..., 2.7299e+02,\n",
       "          2.7291e+02, 2.7302e+02],\n",
       "         [9.2202e+01, 9.3373e+01, 9.3987e+01,  ..., 8.8102e+01,\n",
       "          8.8962e+01, 8.9508e+01],\n",
       "         [9.2587e+04, 9.2578e+04, 9.2613e+04,  ..., 9.2225e+04,\n",
       "          9.2196e+04, 9.2198e+04],\n",
       "         [3.9253e+01, 3.7683e+01, 3.6235e+01,  ..., 3.9327e+01,\n",
       "          3.8472e+01, 3.7655e+01],\n",
       "         [3.6938e+01, 3.5461e+01, 3.4098e+01,  ..., 4.8461e+01,\n",
       "          4.7410e+01, 4.6398e+01],\n",
       "         [3.4737e+00, 3.7740e+00, 4.2409e+00,  ..., 2.9374e+00,\n",
       "          2.9152e+00, 2.8576e+00]],\n",
       "\n",
       "        [[2.8339e+02, 2.8377e+02, 2.8379e+02,  ..., 2.8728e+02,\n",
       "          2.8614e+02, 2.8520e+02],\n",
       "         [9.0202e+01, 8.6684e+01, 8.5183e+01,  ..., 7.2030e+01,\n",
       "          7.6800e+01, 8.0285e+01],\n",
       "         [9.3168e+04, 9.3192e+04, 9.3205e+04,  ..., 9.3362e+04,\n",
       "          9.3390e+04, 9.3426e+04],\n",
       "         [7.8149e+01, 7.5022e+01, 7.2136e+01,  ..., 8.6252e+01,\n",
       "          8.4374e+01, 8.2579e+01],\n",
       "         [1.0545e+02, 1.0123e+02, 9.7337e+01,  ..., 1.7985e+02,\n",
       "          1.7595e+02, 1.7220e+02],\n",
       "         [2.2912e+00, 2.8500e+00, 2.4743e+00,  ..., 2.1082e+00,\n",
       "          1.9834e+00, 2.1234e+00]],\n",
       "\n",
       "        [[2.8252e+02, 2.8187e+02, 2.8182e+02,  ..., 2.8473e+02,\n",
       "          2.8403e+02, 2.8372e+02],\n",
       "         [8.8972e+01, 9.0606e+01, 9.0205e+01,  ..., 8.3913e+01,\n",
       "          8.7711e+01, 8.9330e+01],\n",
       "         [9.3675e+04, 9.3682e+04, 9.3706e+04,  ..., 9.4342e+04,\n",
       "          9.4366e+04, 9.4433e+04],\n",
       "         [5.9497e+01, 5.7119e+01, 5.4922e+01,  ..., 6.4650e+01,\n",
       "          6.3244e+01, 6.1900e+01],\n",
       "         [1.6806e+02, 1.6134e+02, 1.5514e+02,  ..., 1.7008e+02,\n",
       "          1.6638e+02, 1.6284e+02],\n",
       "         [7.8624e-01, 1.2499e+00, 1.3827e+00,  ..., 1.4330e+00,\n",
       "          1.2254e+00, 1.0536e+00]]])\n",
       "\n",
       "['PowerGeneration']:\n",
       "tensor([[[0.0050, 0.0000, 0.1600,  ..., 0.0540, 0.0170, 0.0540]],\n",
       "\n",
       "        [[0.1340, 0.5850, 0.8140,  ..., 0.1260, 0.1580, 0.1090]],\n",
       "\n",
       "        [[0.0230, 0.0270, 0.0200,  ..., 0.0010, 0.0010, 0.0010]],\n",
       "\n",
       "        ...,\n",
       "\n",
       "        [[0.0750, 0.0130, 0.0020,  ..., 0.0040, 0.0130, 0.0050]],\n",
       "\n",
       "        [[0.0000, 0.0010, 0.0000,  ..., 0.0030, 0.0010, 0.0000]],\n",
       "\n",
       "        [[0.0690, 0.0080, 0.0010,  ..., 0.0010, 0.0000, 0.0000]]])\n"
      ]
     },
     "execution_count": null,
     "metadata": {},
     "output_type": "execute_result"
    }
   ],
   "source": [
    "dls.train_ds"
   ]
  },
  {
   "cell_type": "code",
   "execution_count": null,
   "metadata": {},
   "outputs": [],
   "source": [
    "#export\n",
    "@delegates(Learner.__init__)\n",
    "def renewable_timeseries_learner(dls, layers=None, emb_szs=None, config=None, \n",
    "                                 n_out=None, y_range=None, \n",
    "                                 embedding_type=EmbeddingType.Normal, **kwargs):\n",
    "    \"Get a `Learner` using `dls`, with `metrics`, including a `TabularModel` created using the remaining params.\"\n",
    "    if config is None: config = tabular_config()\n",
    "    \n",
    "#     if n_out is None: \n",
    "#         n_out = get_c(dls)\n",
    "    n_out = dls.train_ds.ys.shape[1]\n",
    "        \n",
    "    assert n_out, \"`n_out` is not defined, and could not be inferred from data, set `dls.c` or pass `n_out`\"\n",
    "    \n",
    "    if layers is None: layers = [len(dls.cont_names), 200, 100, n_out]\n",
    "    if y_range is None and 'y_range' in config: y_range = config.pop('y_range')\n",
    "        \n",
    "    embed_p = kwargs[\"embed_p\"].pop() if \"embed_p\" in kwargs.keys() else 0.1\n",
    "    \n",
    "    emb_module = None\n",
    "    if len(dls.train_ds.cat_names) > 0:\n",
    "        emb_szs = get_emb_sz(dls.train_ds, {} if emb_szs is None else emb_szs)\n",
    "        emb_module = EmbeddingModule(None, embedding_dropout=embed_p, embedding_dimensions=emb_szs)\n",
    "        \n",
    "    model = TemporalCNN(layers, embedding_module=emb_module, **config)\n",
    "    \n",
    "    if embedding_type==EmbeddingType.Bayes and \"loss_func\" not in kwargs.keys():\n",
    "        base_loss = getattr(dls.train_ds, 'loss_func', None)\n",
    "        assert base_loss is not None, \"Could not infer loss function from the data, please pass a loss function.\"\n",
    "        loss_func=VILoss(model=model, base_loss=base_loss, kl_weight=0.1)\n",
    "        kwargs[\"loss_func\"] = loss_func\n",
    "    \n",
    "    return RenewableTimeseriesLearner(dls, model, **kwargs)"
   ]
  },
  {
   "cell_type": "code",
   "execution_count": null,
   "metadata": {},
   "outputs": [
    {
     "data": {
      "text/markdown": [
       "<h4 id=\"renewable_timeseries_learner\" class=\"doc_header\"><code>renewable_timeseries_learner</code><a href=\"__main__.py#L2\" class=\"source_link\" style=\"float:right\">[source]</a></h4>\n",
       "\n",
       "> <code>renewable_timeseries_learner</code>(**`dls`**, **`layers`**=*`None`*, **`emb_szs`**=*`None`*, **`config`**=*`None`*, **`n_out`**=*`None`*, **`y_range`**=*`None`*, **`embedding_type`**=*`<EmbeddingType.Normal: 0>`*, **`loss_func`**=*`None`*, **`opt_func`**=*`Adam`*, **`lr`**=*`0.001`*, **`splitter`**=*`trainable_params`*, **`cbs`**=*`None`*, **`metrics`**=*`None`*, **`path`**=*`None`*, **`model_dir`**=*`'models'`*, **`wd`**=*`None`*, **`wd_bn_bias`**=*`False`*, **`train_bn`**=*`True`*, **`moms`**=*`(0.95, 0.85, 0.95)`*)\n",
       "\n",
       "Get a `Learner` using `dls`, with `metrics`, including a `TabularModel` created using the remaining params."
      ],
      "text/plain": [
       "<IPython.core.display.Markdown object>"
      ]
     },
     "metadata": {},
     "output_type": "display_data"
    }
   ],
   "source": [
    "show_doc(renewable_timeseries_learner)"
   ]
  },
  {
   "cell_type": "code",
   "execution_count": null,
   "metadata": {},
   "outputs": [],
   "source": [
    "#export\n",
    "from fastai.torch_basics import *\n",
    "from fastai.data.all import *\n",
    "from fastai.tabular.data import *\n",
    "from fastai.tabular.core import *\n",
    "from fastai.tabular.model import *\n",
    "from fastai.basics import *\n",
    "from fastrenewables.tabular.core import *\n",
    "from fastrenewables.tabular.data import *\n",
    "from fastrenewables.tabular.model import *\n",
    "from fastrenewables.losses import VILoss"
   ]
  },
  {
   "cell_type": "code",
   "execution_count": null,
   "metadata": {},
   "outputs": [],
   "source": [
    "learner = renewable_timeseries_learner(dls, loss_func=mse, metrics=rmse)"
   ]
  },
  {
   "cell_type": "code",
   "execution_count": null,
   "metadata": {},
   "outputs": [
    {
     "data": {
      "text/plain": [
       "<function fastai.metrics.mse(inp, targ)>"
      ]
     },
     "execution_count": null,
     "metadata": {},
     "output_type": "execute_result"
    }
   ],
   "source": [
    "learner.loss_func"
   ]
  },
  {
   "cell_type": "code",
   "execution_count": null,
   "metadata": {},
   "outputs": [],
   "source": [
    "cats, conts, ys = dls.one_batch()"
   ]
  },
  {
   "cell_type": "code",
   "execution_count": null,
   "metadata": {},
   "outputs": [
    {
     "data": {
      "text/plain": [
       "TemporalCNN(\n",
       "  (embedding_module): EmbeddingModule(\n",
       "    (embeddings): ModuleList(\n",
       "      (0): Embedding(4, 3)\n",
       "      (1): Embedding(32, 11)\n",
       "      (2): Embedding(25, 10)\n",
       "    )\n",
       "    (emb_drop): Dropout(p=0.1, inplace=False)\n",
       "  )\n",
       "  (bn_cont): BatchNorm1d(6, eps=1e-05, momentum=0.1, affine=True, track_running_stats=True)\n",
       "  (layers): TemporalConvNet(\n",
       "    (temporal_blocks): Sequential(\n",
       "      (0): ResidualBlock(\n",
       "        (conv1): Conv1d(6, 200, kernel_size=(3,), stride=(1,), padding=(2,))\n",
       "        (chomp1): Chomp1d()\n",
       "        (act_func1): ReLU()\n",
       "        (dropout1): Dropout2d(p=0.0, inplace=False)\n",
       "        (conv2): Conv1d(200, 200, kernel_size=(3,), stride=(1,), padding=(2,))\n",
       "        (chomp2): Chomp1d()\n",
       "        (act_func2): ReLU()\n",
       "        (dropout2): Dropout2d(p=0.0, inplace=False)\n",
       "        (net): Sequential(\n",
       "          (0): Conv1d(6, 200, kernel_size=(3,), stride=(1,), padding=(2,))\n",
       "          (1): Chomp1d()\n",
       "          (2): ReLU()\n",
       "          (3): Dropout2d(p=0.0, inplace=False)\n",
       "          (4): Conv1d(200, 200, kernel_size=(3,), stride=(1,), padding=(2,))\n",
       "          (5): Chomp1d()\n",
       "          (6): ReLU()\n",
       "          (7): Dropout2d(p=0.0, inplace=False)\n",
       "        )\n",
       "        (downsample): Conv1d(6, 200, kernel_size=(1,), stride=(1,))\n",
       "        (act_func3): ReLU()\n",
       "      )\n",
       "      (1): ResidualBlock(\n",
       "        (conv1): Conv1d(200, 100, kernel_size=(3,), stride=(1,), padding=(4,), dilation=(2,))\n",
       "        (chomp1): Chomp1d()\n",
       "        (act_func1): ReLU()\n",
       "        (dropout1): Dropout2d(p=0.0, inplace=False)\n",
       "        (conv2): Conv1d(100, 100, kernel_size=(3,), stride=(1,), padding=(4,), dilation=(2,))\n",
       "        (chomp2): Chomp1d()\n",
       "        (act_func2): ReLU()\n",
       "        (dropout2): Dropout2d(p=0.0, inplace=False)\n",
       "        (net): Sequential(\n",
       "          (0): Conv1d(200, 100, kernel_size=(3,), stride=(1,), padding=(4,), dilation=(2,))\n",
       "          (1): Chomp1d()\n",
       "          (2): ReLU()\n",
       "          (3): Dropout2d(p=0.0, inplace=False)\n",
       "          (4): Conv1d(100, 100, kernel_size=(3,), stride=(1,), padding=(4,), dilation=(2,))\n",
       "          (5): Chomp1d()\n",
       "          (6): ReLU()\n",
       "          (7): Dropout2d(p=0.0, inplace=False)\n",
       "        )\n",
       "        (downsample): Conv1d(200, 100, kernel_size=(1,), stride=(1,))\n",
       "        (act_func3): ReLU()\n",
       "      )\n",
       "      (2): ResidualBlock(\n",
       "        (conv1): Conv1d(100, 1, kernel_size=(3,), stride=(1,), padding=(8,), dilation=(4,))\n",
       "        (chomp1): Chomp1d()\n",
       "        (act_func1): Identity()\n",
       "        (dropout1): Dropout2d(p=0.0, inplace=False)\n",
       "        (conv2): Conv1d(1, 1, kernel_size=(3,), stride=(1,), padding=(8,), dilation=(4,))\n",
       "        (chomp2): Chomp1d()\n",
       "        (act_func2): Identity()\n",
       "        (dropout2): Dropout2d(p=0.0, inplace=False)\n",
       "        (net): Sequential(\n",
       "          (0): Conv1d(100, 1, kernel_size=(3,), stride=(1,), padding=(8,), dilation=(4,))\n",
       "          (1): Chomp1d()\n",
       "          (2): Identity()\n",
       "          (3): Dropout2d(p=0.0, inplace=False)\n",
       "          (4): Conv1d(1, 1, kernel_size=(3,), stride=(1,), padding=(8,), dilation=(4,))\n",
       "          (5): Chomp1d()\n",
       "          (6): Identity()\n",
       "          (7): Dropout2d(p=0.0, inplace=False)\n",
       "        )\n",
       "        (downsample): Conv1d(100, 1, kernel_size=(1,), stride=(1,))\n",
       "        (act_func3): Identity()\n",
       "      )\n",
       "    )\n",
       "  )\n",
       ")"
      ]
     },
     "execution_count": null,
     "metadata": {},
     "output_type": "execute_result"
    }
   ],
   "source": [
    "learner.model"
   ]
  },
  {
   "cell_type": "code",
   "execution_count": null,
   "metadata": {},
   "outputs": [
    {
     "data": {
      "text/plain": [
       "torch.Size([13, 1, 24])"
      ]
     },
     "execution_count": null,
     "metadata": {},
     "output_type": "execute_result"
    }
   ],
   "source": [
    "learner.model(cats, conts).shape"
   ]
  },
  {
   "cell_type": "code",
   "execution_count": null,
   "metadata": {},
   "outputs": [
    {
     "data": {
      "text/plain": [
       "torch.Size([13, 1, 24])"
      ]
     },
     "execution_count": null,
     "metadata": {},
     "output_type": "execute_result"
    }
   ],
   "source": [
    "ys.shape"
   ]
  },
  {
   "cell_type": "code",
   "execution_count": null,
   "metadata": {},
   "outputs": [
    {
     "data": {
      "text/html": [
       "<table border=\"1\" class=\"dataframe\">\n",
       "  <thead>\n",
       "    <tr style=\"text-align: left;\">\n",
       "      <th>epoch</th>\n",
       "      <th>train_loss</th>\n",
       "      <th>valid_loss</th>\n",
       "      <th>_rmse</th>\n",
       "      <th>time</th>\n",
       "    </tr>\n",
       "  </thead>\n",
       "  <tbody>\n",
       "    <tr>\n",
       "      <td>0</td>\n",
       "      <td>0.069327</td>\n",
       "      <td>0.020285</td>\n",
       "      <td>0.142426</td>\n",
       "      <td>00:01</td>\n",
       "    </tr>\n",
       "    <tr>\n",
       "      <td>1</td>\n",
       "      <td>0.034478</td>\n",
       "      <td>0.016308</td>\n",
       "      <td>0.127703</td>\n",
       "      <td>00:01</td>\n",
       "    </tr>\n",
       "    <tr>\n",
       "      <td>2</td>\n",
       "      <td>0.024441</td>\n",
       "      <td>0.016273</td>\n",
       "      <td>0.127565</td>\n",
       "      <td>00:00</td>\n",
       "    </tr>\n",
       "    <tr>\n",
       "      <td>3</td>\n",
       "      <td>0.018387</td>\n",
       "      <td>0.013502</td>\n",
       "      <td>0.116199</td>\n",
       "      <td>00:00</td>\n",
       "    </tr>\n",
       "    <tr>\n",
       "      <td>4</td>\n",
       "      <td>0.015245</td>\n",
       "      <td>0.013305</td>\n",
       "      <td>0.115349</td>\n",
       "      <td>00:00</td>\n",
       "    </tr>\n",
       "  </tbody>\n",
       "</table>"
      ],
      "text/plain": [
       "<IPython.core.display.HTML object>"
      ]
     },
     "metadata": {},
     "output_type": "display_data"
    }
   ],
   "source": [
    "learner.fit_one_cycle(5)"
   ]
  },
  {
   "cell_type": "code",
   "execution_count": null,
   "metadata": {},
   "outputs": [],
   "source": [
    "preds, targets = learner.predict(0)"
   ]
  },
  {
   "cell_type": "code",
   "execution_count": null,
   "metadata": {},
   "outputs": [],
   "source": [
    "result_df = learner.predict(0, as_df=True)"
   ]
  },
  {
   "cell_type": "code",
   "execution_count": null,
   "metadata": {},
   "outputs": [
    {
     "data": {
      "text/plain": [
       "<matplotlib.legend.Legend at 0x7f2e78ab0af0>"
      ]
     },
     "execution_count": null,
     "metadata": {},
     "output_type": "execute_result"
    },
    {
     "data": {
      "image/png": "[encoded data removed]",
      "text/plain": [
       "<Figure size 1152x648 with 1 Axes>"
      ]
     },
     "metadata": {
      "needs_background": "light"
     },
     "output_type": "display_data"
    }
   ],
   "source": [
    "import matplotlib.pyplot as plt\n",
    "plt.figure(figsize=(16,9))\n",
    "plt.plot(targets[0:200], label=\"Target\")\n",
    "plt.plot(preds[0:200], label=\"Prediction\")\n",
    "plt.legend()\n",
    "# result_df[500:1000].plot(figsize=(16,9))"
   ]
  },
  {
   "cell_type": "code",
   "execution_count": null,
   "metadata": {},
   "outputs": [],
   "source": []
  }
 ],
 "metadata": {
  "kernelspec": {
   "display_name": "Python 3",
   "language": "python",
   "name": "python3"
  }
 },
 "nbformat": 4,
 "nbformat_minor": 4
}
