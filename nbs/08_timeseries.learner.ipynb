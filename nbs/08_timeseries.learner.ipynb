{
 "cells": [
  {
   "cell_type": "code",
   "execution_count": null,
   "metadata": {},
   "outputs": [],
   "source": [
    "# default_exp timeseries.learner"
   ]
  },
  {
   "cell_type": "markdown",
   "metadata": {},
   "source": [
    "# timeseries.learner\n",
    "\n",
    "> API details."
   ]
  },
  {
   "cell_type": "code",
   "execution_count": null,
   "metadata": {},
   "outputs": [],
   "source": [
    "#hide\n",
    "%load_ext autoreload\n",
    "%autoreload 2"
   ]
  },
  {
   "cell_type": "code",
   "execution_count": null,
   "metadata": {},
   "outputs": [],
   "source": [
    "#export\n",
    "from fastai.torch_basics import *\n",
    "from fastai.data.all import *\n",
    "from fastai.tabular.data import *\n",
    "from fastai.tabular.core import *\n",
    "from fastai.tabular.model import *\n",
    "from fastai.basics import *\n",
    "from fastrenewables.tabular.core import *\n",
    "from fastrenewables.tabular.model import *\n",
    "from fastrenewables.timeseries.core import *\n",
    "from fastrenewables.timeseries.data import *\n",
    "from fastrenewables.timeseries.model import *\n",
    "from fastrenewables.losses import VILoss\n",
    "from fastrenewables.utils import *\n",
    "import pandas as pd"
   ]
  },
  {
   "cell_type": "code",
   "execution_count": null,
   "metadata": {},
   "outputs": [],
   "source": [
    "#hide\n",
    "from nbdev.showdoc import *"
   ]
  },
  {
   "cell_type": "code",
   "execution_count": null,
   "metadata": {},
   "outputs": [],
   "source": [
    "#export\n",
    "#hide\n",
    "def _tensor_to_device(x, device):\n",
    "    if isinstance(x, torch.Tensor):\n",
    "        x = x.to(device)\n",
    "    return x    "
   ]
  },
  {
   "cell_type": "code",
   "execution_count": null,
   "metadata": {},
   "outputs": [],
   "source": [
    "#export\n",
    "#hide\n",
    "def _swap_axes_and_flatten(tensr):\n",
    "    if isinstance(tensr, torch.Tensor):\n",
    "        return  torch.swapaxes(tensr, 1, 2).reshape(-1, tensr.shape[1])\n",
    "    elif isinstance(tensr, np.ndarray):\n",
    "        return  np.swapaxes(tensr, 1, 2).reshape(-1, tensr.shape[1])\n",
    "    else:\n",
    "        raise ValueError"
   ]
  },
  {
   "cell_type": "code",
   "execution_count": null,
   "metadata": {},
   "outputs": [],
   "source": [
    "#export\n",
    "def convert_to_tensor_ts(to, include_index=False, device=\"cpu\", flatten=False):\n",
    "    # to increase speed we direclty predict on all tensors   \n",
    "    if isinstance(to, (TimeseriesDataset)):\n",
    "        with torch.no_grad():\n",
    "            cats, conts, targets = _tensor_to_device(to.cats, device), _tensor_to_device(to.conts, device), _tensor_to_device(to.ys, device)\n",
    "    else:\n",
    "        raise NotImplementedError(\"Unknown type\")\n",
    "        \n",
    "    indexes = to.indexes\n",
    "    \n",
    "    if flatten:\n",
    "        indexes = _swap_axes_and_flatten(indexes).ravel()\n",
    "        conts = _swap_axes_and_flatten(conts)\n",
    "        cats = _swap_axes_and_flatten(cats)\n",
    "        targets = _swap_axes_and_flatten(targets)\n",
    "        \n",
    "    if include_index:\n",
    "        return indexes, cats, conts, targets\n",
    "    else:\n",
    "        return cats, conts, targets"
   ]
  },
  {
   "cell_type": "code",
   "execution_count": null,
   "metadata": {},
   "outputs": [],
   "source": [
    "#export\n",
    "def fast_prediction_ts(model, to, flatten, filter, device=\"cpu\"):\n",
    "    \n",
    "    cats, conts, ys = convert_to_tensor_ts(to, include_index=False, device=device)\n",
    "\n",
    "    with torch.no_grad():\n",
    "        preds = model(cats, conts)\n",
    "\n",
    "    preds, targets = to_np(preds), to_np(ys)\n",
    "\n",
    "    if flatten:\n",
    "        preds, targets = preds.reshape(-1), targets.reshape(-1)\n",
    "\n",
    "    if filter:\n",
    "        targets, preds = filter_preds(targets, preds)\n",
    "    \n",
    "        \n",
    "        \n",
    "    return preds, targets\n"
   ]
  },
  {
   "cell_type": "code",
   "execution_count": null,
   "metadata": {},
   "outputs": [],
   "source": [
    "#export\n",
    "class RenewableTimeseriesLearner(Learner):\n",
    "    \"`Learner` for renewable timerseries data.\"\n",
    "    def predict(self, ds_idx=1, test_dl=None, filter=True, as_df=False, flatten=True):\n",
    "        device = next(self.model.parameters()).device\n",
    "        preds, targets = None, None\n",
    "        if test_dl is not None:\n",
    "            to = test_dl.train_ds\n",
    "        elif ds_idx == 0:\n",
    "            to = self.dls.train_ds\n",
    "        elif ds_idx == 1:\n",
    "            to = self.dls.valid_ds\n",
    "        \n",
    "        preds, targets = fast_prediction_ts(self.model, to, flatten=flatten, filter=filter)\n",
    "        \n",
    "        if as_df:\n",
    "            return pd.DataFrame({\"Prediction\": preds, \"Target\":targets}, index=to.indexes.reshape(-1))\n",
    "        else:\n",
    "            return preds, targets"
   ]
  },
  {
   "cell_type": "code",
   "execution_count": null,
   "metadata": {},
   "outputs": [
    {
     "data": {
      "text/markdown": [
       "<h3 id=\"RenewableTimeseriesLearner\" class=\"doc_header\"><code>class</code> <code>RenewableTimeseriesLearner</code><a href=\"\" class=\"source_link\" style=\"float:right\">[source]</a></h3>\n",
       "\n",
       "> <code>RenewableTimeseriesLearner</code>(**`dls`**, **`model`**, **`loss_func`**=*`None`*, **`opt_func`**=*`Adam`*, **`lr`**=*`0.001`*, **`splitter`**=*`trainable_params`*, **`cbs`**=*`None`*, **`metrics`**=*`None`*, **`path`**=*`None`*, **`model_dir`**=*`'models'`*, **`wd`**=*`None`*, **`wd_bn_bias`**=*`False`*, **`train_bn`**=*`True`*, **`moms`**=*`(0.95, 0.85, 0.95)`*) :: `Learner`\n",
       "\n",
       "`Learner` for renewable timerseries data."
      ],
      "text/plain": [
       "<IPython.core.display.Markdown object>"
      ]
     },
     "metadata": {},
     "output_type": "display_data"
    }
   ],
   "source": [
    "show_doc(RenewableTimeseriesLearner, title_level=3)"
   ]
  },
  {
   "cell_type": "code",
   "execution_count": null,
   "metadata": {},
   "outputs": [],
   "source": [
    "def get_dls(cat_names = [\"TaskID\", 'Month', 'Day', 'Hour'], cont_names=None, y_names=\"PowerGeneration\", y_block=RegressionBlock(), post_hooks=[]):\n",
    "    \n",
    "\n",
    "    if cont_names is None:\n",
    "        cont_names = ['T_HAG_2_M', 'RELHUM_HAG_2_M', 'PS_SFC_0_M', 'ASWDIFDS_SFC_0_M',\n",
    "           'ASWDIRS_SFC_0_M', 'WindSpeed58m']\n",
    "    \n",
    "    pd.options.mode.chained_assignment=None\n",
    "    kwargs = {\"post_hooks\": post_hooks}\n",
    "    dls = RenewableTimeSeriesDataLoaders.from_files(glob.glob(\"../data/*.h5\"), \n",
    "                                                y_names=y_names, \n",
    "                                                cat_names=cat_names, \n",
    "                                                cont_names=cont_names,\n",
    "                                                pre_procs=[FilterYear(year=2020), \n",
    "                                                             AddSeasonalFeatures(as_cont=False),\n",
    "                                                             FilterInconsistentSamplesPerDay], \n",
    "                                                procs=Categorify, \n",
    "                                                bs=12,\n",
    "                                                y_block=y_block,\n",
    "                                                post_hooks=post_hooks)\n",
    "    return dls\n",
    "\n"
   ]
  },
  {
   "cell_type": "code",
   "execution_count": null,
   "metadata": {},
   "outputs": [],
   "source": [
    "dls = get_dls(y_names=\"PowerGeneration\", y_block=RegressionBlock())"
   ]
  },
  {
   "cell_type": "markdown",
   "metadata": {},
   "source": [
    "We have one ouput for the regression task, the PowerGeneration and the MSE loss as default loss. Note that these values are inherited by the `TabularPandas` module from `fastai`."
   ]
  },
  {
   "cell_type": "code",
   "execution_count": null,
   "metadata": {},
   "outputs": [
    {
     "data": {
      "text/plain": [
       "'Number of targets: 1 with loss FlattenedLoss of MSELoss().'"
      ]
     },
     "execution_count": null,
     "metadata": {},
     "output_type": "execute_result"
    }
   ],
   "source": [
    "f\"Number of targets: {dls.train_ds.c} with loss {dls.train_ds.loss_func}.\""
   ]
  },
  {
   "cell_type": "markdown",
   "metadata": {},
   "source": [
    "Therefore, we can easily extend this to multiple targets by providing the required y columns."
   ]
  },
  {
   "cell_type": "code",
   "execution_count": null,
   "metadata": {},
   "outputs": [
    {
     "data": {
      "text/plain": [
       "'Number of targets: 2.'"
      ]
     },
     "execution_count": null,
     "metadata": {},
     "output_type": "execute_result"
    }
   ],
   "source": [
    "dls = get_dls(cont_names = \"WindSpeed58m\", y_names=['T_HAG_2_M', 'RELHUM_HAG_2_M'], y_block=RegressionBlock())\n",
    "f\"Number of targets: {dls.train_ds.c}.\""
   ]
  },
  {
   "cell_type": "markdown",
   "metadata": {},
   "source": [
    "We can also use the same procedure for classification."
   ]
  },
  {
   "cell_type": "code",
   "execution_count": null,
   "metadata": {},
   "outputs": [
    {
     "data": {
      "text/plain": [
       "'Number of targets: 3 with loss FlattenedLoss of CrossEntropyLoss().'"
      ]
     },
     "execution_count": null,
     "metadata": {},
     "output_type": "execute_result"
    }
   ],
   "source": [
    "dls = get_dls(y_names=[\"TaskID\"], y_block=CategoryBlock())\n",
    "f\"Number of targets: {dls.train_ds.c} with loss {dls.train_ds.loss_func}.\""
   ]
  },
  {
   "cell_type": "markdown",
   "metadata": {},
   "source": [
    "However, with the default values, we have one value for each timestamp. But in most cases we only want to classify a single sample for a timeseries sample."
   ]
  },
  {
   "cell_type": "code",
   "execution_count": null,
   "metadata": {},
   "outputs": [
    {
     "data": {
      "text/plain": [
       "tensor([[[1, 1, 1, 1, 1, 1, 1, 1, 1, 1, 1, 1, 1, 1, 1, 1, 1, 1, 1, 1, 1, 1, 1,\n",
       "          1]],\n",
       "\n",
       "        [[2, 2, 2, 2, 2, 2, 2, 2, 2, 2, 2, 2, 2, 2, 2, 2, 2, 2, 2, 2, 2, 2, 2,\n",
       "          2]]])"
      ]
     },
     "execution_count": null,
     "metadata": {},
     "output_type": "execute_result"
    }
   ],
   "source": [
    "y = dls.one_batch()[-1]\n",
    "y[0:2]"
   ]
  },
  {
   "cell_type": "markdown",
   "metadata": {},
   "source": [
    "To overcome this issue, we can apply `post_hooks` to shorten the target timeseries. "
   ]
  },
  {
   "cell_type": "code",
   "execution_count": null,
   "metadata": {},
   "outputs": [
    {
     "data": {
      "text/plain": [
       "tensor([[[ 2]],\n",
       "\n",
       "        [[ 1]],\n",
       "\n",
       "        [[-1]],\n",
       "\n",
       "        [[ 2]],\n",
       "\n",
       "        [[-1]],\n",
       "\n",
       "        [[ 1]],\n",
       "\n",
       "        [[ 2]],\n",
       "\n",
       "        [[ 2]],\n",
       "\n",
       "        [[ 1]],\n",
       "\n",
       "        [[-1]],\n",
       "\n",
       "        [[ 2]],\n",
       "\n",
       "        [[ 1]]])"
      ]
     },
     "execution_count": null,
     "metadata": {},
     "output_type": "execute_result"
    }
   ],
   "source": [
    "dls = get_dls(y_names=[\"TaskID\"], y_block=CategoryBlock(), post_hooks=[reduce_target_timeseries_to_element])\n",
    "f\"Number of targets: {dls.train_ds.c} with loss {dls.train_ds.loss_func}.\"\n",
    "y = dls.one_batch()[-1]\n",
    "y"
   ]
  },
  {
   "cell_type": "code",
   "execution_count": null,
   "metadata": {},
   "outputs": [],
   "source": [
    "#export\n",
    "@delegates(Learner.__init__)\n",
    "def renewable_timeseries_learner(dls, layers=None, emb_szs=None, config=None, \n",
    "                                 n_out=None, y_range=None, \n",
    "                                 embedding_type=EmbeddingType.Normal, \n",
    "                                 input_sequence_length=None,\n",
    "                                 output_sequence_length=None,\n",
    "                                 sequence_transform=None,\n",
    "                                 **kwargs):\n",
    "    \"Get a `Learner` using `dls`, with `metrics`, including a `TabularModel` created using the remaining params.\"\n",
    "    if config is None: config = tabular_config()\n",
    "    \n",
    "    if n_out is None: \n",
    "        n_out = get_c(dls)\n",
    "#     n_out = dls.train_ds.ys.shape[1]\n",
    "        \n",
    "    assert n_out, \"`n_out` is not defined, and could not be inferred from data, set `dls.c` or pass `n_out`\"\n",
    "    \n",
    "    if layers is None: layers = [len(dls.cont_names), 200, 100, n_out]\n",
    "    if y_range is None and 'y_range' in config: y_range = config.pop('y_range')\n",
    "        \n",
    "    embed_p = kwargs[\"embed_p\"].pop() if \"embed_p\" in kwargs.keys() else 0.1\n",
    "    \n",
    "    emb_module = None\n",
    "    if len(dls.train_ds.cat_names) > 0:\n",
    "        emb_szs = get_emb_sz(dls.train_ds, {} if emb_szs is None else emb_szs)\n",
    "        emb_module = EmbeddingModule(None, embedding_dropout=embed_p, embedding_dimensions=emb_szs)\n",
    "        \n",
    "    model = TemporalCNN(layers, embedding_module=emb_module, \n",
    "                        input_sequence_length=input_sequence_length,\n",
    "                        output_sequence_length=output_sequence_length, \n",
    "                        sequence_transform=sequence_transform,\n",
    "                        **config)\n",
    "    \n",
    "    if embedding_type==EmbeddingType.Bayes and \"loss_func\" not in kwargs.keys():\n",
    "        base_loss = getattr(dls.train_ds, 'loss_func', None)\n",
    "        assert base_loss is not None, \"Could not infer loss function from the data, please pass a loss function.\"\n",
    "        loss_func=VILoss(model=model, base_loss=base_loss, kl_weight=0.1)\n",
    "        kwargs[\"loss_func\"] = loss_func\n",
    "    \n",
    "    return RenewableTimeseriesLearner(dls, model, **kwargs)"
   ]
  },
  {
   "cell_type": "code",
   "execution_count": null,
   "metadata": {},
   "outputs": [
    {
     "data": {
      "text/markdown": [
       "<h4 id=\"renewable_timeseries_learner\" class=\"doc_header\"><code>renewable_timeseries_learner</code><a href=\"__main__.py#L2\" class=\"source_link\" style=\"float:right\">[source]</a></h4>\n",
       "\n",
       "> <code>renewable_timeseries_learner</code>(**`dls`**, **`layers`**=*`None`*, **`emb_szs`**=*`None`*, **`config`**=*`None`*, **`n_out`**=*`None`*, **`y_range`**=*`None`*, **`embedding_type`**=*`<EmbeddingType.Normal: 0>`*, **`input_sequence_length`**=*`None`*, **`output_sequence_length`**=*`None`*, **`sequence_transform`**=*`None`*, **`loss_func`**=*`None`*, **`opt_func`**=*`Adam`*, **`lr`**=*`0.001`*, **`splitter`**=*`trainable_params`*, **`cbs`**=*`None`*, **`metrics`**=*`None`*, **`path`**=*`None`*, **`model_dir`**=*`'models'`*, **`wd`**=*`None`*, **`wd_bn_bias`**=*`False`*, **`train_bn`**=*`True`*, **`moms`**=*`(0.95, 0.85, 0.95)`*)\n",
       "\n",
       "Get a `Learner` using `dls`, with `metrics`, including a `TabularModel` created using the remaining params."
      ],
      "text/plain": [
       "<IPython.core.display.Markdown object>"
      ]
     },
     "metadata": {},
     "output_type": "display_data"
    }
   ],
   "source": [
    "show_doc(renewable_timeseries_learner)"
   ]
  },
  {
   "cell_type": "code",
   "execution_count": null,
   "metadata": {},
   "outputs": [],
   "source": [
    "#export\n",
    "from fastai.torch_basics import *\n",
    "from fastai.data.all import *\n",
    "from fastai.tabular.data import *\n",
    "from fastai.tabular.core import *\n",
    "from fastai.tabular.model import *\n",
    "from fastai.basics import *\n",
    "from fastrenewables.tabular.core import *\n",
    "from fastrenewables.tabular.data import *\n",
    "from fastrenewables.tabular.model import *\n",
    "from fastrenewables.losses import VILoss"
   ]
  },
  {
   "cell_type": "code",
   "execution_count": null,
   "metadata": {},
   "outputs": [],
   "source": [
    "dls = get_dls(y_names=\"PowerGeneration\", y_block=RegressionBlock())"
   ]
  },
  {
   "cell_type": "code",
   "execution_count": null,
   "metadata": {},
   "outputs": [],
   "source": [
    "learner = renewable_timeseries_learner(dls, metrics=rmse)"
   ]
  },
  {
   "cell_type": "code",
   "execution_count": null,
   "metadata": {},
   "outputs": [
    {
     "data": {
      "text/plain": [
       "FlattenedLoss of MSELoss()"
      ]
     },
     "execution_count": null,
     "metadata": {},
     "output_type": "execute_result"
    }
   ],
   "source": [
    "learner.loss_func"
   ]
  },
  {
   "cell_type": "code",
   "execution_count": null,
   "metadata": {},
   "outputs": [],
   "source": [
    "cats, conts, ys = dls.one_batch()"
   ]
  },
  {
   "cell_type": "code",
   "execution_count": null,
   "metadata": {},
   "outputs": [
    {
     "data": {
      "text/plain": [
       "TemporalCNN(\n",
       "  (embedding_module): EmbeddingModule(\n",
       "    (embeddings): ModuleList(\n",
       "      (0): Embedding(4, 3)\n",
       "      (1): Embedding(13, 7)\n",
       "      (2): Embedding(32, 11)\n",
       "      (3): Embedding(25, 10)\n",
       "    )\n",
       "    (emb_drop): Dropout(p=0.1, inplace=False)\n",
       "  )\n",
       "  (bn_cont): BatchNorm1d(6, eps=1e-05, momentum=0.1, affine=True, track_running_stats=True)\n",
       "  (layers): TemporalConvNet(\n",
       "    (temporal_blocks): Sequential(\n",
       "      (0): ResidualBlock(\n",
       "        (conv1): Conv1d(6, 200, kernel_size=(3,), stride=(1,), padding=(2,))\n",
       "        (chomp1): Chomp1d()\n",
       "        (act_func1): ReLU()\n",
       "        (dropout1): Dropout2d(p=0.0, inplace=False)\n",
       "        (conv2): Conv1d(200, 200, kernel_size=(3,), stride=(1,), padding=(2,))\n",
       "        (chomp2): Chomp1d()\n",
       "        (act_func2): ReLU()\n",
       "        (dropout2): Dropout2d(p=0.0, inplace=False)\n",
       "        (net): Sequential(\n",
       "          (0): Conv1d(6, 200, kernel_size=(3,), stride=(1,), padding=(2,))\n",
       "          (1): Chomp1d()\n",
       "          (2): ReLU()\n",
       "          (3): Dropout2d(p=0.0, inplace=False)\n",
       "          (4): Conv1d(200, 200, kernel_size=(3,), stride=(1,), padding=(2,))\n",
       "          (5): Chomp1d()\n",
       "          (6): ReLU()\n",
       "          (7): Dropout2d(p=0.0, inplace=False)\n",
       "        )\n",
       "        (downsample): Conv1d(6, 200, kernel_size=(1,), stride=(1,))\n",
       "        (act_func3): ReLU()\n",
       "      )\n",
       "      (1): ResidualBlock(\n",
       "        (conv1): Conv1d(200, 100, kernel_size=(3,), stride=(1,), padding=(4,), dilation=(2,))\n",
       "        (chomp1): Chomp1d()\n",
       "        (act_func1): ReLU()\n",
       "        (dropout1): Dropout2d(p=0.0, inplace=False)\n",
       "        (conv2): Conv1d(100, 100, kernel_size=(3,), stride=(1,), padding=(4,), dilation=(2,))\n",
       "        (chomp2): Chomp1d()\n",
       "        (act_func2): ReLU()\n",
       "        (dropout2): Dropout2d(p=0.0, inplace=False)\n",
       "        (net): Sequential(\n",
       "          (0): Conv1d(200, 100, kernel_size=(3,), stride=(1,), padding=(4,), dilation=(2,))\n",
       "          (1): Chomp1d()\n",
       "          (2): ReLU()\n",
       "          (3): Dropout2d(p=0.0, inplace=False)\n",
       "          (4): Conv1d(100, 100, kernel_size=(3,), stride=(1,), padding=(4,), dilation=(2,))\n",
       "          (5): Chomp1d()\n",
       "          (6): ReLU()\n",
       "          (7): Dropout2d(p=0.0, inplace=False)\n",
       "        )\n",
       "        (downsample): Conv1d(200, 100, kernel_size=(1,), stride=(1,))\n",
       "        (act_func3): ReLU()\n",
       "      )\n",
       "      (2): ResidualBlock(\n",
       "        (conv1): Conv1d(100, 1, kernel_size=(3,), stride=(1,), padding=(8,), dilation=(4,))\n",
       "        (chomp1): Chomp1d()\n",
       "        (act_func1): Identity()\n",
       "        (dropout1): Dropout2d(p=0.0, inplace=False)\n",
       "        (conv2): Conv1d(1, 1, kernel_size=(3,), stride=(1,), padding=(8,), dilation=(4,))\n",
       "        (chomp2): Chomp1d()\n",
       "        (act_func2): Identity()\n",
       "        (dropout2): Dropout2d(p=0.0, inplace=False)\n",
       "        (net): Sequential(\n",
       "          (0): Conv1d(100, 1, kernel_size=(3,), stride=(1,), padding=(8,), dilation=(4,))\n",
       "          (1): Chomp1d()\n",
       "          (2): Identity()\n",
       "          (3): Dropout2d(p=0.0, inplace=False)\n",
       "          (4): Conv1d(1, 1, kernel_size=(3,), stride=(1,), padding=(8,), dilation=(4,))\n",
       "          (5): Chomp1d()\n",
       "          (6): Identity()\n",
       "          (7): Dropout2d(p=0.0, inplace=False)\n",
       "        )\n",
       "        (downsample): Conv1d(100, 1, kernel_size=(1,), stride=(1,))\n",
       "        (act_func3): Identity()\n",
       "      )\n",
       "    )\n",
       "  )\n",
       ")"
      ]
     },
     "execution_count": null,
     "metadata": {},
     "output_type": "execute_result"
    }
   ],
   "source": [
    "learner.model"
   ]
  },
  {
   "cell_type": "code",
   "execution_count": null,
   "metadata": {},
   "outputs": [
    {
     "data": {
      "text/plain": [
       "torch.Size([12, 4, 24])"
      ]
     },
     "execution_count": null,
     "metadata": {},
     "output_type": "execute_result"
    }
   ],
   "source": [
    "cats.shape"
   ]
  },
  {
   "cell_type": "code",
   "execution_count": null,
   "metadata": {},
   "outputs": [
    {
     "data": {
      "text/plain": [
       "torch.Size([12, 1, 24])"
      ]
     },
     "execution_count": null,
     "metadata": {},
     "output_type": "execute_result"
    }
   ],
   "source": [
    "learner.model(cats, conts).shape"
   ]
  },
  {
   "cell_type": "code",
   "execution_count": null,
   "metadata": {},
   "outputs": [
    {
     "data": {
      "text/plain": [
       "torch.Size([12, 1, 24])"
      ]
     },
     "execution_count": null,
     "metadata": {},
     "output_type": "execute_result"
    }
   ],
   "source": [
    "ys.shape"
   ]
  },
  {
   "cell_type": "code",
   "execution_count": null,
   "metadata": {},
   "outputs": [
    {
     "data": {
      "text/html": [
       "<table border=\"1\" class=\"dataframe\">\n",
       "  <thead>\n",
       "    <tr style=\"text-align: left;\">\n",
       "      <th>epoch</th>\n",
       "      <th>train_loss</th>\n",
       "      <th>valid_loss</th>\n",
       "      <th>_rmse</th>\n",
       "      <th>time</th>\n",
       "    </tr>\n",
       "  </thead>\n",
       "  <tbody>\n",
       "    <tr>\n",
       "      <td>0</td>\n",
       "      <td>0.052616</td>\n",
       "      <td>0.026214</td>\n",
       "      <td>0.161907</td>\n",
       "      <td>00:03</td>\n",
       "    </tr>\n",
       "    <tr>\n",
       "      <td>1</td>\n",
       "      <td>0.031201</td>\n",
       "      <td>0.018823</td>\n",
       "      <td>0.137198</td>\n",
       "      <td>00:36</td>\n",
       "    </tr>\n",
       "    <tr>\n",
       "      <td>2</td>\n",
       "      <td>0.025360</td>\n",
       "      <td>0.018288</td>\n",
       "      <td>0.135234</td>\n",
       "      <td>00:01</td>\n",
       "    </tr>\n",
       "    <tr>\n",
       "      <td>3</td>\n",
       "      <td>0.019663</td>\n",
       "      <td>0.013736</td>\n",
       "      <td>0.117202</td>\n",
       "      <td>00:01</td>\n",
       "    </tr>\n",
       "    <tr>\n",
       "      <td>4</td>\n",
       "      <td>0.016586</td>\n",
       "      <td>0.013839</td>\n",
       "      <td>0.117641</td>\n",
       "      <td>00:01</td>\n",
       "    </tr>\n",
       "  </tbody>\n",
       "</table>"
      ],
      "text/plain": [
       "<IPython.core.display.HTML object>"
      ]
     },
     "metadata": {},
     "output_type": "display_data"
    }
   ],
   "source": [
    "learner.fit_one_cycle(5)"
   ]
  },
  {
   "cell_type": "code",
   "execution_count": null,
   "metadata": {},
   "outputs": [],
   "source": [
    "preds, targets = learner.predict(0)"
   ]
  },
  {
   "cell_type": "code",
   "execution_count": null,
   "metadata": {},
   "outputs": [],
   "source": [
    "result_df = learner.predict(0, as_df=True)"
   ]
  },
  {
   "cell_type": "code",
   "execution_count": null,
   "metadata": {},
   "outputs": [
    {
     "data": {
      "text/plain": [
       "<matplotlib.legend.Legend at 0x7ff2360fbee0>"
      ]
     },
     "execution_count": null,
     "metadata": {},
     "output_type": "execute_result"
    },
    {
     "data": {
      "image/png": "[encoded data removed]",
      "text/plain": [
       "<Figure size 1152x648 with 1 Axes>"
      ]
     },
     "metadata": {
      "needs_background": "light"
     },
     "output_type": "display_data"
    }
   ],
   "source": [
    "import matplotlib.pyplot as plt\n",
    "plt.figure(figsize=(16,9))\n",
    "plt.plot(targets[0:200], label=\"Target\")\n",
    "plt.plot(preds[0:200], label=\"Prediction\")\n",
    "plt.legend()\n",
    "# result_df[500:1000].plot(figsize=(16,9))"
   ]
  },
  {
   "cell_type": "markdown",
   "metadata": {},
   "source": [
    "Create a clasification dataloader, where we aim to forecast the task ID."
   ]
  },
  {
   "cell_type": "code",
   "execution_count": null,
   "metadata": {},
   "outputs": [
    {
     "data": {
      "text/plain": [
       "'Number of classes 3'"
      ]
     },
     "execution_count": null,
     "metadata": {},
     "output_type": "execute_result"
    }
   ],
   "source": [
    "dls = get_dls(cat_names = ['Month', 'Day', 'Hour'], y_names=[\"TaskID\"], \n",
    "              y_block=CategoryBlock(), \n",
    "              post_hooks=[reduce_target_timeseries_to_element])\n",
    "f\"Number of classes {dls.c}\""
   ]
  },
  {
   "cell_type": "code",
   "execution_count": null,
   "metadata": {},
   "outputs": [],
   "source": [
    "#hide\n",
    "# check that the convert function are working\n",
    "ts_data_cont = dls.train_ds.conts\n",
    "ts_data_cat = dls.train_ds.cats\n",
    "index, cats, conts, ys = convert_to_tensor_ts(dls.train_ds, include_index=True, flatten=True)\n",
    "test_eq(cats[1,0], ts_data_cat[0,0,1])\n",
    "test_eq(cats[1,1], ts_data_cat[0,1,1])\n",
    "test_eq(cats[1,2], ts_data_cat[0,2,1])\n",
    "test_eq(conts[1,0], ts_data_cont[0,0,1])\n",
    "test_eq(conts[1,1], ts_data_cont[0,1,1])\n",
    "test_eq(conts[1,2], ts_data_cont[0,2,1])"
   ]
  },
  {
   "cell_type": "markdown",
   "metadata": {},
   "source": [
    "We can either let the `renewable_timeseries_learner` handle the correct output shape by providing the `input_sequence_length` and `output_sequence_length`."
   ]
  },
  {
   "cell_type": "code",
   "execution_count": null,
   "metadata": {},
   "outputs": [
    {
     "data": {
      "text/plain": [
       "(24, 1)"
      ]
     },
     "execution_count": null,
     "metadata": {},
     "output_type": "execute_result"
    }
   ],
   "source": [
    "input_sequence_length=dls.input_sequence_length\n",
    "output_sequence_length=dls.output_sequence_length\n",
    "input_sequence_length, output_sequence_length"
   ]
  },
  {
   "cell_type": "code",
   "execution_count": null,
   "metadata": {},
   "outputs": [
    {
     "data": {
      "text/html": [
       "<table border=\"1\" class=\"dataframe\">\n",
       "  <thead>\n",
       "    <tr style=\"text-align: left;\">\n",
       "      <th>epoch</th>\n",
       "      <th>train_loss</th>\n",
       "      <th>valid_loss</th>\n",
       "      <th>accuracy</th>\n",
       "      <th>time</th>\n",
       "    </tr>\n",
       "  </thead>\n",
       "  <tbody>\n",
       "    <tr>\n",
       "      <td>0</td>\n",
       "      <td>0.675023</td>\n",
       "      <td>0.285465</td>\n",
       "      <td>0.872549</td>\n",
       "      <td>00:01</td>\n",
       "    </tr>\n",
       "    <tr>\n",
       "      <td>1</td>\n",
       "      <td>0.485232</td>\n",
       "      <td>0.244561</td>\n",
       "      <td>0.882353</td>\n",
       "      <td>00:01</td>\n",
       "    </tr>\n",
       "    <tr>\n",
       "      <td>2</td>\n",
       "      <td>0.397875</td>\n",
       "      <td>0.200846</td>\n",
       "      <td>0.911765</td>\n",
       "      <td>00:01</td>\n",
       "    </tr>\n",
       "    <tr>\n",
       "      <td>3</td>\n",
       "      <td>0.353867</td>\n",
       "      <td>0.190352</td>\n",
       "      <td>0.950980</td>\n",
       "      <td>00:01</td>\n",
       "    </tr>\n",
       "    <tr>\n",
       "      <td>4</td>\n",
       "      <td>0.309059</td>\n",
       "      <td>0.183733</td>\n",
       "      <td>0.931373</td>\n",
       "      <td>00:01</td>\n",
       "    </tr>\n",
       "  </tbody>\n",
       "</table>"
      ],
      "text/plain": [
       "<IPython.core.display.HTML object>"
      ]
     },
     "metadata": {},
     "output_type": "display_data"
    }
   ],
   "source": [
    "learner = renewable_timeseries_learner(dls, metrics=accuracy, \n",
    "               input_sequence_length=input_sequence_length,\n",
    "               output_sequence_length=output_sequence_length)\n",
    "learner.fit_one_cycle(5)"
   ]
  },
  {
   "cell_type": "markdown",
   "metadata": {},
   "source": [
    "Or alternatively, we can provide a custom layer converts the results of the `CNN` into the required shape for classification."
   ]
  },
  {
   "cell_type": "code",
   "execution_count": null,
   "metadata": {},
   "outputs": [],
   "source": [
    "num_outputs_last_cnn_layer = 10\n",
    "sequence_transform=MultiLayerPerceptron([input_sequence_length*num_outputs_last_cnn_layer, dls.c])"
   ]
  },
  {
   "cell_type": "code",
   "execution_count": null,
   "metadata": {},
   "outputs": [],
   "source": [
    "learner = renewable_timeseries_learner(dls, n_out=10, metrics=accuracy, \n",
    "               input_sequence_length=input_sequence_length,\n",
    "               sequence_transform=sequence_transform)"
   ]
  },
  {
   "cell_type": "code",
   "execution_count": null,
   "metadata": {},
   "outputs": [
    {
     "data": {
      "text/plain": [
       "FlattenedLoss of CrossEntropyLoss()"
      ]
     },
     "execution_count": null,
     "metadata": {},
     "output_type": "execute_result"
    }
   ],
   "source": [
    "learner.loss_func"
   ]
  },
  {
   "cell_type": "code",
   "execution_count": null,
   "metadata": {},
   "outputs": [
    {
     "data": {
      "text/plain": [
       "TemporalCNN(\n",
       "  (embedding_module): EmbeddingModule(\n",
       "    (embeddings): ModuleList(\n",
       "      (0): Embedding(13, 7)\n",
       "      (1): Embedding(32, 11)\n",
       "      (2): Embedding(25, 10)\n",
       "    )\n",
       "    (emb_drop): Dropout(p=0.1, inplace=False)\n",
       "  )\n",
       "  (bn_cont): BatchNorm1d(6, eps=1e-05, momentum=0.1, affine=True, track_running_stats=True)\n",
       "  (layers): TemporalConvNet(\n",
       "    (temporal_blocks): Sequential(\n",
       "      (0): ResidualBlock(\n",
       "        (conv1): Conv1d(6, 200, kernel_size=(3,), stride=(1,), padding=(2,))\n",
       "        (chomp1): Chomp1d()\n",
       "        (act_func1): ReLU()\n",
       "        (dropout1): Dropout2d(p=0.0, inplace=False)\n",
       "        (conv2): Conv1d(200, 200, kernel_size=(3,), stride=(1,), padding=(2,))\n",
       "        (chomp2): Chomp1d()\n",
       "        (act_func2): ReLU()\n",
       "        (dropout2): Dropout2d(p=0.0, inplace=False)\n",
       "        (net): Sequential(\n",
       "          (0): Conv1d(6, 200, kernel_size=(3,), stride=(1,), padding=(2,))\n",
       "          (1): Chomp1d()\n",
       "          (2): ReLU()\n",
       "          (3): Dropout2d(p=0.0, inplace=False)\n",
       "          (4): Conv1d(200, 200, kernel_size=(3,), stride=(1,), padding=(2,))\n",
       "          (5): Chomp1d()\n",
       "          (6): ReLU()\n",
       "          (7): Dropout2d(p=0.0, inplace=False)\n",
       "        )\n",
       "        (downsample): Conv1d(6, 200, kernel_size=(1,), stride=(1,))\n",
       "        (act_func3): ReLU()\n",
       "      )\n",
       "      (1): ResidualBlock(\n",
       "        (conv1): Conv1d(200, 100, kernel_size=(3,), stride=(1,), padding=(4,), dilation=(2,))\n",
       "        (chomp1): Chomp1d()\n",
       "        (act_func1): ReLU()\n",
       "        (dropout1): Dropout2d(p=0.0, inplace=False)\n",
       "        (conv2): Conv1d(100, 100, kernel_size=(3,), stride=(1,), padding=(4,), dilation=(2,))\n",
       "        (chomp2): Chomp1d()\n",
       "        (act_func2): ReLU()\n",
       "        (dropout2): Dropout2d(p=0.0, inplace=False)\n",
       "        (net): Sequential(\n",
       "          (0): Conv1d(200, 100, kernel_size=(3,), stride=(1,), padding=(4,), dilation=(2,))\n",
       "          (1): Chomp1d()\n",
       "          (2): ReLU()\n",
       "          (3): Dropout2d(p=0.0, inplace=False)\n",
       "          (4): Conv1d(100, 100, kernel_size=(3,), stride=(1,), padding=(4,), dilation=(2,))\n",
       "          (5): Chomp1d()\n",
       "          (6): ReLU()\n",
       "          (7): Dropout2d(p=0.0, inplace=False)\n",
       "        )\n",
       "        (downsample): Conv1d(200, 100, kernel_size=(1,), stride=(1,))\n",
       "        (act_func3): ReLU()\n",
       "      )\n",
       "      (2): ResidualBlock(\n",
       "        (conv1): Conv1d(100, 10, kernel_size=(3,), stride=(1,), padding=(8,), dilation=(4,))\n",
       "        (chomp1): Chomp1d()\n",
       "        (act_func1): Identity()\n",
       "        (dropout1): Dropout2d(p=0.0, inplace=False)\n",
       "        (conv2): Conv1d(10, 10, kernel_size=(3,), stride=(1,), padding=(8,), dilation=(4,))\n",
       "        (chomp2): Chomp1d()\n",
       "        (act_func2): Identity()\n",
       "        (dropout2): Dropout2d(p=0.0, inplace=False)\n",
       "        (net): Sequential(\n",
       "          (0): Conv1d(100, 10, kernel_size=(3,), stride=(1,), padding=(8,), dilation=(4,))\n",
       "          (1): Chomp1d()\n",
       "          (2): Identity()\n",
       "          (3): Dropout2d(p=0.0, inplace=False)\n",
       "          (4): Conv1d(10, 10, kernel_size=(3,), stride=(1,), padding=(8,), dilation=(4,))\n",
       "          (5): Chomp1d()\n",
       "          (6): Identity()\n",
       "          (7): Dropout2d(p=0.0, inplace=False)\n",
       "        )\n",
       "        (downsample): Conv1d(100, 10, kernel_size=(1,), stride=(1,))\n",
       "        (act_func3): Identity()\n",
       "      )\n",
       "    )\n",
       "  )\n",
       "  (sequence_transform): MultiLayerPerceptron(\n",
       "    (final_activation): Identity()\n",
       "    (embeds): ModuleList()\n",
       "    (emb_drop): Dropout(p=0.0, inplace=False)\n",
       "    (bn_cont): BatchNorm1d(240, eps=1e-05, momentum=0.1, affine=True, track_running_stats=True)\n",
       "    (layers): Sequential(\n",
       "      (0): LinBnDrop(\n",
       "        (0): Linear(in_features=240, out_features=3, bias=True)\n",
       "      )\n",
       "    )\n",
       "  )\n",
       ")"
      ]
     },
     "execution_count": null,
     "metadata": {},
     "output_type": "execute_result"
    }
   ],
   "source": [
    "learner.model"
   ]
  },
  {
   "cell_type": "code",
   "execution_count": null,
   "metadata": {},
   "outputs": [
    {
     "data": {
      "text/html": [
       "<table border=\"1\" class=\"dataframe\">\n",
       "  <thead>\n",
       "    <tr style=\"text-align: left;\">\n",
       "      <th>epoch</th>\n",
       "      <th>train_loss</th>\n",
       "      <th>valid_loss</th>\n",
       "      <th>accuracy</th>\n",
       "      <th>time</th>\n",
       "    </tr>\n",
       "  </thead>\n",
       "  <tbody>\n",
       "    <tr>\n",
       "      <td>0</td>\n",
       "      <td>0.633072</td>\n",
       "      <td>0.299490</td>\n",
       "      <td>0.862745</td>\n",
       "      <td>00:01</td>\n",
       "    </tr>\n",
       "    <tr>\n",
       "      <td>1</td>\n",
       "      <td>0.422641</td>\n",
       "      <td>0.167736</td>\n",
       "      <td>0.960784</td>\n",
       "      <td>00:01</td>\n",
       "    </tr>\n",
       "    <tr>\n",
       "      <td>2</td>\n",
       "      <td>0.328955</td>\n",
       "      <td>0.147837</td>\n",
       "      <td>0.950980</td>\n",
       "      <td>00:01</td>\n",
       "    </tr>\n",
       "    <tr>\n",
       "      <td>3</td>\n",
       "      <td>0.266653</td>\n",
       "      <td>0.135065</td>\n",
       "      <td>0.950980</td>\n",
       "      <td>00:01</td>\n",
       "    </tr>\n",
       "    <tr>\n",
       "      <td>4</td>\n",
       "      <td>0.228133</td>\n",
       "      <td>0.134149</td>\n",
       "      <td>0.960784</td>\n",
       "      <td>00:01</td>\n",
       "    </tr>\n",
       "  </tbody>\n",
       "</table>"
      ],
      "text/plain": [
       "<IPython.core.display.HTML object>"
      ]
     },
     "metadata": {},
     "output_type": "display_data"
    }
   ],
   "source": [
    "learner.fit_one_cycle(5)"
   ]
  },
  {
   "cell_type": "code",
   "execution_count": null,
   "metadata": {},
   "outputs": [
    {
     "name": "stdout",
     "output_type": "stream",
     "text": [
      "Converted 00a_utils.ipynb.\n",
      "Converted 00b_losses.ipynb.\n",
      "Converted 00c_utils_blitz.ipynb.\n",
      "Converted 00d_baselines.ipynb.\n",
      "Converted 00e_metrics.ipynb.\n",
      "Converted 00f_utils_pytorch.ipynb.\n",
      "Converted 01_tabular.core.ipynb.\n",
      "Converted 02_tabular.data.ipynb.\n",
      "Converted 03_tabular.model.ipynb.\n",
      "Converted 04_tabular.learner.ipynb.\n",
      "Converted 05_timeseries.core.ipynb.\n",
      "Converted 06_timeseries.data.ipynb.\n",
      "Converted 07_timeseries.model.ipynb.\n",
      "Converted 08_timeseries.learner.ipynb.\n",
      "Converted 09_gan.core.ipynb.\n",
      "Converted 10_gan.model.ipynb.\n",
      "Converted 11_gan.learner.ipynb.\n",
      "Converted 12_autoencoder_models.ipynb.\n",
      "Converted 13_probabilistic_models.ipynb.\n",
      "Converted index.ipynb.\n"
     ]
    }
   ],
   "source": [
    "from nbdev.export import notebook2script\n",
    "notebook2script()"
   ]
  }
 ],
 "metadata": {
  "kernelspec": {
   "display_name": "Python 3",
   "language": "python",
   "name": "python3"
  }
 },
 "nbformat": 4,
 "nbformat_minor": 4
}
