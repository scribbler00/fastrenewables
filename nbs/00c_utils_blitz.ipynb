{
 "cells": [
  {
   "cell_type": "code",
   "execution_count": null,
   "metadata": {},
   "outputs": [],
   "source": [
    "# default_exp utils_blitz"
   ]
  },
  {
   "cell_type": "markdown",
   "metadata": {},
   "source": [
    "# uitls_blitz\n",
    "\n",
    "> API details."
   ]
  },
  {
   "cell_type": "code",
   "execution_count": null,
   "metadata": {},
   "outputs": [],
   "source": [
    "#export\n",
    "#hide\n",
    "from blitz.modules import BayesianLinear\n",
    "from blitz.modules import BayesianEmbedding, BayesianConv1d, BayesianConv2d, BayesianConv3d\n",
    "from blitz.modules.base_bayesian_module import BayesianModule\n",
    "from torch import nn\n",
    "import torch\n",
    "from fastcore.basics import patch"
   ]
  },
  {
   "cell_type": "code",
   "execution_count": null,
   "metadata": {},
   "outputs": [],
   "source": [
    "@patch\n",
    "def extra_repr(self: BayesianLinear):\n",
    "    return f\"Shape: {list(self.weight_sampler.mu.shape)}\"\n",
    "\n",
    "@patch\n",
    "def extra_repr(self: BayesianConv1d):\n",
    "    return f\"in_channels={self.in_channels}, out_channels={self.out_channels}, kernelel_size={self.kernel_size}, stride={self.stride}\"\n",
    "\n",
    "@patch\n",
    "def extra_repr(self: BayesianConv2d):\n",
    "    return f\"in_channels={self.in_channels}, out_channels={self.out_channels}, kernelel_size={self.kernel_size}, stride={self.stride}\"\n",
    "\n",
    "@patch\n",
    "def extra_repr(self: BayesianConv3d):\n",
    "    return f\"in_channels={self.in_channels}, out_channels={self.out_channels}, kernelel_size={self.kernel_size}, stride={self.stride}\"\n"
   ]
  },
  {
   "cell_type": "code",
   "execution_count": null,
   "metadata": {},
   "outputs": [],
   "source": [
    "#export\n",
    "def convert_layer_to_bayesian(layer, config: dict):\n",
    "    if isinstance(layer, torch.nn.Linear):\n",
    "        new_layer = BayesianLinear(\n",
    "            layer.in_features,\n",
    "            layer.out_features,\n",
    "            prior_sigma_1=config[\"prior_sigma_1\"],\n",
    "            prior_sigma_2=config[\"prior_sigma_2\"],\n",
    "            prior_pi=config[\"prior_pi\"],\n",
    "            posterior_mu_init=config[\"posterior_mu_init\"],\n",
    "            posterior_rho_init=config[\"posterior_rho_init\"],\n",
    "        )\n",
    "    elif isinstance(layer, nn.Embedding):\n",
    "        new_layer = BayesianEmbedding(\n",
    "            layer.num_embeddings, \n",
    "            layer.embedding_dim,\n",
    "            prior_sigma_1=config[\"prior_sigma_1\"],\n",
    "            prior_sigma_2=config[\"prior_sigma_2\"],\n",
    "            prior_pi=config[\"prior_pi\"],\n",
    "            posterior_mu_init=config[\"posterior_mu_init\"],\n",
    "            posterior_rho_init=config[\"posterior_rho_init\"],\n",
    "        )\n",
    "    elif isinstance(layer, (nn.Conv1d, nn.Conv2d, nn.Conv3d)):\n",
    "        matching_class = BayesianConv1d\n",
    "        kernel_size = layer.kernel_size[0]\n",
    "        if type(layer) == nn.Conv2d:\n",
    "            kernel_size = layer.kernel_size\n",
    "            matching_class = BayesianConv2d\n",
    "        elif type(layer) == nn.Conv3d:\n",
    "            matching_class = BayesianConv3d\n",
    "            kernel_size = layer.kernel_size\n",
    "        new_layer = matching_class(\n",
    "            layer.in_channels,\n",
    "            layer.out_channels,\n",
    "            kernel_size=kernel_size,\n",
    "            groups=layer.groups,\n",
    "            padding=layer.padding,\n",
    "            dilation=layer.dilation,\n",
    "            prior_sigma_1=config[\"prior_sigma_1\"],\n",
    "            prior_sigma_2=config[\"prior_sigma_2\"],\n",
    "            prior_pi=config[\"prior_pi\"],\n",
    "            posterior_mu_init=config[\"posterior_mu_init\"],\n",
    "            posterior_rho_init=config[\"posterior_rho_init\"],\n",
    "        )\n",
    "    else:\n",
    "        Warning(\n",
    "            f\"Could not find correct type for conversion of layer {layer} with type {type(layer)}\"\n",
    "        )\n",
    "        new_layer = layer\n",
    "\n",
    "    return new_layer"
   ]
  },
  {
   "cell_type": "code",
   "execution_count": null,
   "metadata": {},
   "outputs": [],
   "source": [
    "config = {\"prior_sigma_1\":0.1,\n",
    "            \"prior_sigma_2\":0.4,\n",
    "            \"prior_pi\":1,\n",
    "            \"posterior_mu_init\":0,\n",
    "            \"posterior_rho_init\":-7}"
   ]
  },
  {
   "cell_type": "code",
   "execution_count": null,
   "metadata": {},
   "outputs": [
    {
     "data": {
      "text/plain": [
       "BayesianLinear(\n",
       "  Shape: [2, 10]\n",
       "  (weight_sampler): TrainableRandomDistribution()\n",
       "  (bias_sampler): TrainableRandomDistribution()\n",
       "  (weight_prior_dist): PriorWeightDistribution()\n",
       "  (bias_prior_dist): PriorWeightDistribution()\n",
       ")"
      ]
     },
     "execution_count": null,
     "metadata": {},
     "output_type": "execute_result"
    }
   ],
   "source": [
    "convert_layer_to_bayesian(nn.Linear(10,2), config)"
   ]
  },
  {
   "cell_type": "code",
   "execution_count": null,
   "metadata": {},
   "outputs": [
    {
     "data": {
      "text/plain": [
       "BayesianEmbedding(\n",
       "  (weight_sampler): TrainableRandomDistribution()\n",
       "  (weight_prior_dist): PriorWeightDistribution()\n",
       ")"
      ]
     },
     "execution_count": null,
     "metadata": {},
     "output_type": "execute_result"
    }
   ],
   "source": [
    "convert_layer_to_bayesian(nn.Embedding(10,2), config)"
   ]
  },
  {
   "cell_type": "code",
   "execution_count": null,
   "metadata": {},
   "outputs": [
    {
     "data": {
      "text/plain": [
       "BayesianConv1d(\n",
       "  in_channels=1, out_channels=2, kernelel_size=3, stride=1\n",
       "  (weight_sampler): TrainableRandomDistribution()\n",
       "  (bias_sampler): TrainableRandomDistribution()\n",
       "  (weight_prior_dist): PriorWeightDistribution()\n",
       "  (bias_prior_dist): PriorWeightDistribution()\n",
       ")"
      ]
     },
     "execution_count": null,
     "metadata": {},
     "output_type": "execute_result"
    }
   ],
   "source": [
    "convert_layer_to_bayesian(nn.Conv1d(1,2,3), config)"
   ]
  },
  {
   "cell_type": "code",
   "execution_count": null,
   "metadata": {},
   "outputs": [
    {
     "data": {
      "text/plain": [
       "BayesianConv2d(\n",
       "  in_channels=1, out_channels=2, kernelel_size=(3, 3), stride=1\n",
       "  (weight_sampler): TrainableRandomDistribution()\n",
       "  (bias_sampler): TrainableRandomDistribution()\n",
       "  (weight_prior_dist): PriorWeightDistribution()\n",
       "  (bias_prior_dist): PriorWeightDistribution()\n",
       ")"
      ]
     },
     "execution_count": null,
     "metadata": {},
     "output_type": "execute_result"
    }
   ],
   "source": [
    "convert_layer_to_bayesian(nn.Conv2d(1,2,(3,3)), config)"
   ]
  },
  {
   "cell_type": "code",
   "execution_count": null,
   "metadata": {},
   "outputs": [
    {
     "data": {
      "text/plain": [
       "BayesianConv2d(\n",
       "  in_channels=1, out_channels=2, kernelel_size=(3, 3, 3), stride=1\n",
       "  (weight_sampler): TrainableRandomDistribution()\n",
       "  (bias_sampler): TrainableRandomDistribution()\n",
       "  (weight_prior_dist): PriorWeightDistribution()\n",
       "  (bias_prior_dist): PriorWeightDistribution()\n",
       ")"
      ]
     },
     "execution_count": null,
     "metadata": {},
     "output_type": "execute_result"
    }
   ],
   "source": [
    "convert_layer_to_bayesian(nn.Conv2d(1,2,(3,3, 3)), config)"
   ]
  },
  {
   "cell_type": "code",
   "execution_count": null,
   "metadata": {},
   "outputs": [],
   "source": [
    "#export\n",
    "def convert_to_bayesian_model(model, config: dict):\n",
    "    for p in model.named_children():\n",
    "        cur_layer_name = p[0]\n",
    "        cur_layer = p[1]\n",
    "        if len(list(cur_layer.named_children())) > 0:\n",
    "            convert_to_bayesian_model(cur_layer, config)\n",
    "        elif not isinstance(cur_layer, BayesianModule):\n",
    "            new_layer = convert_layer_to_bayesian(cur_layer, config)\n",
    "            setattr(model, cur_layer_name, new_layer)\n",
    "\n",
    "    return model\n"
   ]
  },
  {
   "cell_type": "code",
   "execution_count": null,
   "metadata": {},
   "outputs": [
    {
     "data": {
      "text/plain": [
       "Sequential(\n",
       "  (0): BayesianLinear(\n",
       "    Shape: [4, 3]\n",
       "    (weight_sampler): TrainableRandomDistribution()\n",
       "    (bias_sampler): TrainableRandomDistribution()\n",
       "    (weight_prior_dist): PriorWeightDistribution()\n",
       "    (bias_prior_dist): PriorWeightDistribution()\n",
       "  )\n",
       "  (1): BayesianLinear(\n",
       "    Shape: [1, 4]\n",
       "    (weight_sampler): TrainableRandomDistribution()\n",
       "    (bias_sampler): TrainableRandomDistribution()\n",
       "    (weight_prior_dist): PriorWeightDistribution()\n",
       "    (bias_prior_dist): PriorWeightDistribution()\n",
       "  )\n",
       ")"
      ]
     },
     "execution_count": null,
     "metadata": {},
     "output_type": "execute_result"
    }
   ],
   "source": [
    "convert_to_bayesian_model(nn.Sequential(nn.Linear(3,4), nn.Linear(4,1)), config)"
   ]
  },
  {
   "cell_type": "code",
   "execution_count": null,
   "metadata": {},
   "outputs": [],
   "source": [
    "#export\n",
    "def set_train_mode(model, mode):\n",
    "    if isinstance(model, BayesianModule):\n",
    "        model.freeze = not mode\n",
    "\n",
    "    for module in model.children():\n",
    "        set_train_mode(module, mode)"
   ]
  }
 ],
 "metadata": {
  "kernelspec": {
   "display_name": "Python 3",
   "language": "python",
   "name": "python3"
  }
 },
 "nbformat": 4,
 "nbformat_minor": 4
}
