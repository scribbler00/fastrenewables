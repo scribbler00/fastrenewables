{
 "cells": [
  {
   "cell_type": "code",
   "execution_count": null,
   "metadata": {},
   "outputs": [],
   "source": [
    "# default_exp utils_blitz"
   ]
  },
  {
   "cell_type": "code",
   "execution_count": null,
   "metadata": {},
   "outputs": [],
   "source": [
    "#export\n",
    "#hide\n",
    "from blitz.modules import BayesianLinear\n",
    "from blitz.modules import BayesianEmbedding, BayesianConv1d\n",
    "from blitz.modules.base_bayesian_module import BayesianModule\n",
    "from torch import nn\n",
    "import torch"
   ]
  },
  {
   "cell_type": "code",
   "execution_count": null,
   "metadata": {},
   "outputs": [],
   "source": [
    "#export\n",
    "def convert_layer_to_bayesian(layer):\n",
    "    if isinstance(layer, torch.nn.Linear):\n",
    "        new_layer = BayesianLinear(layer.in_features, layer.out_features)\n",
    "    elif isinstance(layer, nn.Embedding):\n",
    "        new_layer = BayesianEmbedding(layer.num_embeddings, layer.embedding_dim)\n",
    "    elif isinstance(layer, nn.Conv1d):\n",
    "        new_layer = BayesianConv1d(\n",
    "            layer.in_channels,\n",
    "            layer.out_channels,\n",
    "            kernel_size=layer.kernel_size[0],\n",
    "            groups=layer.groups,\n",
    "            padding=layer.padding,\n",
    "            dilation=layer.dilation,\n",
    "        )\n",
    "    else:\n",
    "        Warning(\n",
    "            f\"Could not find correct type for conversion of layer {layer} with type {type(layer)}\"\n",
    "        )\n",
    "        new_layer = layer\n",
    "\n",
    "    return new_layer\n",
    "\n"
   ]
  },
  {
   "cell_type": "code",
   "execution_count": null,
   "metadata": {},
   "outputs": [],
   "source": [
    "#export\n",
    "def convert_to_bayesian_model(model):\n",
    "    for p in model.named_children():\n",
    "        cur_layer_name = p[0]\n",
    "        cur_layer = p[1]\n",
    "        if len(list(cur_layer.named_children())) > 0:\n",
    "            convert_to_bayesian_model(cur_layer)\n",
    "        elif not isinstance(cur_layer, BayesianModule):\n",
    "            new_layer = convert_layer_to_bayesian(cur_layer)\n",
    "            setattr(model, cur_layer_name, new_layer)\n",
    "\n",
    "    return model\n"
   ]
  },
  {
   "cell_type": "code",
   "execution_count": null,
   "metadata": {},
   "outputs": [],
   "source": [
    "#export\n",
    "def set_train_mode(model, mode):\n",
    "    if isinstance(model, BayesianModule):\n",
    "        model.freeze = not mode\n",
    "\n",
    "    for module in model.children():\n",
    "        set_train_mode(module, mode)"
   ]
  }
 ],
 "metadata": {
  "kernelspec": {
   "display_name": "Python 3",
   "language": "python",
   "name": "python3"
  }
 },
 "nbformat": 4,
 "nbformat_minor": 4
}
