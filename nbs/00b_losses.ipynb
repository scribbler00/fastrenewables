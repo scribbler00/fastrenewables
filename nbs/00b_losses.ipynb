{
 "cells": [
  {
   "cell_type": "code",
   "execution_count": null,
   "metadata": {},
   "outputs": [],
   "source": [
    "# default_exp losses"
   ]
  },
  {
   "cell_type": "markdown",
   "metadata": {},
   "source": [
    "# losses\n",
    "\n",
    "> API details."
   ]
  },
  {
   "cell_type": "code",
   "execution_count": null,
   "metadata": {},
   "outputs": [],
   "source": [
    "#export\n",
    "from torch import nn\n",
    "import torch"
   ]
  },
  {
   "cell_type": "code",
   "execution_count": null,
   "metadata": {},
   "outputs": [],
   "source": [
    "#export\n",
    "class VILoss(nn.Module):\n",
    "    \"\"\"\n",
    "    Calculate the Kullback-Leibler divergence loss.\n",
    "    Parameters\n",
    "    ----------\n",
    "    model : dies.embedding\n",
    "        the given embedding to base the loss on\n",
    "    lambd : float\n",
    "        scalar for the loss\n",
    "    \"\"\"\n",
    "\n",
    "    def __init__(\n",
    "        self,\n",
    "        model,\n",
    "        base_loss=torch.nn.MSELoss(),\n",
    "        kl_weight=0.1,\n",
    "    ):\n",
    "        super(VILoss, self).__init__()\n",
    "        self.base_loss = base_loss\n",
    "        self.model = model\n",
    "        self.kl_weight = kl_weight\n",
    "\n",
    "    def forward(self, y, y_hat):\n",
    "        \"\"\"\n",
    "\n",
    "        Parameters\n",
    "        ----------\n",
    "        y : pytorch.Tensor\n",
    "            any given tensor. Shape: [n, ]\n",
    "        y_hat : pytorch.Tensor\n",
    "            a tensor with the same shape as 'y'\n",
    "\n",
    "        Returns\n",
    "        -------\n",
    "        pytorch.Tensor\n",
    "            the resulting accumulated loss\n",
    "        \"\"\"\n",
    "        base_loss = self.base_loss(y, y_hat)\n",
    "\n",
    "        kl = self.model.nn_kl_divergence()\n",
    "        loss = base_loss + self.kl_weight * kl\n",
    "\n",
    "        return loss\n",
    "\n",
    "    def __repr__(self):\n",
    "        s = \"VILoss(\\n  (base_loss):\" + str(self.base_loss) + f\"\\n  (kl_weight): {self.kl_weight} \\n)\"\n",
    "        return s"
   ]
  },
  {
   "cell_type": "code",
   "execution_count": null,
   "metadata": {},
   "outputs": [
    {
     "name": "stdout",
     "output_type": "stream",
     "text": [
      "Converted 00_losses.ipynb.\n",
      "Converted 01_tabular.core.ipynb.\n",
      "Converted 02_tabular.data.ipynb.\n",
      "Converted 03_tabular.model.ipynb.\n",
      "Converted 04_tabular.learner.ipynb.\n",
      "Converted index.ipynb.\n"
     ]
    }
   ],
   "source": [
    "#hide\n",
    "from nbdev.export import notebook2script\n",
    "notebook2script()"
   ]
  }
 ],
 "metadata": {
  "kernelspec": {
   "display_name": "Python 3",
   "language": "python",
   "name": "python3"
  }
 },
 "nbformat": 4,
 "nbformat_minor": 4
}
