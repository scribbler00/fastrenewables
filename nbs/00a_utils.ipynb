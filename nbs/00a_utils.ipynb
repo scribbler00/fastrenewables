{
 "cells": [
  {
   "cell_type": "code",
   "execution_count": null,
   "metadata": {},
   "outputs": [],
   "source": [
    "# default_exp utils"
   ]
  },
  {
   "cell_type": "markdown",
   "metadata": {},
   "source": [
    "# utils\n",
    "\n",
    "> API details."
   ]
  },
  {
   "cell_type": "code",
   "execution_count": null,
   "metadata": {},
   "outputs": [],
   "source": [
    "#hide\n",
    "#export\n",
    "from fastcore.test import *\n",
    "import numpy as np"
   ]
  },
  {
   "cell_type": "code",
   "execution_count": null,
   "metadata": {},
   "outputs": [],
   "source": [
    "#export\n",
    "def contains_instance(elements:list, instance):\n",
    "    contains=False\n",
    "    elements = list(elements)\n",
    "    for element in elements:\n",
    "        if isinstance(element, instance):\n",
    "            contains=True\n",
    "            break\n",
    "    return contains"
   ]
  },
  {
   "cell_type": "code",
   "execution_count": null,
   "metadata": {},
   "outputs": [],
   "source": [
    "#export \n",
    "def filter_preds(targets, preds, min_value=0, max_value=1.1, filter_nas=True):\n",
    "    preds[preds < min_value] = min_value\n",
    "    preds[preds > max_value] = max_value\n",
    "    \n",
    "    if filter_nas:\n",
    "        mask_nans = ~np.isnan(preds)\n",
    "        preds, targets = preds[mask_nans], targets[mask_nans]\n",
    "    \n",
    "    return targets, preds"
   ]
  },
  {
   "cell_type": "code",
   "execution_count": null,
   "metadata": {},
   "outputs": [],
   "source": [
    "test_eq(True, contains_instance([1,2,3], int))\n",
    "test_eq(False, contains_instance([1,2,3], float))"
   ]
  }
 ],
 "metadata": {
  "kernelspec": {
   "display_name": "Python 3",
   "language": "python",
   "name": "python3"
  }
 },
 "nbformat": 4,
 "nbformat_minor": 4
}
