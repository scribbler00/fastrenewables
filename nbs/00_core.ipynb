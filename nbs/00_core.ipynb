{
 "cells": [
  {
   "cell_type": "code",
   "execution_count": null,
   "metadata": {},
   "outputs": [],
   "source": [
    "# default_exp core"
   ]
  },
  {
   "cell_type": "markdown",
   "metadata": {},
   "source": [
    "# core\n",
    "\n",
    "> API details."
   ]
  },
  {
   "cell_type": "code",
   "execution_count": null,
   "metadata": {},
   "outputs": [],
   "source": [
    "#hide\n",
    "#export\n",
    "import pandas as pd\n",
    "from nbdev.showdoc import *\n",
    "from fastai.data.external import *\n",
    "from fastcore.all import *\n",
    "from pathlib import PosixPath\n",
    "from fastcore.test import *\n",
    "from fastai.tabular.all import *\n",
    "import fastai\n",
    "from fastai.tabular.core import _maybe_expand"
   ]
  },
  {
   "cell_type": "code",
   "execution_count": null,
   "metadata": {},
   "outputs": [],
   "source": [
    "#hide\n",
    "#export\n",
    "def str_to_path(file: str):\n",
    "    \"Convers a string to a Posixpath.\"\n",
    "    if isinstance(file, str) and \"~\" in file:\n",
    "        file = os.path.expanduser(file)\n",
    "\n",
    "    file = Path(file)\n",
    "    \n",
    "    return file"
   ]
  },
  {
   "cell_type": "code",
   "execution_count": null,
   "metadata": {},
   "outputs": [],
   "source": [
    "#hide\n",
    "test_eq_type(Path(\"\"), str_to_path(\"\"))\n",
    "test_eq_type(Path(\"\"), str_to_path(Path(\"\")))"
   ]
  },
  {
   "cell_type": "code",
   "execution_count": null,
   "metadata": {},
   "outputs": [],
   "source": [
    "#export\n",
    "def read_hdf(file:PosixPath, key: str = \"/powerdata\", key_metadata=None):\n",
    "    \"Reads a hdf5 table based on the given key.\"\n",
    "    file = str_to_path(file)\n",
    "    if \"/\" not in key: key = \"/\" + key\n",
    "    with pd.HDFStore(file, \"r\") as store:\n",
    "        if key in store.keys():\n",
    "            df = store[key]\n",
    "            if key_metadata is not None:\n",
    "                df_meta = store[key_metadata]\n",
    "                for c in df_meta: df[c] = df_meta[c].values[0]\n",
    "        else:\n",
    "            df = pd.DataFrame()\n",
    "    return df"
   ]
  },
  {
   "cell_type": "code",
   "execution_count": null,
   "metadata": {},
   "outputs": [],
   "source": [
    "#hide\n",
    "df = pd.DataFrame({'A': [1, 2, 3], 'B': [4, 5, 6]},\n",
    "                  index=['a', 'b', 'c'])\n",
    "df.to_hdf('data.h5', key='df', mode='w')\n",
    "test_eq(df, read_hdf(\"data.h5\", key=\"df\"))"
   ]
  },
  {
   "cell_type": "code",
   "execution_count": null,
   "metadata": {},
   "outputs": [],
   "source": [
    "#export\n",
    "def read_csv(file:PosixPath, sep:str =\";\"):\n",
    "    \"Reads a csv file.\"\n",
    "    file = str_to_path(file)\n",
    "    df = pd.read_csv(str(file), sep=sep)\n",
    "    df.drop([\"Unnamed: 0\"], inplace=True, axis=1, errors=\"ignore\")\n",
    "    return df"
   ]
  },
  {
   "cell_type": "code",
   "execution_count": null,
   "metadata": {},
   "outputs": [],
   "source": [
    "#hide\n",
    "df = pd.DataFrame({'A': [1, 2, 3], 'B': [4, 5, 6]},)\n",
    "df.to_csv('data.csv', sep=\";\")\n",
    "test_eq(df, read_csv(\"data.csv\", sep=\";\"))"
   ]
  },
  {
   "cell_type": "code",
   "execution_count": null,
   "metadata": {},
   "outputs": [],
   "source": [
    "#export\n",
    "def read_files(\n",
    "    files:PosixPath,\n",
    "    key:str =\"/powerdata\",\n",
    "    key_metadata=None,\n",
    "    sep:str=\";\",\n",
    "    add_task_id=True\n",
    ") -> pd.DataFrame:\n",
    "    \"Reads a number of CSV or HDF5 files depending on file ending.\"\n",
    "    \n",
    "    files = listify(files)\n",
    "    dfs=L()\n",
    "    for task_id,file in enumerate(files):\n",
    "        if isinstance(file, str):\n",
    "            file = str_to_path(file)\n",
    "\n",
    "        if file.suffix == \".h5\":\n",
    "            df = read_hdf(file, key, key_metadata=key_metadata)\n",
    "        elif file.suffix == \".csv\":\n",
    "            df = read_csv(file, sep=\";\")\n",
    "        else:\n",
    "            raise f\"File ending of file {file} not supported.\"\n",
    "        if add_task_id:df[\"TaskID\"]=task_id\n",
    "        dfs += df\n",
    "        \n",
    "    return dfs"
   ]
  },
  {
   "cell_type": "code",
   "execution_count": null,
   "metadata": {},
   "outputs": [],
   "source": [
    "df = pd.DataFrame({'A': [1, 2, 3], 'B': [4, 5, 6]},\n",
    "                  index=['a', 'b', 'c'])\n",
    "df.to_hdf('data.h5', key='df', mode='w')\n",
    "test_eq(df, read_files(\"data.h5\", key=\"df\", add_task_id=False)[0])\n",
    "\n",
    "df = pd.DataFrame({'A': [1, 2, 3], 'B': [4, 5, 6]},)\n",
    "df.to_csv('data.csv', sep=\";\")\n",
    "test_eq(df, read_files(\"data.csv\", add_task_id=False)[0])"
   ]
  },
  {
   "cell_type": "code",
   "execution_count": null,
   "metadata": {},
   "outputs": [],
   "source": [
    "#export\n",
    "# this is merely a class to differentiate between fastai processing and renewbale pre-processing functionality\n",
    "class RenewablesTabularProc(TabularProc):\n",
    "    pass"
   ]
  },
  {
   "cell_type": "code",
   "execution_count": null,
   "metadata": {},
   "outputs": [],
   "source": [
    "class TestProc(RenewablesTabularProc): pass\n",
    "test_eq(isinstance(TestProc(), RenewablesTabularProc), True)"
   ]
  },
  {
   "cell_type": "code",
   "execution_count": null,
   "metadata": {},
   "outputs": [],
   "source": [
    "#export\n",
    "class CreateTimeStampIndex(RenewablesTabularProc):\n",
    "    order=0\n",
    "    def __init__(self, col_name, offset_correction=None):\n",
    "        self.col_name = col_name\n",
    "        self.offset_correction = offset_correction\n",
    "        \n",
    "    def encodes(self, to):\n",
    "        df = to.items\n",
    "\n",
    "        \n",
    "        if self.col_name in df.columns:\n",
    "            df.reset_index(drop=True, inplace=True)\n",
    "            df.rename({self.col_name: \"TimeUTC\"}, axis=1, inplace=True)\n",
    "            #  in case the timestamp is index give it a proper timestamp,e.g., in GermanSolarFarm dataset\n",
    "            if \"0000-\" in df.TimeUTC[0]:\n",
    "                df.TimeUTC = df.TimeUTC.apply(\n",
    "                    lambda x: x.replace(\"0000-\", \"2015-\").replace(\"0001-\", \"2016-\")\n",
    "                )\n",
    "            df.TimeUTC = pd.to_datetime(df.TimeUTC, infer_datetime_format=True, utc=True)\n",
    "            df.set_index(\"TimeUTC\", inplace=True)\n",
    "            df.index = df.index.rename(\"TimeUTC\")\n",
    "            \n",
    "            #  for GermanSolarFarm, the index is not corret. Should have a three hour resolution but is one...\n",
    "            if self.offset_correction is not None:\n",
    "                i, new_index = 0, []\n",
    "                for cur_index in df.index:\n",
    "                    new_index.append(cur_index + pd.DateOffset(hours=i))\n",
    "                    i += self.offset_correction\n",
    "                df.index = new_index\n",
    "        elif to.items.index.name == self.col_name:\n",
    "            warnings.warn(f\"Timetamps column {self.col_name} already set as index.\")\n",
    "        else:  warnings.warn(f\"Timetamps column {self.col_name} not in columns {df.columns}\")"
   ]
  },
  {
   "cell_type": "code",
   "execution_count": null,
   "metadata": {},
   "outputs": [
    {
     "data": {
      "text/plain": [
       "__main__.CreateTimeStampIndex"
      ]
     },
     "execution_count": null,
     "metadata": {},
     "output_type": "execute_result"
    }
   ],
   "source": [
    "type(CreateTimeStampIndex(col_name=\"TimeStamps\"))"
   ]
  },
  {
   "cell_type": "code",
   "execution_count": null,
   "metadata": {},
   "outputs": [],
   "source": [
    "def get_test_data(index=None):\n",
    "    df = pd.DataFrame(index=range(0,5), columns = ['A', 'B', 'C'] ).fillna(0)\n",
    "    if index is not None: df[\"TimeStamps\"] = index\n",
    "    return TabularPandas(df)\n",
    "# tests basic functionality to set a proper timestamp based index\n",
    "index = ['2015-01-01-01', '2015-01-01-02', '2015-01-02-03', '2015-02-01-23', '2015-02-01-13'] \n",
    "to = get_test_data(index)\n",
    "test_eq(CreateTimeStampIndex(col_name=\"TimeStamps\")(to).items.index, pd.to_datetime(index, utc=True))\n",
    "\n",
    "# corrects missing year\n",
    "index_missing_year = ['0000-01-01-01', '0000-01-01-02', '0000-01-02-03', '0000-02-01-23', '0000-02-01-13'] \n",
    "to = get_test_data(index_missing_year)\n",
    "test_eq(CreateTimeStampIndex(col_name=\"TimeStamps\")(to).items.index, pd.to_datetime(index, utc=True))\n",
    "\n",
    "# check if warning is triggered, due to wrong column name\n",
    "to = get_test_data(index)\n",
    "test_call = lambda: CreateTimeStampIndex(col_name=\"FalseColumnName\")(to)\n",
    "test_warns(test_call)"
   ]
  },
  {
   "cell_type": "code",
   "execution_count": null,
   "metadata": {},
   "outputs": [],
   "source": [
    "#export\n",
    "class AddSeasonalFeatures(RenewablesTabularProc):\n",
    "    order=0\n",
    "    def encodes(self, to):\n",
    "        to.items[\"Month\"] = to.items.index.month\n",
    "        to.items[\"Day\"] = to.items.index.day\n",
    "        to.items[\"Hour\"] = to.items.index.hour"
   ]
  },
  {
   "cell_type": "code",
   "execution_count": null,
   "metadata": {},
   "outputs": [],
   "source": [
    "to = get_test_data(index=['2018-01-01-01', '2018-01-01-02', '2018-01-02-03', '2018-02-01-23', '2018-02-01-13'] )\n",
    "CreateTimeStampIndex(\"TimeStamps\")(to)\n",
    "AddSeasonalFeatures()(to)\n",
    "test_eq(np.array([1,1,1,2,2]), to.items.Month.values)\n",
    "test_eq(np.array([1,1,2,1,1]), to.items.Day.values)\n",
    "test_eq(np.array([1,2,3,23,13]), to.items.Hour.values)"
   ]
  },
  {
   "cell_type": "code",
   "execution_count": null,
   "metadata": {},
   "outputs": [],
   "source": [
    "#export\n",
    "class FilterYear(RenewablesTabularProc):\n",
    "    \"Filter a list of years. By default the years are dropped.\"\n",
    "    order = 10\n",
    "    def __init__(self, year, drop=True):\n",
    "        \"year(s) to filter, whether to drop or keep the years.\"\n",
    "        year = listify(year)\n",
    "        self.year = L(int(y) for y in year)\n",
    "        self.drop = drop\n",
    "        \n",
    "    def encodes(self, to): \n",
    "        mask = None\n",
    "        for y in self.year:\n",
    "            cur_mask = to.items.index.year == y              \n",
    "            if mask is None: mask = cur_mask\n",
    "            else: mask = mask | cur_mask\n",
    "                \n",
    "        if not self.drop: mask = ~mask\n",
    "        to.items.drop(to.items[mask].index, inplace=True)"
   ]
  },
  {
   "cell_type": "code",
   "execution_count": null,
   "metadata": {},
   "outputs": [],
   "source": [
    "def test_data_filter_year():\n",
    "    index = ['2018-01-01-01', '2019-01-01-02', '2020-01-02-03',] \n",
    "    return TabularPandas(pd.DataFrame(index=pd.to_datetime(index),\n",
    "                      columns = ['A', 'B', 'C'] ).fillna(0))\n",
    "    \n",
    "to = test_data_filter_year()\n",
    "FilterYear(year=2018)(to)\n",
    "test_eq(np.array([2019,2020]), to.items.index.year)\n",
    "to = test_data_filter_year()\n",
    "FilterYear(year=2020, drop=False)(to)\n",
    "test_eq(np.array([2020]), to.items.index.year)\n",
    "to = test_data_filter_year()\n",
    "FilterYear(year=[2018,2020], drop=True)(to)\n",
    "test_eq(np.array([2019]), to.items.index.year)\n",
    "to = test_data_filter_year()\n",
    "FilterYear(year=[2018,2020], drop=False)(to)\n",
    "test_eq(np.array([2018,2020]), to.items.index.year)"
   ]
  },
  {
   "cell_type": "code",
   "execution_count": null,
   "metadata": {},
   "outputs": [],
   "source": [
    "#export\n",
    "class DropCols(RenewablesTabularProc):\n",
    "    \"Drops rows by column name.\"\n",
    "    order = 10\n",
    "    def __init__(self, cols):\n",
    "        self.cols = listify(cols)\n",
    "        \n",
    "    def encodes(self, to): \n",
    "        to.items.drop(self.cols, axis=1, inplace=True, errors=\"ignore\")"
   ]
  },
  {
   "cell_type": "code",
   "execution_count": null,
   "metadata": {},
   "outputs": [],
   "source": [
    "to = get_test_data()\n",
    "DropCols(None)(to)\n",
    "test_eq(to.items.columns, [\"A\", \"B\", \"C\"])\n",
    "to = get_test_data()\n",
    "DropCols([])(to)\n",
    "test_eq(to.items.columns, [\"A\", \"B\", \"C\"])\n",
    "to = get_test_data()\n",
    "DropCols([\"C\"])(to)\n",
    "test_eq(to.items.columns, [\"A\", \"B\"])\n",
    "to = get_test_data()\n",
    "DropCols([\"A\", \"B\"])(to)\n",
    "test_eq(to.items.columns, [\"C\"])\n",
    "to = get_test_data()"
   ]
  },
  {
   "cell_type": "code",
   "execution_count": null,
   "metadata": {},
   "outputs": [],
   "source": [
    "#export\n",
    "class FilterByCol(TabularProc):\n",
    "    \"Drops rows by column.\"\n",
    "    order = 0\n",
    "    def __init__(self, col_name, drop=True, drop_col_after_filter=True):\n",
    "        self.col_name = col_name\n",
    "        self.drop = drop\n",
    "        self.drop_col_after_filter=drop_col_after_filter\n",
    "        \n",
    "    def encodes(self, to): \n",
    "        mask = to.items[self.col_name].astype(bool).values\n",
    "        if not self.drop: mask = ~mask\n",
    "        to.items.drop(to.items[mask].index, inplace=True)\n",
    "        if self.drop_col_after_filter: to.items.drop(self.col_name, axis=1, inplace=True, errors=\"ignore\")\n"
   ]
  },
  {
   "cell_type": "code",
   "execution_count": null,
   "metadata": {},
   "outputs": [],
   "source": [
    "to = get_test_data()\n",
    "to.loc[:,\"C\"] = [0,0,1,1,0]\n",
    "FilterByCol(col_name=\"C\", drop_col_after_filter=True, drop=True)(to)\n",
    "test_eq(list(to.items.index),[0,1,4])\n",
    "test_eq(to.items.columns,[\"A\",\"B\"])\n",
    "\n",
    "to = get_test_data()\n",
    "to.loc[:,\"C\"] = [0,0,1,1,0]\n",
    "FilterByCol(col_name=\"C\", drop_col_after_filter=False, drop=False)(to)\n",
    "test_eq(list(to.items.index),[2,3])\n",
    "test_eq(to.items.columns,[\"A\",\"B\", \"C\"])"
   ]
  },
  {
   "cell_type": "code",
   "execution_count": null,
   "metadata": {},
   "outputs": [],
   "source": [
    "#export\n",
    "class FilterMonths(TabularProc):\n",
    "    \"Filter dataframe for specific months.\"\n",
    "    order = 10\n",
    "    def __init__(self, months=range(1,13), drop=False):\n",
    "        self.months = listify(months)\n",
    "        self.drop = drop\n",
    "        \n",
    "    def encodes(self, to): \n",
    "        mask = to.items.index.month.isin(self.months)\n",
    "        if not self.drop: mask = ~mask\n",
    "        to.items.drop(to.items[mask].index, inplace=True)"
   ]
  },
  {
   "cell_type": "code",
   "execution_count": null,
   "metadata": {},
   "outputs": [],
   "source": [
    "def get_test_data_filter_month():\n",
    "    to = get_test_data(index=['2018-01-01-01', '2018-02-01-02', '2018-03-02-03', '2018-04-01-23', '2018-05-01-13'])\n",
    "    CreateTimeStampIndex(\"TimeStamps\")(to)\n",
    "    return to\n",
    "\n",
    "def test_filter_month(months,drop,expected_result):\n",
    "    to = get_test_data_filter_month()\n",
    "    FilterMonths(months,drop)(to)\n",
    "    test_eq(to.items.index.month, expected_result)\n",
    "    \n",
    "test_filter_month([1,2], False, [1,2])\n",
    "test_filter_month(range(1,3), False, [1,2])\n",
    "test_filter_month([1], False, [1])\n",
    "test_filter_month([1,2], True, [3,4,5])"
   ]
  },
  {
   "cell_type": "code",
   "execution_count": null,
   "metadata": {},
   "outputs": [],
   "source": [
    "# export\n",
    "class TabularRenewables(TabularPandas):\n",
    "    def __init__(self, dfs, procs=None, cat_names=None, cont_names=None, do_setup=True, reduce_memory=False,\n",
    "                 y_names=None, add_y_to_x=False, add_x_to_y=False, pre_process=None, device=None, splits=None, y_block=RegressionBlock()):\n",
    "        \n",
    "        self.pre_process = pre_process\n",
    "        if pre_process is not None:\n",
    "            self.prepared_to = TabularPandas(dfs, y_names=y_names, procs=pre_process, cont_names=cont_names,\n",
    "                                          do_setup=True, reduce_memory=False)\n",
    "            prepared_df = self.prepared_to.items\n",
    "        else:\n",
    "            prepared_df = dfs\n",
    "        if splits is not None: splits = splits(range_of(prepared_df))    \n",
    "        super().__init__(prepared_df, \n",
    "            procs=procs,\n",
    "            cat_names=cat_names,\n",
    "            cont_names=cont_names,\n",
    "            y_names=y_names,\n",
    "            splits=splits,\n",
    "            do_setup=do_setup,\n",
    "            inplace=True,\n",
    "            y_block=y_block, \n",
    "            reduce_memory=reduce_memory)\n",
    "     \n",
    "    def new(self, df, pre_process=None, splits=None):\n",
    "        return type(self)(df, do_setup=False, reduce_memory=False, y_block=TransformBlock(), \n",
    "                          pre_process=pre_process, splits=splits,\n",
    "                          **attrdict(self, 'procs','cat_names','cont_names','y_names', 'device'))\n",
    "    \n",
    "    def show(self, max_n=10, **kwargs): \n",
    "        to_tmp = self.new(self.all_cols[:max_n])\n",
    "        to_tmp.items[\"TaskID\"] = self.items.TaskID[:max_n]\n",
    "        display_df(to_tmp.decode().items)\n"
   ]
  },
  {
   "cell_type": "markdown",
   "metadata": {},
   "source": [
    "To assure that we can de-normlize each task we assure that the task id is always stored."
   ]
  },
  {
   "cell_type": "code",
   "execution_count": null,
   "metadata": {},
   "outputs": [],
   "source": [
    "#export\n",
    "\n",
    "class ReadTabBatchRenewables(ItemTransform):\n",
    "    \"Transform `TabularPandas` values into a `Tensor` with the ability to decode\"\n",
    "    def __init__(self, to): self.to = to.new_empty()\n",
    "\n",
    "    def encodes(self, to):\n",
    "        self.task_ids = to.items[[\"TaskID\"]]\n",
    "        if not to.with_cont: res = (tensor(to.cats).long(),)\n",
    "        else: res = (tensor(to.cats).long(),tensor(to.conts).float())\n",
    "        ys = [n for n in to.y_names if n in to.items.columns]\n",
    "        if len(ys) == len(to.y_names): res = res + (tensor(to.targ),)\n",
    "        if to.device is not None: res = to_device(res, to.device)\n",
    "        return res\n",
    "\n",
    "    def decodes(self, o):\n",
    "        \n",
    "        o = [_maybe_expand(o_) for o_ in to_np(o) if o_.size != 0]\n",
    "        vals = np.concatenate(o, axis=1)\n",
    "        try: df = pd.DataFrame(vals, columns=self.to.all_col_names)\n",
    "        except: df = pd.DataFrame(vals, columns=self.to.x_names)\n",
    "        \n",
    "        to = self.to.new(df)\n",
    "        to.items[\"TaskID\"]=self.task_ids.values\n",
    "\n",
    "        return to\n"
   ]
  },
  {
   "cell_type": "code",
   "execution_count": null,
   "metadata": {},
   "outputs": [],
   "source": [
    "# @typedispatch\n",
    "# def show_batch(x: Tabular, y, its, max_n=10, ctxs=None):\n",
    "#     x.show()"
   ]
  },
  {
   "cell_type": "code",
   "execution_count": null,
   "metadata": {},
   "outputs": [],
   "source": [
    "@delegates()\n",
    "class TabDataLoaderRenewables(TfmdDL):\n",
    "    \"A transformed `DataLoader` for Tabular data\"\n",
    "    def __init__(self, dataset, bs=16, shuffle=False, after_batch=None, num_workers=0, **kwargs):\n",
    "        if after_batch is None: after_batch = L(TransformBlock().batch_tfms)+ReadTabBatchRenewables(dataset)\n",
    "        super().__init__(dataset, bs=bs, shuffle=shuffle, after_batch=after_batch, num_workers=num_workers, **kwargs)\n",
    "\n",
    "    def create_batch(self, b): return self.dataset.iloc[b]\n",
    "    def do_item(self, s):      return 0 if s is None else s\n",
    "\n",
    "TabularRenewables._dl_type = TabDataLoaderRenewables"
   ]
  },
  {
   "cell_type": "code",
   "execution_count": null,
   "metadata": {},
   "outputs": [],
   "source": [
    "#export\n",
    "class NormalizePerTask(TabularProc):\n",
    "    \"Normalize per TaskId\"\n",
    "    order = 1\n",
    "    def __init__(self, task_id_col=\"TaskID\"):\n",
    "        self.task_id_col = task_id_col\n",
    "    def setups(self, to:Tabular):\n",
    "        self.means = getattr(to, 'train', to)[to.cont_names + \"TaskID\"].groupby(\"TaskID\").mean()\n",
    "        self.stds = getattr(to, 'train', to)[to.cont_names + \"TaskID\"].groupby(\"TaskID\").std(ddof=0)+1e-7\n",
    "\n",
    "\n",
    "    def encodes(self, to):\n",
    "        for task_id in to.items[self.task_id_col].unique():\n",
    "            # in case this is a new task, we update the means and stds\n",
    "            if task_id not in self.means.index:\n",
    "                mu = getattr(to, 'train', to)[to.cont_names + \"TaskID\"].groupby(\"TaskID\").mean()\n",
    " \n",
    "                self.means= self.means.append(mu)\n",
    "                self.stds = self.stds.append(getattr(to, 'train', to)[to.cont_names + \"TaskID\"].groupby(\"TaskID\").std(ddof=0)+1e-7)\n",
    "             \n",
    "                \n",
    "            mask = to.loc[:,self.task_id_col] == task_id\n",
    "                   \n",
    "            to.loc[mask, to.cont_names] = ((to.conts[mask] - self.means.loc[task_id]) / self.stds.loc[task_id])\n",
    "            \n",
    "    def decodes(self, to): \n",
    "        for task_id in to.items[self.task_id_col].unique():\n",
    "            # in case this is a new task, we update the means and stds\n",
    "            if task_id not in self.means.index:\n",
    "                warnings.warn(\"Missing task id, could not decode.\")\n",
    "                \n",
    "            mask = to.loc[:,self.task_id_col] == task_id\n",
    "                   \n",
    "            to.loc[mask, to.cont_names] = to.conts[mask] * self.stds.loc[task_id] + self.means.loc[task_id]\n",
    "        return to"
   ]
  },
  {
   "cell_type": "code",
   "execution_count": null,
   "metadata": {},
   "outputs": [],
   "source": [
    "def get_test_data_task_normalization(index=None, procs=NormalizePerTask):\n",
    "    df = pd.DataFrame(index=range(1,11), columns = ['A', 'B', 'C'] , \n",
    "                      data=np.array([list(range(1,11)), list(range(11,21)), list(range(21,31))]).T)\n",
    "    if index is not None: df[\"TimeStamps\"] = index\n",
    "    df[\"TaskID\"] = L(1 if i <= 5  else 2 for i in range(1,11))\n",
    "    index = ['2015-01-01-01', '2015-01-01-02', '2015-01-02-03', '2015-02-01-23', '2015-02-01-13',\n",
    "        '2016-01-01-01', '2016-01-01-02', '2016-06-02-03', '2016-02-01-23', '2016-02-01-13'] \n",
    "    df[\"TimeStamps\"] = index\n",
    "    to = TabularRenewables(df, pre_process=CreateTimeStampIndex(col_name=\"TimeStamps\"), \n",
    "                           procs=[NormalizePerTask], cont_names=[\"A\", \"B\"] , y_names=\"C\", \n",
    "#                            cat_names=[\"TaskID\"]\n",
    "                          )\n",
    "    df[\"TimeStamps\"] = pd.to_datetime(index, utc=True)\n",
    "    df.set_index(\"TimeStamps\",inplace=True)\n",
    "    return df,to\n"
   ]
  },
  {
   "cell_type": "code",
   "execution_count": null,
   "metadata": {},
   "outputs": [],
   "source": [
    "original_df, to = get_test_data_task_normalization()\n",
    "test_eq(original_df.astype(float), to.decode().items.astype(float))\n",
    "test_eq(np.array([[3,13],[8,18]]), to.normalize_per_task.means.values)\n",
    "test_close(np.array([[1.41421366, 1.41421366],[1.41421366, 1.41421366]]), to.normalize_per_task.stds.values)"
   ]
  },
  {
   "cell_type": "markdown",
   "metadata": {},
   "source": [
    "Lets create a dataloader and show a single batch."
   ]
  },
  {
   "cell_type": "code",
   "execution_count": null,
   "metadata": {},
   "outputs": [],
   "source": [
    "dl = to.dataloaders(bs=4)"
   ]
  },
  {
   "cell_type": "code",
   "execution_count": null,
   "metadata": {},
   "outputs": [
    {
     "data": {
      "text/html": [
       "<table border=\"1\" class=\"dataframe\">\n",
       "  <thead>\n",
       "    <tr style=\"text-align: right;\">\n",
       "      <th></th>\n",
       "      <th>A</th>\n",
       "      <th>B</th>\n",
       "      <th>C</th>\n",
       "      <th>TaskID</th>\n",
       "    </tr>\n",
       "  </thead>\n",
       "  <tbody>\n",
       "    <tr>\n",
       "      <th>0</th>\n",
       "      <td>7.242641</td>\n",
       "      <td>31.384778</td>\n",
       "      <td>23.0</td>\n",
       "      <td>1</td>\n",
       "    </tr>\n",
       "    <tr>\n",
       "      <th>1</th>\n",
       "      <td>10.071068</td>\n",
       "      <td>34.213205</td>\n",
       "      <td>25.0</td>\n",
       "      <td>1</td>\n",
       "    </tr>\n",
       "    <tr>\n",
       "      <th>2</th>\n",
       "      <td>17.899496</td>\n",
       "      <td>42.041632</td>\n",
       "      <td>27.0</td>\n",
       "      <td>2</td>\n",
       "    </tr>\n",
       "    <tr>\n",
       "      <th>3</th>\n",
       "      <td>16.485282</td>\n",
       "      <td>40.627419</td>\n",
       "      <td>26.0</td>\n",
       "      <td>2</td>\n",
       "    </tr>\n",
       "  </tbody>\n",
       "</table>"
      ],
      "text/plain": [
       "<IPython.core.display.HTML object>"
      ]
     },
     "metadata": {},
     "output_type": "display_data"
    }
   ],
   "source": [
    "dl.show_batch()"
   ]
  },
  {
   "cell_type": "markdown",
   "metadata": {},
   "source": [
    "The following gives an example on how to add a new task, that is normalized based on the first year. E.g. when the features are numerical weather predictions. As those are themselves forecasts, we can always extract the past and use the data for standardization."
   ]
  },
  {
   "cell_type": "code",
   "execution_count": null,
   "metadata": {},
   "outputs": [],
   "source": [
    "original_df, to = get_test_data_task_normalization()\n",
    "original_df[\"TaskID\"] = 3"
   ]
  },
  {
   "cell_type": "code",
   "execution_count": null,
   "metadata": {},
   "outputs": [
    {
     "data": {
      "text/html": [
       "<div>\n",
       "<style scoped>\n",
       "    .dataframe tbody tr th:only-of-type {\n",
       "        vertical-align: middle;\n",
       "    }\n",
       "\n",
       "    .dataframe tbody tr th {\n",
       "        vertical-align: top;\n",
       "    }\n",
       "\n",
       "    .dataframe thead th {\n",
       "        text-align: right;\n",
       "    }\n",
       "</style>\n",
       "<table border=\"1\" class=\"dataframe\">\n",
       "  <thead>\n",
       "    <tr style=\"text-align: right;\">\n",
       "      <th></th>\n",
       "      <th>A</th>\n",
       "      <th>B</th>\n",
       "      <th>C</th>\n",
       "      <th>TaskID</th>\n",
       "    </tr>\n",
       "  </thead>\n",
       "  <tbody>\n",
       "    <tr>\n",
       "      <th>count</th>\n",
       "      <td>5.000000e+00</td>\n",
       "      <td>5.000000e+00</td>\n",
       "      <td>5.000000</td>\n",
       "      <td>5.0</td>\n",
       "    </tr>\n",
       "    <tr>\n",
       "      <th>mean</th>\n",
       "      <td>-4.440892e-17</td>\n",
       "      <td>-4.440892e-17</td>\n",
       "      <td>23.000000</td>\n",
       "      <td>3.0</td>\n",
       "    </tr>\n",
       "    <tr>\n",
       "      <th>std</th>\n",
       "      <td>1.118034e+00</td>\n",
       "      <td>1.118034e+00</td>\n",
       "      <td>1.581139</td>\n",
       "      <td>0.0</td>\n",
       "    </tr>\n",
       "    <tr>\n",
       "      <th>min</th>\n",
       "      <td>-1.414213e+00</td>\n",
       "      <td>-1.414213e+00</td>\n",
       "      <td>21.000000</td>\n",
       "      <td>3.0</td>\n",
       "    </tr>\n",
       "    <tr>\n",
       "      <th>25%</th>\n",
       "      <td>-7.071067e-01</td>\n",
       "      <td>-7.071067e-01</td>\n",
       "      <td>22.000000</td>\n",
       "      <td>3.0</td>\n",
       "    </tr>\n",
       "    <tr>\n",
       "      <th>50%</th>\n",
       "      <td>0.000000e+00</td>\n",
       "      <td>0.000000e+00</td>\n",
       "      <td>23.000000</td>\n",
       "      <td>3.0</td>\n",
       "    </tr>\n",
       "    <tr>\n",
       "      <th>75%</th>\n",
       "      <td>7.071067e-01</td>\n",
       "      <td>7.071067e-01</td>\n",
       "      <td>24.000000</td>\n",
       "      <td>3.0</td>\n",
       "    </tr>\n",
       "    <tr>\n",
       "      <th>max</th>\n",
       "      <td>1.414213e+00</td>\n",
       "      <td>1.414213e+00</td>\n",
       "      <td>25.000000</td>\n",
       "      <td>3.0</td>\n",
       "    </tr>\n",
       "  </tbody>\n",
       "</table>\n",
       "</div>"
      ],
      "text/plain": [
       "                  A             B          C  TaskID\n",
       "count  5.000000e+00  5.000000e+00   5.000000     5.0\n",
       "mean  -4.440892e-17 -4.440892e-17  23.000000     3.0\n",
       "std    1.118034e+00  1.118034e+00   1.581139     0.0\n",
       "min   -1.414213e+00 -1.414213e+00  21.000000     3.0\n",
       "25%   -7.071067e-01 -7.071067e-01  22.000000     3.0\n",
       "50%    0.000000e+00  0.000000e+00  23.000000     3.0\n",
       "75%    7.071067e-01  7.071067e-01  24.000000     3.0\n",
       "max    1.414213e+00  1.414213e+00  25.000000     3.0"
      ]
     },
     "execution_count": null,
     "metadata": {},
     "output_type": "execute_result"
    }
   ],
   "source": [
    "pd.options.mode.chained_assignment=None\n",
    "# setups task normalization\n",
    "to_new = to.new(original_df, pre_process=FilterYear(2016, drop=True))\n",
    "to_new.process()\n",
    "to_new.items.describe()"
   ]
  },
  {
   "cell_type": "code",
   "execution_count": null,
   "metadata": {},
   "outputs": [
    {
     "data": {
      "text/html": [
       "<div>\n",
       "<style scoped>\n",
       "    .dataframe tbody tr th:only-of-type {\n",
       "        vertical-align: middle;\n",
       "    }\n",
       "\n",
       "    .dataframe tbody tr th {\n",
       "        vertical-align: top;\n",
       "    }\n",
       "\n",
       "    .dataframe thead th {\n",
       "        text-align: right;\n",
       "    }\n",
       "</style>\n",
       "<table border=\"1\" class=\"dataframe\">\n",
       "  <thead>\n",
       "    <tr style=\"text-align: right;\">\n",
       "      <th></th>\n",
       "      <th>A</th>\n",
       "      <th>B</th>\n",
       "      <th>C</th>\n",
       "      <th>TaskID</th>\n",
       "    </tr>\n",
       "    <tr>\n",
       "      <th>TimeStamps</th>\n",
       "      <th></th>\n",
       "      <th></th>\n",
       "      <th></th>\n",
       "      <th></th>\n",
       "    </tr>\n",
       "  </thead>\n",
       "  <tbody>\n",
       "    <tr>\n",
       "      <th>2015-01-01 01:00:00+00:00</th>\n",
       "      <td>-1.414213</td>\n",
       "      <td>-1.414213</td>\n",
       "      <td>21</td>\n",
       "      <td>3</td>\n",
       "    </tr>\n",
       "    <tr>\n",
       "      <th>2015-01-01 02:00:00+00:00</th>\n",
       "      <td>-0.707107</td>\n",
       "      <td>-0.707107</td>\n",
       "      <td>22</td>\n",
       "      <td>3</td>\n",
       "    </tr>\n",
       "    <tr>\n",
       "      <th>2015-01-02 03:00:00+00:00</th>\n",
       "      <td>0.000000</td>\n",
       "      <td>0.000000</td>\n",
       "      <td>23</td>\n",
       "      <td>3</td>\n",
       "    </tr>\n",
       "    <tr>\n",
       "      <th>2015-02-01 23:00:00+00:00</th>\n",
       "      <td>0.707107</td>\n",
       "      <td>0.707107</td>\n",
       "      <td>24</td>\n",
       "      <td>3</td>\n",
       "    </tr>\n",
       "    <tr>\n",
       "      <th>2015-02-01 13:00:00+00:00</th>\n",
       "      <td>1.414213</td>\n",
       "      <td>1.414213</td>\n",
       "      <td>25</td>\n",
       "      <td>3</td>\n",
       "    </tr>\n",
       "  </tbody>\n",
       "</table>\n",
       "</div>"
      ],
      "text/plain": [
       "                                  A         B   C  TaskID\n",
       "TimeStamps                                               \n",
       "2015-01-01 01:00:00+00:00 -1.414213 -1.414213  21       3\n",
       "2015-01-01 02:00:00+00:00 -0.707107 -0.707107  22       3\n",
       "2015-01-02 03:00:00+00:00  0.000000  0.000000  23       3\n",
       "2015-02-01 23:00:00+00:00  0.707107  0.707107  24       3\n",
       "2015-02-01 13:00:00+00:00  1.414213  1.414213  25       3"
      ]
     },
     "execution_count": null,
     "metadata": {},
     "output_type": "execute_result"
    }
   ],
   "source": [
    "to_new.items"
   ]
  },
  {
   "cell_type": "markdown",
   "metadata": {},
   "source": [
    "Normalization based on second year"
   ]
  },
  {
   "cell_type": "code",
   "execution_count": null,
   "metadata": {},
   "outputs": [],
   "source": [
    "to_new = to.new(original_df, pre_process=FilterYear(2016, drop=False))\n",
    "to_new.process()"
   ]
  },
  {
   "cell_type": "markdown",
   "metadata": {},
   "source": [
    "As the data has larger values in the second year, the normalization is quite off."
   ]
  },
  {
   "cell_type": "code",
   "execution_count": null,
   "metadata": {},
   "outputs": [
    {
     "data": {
      "text/html": [
       "<div>\n",
       "<style scoped>\n",
       "    .dataframe tbody tr th:only-of-type {\n",
       "        vertical-align: middle;\n",
       "    }\n",
       "\n",
       "    .dataframe tbody tr th {\n",
       "        vertical-align: top;\n",
       "    }\n",
       "\n",
       "    .dataframe thead th {\n",
       "        text-align: right;\n",
       "    }\n",
       "</style>\n",
       "<table border=\"1\" class=\"dataframe\">\n",
       "  <thead>\n",
       "    <tr style=\"text-align: right;\">\n",
       "      <th></th>\n",
       "      <th>A</th>\n",
       "      <th>B</th>\n",
       "      <th>C</th>\n",
       "      <th>TaskID</th>\n",
       "    </tr>\n",
       "    <tr>\n",
       "      <th>TimeStamps</th>\n",
       "      <th></th>\n",
       "      <th></th>\n",
       "      <th></th>\n",
       "      <th></th>\n",
       "    </tr>\n",
       "  </thead>\n",
       "  <tbody>\n",
       "    <tr>\n",
       "      <th>2016-01-01 01:00:00+00:00</th>\n",
       "      <td>2.121320</td>\n",
       "      <td>2.121320</td>\n",
       "      <td>26</td>\n",
       "      <td>3</td>\n",
       "    </tr>\n",
       "    <tr>\n",
       "      <th>2016-01-01 02:00:00+00:00</th>\n",
       "      <td>2.828427</td>\n",
       "      <td>2.828427</td>\n",
       "      <td>27</td>\n",
       "      <td>3</td>\n",
       "    </tr>\n",
       "    <tr>\n",
       "      <th>2016-06-02 03:00:00+00:00</th>\n",
       "      <td>3.535534</td>\n",
       "      <td>3.535534</td>\n",
       "      <td>28</td>\n",
       "      <td>3</td>\n",
       "    </tr>\n",
       "    <tr>\n",
       "      <th>2016-02-01 23:00:00+00:00</th>\n",
       "      <td>4.242640</td>\n",
       "      <td>4.242640</td>\n",
       "      <td>29</td>\n",
       "      <td>3</td>\n",
       "    </tr>\n",
       "    <tr>\n",
       "      <th>2016-02-01 13:00:00+00:00</th>\n",
       "      <td>4.949747</td>\n",
       "      <td>4.949747</td>\n",
       "      <td>30</td>\n",
       "      <td>3</td>\n",
       "    </tr>\n",
       "  </tbody>\n",
       "</table>\n",
       "</div>"
      ],
      "text/plain": [
       "                                  A         B   C  TaskID\n",
       "TimeStamps                                               \n",
       "2016-01-01 01:00:00+00:00  2.121320  2.121320  26       3\n",
       "2016-01-01 02:00:00+00:00  2.828427  2.828427  27       3\n",
       "2016-06-02 03:00:00+00:00  3.535534  3.535534  28       3\n",
       "2016-02-01 23:00:00+00:00  4.242640  4.242640  29       3\n",
       "2016-02-01 13:00:00+00:00  4.949747  4.949747  30       3"
      ]
     },
     "execution_count": null,
     "metadata": {},
     "output_type": "execute_result"
    }
   ],
   "source": [
    "to_new.items"
   ]
  },
  {
   "cell_type": "markdown",
   "metadata": {},
   "source": [
    "This can also be seen in the summary:"
   ]
  },
  {
   "cell_type": "code",
   "execution_count": null,
   "metadata": {},
   "outputs": [
    {
     "data": {
      "text/html": [
       "<div>\n",
       "<style scoped>\n",
       "    .dataframe tbody tr th:only-of-type {\n",
       "        vertical-align: middle;\n",
       "    }\n",
       "\n",
       "    .dataframe tbody tr th {\n",
       "        vertical-align: top;\n",
       "    }\n",
       "\n",
       "    .dataframe thead th {\n",
       "        text-align: right;\n",
       "    }\n",
       "</style>\n",
       "<table border=\"1\" class=\"dataframe\">\n",
       "  <thead>\n",
       "    <tr style=\"text-align: right;\">\n",
       "      <th></th>\n",
       "      <th>A</th>\n",
       "      <th>B</th>\n",
       "      <th>C</th>\n",
       "      <th>TaskID</th>\n",
       "    </tr>\n",
       "  </thead>\n",
       "  <tbody>\n",
       "    <tr>\n",
       "      <th>count</th>\n",
       "      <td>5.000000</td>\n",
       "      <td>5.000000</td>\n",
       "      <td>5.000000</td>\n",
       "      <td>5.0</td>\n",
       "    </tr>\n",
       "    <tr>\n",
       "      <th>mean</th>\n",
       "      <td>3.535534</td>\n",
       "      <td>3.535534</td>\n",
       "      <td>28.000000</td>\n",
       "      <td>3.0</td>\n",
       "    </tr>\n",
       "    <tr>\n",
       "      <th>std</th>\n",
       "      <td>1.118034</td>\n",
       "      <td>1.118034</td>\n",
       "      <td>1.581139</td>\n",
       "      <td>0.0</td>\n",
       "    </tr>\n",
       "    <tr>\n",
       "      <th>min</th>\n",
       "      <td>2.121320</td>\n",
       "      <td>2.121320</td>\n",
       "      <td>26.000000</td>\n",
       "      <td>3.0</td>\n",
       "    </tr>\n",
       "    <tr>\n",
       "      <th>25%</th>\n",
       "      <td>2.828427</td>\n",
       "      <td>2.828427</td>\n",
       "      <td>27.000000</td>\n",
       "      <td>3.0</td>\n",
       "    </tr>\n",
       "    <tr>\n",
       "      <th>50%</th>\n",
       "      <td>3.535534</td>\n",
       "      <td>3.535534</td>\n",
       "      <td>28.000000</td>\n",
       "      <td>3.0</td>\n",
       "    </tr>\n",
       "    <tr>\n",
       "      <th>75%</th>\n",
       "      <td>4.242640</td>\n",
       "      <td>4.242640</td>\n",
       "      <td>29.000000</td>\n",
       "      <td>3.0</td>\n",
       "    </tr>\n",
       "    <tr>\n",
       "      <th>max</th>\n",
       "      <td>4.949747</td>\n",
       "      <td>4.949747</td>\n",
       "      <td>30.000000</td>\n",
       "      <td>3.0</td>\n",
       "    </tr>\n",
       "  </tbody>\n",
       "</table>\n",
       "</div>"
      ],
      "text/plain": [
       "              A         B          C  TaskID\n",
       "count  5.000000  5.000000   5.000000     5.0\n",
       "mean   3.535534  3.535534  28.000000     3.0\n",
       "std    1.118034  1.118034   1.581139     0.0\n",
       "min    2.121320  2.121320  26.000000     3.0\n",
       "25%    2.828427  2.828427  27.000000     3.0\n",
       "50%    3.535534  3.535534  28.000000     3.0\n",
       "75%    4.242640  4.242640  29.000000     3.0\n",
       "max    4.949747  4.949747  30.000000     3.0"
      ]
     },
     "execution_count": null,
     "metadata": {},
     "output_type": "execute_result"
    }
   ],
   "source": [
    "to_new.items.describe()"
   ]
  },
  {
   "cell_type": "markdown",
   "metadata": {},
   "source": [
    "Let's check a dataloader and verify if we can display the data."
   ]
  },
  {
   "cell_type": "code",
   "execution_count": null,
   "metadata": {},
   "outputs": [
    {
     "data": {
      "text/html": [
       "<table border=\"1\" class=\"dataframe\">\n",
       "  <thead>\n",
       "    <tr style=\"text-align: right;\">\n",
       "      <th></th>\n",
       "      <th>A</th>\n",
       "      <th>B</th>\n",
       "      <th>C</th>\n",
       "      <th>TaskID</th>\n",
       "    </tr>\n",
       "  </thead>\n",
       "  <tbody>\n",
       "    <tr>\n",
       "      <th>0</th>\n",
       "      <td>6.0</td>\n",
       "      <td>16.0</td>\n",
       "      <td>26.0</td>\n",
       "      <td>3</td>\n",
       "    </tr>\n",
       "    <tr>\n",
       "      <th>1</th>\n",
       "      <td>8.0</td>\n",
       "      <td>18.0</td>\n",
       "      <td>28.0</td>\n",
       "      <td>3</td>\n",
       "    </tr>\n",
       "    <tr>\n",
       "      <th>2</th>\n",
       "      <td>9.0</td>\n",
       "      <td>19.0</td>\n",
       "      <td>29.0</td>\n",
       "      <td>3</td>\n",
       "    </tr>\n",
       "    <tr>\n",
       "      <th>3</th>\n",
       "      <td>7.0</td>\n",
       "      <td>17.0</td>\n",
       "      <td>27.0</td>\n",
       "      <td>3</td>\n",
       "    </tr>\n",
       "  </tbody>\n",
       "</table>"
      ],
      "text/plain": [
       "<IPython.core.display.HTML object>"
      ]
     },
     "metadata": {},
     "output_type": "display_data"
    }
   ],
   "source": [
    "to_new.dataloaders(bs=4).show_batch()"
   ]
  },
  {
   "cell_type": "code",
   "execution_count": null,
   "metadata": {},
   "outputs": [
    {
     "data": {
      "text/html": [
       "<div>\n",
       "<style scoped>\n",
       "    .dataframe tbody tr th:only-of-type {\n",
       "        vertical-align: middle;\n",
       "    }\n",
       "\n",
       "    .dataframe tbody tr th {\n",
       "        vertical-align: top;\n",
       "    }\n",
       "\n",
       "    .dataframe thead th {\n",
       "        text-align: right;\n",
       "    }\n",
       "</style>\n",
       "<table border=\"1\" class=\"dataframe\">\n",
       "  <thead>\n",
       "    <tr style=\"text-align: right;\">\n",
       "      <th></th>\n",
       "      <th>A</th>\n",
       "      <th>B</th>\n",
       "      <th>C</th>\n",
       "      <th>TaskID</th>\n",
       "    </tr>\n",
       "    <tr>\n",
       "      <th>TimeStamps</th>\n",
       "      <th></th>\n",
       "      <th></th>\n",
       "      <th></th>\n",
       "      <th></th>\n",
       "    </tr>\n",
       "  </thead>\n",
       "  <tbody>\n",
       "    <tr>\n",
       "      <th>2015-01-01 01:00:00+00:00</th>\n",
       "      <td>1</td>\n",
       "      <td>11</td>\n",
       "      <td>21</td>\n",
       "      <td>3</td>\n",
       "    </tr>\n",
       "    <tr>\n",
       "      <th>2015-01-01 02:00:00+00:00</th>\n",
       "      <td>2</td>\n",
       "      <td>12</td>\n",
       "      <td>22</td>\n",
       "      <td>3</td>\n",
       "    </tr>\n",
       "    <tr>\n",
       "      <th>2015-01-02 03:00:00+00:00</th>\n",
       "      <td>3</td>\n",
       "      <td>13</td>\n",
       "      <td>23</td>\n",
       "      <td>3</td>\n",
       "    </tr>\n",
       "    <tr>\n",
       "      <th>2015-02-01 23:00:00+00:00</th>\n",
       "      <td>4</td>\n",
       "      <td>14</td>\n",
       "      <td>24</td>\n",
       "      <td>3</td>\n",
       "    </tr>\n",
       "    <tr>\n",
       "      <th>2015-02-01 13:00:00+00:00</th>\n",
       "      <td>5</td>\n",
       "      <td>15</td>\n",
       "      <td>25</td>\n",
       "      <td>3</td>\n",
       "    </tr>\n",
       "    <tr>\n",
       "      <th>2016-01-01 01:00:00+00:00</th>\n",
       "      <td>6</td>\n",
       "      <td>16</td>\n",
       "      <td>26</td>\n",
       "      <td>3</td>\n",
       "    </tr>\n",
       "    <tr>\n",
       "      <th>2016-01-01 02:00:00+00:00</th>\n",
       "      <td>7</td>\n",
       "      <td>17</td>\n",
       "      <td>27</td>\n",
       "      <td>3</td>\n",
       "    </tr>\n",
       "    <tr>\n",
       "      <th>2016-06-02 03:00:00+00:00</th>\n",
       "      <td>8</td>\n",
       "      <td>18</td>\n",
       "      <td>28</td>\n",
       "      <td>3</td>\n",
       "    </tr>\n",
       "    <tr>\n",
       "      <th>2016-02-01 23:00:00+00:00</th>\n",
       "      <td>9</td>\n",
       "      <td>19</td>\n",
       "      <td>29</td>\n",
       "      <td>3</td>\n",
       "    </tr>\n",
       "    <tr>\n",
       "      <th>2016-02-01 13:00:00+00:00</th>\n",
       "      <td>10</td>\n",
       "      <td>20</td>\n",
       "      <td>30</td>\n",
       "      <td>3</td>\n",
       "    </tr>\n",
       "  </tbody>\n",
       "</table>\n",
       "</div>"
      ],
      "text/plain": [
       "                            A   B   C  TaskID\n",
       "TimeStamps                                   \n",
       "2015-01-01 01:00:00+00:00   1  11  21       3\n",
       "2015-01-01 02:00:00+00:00   2  12  22       3\n",
       "2015-01-02 03:00:00+00:00   3  13  23       3\n",
       "2015-02-01 23:00:00+00:00   4  14  24       3\n",
       "2015-02-01 13:00:00+00:00   5  15  25       3\n",
       "2016-01-01 01:00:00+00:00   6  16  26       3\n",
       "2016-01-01 02:00:00+00:00   7  17  27       3\n",
       "2016-06-02 03:00:00+00:00   8  18  28       3\n",
       "2016-02-01 23:00:00+00:00   9  19  29       3\n",
       "2016-02-01 13:00:00+00:00  10  20  30       3"
      ]
     },
     "execution_count": null,
     "metadata": {},
     "output_type": "execute_result"
    }
   ],
   "source": [
    "original_df"
   ]
  },
  {
   "cell_type": "code",
   "execution_count": null,
   "metadata": {},
   "outputs": [
    {
     "name": "stdout",
     "output_type": "stream",
     "text": [
      "Converted 00_core.ipynb.\n",
      "Converted 01_data.ipynb.\n",
      "Converted 02_model.ipynb.\n",
      "Converted index.ipynb.\n"
     ]
    }
   ],
   "source": [
    "#hide\n",
    "from nbdev.export import notebook2script\n",
    "notebook2script()"
   ]
  }
 ],
 "metadata": {
  "kernelspec": {
   "display_name": "Python 3",
   "language": "python",
   "name": "python3"
  }
 },
 "nbformat": 4,
 "nbformat_minor": 2
}
