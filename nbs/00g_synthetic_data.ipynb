{
 "cells": [
  {
   "cell_type": "code",
   "execution_count": 1,
   "id": "891b7942-d64d-4bd0-ae13-5dcbcede4d7d",
   "metadata": {},
   "outputs": [],
   "source": [
    "# default_exp synthetic_data"
   ]
  },
  {
   "cell_type": "code",
   "execution_count": 2,
   "id": "e514c78f-1f8e-4a8d-8614-656d5c10f36a",
   "metadata": {},
   "outputs": [],
   "source": [
    "# hide\n",
    "# export\n",
    "\n",
    "import torch\n",
    "import matplotlib.pyplot as plt"
   ]
  },
  {
   "cell_type": "code",
   "execution_count": 3,
   "id": "b478a996-91e5-40c3-9ca0-e2b49eb98b65",
   "metadata": {},
   "outputs": [],
   "source": [
    "# export\n",
    "\n",
    "class DummyDataset(torch.utils.data.Dataset):\n",
    "\n",
    "    def __init__(self, n_samples=100, n_cat_feats=2, n_cont_feats=2, n_targets=1, len_ts=24, n_dim=2):\n",
    "\n",
    "        self.n_samples = n_samples\n",
    "        if n_dim == 2:\n",
    "            self.cat = torch.ones(n_samples, n_cat_feats)\n",
    "            self.cont = torch.ones(n_samples, n_cont_feats)\n",
    "            self.y = torch.ones(n_samples, n_targets)\n",
    "        elif n_dim == 3:\n",
    "            self.cat = torch.ones(n_samples, n_cat_feats, len_ts)\n",
    "            self.cont = torch.ones(n_samples, n_cont_feats, len_ts)\n",
    "            self.y = torch.ones(n_samples, n_targets, len_ts)\n",
    "        elif n_dim == 4:\n",
    "            self.cat = torch.ones(n_samples, n_cat_feats, len_ts, len_ts)\n",
    "            self.cont = torch.ones(n_samples, n_cont_feats, len_ts, len_ts)\n",
    "            self.y = torch.ones(n_samples, n_targets, len_ts, len_ts)\n",
    "\n",
    "    def __len__(self):\n",
    "        return self.n_samples\n",
    "    \n",
    "    def __getitem__(self, idx):\n",
    "        x_cat = self.cat[idx, :]\n",
    "        x_cont = self.cont[idx, :]\n",
    "        y = self.y[idx, :]\n",
    "        return x_cat, x_cont, y"
   ]
  },
  {
   "cell_type": "code",
   "execution_count": 4,
   "id": "b9c3da65-7803-4111-ae79-77bb930a0746",
   "metadata": {},
   "outputs": [],
   "source": [
    "n_dim = 2\n",
    "data = DummyDataset(n_dim=n_dim)\n",
    "dl = torch.utils.data.DataLoader(data, batch_size=32, shuffle=True, drop_last=True)\n",
    "for x_cat, x_cont, y in dl:\n",
    "    assert(x_cat.dim()==x_cont.dim()==n_dim)"
   ]
  },
  {
   "cell_type": "code",
   "execution_count": 5,
   "id": "0cf2ed62-3ad3-4bbe-b1c5-70875b196f1d",
   "metadata": {},
   "outputs": [],
   "source": [
    "n_dim = 3\n",
    "data = DummyDataset(n_dim=n_dim)\n",
    "dl = torch.utils.data.DataLoader(data, batch_size=32, shuffle=True, drop_last=True)\n",
    "for x_cat, x_cont, y in dl:\n",
    "    assert(x_cat.dim()==x_cont.dim()==n_dim)"
   ]
  },
  {
   "cell_type": "code",
   "execution_count": 6,
   "id": "59db0337-6865-4be9-964d-b4af4022d0c9",
   "metadata": {},
   "outputs": [],
   "source": [
    "n_dim = 4\n",
    "data = DummyDataset(n_dim=n_dim)\n",
    "dl = torch.utils.data.DataLoader(data, batch_size=32, shuffle=True, drop_last=True)\n",
    "for x_cat, x_cont, y in dl:\n",
    "    assert(x_cat.dim()==x_cont.dim()==n_dim)"
   ]
  },
  {
   "cell_type": "code",
   "execution_count": 7,
   "id": "48da5074-ef65-4669-8a23-bfa8cd9ee438",
   "metadata": {},
   "outputs": [],
   "source": [
    "# export\n",
    "\n",
    "torch.pi = 3.141592653589793\n",
    "\n",
    "class SineDataset(torch.utils.data.Dataset):\n",
    "\n",
    "    def __init__(self, n_samples=1000, n_classes=2, n_features=1, len_ts=24, noise=0.05, n_dim=2):\n",
    "        self.n_samples = n_samples\n",
    "        self.n_classes = n_classes\n",
    "        self.n_features = n_features\n",
    "        self.len_ts = len_ts\n",
    "        self.amp_min = 0.25\n",
    "        self.amp_max = 0.75\n",
    "        self.freq_min = 1.0\n",
    "        self.freq_max = 3.0\n",
    "        self.phase_min = 0.0\n",
    "        self.phase_max = 2.0*torch.pi\n",
    "        self.noise = noise\n",
    "        self.cat_data = torch.zeros(self.n_samples*self.n_classes, 1, self.len_ts)\n",
    "        self.cont_data = torch.zeros(self.n_samples*self.n_classes, self.n_features, self.len_ts)\n",
    "        self.target = torch.zeros(self.n_samples*self.n_classes, 1, self.len_ts)\n",
    "        self.n_dim = n_dim\n",
    "        \n",
    "        self.generate_series()\n",
    "        self.cont_data = (self.cont_data-self.cont_data.min())/(self.cont_data.max()-self.cont_data.min())\n",
    "        if self.n_dim==2:\n",
    "            self.reshape_2d()\n",
    "        \n",
    "    def generate_series(self):\n",
    "        for c in range(self.n_classes):\n",
    "            t = torch.linspace(0, 1, self.len_ts)\n",
    "            amplitudes = torch.linspace(self.amp_min, self.amp_max, self.n_classes)\n",
    "            frequencies = torch.linspace(self.freq_min, self.freq_max, self.n_classes)\n",
    "            phases = torch.linspace(self.phase_min, self.phase_max, self.n_classes)\n",
    "            for idx in range(self.n_samples):\n",
    "                self.cat_data[c*self.n_samples + idx, :, :] = c+1\n",
    "                self.target[c*self.n_samples + idx, :, :] = c\n",
    "                for f_idx in range(self.n_features):\n",
    "                    a = torch.ones_like(t)*amplitudes[c]\n",
    "                    f = torch.ones_like(t)*frequencies[c]\n",
    "                    p = torch.ones_like(t)*phases[c]\n",
    "                    self.cont_data[c*self.n_samples + idx, f_idx, :] = a*torch.sin(2*torch.pi*f*t + p) + self.noise*torch.randn_like(t)\n",
    "                    \n",
    "    def reshape_2d(self):\n",
    "        #todo: check if this works with n_features > 1\n",
    "        self.cat_data = self.cat_data.reshape(self.n_samples*self.n_classes*self.len_ts, 1)\n",
    "        self.cont_data = self.cont_data.reshape(self.n_samples*self.n_classes*self.len_ts, self.n_features)\n",
    "        self.target = self.target.reshape(self.n_samples*self.n_classes*self.len_ts, 1)\n",
    "        \n",
    "    def __len__(self):\n",
    "        if self.n_dim==2:\n",
    "            return self.n_samples*self.n_classes*self.len_ts\n",
    "        else:\n",
    "            return self.n_samples*self.n_classes\n",
    "\n",
    "    def __getitem__(self, idx):\n",
    "        x_cat = self.cat_data[idx, :]\n",
    "        x_cont = self.cont_data[idx, :]\n",
    "        y = self.target[idx, :]\n",
    "        return x_cat, x_cont, y"
   ]
  },
  {
   "cell_type": "code",
   "execution_count": 8,
   "id": "3ac638c7-c8c1-4ee2-a9c9-86518406d18f",
   "metadata": {},
   "outputs": [],
   "source": [
    "n_samples = 10000\n",
    "n_classes = 4 # used for task_ids\n",
    "n_features = 1\n",
    "len_ts = 24\n",
    "batch_size = 2560\n",
    "n_dim = 2\n",
    "\n",
    "data = SineDataset(n_samples=n_samples, n_classes=n_classes, n_features=n_features, len_ts=len_ts, n_dim=n_dim)\n",
    "dl = torch.utils.data.DataLoader(data, batch_size=batch_size, shuffle=True, drop_last=True)\n",
    "for x_cat, x_cont, y in dl:\n",
    "    assert(x_cat.min() == 1 and x_cat.max() == n_classes)\n",
    "    assert(x_cont.max() <= 1 and x_cont.min() >= 0)\n",
    "    if n_dim==2:\n",
    "        assert(x_cat.shape == (batch_size, 1))\n",
    "        assert(x_cont.shape) == (batch_size, n_features)\n",
    "        assert(y.shape == (batch_size, 1))\n",
    "    if n_dim==3:\n",
    "        assert(x_cat.shape == (batch_size, 1, len_ts))\n",
    "        assert(x_cont.shape) == (batch_size, n_features, len_ts)\n",
    "        assert(y.shape == (batch_size, 1, len_ts))"
   ]
  },
  {
   "cell_type": "code",
   "execution_count": 9,
   "id": "a062f136-2b06-4edd-9a4b-e23ea4edd875",
   "metadata": {},
   "outputs": [],
   "source": [
    "# export\n",
    "\n",
    "def plot_sine_samples(dl):\n",
    "    plt.figure(figsize=(16, 9))\n",
    "    for _, x_cont, _ in dl:\n",
    "        for idx in range(x_cont.shape[0]):\n",
    "            if x_cont.dim()==3:\n",
    "                plt.plot(x_cont[idx, 0, :])\n",
    "            if x_cont.dim()==2:\n",
    "                #todo\n",
    "                return\n",
    "    plt.show()"
   ]
  },
  {
   "cell_type": "code",
   "execution_count": 11,
   "id": "c23c3d43-ab12-49b1-a745-671726bde7fd",
   "metadata": {},
   "outputs": [
    {
     "data": {
      "text/plain": [
       "<Figure size 1152x648 with 0 Axes>"
      ]
     },
     "metadata": {},
     "output_type": "display_data"
    }
   ],
   "source": [
    "plot_sine_samples(dl)"
   ]
  },
  {
   "cell_type": "code",
   "execution_count": 10,
   "id": "c912bf09-ab11-466d-97c4-786f23c4309a",
   "metadata": {},
   "outputs": [],
   "source": [
    "# export\n",
    "\n",
    "def plot_class_hists(x_cat, x_cont, n_classes):\n",
    "    plt.figure()\n",
    "    for c in range(n_classes):\n",
    "        x_plot = x_cont[x_cat==c+1]\n",
    "        print(x_plot.shape)\n",
    "        plt.hist(x_plot.reshape(1, -1), bins=20, alpha=0.75)\n",
    "    plt.show()\n",
    "    return"
   ]
  },
  {
   "cell_type": "code",
   "execution_count": 12,
   "id": "340632cd-86d7-4c83-9205-d7d3dc2e7fe5",
   "metadata": {},
   "outputs": [
    {
     "name": "stdout",
     "output_type": "stream",
     "text": [
      "torch.Size([646])\n",
      "torch.Size([636])\n",
      "torch.Size([642])\n",
      "torch.Size([636])\n"
     ]
    },
    {
     "data": {
      "image/png": "[encoded data removed]",
      "text/plain": [
       "<Figure size 432x288 with 1 Axes>"
      ]
     },
     "metadata": {
      "needs_background": "light"
     },
     "output_type": "display_data"
    }
   ],
   "source": [
    "plot_class_hists(x_cat, x_cont, n_classes)"
   ]
  },
  {
   "cell_type": "code",
   "execution_count": 28,
   "id": "0dba879f-e5b2-4aab-b8db-6a37176524e3",
   "metadata": {},
   "outputs": [],
   "source": [
    "# export\n",
    "\n",
    "class GaussianDataset(torch.utils.data.Dataset):\n",
    "\n",
    "    def __init__(self, n_samples=1000, n_classes=2):\n",
    "        self.n_samples = n_samples\n",
    "        self.n_classes = n_classes\n",
    "        self.cat_data = torch.zeros(self.n_samples*self.n_classes, 1)\n",
    "        self.cont_data = torch.zeros(self.n_samples*self.n_classes, 1)\n",
    "        self.target = torch.zeros(self.n_samples*self.n_classes, 1)\n",
    "        self.means = [0, 5]\n",
    "        self.scales = [1, 0.5]\n",
    "        \n",
    "        self.generate_series()\n",
    "        self.cont_data = (self.cont_data-self.cont_data.min())/(self.cont_data.max()-self.cont_data.min())\n",
    "        \n",
    "    def generate_series(self):\n",
    "        for c in range(self.n_classes):\n",
    "            for idx in range(self.n_samples):\n",
    "                self.cat_data[c*self.n_samples + idx] = c+1\n",
    "                self.target[c*self.n_samples + idx] = c\n",
    "                self.cont_data[c*self.n_samples + idx] = torch.distributions.Normal(self.means[c], self.scales[c]).rsample()\n",
    "        \n",
    "    def __len__(self):\n",
    "            return self.n_samples*self.n_classes\n",
    "\n",
    "    def __getitem__(self, idx):\n",
    "        x_cat = self.cat_data[idx, :]\n",
    "        x_cont = self.cont_data[idx, :]\n",
    "        y = self.target[idx, :]\n",
    "        return x_cat, x_cont, y"
   ]
  },
  {
   "cell_type": "code",
   "execution_count": 29,
   "id": "1bb83b6b-927c-44c3-9976-69810944f68a",
   "metadata": {},
   "outputs": [
    {
     "name": "stdout",
     "output_type": "stream",
     "text": [
      "torch.Size([2560, 1]) torch.Size([2560, 1]) torch.Size([2560, 1])\n",
      "torch.Size([2560, 1]) torch.Size([2560, 1]) torch.Size([2560, 1])\n",
      "torch.Size([2560, 1]) torch.Size([2560, 1]) torch.Size([2560, 1])\n",
      "torch.Size([2560, 1]) torch.Size([2560, 1]) torch.Size([2560, 1])\n",
      "torch.Size([2560, 1]) torch.Size([2560, 1]) torch.Size([2560, 1])\n",
      "torch.Size([2560, 1]) torch.Size([2560, 1]) torch.Size([2560, 1])\n",
      "torch.Size([2560, 1]) torch.Size([2560, 1]) torch.Size([2560, 1])\n"
     ]
    }
   ],
   "source": [
    "data = GaussianDataset(n_samples=n_samples, n_classes=2)\n",
    "dl = torch.utils.data.DataLoader(data, batch_size=batch_size, shuffle=True, drop_last=True)\n",
    "for x_cat, x_cont, y in dl:\n",
    "    print(x_cat.shape, x_cont.shape, y.shape)"
   ]
  },
  {
   "cell_type": "code",
   "execution_count": 30,
   "id": "bc7a0ebd-cd06-480e-bc2d-267c1fe1a3d3",
   "metadata": {},
   "outputs": [
    {
     "name": "stdout",
     "output_type": "stream",
     "text": [
      "torch.Size([1271])\n",
      "torch.Size([1289])\n"
     ]
    },
    {
     "data": {
      "image/png": "[encoded data removed]",
      "text/plain": [
       "<Figure size 432x288 with 1 Axes>"
      ]
     },
     "metadata": {
      "needs_background": "light"
     },
     "output_type": "display_data"
    }
   ],
   "source": [
    "plot_class_hists(x_cat, x_cont, 2)"
   ]
  },
  {
   "cell_type": "code",
   "execution_count": null,
   "id": "913109ed-1304-48a3-8de6-4b93427b6bd1",
   "metadata": {},
   "outputs": [],
   "source": []
  }
 ],
 "metadata": {
  "kernelspec": {
   "display_name": "Python 3 (ipykernel)",
   "language": "python",
   "name": "python3"
  },
  "language_info": {
   "codemirror_mode": {
    "name": "ipython",
    "version": 3
   },
   "file_extension": ".py",
   "mimetype": "text/x-python",
   "name": "python",
   "nbconvert_exporter": "python",
   "pygments_lexer": "ipython3",
   "version": "3.8.12"
  }
 },
 "nbformat": 4,
 "nbformat_minor": 5
}
