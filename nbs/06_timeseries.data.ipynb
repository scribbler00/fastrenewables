{
 "cells": [
  {
   "cell_type": "code",
   "execution_count": null,
   "metadata": {},
   "outputs": [],
   "source": [
    "# default_exp timeseries.data"
   ]
  },
  {
   "cell_type": "markdown",
   "metadata": {},
   "source": [
    "# data\n",
    "\n",
    "> API details."
   ]
  },
  {
   "cell_type": "code",
   "execution_count": null,
   "metadata": {},
   "outputs": [
    {
     "ename": "SyntaxError",
     "evalue": "non-default argument follows default argument (core.py, line 332)",
     "output_type": "error",
     "traceback": [
      "Traceback \u001b[0;36m(most recent call last)\u001b[0m:\n",
      "  File \u001b[1;32m\"/home/scribbler/anaconda/lib/python3.8/site-packages/IPython/core/interactiveshell.py\"\u001b[0m, line \u001b[1;32m3418\u001b[0m, in \u001b[1;35mrun_code\u001b[0m\n    exec(code_obj, self.user_global_ns, self.user_ns)\n",
      "\u001b[0;36m  File \u001b[0;32m\"<ipython-input-2-69e4b81f15a9>\"\u001b[0;36m, line \u001b[0;32m7\u001b[0;36m, in \u001b[0;35m<module>\u001b[0;36m\u001b[0m\n\u001b[0;31m    from fastrenewables.timeseries.core import *\u001b[0m\n",
      "\u001b[0;36m  File \u001b[0;32m\"/home/scribbler/anaconda/lib/python3.8/site-packages/fastrenewables/timeseries/core.py\"\u001b[0;36m, line \u001b[0;32m332\u001b[0m\n\u001b[0;31m    def __init__(self, data, names, index=None, classes, batch_first=True, sequence_last=True):\u001b[0m\n\u001b[0m                 ^\u001b[0m\n\u001b[0;31mSyntaxError\u001b[0m\u001b[0;31m:\u001b[0m non-default argument follows default argument\n"
     ]
    }
   ],
   "source": [
    "#export\n",
    "from fastai.torch_basics import *\n",
    "from fastai.data.all import *\n",
    "from fastai.tabular.data import *\n",
    "from fastai.tabular.core import *\n",
    "from fastrenewables.tabular.core import *\n",
    "from fastrenewables.timeseries.core import *\n",
    "import glob"
   ]
  },
  {
   "cell_type": "code",
   "execution_count": null,
   "metadata": {},
   "outputs": [],
   "source": [
    "#hide\n",
    "from nbdev.showdoc import *"
   ]
  },
  {
   "cell_type": "code",
   "execution_count": null,
   "metadata": {},
   "outputs": [],
   "source": [
    "#export\n",
    "class RenewableTimeSeriesDataLoaders(DataLoaders):\n",
    "    \n",
    "    @classmethod\n",
    "    @delegates(Tabular.dataloaders, but=[\"dl_type\", \"dl_kwargs\"])\n",
    "    def from_df(cls, df, path='.', procs=None, pre_procs=None, cat_names=None, cont_names=None, y_names=None, y_block=None,\n",
    "                splits=None, **kwargs):\n",
    "        \n",
    "        \"Create from `df` in `path` using `procs`\"\n",
    "        if cat_names is None: cat_names = []\n",
    "        if cont_names is None: cont_names = list(set(df)-set(L(cat_names))-set(L(y_names)))\n",
    "        \n",
    "        if pre_procs is None: pre_procs = [\n",
    "            CreateTimeStampIndex(\"TimeUTC\"),\n",
    "                AddSeasonalFeatures,\n",
    "            ]\n",
    "        if procs is None:\n",
    "            procs = [\n",
    "                NormalizePerTask, \n",
    "                    Categorify]\n",
    "            \n",
    "            \n",
    "        \n",
    "        to = TabularRenewables(\n",
    "            df,\n",
    "            cont_names=cont_names,\n",
    "            cat_names=cat_names,\n",
    "            y_names=y_names,\n",
    "            pre_process=pre_procs,\n",
    "            procs=procs,\n",
    "            splits=None,\n",
    "        )\n",
    "        splits = RandomSplitter(valid_pct=0.2) if splits is None else splits\n",
    "        tt = TimeseriesTransform(to, splits=splits)\n",
    "        \n",
    "        return TimeSeriesDataLoaders(tt, **kwargs)\n",
    "#         return tt.dataloaders(path=path, **kwargs)\n",
    "\n",
    "    \n",
    "    @classmethod\n",
    "    def from_files(cls, files,  **kwargs):\n",
    "        dfs = read_files(files)\n",
    "        \n",
    "        dfs = pd.concat(dfs, axis=0)\n",
    "        if \"cat_names\" in kwargs.keys():\n",
    "            kwargs[\"cat_names\"] = kwargs[\"cat_names\"] if \"TaskID\" in kwargs[\"cat_names\"] else kwargs[\"cat_names\"] + [\"TaskID\"]\n",
    "        else:\n",
    "            kwargs[\"cat_names\"] = [\"TaskID\"]\n",
    "        \n",
    "        return cls.from_df(dfs, **kwargs)\n",
    "    \n",
    "# TimeseriesTransform._dbunch_type = TimeSeriesDataLoaders"
   ]
  },
  {
   "cell_type": "code",
   "execution_count": null,
   "metadata": {},
   "outputs": [],
   "source": [
    "files = glob.glob(\"../data/*.h5\"); len(files)"
   ]
  },
  {
   "cell_type": "code",
   "execution_count": null,
   "metadata": {},
   "outputs": [],
   "source": [
    "cont_names = ['T_HAG_2_M', 'RELHUM_HAG_2_M', 'PS_SFC_0_M', 'ASWDIFDS_SFC_0_M',\n",
    "       'ASWDIRS_SFC_0_M', 'WindSpeed58m',\n",
    "       'SinWindDirection58m', 'CosWindDirection58m', 'WindSpeed60m',\n",
    "       'SinWindDirection60m', 'CosWindDirection60m', 'WindSpeed58mMinus_t_1',\n",
    "       'SinWindDirection58mMinus_t_1', 'CosWindDirection58mMinus_t_1',\n",
    "       'WindSpeed60mMinus_t_1', 'SinWindDirection60mMinus_t_1',\n",
    "       'CosWindDirection60mMinus_t_1', 'WindSpeed58mPlus_t_1',\n",
    "       'SinWindDirection58mPlus_t_1', 'CosWindDirection58mPlus_t_1',\n",
    "       'WindSpeed60mPlus_t_1', 'SinWindDirection60mPlus_t_1',\n",
    "       'CosWindDirection60mPlus_t_1']\n",
    "cat_names = ['TaskID', 'Month', 'Day', 'Hour']"
   ]
  },
  {
   "cell_type": "code",
   "execution_count": null,
   "metadata": {},
   "outputs": [],
   "source": [
    "pd.options.mode.chained_assignment=None\n",
    "dls = RenewableTimeSeriesDataLoaders.from_files(glob.glob(\"../data/*.h5\"), y_names=\"PowerGeneration\", \n",
    "                                      pre_procs=[FilterYear(year=2020), \n",
    "                                                 AddSeasonalFeatures(as_cont=False),\n",
    "                                                FilterInconsistentSamplesPerDay], \n",
    "                                      cat_names=cat_names, cont_names=cont_names, bs=13)"
   ]
  },
  {
   "cell_type": "code",
   "execution_count": null,
   "metadata": {},
   "outputs": [],
   "source": [
    "cats, conts, ys = dls.one_batch()"
   ]
  },
  {
   "cell_type": "code",
   "execution_count": null,
   "metadata": {},
   "outputs": [],
   "source": [
    "cats.shape, conts.shape, ys.shape"
   ]
  }
 ],
 "metadata": {
  "kernelspec": {
   "display_name": "Python 3",
   "language": "python",
   "name": "python3"
  }
 },
 "nbformat": 4,
 "nbformat_minor": 4
}
