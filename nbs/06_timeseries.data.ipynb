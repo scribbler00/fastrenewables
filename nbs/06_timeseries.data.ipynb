{
 "cells": [
  {
   "cell_type": "code",
   "execution_count": null,
   "metadata": {},
   "outputs": [],
   "source": [
    "# default_exp timeseries.data"
   ]
  },
  {
   "cell_type": "markdown",
   "metadata": {},
   "source": [
    "# timeseries.data\n",
    "\n",
    "> API details."
   ]
  },
  {
   "cell_type": "code",
   "execution_count": null,
   "metadata": {},
   "outputs": [],
   "source": [
    "#export\n",
    "from fastai.torch_basics import *\n",
    "from fastai.data.all import *\n",
    "from fastai.tabular.data import *\n",
    "from fastai.tabular.core import *\n",
    "from fastrenewables.tabular.core import *\n",
    "from fastrenewables.timeseries.core import *\n",
    "import glob"
   ]
  },
  {
   "cell_type": "code",
   "execution_count": null,
   "metadata": {},
   "outputs": [],
   "source": [
    "#hide\n",
    "from nbdev.showdoc import *"
   ]
  },
  {
   "cell_type": "code",
   "execution_count": null,
   "metadata": {},
   "outputs": [],
   "source": [
    "#export\n",
    "class RenewableTimeSeriesDataLoaders(DataLoaders):\n",
    "    \"\"\"Creates a timerseries data and dataloaders.\"\"\"\n",
    "    @classmethod\n",
    "    @delegates(Tabular.dataloaders, but=[\"dl_type\", \"dl_kwargs\"])\n",
    "    def from_df(cls, df, path='.', procs=None, pre_procs=None, \\\n",
    "                cat_names=None, cont_names=None, \\\n",
    "                y_names=None, y_block=RegressionBlock(),\\\n",
    "                splits=None, **kwargs):\n",
    "        \n",
    "        \"Create from `df` in `path` using `procs`\"\n",
    "        if cat_names is None: \n",
    "            cat_names = []\n",
    "            \n",
    "        if cont_names is None: \n",
    "            cont_names = list(set(df)-set(L(cat_names))-set(L(y_names)))\n",
    "        \n",
    "        if pre_procs is None: \n",
    "            pre_procs = [CreateTimeStampIndex(\"TimeUTC\"), AddSeasonalFeatures]\n",
    "            \n",
    "        if procs is None:\n",
    "            procs = [NormalizePerTask, Categorify]\n",
    "            \n",
    "        to = TabularRenewables(\n",
    "            df,\n",
    "            cont_names=cont_names,\n",
    "            cat_names=cat_names,\n",
    "            y_names=y_names,\n",
    "            pre_process=pre_procs,\n",
    "            procs=procs,\n",
    "            y_block=y_block,\n",
    "            splits=None,\n",
    "        )\n",
    "        splits = RandomSplitter(valid_pct=0.2) if splits is None else splits\n",
    "        \n",
    "        tt = Timeseries(to, splits=splits, **kwargs)\n",
    "        \n",
    "        return TimeSeriesDataLoaders(tt, **kwargs)\n",
    "    \n",
    "    @classmethod\n",
    "    def from_files(cls, files,  **kwargs):\n",
    "        dfs = read_files(files)\n",
    "        \n",
    "        dfs = pd.concat(dfs, axis=0)\n",
    "#         if \"cat_names\" in kwargs.keys():\n",
    "#             kwargs[\"cat_names\"] = kwargs[\"cat_names\"] if \"TaskID\" in kwargs[\"cat_names\"] else kwargs[\"cat_names\"] + [\"TaskID\"]\n",
    "#         else:\n",
    "#             kwargs[\"cat_names\"] = [\"TaskID\"]\n",
    "        \n",
    "        return cls.from_df(dfs, **kwargs)"
   ]
  },
  {
   "cell_type": "code",
   "execution_count": null,
   "metadata": {},
   "outputs": [
    {
     "data": {
      "text/plain": [
       "3"
      ]
     },
     "execution_count": null,
     "metadata": {},
     "output_type": "execute_result"
    }
   ],
   "source": [
    "files = glob.glob(\"../data/*.h5\"); len(files)"
   ]
  },
  {
   "cell_type": "code",
   "execution_count": null,
   "metadata": {},
   "outputs": [],
   "source": [
    "cont_names = ['T_HAG_2_M', 'RELHUM_HAG_2_M', 'PS_SFC_0_M', 'ASWDIFDS_SFC_0_M',\n",
    "       'ASWDIRS_SFC_0_M', 'WindSpeed58m',\n",
    "       'SinWindDirection58m', 'CosWindDirection58m', 'WindSpeed60m',\n",
    "       'SinWindDirection60m', 'CosWindDirection60m', 'WindSpeed58mMinus_t_1',\n",
    "       'SinWindDirection58mMinus_t_1', 'CosWindDirection58mMinus_t_1',\n",
    "       'WindSpeed60mMinus_t_1', 'SinWindDirection60mMinus_t_1',\n",
    "       'CosWindDirection60mMinus_t_1', 'WindSpeed58mPlus_t_1',\n",
    "       'SinWindDirection58mPlus_t_1', 'CosWindDirection58mPlus_t_1',\n",
    "       'WindSpeed60mPlus_t_1', 'SinWindDirection60mPlus_t_1',\n",
    "       'CosWindDirection60mPlus_t_1']\n",
    "\n",
    "cat_names = ['TaskID', 'Month', 'Day', 'Hour']"
   ]
  },
  {
   "cell_type": "code",
   "execution_count": null,
   "metadata": {},
   "outputs": [],
   "source": [
    "pd.options.mode.chained_assignment=None\n",
    "dls = RenewableTimeSeriesDataLoaders.from_files(glob.glob(\"../data/*.h5\"), y_names=\"PowerGeneration\", \n",
    "                                      pre_procs=[FilterYear(year=2020), \n",
    "                                                 AddSeasonalFeatures(as_cont=False),\n",
    "                                                FilterInconsistentSamplesPerDay], \n",
    "                                      cat_names=cat_names, cont_names=cont_names, bs=13)"
   ]
  },
  {
   "cell_type": "code",
   "execution_count": null,
   "metadata": {},
   "outputs": [],
   "source": [
    "cats, conts, ys = dls.one_batch()"
   ]
  },
  {
   "cell_type": "code",
   "execution_count": null,
   "metadata": {},
   "outputs": [
    {
     "data": {
      "text/plain": [
       "(torch.Size([13, 4, 24]), torch.Size([13, 23, 24]), torch.Size([13, 1, 24]))"
      ]
     },
     "execution_count": null,
     "metadata": {},
     "output_type": "execute_result"
    }
   ],
   "source": [
    "cats.shape, conts.shape, ys.shape"
   ]
  }
 ],
 "metadata": {
  "kernelspec": {
   "display_name": "Python 3",
   "language": "python",
   "name": "python3"
  }
 },
 "nbformat": 4,
 "nbformat_minor": 4
}
