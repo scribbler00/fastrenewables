{
 "cells": [
  {
   "cell_type": "code",
   "execution_count": null,
   "metadata": {},
   "outputs": [],
   "source": [
    "# default_exp tabular.learner"
   ]
  },
  {
   "cell_type": "markdown",
   "metadata": {},
   "source": [
    "# learner\n",
    "\n",
    "> API details."
   ]
  },
  {
   "cell_type": "code",
   "execution_count": null,
   "metadata": {},
   "outputs": [],
   "source": [
    "#export\n",
    "from fastai.torch_basics import *\n",
    "from fastai.data.all import *\n",
    "from fastai.tabular.data import *\n",
    "from fastai.tabular.core import *\n",
    "from fastai.tabular.model import *\n",
    "from fastrenewables.tabular.core import *\n",
    "from fastrenewables.tabular.data import *\n",
    "from fastrenewables.tabular.model import *\n",
    "from fastai.basics import *\n"
   ]
  },
  {
   "cell_type": "code",
   "execution_count": null,
   "metadata": {},
   "outputs": [],
   "source": [
    "#hide\n",
    "from nbdev.showdoc import *"
   ]
  },
  {
   "cell_type": "code",
   "execution_count": null,
   "metadata": {},
   "outputs": [],
   "source": [
    "#export\n",
    "class RenewableLearner(Learner):\n",
    "    \"`Learner` for renewable data\"\n",
    "    def predict(self, ds_idx=1, test_dl=None, filter=True):\n",
    "        device = next(learn.model.parameters()).device\n",
    "        \n",
    "        if test_dl is not None:\n",
    "            cur_dl = test_dl\n",
    "        elif ds_idx == 0:\n",
    "            cur_dl = self.dls.train_ds\n",
    "        elif ds_idx == 1:\n",
    "            cur_dl = self.dls.valid_ds\n",
    "            \n",
    "        if type(cur_dl) == TabularPandas or \\\n",
    "            type(cur_dl) == TabDataLoader or \\\n",
    "            type(cur_dl) == TabularRenewables:\n",
    "                \n",
    "            cats = tensor(\n",
    "                cur_dl.cats.values,\n",
    "            ).long()\n",
    "            xs = tensor(cur_dl.conts.values)\n",
    "            targets = tensor(cur_dl.y.values)\n",
    "        \n",
    "        with torch.no_grad():\n",
    "            preds = learn.model(cats.to(device), xs.to(device))\n",
    "        \n",
    "        preds, targets = to_np(preds).reshape(-1), to_np(targets).reshape(-1)\n",
    "        if filter:\n",
    "            preds[preds < 0] = 0\n",
    "            preds[preds > 1.1] = 1.1\n",
    "            \n",
    "        return preds, targets"
   ]
  },
  {
   "cell_type": "code",
   "execution_count": null,
   "metadata": {},
   "outputs": [
    {
     "data": {
      "text/markdown": [
       "<h3 id=\"RenewableLearner\" class=\"doc_header\"><code>class</code> <code>RenewableLearner</code><a href=\"\" class=\"source_link\" style=\"float:right\">[source]</a></h3>\n",
       "\n",
       "> <code>RenewableLearner</code>(**`dls`**, **`model`**, **`loss_func`**=*`None`*, **`opt_func`**=*`Adam`*, **`lr`**=*`0.001`*, **`splitter`**=*`trainable_params`*, **`cbs`**=*`None`*, **`metrics`**=*`None`*, **`path`**=*`None`*, **`model_dir`**=*`'models'`*, **`wd`**=*`None`*, **`wd_bn_bias`**=*`False`*, **`train_bn`**=*`True`*, **`moms`**=*`(0.95, 0.85, 0.95)`*) :: `Learner`\n",
       "\n",
       "`Learner` for renewable data"
      ],
      "text/plain": [
       "<IPython.core.display.Markdown object>"
      ]
     },
     "metadata": {},
     "output_type": "display_data"
    }
   ],
   "source": [
    "show_doc(RenewableLearner, title_level=3)"
   ]
  },
  {
   "cell_type": "code",
   "execution_count": null,
   "metadata": {},
   "outputs": [
    {
     "name": "stdout",
     "output_type": "stream",
     "text": [
      "{'y_names': 'PowerGeneration', 'pre_procs': [FilterYear -- {}:\n",
      "encodes: (object,object) -> encodes\n",
      "decodes: , <class 'fastrenewables.tabular.core.AddSeasonalFeatures'>], 'cat_names': ['TaskID', 'Month', 'Day', 'Hour'], 'cont_names': ['T_HAG_2_M', 'RELHUM_HAG_2_M', 'PS_SFC_0_M', 'ASWDIFDS_SFC_0_M', 'ASWDIRS_SFC_0_M', 'WindSpeed58m']}\n"
     ]
    }
   ],
   "source": [
    "cont_names = ['T_HAG_2_M', 'RELHUM_HAG_2_M', 'PS_SFC_0_M', 'ASWDIFDS_SFC_0_M',\n",
    "       'ASWDIRS_SFC_0_M', 'WindSpeed58m']\n",
    "cat_names = ['TaskID', 'Month', 'Day', 'Hour']\n",
    "pd.options.mode.chained_assignment=None\n",
    "dls = RenewableDataLoaders.from_files(glob.glob(\"../data/*.h5\"), y_names=\"PowerGeneration\", \n",
    "                                      pre_procs=[FilterYear(year=2020), AddSeasonalFeatures], \n",
    "                                      cat_names=cat_names, cont_names=cont_names)"
   ]
  },
  {
   "cell_type": "code",
   "execution_count": null,
   "metadata": {},
   "outputs": [],
   "source": [
    "\n",
    "def get_structure(\n",
    "    initial_size,\n",
    "    percental_reduce,\n",
    "    min_value,\n",
    "    input_size=None,\n",
    "    final_outputs=1,\n",
    "    reverse_structure=False,\n",
    "):\n",
    "    \"\"\"\n",
    "    Turn the given parameters into the structure of an ann model.\n",
    "\n",
    "    The 'initial size' acts as the first layer, and each following layer i is of the size\n",
    "    'initial_size' * (1 - percental_reduce) ^ i. This is repeated until 'min_value' is reached. Finally, 'final_outputs'\n",
    "    is appended as the last layer.\n",
    "\n",
    "    Parameters\n",
    "    ----------\n",
    "    initial_size : integer\n",
    "        size of the first layer, and baseline for all following layers.\n",
    "    percental_reduce : float\n",
    "        percentage of the size reduction of each subsequent layer.\n",
    "    min_value : integer\n",
    "        the minimum layer size up to which the 'initial_size' is used to create new layers.\n",
    "    input_size : integer\n",
    "        if not None, a layer of the given size will be prepended to the actual structure.\n",
    "    final_outputs : integer\n",
    "        the size of the final layer.\n",
    "\n",
    "    Returns\n",
    "    -------\n",
    "    list\n",
    "        The finished structure of the ann model.\n",
    "    \"\"\"\n",
    "    ann_structure = [initial_size]\n",
    "    final_outputs = listify(final_outputs)\n",
    "\n",
    "    if 0 in final_outputs or (None in final_outputs):\n",
    "        raise ValueError(\n",
    "            \"Invalid parameters: final_outputs should not contain 0 or None\"\n",
    "        )\n",
    "\n",
    "    if percental_reduce >= 1.0:\n",
    "        percental_reduce = percental_reduce / 100.0\n",
    "\n",
    "    while True:\n",
    "        new_size = int(ann_structure[-1] - ann_structure[-1] * percental_reduce)\n",
    "\n",
    "        if new_size <= min_value:\n",
    "            new_size = min_value\n",
    "            ann_structure.append(new_size)\n",
    "            break\n",
    "        else:\n",
    "            ann_structure.append(new_size)\n",
    "\n",
    "    if reverse_structure:\n",
    "        ann_structure = list(reversed(ann_structure))\n",
    "\n",
    "    if input_size != None:\n",
    "        input_size = listify(input_size)\n",
    "        return input_size + ann_structure + final_outputs\n",
    "\n",
    "    else:\n",
    "        return ann_structure + final_outputs"
   ]
  },
  {
   "cell_type": "code",
   "execution_count": null,
   "metadata": {},
   "outputs": [],
   "source": [
    "#export\n",
    "@delegates(Learner.__init__)\n",
    "def renewable_learner(dls, layers=None, emb_szs=None, config=None, n_out=None, y_range=None, embedding_type=EmbeddingType.Normal, **kwargs):\n",
    "    \"Get a `Learner` using `dls`, with `metrics`, including a `TabularModel` created using the remaining params.\"\n",
    "    if config is None: config = tabular_config()\n",
    "    \n",
    "    to = dls.train_ds\n",
    "    emb_szs = get_emb_sz(dls.train_ds, {} if emb_szs is None else emb_szs)\n",
    "    if n_out is None: n_out = get_c(dls)\n",
    "    assert n_out, \"`n_out` is not defined, and could not be inferred from data, set `dls.c` or pass `n_out`\"\n",
    "    \n",
    "    if layers is None: layers = [len(dls.cont_names), 200, 100, n_out]\n",
    "    if y_range is None and 'y_range' in config: y_range = config.pop('y_range')\n",
    "        \n",
    "    embed_p = kwargs[\"embed_p\"].pop() if \"embed_p\" in kwargs.keys() else 0.1\n",
    "    \n",
    "        \n",
    "    if emb_szs is not None:\n",
    "        emb_module = EmbeddingModule(None, embedding_dropout=embed_p, embedding_dimensions=emb_szs)\n",
    "        \n",
    "    model = MultiLayerPerceptron(layers, embedding_module=emb_module, **config)\n",
    "    \n",
    "#     TODO add bayesian loss\n",
    "    \n",
    "    return RenewableLearner(dls, model, **kwargs)\n",
    "\n",
    "\n"
   ]
  },
  {
   "cell_type": "code",
   "execution_count": null,
   "metadata": {},
   "outputs": [],
   "source": [
    "learn = renewable_learner(dls, metrics=rmse)"
   ]
  },
  {
   "cell_type": "code",
   "execution_count": null,
   "metadata": {},
   "outputs": [
    {
     "data": {
      "text/html": [
       "<table border=\"1\" class=\"dataframe\">\n",
       "  <thead>\n",
       "    <tr style=\"text-align: right;\">\n",
       "      <th></th>\n",
       "      <th>TaskID</th>\n",
       "      <th>Month</th>\n",
       "      <th>Day</th>\n",
       "      <th>Hour</th>\n",
       "      <th>T_HAG_2_M</th>\n",
       "      <th>RELHUM_HAG_2_M</th>\n",
       "      <th>PS_SFC_0_M</th>\n",
       "      <th>ASWDIFDS_SFC_0_M</th>\n",
       "      <th>ASWDIRS_SFC_0_M</th>\n",
       "      <th>WindSpeed58m</th>\n",
       "      <th>PowerGeneration</th>\n",
       "    </tr>\n",
       "  </thead>\n",
       "  <tbody>\n",
       "    <tr>\n",
       "      <th>0</th>\n",
       "      <td>1</td>\n",
       "      <td>1</td>\n",
       "      <td>12</td>\n",
       "      <td>4</td>\n",
       "      <td>275.239</td>\n",
       "      <td>94.732</td>\n",
       "      <td>98444.987996</td>\n",
       "      <td>8.857000</td>\n",
       "      <td>0.402002</td>\n",
       "      <td>5.183627</td>\n",
       "      <td>0.120</td>\n",
       "    </tr>\n",
       "    <tr>\n",
       "      <th>1</th>\n",
       "      <td>2</td>\n",
       "      <td>12</td>\n",
       "      <td>9</td>\n",
       "      <td>22</td>\n",
       "      <td>274.464</td>\n",
       "      <td>89.597</td>\n",
       "      <td>93273.914000</td>\n",
       "      <td>26.894999</td>\n",
       "      <td>6.605003</td>\n",
       "      <td>9.835812</td>\n",
       "      <td>0.059</td>\n",
       "    </tr>\n",
       "    <tr>\n",
       "      <th>2</th>\n",
       "      <td>1</td>\n",
       "      <td>3</td>\n",
       "      <td>19</td>\n",
       "      <td>14</td>\n",
       "      <td>280.551</td>\n",
       "      <td>45.188</td>\n",
       "      <td>99153.668032</td>\n",
       "      <td>58.413000</td>\n",
       "      <td>124.918998</td>\n",
       "      <td>2.478674</td>\n",
       "      <td>0.005</td>\n",
       "    </tr>\n",
       "    <tr>\n",
       "      <th>3</th>\n",
       "      <td>1</td>\n",
       "      <td>11</td>\n",
       "      <td>20</td>\n",
       "      <td>13</td>\n",
       "      <td>278.050</td>\n",
       "      <td>74.106</td>\n",
       "      <td>97975.293000</td>\n",
       "      <td>33.861000</td>\n",
       "      <td>21.382998</td>\n",
       "      <td>3.012120</td>\n",
       "      <td>0.006</td>\n",
       "    </tr>\n",
       "    <tr>\n",
       "      <th>4</th>\n",
       "      <td>1</td>\n",
       "      <td>11</td>\n",
       "      <td>23</td>\n",
       "      <td>23</td>\n",
       "      <td>274.746</td>\n",
       "      <td>96.752</td>\n",
       "      <td>96840.987959</td>\n",
       "      <td>31.107000</td>\n",
       "      <td>17.617000</td>\n",
       "      <td>2.479837</td>\n",
       "      <td>0.003</td>\n",
       "    </tr>\n",
       "    <tr>\n",
       "      <th>5</th>\n",
       "      <td>2</td>\n",
       "      <td>9</td>\n",
       "      <td>27</td>\n",
       "      <td>13</td>\n",
       "      <td>288.006</td>\n",
       "      <td>81.087</td>\n",
       "      <td>93218.487998</td>\n",
       "      <td>51.687000</td>\n",
       "      <td>19.365000</td>\n",
       "      <td>8.374600</td>\n",
       "      <td>0.694</td>\n",
       "    </tr>\n",
       "    <tr>\n",
       "      <th>6</th>\n",
       "      <td>1</td>\n",
       "      <td>11</td>\n",
       "      <td>8</td>\n",
       "      <td>14</td>\n",
       "      <td>280.142</td>\n",
       "      <td>78.493</td>\n",
       "      <td>96982.261978</td>\n",
       "      <td>46.122000</td>\n",
       "      <td>13.926002</td>\n",
       "      <td>3.967423</td>\n",
       "      <td>0.017</td>\n",
       "    </tr>\n",
       "    <tr>\n",
       "      <th>7</th>\n",
       "      <td>0</td>\n",
       "      <td>12</td>\n",
       "      <td>13</td>\n",
       "      <td>3</td>\n",
       "      <td>275.120</td>\n",
       "      <td>87.620</td>\n",
       "      <td>96705.414034</td>\n",
       "      <td>18.381000</td>\n",
       "      <td>9.586001</td>\n",
       "      <td>5.652658</td>\n",
       "      <td>0.093</td>\n",
       "    </tr>\n",
       "    <tr>\n",
       "      <th>8</th>\n",
       "      <td>0</td>\n",
       "      <td>4</td>\n",
       "      <td>1</td>\n",
       "      <td>10</td>\n",
       "      <td>283.121</td>\n",
       "      <td>51.852</td>\n",
       "      <td>100964.770004</td>\n",
       "      <td>48.083000</td>\n",
       "      <td>140.133999</td>\n",
       "      <td>4.822452</td>\n",
       "      <td>0.002</td>\n",
       "    </tr>\n",
       "    <tr>\n",
       "      <th>9</th>\n",
       "      <td>2</td>\n",
       "      <td>8</td>\n",
       "      <td>10</td>\n",
       "      <td>19</td>\n",
       "      <td>290.569</td>\n",
       "      <td>84.564</td>\n",
       "      <td>93763.288997</td>\n",
       "      <td>104.109999</td>\n",
       "      <td>128.206000</td>\n",
       "      <td>3.636913</td>\n",
       "      <td>0.017</td>\n",
       "    </tr>\n",
       "  </tbody>\n",
       "</table>"
      ],
      "text/plain": [
       "<IPython.core.display.HTML object>"
      ]
     },
     "metadata": {},
     "output_type": "display_data"
    }
   ],
   "source": [
    "dls.show_batch()"
   ]
  },
  {
   "cell_type": "code",
   "execution_count": null,
   "metadata": {},
   "outputs": [
    {
     "data": {
      "text/plain": [
       "MultiLayerPerceptron(\n",
       "  (embedding_module): EmbeddingModule(\n",
       "    (embeddings): ModuleList(\n",
       "      (0): Embedding(4, 3)\n",
       "      (1): Embedding(13, 7)\n",
       "      (2): Embedding(32, 11)\n",
       "      (3): Embedding(25, 10)\n",
       "    )\n",
       "    (emb_drop): Dropout(p=0.1, inplace=False)\n",
       "  )\n",
       "  (final_activation): Identity()\n",
       "  (embeds): ModuleList()\n",
       "  (emb_drop): Dropout(p=0.0, inplace=False)\n",
       "  (bn_cont): BatchNorm1d(6, eps=1e-05, momentum=0.1, affine=True, track_running_stats=True)\n",
       "  (layers): Sequential(\n",
       "    (0): LinBnDrop(\n",
       "      (0): BatchNorm1d(37, eps=1e-05, momentum=0.1, affine=True, track_running_stats=True)\n",
       "      (1): Linear(in_features=37, out_features=200, bias=False)\n",
       "      (2): ReLU(inplace=True)\n",
       "    )\n",
       "    (1): LinBnDrop(\n",
       "      (0): BatchNorm1d(200, eps=1e-05, momentum=0.1, affine=True, track_running_stats=True)\n",
       "      (1): Linear(in_features=200, out_features=100, bias=False)\n",
       "      (2): ReLU(inplace=True)\n",
       "    )\n",
       "    (2): LinBnDrop(\n",
       "      (0): Linear(in_features=100, out_features=1, bias=True)\n",
       "    )\n",
       "  )\n",
       ")"
      ]
     },
     "execution_count": null,
     "metadata": {},
     "output_type": "execute_result"
    }
   ],
   "source": [
    "learn.model"
   ]
  },
  {
   "cell_type": "code",
   "execution_count": null,
   "metadata": {},
   "outputs": [
    {
     "data": {
      "text/html": [
       "<table border=\"1\" class=\"dataframe\">\n",
       "  <thead>\n",
       "    <tr style=\"text-align: left;\">\n",
       "      <th>epoch</th>\n",
       "      <th>train_loss</th>\n",
       "      <th>valid_loss</th>\n",
       "      <th>_rmse</th>\n",
       "      <th>time</th>\n",
       "    </tr>\n",
       "  </thead>\n",
       "  <tbody>\n",
       "    <tr>\n",
       "      <td>0</td>\n",
       "      <td>0.015541</td>\n",
       "      <td>0.013574</td>\n",
       "      <td>0.116507</td>\n",
       "      <td>00:03</td>\n",
       "    </tr>\n",
       "  </tbody>\n",
       "</table>"
      ],
      "text/plain": [
       "<IPython.core.display.HTML object>"
      ]
     },
     "metadata": {},
     "output_type": "display_data"
    }
   ],
   "source": [
    "learn.fit_one_cycle(1)"
   ]
  },
  {
   "cell_type": "code",
   "execution_count": null,
   "metadata": {},
   "outputs": [],
   "source": [
    "n_conts=len(dls.cont_names)\n",
    "hidden_layers = [n_conts] + get_structure(n_conts*20,90,10)\n",
    "learn = renewable_learner(dls, metrics=rmse, layers=hidden_layers, embedding_type=EmbeddingType.Bayes)"
   ]
  },
  {
   "cell_type": "code",
   "execution_count": null,
   "metadata": {},
   "outputs": [
    {
     "data": {
      "text/html": [
       "<table border=\"1\" class=\"dataframe\">\n",
       "  <thead>\n",
       "    <tr style=\"text-align: left;\">\n",
       "      <th>epoch</th>\n",
       "      <th>train_loss</th>\n",
       "      <th>valid_loss</th>\n",
       "      <th>_rmse</th>\n",
       "      <th>time</th>\n",
       "    </tr>\n",
       "  </thead>\n",
       "  <tbody>\n",
       "    <tr>\n",
       "      <td>0</td>\n",
       "      <td>0.013593</td>\n",
       "      <td>0.013329</td>\n",
       "      <td>0.115451</td>\n",
       "      <td>00:03</td>\n",
       "    </tr>\n",
       "  </tbody>\n",
       "</table>"
      ],
      "text/plain": [
       "<IPython.core.display.HTML object>"
      ]
     },
     "metadata": {},
     "output_type": "display_data"
    }
   ],
   "source": [
    "learn.fit_one_cycle(1)"
   ]
  },
  {
   "cell_type": "code",
   "execution_count": null,
   "metadata": {},
   "outputs": [],
   "source": [
    "preds,target = learn.predict()"
   ]
  },
  {
   "cell_type": "code",
   "execution_count": null,
   "metadata": {},
   "outputs": [
    {
     "data": {
      "text/plain": [
       "<matplotlib.collections.PathCollection at 0x7f5c354e6fa0>"
      ]
     },
     "execution_count": null,
     "metadata": {},
     "output_type": "execute_result"
    },
    {
     "data": {
      "image/png": "[encoded data removed]",
      "text/plain": [
       "<Figure size 432x288 with 1 Axes>"
      ]
     },
     "metadata": {
      "needs_background": "light"
     },
     "output_type": "display_data"
    }
   ],
   "source": [
    "import matplotlib.pyplot as plt\n",
    "plt.scatter(preds,target)"
   ]
  },
  {
   "cell_type": "code",
   "execution_count": null,
   "metadata": {},
   "outputs": [
    {
     "name": "stdout",
     "output_type": "stream",
     "text": [
      "Converted 00_tabular.core.ipynb.\n",
      "Converted 01_tabular.data.ipynb.\n",
      "Converted 02_tabular.model.ipynb.\n",
      "Converted 03_tabular.learner.ipynb.\n",
      "Converted index.ipynb.\n"
     ]
    }
   ],
   "source": [
    "#hide\n",
    "from nbdev.export import notebook2script\n",
    "notebook2script()"
   ]
  },
  {
   "cell_type": "code",
   "execution_count": null,
   "metadata": {},
   "outputs": [],
   "source": []
  },
  {
   "cell_type": "code",
   "execution_count": null,
   "metadata": {},
   "outputs": [],
   "source": []
  }
 ],
 "metadata": {
  "kernelspec": {
   "display_name": "Python 3",
   "language": "python",
   "name": "python3"
  }
 },
 "nbformat": 4,
 "nbformat_minor": 4
}
