{
 "cells": [
  {
   "cell_type": "code",
   "execution_count": null,
   "metadata": {},
   "outputs": [],
   "source": [
    "# default_exp timeseries.core"
   ]
  },
  {
   "cell_type": "markdown",
   "metadata": {},
   "source": [
    "# timeseries.core\n",
    "\n",
    "> API details."
   ]
  },
  {
   "cell_type": "code",
   "execution_count": null,
   "metadata": {},
   "outputs": [],
   "source": [
    "#hide\n",
    "%load_ext autoreload\n",
    "%autoreload 2"
   ]
  },
  {
   "cell_type": "code",
   "execution_count": null,
   "metadata": {},
   "outputs": [],
   "source": [
    "#hide\n",
    "#export\n",
    "import pandas as pd\n",
    "from fastai.data.external import *\n",
    "from fastcore.all import *\n",
    "from pathlib import PosixPath\n",
    "from fastcore.test import *\n",
    "from fastai.tabular.all import *\n",
    "import fastai\n",
    "from fastai.tabular.core import _maybe_expand\n",
    "from fastrenewables.tabular.core import *\n",
    "from fastrenewables.utils import *"
   ]
  },
  {
   "cell_type": "code",
   "execution_count": null,
   "metadata": {},
   "outputs": [],
   "source": [
    "#hide\n",
    "from nbdev.showdoc import *"
   ]
  },
  {
   "cell_type": "code",
   "execution_count": null,
   "metadata": {},
   "outputs": [],
   "source": [
    "files = glob.glob('../data/*.h5')\n",
    "dfs = read_files(files)"
   ]
  },
  {
   "cell_type": "code",
   "execution_count": null,
   "metadata": {},
   "outputs": [],
   "source": [
    "#hide\n",
    "def get_data(splits=None):\n",
    "    return TabularRenewables(pd.concat(dfs), \n",
    "                       pre_process=FilterInconsistentSamplesPerDay, \n",
    "                       splits=splits,\n",
    "                       cat_names=\"TaskID\",\n",
    "                       cont_names = [ 'WindSpeed58m', 'WindSpeed60m'],\n",
    "                       y_names=\"PowerGeneration\",\n",
    "                       procs=Categorify,\n",
    "                      )"
   ]
  },
  {
   "cell_type": "code",
   "execution_count": null,
   "metadata": {},
   "outputs": [],
   "source": [
    "#hide\n",
    "def get_test_df():\n",
    "    np.random.seed(123)\n",
    "    cont1, cont2 = np.arange(0,48, 0.5), np.arange(0,48, 0.5)[::-1]\n",
    "    conts = np.concatenate([cont1.reshape(-1,1), cont2.reshape(-1,1)], axis=1)\n",
    "    cat = np.random.randint(0,5, 96)\n",
    "    task_ids = np.zeros(96)\n",
    "    task_ids[-16:] = 1\n",
    "    y = np.random.randn((96))\n",
    "    df = pd.DataFrame(conts, columns=[\"x1\", \"x2\"])\n",
    "    df[\"cat\"] = cat\n",
    "    df[\"TID\"] = task_ids\n",
    "    df[\"y\"] = y\n",
    "    df.index =pd.date_range(\"1/1/2021\", freq=\"3H\", periods=96)\n",
    "    return df\n",
    "\n",
    "def get_test_tabular(cat_names=\"cat\", target=\"y\", y_block=RegressionBlock()):\n",
    "    df = get_test_df()\n",
    "    \n",
    "    return TabularRenewables(df.sample(frac=1), cat_names=cat_names, y_names=target, \n",
    "                             cont_names=[\"x1\", \"x2\"], group_id=\"TID\", y_block=y_block)"
   ]
  },
  {
   "cell_type": "markdown",
   "metadata": {},
   "source": [
    "The following example shows a dataframe that we want to convert to a timeseries representation. We are intereseted in samples, where each sample contains a whole day. In this example a day consist of 8 samples."
   ]
  },
  {
   "cell_type": "code",
   "execution_count": null,
   "metadata": {},
   "outputs": [
    {
     "data": {
      "text/html": [
       "<div>\n",
       "<style scoped>\n",
       "    .dataframe tbody tr th:only-of-type {\n",
       "        vertical-align: middle;\n",
       "    }\n",
       "\n",
       "    .dataframe tbody tr th {\n",
       "        vertical-align: top;\n",
       "    }\n",
       "\n",
       "    .dataframe thead th {\n",
       "        text-align: right;\n",
       "    }\n",
       "</style>\n",
       "<table border=\"1\" class=\"dataframe\">\n",
       "  <thead>\n",
       "    <tr style=\"text-align: right;\">\n",
       "      <th></th>\n",
       "      <th>x1</th>\n",
       "      <th>x2</th>\n",
       "      <th>cat</th>\n",
       "      <th>TID</th>\n",
       "      <th>y</th>\n",
       "    </tr>\n",
       "  </thead>\n",
       "  <tbody>\n",
       "    <tr>\n",
       "      <th>2021-01-01 00:00:00</th>\n",
       "      <td>0.0</td>\n",
       "      <td>47.5</td>\n",
       "      <td>2</td>\n",
       "      <td>0.0</td>\n",
       "      <td>1.267518</td>\n",
       "    </tr>\n",
       "    <tr>\n",
       "      <th>2021-01-01 03:00:00</th>\n",
       "      <td>0.5</td>\n",
       "      <td>47.0</td>\n",
       "      <td>4</td>\n",
       "      <td>0.0</td>\n",
       "      <td>2.107840</td>\n",
       "    </tr>\n",
       "    <tr>\n",
       "      <th>2021-01-01 06:00:00</th>\n",
       "      <td>1.0</td>\n",
       "      <td>46.5</td>\n",
       "      <td>2</td>\n",
       "      <td>0.0</td>\n",
       "      <td>-0.236089</td>\n",
       "    </tr>\n",
       "    <tr>\n",
       "      <th>2021-01-01 09:00:00</th>\n",
       "      <td>1.5</td>\n",
       "      <td>46.0</td>\n",
       "      <td>1</td>\n",
       "      <td>0.0</td>\n",
       "      <td>-0.232082</td>\n",
       "    </tr>\n",
       "    <tr>\n",
       "      <th>2021-01-01 12:00:00</th>\n",
       "      <td>2.0</td>\n",
       "      <td>45.5</td>\n",
       "      <td>3</td>\n",
       "      <td>0.0</td>\n",
       "      <td>-1.078139</td>\n",
       "    </tr>\n",
       "    <tr>\n",
       "      <th>2021-01-01 15:00:00</th>\n",
       "      <td>2.5</td>\n",
       "      <td>45.0</td>\n",
       "      <td>2</td>\n",
       "      <td>0.0</td>\n",
       "      <td>1.163185</td>\n",
       "    </tr>\n",
       "    <tr>\n",
       "      <th>2021-01-01 18:00:00</th>\n",
       "      <td>3.0</td>\n",
       "      <td>44.5</td>\n",
       "      <td>3</td>\n",
       "      <td>0.0</td>\n",
       "      <td>0.522490</td>\n",
       "    </tr>\n",
       "    <tr>\n",
       "      <th>2021-01-01 21:00:00</th>\n",
       "      <td>3.5</td>\n",
       "      <td>44.0</td>\n",
       "      <td>1</td>\n",
       "      <td>0.0</td>\n",
       "      <td>1.844365</td>\n",
       "    </tr>\n",
       "    <tr>\n",
       "      <th>2021-01-02 00:00:00</th>\n",
       "      <td>4.0</td>\n",
       "      <td>43.5</td>\n",
       "      <td>1</td>\n",
       "      <td>0.0</td>\n",
       "      <td>0.695564</td>\n",
       "    </tr>\n",
       "  </tbody>\n",
       "</table>\n",
       "</div>"
      ],
      "text/plain": [
       "                      x1    x2  cat  TID         y\n",
       "2021-01-01 00:00:00  0.0  47.5    2  0.0  1.267518\n",
       "2021-01-01 03:00:00  0.5  47.0    4  0.0  2.107840\n",
       "2021-01-01 06:00:00  1.0  46.5    2  0.0 -0.236089\n",
       "2021-01-01 09:00:00  1.5  46.0    1  0.0 -0.232082\n",
       "2021-01-01 12:00:00  2.0  45.5    3  0.0 -1.078139\n",
       "2021-01-01 15:00:00  2.5  45.0    2  0.0  1.163185\n",
       "2021-01-01 18:00:00  3.0  44.5    3  0.0  0.522490\n",
       "2021-01-01 21:00:00  3.5  44.0    1  0.0  1.844365\n",
       "2021-01-02 00:00:00  4.0  43.5    1  0.0  0.695564"
      ]
     },
     "execution_count": null,
     "metadata": {},
     "output_type": "execute_result"
    }
   ],
   "source": [
    "df = get_test_df()\n",
    "df.sort_index().head(9)"
   ]
  },
  {
   "cell_type": "markdown",
   "metadata": {},
   "source": [
    "The following function takes a dataframe as input and converts the specified columns into the required timeseries representation."
   ]
  },
  {
   "cell_type": "code",
   "execution_count": null,
   "metadata": {},
   "outputs": [],
   "source": [
    "#export\n",
    "def _reshape_dataframe_to_timeseries_representation(df, ts_length, column_names):\n",
    "    \"Returns tensor in the shape [n_samples, timeseries length, number features].\\\n",
    "    Assumes that dataframe is of a single task.\"\n",
    "    \n",
    "    df = df.sort_index()\n",
    "    reshaped_values = df[column_names].values.reshape(-1, ts_length, len(column_names))\n",
    "    return tensor(reshaped_values)"
   ]
  },
  {
   "cell_type": "markdown",
   "metadata": {},
   "source": [
    "Get the first day as tensor."
   ]
  },
  {
   "cell_type": "code",
   "execution_count": null,
   "metadata": {},
   "outputs": [
    {
     "data": {
      "text/plain": [
       "tensor([[ 0.0000, 47.5000],\n",
       "        [ 0.5000, 47.0000],\n",
       "        [ 1.0000, 46.5000],\n",
       "        [ 1.5000, 46.0000],\n",
       "        [ 2.0000, 45.5000],\n",
       "        [ 2.5000, 45.0000],\n",
       "        [ 3.0000, 44.5000],\n",
       "        [ 3.5000, 44.0000]])"
      ]
     },
     "execution_count": null,
     "metadata": {},
     "output_type": "execute_result"
    }
   ],
   "source": [
    "first_day_as_tensor = tensor(df.sort_index()[[\"x1\", \"x2\"]][0:8].values)\n",
    "first_day_as_tensor"
   ]
  },
  {
   "cell_type": "code",
   "execution_count": null,
   "metadata": {},
   "outputs": [],
   "source": [
    "# test if we get the correct tensor returned\n",
    "test_eq(first_day_as_tensor, _reshape_dataframe_to_timeseries_representation(get_test_df(), 24//3, [\"x1\", \"x2\"])[0])"
   ]
  },
  {
   "cell_type": "code",
   "execution_count": null,
   "metadata": {},
   "outputs": [],
   "source": [
    "#export\n",
    "#hide\n",
    "def _get_samples_per_day_single_task(to):\n",
    "    \"Gets the number of samples per day, for a TabularRenewables with multiple tasks.\"\n",
    "    task_ids = to[to.group_id].unique()\n",
    "    df = to.items[to.items[to.group_id]==task_ids[0]]\n",
    "    return get_samples_per_day(df.sort_index())"
   ]
  },
  {
   "cell_type": "code",
   "execution_count": null,
   "metadata": {},
   "outputs": [
    {
     "data": {
      "text/html": [
       "<div>\n",
       "<style scoped>\n",
       "    .dataframe tbody tr th:only-of-type {\n",
       "        vertical-align: middle;\n",
       "    }\n",
       "\n",
       "    .dataframe tbody tr th {\n",
       "        vertical-align: top;\n",
       "    }\n",
       "\n",
       "    .dataframe thead th {\n",
       "        text-align: right;\n",
       "    }\n",
       "</style>\n",
       "<table border=\"1\" class=\"dataframe\">\n",
       "  <thead>\n",
       "    <tr style=\"text-align: right;\">\n",
       "      <th></th>\n",
       "      <th>x1</th>\n",
       "      <th>x2</th>\n",
       "      <th>cat</th>\n",
       "      <th>TID</th>\n",
       "      <th>y</th>\n",
       "    </tr>\n",
       "  </thead>\n",
       "  <tbody>\n",
       "    <tr>\n",
       "      <th>2021-01-12 12:00:00</th>\n",
       "      <td>46.0</td>\n",
       "      <td>1.5</td>\n",
       "      <td>1</td>\n",
       "      <td>1.0</td>\n",
       "      <td>-0.240680</td>\n",
       "    </tr>\n",
       "    <tr>\n",
       "      <th>2021-01-02 03:00:00</th>\n",
       "      <td>4.5</td>\n",
       "      <td>43.0</td>\n",
       "      <td>0</td>\n",
       "      <td>0.0</td>\n",
       "      <td>-0.181689</td>\n",
       "    </tr>\n",
       "  </tbody>\n",
       "</table>\n",
       "</div>"
      ],
      "text/plain": [
       "                       x1    x2  cat  TID         y\n",
       "2021-01-12 12:00:00  46.0   1.5    1  1.0 -0.240680\n",
       "2021-01-02 03:00:00   4.5  43.0    0  0.0 -0.181689"
      ]
     },
     "execution_count": null,
     "metadata": {},
     "output_type": "execute_result"
    }
   ],
   "source": [
    "to = get_test_tabular()\n",
    "to.items.head(2)"
   ]
  },
  {
   "cell_type": "code",
   "execution_count": null,
   "metadata": {},
   "outputs": [],
   "source": [
    "# hide\n",
    "# we test wheter we can find the correct samples per day in a shufled dataframe \n",
    "# with multiple tasks. this can e.g. occur in a preprocessed tabular renewables\n",
    "# that should be converted to a timeseries representation\n",
    "test_eq(8, _get_samples_per_day_single_task(to))"
   ]
  },
  {
   "cell_type": "code",
   "execution_count": null,
   "metadata": {},
   "outputs": [],
   "source": [
    "#export\n",
    "#hide\n",
    "def _correct_types(to, cats, conts, ys):\n",
    "    if len(cats) > 0:\n",
    "        cats = cats.long()\n",
    "    # continious/regression output\n",
    "    if contains_instance(list(to.procs), RegressionSetup):\n",
    "        ys = ys.float()\n",
    "    else:\n",
    "        ys = ys.long()\n",
    "    return cats, conts, ys"
   ]
  },
  {
   "cell_type": "markdown",
   "metadata": {},
   "source": [
    "The following function provides some conventions functions that allows to reshape a complete `TabularRenewables` into a timeseries representation."
   ]
  },
  {
   "cell_type": "code",
   "execution_count": null,
   "metadata": {},
   "outputs": [],
   "source": [
    "#export\n",
    "def convert_to_timeseries_representation(to:TabularRenewables, timeseries_length:int):\n",
    "    \"\"\"\n",
    "        Converts a tabular renewables to a timeseries representation of [n_samples, timeseries length, number features].\n",
    "        Return the index, categoricals, continous and targets of a `TabularRenewables` as reshaped timeseries representation as tensor.\n",
    "    \"\"\"\n",
    "    cats, conts, ys, index = [], [], [], []\n",
    "    has_cats = len(to.cat_names) > 0\n",
    "    \n",
    "    to[to.cont_names] = to.items[to.cont_names].apply(lambda x: x.astype(np.float64))\n",
    "    \n",
    "    for task_id, df in to.items.groupby(to.group_id):\n",
    "        df = df.sort_index()\n",
    "        conts.append(_reshape_dataframe_to_timeseries_representation(df, timeseries_length, to.cont_names))\n",
    "        ys.append(_reshape_dataframe_to_timeseries_representation(df, timeseries_length, to.y_names))\n",
    "        if has_cats:\n",
    "            cats.append(_reshape_dataframe_to_timeseries_representation(df, timeseries_length, to.cat_names).long())\n",
    "        index.append(df.sort_index().index.values.reshape(-1, timeseries_length, 1))    \n",
    "        \n",
    "    # batch, seq, features -> batch, features, seq\n",
    "    if has_cats:\n",
    "        cats =  torch.cat(cats).permute(0, 2, 1)\n",
    "        \n",
    "    index =  np.concatenate(index).swapaxes(1,2)\n",
    "    conts, ys = torch.cat(conts).permute(0, 2, 1), torch.cat(ys).permute(0, 2, 1)\n",
    "    cats, conts, ys = _correct_types(to, cats, conts, ys)\n",
    "    return index, cats, conts, ys"
   ]
  },
  {
   "cell_type": "code",
   "execution_count": null,
   "metadata": {},
   "outputs": [],
   "source": [
    "# hide\n",
    "test_eq(first_day_as_tensor.T, convert_to_timeseries_representation(to, 24//3)[2][0])\n",
    "test_eq(convert_to_timeseries_representation(to, 24//3)[0][0,0,0], to.items.sort_index().index[0])\n",
    "test_eq(convert_to_timeseries_representation(to, 24//3)[0][-1,-1,-1], to.items.sort_index().index[-1])"
   ]
  },
  {
   "cell_type": "code",
   "execution_count": null,
   "metadata": {},
   "outputs": [
    {
     "data": {
      "text/markdown": [
       "<h4 id=\"convert_to_timeseries_representation\" class=\"doc_header\"><code>convert_to_timeseries_representation</code><a href=\"__main__.py#L2\" class=\"source_link\" style=\"float:right\">[source]</a></h4>\n",
       "\n",
       "> <code>convert_to_timeseries_representation</code>(**`to`**:[`TabularRenewables`](/fastrenewables/tabular.core.html#TabularRenewables), **`timeseries_length`**:`int`)\n",
       "\n",
       "Converts a tabular renewables to a timeseries representation of [n_samples, timeseries length, number features].\n",
       "Return the index, categoricals, continous and targets of a [`TabularRenewables`](/fastrenewables/tabular.core.html#TabularRenewables) as reshaped timeseries representation as tensor."
      ],
      "text/plain": [
       "<IPython.core.display.Markdown object>"
      ]
     },
     "metadata": {},
     "output_type": "display_data"
    }
   ],
   "source": [
    "show_doc(convert_to_timeseries_representation)"
   ]
  },
  {
   "cell_type": "code",
   "execution_count": null,
   "metadata": {},
   "outputs": [],
   "source": [
    "index, cats, conts, ys = convert_to_timeseries_representation(to, 24//3)"
   ]
  },
  {
   "cell_type": "code",
   "execution_count": null,
   "metadata": {},
   "outputs": [
    {
     "data": {
      "text/plain": [
       "<AxesSubplot:>"
      ]
     },
     "execution_count": null,
     "metadata": {},
     "output_type": "execute_result"
    },
    {
     "data": {
      "image/png": "[encoded data removed]",
      "text/plain": [
       "<Figure size 432x288 with 1 Axes>"
      ]
     },
     "metadata": {
      "needs_background": "light"
     },
     "output_type": "display_data"
    }
   ],
   "source": [
    "# lets check for the first sample\n",
    "pd.DataFrame({\"y\": to_np(ys[0].ravel())},index=index[0].ravel()).plot()"
   ]
  },
  {
   "cell_type": "code",
   "execution_count": null,
   "metadata": {},
   "outputs": [],
   "source": [
    "#export\n",
    "#hide\n",
    "def _reshape_dataframe_to_timeseries_representation_different_lengths(df:pd.DataFrame, cont_names:list, \n",
    "                                         cat_names:list, y_names:list,\n",
    "                                         ts_x_length:int, ts_y_length:int, \n",
    "                                        step_size:int, y_timeseries_offset:int):\n",
    "    len_data = df.shape[0]\n",
    "    has_cats = len(cat_names)>0\n",
    "    max_samples = len_data - y_timeseries_offset - ts_y_length\n",
    "\n",
    "    samples_tensor = max_samples // step_size + 1\n",
    "\n",
    "    conts = torch.zeros((samples_tensor, len(cont_names), ts_x_length)).float()\n",
    "    ys = torch.zeros((samples_tensor, len(cat_names), ts_y_length))\n",
    "    indexes = np.zeros((samples_tensor, 1, ts_x_length), dtype='datetime64[s]')\n",
    "\n",
    "    cats = None\n",
    "    if has_cats:\n",
    "        cats = torch.zeros((samples_tensor, len(cat_names), ts_x_length)).long()\n",
    "    else:\n",
    "        cats = torch.empty(((samples_tensor, len(cat_names), ts_x_length)))\n",
    "\n",
    "    for sample_id, i in enumerate(range(0, max_samples + 1, step_size)):\n",
    "        start_x = i\n",
    "        end_x = start_x + ts_x_length\n",
    "        start_y = i + y_timeseries_offset\n",
    "        end_y = start_y + ts_y_length\n",
    "\n",
    "        conts[sample_id, :, :] = tensor(\n",
    "            df[cont_names][start_x:end_x].values.transpose().reshape(-1, ts_x_length)\n",
    "        )\n",
    "        indexes[sample_id, :, :] = df.index[start_x:end_x].values.transpose().reshape(-1, ts_x_length)\n",
    "        \n",
    "        if has_cats:\n",
    "            cats[sample_id, :, :] = tensor(\n",
    "                df[cat_names][start_x:end_x]\n",
    "                .values.transpose()\n",
    "                .reshape(-1, ts_x_length)\n",
    "            ).long()\n",
    "\n",
    "        ys[sample_id, :, :] = tensor(\n",
    "            df[y_names].iloc[start_y:end_y]\n",
    "            .values.transpose()\n",
    "            .reshape(-1, ts_y_length)\n",
    "        )\n",
    "\n",
    "    return indexes, cats, conts, ys"
   ]
  },
  {
   "cell_type": "markdown",
   "metadata": {},
   "source": [
    "The following function does the same as `convert_to_timeseries_representation`, however, it allows for more flexible reshaping. At the same time this function is slower for larger datasets."
   ]
  },
  {
   "cell_type": "code",
   "execution_count": null,
   "metadata": {},
   "outputs": [],
   "source": [
    "#export\n",
    "def convert_to_timeseries_representation_different_lengths(to:TabularRenewables, \n",
    "                                                           ts_x_length:int, \n",
    "                                                           ts_y_length:int, \n",
    "                                                           step_size:int, \n",
    "                                                           y_timeseries_offset:int):\n",
    "    \"\"\"Converts a tabular renewables to a timeseries representation of [n_samples, timeseries length, number features].\n",
    "    ts_x_length: The length of the input timeseries.\n",
    "    ts_y_length: The length of the output timeseries.\n",
    "    step_size: The shift for the output. Similar to a sliding window. \n",
    "    y_timeseries_offset: The (initial) offset of the output compared to the input.\"\"\"\n",
    "    \n",
    "    indexes, cats, conts, ys= L(), L(), L(), L()\n",
    "    has_cats = len(to.cat_names) > 0\n",
    "    for task_id, df in to.items.groupby(to.group_id):\n",
    "        df = df.sort_index()\n",
    "        index, cat, cont, y = _reshape_dataframe_to_timeseries_representation_different_lengths(df,  \n",
    "                                                            cont_names=to.cont_names, \n",
    "                                                            cat_names=to.cat_names, \n",
    "                                                            y_names=to.y_names, \n",
    "                                                            ts_x_length=ts_x_length, \n",
    "                                                            ts_y_length=ts_y_length, \n",
    "                                                            step_size=step_size, \n",
    "                                                            y_timeseries_offset=y_timeseries_offset)\n",
    "        conts += cont\n",
    "        ys += y\n",
    "        indexes += index\n",
    "        if has_cats:\n",
    "            cats += cat\n",
    "    indexes, cats, conts, ys = np.concatenate(indexes), torch.cat(list(cats)), torch.cat(list(conts)), torch.cat(list(ys))\n",
    "    cats, conts, ys = _correct_types(to, cats, conts, ys)\n",
    "    \n",
    "    return indexes, cats, conts, ys\n",
    "    \n"
   ]
  },
  {
   "cell_type": "code",
   "execution_count": null,
   "metadata": {},
   "outputs": [
    {
     "data": {
      "text/markdown": [
       "<h4 id=\"convert_to_timeseries_representation_different_lengths\" class=\"doc_header\"><code>convert_to_timeseries_representation_different_lengths</code><a href=\"__main__.py#L2\" class=\"source_link\" style=\"float:right\">[source]</a></h4>\n",
       "\n",
       "> <code>convert_to_timeseries_representation_different_lengths</code>(**`to`**:[`TabularRenewables`](/fastrenewables/tabular.core.html#TabularRenewables), **`ts_x_length`**:`int`, **`ts_y_length`**:`int`, **`step_size`**:`int`, **`y_timeseries_offset`**:`int`)\n",
       "\n",
       "Converts a tabular renewables to a timeseries representation of [n_samples, timeseries length, number features].\n",
       "ts_x_length: The length of the input timeseries.\n",
       "ts_y_length: The length of the output timeseries.\n",
       "step_size: The shift for the output. Similar to a sliding window. \n",
       "y_timeseries_offset: The (initial) offset of the output compared to the input."
      ],
      "text/plain": [
       "<IPython.core.display.Markdown object>"
      ]
     },
     "metadata": {},
     "output_type": "display_data"
    }
   ],
   "source": [
    "show_doc(convert_to_timeseries_representation_different_lengths)"
   ]
  },
  {
   "cell_type": "markdown",
   "metadata": {},
   "source": [
    "For instance if we want to forecast `y` based on the last four hours of `x`, for the next four hours, we can configure it as follows."
   ]
  },
  {
   "cell_type": "code",
   "execution_count": null,
   "metadata": {},
   "outputs": [],
   "source": [
    "ts_x_length=4\n",
    "y_timeseries_offset = ts_x_length\n",
    "ts_y_length=ts_x_length\n",
    "step_size=ts_x_length\n",
    "\n",
    "df = get_test_df()\n",
    "indexes, cats, conts, ys = convert_to_timeseries_representation_different_lengths(to, \n",
    "                                                      ts_x_length=ts_x_length,\n",
    "                                                      ts_y_length=ts_y_length,\n",
    "                                                      step_size=step_size,\n",
    "                                                      y_timeseries_offset=y_timeseries_offset)"
   ]
  },
  {
   "cell_type": "code",
   "execution_count": null,
   "metadata": {},
   "outputs": [],
   "source": [
    "test_eq(df[[\"x1\",\"x2\"]][0:4].values, to_np(conts[0]).T)\n",
    "test_eq(df[[\"x1\",\"x2\"]][4:8].values, to_np(conts[1]).T)\n",
    "test_close(df[[\"y\"]][4:8].values, to_np(ys[0]).T)\n",
    "test_close(df[[\"y\"]][8:12].values, to_np(ys[1]).T)"
   ]
  },
  {
   "cell_type": "code",
   "execution_count": null,
   "metadata": {},
   "outputs": [],
   "source": [
    "# hide\n",
    "n_samples_per_day = 24//3\n",
    "y_timeseries_offset = 2\n",
    "ts_y_length=n_samples_per_day-y_timeseries_offset\n",
    "step_size=n_samples_per_day\n",
    "df = get_test_df()\n",
    "indexes, cats, conts, ys = convert_to_timeseries_representation_different_lengths(to, \n",
    "                                                      ts_x_length=n_samples_per_day,\n",
    "                                                      ts_y_length=ts_y_length,\n",
    "                                                      step_size=step_size,\n",
    "                                                      y_timeseries_offset=y_timeseries_offset)\n",
    "test_eq(first_day_as_tensor.T, conts[0])\n",
    "# first element of y should be equal to the element by the offset in the dataframe\n",
    "test_eq(df[\"y\"][y_timeseries_offset], ys[0][0][0])\n",
    "# for each sample of the time series we increase by the step size\n",
    "test_eq(df[\"y\"][y_timeseries_offset+step_size], ys[1][0][0])\n",
    "# for each sample of the time series we increase by the step size\n",
    "test_eq(df[\"y\"][y_timeseries_offset+step_size], ys[1][0][0])\n",
    "# where the length of this timeseries is given by ts_y_length\n",
    "test_eq(df[\"y\"][y_timeseries_offset+step_size+ts_y_length-1], ys[1][0][-1])\n",
    "# as we reduced the length of y by the offset, the last element should still be the last element\n",
    "test_eq(df[\"y\"][-1], ys[-1][-1][-1])\n",
    "\n",
    "# check correct reshape of indexes\n",
    "test_eq(indexes[0,0,0], to.items.sort_index().index[0])\n",
    "test_eq(indexes[-1,-1,-1], to.items.sort_index().index[-1])"
   ]
  },
  {
   "cell_type": "code",
   "execution_count": null,
   "metadata": {},
   "outputs": [],
   "source": [
    "# hide\n",
    "\n",
    "y_timeseries_offset = 1\n",
    "ts_y_length = 1\n",
    "ts_x_length = 2\n",
    "step_size=2\n",
    "df = get_test_df()\n",
    "indexes, cats, conts, ys = convert_to_timeseries_representation_different_lengths(to, \n",
    "                                                      ts_x_length=ts_x_length,\n",
    "                                                      ts_y_length=ts_y_length,\n",
    "                                                      step_size=step_size,\n",
    "                                                      y_timeseries_offset=y_timeseries_offset)\n",
    "test_eq(df[\"y\"][y_timeseries_offset], ys[0][0][0])\n",
    "test_eq(df[\"y\"][y_timeseries_offset+step_size], ys[1][0][0])\n",
    "test_eq(df[\"y\"][y_timeseries_offset+step_size], ys[1][0][0])\n",
    "test_eq(df[\"y\"][y_timeseries_offset+step_size+ts_y_length-1], ys[1][0][-1])\n",
    "\n",
    "test_eq(indexes[0,0,0], to.items.sort_index().index[0])\n",
    "test_eq(indexes[-1,-1,-1], to.items.sort_index().index[-1])"
   ]
  },
  {
   "cell_type": "code",
   "execution_count": null,
   "metadata": {},
   "outputs": [],
   "source": [
    "#export\n",
    "#hide\n",
    "def _convert_tabular_pandas_to_timeseries(\n",
    "        to, \n",
    "        ts_x_length=None, \n",
    "        ts_y_length=None, \n",
    "        step_size=None,\n",
    "        y_timeseries_offset=0,\n",
    "    ):\n",
    "        timeseries_length = None\n",
    "        if (ts_x_length == None) and (ts_y_length == None) and (step_size == None):\n",
    "            timeseries_length = _get_samples_per_day_single_task(to)\n",
    "            ts_x_length = timeseries_length\n",
    "            ts_y_length = timeseries_length\n",
    "            step_size = timeseries_length\n",
    "        elif None in (ts_x_length, ts_y_length, step_size):\n",
    "            raise ValueError(\"Either none or all values must be provided for (ts_x_length, ts_y_length, step_size)\")\n",
    "        \n",
    "        len_data = len(to.xs)\n",
    "        has_cats = len(to.cat_names) > 0\n",
    "        n_conts, n_cats, n_ys = len(to.cont_names),  len(to.cat_names), len(to.y_names)\n",
    "        \n",
    "        if len_data % ts_x_length != 0:\n",
    "            raise Exception(\"Length of data is not dividable by length of a timeseries sequence.\")\n",
    "        \n",
    "        if (ts_x_length == ts_y_length == step_size) and (y_timeseries_offset==0) and timeseries_length is not None:\n",
    "            indexes, cats, conts, ys = convert_to_timeseries_representation(to, timeseries_length)\n",
    "        else:\n",
    "            indexes, cats, conts, ys = convert_to_timeseries_representation_different_lengths(to, \n",
    "                                                ts_x_length=ts_x_length, \n",
    "                                                ts_y_length=ts_y_length,\n",
    "                                                step_size=step_size, \n",
    "                                                y_timeseries_offset=y_timeseries_offset)\n",
    "        ts_lengths = (ts_x_length, ts_y_length, step_size)\n",
    "        return ts_lengths, indexes, cats, conts, ys"
   ]
  },
  {
   "cell_type": "code",
   "execution_count": null,
   "metadata": {},
   "outputs": [],
   "source": [
    "# hide\n",
    "to = get_test_tabular()\n",
    "_, indexes_implicit, cats_implicit, conts_implicit, ys_implicit = _convert_tabular_pandas_to_timeseries(to)\n",
    "_, indexes_explicit, cats_explicit, conts_explicit, ys_explicit = \\\n",
    "    _convert_tabular_pandas_to_timeseries(to, ts_x_length=8, ts_y_length=8, step_size=8)\n",
    "    \n",
    "# check whether correct values of dataframe are determined\n",
    "test_eq(indexes_implicit.shape, indexes_explicit.shape)\n",
    "test_eq(cats_implicit.shape, cats_explicit.shape)\n",
    "test_eq(conts_implicit.shape, conts_explicit.shape)\n",
    "test_eq(ys_implicit.shape, ys_explicit.shape)"
   ]
  },
  {
   "cell_type": "code",
   "execution_count": null,
   "metadata": {},
   "outputs": [],
   "source": [
    "#export\n",
    "#hide\n",
    "def _check_categoricals(indexes, conts, cats, ys, batch_first=True, sequence_last=True):\n",
    "    # If selected, drop all categorical columns which do not have a constant value for each time series\n",
    "    # individually.\n",
    "    if batch_first and sequence_last:\n",
    "        for i in range(cats.shape[1]):\n",
    "            keep_indexes = []\n",
    "            for j in range(cats.shape[0]):\n",
    "                if (cats[j, i, :] - cats[j, i, 0]).sum() == 0:\n",
    "                    keep_indexes += [j]\n",
    "\n",
    "            n_dropped = cats.shape[0] - len(keep_indexes)\n",
    "            if n_dropped > 0:\n",
    "                warnings.warn(\n",
    "                    f\"Dropped {n_dropped} elements due to inconsistent categoricals in a sequence.\"\n",
    "                )\n",
    "            conts = conts[keep_indexes, :, :]\n",
    "            cats = cats[keep_indexes, :, :]\n",
    "            ys = ys[keep_indexes, :, :]\n",
    "            indexes = indexes[keep_indexes, :, :]\n",
    "    else:\n",
    "        raise NotImplementedError(\n",
    "            f\"Drop inconsistent categoricals is not implemented for batch_first {self.batch_first} and sequence_last {self.sequence_last}\"\n",
    "        )\n",
    "    return indexes, cats, conts, ys"
   ]
  },
  {
   "cell_type": "code",
   "execution_count": null,
   "metadata": {},
   "outputs": [
    {
     "name": "stderr",
     "output_type": "stream",
     "text": [
      "<ipython-input-31-a3cc964b6bbb>:15: UserWarning: Dropped 2 elements due to inconsistent categoricals in a sequence.\n",
      "  warnings.warn(\n"
     ]
    }
   ],
   "source": [
    "# hide\n",
    "to = get_test_tabular()\n",
    "_, indexes, cats, conts, ys = _convert_tabular_pandas_to_timeseries(to)\n",
    "# simulate that all catecoricals have the same value along the timerseries axis\n",
    "cats = torch.ones_like(cats)\n",
    "# fake two incorrect values\n",
    "cats[0][0][1]=0\n",
    "cats[-1][0][1]=3\n",
    "indexes_checked, cats_checked, conts_checked, ys_checked = _check_categoricals(indexes, conts, cats, ys)\n",
    "# check if two values have been removed in all input/output and catecoricals\n",
    "test_eq(cats.shape[0]-2, cats_checked.shape[0])\n",
    "test_eq(conts.shape[0]-2, conts_checked.shape[0])\n",
    "test_eq(indexes.shape[0]-2, indexes_checked.shape[0])\n",
    "test_eq(ys.shape[0]-2, ys_checked.shape[0])"
   ]
  },
  {
   "cell_type": "code",
   "execution_count": null,
   "metadata": {},
   "outputs": [],
   "source": [
    "#export\n",
    "#hide\n",
    "def _adjust_ts_and_batch(data, batch_first, sequence_last):\n",
    "    \"\"\"\n",
    "    Swap the dimensions of the given Tensor.\n",
    "    Parameters\n",
    "    ----------\n",
    "    data : pytorch.Tensor\n",
    "        Three dimensional Tensor whose dimensions are to be swapped. Expectes data of the dimension (batch, features, sequence length).\n",
    "    batch_first : bool\n",
    "        determines whether the first dimension of the resulting Tensors should denote the batch.\n",
    "    sequence_last : bool\n",
    "        determines whether the last dimension of the resulting Tensors should denote the sequence length.\n",
    "\n",
    "    Returns\n",
    "    -------\n",
    "    data : pytorch.Tensor\n",
    "        input tensor with swapped dimensions.\n",
    "    \"\"\"\n",
    "\n",
    "    if batch_first and sequence_last:\n",
    "        # batch, feature, seq -> batch, seq, feature\n",
    "        pass\n",
    "    elif batch_first and not sequence_last:\n",
    "        # batch, feature, seq -> batch, seq, feature\n",
    "        data = data.permute(0, 2, 1)\n",
    "    elif not batch_first and not sequence_last:\n",
    "        # batch, feature, seq -> seq, batch, feature\n",
    "        data = data.permute(2, 0, 1)\n",
    "\n",
    "    return data\n"
   ]
  },
  {
   "cell_type": "code",
   "execution_count": null,
   "metadata": {},
   "outputs": [],
   "source": [
    "#export\n",
    "#hide\n",
    "def _convert_to_batch_ts_feature_view(data, batch_first, sequence_last):\n",
    "    \"\"\"\n",
    "    Converts the data to the followong dimension (batch, sequence length, features).\n",
    "\n",
    "    Parameters\n",
    "    ----------\n",
    "    data : pytorch.Tensor\n",
    "        three dimensional Tensor whose dimensions are to be swapped.\n",
    "    batch_first : bool\n",
    "        determines whether the first dimension of the resulting Tensors denotes the batch.\n",
    "    sequence_last : bool\n",
    "        determines whether the last dimension of the resulting Tensors denotes the sequence length.\n",
    "\n",
    "    Returns\n",
    "    -------\n",
    "    data : pytorch.Tensor\n",
    "        input tensor with dimensions to be swapped.\n",
    "    \"\"\"\n",
    "\n",
    "    if batch_first and sequence_last:\n",
    "        # batch, feature, seq -> batch, seq, feature\n",
    "        data = data.permute(0, 2, 1)\n",
    "    elif not batch_first and not sequence_last:\n",
    "        # seq, batch, feature -> batch, seq, feature\n",
    "        data = data.permute(1, 0, 2)\n",
    "    elif not batch_first and sequence_last:\n",
    "        # feature, batch, seq -> batch, seq, feature\n",
    "        data = data.permute(1, 2, 0)\n",
    "\n",
    "    return data"
   ]
  },
  {
   "cell_type": "code",
   "execution_count": null,
   "metadata": {},
   "outputs": [],
   "source": [
    "#export\n",
    "class Timeseries(Transform, FilteredBase):\n",
    "    \"A transform to convert a TabularRenewables object into a timerseries representation.\"\n",
    "    def __init__(\n",
    "        self,\n",
    "        to: TabularRenewables,\n",
    "        ts_x_length: int = None,\n",
    "        ts_y_length: int = None,\n",
    "        step_size:int = None, \n",
    "        y_timeseries_offset=0,\n",
    "        batch_first: bool = True,\n",
    "        sequence_last: bool = True,\n",
    "        drop_inconsistent_cats: bool = True,\n",
    "        splits=None,\n",
    "        post_hooks=[],\n",
    "        **kwargs\n",
    "    ):\n",
    "        \"\"\"\n",
    "\n",
    "        Parameters\n",
    "        ----------\n",
    "        to : TabularRenewables\n",
    "            input dataset, has to be set up before.\n",
    "        ts_x_length: The length of the input timeseries.\n",
    "        ts_y_length: The length of the output timeseries.\n",
    "        step_size: The shift for the output. Similar to a sliding window. \n",
    "        y_timeseries_offset: The (initial) offset of the output compared to the input.\n",
    "        batch_first : bool\n",
    "            determines whether the first dimension of the resulting Tensors denoted the batch.\n",
    "        sequence_last : bool\n",
    "            determines whether the last dimension of the resulting Tensors denoted the sequence length.\n",
    "        post_hooks : Simple (custom) transforms applied after transformations of the dataset to a timeseries.\n",
    "        \"\"\"\n",
    "        \n",
    "        self.to = to\n",
    "        self.has_cat = len(to.cat_names) > 0\n",
    "        self.batch_first, self.sequence_last = batch_first, sequence_last\n",
    "        \n",
    "        if getattr(to, \"splits\", None) is not None:\n",
    "            warnings.warn(\"Splitting in TabularRenewables is not supported. \\\n",
    "                          Otherwise a correct splitting for timeseries is not assured. \\\n",
    "                          Fallback to complete data.\")\n",
    "            \n",
    "        \n",
    "        ts_lengths, self.indexes, self.cats, self.conts, self.ys = _convert_tabular_pandas_to_timeseries(to, \n",
    "                                                                               ts_x_length=ts_x_length,\n",
    "                                                                               ts_y_length = ts_y_length,\n",
    "                                                                               step_size = step_size,\n",
    "                                                                               y_timeseries_offset = y_timeseries_offset\n",
    "                                                                              )\n",
    "        self.ts_x_length, self.ts_y_length, self.step_size = ts_lengths\n",
    "        self.y_timeseries_offset = y_timeseries_offset\n",
    "        \n",
    "\n",
    "        self._adjust_to_required_timeseries_representation()\n",
    "        \n",
    "        for post_hook in post_hooks:\n",
    "            self.indexes, self.cats, self.conts, self.ys = post_hook(self.indexes, self.cats, self.conts, self.ys)\n",
    "        \n",
    "        if splits is None:\n",
    "            self.split = range(0,len(self))\n",
    "        else:\n",
    "            # TODO: check if it is already an object?\n",
    "            splits = splits(self)\n",
    "            self.split = splits\n",
    "            \n",
    "        self.dataloaders = delegates(self._dl_type.__init__)(self.dataloaders)\n",
    "        \n",
    "        self._check_shape()\n",
    "\n",
    "    def _adjust_to_required_timeseries_representation(self):\n",
    "        self.indexes = _adjust_ts_and_batch(\n",
    "            self.indexes, self.batch_first, self.sequence_last\n",
    "        )\n",
    "        self.conts = _adjust_ts_and_batch(\n",
    "            self.conts, self.batch_first, self.sequence_last\n",
    "        )\n",
    "        self.ys = _adjust_ts_and_batch(\n",
    "            self.ys, self.batch_first, self.sequence_last\n",
    "        )\n",
    "        \n",
    "        if self.has_cat:\n",
    "            self.cats = _adjust_ts_and_batch(\n",
    "                self.cats, self.batch_first, self.sequence_last\n",
    "            )\n",
    "    \n",
    "    def _check_shape(self):\n",
    "        if not self.batch_first or not self.sequence_last:\n",
    "            raise NotImplementedError\n",
    "\n",
    "    @property\n",
    "    def input_sequence_length(self):\n",
    "        return self.conts.shape[-1]\n",
    "        \n",
    "    @property\n",
    "    def output_sequence_length(self):\n",
    "        return self.ys.shape[-1]\n",
    "    \n",
    "    @property\n",
    "    def c(self):\n",
    "        return self.to.c\n",
    "    \n",
    "    @property\n",
    "    def loss_func(self):\n",
    "        return self.to.loss_func\n",
    "    \n",
    "    @property\n",
    "    def n_subsets(self):\n",
    "        return len(self.split)\n",
    "    \n",
    "    # required for splitting of train and eval\n",
    "    def subset(self, i): \n",
    "        # ToDo: index=None, batch_first=True, sequence_last=True\n",
    "        if len(self.split) == 2:\n",
    "            return TimeseriesDataset(self._data_by_split(self.split[i]), \n",
    "                                     self._all_names(), self.c, self.loss_func, getattr(self.to, \"classes\", None))\n",
    "        elif i == 0:\n",
    "            return TimeseriesDataset(self._data_by_split(self.split), \n",
    "                                     self._all_names(), self.c, self.loss_func, getattr(self.to, \"classes\", None))\n",
    "        else:\n",
    "            return None\n",
    "        \n",
    "    @property\n",
    "    def train(self):\n",
    "        return self.subset(0)\n",
    "    \n",
    "    @property\n",
    "    def valid(self):\n",
    "        return self.subset(1)\n",
    "    \n",
    "    def _data_by_split(self, split):\n",
    "        if len(self.cats) == 0:\n",
    "            cats = []\n",
    "        else:\n",
    "            cats = self.cats[split]\n",
    "            \n",
    "        return (self.indexes[split], cats, self.conts[split], self.ys[split])\n",
    "    \n",
    "    def _data_by_id(self, i:int):\n",
    "        return (self.indexes[i], self.cats[i], self.conts[i], self.ys[i])\n",
    "    \n",
    "    def _all_names(self):\n",
    "        return (self.cat_names, self.cont_names, self.y_names)\n",
    "    \n",
    "    @property\n",
    "    def cont_names(self):\n",
    "        return self.to.cont_names\n",
    "    \n",
    "    @property\n",
    "    def cat_names(self):\n",
    "        return self.to.cat_names\n",
    "    \n",
    "    @property\n",
    "    def y_names(self):\n",
    "        return self.to.y_names\n",
    "    \n",
    "    def __len__(self):\n",
    "        \"\"\"\n",
    "        Return the length of the used TabularPandas.\n",
    "\n",
    "        Returns\n",
    "        -------\n",
    "        integer\n",
    "            amount of lines in the TabularPandas\n",
    "        \"\"\"\n",
    "        # TODO depends on position of batch\n",
    "        return self.conts.shape[0]\n",
    "\n",
    "    def show(self, max_n=10, **kwargs):\n",
    "        \"\"\"\n",
    "        Create a plot for a 'max_n' of input- and target time series.\n",
    "        Parameters\n",
    "        ----------\n",
    "        max_n : interger\n",
    "            amount of samples that are to be plotted.\n",
    "        kwargs\n",
    "\n",
    "        Returns\n",
    "        -------\n",
    "\n",
    "        \"\"\"\n",
    "        # TODO: make subplots with grid\n",
    "        tmp_data = Transform._adjust_ts_and_batch(\n",
    "            self.xs, batch_first=True, sequence_last=True\n",
    "        )\n",
    "\n",
    "        for idx in range(self.xs.shape[1]):\n",
    "            plt.plot(self.xs[0:max_n, idx, :].reshape(-1, 1))\n",
    "            plt.title(f\"Feature {self.tp.cont_names[idx]}\")\n",
    "            plt.show()\n",
    "\n",
    "        for idx in range(self.ys.shape[1]):\n",
    "            plt.plot(self.ys[0:max_n, idx, :].reshape(-1, 1))\n",
    "            plt.title(f\"Target {self.tp.y_names[idx]}\")\n",
    "            plt.show()\n",
    "\n",
    "    def _all_names(self):\n",
    "        return [self.to.cat_names, self.to.cont_names, self.to.y_names]\n",
    "    \n"
   ]
  },
  {
   "cell_type": "markdown",
   "metadata": {},
   "source": [
    "The `Timeseries` transform wraps a number of functions allowing to transform a `TabularRenewables` into a timeseries reporesentation. At the same time it allows to access all the required information of the tabular data."
   ]
  },
  {
   "cell_type": "code",
   "execution_count": null,
   "metadata": {},
   "outputs": [],
   "source": [
    "to = get_test_tabular()\n",
    "tt = Timeseries(to)"
   ]
  },
  {
   "cell_type": "markdown",
   "metadata": {},
   "source": [
    "By default it takes the number of samples per day for the timeseries length, as it is common for wind power prediction."
   ]
  },
  {
   "cell_type": "code",
   "execution_count": null,
   "metadata": {},
   "outputs": [
    {
     "data": {
      "text/plain": [
       "torch.Size([12, 2, 8])"
      ]
     },
     "execution_count": null,
     "metadata": {},
     "output_type": "execute_result"
    }
   ],
   "source": [
    "# number of samples X number of features X timeseries length\n",
    "tt.conts.shape"
   ]
  },
  {
   "cell_type": "code",
   "execution_count": null,
   "metadata": {},
   "outputs": [
    {
     "data": {
      "text/plain": [
       "<AxesSubplot:>"
      ]
     },
     "execution_count": null,
     "metadata": {},
     "output_type": "execute_result"
    },
    {
     "data": {
      "image/png": "[encoded data removed]",
      "text/plain": [
       "<Figure size 432x288 with 1 Axes>"
      ]
     },
     "metadata": {
      "needs_background": "light"
     },
     "output_type": "display_data"
    }
   ],
   "source": [
    "pd.DataFrame({\"y\": to_np(tt.ys.reshape(-1))},index=tt.indexes.reshape(-1), columns=tt.y_names).plot()"
   ]
  },
  {
   "cell_type": "code",
   "execution_count": null,
   "metadata": {},
   "outputs": [
    {
     "data": {
      "text/markdown": [
       "<h2 id=\"Timeseries\" class=\"doc_header\"><code>class</code> <code>Timeseries</code><a href=\"\" class=\"source_link\" style=\"float:right\">[source]</a></h2>\n",
       "\n",
       "> <code>Timeseries</code>(**`to`**:[`TabularRenewables`](/fastrenewables/tabular.core.html#TabularRenewables), **`ts_x_length`**:`int`=*`None`*, **`ts_y_length`**:`int`=*`None`*, **`step_size`**:`int`=*`None`*, **`y_timeseries_offset`**=*`0`*, **`batch_first`**:`bool`=*`True`*, **`sequence_last`**:`bool`=*`True`*, **`drop_inconsistent_cats`**:`bool`=*`True`*, **`splits`**=*`None`*, **`post_hooks`**=*`[]`*, **\\*\\*`kwargs`**) :: `Transform`\n",
       "\n",
       "A transform to convert a TabularRenewables object into a timerseries representation."
      ],
      "text/plain": [
       "<IPython.core.display.Markdown object>"
      ]
     },
     "metadata": {},
     "output_type": "display_data"
    }
   ],
   "source": [
    "show_doc(Timeseries)"
   ]
  },
  {
   "cell_type": "code",
   "execution_count": null,
   "metadata": {},
   "outputs": [],
   "source": [
    "#export\n",
    "class TimeseriesDataset(fastuple):\n",
    "    \"A dataset from a `Timeseries` object\"\n",
    "    def __init__(self, data:Timeseries, names:tuple, output_dim:int, loss_func, \n",
    "                 classes=None, index=None, batch_first=True, sequence_last=True):\n",
    "        \n",
    "        self.indexes, self.cats, self.conts, self.ys = data\n",
    "        self.cat_names, self.cont_names, self.y_names = names\n",
    "        self.classes = classes\n",
    "        self.c = output_dim\n",
    "        self.loss_func = loss_func\n",
    "        \n",
    "        if not batch_first or not sequence_last:\n",
    "            raise NotImplementedError\n",
    "\n",
    "    def __getitem__(self, idx):\n",
    "        if len(self.cats) == 0:\n",
    "            cats = []\n",
    "        else:\n",
    "            cats = self.cats[idx]\n",
    "\n",
    "        return cats, self.conts[idx], self.ys[idx]\n",
    "\n",
    "    def __len__(self): return len(self.conts)\n",
    "    \n",
    "    def new_empty(self):\n",
    "        return TimeseriesDataset((np.empty(0), torch.empty(0), torch.empty(0), torch.empty(0)), [[], [], []], None, None)\n",
    "    \n",
    "    @property\n",
    "    def input_sequence_length(self):\n",
    "        return self.conts.shape[-1]\n",
    "        \n",
    "    @property\n",
    "    def output_sequence_length(self):\n",
    "        return self.ys.shape[-1]\n",
    "    \n",
    "    def as_df(self, max_n=-1):\n",
    "        \n",
    "        df_cont = pd.DataFrame(data=torch.swapaxes(self.conts[:max_n], 1, 2).reshape(-1,self.conts.shape[1]), columns=self.cont_names)\n",
    "        df_cat = pd.DataFrame(data=torch.swapaxes(self.cats[:max_n], 1, 2).reshape(-1,self.cats.shape[1]), columns=self.cat_names)\n",
    "        df_y = pd.DataFrame(data=torch.swapaxes(self.ys[:max_n], 1, 2).reshape(-1,self.ys.shape[1]), columns=self.y_names)\n",
    "        df_all = pd.concat([df_cont, df_cat, df_y], axis=1)\n",
    "        df_all.set_index(self.indexes[:max_n,:,:].reshape(-1), inplace=True)\n",
    "        \n",
    "        return df_all\n",
    "    \n",
    "    def __repr__(self):\n",
    "        represenation = f\"index:\\n {self.indexes}\\n{self.cat_names}:\\n{self.cats}\\n\\n{self.cont_names}:\\n{self.conts}\\n\\n{self.y_names}:\\n{self.ys}\\n\\n\"\n",
    "        return represenation\n",
    "    \n",
    "    def show(self, max_n=10, **kwargs): \n",
    "        display_df(self.as_df(max_n))\n",
    "        \n",
    "    def show_batch(self, max_n=10, **kwargs): \n",
    "        self.show()"
   ]
  },
  {
   "cell_type": "markdown",
   "metadata": {},
   "source": [
    "A `TimeseriesDataset` holds transformed information from a `Timeseries` transform as tensor. It also gives the possibility to convert the data to a dataframe."
   ]
  },
  {
   "cell_type": "code",
   "execution_count": null,
   "metadata": {},
   "outputs": [
    {
     "data": {
      "text/plain": [
       "__main__.TimeseriesDataset"
      ]
     },
     "execution_count": null,
     "metadata": {},
     "output_type": "execute_result"
    }
   ],
   "source": [
    "# get the training data\n",
    "td = tt.train\n",
    "type(td)"
   ]
  },
  {
   "cell_type": "code",
   "execution_count": null,
   "metadata": {},
   "outputs": [
    {
     "data": {
      "text/plain": [
       "index:\n",
       " []\n",
       "[]:\n",
       "tensor([])\n",
       "\n",
       "[]:\n",
       "tensor([])\n",
       "\n",
       "[]:\n",
       "tensor([])\n"
      ]
     },
     "execution_count": null,
     "metadata": {},
     "output_type": "execute_result"
    }
   ],
   "source": [
    "#hide\n",
    "td.new_empty() # check that this works for storing of a learner"
   ]
  },
  {
   "cell_type": "code",
   "execution_count": null,
   "metadata": {},
   "outputs": [
    {
     "data": {
      "text/plain": [
       "(numpy.ndarray, torch.Tensor, torch.Tensor, torch.Tensor)"
      ]
     },
     "execution_count": null,
     "metadata": {},
     "output_type": "execute_result"
    }
   ],
   "source": [
    "type(td.indexes), type(td.conts), type(td.cats), type(td.ys)"
   ]
  },
  {
   "cell_type": "code",
   "execution_count": null,
   "metadata": {},
   "outputs": [],
   "source": [
    "#export\n",
    "class TimeSeriesDataLoader(DataLoader):\n",
    "    \"A dataloader for timersiers datasets.\"\n",
    "    def __init__(self, dataset, bs=32, num_workers=0, device='cuda', \n",
    "                 to_device=True, shuffle=False, drop_last=True,**kwargs):\n",
    "        \"A `DataLoader` based on a `TabDataset\"\n",
    "        device = device if torch.cuda.is_available() else \"cpu\"\n",
    "        \n",
    "        super().__init__(dataset, bs=bs, num_workers=num_workers, shuffle=shuffle, \n",
    "                         device=device, drop_last=drop_last, **kwargs)\n",
    "        \n",
    "        self.dataset.bs=bs\n",
    "        if to_device:self.to_device()\n",
    "    \n",
    "    def create_item(self, s): return s\n",
    "    \n",
    "    @property\n",
    "    def input_sequence_length(self):\n",
    "        return self.dataset.input_sequence_length\n",
    "        \n",
    "    @property\n",
    "    def output_sequence_length(self):\n",
    "        return self.dataset.output_sequence_length\n",
    "    \n",
    "    def to_device(self, device=None):\n",
    "        if device is None: device = self.device\n",
    "        self.dataset.cats.to(device)\n",
    "        self.dataset.conts.to(device)\n",
    "        self.dataset.ys.to(device)\n",
    "    \n",
    "    def create_batch(self, b):\n",
    "        \"Create a batch of data\"\n",
    "        cat, cont, y = self.dataset[b]\n",
    "        return cat.to(self.device), cont.to(self.device), y.to(self.device)\n",
    "\n",
    "    def get_idxs(self):\n",
    "        \"Get index's to select\"\n",
    "        idxs = Inf.count if self.indexed else Inf.nones\n",
    "        if self.n is not None: idxs = list(range(len(self.dataset)))\n",
    "        return idxs\n",
    "\n",
    "    def shuffle_fn(self):\n",
    "        \"Shuffle the interior dataset\"\n",
    "        rng = np.random.permutation(len(self.dataset))\n",
    "        self.dataset.cats = self.dataset.cats[rng]\n",
    "        self.dataset.conts = self.dataset.conts[rng]\n",
    "        self.dataset.ys = self.dataset.ys[rng]"
   ]
  },
  {
   "cell_type": "code",
   "execution_count": null,
   "metadata": {},
   "outputs": [],
   "source": [
    "#export\n",
    "class TimeSeriesDataLoaders(DataLoaders):\n",
    "    \"Dataloader container to store the training as well as the validation dataloader.\"\n",
    "    def __init__(self, to, bs=64, val_bs=None, shuffle_train=True, device='cpu', **kwargs):\n",
    "        if isinstance(to, Timeseries):\n",
    "            train_ds = to.train\n",
    "            valid_ds = to.valid\n",
    "        else:\n",
    "            train_ds = to\n",
    "            valid_ds = to.new_empty()\n",
    "\n",
    "            \n",
    "        val_bs = bs if val_bs is None else val_bs\n",
    "        train = TimeSeriesDataLoader(train_ds, bs=bs, shuffle=shuffle_train, device=device, **kwargs)\n",
    "        valid = TimeSeriesDataLoader(valid_ds, bs=val_bs, shuffle=False, device=device, **kwargs)\n",
    "        \n",
    "        super().__init__(train, valid, device=device)\n",
    "        \n",
    "    @property\n",
    "    def input_sequence_length(self):\n",
    "        return self.train.input_sequence_length\n",
    "        \n",
    "    @property\n",
    "    def output_sequence_length(self):\n",
    "        return self.train.output_sequence_length"
   ]
  },
  {
   "cell_type": "code",
   "execution_count": null,
   "metadata": {},
   "outputs": [],
   "source": [
    "Timeseries._dl_type = TimeSeriesDataLoader"
   ]
  },
  {
   "cell_type": "code",
   "execution_count": null,
   "metadata": {},
   "outputs": [],
   "source": [
    "to = get_test_tabular(target=\"y\", y_block=RegressionBlock())"
   ]
  },
  {
   "cell_type": "markdown",
   "metadata": {},
   "source": [
    "With the `TimeSeriesDataLoaders` and `TimeSeriesDataLoader` the `Timeseries` transform can directly converted to dataloaders based on the training and validation split."
   ]
  },
  {
   "cell_type": "code",
   "execution_count": null,
   "metadata": {},
   "outputs": [],
   "source": [
    "tt = Timeseries(to, splits=RandomSplitter())"
   ]
  },
  {
   "cell_type": "code",
   "execution_count": null,
   "metadata": {},
   "outputs": [
    {
     "data": {
      "text/plain": [
       "__main__.Timeseries"
      ]
     },
     "execution_count": null,
     "metadata": {},
     "output_type": "execute_result"
    }
   ],
   "source": [
    "type(tt)"
   ]
  },
  {
   "cell_type": "code",
   "execution_count": null,
   "metadata": {},
   "outputs": [],
   "source": [
    "dl = tt.dataloaders(bs=4)"
   ]
  },
  {
   "cell_type": "code",
   "execution_count": null,
   "metadata": {},
   "outputs": [],
   "source": [
    "r = dl.one_batch()"
   ]
  },
  {
   "cell_type": "code",
   "execution_count": null,
   "metadata": {},
   "outputs": [
    {
     "data": {
      "text/html": [
       "<table border=\"1\" class=\"dataframe\">\n",
       "  <thead>\n",
       "    <tr style=\"text-align: right;\">\n",
       "      <th></th>\n",
       "      <th>x1</th>\n",
       "      <th>x2</th>\n",
       "      <th>cat</th>\n",
       "      <th>y</th>\n",
       "    </tr>\n",
       "  </thead>\n",
       "  <tbody>\n",
       "    <tr>\n",
       "      <th>2021-01-09 00:00:00</th>\n",
       "      <td>32.0</td>\n",
       "      <td>15.5</td>\n",
       "      <td>1</td>\n",
       "      <td>0.061431</td>\n",
       "    </tr>\n",
       "    <tr>\n",
       "      <th>2021-01-09 03:00:00</th>\n",
       "      <td>32.5</td>\n",
       "      <td>15.0</td>\n",
       "      <td>4</td>\n",
       "      <td>-0.132878</td>\n",
       "    </tr>\n",
       "    <tr>\n",
       "      <th>2021-01-09 06:00:00</th>\n",
       "      <td>33.0</td>\n",
       "      <td>14.5</td>\n",
       "      <td>2</td>\n",
       "      <td>-0.310482</td>\n",
       "    </tr>\n",
       "    <tr>\n",
       "      <th>2021-01-09 09:00:00</th>\n",
       "      <td>33.5</td>\n",
       "      <td>14.0</td>\n",
       "      <td>1</td>\n",
       "      <td>0.315298</td>\n",
       "    </tr>\n",
       "    <tr>\n",
       "      <th>2021-01-09 12:00:00</th>\n",
       "      <td>34.0</td>\n",
       "      <td>13.5</td>\n",
       "      <td>1</td>\n",
       "      <td>-0.714177</td>\n",
       "    </tr>\n",
       "    <tr>\n",
       "      <th>2021-01-09 15:00:00</th>\n",
       "      <td>34.5</td>\n",
       "      <td>13.0</td>\n",
       "      <td>3</td>\n",
       "      <td>0.940126</td>\n",
       "    </tr>\n",
       "    <tr>\n",
       "      <th>2021-01-09 18:00:00</th>\n",
       "      <td>35.0</td>\n",
       "      <td>12.5</td>\n",
       "      <td>4</td>\n",
       "      <td>1.067317</td>\n",
       "    </tr>\n",
       "    <tr>\n",
       "      <th>2021-01-09 21:00:00</th>\n",
       "      <td>35.5</td>\n",
       "      <td>12.0</td>\n",
       "      <td>1</td>\n",
       "      <td>-1.249887</td>\n",
       "    </tr>\n",
       "  </tbody>\n",
       "</table>"
      ],
      "text/plain": [
       "<IPython.core.display.HTML object>"
      ]
     },
     "metadata": {},
     "output_type": "display_data"
    }
   ],
   "source": [
    "dl.train_ds.show(1)"
   ]
  },
  {
   "cell_type": "code",
   "execution_count": null,
   "metadata": {},
   "outputs": [],
   "source": [
    "dls = TimeSeriesDataLoaders(tt)"
   ]
  },
  {
   "cell_type": "code",
   "execution_count": null,
   "metadata": {},
   "outputs": [],
   "source": [
    "dl = TimeSeriesDataLoader(tt.train, bs=2)\n",
    "cats,conts, ys = dl.one_batch()"
   ]
  },
  {
   "cell_type": "code",
   "execution_count": null,
   "metadata": {},
   "outputs": [],
   "source": [
    "dl = TimeSeriesDataLoader(tt.valid, bs=2, shuffle=True)\n",
    "cats,conts, ys = dl.one_batch()"
   ]
  },
  {
   "cell_type": "markdown",
   "metadata": {},
   "source": [
    "In case the `Timeseries` transform is insufficient for you needs, we provide the possibility utilize hooks, that can be applied after the initial tranformation. For example consider the case, when we want to forecast a category, that is the same with a time.\n",
    "\n",
    "Note: For classification we require a `CategoryBlock` instead of `RegressionBlock`, similar to a `TabularPandas`."
   ]
  },
  {
   "cell_type": "code",
   "execution_count": null,
   "metadata": {},
   "outputs": [],
   "source": [
    "to = get_test_tabular(target=\"TID\", y_block=CategoryBlock())"
   ]
  },
  {
   "cell_type": "code",
   "execution_count": null,
   "metadata": {},
   "outputs": [
    {
     "data": {
      "text/html": [
       "<div>\n",
       "<style scoped>\n",
       "    .dataframe tbody tr th:only-of-type {\n",
       "        vertical-align: middle;\n",
       "    }\n",
       "\n",
       "    .dataframe tbody tr th {\n",
       "        vertical-align: top;\n",
       "    }\n",
       "\n",
       "    .dataframe thead th {\n",
       "        text-align: right;\n",
       "    }\n",
       "</style>\n",
       "<table border=\"1\" class=\"dataframe\">\n",
       "  <thead>\n",
       "    <tr style=\"text-align: right;\">\n",
       "      <th></th>\n",
       "      <th>x1</th>\n",
       "      <th>x2</th>\n",
       "      <th>cat</th>\n",
       "      <th>TID</th>\n",
       "      <th>y</th>\n",
       "    </tr>\n",
       "  </thead>\n",
       "  <tbody>\n",
       "    <tr>\n",
       "      <th>2021-01-01 00:00:00</th>\n",
       "      <td>0.0</td>\n",
       "      <td>47.5</td>\n",
       "      <td>2</td>\n",
       "      <td>0</td>\n",
       "      <td>1.267518</td>\n",
       "    </tr>\n",
       "    <tr>\n",
       "      <th>2021-01-01 03:00:00</th>\n",
       "      <td>0.5</td>\n",
       "      <td>47.0</td>\n",
       "      <td>4</td>\n",
       "      <td>0</td>\n",
       "      <td>2.107840</td>\n",
       "    </tr>\n",
       "    <tr>\n",
       "      <th>2021-01-01 06:00:00</th>\n",
       "      <td>1.0</td>\n",
       "      <td>46.5</td>\n",
       "      <td>2</td>\n",
       "      <td>0</td>\n",
       "      <td>-0.236089</td>\n",
       "    </tr>\n",
       "    <tr>\n",
       "      <th>2021-01-01 09:00:00</th>\n",
       "      <td>1.5</td>\n",
       "      <td>46.0</td>\n",
       "      <td>1</td>\n",
       "      <td>0</td>\n",
       "      <td>-0.232082</td>\n",
       "    </tr>\n",
       "    <tr>\n",
       "      <th>2021-01-01 12:00:00</th>\n",
       "      <td>2.0</td>\n",
       "      <td>45.5</td>\n",
       "      <td>3</td>\n",
       "      <td>0</td>\n",
       "      <td>-1.078139</td>\n",
       "    </tr>\n",
       "    <tr>\n",
       "      <th>...</th>\n",
       "      <td>...</td>\n",
       "      <td>...</td>\n",
       "      <td>...</td>\n",
       "      <td>...</td>\n",
       "      <td>...</td>\n",
       "    </tr>\n",
       "    <tr>\n",
       "      <th>2021-01-12 09:00:00</th>\n",
       "      <td>45.5</td>\n",
       "      <td>2.0</td>\n",
       "      <td>3</td>\n",
       "      <td>1</td>\n",
       "      <td>-1.972457</td>\n",
       "    </tr>\n",
       "    <tr>\n",
       "      <th>2021-01-12 12:00:00</th>\n",
       "      <td>46.0</td>\n",
       "      <td>1.5</td>\n",
       "      <td>1</td>\n",
       "      <td>1</td>\n",
       "      <td>-0.240680</td>\n",
       "    </tr>\n",
       "    <tr>\n",
       "      <th>2021-01-12 15:00:00</th>\n",
       "      <td>46.5</td>\n",
       "      <td>1.0</td>\n",
       "      <td>2</td>\n",
       "      <td>1</td>\n",
       "      <td>-0.304481</td>\n",
       "    </tr>\n",
       "    <tr>\n",
       "      <th>2021-01-12 18:00:00</th>\n",
       "      <td>47.0</td>\n",
       "      <td>0.5</td>\n",
       "      <td>3</td>\n",
       "      <td>1</td>\n",
       "      <td>-0.139733</td>\n",
       "    </tr>\n",
       "    <tr>\n",
       "      <th>2021-01-12 21:00:00</th>\n",
       "      <td>47.5</td>\n",
       "      <td>0.0</td>\n",
       "      <td>4</td>\n",
       "      <td>1</td>\n",
       "      <td>1.360318</td>\n",
       "    </tr>\n",
       "  </tbody>\n",
       "</table>\n",
       "<p>96 rows × 5 columns</p>\n",
       "</div>"
      ],
      "text/plain": [
       "                       x1    x2  cat  TID         y\n",
       "2021-01-01 00:00:00   0.0  47.5    2    0  1.267518\n",
       "2021-01-01 03:00:00   0.5  47.0    4    0  2.107840\n",
       "2021-01-01 06:00:00   1.0  46.5    2    0 -0.236089\n",
       "2021-01-01 09:00:00   1.5  46.0    1    0 -0.232082\n",
       "2021-01-01 12:00:00   2.0  45.5    3    0 -1.078139\n",
       "...                   ...   ...  ...  ...       ...\n",
       "2021-01-12 09:00:00  45.5   2.0    3    1 -1.972457\n",
       "2021-01-12 12:00:00  46.0   1.5    1    1 -0.240680\n",
       "2021-01-12 15:00:00  46.5   1.0    2    1 -0.304481\n",
       "2021-01-12 18:00:00  47.0   0.5    3    1 -0.139733\n",
       "2021-01-12 21:00:00  47.5   0.0    4    1  1.360318\n",
       "\n",
       "[96 rows x 5 columns]"
      ]
     },
     "execution_count": null,
     "metadata": {},
     "output_type": "execute_result"
    }
   ],
   "source": [
    "to.items.sort_index()"
   ]
  },
  {
   "cell_type": "code",
   "execution_count": null,
   "metadata": {},
   "outputs": [],
   "source": [
    "to = get_test_tabular(target=\"TID\", y_block=CategoryBlock())\n",
    "tt = Timeseries(to, splits=RandomSplitter(), post_hooks=[])"
   ]
  },
  {
   "cell_type": "markdown",
   "metadata": {},
   "source": [
    "In this case a simple transform leads to the same value for a day."
   ]
  },
  {
   "cell_type": "code",
   "execution_count": null,
   "metadata": {},
   "outputs": [
    {
     "data": {
      "text/plain": [
       "torch.Size([12, 1, 8])"
      ]
     },
     "execution_count": null,
     "metadata": {},
     "output_type": "execute_result"
    }
   ],
   "source": [
    "tt.ys.shape"
   ]
  },
  {
   "cell_type": "code",
   "execution_count": null,
   "metadata": {},
   "outputs": [
    {
     "data": {
      "text/plain": [
       "tensor([[[0, 0, 0, 0, 0, 0, 0, 0]],\n",
       "\n",
       "        [[0, 0, 0, 0, 0, 0, 0, 0]],\n",
       "\n",
       "        [[0, 0, 0, 0, 0, 0, 0, 0]],\n",
       "\n",
       "        [[0, 0, 0, 0, 0, 0, 0, 0]],\n",
       "\n",
       "        [[0, 0, 0, 0, 0, 0, 0, 0]],\n",
       "\n",
       "        [[0, 0, 0, 0, 0, 0, 0, 0]],\n",
       "\n",
       "        [[0, 0, 0, 0, 0, 0, 0, 0]],\n",
       "\n",
       "        [[0, 0, 0, 0, 0, 0, 0, 0]],\n",
       "\n",
       "        [[0, 0, 0, 0, 0, 0, 0, 0]],\n",
       "\n",
       "        [[0, 0, 0, 0, 0, 0, 0, 0]],\n",
       "\n",
       "        [[1, 1, 1, 1, 1, 1, 1, 1]],\n",
       "\n",
       "        [[1, 1, 1, 1, 1, 1, 1, 1]]])"
      ]
     },
     "execution_count": null,
     "metadata": {},
     "output_type": "execute_result"
    }
   ],
   "source": [
    "tt.ys"
   ]
  },
  {
   "cell_type": "markdown",
   "metadata": {},
   "source": [
    "However, for classification it might be sufficient to forecast a single value for the timeseries. By applying `post_hooks`, we can achieve the required representation."
   ]
  },
  {
   "cell_type": "code",
   "execution_count": null,
   "metadata": {},
   "outputs": [],
   "source": [
    "#export\n",
    "def reduce_target_timeseries_to_element(indexes, cats, conts, ys, element_pos=0):\n",
    "    \"Simple transform to shorten the target timeseries.\"\n",
    "    ys = ys[:,:,element_pos].reshape(-1,1,1)\n",
    "    \n",
    "    return indexes, cats, conts, ys"
   ]
  },
  {
   "cell_type": "code",
   "execution_count": null,
   "metadata": {},
   "outputs": [],
   "source": [
    "# check the number of classes\n",
    "test_eq(2, tt.c)"
   ]
  },
  {
   "cell_type": "code",
   "execution_count": null,
   "metadata": {},
   "outputs": [],
   "source": [
    "to = get_test_tabular(target=\"TID\", y_block=CategoryBlock())\n",
    "tt = Timeseries(to, post_hooks=[partial(reduce_target_timeseries_to_element, element_pos=0)])"
   ]
  },
  {
   "cell_type": "code",
   "execution_count": null,
   "metadata": {},
   "outputs": [
    {
     "data": {
      "text/plain": [
       "tensor([[[0]],\n",
       "\n",
       "        [[0]],\n",
       "\n",
       "        [[0]],\n",
       "\n",
       "        [[0]],\n",
       "\n",
       "        [[0]],\n",
       "\n",
       "        [[0]],\n",
       "\n",
       "        [[0]],\n",
       "\n",
       "        [[0]],\n",
       "\n",
       "        [[0]],\n",
       "\n",
       "        [[0]],\n",
       "\n",
       "        [[1]],\n",
       "\n",
       "        [[1]]])"
      ]
     },
     "execution_count": null,
     "metadata": {},
     "output_type": "execute_result"
    }
   ],
   "source": [
    "tt.ys"
   ]
  }
 ],
 "metadata": {
  "kernelspec": {
   "display_name": "Python 3",
   "language": "python",
   "name": "python3"
  }
 },
 "nbformat": 4,
 "nbformat_minor": 4
}
