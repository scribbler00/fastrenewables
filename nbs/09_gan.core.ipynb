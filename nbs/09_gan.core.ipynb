{
 "cells": [
  {
   "cell_type": "code",
   "execution_count": 1,
   "metadata": {},
   "outputs": [],
   "source": [
    "# default_exp gan.core"
   ]
  },
  {
   "cell_type": "markdown",
   "metadata": {},
   "source": [
    "# gan.core\n",
    "\n",
    "> API details."
   ]
  },
  {
   "cell_type": "code",
   "execution_count": 2,
   "metadata": {},
   "outputs": [],
   "source": [
    "# shouldn't this be named 'data' or something instead?"
   ]
  },
  {
   "cell_type": "code",
   "execution_count": 3,
   "metadata": {},
   "outputs": [],
   "source": [
    "# hide\n",
    "# export\n",
    "from torch.utils.data import Dataset\n",
    "import torch\n",
    "import pickle\n",
    "\n",
    "torch.cuda.is_available()"
   ]
  },
  {
   "cell_type": "code",
   "execution_count": 4,
   "metadata": {},
   "outputs": [],
   "source": [
    "## export\n",
    "#class WPDataset(torch.utils.data.Dataset):\n",
    "#\n",
    "#    def __init__(self, cont_data, cat_data=None):\n",
    "#\n",
    "#        self.cont_data = cont_data\n",
    "#        self.cat_data = cat_data\n",
    "#        \n",
    "#        if self.cat_data is None:\n",
    "#            self.cat_data = torch.empty((len(cont_data),1))\n",
    "#\n",
    "#    def __len__(self):\n",
    "#        return len(self.cont_data)\n",
    "#    \n",
    "#    def __getitem__(self, idx):\n",
    "#        y_cont = self.cont_data[idx]\n",
    "#        y_cat = self.cat_data[idx]\n",
    "#        \n",
    "#        return y_cat, y_cont"
   ]
  },
  {
   "cell_type": "code",
   "execution_count": 53,
   "metadata": {},
   "outputs": [],
   "source": [
    "#data_folder = 'WINDSYN'\n",
    "#data_dir = f'../../../../../data/preprocessed/{data_folder}/mtl_files/fold_00_test.pkl'\n",
    "#\n",
    "#data_dir\n",
    "#\n",
    "#data = pickle.load(open(data_dir, 'rb'))\n",
    "#\n",
    "#dls = data.dataloaders()\n",
    "#\n",
    "#for x_cat, x_cont, y in dls.train:\n",
    "#    print(x_cat.shape)\n",
    "#    print(x_cont.shape)\n",
    "#    print(y.shape)\n",
    "#    break\n",
    "#\n",
    "#len(dls.train)"
   ]
  },
  {
   "cell_type": "code",
   "execution_count": 54,
   "metadata": {},
   "outputs": [],
   "source": [
    "# export\n",
    "def get_dataloaders(folder, idx='00'):\n",
    "    data_dir = f'../../../../../data/preprocessed/{folder}/mtl_files/fold_{idx}_test.pkl'\n",
    "    data = pickle.load(open(data_dir, 'rb'))\n",
    "    dls = data.dataloaders()\n",
    "    return dls"
   ]
  },
  {
   "cell_type": "code",
   "execution_count": 55,
   "metadata": {},
   "outputs": [
    {
     "data": {
      "text/plain": [
       "13640"
      ]
     },
     "execution_count": 55,
     "metadata": {},
     "output_type": "execute_result"
    }
   ],
   "source": [
    "dls = get_dataloaders('WINDSYN')\n",
    "train_dl = dls.train\n",
    "len(train_dl)"
   ]
  },
  {
   "cell_type": "code",
   "execution_count": null,
   "metadata": {},
   "outputs": [],
   "source": []
  }
 ],
 "metadata": {
  "kernelspec": {
   "display_name": "Python 3",
   "language": "python",
   "name": "python3"
  },
  "language_info": {
   "codemirror_mode": {
    "name": "ipython",
    "version": 3
   },
   "file_extension": ".py",
   "mimetype": "text/x-python",
   "name": "python",
   "nbconvert_exporter": "python",
   "pygments_lexer": "ipython3",
   "version": "3.8.8"
  }
 },
 "nbformat": 4,
 "nbformat_minor": 4
}
