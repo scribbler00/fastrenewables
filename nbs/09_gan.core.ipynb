{
 "cells": [
  {
   "cell_type": "code",
   "execution_count": null,
   "metadata": {},
   "outputs": [],
   "source": [
    "# default_exp gan.core"
   ]
  },
  {
   "cell_type": "markdown",
   "metadata": {},
   "source": [
    "# gan.core\n",
    "\n",
    "> API details."
   ]
  },
  {
   "cell_type": "code",
   "execution_count": null,
   "metadata": {},
   "outputs": [],
   "source": [
    "# hide\n",
    "# export\n",
    "from torch.utils.data import Dataset\n",
    "import torch"
   ]
  },
  {
   "cell_type": "code",
   "execution_count": null,
   "metadata": {},
   "outputs": [],
   "source": [
    "# export\n",
    "class WPDataset(torch.utils.data.Dataset):\n",
    "    \"\"\"TODO maik.\"\"\"\n",
    "\n",
    "    def __init__(self, cont_data, cat_data=None, noise_size=100):\n",
    "\n",
    "        self.cont_data = cont_data\n",
    "        self.cat_data = cat_data\n",
    "        \n",
    "        if self.cat_data is None:\n",
    "            self.cat_data = torch.empty((len(cont_data),1))\n",
    "        \n",
    "        self.noise_size = noise_size\n",
    "\n",
    "    def __len__(self):\n",
    "        return len(self.cont_data)\n",
    "    \n",
    "    def __getitem__(self, idx):\n",
    "        y_cont = self.cont_data[idx]\n",
    "        y_cat = self.cat_data[idx]\n",
    "        \n",
    "        x = torch.rand(self.noise_size)\n",
    "\n",
    "        return (x, y_cat, y_cont)"
   ]
  },
  {
   "cell_type": "code",
   "execution_count": null,
   "metadata": {},
   "outputs": [],
   "source": []
  }
 ],
 "metadata": {
  "kernelspec": {
   "display_name": "Python 3",
   "language": "python",
   "name": "python3"
  }
 },
 "nbformat": 4,
 "nbformat_minor": 4
}
