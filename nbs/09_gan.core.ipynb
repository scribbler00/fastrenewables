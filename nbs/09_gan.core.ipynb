{
 "cells": [
  {
   "cell_type": "code",
   "execution_count": null,
   "metadata": {},
   "outputs": [],
   "source": [
    "# default_exp gan.core"
   ]
  },
  {
   "cell_type": "markdown",
   "metadata": {},
   "source": [
    "# gan.core\n",
    "\n",
    "> API details."
   ]
  },
  {
   "cell_type": "code",
   "execution_count": null,
   "metadata": {},
   "outputs": [],
   "source": [
    "# hide\n",
    "# export\n",
    "import torch"
   ]
  },
  {
   "cell_type": "code",
   "execution_count": null,
   "metadata": {},
   "outputs": [],
   "source": [
    "# export\n",
    "# todo: erweitern/anpassen\n",
    "class WPDataset(torch.utils.data.Dataset):\n",
    "\n",
    "    def __init__(self, cont_data, cat_data=None, y=None):\n",
    "        super(WPDataset, self).__init__()\n",
    "        self.cont_data = cont_data\n",
    "        self.cat_data = cat_data\n",
    "        self.y = y\n",
    "        \n",
    "        if self.cat_data is None:\n",
    "            self.cat_data = torch.empty((len(cont_data),1))\n",
    "            \n",
    "        if self.y is None:\n",
    "            self.y = torch.empty((len(cont_data),1))\n",
    "\n",
    "    def __len__(self):\n",
    "        return len(self.cont_data)\n",
    "    \n",
    "    def __getitem__(self, idx):\n",
    "        x_cont = self.cont_data[idx]\n",
    "        x_cat = self.cat_data[idx]\n",
    "        y = self.y[idx]\n",
    "        \n",
    "        return x_cat, x_cont, y"
   ]
  }
 ],
 "metadata": {
  "kernelspec": {
   "display_name": "Python 3",
   "language": "python",
   "name": "python3"
  },
  "language_info": {
   "codemirror_mode": {
    "name": "ipython",
    "version": 3
   },
   "file_extension": ".py",
   "mimetype": "text/x-python",
   "name": "python",
   "nbconvert_exporter": "python",
   "pygments_lexer": "ipython3",
   "version": "3.8.8"
  }
 },
 "nbformat": 4,
 "nbformat_minor": 4
}
