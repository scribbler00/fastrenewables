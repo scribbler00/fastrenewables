{
 "cells": [
  {
   "cell_type": "code",
   "execution_count": null,
   "metadata": {},
   "outputs": [],
   "source": [
    "# default_exp tabular.learner"
   ]
  },
  {
   "cell_type": "markdown",
   "metadata": {},
   "source": [
    "# tabular.learner\n",
    "\n",
    "> API details."
   ]
  },
  {
   "cell_type": "code",
   "execution_count": null,
   "metadata": {},
   "outputs": [],
   "source": [
    "#export\n",
    "from fastai.torch_basics import *\n",
    "from fastai.data.all import *\n",
    "from fastai.tabular.data import *\n",
    "from fastai.tabular.core import *\n",
    "from fastai.tabular.model import *\n",
    "from fastai.basics import *\n",
    "from fastrenewables.tabular.core import *\n",
    "from fastrenewables.tabular.data import *\n",
    "from fastrenewables.tabular.model import *\n",
    "from fastrenewables.losses import VILoss\n",
    "from fastrenewables.utils import *"
   ]
  },
  {
   "cell_type": "code",
   "execution_count": null,
   "metadata": {},
   "outputs": [],
   "source": [
    "#hide\n",
    "from nbdev.showdoc import *"
   ]
  },
  {
   "cell_type": "code",
   "execution_count": null,
   "metadata": {},
   "outputs": [],
   "source": [
    "#export\n",
    "class RenewableLearner(Learner):\n",
    "    \"`Learner` for renewable data.\"\n",
    "    def predict(self, ds_idx=1, test_dl=None, filter=True):\n",
    "        device = next(self.model.parameters()).device\n",
    "        preds, targets = None, None\n",
    "        if test_dl is not None:\n",
    "            to = test_dl.train_ds\n",
    "        elif ds_idx == 0:\n",
    "            to = self.dls.train_ds\n",
    "        elif ds_idx == 1:\n",
    "            to = self.dls.valid_ds\n",
    "            \n",
    "        # to increase speed we direclty predict on all tensors    \n",
    "        if isinstance(to, (TabularPandas, TabularRenewables, TabDataLoader)):\n",
    "            if getattr(to, 'regression_setup', False):\n",
    "                ys_type = np.float32\n",
    "            else:\n",
    "                ys_type = np.long\n",
    "            \n",
    "            cats = tensor(to.cats.values.astype(np.long))\n",
    "            xs = tensor(to.conts.values.astype(np.float32))\n",
    "            targets = tensor(to.y.values.astype(ys_type))\n",
    "        \n",
    "            with torch.no_grad():\n",
    "                preds = self.model(cats.to(device), xs.to(device))\n",
    "\n",
    "            preds, targets = to_np(preds).reshape(-1), to_np(targets).reshape(-1)\n",
    "            if filter:\n",
    "                targets, preds = filter_preds(targets, preds)\n",
    "        else:\n",
    "            raise NotImplementedError(\"Unknown type\")\n",
    "            \n",
    "        return preds, targets"
   ]
  },
  {
   "cell_type": "code",
   "execution_count": null,
   "metadata": {},
   "outputs": [
    {
     "data": {
      "text/plain": [
       "int"
      ]
     },
     "execution_count": null,
     "metadata": {},
     "output_type": "execute_result"
    }
   ],
   "source": [
    "np.long"
   ]
  },
  {
   "cell_type": "code",
   "execution_count": null,
   "metadata": {},
   "outputs": [
    {
     "data": {
      "text/markdown": [
       "<h3 id=\"RenewableLearner\" class=\"doc_header\"><code>class</code> <code>RenewableLearner</code><a href=\"\" class=\"source_link\" style=\"float:right\">[source]</a></h3>\n",
       "\n",
       "> <code>RenewableLearner</code>(**`dls`**, **`model`**, **`loss_func`**=*`None`*, **`opt_func`**=*`Adam`*, **`lr`**=*`0.001`*, **`splitter`**=*`trainable_params`*, **`cbs`**=*`None`*, **`metrics`**=*`None`*, **`path`**=*`None`*, **`model_dir`**=*`'models'`*, **`wd`**=*`None`*, **`wd_bn_bias`**=*`False`*, **`train_bn`**=*`True`*, **`moms`**=*`(0.95, 0.85, 0.95)`*) :: `Learner`\n",
       "\n",
       "`Learner` for renewable data."
      ],
      "text/plain": [
       "<IPython.core.display.Markdown object>"
      ]
     },
     "metadata": {},
     "output_type": "display_data"
    }
   ],
   "source": [
    "show_doc(RenewableLearner, title_level=3)"
   ]
  },
  {
   "cell_type": "code",
   "execution_count": null,
   "metadata": {},
   "outputs": [],
   "source": [
    "def get_dls(cat_names = ['TaskID', 'Month', 'Day', 'Hour']):\n",
    "    pd.options.mode.chained_assignment=None\n",
    "    cont_names = ['T_HAG_2_M', 'RELHUM_HAG_2_M', 'PS_SFC_0_M', 'ASWDIFDS_SFC_0_M',\n",
    "           'ASWDIRS_SFC_0_M', 'WindSpeed58m']\n",
    "    dls = RenewableDataLoaders.from_files(glob.glob(\"../data/*.h5\"), y_names=\"PowerGeneration\", \n",
    "                                          pre_procs=[FilterYear(year=2020), \n",
    "                                                     AddSeasonalFeatures(as_cont=False)], \n",
    "                                          cat_names=cat_names, cont_names=cont_names)\n",
    "    return dls"
   ]
  },
  {
   "cell_type": "code",
   "execution_count": null,
   "metadata": {},
   "outputs": [],
   "source": [
    "#export\n",
    "@delegates(Learner.__init__)\n",
    "def renewable_learner(dls, layers=None, emb_szs=None, config=None, n_out=None, y_range=None, embedding_type=EmbeddingType.Normal, **kwargs):\n",
    "    \"Get a `Learner` using `dls`, with `metrics`, including a `RenewableModel` created using the remaining params.\"\n",
    "    if config is None: config = tabular_config()\n",
    "    \n",
    "    if n_out is None: n_out = get_c(dls)\n",
    "    assert n_out, \"`n_out` is not defined, and could not be inferred from data, set `dls.c` or pass `n_out`\"\n",
    "    \n",
    "    if layers is None: layers = [len(dls.cont_names), 200, 100, n_out]\n",
    "    if y_range is None and 'y_range' in config: y_range = config.pop('y_range')\n",
    "        \n",
    "    embed_p = kwargs[\"embed_p\"].pop() if \"embed_p\" in kwargs.keys() else 0.1\n",
    "    \n",
    "    emb_module = None\n",
    "    if len(dls.train_ds.cat_names) > 0:\n",
    "        emb_szs = get_emb_sz(dls.train_ds, {} if emb_szs is None else emb_szs)\n",
    "        emb_module = EmbeddingModule(None, embedding_dropout=embed_p, embedding_dimensions=emb_szs)\n",
    "        \n",
    "    model = MultiLayerPerceptron(layers, embedding_module=emb_module, **config)\n",
    "    \n",
    "    if embedding_type==EmbeddingType.Bayes and \"loss_func\" not in kwargs.keys():\n",
    "        base_loss = getattr(dls.train_ds, 'loss_func', None)\n",
    "        assert base_loss is not None, \"Could not infer loss function from the data, please pass a loss function.\"\n",
    "        loss_func=VILoss(model=model, base_loss=base_loss, kl_weight=0.1)\n",
    "        kwargs[\"loss_func\"] = loss_func\n",
    "    \n",
    "    return RenewableLearner(dls, model, **kwargs)"
   ]
  },
  {
   "cell_type": "code",
   "execution_count": null,
   "metadata": {},
   "outputs": [],
   "source": [
    "# hide\n",
    "dls = get_dls(cat_names=[])\n",
    "# get_files adds task ID, but we want to check if no embedding module is created when no categoricals are available\n",
    "dls.train_ds.cat_names = []\n",
    "dls.valid_ds.cat_names = []\n",
    "learn = renewable_learner(dls, metrics=rmse)\n",
    "test_eq(None, learn.model.embedding_module)"
   ]
  },
  {
   "cell_type": "code",
   "execution_count": null,
   "metadata": {},
   "outputs": [
    {
     "data": {
      "text/plain": [
       "MultiLayerPerceptron(\n",
       "  (embedding_module): EmbeddingModule(\n",
       "    (embeddings): ModuleList(\n",
       "      (0): Embedding(4, 3)\n",
       "      (1): Embedding(13, 7)\n",
       "      (2): Embedding(32, 11)\n",
       "      (3): Embedding(25, 10)\n",
       "    )\n",
       "    (emb_drop): Dropout(p=0.1, inplace=False)\n",
       "  )\n",
       "  (final_activation): Identity()\n",
       "  (embeds): ModuleList()\n",
       "  (emb_drop): Dropout(p=0.0, inplace=False)\n",
       "  (bn_cont): BatchNorm1d(6, eps=1e-05, momentum=0.1, affine=True, track_running_stats=True)\n",
       "  (layers): Sequential(\n",
       "    (0): LinBnDrop(\n",
       "      (0): Linear(in_features=37, out_features=200, bias=False)\n",
       "      (1): ReLU(inplace=True)\n",
       "      (2): BatchNorm1d(200, eps=1e-05, momentum=0.1, affine=True, track_running_stats=True)\n",
       "    )\n",
       "    (1): LinBnDrop(\n",
       "      (0): Linear(in_features=200, out_features=100, bias=False)\n",
       "      (1): ReLU(inplace=True)\n",
       "      (2): BatchNorm1d(100, eps=1e-05, momentum=0.1, affine=True, track_running_stats=True)\n",
       "    )\n",
       "    (2): LinBnDrop(\n",
       "      (0): Linear(in_features=100, out_features=1, bias=True)\n",
       "    )\n",
       "  )\n",
       ")"
      ]
     },
     "execution_count": null,
     "metadata": {},
     "output_type": "execute_result"
    }
   ],
   "source": [
    "dls = get_dls()\n",
    "learn = renewable_learner(dls, metrics=rmse)\n",
    "learn.model"
   ]
  },
  {
   "cell_type": "code",
   "execution_count": null,
   "metadata": {},
   "outputs": [
    {
     "data": {
      "text/html": [
       "<table border=\"1\" class=\"dataframe\">\n",
       "  <thead>\n",
       "    <tr style=\"text-align: right;\">\n",
       "      <th></th>\n",
       "      <th>TaskID</th>\n",
       "      <th>Month</th>\n",
       "      <th>Day</th>\n",
       "      <th>Hour</th>\n",
       "      <th>T_HAG_2_M</th>\n",
       "      <th>RELHUM_HAG_2_M</th>\n",
       "      <th>PS_SFC_0_M</th>\n",
       "      <th>ASWDIFDS_SFC_0_M</th>\n",
       "      <th>ASWDIRS_SFC_0_M</th>\n",
       "      <th>WindSpeed58m</th>\n",
       "      <th>PowerGeneration</th>\n",
       "    </tr>\n",
       "  </thead>\n",
       "  <tbody>\n",
       "    <tr>\n",
       "      <th>0</th>\n",
       "      <td>1</td>\n",
       "      <td>7</td>\n",
       "      <td>19</td>\n",
       "      <td>22</td>\n",
       "      <td>290.148</td>\n",
       "      <td>82.086000</td>\n",
       "      <td>97923.366998</td>\n",
       "      <td>95.317001</td>\n",
       "      <td>195.140998</td>\n",
       "      <td>2.931393</td>\n",
       "      <td>0.001</td>\n",
       "    </tr>\n",
       "    <tr>\n",
       "      <th>1</th>\n",
       "      <td>1</td>\n",
       "      <td>1</td>\n",
       "      <td>7</td>\n",
       "      <td>16</td>\n",
       "      <td>276.949</td>\n",
       "      <td>89.149000</td>\n",
       "      <td>99262.804947</td>\n",
       "      <td>12.376998</td>\n",
       "      <td>0.999996</td>\n",
       "      <td>7.277998</td>\n",
       "      <td>0.280</td>\n",
       "    </tr>\n",
       "    <tr>\n",
       "      <th>2</th>\n",
       "      <td>0</td>\n",
       "      <td>8</td>\n",
       "      <td>27</td>\n",
       "      <td>1</td>\n",
       "      <td>292.829</td>\n",
       "      <td>92.932000</td>\n",
       "      <td>100363.035005</td>\n",
       "      <td>65.152000</td>\n",
       "      <td>155.571002</td>\n",
       "      <td>0.466010</td>\n",
       "      <td>0.001</td>\n",
       "    </tr>\n",
       "    <tr>\n",
       "      <th>3</th>\n",
       "      <td>2</td>\n",
       "      <td>12</td>\n",
       "      <td>16</td>\n",
       "      <td>10</td>\n",
       "      <td>278.566</td>\n",
       "      <td>91.999000</td>\n",
       "      <td>92650.331999</td>\n",
       "      <td>26.373000</td>\n",
       "      <td>12.141000</td>\n",
       "      <td>2.139066</td>\n",
       "      <td>0.000</td>\n",
       "    </tr>\n",
       "    <tr>\n",
       "      <th>4</th>\n",
       "      <td>2</td>\n",
       "      <td>2</td>\n",
       "      <td>10</td>\n",
       "      <td>9</td>\n",
       "      <td>277.865</td>\n",
       "      <td>72.486000</td>\n",
       "      <td>92236.676006</td>\n",
       "      <td>35.745000</td>\n",
       "      <td>42.988002</td>\n",
       "      <td>12.481517</td>\n",
       "      <td>0.562</td>\n",
       "    </tr>\n",
       "    <tr>\n",
       "      <th>5</th>\n",
       "      <td>0</td>\n",
       "      <td>10</td>\n",
       "      <td>6</td>\n",
       "      <td>23</td>\n",
       "      <td>281.819</td>\n",
       "      <td>86.847000</td>\n",
       "      <td>99886.398003</td>\n",
       "      <td>40.867000</td>\n",
       "      <td>14.288001</td>\n",
       "      <td>6.306612</td>\n",
       "      <td>0.067</td>\n",
       "    </tr>\n",
       "    <tr>\n",
       "      <th>6</th>\n",
       "      <td>1</td>\n",
       "      <td>7</td>\n",
       "      <td>4</td>\n",
       "      <td>8</td>\n",
       "      <td>289.397</td>\n",
       "      <td>53.923001</td>\n",
       "      <td>98921.426012</td>\n",
       "      <td>64.815000</td>\n",
       "      <td>229.526001</td>\n",
       "      <td>2.135317</td>\n",
       "      <td>0.002</td>\n",
       "    </tr>\n",
       "    <tr>\n",
       "      <th>7</th>\n",
       "      <td>0</td>\n",
       "      <td>4</td>\n",
       "      <td>9</td>\n",
       "      <td>21</td>\n",
       "      <td>283.620</td>\n",
       "      <td>83.940000</td>\n",
       "      <td>99787.561986</td>\n",
       "      <td>84.202000</td>\n",
       "      <td>43.011000</td>\n",
       "      <td>3.709068</td>\n",
       "      <td>0.346</td>\n",
       "    </tr>\n",
       "    <tr>\n",
       "      <th>8</th>\n",
       "      <td>1</td>\n",
       "      <td>4</td>\n",
       "      <td>4</td>\n",
       "      <td>17</td>\n",
       "      <td>278.001</td>\n",
       "      <td>86.131000</td>\n",
       "      <td>96511.805033</td>\n",
       "      <td>60.881000</td>\n",
       "      <td>5.545002</td>\n",
       "      <td>6.923151</td>\n",
       "      <td>0.028</td>\n",
       "    </tr>\n",
       "    <tr>\n",
       "      <th>9</th>\n",
       "      <td>2</td>\n",
       "      <td>9</td>\n",
       "      <td>23</td>\n",
       "      <td>2</td>\n",
       "      <td>285.771</td>\n",
       "      <td>89.472000</td>\n",
       "      <td>93088.508006</td>\n",
       "      <td>77.973000</td>\n",
       "      <td>60.520000</td>\n",
       "      <td>7.848964</td>\n",
       "      <td>0.008</td>\n",
       "    </tr>\n",
       "  </tbody>\n",
       "</table>"
      ],
      "text/plain": [
       "<IPython.core.display.HTML object>"
      ]
     },
     "metadata": {},
     "output_type": "display_data"
    }
   ],
   "source": [
    "dls.show_batch()"
   ]
  },
  {
   "cell_type": "code",
   "execution_count": null,
   "metadata": {},
   "outputs": [
    {
     "data": {
      "text/html": [
       "<table border=\"1\" class=\"dataframe\">\n",
       "  <thead>\n",
       "    <tr style=\"text-align: left;\">\n",
       "      <th>epoch</th>\n",
       "      <th>train_loss</th>\n",
       "      <th>valid_loss</th>\n",
       "      <th>_rmse</th>\n",
       "      <th>time</th>\n",
       "    </tr>\n",
       "  </thead>\n",
       "  <tbody>\n",
       "    <tr>\n",
       "      <td>0</td>\n",
       "      <td>0.017542</td>\n",
       "      <td>0.013439</td>\n",
       "      <td>0.115928</td>\n",
       "      <td>00:02</td>\n",
       "    </tr>\n",
       "  </tbody>\n",
       "</table>"
      ],
      "text/plain": [
       "<IPython.core.display.HTML object>"
      ]
     },
     "metadata": {},
     "output_type": "display_data"
    }
   ],
   "source": [
    "learn.fit_one_cycle(1)"
   ]
  },
  {
   "cell_type": "code",
   "execution_count": null,
   "metadata": {},
   "outputs": [],
   "source": [
    "n_conts=len(dls.cont_names)\n",
    "hidden_layers = [n_conts] + get_structure(n_conts*20,90,10)\n",
    "learn = renewable_learner(dls, metrics=rmse, layers=hidden_layers, embedding_type=EmbeddingType.Bayes)"
   ]
  },
  {
   "cell_type": "code",
   "execution_count": null,
   "metadata": {},
   "outputs": [
    {
     "data": {
      "text/html": [],
      "text/plain": [
       "<IPython.core.display.HTML object>"
      ]
     },
     "metadata": {},
     "output_type": "display_data"
    },
    {
     "data": {
      "text/plain": [
       "MultiLayerPerceptron (Input shape: 64 x torch.Size([64, 6]))\n",
       "============================================================================\n",
       "Layer (type)         Output Shape         Param #    Trainable \n",
       "============================================================================\n",
       "                     64 x 3              \n",
       "Embedding                                 12         True      \n",
       "____________________________________________________________________________\n",
       "                     64 x 7              \n",
       "Embedding                                 91         True      \n",
       "____________________________________________________________________________\n",
       "                     64 x 11             \n",
       "Embedding                                 352        True      \n",
       "____________________________________________________________________________\n",
       "                     64 x 10             \n",
       "Embedding                                 250        True      \n",
       "Dropout                                                        \n",
       "Identity                                                       \n",
       "BatchNorm1d                               12         True      \n",
       "____________________________________________________________________________\n",
       "                     64 x 120            \n",
       "Linear                                    4440       True      \n",
       "ReLU                                                           \n",
       "BatchNorm1d                               240        True      \n",
       "____________________________________________________________________________\n",
       "                     64 x 12             \n",
       "Linear                                    1440       True      \n",
       "ReLU                                                           \n",
       "BatchNorm1d                               24         True      \n",
       "____________________________________________________________________________\n",
       "                     64 x 10             \n",
       "Linear                                    120        True      \n",
       "ReLU                                                           \n",
       "BatchNorm1d                               20         True      \n",
       "____________________________________________________________________________\n",
       "                     64 x 1              \n",
       "Linear                                    11         True      \n",
       "____________________________________________________________________________\n",
       "\n",
       "Total params: 7,012\n",
       "Total trainable params: 7,012\n",
       "Total non-trainable params: 0\n",
       "\n",
       "Optimizer used: <function Adam at 0x7fe032a23ee0>\n",
       "Loss function: VILoss(\n",
       "  (base_loss):FlattenedLoss of MSELoss()\n",
       "  (kl_weight): 0.1 \n",
       ")\n",
       "\n",
       "Callbacks:\n",
       "  - TrainEvalCallback\n",
       "  - Recorder\n",
       "  - ProgressCallback"
      ]
     },
     "execution_count": null,
     "metadata": {},
     "output_type": "execute_result"
    }
   ],
   "source": [
    "learn.summary()"
   ]
  },
  {
   "cell_type": "code",
   "execution_count": null,
   "metadata": {},
   "outputs": [
    {
     "data": {
      "text/html": [
       "<table border=\"1\" class=\"dataframe\">\n",
       "  <thead>\n",
       "    <tr style=\"text-align: left;\">\n",
       "      <th>epoch</th>\n",
       "      <th>train_loss</th>\n",
       "      <th>valid_loss</th>\n",
       "      <th>_rmse</th>\n",
       "      <th>time</th>\n",
       "    </tr>\n",
       "  </thead>\n",
       "  <tbody>\n",
       "    <tr>\n",
       "      <td>0</td>\n",
       "      <td>1.247948</td>\n",
       "      <td>1.011070</td>\n",
       "      <td>0.125699</td>\n",
       "      <td>00:02</td>\n",
       "    </tr>\n",
       "  </tbody>\n",
       "</table>"
      ],
      "text/plain": [
       "<IPython.core.display.HTML object>"
      ]
     },
     "metadata": {},
     "output_type": "display_data"
    }
   ],
   "source": [
    "learn.fit_one_cycle(1)"
   ]
  },
  {
   "cell_type": "code",
   "execution_count": null,
   "metadata": {},
   "outputs": [],
   "source": [
    "preds,target = learn.predict(ds_idx=1)"
   ]
  },
  {
   "cell_type": "code",
   "execution_count": null,
   "metadata": {},
   "outputs": [
    {
     "data": {
      "text/plain": [
       "<matplotlib.collections.PathCollection at 0x7fe0300588b0>"
      ]
     },
     "execution_count": null,
     "metadata": {},
     "output_type": "execute_result"
    },
    {
     "data": {
      "image/png": "[encoded data removed]",
      "text/plain": [
       "<Figure size 432x288 with 1 Axes>"
      ]
     },
     "metadata": {
      "needs_background": "light"
     },
     "output_type": "display_data"
    }
   ],
   "source": [
    "import matplotlib.pyplot as plt\n",
    "plt.scatter(preds,target)"
   ]
  },
  {
   "cell_type": "code",
   "execution_count": null,
   "metadata": {},
   "outputs": [
    {
     "name": "stdout",
     "output_type": "stream",
     "text": [
      "Converted 00a_utils.ipynb.\n",
      "Converted 00b_losses.ipynb.\n",
      "Converted 00c_utils_blitz.ipynb.\n",
      "Converted 00d_baselines.ipynb.\n",
      "Converted 01_tabular.core.ipynb.\n",
      "Converted 02_tabular.data.ipynb.\n",
      "Converted 03_tabular.model.ipynb.\n",
      "Converted 04_tabular.learner.ipynb.\n",
      "Converted 05_timeseries.core.ipynb.\n",
      "Converted 06_timeseries.data.ipynb.\n",
      "Converted 07_timeseries.model.ipynb.\n",
      "Converted 08_timeseries.learner.ipynb.\n",
      "Converted 09_gan.core.ipynb.\n",
      "Converted index.ipynb.\n"
     ]
    }
   ],
   "source": [
    "#hide\n",
    "from nbdev.export import notebook2script\n",
    "notebook2script()"
   ]
  }
 ],
 "metadata": {
  "kernelspec": {
   "display_name": "Python 3",
   "language": "python",
   "name": "python3"
  }
 },
 "nbformat": 4,
 "nbformat_minor": 4
}
