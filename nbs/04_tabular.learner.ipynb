{
 "cells": [
  {
   "cell_type": "code",
   "execution_count": null,
   "metadata": {},
   "outputs": [],
   "source": [
    "# default_exp tabular.learner"
   ]
  },
  {
   "cell_type": "markdown",
   "metadata": {},
   "source": [
    "# learner\n",
    "\n",
    "> API details."
   ]
  },
  {
   "cell_type": "code",
   "execution_count": null,
   "metadata": {},
   "outputs": [],
   "source": [
    "#export\n",
    "from fastai.torch_basics import *\n",
    "from fastai.data.all import *\n",
    "from fastai.tabular.data import *\n",
    "from fastai.tabular.core import *\n",
    "from fastai.tabular.model import *\n",
    "from fastai.basics import *\n",
    "from fastrenewables.tabular.core import *\n",
    "from fastrenewables.tabular.data import *\n",
    "from fastrenewables.tabular.model import *\n",
    "from fastrenewables.losses import VILoss"
   ]
  },
  {
   "cell_type": "code",
   "execution_count": null,
   "metadata": {},
   "outputs": [],
   "source": [
    "#hide\n",
    "from nbdev.showdoc import *"
   ]
  },
  {
   "cell_type": "code",
   "execution_count": null,
   "metadata": {},
   "outputs": [],
   "source": [
    "#export\n",
    "class RenewableLearner(Learner):\n",
    "    \"`Learner` for renewable data\"\n",
    "    def predict(self, ds_idx=1, test_dl=None, filter=True):\n",
    "        device = next(learn.model.parameters()).device\n",
    "        \n",
    "        if test_dl is not None:\n",
    "            cur_dl = test_dl\n",
    "        elif ds_idx == 0:\n",
    "            cur_dl = self.dls.train_ds\n",
    "        elif ds_idx == 1:\n",
    "            cur_dl = self.dls.valid_ds\n",
    "            \n",
    "        if type(cur_dl) == TabularPandas or \\\n",
    "            type(cur_dl) == TabDataLoader or \\\n",
    "            type(cur_dl) == TabularRenewables:\n",
    "                \n",
    "            cats = tensor(cur_dl.cats.values).long()\n",
    "            xs = tensor(cur_dl.conts.values)\n",
    "            targets = tensor(cur_dl.y.values)\n",
    "        \n",
    "        with torch.no_grad():\n",
    "            preds = learn.model(cats.to(device), xs.to(device))\n",
    "        \n",
    "        preds, targets = to_np(preds).reshape(-1), to_np(targets).reshape(-1)\n",
    "        if filter:\n",
    "            preds[preds < 0] = 0\n",
    "            preds[preds > 1.1] = 1.1\n",
    "            \n",
    "        return preds, targets"
   ]
  },
  {
   "cell_type": "code",
   "execution_count": null,
   "metadata": {},
   "outputs": [
    {
     "data": {
      "text/markdown": [
       "<h3 id=\"RenewableLearner\" class=\"doc_header\"><code>class</code> <code>RenewableLearner</code><a href=\"\" class=\"source_link\" style=\"float:right\">[source]</a></h3>\n",
       "\n",
       "> <code>RenewableLearner</code>(**`dls`**, **`model`**, **`loss_func`**=*`None`*, **`opt_func`**=*`Adam`*, **`lr`**=*`0.001`*, **`splitter`**=*`trainable_params`*, **`cbs`**=*`None`*, **`metrics`**=*`None`*, **`path`**=*`None`*, **`model_dir`**=*`'models'`*, **`wd`**=*`None`*, **`wd_bn_bias`**=*`False`*, **`train_bn`**=*`True`*, **`moms`**=*`(0.95, 0.85, 0.95)`*) :: `Learner`\n",
       "\n",
       "`Learner` for renewable data"
      ],
      "text/plain": [
       "<IPython.core.display.Markdown object>"
      ]
     },
     "metadata": {},
     "output_type": "display_data"
    }
   ],
   "source": [
    "show_doc(RenewableLearner, title_level=3)"
   ]
  },
  {
   "cell_type": "code",
   "execution_count": null,
   "metadata": {},
   "outputs": [
    {
     "name": "stdout",
     "output_type": "stream",
     "text": [
      "{'y_names': 'PowerGeneration', 'pre_procs': [FilterYear -- {}:\n",
      "encodes: (object,object) -> encodes\n",
      "decodes: , <class 'fastrenewables.tabular.core.AddSeasonalFeatures'>], 'cat_names': ['TaskID', 'Month', 'Day', 'Hour'], 'cont_names': ['T_HAG_2_M', 'RELHUM_HAG_2_M', 'PS_SFC_0_M', 'ASWDIFDS_SFC_0_M', 'ASWDIRS_SFC_0_M', 'WindSpeed58m']}\n"
     ]
    }
   ],
   "source": [
    "cont_names = ['T_HAG_2_M', 'RELHUM_HAG_2_M', 'PS_SFC_0_M', 'ASWDIFDS_SFC_0_M',\n",
    "       'ASWDIRS_SFC_0_M', 'WindSpeed58m']\n",
    "cat_names = ['TaskID', 'Month', 'Day', 'Hour']\n",
    "pd.options.mode.chained_assignment=None\n",
    "dls = RenewableDataLoaders.from_files(glob.glob(\"../data/*.h5\"), y_names=\"PowerGeneration\", \n",
    "                                      pre_procs=[FilterYear(year=2020), AddSeasonalFeatures], \n",
    "                                      cat_names=cat_names, cont_names=cont_names)"
   ]
  },
  {
   "cell_type": "code",
   "execution_count": null,
   "metadata": {},
   "outputs": [],
   "source": [
    "#export\n",
    "@delegates(Learner.__init__)\n",
    "def renewable_learner(dls, layers=None, emb_szs=None, config=None, n_out=None, y_range=None, embedding_type=EmbeddingType.Normal, **kwargs):\n",
    "    \"Get a `Learner` using `dls`, with `metrics`, including a `TabularModel` created using the remaining params.\"\n",
    "    if config is None: config = tabular_config()\n",
    "    \n",
    "    to = dls.train_ds\n",
    "    emb_szs = get_emb_sz(dls.train_ds, {} if emb_szs is None else emb_szs)\n",
    "    if n_out is None: n_out = get_c(dls)\n",
    "    assert n_out, \"`n_out` is not defined, and could not be inferred from data, set `dls.c` or pass `n_out`\"\n",
    "    \n",
    "    if layers is None: layers = [len(dls.cont_names), 200, 100, n_out]\n",
    "    if y_range is None and 'y_range' in config: y_range = config.pop('y_range')\n",
    "        \n",
    "    embed_p = kwargs[\"embed_p\"].pop() if \"embed_p\" in kwargs.keys() else 0.1\n",
    "    \n",
    "    if emb_szs is not None:\n",
    "        emb_module = EmbeddingModule(None, embedding_dropout=embed_p, embedding_dimensions=emb_szs)\n",
    "        \n",
    "    model = MultiLayerPerceptron(layers, embedding_module=emb_module, **config)\n",
    "    \n",
    "    if embedding_type==EmbeddingType.Bayes and \"loss_func\" not in kwargs.keys():\n",
    "        base_loss = getattr(dls.train_ds, 'loss_func', None)\n",
    "        assert base_loss is not None, \"Could not infer loss function from the data, please pass a loss function.\"\n",
    "        loss_func=VILoss(model=model, base_loss=base_loss, kl_weight=0.1)\n",
    "        kwargs[\"loss_func\"] = loss_func\n",
    "    \n",
    "    return RenewableLearner(dls, model, **kwargs)"
   ]
  },
  {
   "cell_type": "code",
   "execution_count": null,
   "metadata": {},
   "outputs": [],
   "source": [
    "learn = renewable_learner(dls, metrics=rmse)"
   ]
  },
  {
   "cell_type": "code",
   "execution_count": null,
   "metadata": {},
   "outputs": [
    {
     "data": {
      "text/html": [
       "<table border=\"1\" class=\"dataframe\">\n",
       "  <thead>\n",
       "    <tr style=\"text-align: right;\">\n",
       "      <th></th>\n",
       "      <th>TaskID</th>\n",
       "      <th>Month</th>\n",
       "      <th>Day</th>\n",
       "      <th>Hour</th>\n",
       "      <th>T_HAG_2_M</th>\n",
       "      <th>RELHUM_HAG_2_M</th>\n",
       "      <th>PS_SFC_0_M</th>\n",
       "      <th>ASWDIFDS_SFC_0_M</th>\n",
       "      <th>ASWDIRS_SFC_0_M</th>\n",
       "      <th>WindSpeed58m</th>\n",
       "      <th>PowerGeneration</th>\n",
       "    </tr>\n",
       "  </thead>\n",
       "  <tbody>\n",
       "    <tr>\n",
       "      <th>0</th>\n",
       "      <td>1</td>\n",
       "      <td>9</td>\n",
       "      <td>30</td>\n",
       "      <td>17</td>\n",
       "      <td>286.933</td>\n",
       "      <td>69.171000</td>\n",
       "      <td>97601.199006</td>\n",
       "      <td>64.564000</td>\n",
       "      <td>43.610999</td>\n",
       "      <td>6.263410</td>\n",
       "      <td>0.160</td>\n",
       "    </tr>\n",
       "    <tr>\n",
       "      <th>1</th>\n",
       "      <td>0</td>\n",
       "      <td>5</td>\n",
       "      <td>31</td>\n",
       "      <td>5</td>\n",
       "      <td>286.388</td>\n",
       "      <td>94.554000</td>\n",
       "      <td>101274.073984</td>\n",
       "      <td>43.416000</td>\n",
       "      <td>4.312001</td>\n",
       "      <td>1.920985</td>\n",
       "      <td>0.000</td>\n",
       "    </tr>\n",
       "    <tr>\n",
       "      <th>2</th>\n",
       "      <td>1</td>\n",
       "      <td>11</td>\n",
       "      <td>29</td>\n",
       "      <td>8</td>\n",
       "      <td>276.830</td>\n",
       "      <td>79.792000</td>\n",
       "      <td>97085.452991</td>\n",
       "      <td>15.591999</td>\n",
       "      <td>5.098002</td>\n",
       "      <td>5.786723</td>\n",
       "      <td>0.095</td>\n",
       "    </tr>\n",
       "    <tr>\n",
       "      <th>3</th>\n",
       "      <td>2</td>\n",
       "      <td>11</td>\n",
       "      <td>26</td>\n",
       "      <td>7</td>\n",
       "      <td>277.653</td>\n",
       "      <td>95.525000</td>\n",
       "      <td>92645.339983</td>\n",
       "      <td>27.787002</td>\n",
       "      <td>10.738003</td>\n",
       "      <td>3.497236</td>\n",
       "      <td>0.003</td>\n",
       "    </tr>\n",
       "    <tr>\n",
       "      <th>4</th>\n",
       "      <td>1</td>\n",
       "      <td>6</td>\n",
       "      <td>30</td>\n",
       "      <td>7</td>\n",
       "      <td>298.158</td>\n",
       "      <td>45.303000</td>\n",
       "      <td>97943.422000</td>\n",
       "      <td>64.178000</td>\n",
       "      <td>222.868997</td>\n",
       "      <td>2.263674</td>\n",
       "      <td>0.012</td>\n",
       "    </tr>\n",
       "    <tr>\n",
       "      <th>5</th>\n",
       "      <td>1</td>\n",
       "      <td>1</td>\n",
       "      <td>11</td>\n",
       "      <td>16</td>\n",
       "      <td>272.843</td>\n",
       "      <td>93.650000</td>\n",
       "      <td>98399.484006</td>\n",
       "      <td>18.459000</td>\n",
       "      <td>2.719001</td>\n",
       "      <td>6.893494</td>\n",
       "      <td>0.585</td>\n",
       "    </tr>\n",
       "    <tr>\n",
       "      <th>6</th>\n",
       "      <td>0</td>\n",
       "      <td>2</td>\n",
       "      <td>17</td>\n",
       "      <td>1</td>\n",
       "      <td>274.595</td>\n",
       "      <td>92.265999</td>\n",
       "      <td>101299.979985</td>\n",
       "      <td>32.197000</td>\n",
       "      <td>63.906000</td>\n",
       "      <td>1.562830</td>\n",
       "      <td>0.006</td>\n",
       "    </tr>\n",
       "    <tr>\n",
       "      <th>7</th>\n",
       "      <td>1</td>\n",
       "      <td>2</td>\n",
       "      <td>2</td>\n",
       "      <td>23</td>\n",
       "      <td>272.584</td>\n",
       "      <td>95.211001</td>\n",
       "      <td>97091.340020</td>\n",
       "      <td>32.504000</td>\n",
       "      <td>3.230000</td>\n",
       "      <td>3.912384</td>\n",
       "      <td>0.032</td>\n",
       "    </tr>\n",
       "    <tr>\n",
       "      <th>8</th>\n",
       "      <td>0</td>\n",
       "      <td>4</td>\n",
       "      <td>1</td>\n",
       "      <td>18</td>\n",
       "      <td>283.583</td>\n",
       "      <td>57.694000</td>\n",
       "      <td>100495.047000</td>\n",
       "      <td>57.617000</td>\n",
       "      <td>180.838004</td>\n",
       "      <td>5.330741</td>\n",
       "      <td>0.027</td>\n",
       "    </tr>\n",
       "    <tr>\n",
       "      <th>9</th>\n",
       "      <td>2</td>\n",
       "      <td>12</td>\n",
       "      <td>6</td>\n",
       "      <td>12</td>\n",
       "      <td>277.476</td>\n",
       "      <td>76.236000</td>\n",
       "      <td>93329.137001</td>\n",
       "      <td>21.163999</td>\n",
       "      <td>49.152001</td>\n",
       "      <td>4.065731</td>\n",
       "      <td>0.182</td>\n",
       "    </tr>\n",
       "  </tbody>\n",
       "</table>"
      ],
      "text/plain": [
       "<IPython.core.display.HTML object>"
      ]
     },
     "metadata": {},
     "output_type": "display_data"
    }
   ],
   "source": [
    "dls.show_batch()"
   ]
  },
  {
   "cell_type": "code",
   "execution_count": null,
   "metadata": {},
   "outputs": [
    {
     "data": {
      "text/html": [
       "<table border=\"1\" class=\"dataframe\">\n",
       "  <thead>\n",
       "    <tr style=\"text-align: left;\">\n",
       "      <th>epoch</th>\n",
       "      <th>train_loss</th>\n",
       "      <th>valid_loss</th>\n",
       "      <th>_rmse</th>\n",
       "      <th>time</th>\n",
       "    </tr>\n",
       "  </thead>\n",
       "  <tbody>\n",
       "    <tr>\n",
       "      <td>0</td>\n",
       "      <td>0.015168</td>\n",
       "      <td>0.012577</td>\n",
       "      <td>0.112145</td>\n",
       "      <td>00:03</td>\n",
       "    </tr>\n",
       "  </tbody>\n",
       "</table>"
      ],
      "text/plain": [
       "<IPython.core.display.HTML object>"
      ]
     },
     "metadata": {},
     "output_type": "display_data"
    }
   ],
   "source": [
    "learn.fit_one_cycle(1)"
   ]
  },
  {
   "cell_type": "code",
   "execution_count": null,
   "metadata": {},
   "outputs": [],
   "source": [
    "n_conts=len(dls.cont_names)\n",
    "hidden_layers = [n_conts] + get_structure(n_conts*20,90,10)\n",
    "learn = renewable_learner(dls, metrics=rmse, layers=hidden_layers, embedding_type=EmbeddingType.Bayes)"
   ]
  },
  {
   "cell_type": "code",
   "execution_count": null,
   "metadata": {},
   "outputs": [
    {
     "data": {
      "text/html": [],
      "text/plain": [
       "<IPython.core.display.HTML object>"
      ]
     },
     "metadata": {},
     "output_type": "display_data"
    },
    {
     "data": {
      "text/plain": [
       "MultiLayerPerceptron (Input shape: 64 x torch.Size([64, 6]))\n",
       "============================================================================\n",
       "Layer (type)         Output Shape         Param #    Trainable \n",
       "============================================================================\n",
       "                     64 x 3              \n",
       "Embedding                                 12         True      \n",
       "____________________________________________________________________________\n",
       "                     64 x 7              \n",
       "Embedding                                 91         True      \n",
       "____________________________________________________________________________\n",
       "                     64 x 11             \n",
       "Embedding                                 352        True      \n",
       "____________________________________________________________________________\n",
       "                     64 x 10             \n",
       "Embedding                                 250        True      \n",
       "Dropout                                                        \n",
       "Identity                                                       \n",
       "BatchNorm1d                               12         True      \n",
       "BatchNorm1d                               74         True      \n",
       "____________________________________________________________________________\n",
       "                     64 x 120            \n",
       "Linear                                    4440       True      \n",
       "ReLU                                                           \n",
       "BatchNorm1d                               240        True      \n",
       "____________________________________________________________________________\n",
       "                     64 x 12             \n",
       "Linear                                    1440       True      \n",
       "ReLU                                                           \n",
       "BatchNorm1d                               24         True      \n",
       "____________________________________________________________________________\n",
       "                     64 x 10             \n",
       "Linear                                    120        True      \n",
       "ReLU                                                           \n",
       "____________________________________________________________________________\n",
       "                     64 x 1              \n",
       "Linear                                    11         True      \n",
       "____________________________________________________________________________\n",
       "\n",
       "Total params: 7,066\n",
       "Total trainable params: 7,066\n",
       "Total non-trainable params: 0\n",
       "\n",
       "Optimizer used: <function Adam at 0x7f1c4f17f820>\n",
       "Loss function: VILoss(\n",
       "  (base_loss):FlattenedLoss of MSELoss()\n",
       "  (kl_weight): 0.1 \n",
       ")\n",
       "\n",
       "Model unfrozen\n",
       "\n",
       "Callbacks:\n",
       "  - TrainEvalCallback\n",
       "  - Recorder\n",
       "  - ProgressCallback"
      ]
     },
     "execution_count": null,
     "metadata": {},
     "output_type": "execute_result"
    }
   ],
   "source": [
    "learn.summary()"
   ]
  },
  {
   "cell_type": "code",
   "execution_count": null,
   "metadata": {},
   "outputs": [
    {
     "data": {
      "text/html": [
       "<table border=\"1\" class=\"dataframe\">\n",
       "  <thead>\n",
       "    <tr style=\"text-align: left;\">\n",
       "      <th>epoch</th>\n",
       "      <th>train_loss</th>\n",
       "      <th>valid_loss</th>\n",
       "      <th>_rmse</th>\n",
       "      <th>time</th>\n",
       "    </tr>\n",
       "  </thead>\n",
       "  <tbody>\n",
       "    <tr>\n",
       "      <td>0</td>\n",
       "      <td>0.016326</td>\n",
       "      <td>0.014013</td>\n",
       "      <td>0.118377</td>\n",
       "      <td>00:03</td>\n",
       "    </tr>\n",
       "  </tbody>\n",
       "</table>"
      ],
      "text/plain": [
       "<IPython.core.display.HTML object>"
      ]
     },
     "metadata": {},
     "output_type": "display_data"
    }
   ],
   "source": [
    "learn.fit_one_cycle(1)"
   ]
  },
  {
   "cell_type": "code",
   "execution_count": null,
   "metadata": {},
   "outputs": [],
   "source": [
    "preds,target = learn.predict(ds_idx=1)"
   ]
  },
  {
   "cell_type": "code",
   "execution_count": null,
   "metadata": {},
   "outputs": [
    {
     "data": {
      "text/plain": [
       "<matplotlib.collections.PathCollection at 0x7f1c4d98ae20>"
      ]
     },
     "execution_count": null,
     "metadata": {},
     "output_type": "execute_result"
    },
    {
     "data": {
      "image/png": "[encoded data removed]",
      "text/plain": [
       "<Figure size 432x288 with 1 Axes>"
      ]
     },
     "metadata": {
      "needs_background": "light"
     },
     "output_type": "display_data"
    }
   ],
   "source": [
    "import matplotlib.pyplot as plt\n",
    "plt.scatter(preds,target)"
   ]
  },
  {
   "cell_type": "code",
   "execution_count": null,
   "metadata": {},
   "outputs": [
    {
     "name": "stdout",
     "output_type": "stream",
     "text": [
      "Converted 00_losses.ipynb.\n",
      "Converted 01_tabular.core.ipynb.\n",
      "Converted 02_tabular.data.ipynb.\n",
      "Converted 03_tabular.model.ipynb.\n",
      "Converted 04_tabular.learner.ipynb.\n",
      "Converted index.ipynb.\n"
     ]
    }
   ],
   "source": [
    "#hide\n",
    "from nbdev.export import notebook2script\n",
    "notebook2script()"
   ]
  },
  {
   "cell_type": "code",
   "execution_count": null,
   "metadata": {},
   "outputs": [],
   "source": []
  },
  {
   "cell_type": "code",
   "execution_count": null,
   "metadata": {},
   "outputs": [],
   "source": []
  }
 ],
 "metadata": {
  "kernelspec": {
   "display_name": "Python 3",
   "language": "python",
   "name": "python3"
  }
 },
 "nbformat": 4,
 "nbformat_minor": 4
}
