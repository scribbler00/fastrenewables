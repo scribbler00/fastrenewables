{
 "cells": [
  {
   "cell_type": "code",
   "execution_count": null,
   "metadata": {},
   "outputs": [],
   "source": [
    "# default_exp gan.learner"
   ]
  },
  {
   "cell_type": "markdown",
   "metadata": {},
   "source": [
    "# gan.learner\n",
    "\n",
    "> API details."
   ]
  },
  {
   "cell_type": "markdown",
   "metadata": {},
   "source": [
    "TODO maik: add simple synthetic data?!"
   ]
  },
  {
   "cell_type": "code",
   "execution_count": null,
   "metadata": {},
   "outputs": [],
   "source": [
    "# hide\n",
    "# export\n",
    "from tqdm.notebook import tqdm, tnrange\n",
    "import matplotlib.pyplot as plt\n",
    "import seaborn as sns\n",
    "import torch\n",
    "from fastai.torch_core import set_seed\n",
    "import pandas as pd"
   ]
  },
  {
   "cell_type": "code",
   "execution_count": null,
   "metadata": {},
   "outputs": [],
   "source": [
    "# export\n",
    "# TODO maik: should be a class with a constructur and a fit function\n",
    "# TODO maik: remove col_name_ws\n",
    "# TODO maik: can the device be removed?\n",
    "def train(epochs, dls, Dis, Gen, dis_optimizer, gen_optimizer, col_name_ws, device, n_noise_samples, cols):\n",
    "    set_seed(123123)\n",
    "    n_samples = 1000\n",
    "    rand_values = torch.rand(n_samples, n_noise_samples)\n",
    "\n",
    "    dis_real_losses, dis_fake_losses, gen_losses = [],[],[]\n",
    "    # Gen = Gen.to(device)\n",
    "    # TODO maik: check if data is shuffled. e.g.:\n",
    "#      if torch.allclose(dl.one_batch()[1], dl.one_batch()[1]):\n",
    "#         raise ValueError(\n",
    "#             \"Dataset does not to be seemed shuffle, which is required for training.\"\n",
    "#         )\n",
    "    \n",
    "    for epoch in tnrange(epochs, desc=\"epochs\"):\n",
    "\n",
    "        for i, (noise_sample,real_input_batch) in enumerate(dls[0]):\n",
    "            noise_sample = noise_sample.to(device)\n",
    "            real_input_batch = real_input_batch.to(device)\n",
    "            minibatchsize = len(real_input_batch)\n",
    "\n",
    "    #         ## train the discriminator (i-times per epoch):\n",
    "            # TODO maik: should be configurable\n",
    "            for i in range(3):\n",
    "                Dis.zero_grad()\n",
    "                ## train on real input\n",
    "                dis_real = Dis(real_input_batch)\n",
    "\n",
    "                ## train on generated input\n",
    "                dis_fake = Dis(Gen(noise_sample).detach())\n",
    "                dis_loss = -(torch.mean(dis_real) - torch.mean(dis_fake))\n",
    "                dis_loss.backward()\n",
    "                dis_optimizer.step()\n",
    "\n",
    "\n",
    "                ## clamp the discriminator parameter\n",
    "                for p in Dis.parameters():\n",
    "                    # TODO: what amount of clamp to use?\n",
    "                    # TODO maik: should be configurable\n",
    "                    p.data.clamp_(-0.1, 0.1)\n",
    "\n",
    "            dis_real_losses.append(dis_real.detach().mean())\n",
    "            dis_fake_losses.append(dis_fake.detach().mean())\n",
    "            # TODO maik: should be configurable\n",
    "            for i in range(1):            \n",
    "                Gen.zero_grad()\n",
    "                gen_out = Gen(noise_sample)\n",
    "                dis_gen = Dis(gen_out)\n",
    "                gen_loss = -torch.mean(dis_gen)\n",
    "                gen_loss.backward()\n",
    "                gen_optimizer.step()\n",
    "\n",
    "            gen_losses.append(gen_loss.detach().mean())\n",
    "\n",
    "        disl = dis_loss.detach().mean()\n",
    "        genl = gen_loss.detach().mean()\n",
    "        # TODO maik: improve output of trainer\n",
    "        print(f\"{epoch} dis_loss {disl} gen_loss {genl} \")\n",
    "        \n",
    "        # TODO maik: should be configurable\n",
    "#         if epoch % 5 == 0:\n",
    "            # TODO maik: an optional plotting function provided by the user should be configurable. \n",
    "            # e.g. it should be redirected to a plotting function by the user\n",
    "#             with torch.no_grad():\n",
    "#                 fake_samples = Gen(rand_values.to(device))\n",
    "\n",
    "#             df_fake = pd.DataFrame(fake_samples, columns = cols)\n",
    "#             df_real = to.train.items\n",
    "\n",
    "#             sns.histplot(df_real[col_name_ws], label=\"WR\", color=\"grey\", bins=50, stat=\"probability\")# \n",
    "#             sns.histplot(df_fake[col_name_ws], label=\"WF\", color=\"green\", bins=50, stat=\"probability\")# stat=\"probability\")\n",
    "#             sns.histplot(df_real[\"PowerGeneration\"], label=\"PR\", color=\"blue\", bins=50, stat=\"probability\")# stat=\"probability\")\n",
    "#             sns.histplot(df_fake[\"PowerGeneration\"], label=\"PF\", color=\"yellow\", bins=50, stat=\"probability\")# stat=\"probability\")\n",
    "#             plt.title(f\"Epoch {epoch}\")\n",
    "#             plt.legend()\n",
    "#             plt.show()\n",
    "\n",
    "#             plt.scatter(to.train.items[col_name_ws], to.train.items.PowerGeneration, alpha=0.25, label=\"real\")\n",
    "#             plt.scatter(df_fake[col_name_ws], df_fake.PowerGeneration, alpha=0.25, label=\"fake\")\n",
    "#             plt.legend()\n",
    "#             plt.title(f\"Epoch {epoch}\")\n",
    "#             plt.show()\n",
    "    \n",
    "    # TODO maik: rather store as attributes in the class?!\n",
    "    return dis_real_losses, dis_fake_losses"
   ]
  },
  {
   "cell_type": "code",
   "execution_count": null,
   "metadata": {},
   "outputs": [],
   "source": []
  }
 ],
 "metadata": {
  "kernelspec": {
   "display_name": "Python 3",
   "language": "python",
   "name": "python3"
  }
 },
 "nbformat": 4,
 "nbformat_minor": 4
}
