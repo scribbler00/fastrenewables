{
 "cells": [
  {
   "cell_type": "code",
   "execution_count": 1,
   "metadata": {},
   "outputs": [],
   "source": [
    "# default_exp gan.learner"
   ]
  },
  {
   "cell_type": "markdown",
   "metadata": {},
   "source": [
    "# gan.learner\n",
    "\n",
    "> API details."
   ]
  },
  {
   "cell_type": "code",
   "execution_count": 2,
   "metadata": {},
   "outputs": [],
   "source": [
    "# export\n",
    "\n",
    "import pandas as pd\n",
    "import numpy as np\n",
    "import torch\n",
    "import os\n",
    "import torch.nn as nn\n",
    "import matplotlib.pyplot as plt\n",
    "\n",
    "from tqdm import tqdm\n",
    "from fastai.basics import set_seed\n",
    "from fastrenewables.synthetic_data import *\n",
    "from fastrenewables.gan.model import *\n",
    "from fastrenewables.tabular.model import EmbeddingModule\n",
    "\n",
    "from sklearn.model_selection import train_test_split\n",
    "\n",
    "import torch.nn.functional as F\n",
    "\n",
    "plt.style.use('seaborn-colorblind')\n",
    "\n",
    "#import glob"
   ]
  },
  {
   "cell_type": "code",
   "execution_count": 3,
   "metadata": {},
   "outputs": [],
   "source": [
    "# export\n",
    "\n",
    "class GANLearner():\n",
    "    def __init__(self, gan, n_gen=1, n_dis=1):\n",
    "        super(GANLearner, self).__init__()\n",
    "        # gan should contain a class which itself contains a generator and discriminator/critic class and combines them\n",
    "        self.gan = gan\n",
    "        self.n_gen = n_gen\n",
    "        self.n_dis = n_dis\n",
    "   \n",
    "    def generate_samples(self, x_cat, x_cont):\n",
    "        with torch.no_grad():\n",
    "            z = self.gan.noise(x_cont)\n",
    "            fake_samples = self.gan.generator(x_cat, z)\n",
    "        return fake_samples\n",
    "    \n",
    "    def fit(self, dl, epochs=10, lr=1e-3, plot_epochs=10, save_model=False, save_dir='models/', save_file='tmp', figsize=(16, 9)):\n",
    "        \n",
    "        self.gan.to_device(torch.device('cuda') if torch.cuda.is_available() else torch.device('cpu'))\n",
    "        self.gan.gen_optim.param_groups[0]['lr'] = lr\n",
    "        self.gan.dis_optim.param_groups[0]['lr'] = lr\n",
    "        \n",
    "        self.gan.train()\n",
    "        \n",
    "        for e in tqdm(range(epochs)):\n",
    "            for x_cat, x_cont, y in dl:\n",
    "                x_cat = x_cat.to(self.gan.device).long()\n",
    "                x_cont = x_cont.to(self.gan.device)\n",
    "                y = y.to(self.gan.device)\n",
    "                                \n",
    "                for _ in range(self.n_dis):\n",
    "                    self.gan.train_discriminator(x_cat, x_cont, y)\n",
    "\n",
    "                for _ in range(self.n_gen):\n",
    "                    self.gan.train_generator(x_cat, x_cont, y)\n",
    "                \n",
    "            #if (e+1)%plot_epochs==0:\n",
    "                #plt.figure(figsize=figsize)\n",
    "                #plt.plot(self.gan.real_loss, label='Real Loss')\n",
    "                #plt.plot(self.gan.fake_loss, label='Fake Loss')\n",
    "                #if len(self.gan.aux_loss) > 0:\n",
    "                #    plt.plot(self.gan.aux_loss, label='Aux Loss')\n",
    "                #plt.legend()\n",
    "                #plt.show()\n",
    "                \n",
    "                #fig, ax1 = plt.subplots(figsize=figsize)\n",
    "                #ax1.set_xlabel('iterations')\n",
    "                #ax1.set_ylabel('bce loss')\n",
    "                #ax1.plot(self.gan.real_loss, label='real', color='red')\n",
    "                #ax1.plot(self.gan.fake_loss, label='fake', color='blue') \n",
    "                #ax1.tick_params(axis='y')\n",
    "                #ax1.legend(loc='upper right')\n",
    "                #\n",
    "                #ax2 = ax1.twinx()\n",
    "                #ax2.set_ylabel('aux loss')\n",
    "                #ax2.plot(self.gan.aux_loss, label='aux', color='green')\n",
    "                #ax2.tick_params(axis='y')\n",
    "                #ax2.legend(loc='lower right')\n",
    "                #\n",
    "                #fig.tight_layout()\n",
    "                #plt.show()\n",
    "        \n",
    "        self.gan.eval()\n",
    "        \n",
    "        if save_model:\n",
    "            self.gan.to_device('cpu')\n",
    "            if not os.path.exists(save_dir):\n",
    "                os.mkdir(save_dir)\n",
    "            torch.save(self.gan.state_dict(), save_dir+save_file+'.pt')\n",
    "        \n",
    "        return"
   ]
  },
  {
   "cell_type": "markdown",
   "metadata": {},
   "source": [
    "### Examples:"
   ]
  },
  {
   "cell_type": "code",
   "execution_count": 4,
   "metadata": {},
   "outputs": [],
   "source": [
    "# hide\n",
    "\n",
    "n_samples = 2**12\n",
    "n_classes = 4\n",
    "n_features = 1\n",
    "batch_size = 2**9\n",
    "n_z = 10\n",
    "n_in = n_features\n",
    "n_hidden = 256\n",
    "epochs = 1\n",
    "lr = 5e-5\n",
    "n_gen = 1\n",
    "n_dis = 1\n",
    "\n",
    "data = GaussianDataset(n_samples, n_classes)\n",
    "train_data, test_data = torch.utils.data.random_split(data, [int(len(data)*3/4), int(len(data)*1/4)])\n",
    "\n",
    "train_dl = torch.utils.data.DataLoader(train_data, batch_size=batch_size, shuffle=True, drop_last=True)\n",
    "test_dl = torch.utils.data.DataLoader(test_data, batch_size=len(test_data), shuffle=True, drop_last=True)"
   ]
  },
  {
   "cell_type": "code",
   "execution_count": 5,
   "metadata": {},
   "outputs": [],
   "source": [
    "# export\n",
    "\n",
    "def evaluate_gan(gan_type='bce', aux_factor=1, epochs=10):\n",
    "    \n",
    "    print(gan_type, aux_factor)\n",
    "    set_seed(1337)\n",
    "    emb_module = EmbeddingModule(categorical_dimensions=[n_classes+1])\n",
    "    model = get_gan_model(structure=[n_z, n_hidden, n_hidden, n_in], n_classes=n_classes, emb_module=emb_module, gan_type=gan_type, aux_factor=aux_factor, label_noise=0.1, label_bias=0.25)\n",
    "    learner = GANLearner(gan=model, n_gen=n_gen, n_dis=n_dis)\n",
    "    learner.fit(train_dl, epochs=epochs, lr=lr, plot_epochs=epochs, save_model=True)\n",
    "    for x_cat, x_cont, y in test_dl:\n",
    "        x_cat = x_cat.long()\n",
    "        print('distribution of real data:')\n",
    "        d_real = fit_kde(x_cont, bandwidth=1/25, show_plot=True)\n",
    "        x_fake = learner.generate_samples(x_cat, x_cont)\n",
    "        print('distribution of generated data:')\n",
    "        d_fake = fit_kde(x_fake, bandwidth=1/25, show_plot=True)\n",
    "        break\n",
    "    kld = calculate_kld(d_real, d_fake)\n",
    "        \n",
    "    return kld"
   ]
  },
  {
   "cell_type": "code",
   "execution_count": 6,
   "metadata": {},
   "outputs": [
    {
     "name": "stdout",
     "output_type": "stream",
     "text": [
      "aux 1\n"
     ]
    },
    {
     "name": "stderr",
     "output_type": "stream",
     "text": [
      "100%|██████████| 10/10 [00:05<00:00,  1.84it/s]\n"
     ]
    },
    {
     "name": "stdout",
     "output_type": "stream",
     "text": [
      "distribution of real data:\n"
     ]
    },
    {
     "data": {
      "image/png": "[encoded data removed]",
      "text/plain": [
       "<Figure size 1152x648 with 1 Axes>"
      ]
     },
     "metadata": {
      "needs_background": "light"
     },
     "output_type": "display_data"
    },
    {
     "name": "stdout",
     "output_type": "stream",
     "text": [
      "distribution of generated data:\n"
     ]
    },
    {
     "data": {
      "image/png": "[encoded data removed]",
      "text/plain": [
       "<Figure size 1152x648 with 1 Axes>"
      ]
     },
     "metadata": {
      "needs_background": "light"
     },
     "output_type": "display_data"
    },
    {
     "data": {
      "text/plain": [
       "0.31606438364222716"
      ]
     },
     "execution_count": 6,
     "metadata": {},
     "output_type": "execute_result"
    }
   ],
   "source": [
    "# hide\n",
    "\n",
    "evaluate_gan('aux')"
   ]
  },
  {
   "cell_type": "code",
   "execution_count": 7,
   "metadata": {},
   "outputs": [],
   "source": [
    "#epochs = 100\n",
    "#\n",
    "#bce_kld = evaluate_gan('bce', 1, epochs)\n",
    "#\n",
    "#afs = [4, 2, 1, 1/2, 1/4]\n",
    "#klds = [evaluate_gan('aux', af, epochs) for af in afs]\n",
    "#\n",
    "#afs.append(0)\n",
    "#klds.append(bce_kld)\n",
    "#\n",
    "#data = {'aux_factor': afs,\n",
    "#       'kld': klds}\n",
    "#\n",
    "#df = pd.DataFrame(data)\n",
    "#df.to_csv('klds.csv', index=False)"
   ]
  },
  {
   "cell_type": "code",
   "execution_count": 8,
   "metadata": {},
   "outputs": [],
   "source": [
    "#df = pd.read_csv('klds.csv')\n",
    "#df\n",
    "#\n",
    "#afs = df['aux_factor'].values\n",
    "#klds = df['kld'].values\n",
    "#\n",
    "#plt.figure(figsize=(16, 9))\n",
    "#plt.plot(afs[:-1], klds[:-1], 'o--', label='auxiliary')\n",
    "#plt.axhline(klds[-1], color='red', linestyle='--', label='conditional')\n",
    "#plt.legend()\n",
    "#plt.xscale('log',base=2) \n",
    "#plt.xticks(afs[:-1])\n",
    "#plt.xlabel('auxiliary weighting factor')\n",
    "#plt.ylabel('KLD')\n",
    "#plt.show()"
   ]
  }
 ],
 "metadata": {
  "kernelspec": {
   "display_name": "Python 3 (ipykernel)",
   "language": "python",
   "name": "python3"
  },
  "language_info": {
   "codemirror_mode": {
    "name": "ipython",
    "version": 3
   },
   "file_extension": ".py",
   "mimetype": "text/x-python",
   "name": "python",
   "nbconvert_exporter": "python",
   "pygments_lexer": "ipython3",
   "version": "3.8.12"
  }
 },
 "nbformat": 4,
 "nbformat_minor": 4
}
