{
 "cells": [
  {
   "cell_type": "code",
   "execution_count": null,
   "metadata": {},
   "outputs": [],
   "source": [
    "# default_exp gan.learner"
   ]
  },
  {
   "cell_type": "markdown",
   "metadata": {},
   "source": [
    "# gan.learner\n",
    "\n",
    "> API details."
   ]
  },
  {
   "cell_type": "markdown",
   "metadata": {},
   "source": [
    "TODO maik: add simple synthetic data?!"
   ]
  },
  {
   "cell_type": "code",
   "execution_count": null,
   "metadata": {},
   "outputs": [],
   "source": [
    "# hide\n",
    "# export\n",
    "from tqdm.notebook import tqdm, tnrange\n",
    "import matplotlib.pyplot as plt\n",
    "# import seaborn as sns\n",
    "import torch\n",
    "from fastai.torch_core import set_seed\n",
    "import pandas as pd"
   ]
  },
  {
   "cell_type": "code",
   "execution_count": null,
   "metadata": {},
   "outputs": [],
   "source": [
    "# export\n",
    "# TODO maik: should be a class with a constructur and a fit function\n",
    "# TODO maik: remove col_name_ws\n",
    "# TODO maik: can the device be removed?\n",
    "def train_gan(epochs, dls, Dis, Gen, \n",
    "              dis_optimizer, gen_optimizer, \n",
    "              col_name_ws, device, \n",
    "              n_noise_samples, cols, \n",
    "              plot_every_n=5, plot_function=None,\n",
    "              n_iter_dis=5,\n",
    "              n_iter_gen=1,\n",
    "             amount_clamp=0.01):\n",
    "    set_seed(123123)\n",
    "    n_samples = 1000\n",
    "    rand_values = torch.rand(n_samples, n_noise_samples)\n",
    "\n",
    "    dis_real_losses, dis_fake_losses, gen_losses = [],[],[]\n",
    "    # Gen = Gen.to(device)\n",
    "    # TODO maik: check if data is shuffled. e.g.:\n",
    "#      if torch.allclose(dl.one_batch()[1], dl.one_batch()[1]):\n",
    "#         raise ValueError(\n",
    "#             \"Dataset does not to be seemed shuffle, which is required for training.\"\n",
    "#         )\n",
    "    \n",
    "    for epoch in tnrange(epochs, desc=\"epochs\"):\n",
    "\n",
    "        for i, (noise_sample, real_input_batch_cat,real_input_batch) in enumerate(dls[0]):\n",
    "            noise_sample = noise_sample.to(device)\n",
    "            real_input_batch = real_input_batch.to(device)\n",
    "            minibatchsize = len(real_input_batch)\n",
    "\n",
    "    #         ## train the discriminator (i-times per epoch):\n",
    "            # TODO maik: should be configurable\n",
    "            for i in range(n_iter_dis):\n",
    "                Dis.zero_grad()\n",
    "                ## train on real input\n",
    "                # real_input_batch_cat is rather for the loss of the discriminator\n",
    "                dis_real = Dis(None, real_input_batch)\n",
    "\n",
    "                ## train on generated input\n",
    "                dis_fake = Dis(None, Gen(real_input_batch_cat, noise_sample).detach())\n",
    "                dis_loss = -(torch.mean(dis_real) - torch.mean(dis_fake))\n",
    "                dis_loss.backward()\n",
    "                dis_optimizer.step()\n",
    "\n",
    "\n",
    "                ## clamp the discriminator parameter\n",
    "                for p in Dis.parameters():\n",
    "                    # TODO: what amount of clamp to use?\n",
    "                    # TODO maik: should be configurable\n",
    "                    p.data.clamp_(-amount_clamp, amount_clamp)\n",
    "\n",
    "            dis_real_losses.append(dis_real.detach().mean())\n",
    "            dis_fake_losses.append(dis_fake.detach().mean())\n",
    "            # TODO maik: should be configurable\n",
    "            for i in range(n_iter_gen):            \n",
    "                Gen.zero_grad()\n",
    "                gen_out = Gen(real_input_batch_cat, noise_sample)\n",
    "                dis_gen = Dis(None, gen_out)\n",
    "                gen_loss = -torch.mean(dis_gen)\n",
    "                gen_loss.backward()\n",
    "                gen_optimizer.step()\n",
    "\n",
    "            gen_losses.append(gen_loss.detach().mean())\n",
    "\n",
    "        disl = dis_loss.detach().mean()\n",
    "        genl = gen_loss.detach().mean()\n",
    "        # TODO maik: improve output of trainer\n",
    "        print(f\"{epoch} dis_loss {disl} gen_loss {genl} \")\n",
    "        \n",
    "        # TODO maik: should be configurable\n",
    "        if epoch % plot_every_n == 0:\n",
    "            if plot_function is not None:\n",
    "                with torch.no_grad():\n",
    "                    fake_samples = Gen(real_input_batch_cat, rand_values.to(device))\n",
    "                plot_function(fake_samples)\n",
    "\n",
    "    # TODO maik: rather store as attributes in the class?!\n",
    "    return dis_real_losses, dis_fake_losses"
   ]
  },
  {
   "cell_type": "code",
   "execution_count": null,
   "metadata": {},
   "outputs": [],
   "source": []
  }
 ],
 "metadata": {
  "kernelspec": {
   "display_name": "Python 3",
   "language": "python",
   "name": "python3"
  }
 },
 "nbformat": 4,
 "nbformat_minor": 4
}
