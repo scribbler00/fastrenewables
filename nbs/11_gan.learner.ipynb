{
 "cells": [
  {
   "cell_type": "code",
   "execution_count": 1,
   "metadata": {},
   "outputs": [],
   "source": [
    "# default_exp gan.learner"
   ]
  },
  {
   "cell_type": "markdown",
   "metadata": {},
   "source": [
    "# gan.learner\n",
    "\n",
    "> API details."
   ]
  },
  {
   "cell_type": "code",
   "execution_count": 2,
   "metadata": {},
   "outputs": [],
   "source": [
    "# TODOs:\n",
    "# rework device handling / apply cuda usage\n",
    "# plot every n_epochs"
   ]
  },
  {
   "cell_type": "code",
   "execution_count": 3,
   "metadata": {},
   "outputs": [],
   "source": [
    "# export\n",
    "\n",
    "import torch\n",
    "import torch.nn as nn\n",
    "import matplotlib.pyplot as plt\n",
    "\n",
    "from tqdm import tqdm\n",
    "\n",
    "#from fastrenewables.gan.core import get_dataloaders\n",
    "from fastrenewables.tabular.data import *\n",
    "from fastrenewables.tabular.core import *\n",
    "from fastrenewables.gan.model import *\n",
    "import glob"
   ]
  },
  {
   "cell_type": "code",
   "execution_count": 4,
   "metadata": {},
   "outputs": [],
   "source": [
    "# export\n",
    "# first drafts for the actual learner and model classes\n",
    "\n",
    "class DummyDataset(torch.utils.data.Dataset):\n",
    "\n",
    "    def __init__(self, n_samples=1000, n_cat_feats=10, n_cont_feats=10):\n",
    "\n",
    "        self.n_samples = n_samples\n",
    "        self.cat_data = torch.randn(n_cat_feats, n_samples)\n",
    "        self.cont_data = torch.randn(n_cont_feats, n_samples)\n",
    "\n",
    "    def __len__(self):\n",
    "        return self.n_samples\n",
    "    \n",
    "    def __getitem__(self, idx):\n",
    "        x_cat = self.cat_data[:, idx]\n",
    "        x_cont = self.cont_data[:, idx]\n",
    "        return x_cat, x_cont\n",
    "\n",
    "class W_Gan(nn.Module):\n",
    "    def __init__(self, generator, discriminator, gen_optim, dis_optim, clip=0.001):\n",
    "        super(W_Gan, self).__init__()\n",
    "        self.generator = generator\n",
    "        self.discriminator = discriminator\n",
    "        self.gen_optim = gen_optim\n",
    "        self.dis_optim = dis_optim\n",
    "        self.clip = clip\n",
    "        self.real_loss = []\n",
    "        self.fake_loss = []\n",
    "        \n",
    "    def train_generator(self, z, x_cat, x_cont):\n",
    "        # train the generator model\n",
    "        self.generator.zero_grad()\n",
    "        x_cont_fake = self.generator(z, z)\n",
    "        y_fake = self.discriminator(x_cat, x_cont_fake)\n",
    "        loss = - y_fake.mean()\n",
    "        loss.backward()\n",
    "        self.gen_optim.step()\n",
    "        return\n",
    "    \n",
    "    def train_discriminator(self, z, x_cat, x_cont):\n",
    "        # train the discriminator model\n",
    "        self.discriminator.zero_grad()\n",
    "        y_real = self.discriminator(x_cat, x_cont)\n",
    "        real_loss = - y_real.mean()\n",
    "        real_loss.backward()\n",
    "        self.dis_optim.step()\n",
    "        self.real_loss.append(real_loss.item())\n",
    "        \n",
    "        self.discriminator.zero_grad()\n",
    "        x_cont_fake = self.generator(z, z).detach()\n",
    "        y_fake = self.discriminator(x_cat, x_cont_fake)\n",
    "        fake_loss = y_fake.mean()\n",
    "        fake_loss.backward()\n",
    "        self.dis_optim.step()\n",
    "        self.fake_loss.append(fake_loss.item())\n",
    "        \n",
    "        for p in self.discriminator.parameters():\n",
    "            p = torch.clamp(p, -self.clip, self.clip)\n",
    "        return\n",
    "\n",
    "class GanLearner():\n",
    "    def __init__(self, gan):\n",
    "        super(GanLearner, self).__init__()\n",
    "        # gan should contain a class which itself contains a generator and discriminator/critic class and combines them\n",
    "        self.gan = gan\n",
    "        \n",
    "    def noise(self, x, n_z=100):\n",
    "        z = torch.randn(x.shape[0], n_z)\n",
    "        return z\n",
    "    \n",
    "    def generate_samples(self, x):\n",
    "        z = self.noise(x)\n",
    "        fake_samples = self.gan.generator(z, z).detach()\n",
    "        return fake_samples\n",
    "    \n",
    "    def fit(self, dl, epochs=5, n_gen=1, n_dis=1):\n",
    "        # train gan and store parameters and losses in given class\n",
    "        for e in tqdm(range(epochs)):\n",
    "            \n",
    "            for x_cat, x_cont, y in dl:\n",
    "                x_cat = None\n",
    "                \n",
    "                for _ in range(n_dis):\n",
    "                    z = self.noise(x_cont)\n",
    "                    self.gan.train_discriminator(z, x_cat, x_cont)\n",
    "\n",
    "                for _ in range(n_gen):\n",
    "                    z = self.noise(x_cont)\n",
    "                    self.gan.train_generator(z, x_cat, x_cont)\n",
    "                break\n",
    "\n",
    "        return"
   ]
  },
  {
   "cell_type": "code",
   "execution_count": 5,
   "metadata": {},
   "outputs": [],
   "source": [
    "cont_names = ['T_HAG_2_M', 'RELHUM_HAG_2_M', 'PS_SFC_0_M', 'ASWDIFDS_SFC_0_M',\n",
    "       'ASWDIRS_SFC_0_M', 'WindSpeed58m',\n",
    "       'SinWindDirection58m', 'CosWindDirection58m', 'WindSpeed60m',\n",
    "       'SinWindDirection60m', 'CosWindDirection60m', 'WindSpeed58mMinus_t_1',\n",
    "       'SinWindDirection58mMinus_t_1', 'CosWindDirection58mMinus_t_1',\n",
    "       'WindSpeed60mMinus_t_1', 'SinWindDirection60mMinus_t_1',\n",
    "       'CosWindDirection60mMinus_t_1', 'WindSpeed58mPlus_t_1',\n",
    "       'SinWindDirection58mPlus_t_1', 'CosWindDirection58mPlus_t_1',\n",
    "       'WindSpeed60mPlus_t_1', 'SinWindDirection60mPlus_t_1',\n",
    "       'CosWindDirection60mPlus_t_1']\n",
    "cat_names = ['TaskID', 'Month', 'Day', 'Hour']\n",
    "\n",
    "dls = RenewableDataLoaders.from_files(glob.glob(\"../data/*.h5\"), \n",
    "                                      y_names=\"PowerGeneration\", \n",
    "                                      pre_procs=[FilterYear(year=2020), AddSeasonalFeatures(as_cont=False)], \n",
    "                                      cat_names=cat_names, \n",
    "                                      cont_names=cont_names)"
   ]
  },
  {
   "cell_type": "code",
   "execution_count": 15,
   "metadata": {},
   "outputs": [
    {
     "name": "stdout",
     "output_type": "stream",
     "text": [
      "torch.Size([64, 4]) torch.Size([64, 23]) torch.Size([64, 1])\n"
     ]
    }
   ],
   "source": [
    "dl = dls.train\n",
    "for x_cat, x_cont, y in dl:\n",
    "    print(x_cat.shape, x_cont.shape, y.shape)\n",
    "    break\n",
    "n_cont_feats = x_cont.shape[1]\n",
    "gen_structure = [100, 500, n_cont_feats]\n",
    "dis_structure = [n_cont_feats, 500, 1]\n",
    "generator = GANMLP(gen_structure)\n",
    "discriminator = GANMLP(dis_structure)\n",
    "gen_optim = torch.optim.RMSprop(generator.parameters())\n",
    "dis_optim = torch.optim.RMSprop(discriminator.parameters())\n",
    "gan = W_Gan(generator, discriminator, gen_optim, dis_optim)\n",
    "learn = GanLearner(gan)"
   ]
  },
  {
   "cell_type": "code",
   "execution_count": 16,
   "metadata": {},
   "outputs": [
    {
     "name": "stderr",
     "output_type": "stream",
     "text": [
      "100%|██████████| 100/100 [00:01<00:00, 63.87it/s]\n"
     ]
    }
   ],
   "source": [
    "learn.fit(dl, 100)"
   ]
  },
  {
   "cell_type": "code",
   "execution_count": 17,
   "metadata": {},
   "outputs": [],
   "source": [
    "x_real = x_cont.reshape(1, -1)\n",
    "x_fake = learn.generate_samples(x_cont).reshape(1, -1)"
   ]
  },
  {
   "cell_type": "code",
   "execution_count": 18,
   "metadata": {},
   "outputs": [
    {
     "data": {
      "image/png": "[encoded data removed]",
      "text/plain": [
       "<Figure size 1152x648 with 1 Axes>"
      ]
     },
     "metadata": {
      "needs_background": "light"
     },
     "output_type": "display_data"
    }
   ],
   "source": [
    "import matplotlib.pyplot as plt\n",
    "plt.figure(figsize=(16, 9))\n",
    "plt.hist(x_real, bins=50, label='real', alpha=0.7)\n",
    "plt.hist(x_fake, bins=50, label='fake', alpha=0.7)\n",
    "plt.legend()\n",
    "plt.show()"
   ]
  },
  {
   "cell_type": "code",
   "execution_count": null,
   "metadata": {},
   "outputs": [],
   "source": []
  }
 ],
 "metadata": {
  "kernelspec": {
   "display_name": "Python 3",
   "language": "python",
   "name": "python3"
  },
  "language_info": {
   "codemirror_mode": {
    "name": "ipython",
    "version": 3
   },
   "file_extension": ".py",
   "mimetype": "text/x-python",
   "name": "python",
   "nbconvert_exporter": "python",
   "pygments_lexer": "ipython3",
   "version": "3.8.8"
  }
 },
 "nbformat": 4,
 "nbformat_minor": 4
}
