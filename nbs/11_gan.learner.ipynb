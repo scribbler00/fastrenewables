{
 "cells": [
  {
   "cell_type": "code",
   "execution_count": 1,
   "metadata": {},
   "outputs": [],
   "source": [
    "# default_exp gan.learner"
   ]
  },
  {
   "cell_type": "markdown",
   "metadata": {},
   "source": [
    "# gan.learner\n",
    "\n",
    "> API details."
   ]
  },
  {
   "cell_type": "code",
   "execution_count": 2,
   "metadata": {},
   "outputs": [],
   "source": [
    "# export\n",
    "\n",
    "import torch\n",
    "import torch.nn as nn\n",
    "import matplotlib.pyplot as plt\n",
    "\n",
    "from tqdm import tqdm\n",
    "from fastrenewables.synthetic_data import *\n",
    "from fastrenewables.gan.model import *\n",
    "from fastrenewables.tabular.model import EmbeddingModule\n",
    "\n",
    "#import glob"
   ]
  },
  {
   "cell_type": "code",
   "execution_count": 3,
   "metadata": {},
   "outputs": [],
   "source": [
    "# export\n",
    "\n",
    "#class GANLearner():\n",
    "#    def __init__(self, gan, n_gen=1, n_dis=1):\n",
    "#        super(GANLearner, self).__init__()\n",
    "#        # gan should contain a class which itself contains a generator and discriminator/critic class and combines them\n",
    "#        self.gan = gan\n",
    "#        self.n_gen = n_gen\n",
    "#        self.n_dis = n_dis\n",
    "#   \n",
    "#    def generate_samples(self, x):\n",
    "#        z = self.gan.noise(x)\n",
    "#        fake_samples = self.gan.generator(None, z).detach()\n",
    "#        return fake_samples\n",
    "#    \n",
    "#    def fit(self, dl, epochs=10, plot_epochs=10, save_model=False):\n",
    "#        \n",
    "#        self.gan.to_device(self.gan.device)\n",
    "#        for e in tqdm(range(epochs)):\n",
    "#            for x_cat, x_cont, y in dl:\n",
    "#                x_cat = x_cat.to(self.gan.device)\n",
    "#                x_cont = x_cont.to(self.gan.device)\n",
    "#                y = y.to(self.gan.device)\n",
    "#                \n",
    "#                # todo: only for mlp\n",
    "#                x_cat = x_cat.flatten(1, 2).long()\n",
    "#                x_cont = x_cont.flatten(1, 2)\n",
    "#                y = y[:, 0]\n",
    "#                #if y.dim() == 3:\n",
    "#                #    print('learner', y.shape)\n",
    "#                #    y = y.flatten(1, 2)[:, 0]\n",
    "#                #    print('learner', y.shape)\n",
    "#                                \n",
    "#                for _ in range(self.n_dis):\n",
    "#                    self.gan.train_discriminator(x_cat, x_cont, y)\n",
    "#\n",
    "#                for _ in range(self.n_gen):\n",
    "#                    self.gan.train_generator(x_cat, x_cont, y)\n",
    "#                \n",
    "#            if (e+1)%plot_epochs==0:\n",
    "#                plt.figure(figsize=(16, 9))\n",
    "#                plt.plot(self.gan.real_loss, label='Real Loss')\n",
    "#                plt.plot(self.gan.fake_loss, label='Fake Loss')\n",
    "#                plt.legend()\n",
    "#                plt.show()\n",
    "#        \n",
    "#        if save_model:\n",
    "#            self.gan.to_device('cpu')\n",
    "#        \n",
    "#        return"
   ]
  },
  {
   "cell_type": "markdown",
   "metadata": {},
   "source": [
    "### Examples:"
   ]
  },
  {
   "cell_type": "code",
   "execution_count": 4,
   "metadata": {},
   "outputs": [],
   "source": [
    "#n_z = 100\n",
    "#n_cat_feats = 1\n",
    "#n_cont_feats = 4\n",
    "#n_targets = 1\n",
    "#len_ts = 24\n",
    "#n_samples = 1000\n",
    "## TODO: shouldn't this be the same as n_cat_features\n",
    "#n_classes = 2\n",
    "#batch_size = 256\n",
    "#epochs = 100\n",
    "#\n",
    "#gan_type = 'aux'\n",
    "#model_type = 'mlp'\n",
    "#\n",
    "#emb = EmbeddingModule(categorical_dimensions=[n_classes])\n",
    "#\n",
    "#structure = [n_z, 64, n_cont_feats]\n",
    "#\n",
    "#if gan_type == 'wgan':\n",
    "#    n_gen = 1\n",
    "#    n_dis = 4\n",
    "#else:\n",
    "#    n_gen = 1\n",
    "#    n_dis = 1\n",
    "#\n",
    "##if model_type == 'mlp':\n",
    "##    n_dim = 2\n",
    "##elif model_type == 'cnn':\n",
    "##    n_dim = 3\n",
    "#\n",
    "#model = get_gan_model(gan_type=gan_type, model_type=model_type, structure=structure, \n",
    "#                      len_ts=len_ts, n_classes=n_classes, emb_module=emb)\n",
    "#print(model)\n",
    "##data = DummyDataset(n_samples=n_samples, n_cat_feats=n_cat_feats, n_cont_feats=n_cont_feats, n_targets=n_targets, len_ts=len_ts, n_dim=n_dim)\n",
    "#data = SineDataset(n_samples=n_samples, n_classes=n_classes, n_features=n_cont_feats, noise=0)\n",
    "#dl = torch.utils.data.DataLoader(data, batch_size=batch_size, shuffle=True, drop_last=True)\n",
    "##for x_cat, x_cont, y in dl:\n",
    "##    print(x_cat.shape, x_cont.shape, y.shape)\n",
    "##    break\n",
    "#learner = GANLearner(gan=model, n_gen=n_gen, n_dis=n_dis)\n",
    "#learner.fit(dl, epochs=epochs, plot_epochs=epochs)"
   ]
  },
  {
   "cell_type": "code",
   "execution_count": 5,
   "metadata": {},
   "outputs": [],
   "source": [
    "#tmp = nn.Linear(1024, 24)\n",
    "#\n",
    "#for x_cat, x_cont, y in dl:\n",
    "#    print(x_cat.shape)\n",
    "#    break\n",
    "#\n",
    "#x_cat = x_cat.flatten(1, 2)    \n",
    "#x_cat.shape\n",
    "#x_cat.ravel().shape\n",
    "##tmp(x_cat)"
   ]
  },
  {
   "cell_type": "markdown",
   "metadata": {},
   "source": [
    "# Tests:"
   ]
  },
  {
   "cell_type": "code",
   "execution_count": 6,
   "metadata": {},
   "outputs": [],
   "source": [
    "#for x_cat, x_cont, y in dl:\n",
    "#    print(x_cat)\n",
    "#    break\n",
    "#x_fake = learner.generate_samples(x_cont).cpu()\n",
    "#x_fake, x_fake.shape"
   ]
  },
  {
   "cell_type": "code",
   "execution_count": 7,
   "metadata": {},
   "outputs": [],
   "source": [
    "#if n_dim == 3:\n",
    "#    plt.figure(figsize=(16, 9))\n",
    "#    for f in range(n_cont_feats):\n",
    "#        plt.subplot(2, 2, f+1)\n",
    "#        plt.plot(x_cont[0, f, :], label='real')\n",
    "#        plt.plot(x_fake[0, f, :], label='fake')\n",
    "#        plt.legend()\n",
    "#    plt.show()"
   ]
  }
 ],
 "metadata": {
  "kernelspec": {
   "display_name": "Python 3 (ipykernel)",
   "language": "python",
   "name": "python3"
  },
  "language_info": {
   "codemirror_mode": {
    "name": "ipython",
    "version": 3
   },
   "file_extension": ".py",
   "mimetype": "text/x-python",
   "name": "python",
   "nbconvert_exporter": "python",
   "pygments_lexer": "ipython3",
   "version": "3.8.12"
  }
 },
 "nbformat": 4,
 "nbformat_minor": 4
}
