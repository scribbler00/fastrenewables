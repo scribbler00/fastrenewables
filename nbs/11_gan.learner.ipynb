{
 "cells": [
  {
   "cell_type": "code",
   "execution_count": 1,
   "metadata": {},
   "outputs": [],
   "source": [
    "# default_exp gan.learner"
   ]
  },
  {
   "cell_type": "markdown",
   "metadata": {},
   "source": [
    "# gan.learner\n",
    "\n",
    "> API details."
   ]
  },
  {
   "cell_type": "code",
   "execution_count": 2,
   "metadata": {},
   "outputs": [],
   "source": [
    "# export\n",
    "\n",
    "import torch\n",
    "import torch.nn as nn\n",
    "import matplotlib.pyplot as plt\n",
    "\n",
    "from tqdm import tqdm\n",
    "from torch.nn import BCELoss, CrossEntropyLoss\n",
    "from fastrenewables.tabular.data import *\n",
    "from fastrenewables.tabular.core import *\n",
    "from fastrenewables.gan.model import *\n",
    "import glob"
   ]
  },
  {
   "cell_type": "code",
   "execution_count": 3,
   "metadata": {},
   "outputs": [],
   "source": [
    "# export\n",
    "\n",
    "class DummyDataset(torch.utils.data.Dataset):\n",
    "\n",
    "    def __init__(self, n_samples=10000, n_cat_feats=4, n_cont_feats=16, n_targets=1):\n",
    "\n",
    "        self.n_samples = n_samples\n",
    "        self.cat = torch.rand(n_cat_feats, n_samples)\n",
    "        self.cont = torch.rand(n_cont_feats, n_samples)\n",
    "        self.y = torch.rand(n_targets, n_samples)\n",
    "\n",
    "    def __len__(self):\n",
    "        return self.n_samples\n",
    "    \n",
    "    def __getitem__(self, idx):\n",
    "        x_cat = self.cat[:, idx]\n",
    "        x_cont = self.cont[:, idx]\n",
    "        y = self.y[:, idx]\n",
    "        return x_cat, x_cont, y\n",
    "    \n",
    "class DummyDatasetTS(torch.utils.data.Dataset):\n",
    "\n",
    "    def __init__(self, n_samples=10000, n_cat_feats=4, n_cont_feats=16, n_targets=1, len_ts=96):\n",
    "\n",
    "        self.n_samples = n_samples\n",
    "        self.cat = torch.randn(n_samples, n_cat_feats, len_ts)\n",
    "        self.cont = torch.randn(n_samples, n_cont_feats, len_ts)\n",
    "        self.y = torch.randn(n_samples, n_targets)\n",
    "\n",
    "    def __len__(self):\n",
    "        return self.n_samples\n",
    "    \n",
    "    def __getitem__(self, idx):\n",
    "        x_cat = self.cat[idx]\n",
    "        x_cont = self.cont[idx]\n",
    "        y = self.y[idx]\n",
    "        return x_cat, x_cont, y\n",
    "    \n",
    "\n",
    "class Gan(nn.Module):\n",
    "    def __init__(self, generator, discriminator, gen_optim, dis_optim, auxiliary=False, auxiliary_weighting_factor=1):\n",
    "        super(Gan, self).__init__()\n",
    "        self.generator = generator\n",
    "        self.discriminator = discriminator\n",
    "        self.gen_optim = gen_optim\n",
    "        self.dis_optim = dis_optim\n",
    "        self.real_loss = []\n",
    "        self.fake_loss = []\n",
    "        self.auxiliary = auxiliary\n",
    "        self.bce_loss = BCELoss()\n",
    "        self.auxiliary_loss_function = CrossEntropyLoss()\n",
    "        self.auxiliary_weighting_factor=auxiliary_weighting_factor\n",
    "        \n",
    "    def to_device(self, device):\n",
    "        self.generator = self.generator.to(device)\n",
    "        self.discriminator = self.discriminator.to(device)\n",
    "        self.bce_loss = self.bce_loss.to(device)\n",
    "        self.auxiliary_loss_function = self.auxiliary_loss_function.to(device)\n",
    "        \n",
    "    def _split_pred(self, y):\n",
    "        if self.auxiliary:\n",
    "            y, class_probs = y\n",
    "        else:\n",
    "            y, class_probs = y, None\n",
    "        return y, class_probs\n",
    "    \n",
    "    def auxiliary_loss(self, class_probs, y):\n",
    "        return self.auxiliary_loss_function(class_probs, y)*self.auxiliary_weighting_factor\n",
    "    \n",
    "    def train_generator(self, z, x_cat, x_cont, y):\n",
    "        # train the generator model\n",
    "        self.generator.zero_grad()\n",
    "        x_cont_fake = self.generator(x_cat, z)\n",
    "        y_fake = self.discriminator(None, x_cont_fake)  \n",
    "        y_fake, class_probs = self._split_pred(y_fake)\n",
    "        loss = self.bce_loss(y_fake, torch.ones_like(y_fake))\n",
    "        if self.auxiliary:\n",
    "            aux_loss = self.auxiliary_loss(class_probs, y.ravel().to(torch.int64))\n",
    "            loss = (loss + aux_loss)/2\n",
    "        loss.backward()\n",
    "        self.gen_optim.step()\n",
    "        return\n",
    "    \n",
    "    def train_discriminator(self, z, x_cat, x_cont, y):\n",
    "        # train the discriminator model\n",
    "        self.discriminator.zero_grad()\n",
    "        y_real = self.discriminator(None, x_cont)\n",
    "        y_real, class_probs = self._split_pred(y_real)\n",
    "        real_loss = self.bce_loss(y_real, torch.ones_like(y_real))\n",
    "        if self.auxiliary:\n",
    "            aux_loss = self.auxiliary_loss(class_probs, y.ravel().to(torch.int64))\n",
    "            real_loss = (real_loss + aux_loss)/2\n",
    "        \n",
    "        real_loss.backward()\n",
    "        self.dis_optim.step()\n",
    "        self.real_loss.append(real_loss.item())\n",
    "        \n",
    "        self.discriminator.zero_grad()\n",
    "        x_cont_fake = self.generator(x_cat, z).detach()\n",
    "        y_fake = self.discriminator(None, x_cont_fake)\n",
    "        y_fake, class_probs = self._split_pred(y_fake)\n",
    "        \n",
    "        fake_loss =  self.bce_loss(y_fake, torch.zeros_like(y_fake))\n",
    "        if self.auxiliary:\n",
    "            aux_loss = self.auxiliary_loss(class_probs, y.ravel().to(torch.int64))\n",
    "            fake_loss = (fake_loss + aux_loss)/2\n",
    "            \n",
    "        fake_loss.backward()\n",
    "        self.dis_optim.step()\n",
    "        self.fake_loss.append(fake_loss.item())\n",
    "        return\n",
    "    \n",
    "\n",
    "class W_Gan(nn.Module):\n",
    "    def __init__(self, generator, discriminator, gen_optim, dis_optim, clip=0.001):\n",
    "        super(W_Gan, self).__init__()\n",
    "        self.generator = generator\n",
    "        self.discriminator = discriminator\n",
    "        self.gen_optim = gen_optim\n",
    "        self.dis_optim = dis_optim\n",
    "        self.clip = clip\n",
    "        self.real_loss = []\n",
    "        self.fake_loss = []\n",
    "        \n",
    "    def train_generator(self, z, x_cat, x_cont, y):\n",
    "        # train the generator model\n",
    "        self.generator.zero_grad()\n",
    "        x_cont_fake = self.generator(x_cat, z)\n",
    "        y_fake = self.discriminator(None, x_cont_fake)\n",
    "        loss = - y_fake.mean()\n",
    "        loss.backward()\n",
    "        self.gen_optim.step()\n",
    "        return\n",
    "    \n",
    "    def train_discriminator(self, z, x_cat, x_cont, y):\n",
    "        # train the discriminator model\n",
    "        self.discriminator.zero_grad()\n",
    "        y_real = self.discriminator(None, x_cont)\n",
    "        real_loss = - y_real.mean()\n",
    "        real_loss.backward()\n",
    "        self.dis_optim.step()\n",
    "        self.real_loss.append(real_loss.item())\n",
    "        \n",
    "        self.discriminator.zero_grad()\n",
    "        x_cont_fake = self.generator(x_cat, z).detach()\n",
    "        y_fake = self.discriminator(None, x_cont_fake)\n",
    "        fake_loss = y_fake.mean()\n",
    "        fake_loss.backward()\n",
    "        self.dis_optim.step()\n",
    "        self.fake_loss.append(fake_loss.item())\n",
    "        \n",
    "        for p in self.discriminator.parameters():\n",
    "            p = torch.clamp(p, -self.clip, self.clip)\n",
    "        return\n",
    "\n",
    "    \n",
    "class GanLearner():\n",
    "    def __init__(self, gan, n_z=100):\n",
    "        super(GanLearner, self).__init__()\n",
    "        # gan should contain a class which itself contains a generator and discriminator/critic class and combines them\n",
    "        self.gan = gan\n",
    "        self.n_z = n_z\n",
    "        self.device = torch.device('cuda') if torch.cuda.is_available() else torch.device('cpu')\n",
    "        #self.device = torch.device('cpu')\n",
    "        \n",
    "    def noise(self, x):\n",
    "        if x.dim() == 2:\n",
    "            z = torch.randn(x.shape[0], self.n_z).to(self.device)\n",
    "        elif x.dim() == 3:\n",
    "            z = torch.randn(x.shape[0], self.n_z, x.shape[2]).to(self.device)\n",
    "        return z\n",
    "    \n",
    "    def generate_samples(self, x):\n",
    "        z = self.noise(x)\n",
    "        fake_samples = self.gan.generator(z, z).detach()\n",
    "        return fake_samples\n",
    "    \n",
    "    def fit(self, dl, epochs=10, n_gen=1, n_dis=1, plot_epochs=10):\n",
    "        # train gan and store parameters and losses in given class\n",
    "        self.gan.to_device(self.device)\n",
    "        \n",
    "        for e in tqdm(range(epochs)):\n",
    "            \n",
    "            for x_cat, x_cont, y in dl:\n",
    "                x_cat = x_cat.to(self.device)\n",
    "                x_cont = x_cont.to(self.device)\n",
    "                y = y.to(self.device)\n",
    "                if y.dim() == 3:\n",
    "                    y = y.flatten(1, 2)[:, 0]\n",
    "                \n",
    "                for _ in range(n_dis):\n",
    "                    z = self.noise(x_cont)\n",
    "                    self.gan.train_discriminator(z, x_cat, x_cont, y)\n",
    "\n",
    "                for _ in range(n_gen):\n",
    "                    z = self.noise(x_cont)\n",
    "                    self.gan.train_generator(z, x_cat, x_cont, y)\n",
    "                break\n",
    "                \n",
    "            if (e+1)%plot_epochs==0:\n",
    "                plt.figure(figsize=(16, 9))\n",
    "                plt.plot(self.gan.real_loss, label='Real Loss')\n",
    "                plt.plot(self.gan.fake_loss, label='Fake Loss')\n",
    "                plt.legend()\n",
    "                plt.show()\n",
    "                \n",
    "        self.gan.to_device('cpu')\n",
    "        \n",
    "        return"
   ]
  },
  {
   "cell_type": "markdown",
   "metadata": {},
   "source": [
    "# Tests:"
   ]
  },
  {
   "cell_type": "code",
   "execution_count": 4,
   "metadata": {},
   "outputs": [],
   "source": [
    "# todo:\n",
    "# adapt for wgan"
   ]
  },
  {
   "cell_type": "code",
   "execution_count": 14,
   "metadata": {},
   "outputs": [],
   "source": [
    "config = {\"model_type\" : \"mlp\", # 'mlp' or 'tcn'\n",
    "          \"n_noise_samples\": 100,\n",
    "          \"act_func_gen\": nn.ReLU(),\n",
    "          \"act_func_dis\": nn.LeakyReLU(0.2),\n",
    "          \"final_activation_gen\": nn.Identity(), # maybe nn.Identity() instead of nn.Sigmoid()?\n",
    "          \"final_activation_dis\": nn.Sigmoid(), # this has to be nn.Identity() for WGAN\n",
    "          \"lr\": 1 * 1e-4,\n",
    "          \"epochs\": 100,\n",
    "          #\"is_bce_model\": True, # also adjustable for wgan/wasserstein-loss\n",
    "          \"auxiliary\": True\n",
    "}"
   ]
  },
  {
   "cell_type": "code",
   "execution_count": 15,
   "metadata": {},
   "outputs": [
    {
     "name": "stdout",
     "output_type": "stream",
     "text": [
      "torch.Size([32, 4]) torch.Size([32, 16]) torch.Size([32, 1])\n"
     ]
    }
   ],
   "source": [
    "if config['model_type'] == 'mlp':\n",
    "    data = DummyDataset()\n",
    "elif config['model_type'] == 'tcn':\n",
    "    data = DummyDatasetTS()\n",
    "dl = torch.utils.data.DataLoader(data, batch_size=32, shuffle=True, drop_last=True)\n",
    "for x_cat, x_cont, y in dl:\n",
    "    print(x_cat.shape, x_cont.shape, y.shape)\n",
    "    break"
   ]
  },
  {
   "cell_type": "code",
   "execution_count": 16,
   "metadata": {},
   "outputs": [
    {
     "name": "stdout",
     "output_type": "stream",
     "text": [
      "64\n"
     ]
    }
   ],
   "source": [
    "n_cont_feats = x_cont.shape[1]\n",
    "gen_structure = [config['n_noise_samples'], 64, n_cont_feats]\n",
    "dis_structure = [n_cont_feats, 64, 1]\n",
    "\n",
    "generator = GANMLP(gen_structure, final_activation=config['final_activation_gen'])\n",
    "if config['auxiliary']:\n",
    "    n_classes = x_cont.shape[1]\n",
    "    input_size = dis_structure[-2]\n",
    "    print(input_size)\n",
    "    discriminator = GANMLP(dis_structure[:-1], final_activation=config['final_activation_dis'])\n",
    "    discriminator = AuxiliaryDiscriminator(discriminator, n_classes, input_size, model_type=config['model_type'])\n",
    "else:\n",
    "    discriminator = GANMLP(dis_structure, final_activation=config['final_activation_dis'])\n",
    "    \n",
    "gen_optim = torch.optim.RMSprop(generator.parameters())\n",
    "dis_optim = torch.optim.RMSprop(discriminator.parameters())\n",
    "gan = Gan(generator, discriminator, gen_optim, dis_optim, auxiliary=config['auxiliary'])\n",
    "learn = GanLearner(gan)"
   ]
  },
  {
   "cell_type": "code",
   "execution_count": 17,
   "metadata": {},
   "outputs": [
    {
     "data": {
      "text/plain": [
       "Gan(\n",
       "  (generator): GANMLP(\n",
       "    (layers): Sequential(\n",
       "      (0): Sequential(\n",
       "        (0): Linear(in_features=100, out_features=64, bias=True)\n",
       "        (1): ReLU()\n",
       "      )\n",
       "      (1): Sequential(\n",
       "        (0): Linear(in_features=64, out_features=16, bias=True)\n",
       "      )\n",
       "      (2): Identity()\n",
       "    )\n",
       "  )\n",
       "  (discriminator): AuxiliaryDiscriminator(\n",
       "    (basic_discriminator): GANMLP(\n",
       "      (layers): Sequential(\n",
       "        (0): Sequential(\n",
       "          (0): Linear(in_features=16, out_features=64, bias=True)\n",
       "        )\n",
       "        (1): Sigmoid()\n",
       "      )\n",
       "    )\n",
       "    (adv_layer): Sequential(\n",
       "      (0): Linear(in_features=64, out_features=1, bias=True)\n",
       "      (1): Sigmoid()\n",
       "    )\n",
       "    (aux_layer): Sequential(\n",
       "      (0): Linear(in_features=64, out_features=16, bias=True)\n",
       "      (1): Softmax(dim=1)\n",
       "    )\n",
       "  )\n",
       "  (bce_loss): BCELoss()\n",
       "  (auxiliary_loss_function): CrossEntropyLoss()\n",
       ")"
      ]
     },
     "execution_count": 17,
     "metadata": {},
     "output_type": "execute_result"
    }
   ],
   "source": [
    "gan"
   ]
  },
  {
   "cell_type": "code",
   "execution_count": 27,
   "metadata": {},
   "outputs": [
    {
     "name": "stderr",
     "output_type": "stream",
     "text": [
      " 97%|█████████▋| 97/100 [00:00<00:00, 242.79it/s]"
     ]
    },
    {
     "data": {
      "image/png": "[encoded data removed]",
      "text/plain": [
       "<Figure size 1152x648 with 1 Axes>"
      ]
     },
     "metadata": {
      "needs_background": "light"
     },
     "output_type": "display_data"
    },
    {
     "name": "stderr",
     "output_type": "stream",
     "text": [
      "100%|██████████| 100/100 [00:00<00:00, 185.15it/s]\n"
     ]
    }
   ],
   "source": [
    "learn.device = torch.device('cuda')\n",
    "learn.fit(dl, epochs=config['epochs'], plot_epochs=config['epochs'])"
   ]
  },
  {
   "cell_type": "code",
   "execution_count": 28,
   "metadata": {},
   "outputs": [],
   "source": [
    "learn.device = torch.device('cpu')\n",
    "\n",
    "x_real = x_cont.reshape(1, -1)\n",
    "x_fake = learn.generate_samples(x_cont).reshape(1, -1)"
   ]
  },
  {
   "cell_type": "code",
   "execution_count": 29,
   "metadata": {},
   "outputs": [
    {
     "data": {
      "image/png": "[encoded data removed]",
      "text/plain": [
       "<Figure size 1152x648 with 1 Axes>"
      ]
     },
     "metadata": {
      "needs_background": "light"
     },
     "output_type": "display_data"
    }
   ],
   "source": [
    "import matplotlib.pyplot as plt\n",
    "plt.figure(figsize=(16, 9))\n",
    "plt.hist(x_real, bins=50, label='real', alpha=0.7)\n",
    "plt.hist(x_fake, bins=50, label='fake', alpha=0.7)\n",
    "plt.legend()\n",
    "plt.show()"
   ]
  },
  {
   "cell_type": "code",
   "execution_count": 30,
   "metadata": {},
   "outputs": [],
   "source": [
    "# todo:\n",
    "# add cnn/tcn\n",
    "# test for cnn"
   ]
  },
  {
   "cell_type": "code",
   "execution_count": 13,
   "metadata": {},
   "outputs": [],
   "source": [
    "#loss = CrossEntropyLoss()\n",
    "#\n",
    "#a = torch.ones(4, 10).cuda()\n",
    "#b = torch.ones(4, 1).ravel().to(torch.int64).cuda()\n",
    "#loss(a, b)"
   ]
  }
 ],
 "metadata": {
  "kernelspec": {
   "display_name": "Python 3",
   "language": "python",
   "name": "python3"
  },
  "language_info": {
   "codemirror_mode": {
    "name": "ipython",
    "version": 3
   },
   "file_extension": ".py",
   "mimetype": "text/x-python",
   "name": "python",
   "nbconvert_exporter": "python",
   "pygments_lexer": "ipython3",
   "version": "3.8.12"
  }
 },
 "nbformat": 4,
 "nbformat_minor": 4
}
