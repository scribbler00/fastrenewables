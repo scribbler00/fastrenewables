{
 "cells": [
  {
   "cell_type": "code",
   "execution_count": 1,
   "metadata": {},
   "outputs": [],
   "source": [
    "# default_exp gan.learner"
   ]
  },
  {
   "cell_type": "markdown",
   "metadata": {},
   "source": [
    "# gan.learner\n",
    "\n",
    "> API details."
   ]
  },
  {
   "cell_type": "code",
   "execution_count": 2,
   "metadata": {},
   "outputs": [],
   "source": [
    "# TODOs:\n",
    "# rework device handling\n",
    "# plot every n_epochs"
   ]
  },
  {
   "cell_type": "code",
   "execution_count": 3,
   "metadata": {},
   "outputs": [],
   "source": [
    "# export\n",
    "\n",
    "import torch\n",
    "import torch.nn as nn\n",
    "import matplotlib.pyplot as plt\n",
    "\n",
    "from tqdm import tqdm"
   ]
  },
  {
   "cell_type": "code",
   "execution_count": 10,
   "metadata": {},
   "outputs": [],
   "source": [
    "# export\n",
    "# first drafts for the actual learner and model classes\n",
    "\n",
    "class DummyDataset(torch.utils.data.Dataset):\n",
    "\n",
    "    def __init__(self, n_samples=1000, n_cat_feats=10, n_cont_feats=10):\n",
    "\n",
    "        self.n_samples = n_samples\n",
    "        self.cat_data = torch.randn(n_cat_feats, n_samples)\n",
    "        self.cont_data = torch.randn(n_cont_feats, n_samples)\n",
    "\n",
    "    def __len__(self):\n",
    "        return self.n_samples\n",
    "    \n",
    "    def __getitem__(self, idx):\n",
    "        y_cat = self.cat_data[:, idx]\n",
    "        y_cont = self.cont_data[:, idx]\n",
    "        return y_cat, y_cont\n",
    "\n",
    "class W_Gan(nn.Module):\n",
    "    def __init__(self, generator, discriminator, gen_optim, dis_optim, clip=0.001):\n",
    "        super(W_Gan, self).__init__()\n",
    "        self.generator = generator\n",
    "        self.discriminator = discriminator\n",
    "        self.gen_optim = gen_optim\n",
    "        self.dis_optim = dis_optim\n",
    "        self.clip = clip\n",
    "        self.real_loss = []\n",
    "        self.fake_loss = []\n",
    "        \n",
    "    def train_generator(self, z):\n",
    "        # train the generator model\n",
    "        self.generator.zero_grad()\n",
    "        x_fake = self.generator(z)\n",
    "        y_fake = self.discriminator(x_fake)\n",
    "        loss = - y_fake.mean()\n",
    "        loss.backward()\n",
    "        self.gen_optim.step()\n",
    "        return\n",
    "    \n",
    "    def train_discriminator(self, z, x_cont):\n",
    "        # train the discriminator model\n",
    "        self.discriminator.zero_grad()\n",
    "        x_real = x_cont\n",
    "        y_real = self.discriminator(x_real)\n",
    "        real_loss = - y_real.mean()\n",
    "        real_loss.backward()\n",
    "        self.dis_optim.step()\n",
    "        self.real_loss.append(real_loss.item())\n",
    "        \n",
    "        self.discriminator.zero_grad()\n",
    "        x_fake = self.generator(z).detach()\n",
    "        y_fake = self.discriminator(x_fake)\n",
    "        fake_loss = y_fake.mean()\n",
    "        fake_loss.backward()\n",
    "        self.dis_optim.step()\n",
    "        self.fake_loss.append(fake_loss.item())\n",
    "        \n",
    "        for p in self.discriminator.parameters():\n",
    "            p = torch.clamp(p, -self.clip, self.clip)\n",
    "        return\n",
    "\n",
    "class GanLearner():\n",
    "    def __init__(self, gan):\n",
    "        super(GanLearner, self).__init__()\n",
    "        # gan should contain a class which itself contains a generator and discriminator/critic class and combines them\n",
    "        self.gan = gan\n",
    "        \n",
    "    def generate_samples(self, x, n_z=100):\n",
    "        z = torch.randn(x.shape[0], n_z)\n",
    "        return z\n",
    "    \n",
    "    def fit(self, dl, epochs=5, n_gen=1, n_dis=1):\n",
    "        # train gan and store parameters and losses in given class\n",
    "        for e in tqdm(range(epochs)):\n",
    "            \n",
    "            for x_cat, x_cont in dl:\n",
    "                \n",
    "                for _ in range(n_dis):\n",
    "                    z = self.generate_samples(x_cont)\n",
    "                    self.gan.train_discriminator(z, x_cont)\n",
    "\n",
    "                for _ in range(n_gen):\n",
    "                    z = self.generate_samples(x_cont)\n",
    "                    self.gan.train_generator(z)\n",
    "\n",
    "        return"
   ]
  },
  {
   "cell_type": "code",
   "execution_count": 11,
   "metadata": {},
   "outputs": [
    {
     "name": "stdout",
     "output_type": "stream",
     "text": [
      "torch.Size([64, 10]) torch.Size([64, 10])\n"
     ]
    },
    {
     "name": "stderr",
     "output_type": "stream",
     "text": [
      "100%|█████████████████████████████████████████████| 5/5 [00:00<00:00, 19.58it/s]\n"
     ]
    }
   ],
   "source": [
    "ds = DummyDataset()\n",
    "dl = torch.utils.data.DataLoader(dataset=ds, batch_size=64, shuffle=True, drop_last=True)\n",
    "\n",
    "for y_cat, y_cont in dl:\n",
    "    print(y_cat.shape, y_cont.shape)\n",
    "    break\n",
    "\n",
    "generator = nn.Sequential(nn.Linear(100, 50), nn.BatchNorm1d(50), nn.ReLU(), nn.Linear(50, 10), nn.BatchNorm1d(10), nn.ReLU())\n",
    "discriminator = nn.Sequential(nn.Linear(10, 50), nn.BatchNorm1d(50), nn.ReLU(), nn.Linear(50, 1), nn.BatchNorm1d(1), nn.ReLU())\n",
    "gen_optim = torch.optim.RMSprop(generator.parameters())\n",
    "dis_optim = torch.optim.RMSprop(discriminator.parameters())\n",
    "gan = W_Gan(generator, discriminator, gen_optim, dis_optim)\n",
    "learn = GanLearner(gan)\n",
    "learn.fit(dl)"
   ]
  }
 ],
 "metadata": {
  "kernelspec": {
   "display_name": "Python 3 (ipykernel)",
   "language": "python",
   "name": "python3"
  },
  "language_info": {
   "codemirror_mode": {
    "name": "ipython",
    "version": 3
   },
   "file_extension": ".py",
   "mimetype": "text/x-python",
   "name": "python",
   "nbconvert_exporter": "python",
   "pygments_lexer": "ipython3",
   "version": "3.9.7"
  }
 },
 "nbformat": 4,
 "nbformat_minor": 4
}
