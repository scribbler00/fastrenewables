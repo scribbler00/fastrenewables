{
 "cells": [
  {
   "cell_type": "code",
   "execution_count": 1,
   "metadata": {},
   "outputs": [],
   "source": [
    "# default_exp gan.learner"
   ]
  },
  {
   "cell_type": "markdown",
   "metadata": {},
   "source": [
    "# gan.learner\n",
    "\n",
    "> API details."
   ]
  },
  {
   "cell_type": "code",
   "execution_count": 2,
   "metadata": {},
   "outputs": [],
   "source": [
    "# export\n",
    "\n",
    "import torch\n",
    "import torch.nn as nn\n",
    "import matplotlib.pyplot as plt\n",
    "\n",
    "from tqdm import tqdm\n",
    "from fastai.basics import set_seed\n",
    "from fastrenewables.synthetic_data import *\n",
    "from fastrenewables.gan.model import *\n",
    "from fastrenewables.tabular.model import EmbeddingModule\n",
    "\n",
    "import torch.nn.functional as F\n",
    "\n",
    "#import glob"
   ]
  },
  {
   "cell_type": "code",
   "execution_count": 3,
   "metadata": {},
   "outputs": [],
   "source": [
    "# export\n",
    "\n",
    "class GANLearner():\n",
    "    def __init__(self, gan, n_gen=1, n_dis=1):\n",
    "        super(GANLearner, self).__init__()\n",
    "        # gan should contain a class which itself contains a generator and discriminator/critic class and combines them\n",
    "        self.gan = gan\n",
    "        self.n_gen = n_gen\n",
    "        self.n_dis = n_dis\n",
    "   \n",
    "    def generate_samples(self, x_cat, x_cont):\n",
    "        z = self.gan.noise(x_cont)\n",
    "        fake_samples = self.gan.generator(x_cat, z).detach()\n",
    "        return fake_samples\n",
    "    \n",
    "    def fit(self, dl, epochs=10, lr=1e-3, plot_epochs=10, save_model=False):\n",
    "        \n",
    "        self.gan.to_device(torch.device('cuda') if torch.cuda.is_available() else torch.device('cpu'))\n",
    "        self.gan.gen_optim.param_groups[0]['lr'] = lr\n",
    "        self.gan.dis_optim.param_groups[0]['lr'] = lr\n",
    "        \n",
    "        for e in tqdm(range(epochs)):\n",
    "            for x_cat, x_cont, y in dl:\n",
    "                x_cat = x_cat.to(self.gan.device).long()\n",
    "                x_cont = x_cont.to(self.gan.device)\n",
    "                y = y.to(self.gan.device)\n",
    "                                \n",
    "                for _ in range(self.n_dis):\n",
    "                    self.gan.train_discriminator(x_cat, x_cont, y)\n",
    "\n",
    "                for _ in range(self.n_gen):\n",
    "                    self.gan.train_generator(x_cat, x_cont, y)\n",
    "                \n",
    "            if (e+1)%plot_epochs==0:\n",
    "                plt.figure()\n",
    "                plt.plot(self.gan.real_loss, label='Real Loss')\n",
    "                plt.plot(self.gan.fake_loss, label='Fake Loss')\n",
    "                if len(self.gan.aux_loss) > 0:\n",
    "                    plt.plot(self.gan.aux_loss, label='Aux Loss')\n",
    "                plt.legend()\n",
    "                plt.show()\n",
    "        \n",
    "        if save_model:\n",
    "            self.gan.to_device('cpu')\n",
    "        \n",
    "        return"
   ]
  },
  {
   "cell_type": "markdown",
   "metadata": {},
   "source": [
    "### Examples:"
   ]
  },
  {
   "cell_type": "code",
   "execution_count": 4,
   "metadata": {},
   "outputs": [
    {
     "name": "stdout",
     "output_type": "stream",
     "text": [
      "GAN(\n",
      "  (generator): GANMLP(\n",
      "    (embedding_module): EmbeddingModule(\n",
      "      (embeddings): ModuleList(\n",
      "        (0): Embedding(3, 3)\n",
      "      )\n",
      "    )\n",
      "    (model): Sequential(\n",
      "      (0): Sequential(\n",
      "        (0): Linear(in_features=13, out_features=256, bias=True)\n",
      "        (1): BatchNorm1d(256, eps=1e-05, momentum=0.1, affine=True, track_running_stats=True)\n",
      "        (2): ReLU()\n",
      "      )\n",
      "      (1): Sequential(\n",
      "        (0): Linear(in_features=256, out_features=256, bias=True)\n",
      "        (1): BatchNorm1d(256, eps=1e-05, momentum=0.1, affine=True, track_running_stats=True)\n",
      "        (2): ReLU()\n",
      "      )\n",
      "      (2): Sequential(\n",
      "        (0): Linear(in_features=256, out_features=1, bias=True)\n",
      "      )\n",
      "      (3): Sigmoid()\n",
      "    )\n",
      "  )\n",
      "  (discriminator): AuxiliaryDiscriminator(\n",
      "    (basic_discriminator): GANMLP(\n",
      "      (model): Sequential(\n",
      "        (0): Sequential(\n",
      "          (0): Linear(in_features=1, out_features=256, bias=True)\n",
      "          (1): LeakyReLU(negative_slope=0.01)\n",
      "        )\n",
      "        (1): Sequential(\n",
      "          (0): Linear(in_features=256, out_features=256, bias=True)\n",
      "        )\n",
      "        (2): Sigmoid()\n",
      "      )\n",
      "    )\n",
      "    (adv_layer): Sequential(\n",
      "      (0): Linear(in_features=256, out_features=1, bias=True)\n",
      "      (1): Sigmoid()\n",
      "    )\n",
      "    (aux_layer): Sequential(\n",
      "      (0): Linear(in_features=256, out_features=2, bias=True)\n",
      "      (1): Softmax(dim=1)\n",
      "    )\n",
      "  )\n",
      "  (bce_loss): BCELoss()\n",
      "  (auxiliary_loss_function): CrossEntropyLoss()\n",
      ")\n"
     ]
    }
   ],
   "source": [
    "set_seed(1337)\n",
    "\n",
    "n_samples = 1024*10\n",
    "n_classes = 2\n",
    "n_features = 1\n",
    "batch_size = 1024\n",
    "n_z = 10\n",
    "n_in = n_features\n",
    "n_hidden = 256\n",
    "epochs = 10\n",
    "lr = 5e-5\n",
    "n_gen = 1\n",
    "n_dis = 1\n",
    "aux_factor = 1\n",
    "\n",
    "data = GaussianDataset(n_samples, n_classes)\n",
    "dl = torch.utils.data.DataLoader(data, batch_size=batch_size, shuffle=True, drop_last=True)\n",
    "\n",
    "emb = EmbeddingModule(categorical_dimensions=[n_classes+1])\n",
    "\n",
    "model = get_gan_model(gan_type='aux', structure=[n_z, n_hidden, n_hidden, n_in], n_classes=n_classes, emb_module=emb, bn=True, aux_factor=aux_factor)\n",
    "print(model)\n",
    "\n",
    "learner = GANLearner(gan=model, n_gen=n_gen, n_dis=n_dis)"
   ]
  },
  {
   "cell_type": "code",
   "execution_count": 5,
   "metadata": {},
   "outputs": [
    {
     "name": "stderr",
     "output_type": "stream",
     "text": [
      " 90%|█████████ | 9/10 [00:03<00:00,  3.14it/s]"
     ]
    },
    {
     "data": {
      "image/png": "[encoded data removed]",
      "text/plain": [
       "<Figure size 432x288 with 1 Axes>"
      ]
     },
     "metadata": {
      "needs_background": "light"
     },
     "output_type": "display_data"
    },
    {
     "name": "stderr",
     "output_type": "stream",
     "text": [
      "100%|██████████| 10/10 [00:03<00:00,  2.71it/s]\n"
     ]
    },
    {
     "name": "stdout",
     "output_type": "stream",
     "text": [
      "distribution of real data:\n"
     ]
    },
    {
     "data": {
      "image/png": "[encoded data removed]",
      "text/plain": [
       "<Figure size 432x288 with 1 Axes>"
      ]
     },
     "metadata": {
      "needs_background": "light"
     },
     "output_type": "display_data"
    },
    {
     "name": "stdout",
     "output_type": "stream",
     "text": [
      "distribution of generated data:\n"
     ]
    },
    {
     "data": {
      "image/png": "[encoded data removed]",
      "text/plain": [
       "<Figure size 432x288 with 1 Axes>"
      ]
     },
     "metadata": {
      "needs_background": "light"
     },
     "output_type": "display_data"
    },
    {
     "data": {
      "text/plain": [
       "tensor(316.9567)"
      ]
     },
     "execution_count": 5,
     "metadata": {},
     "output_type": "execute_result"
    }
   ],
   "source": [
    "learner.fit(dl, epochs=epochs, lr=lr, plot_epochs=epochs, save_model=True)\n",
    "\n",
    "for x_cat, x_cont, y in dl:\n",
    "    x_fake = learner.generate_samples(x_cat.long(), x_cont)\n",
    "\n",
    "    print('distribution of real data:')\n",
    "    plot_class_hists(x_cat, x_cont)\n",
    "\n",
    "    print('distribution of generated data:')\n",
    "    plot_class_hists(x_cat, x_fake.detach())\n",
    "    break\n",
    "\n",
    "real_d = torch.distributions.Normal(x_cont.mean(), x_cont.var()).log_prob(torch.linspace(0, 1, 1000))\n",
    "fake_d = torch.distributions.Normal(x_fake.mean(), x_fake.var()).log_prob(torch.linspace(0, 1, 1000))\n",
    "\n",
    "pq = F.kl_div(real_d, fake_d, reduction='batchmean', log_target=True)\n",
    "qp = F.kl_div(fake_d, real_d, reduction='batchmean', log_target=True)\n",
    "\n",
    "kl_div = (pq+qp)/2\n",
    "kl_div"
   ]
  },
  {
   "cell_type": "code",
   "execution_count": null,
   "metadata": {},
   "outputs": [],
   "source": []
  }
 ],
 "metadata": {
  "kernelspec": {
   "display_name": "Python 3 (ipykernel)",
   "language": "python",
   "name": "python3"
  },
  "language_info": {
   "codemirror_mode": {
    "name": "ipython",
    "version": 3
   },
   "file_extension": ".py",
   "mimetype": "text/x-python",
   "name": "python",
   "nbconvert_exporter": "python",
   "pygments_lexer": "ipython3",
   "version": "3.8.12"
  }
 },
 "nbformat": 4,
 "nbformat_minor": 4
}
