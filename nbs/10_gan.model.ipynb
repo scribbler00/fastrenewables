{
 "cells": [
  {
   "cell_type": "code",
   "execution_count": 1,
   "metadata": {},
   "outputs": [],
   "source": [
    "# default_exp gan.model"
   ]
  },
  {
   "cell_type": "markdown",
   "metadata": {},
   "source": [
    "# gan.model\n",
    "\n",
    "> API details."
   ]
  },
  {
   "cell_type": "code",
   "execution_count": 2,
   "metadata": {},
   "outputs": [],
   "source": [
    "# export\n",
    "\n",
    "import numpy as np\n",
    "import torch\n",
    "import torch.nn as nn\n",
    "import matplotlib.pyplot as plt\n",
    "\n",
    "from functools import partial\n",
    "from torch.nn import BCELoss, CrossEntropyLoss, MSELoss\n",
    "from tqdm import tqdm\n",
    "\n",
    "from fastrenewables.synthetic_data import GaussianDataset, plot_class_hists\n",
    "from fastrenewables.timeseries.model import TemporalCNN\n",
    "from fastrenewables.tabular.model import EmbeddingModule"
   ]
  },
  {
   "cell_type": "code",
   "execution_count": 3,
   "metadata": {},
   "outputs": [],
   "source": [
    "# hide\n",
    "\n",
    "n_samples = 1024\n",
    "n_classes = 2\n",
    "n_features = 1\n",
    "batch_size = 256\n",
    "n_z = 100\n",
    "n_in = n_features\n",
    "n_hidden = 64\n",
    "epochs = 100\n",
    "\n",
    "data = GaussianDataset(n_samples, n_classes)\n",
    "dl = torch.utils.data.DataLoader(data, batch_size=batch_size, shuffle=True, drop_last=True)\n",
    "\n",
    "emb = EmbeddingModule(categorical_dimensions=[n_classes+1])"
   ]
  },
  {
   "cell_type": "markdown",
   "metadata": {},
   "source": [
    "### functions:"
   ]
  },
  {
   "cell_type": "code",
   "execution_count": 4,
   "metadata": {},
   "outputs": [],
   "source": [
    "# export\n",
    "\n",
    "def flatten_ts(x):\n",
    "    \"\"\"assumes matrix of shape (n_samples, n_features, ts_length)\"\"\"\n",
    "    if len(x.shape) in [1,2]:\n",
    "        return x\n",
    "\n",
    "    n_samples, n_features, ts_length = x.shape\n",
    "\n",
    "    if isinstance(x, np.ndarray):\n",
    "        x = x.swapaxes(1,2)\n",
    "    else:\n",
    "        x = x.permute(0,2,1)\n",
    "    x = x.reshape(n_samples*ts_length, n_features)\n",
    "    return x"
   ]
  },
  {
   "cell_type": "code",
   "execution_count": 5,
   "metadata": {},
   "outputs": [],
   "source": [
    "# export\n",
    "\n",
    "def LinBnAct(si, so, use_bn, act_cls):\n",
    "    layers = [nn.Linear(si, so)]\n",
    "    if use_bn:\n",
    "        layers += [nn.BatchNorm1d(so)]\n",
    "    if act_cls is not None:\n",
    "        layers += [act_cls]\n",
    "    \n",
    "    return nn.Sequential(*layers)"
   ]
  },
  {
   "cell_type": "markdown",
   "metadata": {},
   "source": [
    "### models:"
   ]
  },
  {
   "cell_type": "code",
   "execution_count": 6,
   "metadata": {},
   "outputs": [],
   "source": [
    "# export\n",
    "\n",
    "class GANMLP(torch.nn.Module):\n",
    "    def __init__(self, ann_structure, bn_cont=False, act_fct=torch.nn.ReLU, final_act_fct=nn.Sigmoid, embedding_module=None, transpose=False):\n",
    "        super(GANMLP, self).__init__()\n",
    "        \n",
    "        n_cont = ann_structure[0]\n",
    "        if embedding_module is not None:\n",
    "            emb_sz = []\n",
    "            ann_structure[0] = ann_structure[0] + embedding_module.no_of_embeddings\n",
    "\n",
    "        self.embedding_module = embedding_module\n",
    "        \n",
    "        layers = []\n",
    "        for idx in range(1, len(ann_structure)):\n",
    "            cur_use_bn = bn_cont\n",
    "            cur_act_fct = act_fct()\n",
    "            if idx == 1 and not bn_cont:\n",
    "                cur_use_bn = False\n",
    "            if idx == len(ann_structure)-1:\n",
    "                cur_act_fct = None\n",
    "                #cur_use_bn = False\n",
    "                \n",
    "            layer = LinBnAct(ann_structure[idx-1], ann_structure[idx], cur_use_bn, cur_act_fct)\n",
    "            layers.append(layer)\n",
    "        if final_act_fct is not None:\n",
    "            layers.append(final_act_fct())\n",
    "        \n",
    "        self.model = nn.Sequential(*layers)\n",
    "\n",
    "    def forward(self, x_cat, x_cont):\n",
    "        if self.embedding_module is not None:\n",
    "            x_cat = self.embedding_module(x_cat)\n",
    "            x_cont = torch.cat([x_cat, x_cont], 1)\n",
    "        \n",
    "        return self.model(x_cont)"
   ]
  },
  {
   "cell_type": "code",
   "execution_count": 7,
   "metadata": {},
   "outputs": [
    {
     "name": "stdout",
     "output_type": "stream",
     "text": [
      "GANMLP(\n",
      "  (embedding_module): EmbeddingModule(\n",
      "    (embeddings): ModuleList(\n",
      "      (0): Embedding(3, 3)\n",
      "    )\n",
      "  )\n",
      "  (model): Sequential(\n",
      "    (0): Sequential(\n",
      "      (0): Linear(in_features=4, out_features=64, bias=True)\n",
      "      (1): BatchNorm1d(64, eps=1e-05, momentum=0.1, affine=True, track_running_stats=True)\n",
      "      (2): ReLU()\n",
      "    )\n",
      "    (1): Sequential(\n",
      "      (0): Linear(in_features=64, out_features=1, bias=True)\n",
      "      (1): BatchNorm1d(1, eps=1e-05, momentum=0.1, affine=True, track_running_stats=True)\n",
      "    )\n",
      "    (2): Sigmoid()\n",
      "  )\n",
      ")\n"
     ]
    },
    {
     "name": "stderr",
     "output_type": "stream",
     "text": [
      "100%|██████████| 10/10 [00:00<00:00, 14.23it/s]\n"
     ]
    },
    {
     "data": {
      "image/png": "[encoded data removed]",
      "text/plain": [
       "<Figure size 432x288 with 1 Axes>"
      ]
     },
     "metadata": {
      "needs_background": "light"
     },
     "output_type": "display_data"
    }
   ],
   "source": [
    "# hide\n",
    "\n",
    "model = GANMLP(ann_structure=[n_in, n_hidden, 1], embedding_module=emb, bn_cont=True)\n",
    "print(model)\n",
    "opt = torch.optim.Adam(params=model.parameters())\n",
    "loss = torch.nn.MSELoss()\n",
    "\n",
    "errors = []\n",
    "\n",
    "for epoch in tqdm(range(10)):\n",
    "    for x_cat, x_cont, y in dl:\n",
    "        opt.zero_grad()\n",
    "        pred = model(x_cat.long(), x_cont)\n",
    "        error = loss(pred, y)\n",
    "        error.backward()\n",
    "        opt.step()\n",
    "    errors.append(error.item())\n",
    "    \n",
    "assert(errors[0] > errors[-1]) \n",
    "\n",
    "plt.figure()\n",
    "plt.plot(errors)\n",
    "plt.show()"
   ]
  },
  {
   "cell_type": "code",
   "execution_count": 8,
   "metadata": {},
   "outputs": [],
   "source": [
    "# export\n",
    "    \n",
    "class GAN(nn.Module):\n",
    "    \n",
    "    def __init__(self, generator, discriminator, gen_optim, dis_optim, n_z=100, auxiliary=False, auxiliary_weighting_factor=1):\n",
    "        super(GAN, self).__init__()\n",
    "        self.generator = generator\n",
    "        self.discriminator = discriminator\n",
    "        self.gen_optim = gen_optim\n",
    "        self.dis_optim = dis_optim\n",
    "        self.n_z = n_z\n",
    "        self.real_loss = []\n",
    "        self.fake_loss = []\n",
    "        self.aux_loss = []\n",
    "        self.auxiliary = auxiliary\n",
    "        self.bce_loss = BCELoss()\n",
    "        self.auxiliary_loss_function = CrossEntropyLoss()\n",
    "        self.auxiliary_weighting_factor=auxiliary_weighting_factor\n",
    "        self.device = torch.device('cuda') if torch.cuda.is_available() else torch.device('cpu')\n",
    "        self.to_device(self.device)\n",
    "        \n",
    "    def noise(self, x):\n",
    "        z = torch.randn(x.shape[0], self.n_z).to(self.device)\n",
    "        return z\n",
    "    \n",
    "    def to_device(self, device):\n",
    "        self.device = device\n",
    "        self.generator = self.generator.to(device)\n",
    "        self.discriminator = self.discriminator.to(device)\n",
    "        self.bce_loss = self.bce_loss.to(device)\n",
    "        self.auxiliary_loss_function = self.auxiliary_loss_function.to(device)\n",
    "        \n",
    "    def _split_pred(self, y):\n",
    "        if self.auxiliary:\n",
    "            y, class_probs = y\n",
    "        else:\n",
    "            y, class_probs = y, None\n",
    "        return y, class_probs\n",
    "    \n",
    "    def auxiliary_loss(self, class_probs, y):\n",
    "        return self.auxiliary_loss_function(class_probs, y.long().squeeze())*self.auxiliary_weighting_factor\n",
    "    \n",
    "    def train_generator(self, x_cat, x_cont, y):\n",
    "        z = self.noise(x_cont)\n",
    "        self.generator.zero_grad()\n",
    "        x_cont_fake = self.generator(x_cat, z)\n",
    "        y_fake = self.discriminator(None, x_cont_fake)  \n",
    "        y_fake, class_probs = self._split_pred(y_fake)\n",
    "        loss = self.bce_loss(y_fake, torch.ones_like(y_fake))\n",
    "        if self.auxiliary:\n",
    "            aux_loss = self.auxiliary_loss(class_probs, y)\n",
    "            loss = (loss + aux_loss)#2\n",
    "        loss.backward()\n",
    "        self.gen_optim.step()\n",
    "        return\n",
    "    \n",
    "    def train_discriminator(self, x_cat, x_cont, y):\n",
    "        z = self.noise(x_cont)\n",
    "        self.discriminator.zero_grad()\n",
    "        y_real = self.discriminator(None, x_cont)\n",
    "        y_real, class_probs = self._split_pred(y_real)\n",
    "        real_loss = self.bce_loss(y_real, torch.ones_like(y_real))\n",
    "        if self.auxiliary:\n",
    "            aux_loss = self.auxiliary_loss(class_probs, y)\n",
    "            self.aux_loss.append(aux_loss)\n",
    "            real_loss = (real_loss + aux_loss)#/2\n",
    "        \n",
    "        real_loss.backward()\n",
    "        self.dis_optim.step()\n",
    "        self.real_loss.append(real_loss.item())\n",
    "        \n",
    "        z = self.noise(x_cont)\n",
    "        self.discriminator.zero_grad()\n",
    "        x_cont_fake = self.generator(x_cat, z).detach()\n",
    "        y_fake = self.discriminator(None, x_cont_fake)\n",
    "        y_fake, class_probs = self._split_pred(y_fake)\n",
    "        \n",
    "        fake_loss =  self.bce_loss(y_fake, torch.zeros_like(y_fake))\n",
    "        if self.auxiliary:\n",
    "            aux_loss = self.auxiliary_loss(class_probs, y)\n",
    "            fake_loss = (fake_loss + aux_loss)#/2\n",
    "            \n",
    "        fake_loss.backward()\n",
    "        self.dis_optim.step()\n",
    "        self.fake_loss.append(fake_loss.item())\n",
    "        return\n",
    "    \n",
    "    def forward(self, x_cat, x_cont):\n",
    "        z = self.noise(x_cont)\n",
    "        x_gen = self.generator(x_cat, z)\n",
    "        assert(x_gen.shape == x_cont.shape)\n",
    "        y = self.discriminator(None, x_gen)\n",
    "        out = self._split_pred(y)\n",
    "        return out"
   ]
  },
  {
   "cell_type": "code",
   "execution_count": 9,
   "metadata": {},
   "outputs": [],
   "source": [
    "# export\n",
    "\n",
    "class WGAN(GAN):\n",
    "    def __init__(self, generator, discriminator, gen_optim, dis_optim, n_z=100, clip=0.01, auxiliary=False):\n",
    "        super(WGAN, self).__init__(generator, discriminator, gen_optim, dis_optim, n_z, clip, auxiliary)\n",
    "        self.generator = generator\n",
    "        self.discriminator = discriminator\n",
    "        self.gen_optim = gen_optim\n",
    "        self.dis_optim = dis_optim\n",
    "        self.n_z = n_z\n",
    "        self.clip = clip\n",
    "        self.auxiliary = auxiliary\n",
    "        self.real_loss = []\n",
    "        self.fake_loss = []\n",
    "        \n",
    "    def train_generator(self, x_cat, x_cont, y):\n",
    "        z = self.noise(x_cont)\n",
    "        self.generator.zero_grad()\n",
    "        x_cont_fake = self.generator(x_cat, z)\n",
    "        y_fake = self.discriminator(None, x_cont_fake)\n",
    "        loss = - y_fake.mean()\n",
    "        loss.backward()\n",
    "        self.gen_optim.step()\n",
    "        return\n",
    "    \n",
    "    def train_discriminator(self, x_cat, x_cont, y):\n",
    "        z = self.noise(x_cont)\n",
    "        self.discriminator.zero_grad()\n",
    "        y_real = self.discriminator(None, x_cont)\n",
    "        real_loss = - y_real.mean()\n",
    "        real_loss.backward()\n",
    "        self.dis_optim.step()\n",
    "        self.real_loss.append(real_loss.item())\n",
    "        \n",
    "        z = self.noise(x_cont)\n",
    "        self.discriminator.zero_grad()\n",
    "        x_cont_fake = self.generator(x_cat, z).detach()\n",
    "        y_fake = self.discriminator(None, x_cont_fake)\n",
    "        fake_loss = y_fake.mean()\n",
    "        fake_loss.backward()\n",
    "        self.dis_optim.step()\n",
    "        self.fake_loss.append(fake_loss.item())\n",
    "        \n",
    "        for p in self.discriminator.parameters():\n",
    "            p = torch.clamp(p, -self.clip, self.clip)\n",
    "        return"
   ]
  },
  {
   "cell_type": "code",
   "execution_count": 10,
   "metadata": {},
   "outputs": [],
   "source": [
    "#export    \n",
    "\n",
    "class AuxiliaryDiscriminator(torch.nn.Module):\n",
    "    def __init__(self, basic_discriminator, n_classes, final_input_size, len_ts=1, bn=False):\n",
    "        super(AuxiliaryDiscriminator, self).__init__()\n",
    "        self.basic_discriminator = basic_discriminator\n",
    "        self.n_classes = n_classes\n",
    "        self.final_input_size = final_input_size\n",
    "        self.len_ts = len_ts\n",
    "        \n",
    "        self.adv_layer = nn.Sequential(nn.Linear(self.final_input_size*len_ts, 1), nn.BatchNorm1d(1) ,nn.Sigmoid())\n",
    "        self.aux_layer = nn.Sequential(nn.Linear(self.final_input_size*len_ts, n_classes), nn.BatchNorm1d(n_classes), nn.Softmax(dim=1))   \n",
    "        \n",
    "    def forward(self, cats, conts):\n",
    "        out = self.basic_discriminator(cats, conts)\n",
    "        validity = self.adv_layer(out)\n",
    "        label = self.aux_layer(out)\n",
    "        return (validity, label)"
   ]
  },
  {
   "cell_type": "code",
   "execution_count": 11,
   "metadata": {},
   "outputs": [],
   "source": [
    "# export\n",
    "\n",
    "def get_gan_model(gan_type, structure, n_classes=2, emb_module=None, bn=False):\n",
    "    gen_structure = structure.copy()\n",
    "    structure.reverse()\n",
    "    dis_structure = structure\n",
    "    dis_structure[-1] = 1\n",
    "    n_z = gen_structure[0]\n",
    "    \n",
    "    if gan_type == 'bce' or gan_type == 'aux':\n",
    "        final_act_dis = nn.Sigmoid\n",
    "        opt_fct = torch.optim.Adam\n",
    "        gan_class = GAN\n",
    "    elif gan_type == 'wgan':\n",
    "        final_act_dis = None\n",
    "        opt_fct = torch.optim.RMSprop\n",
    "        gan_class = WGAN\n",
    "       \n",
    "    generator = GANMLP(ann_structure=gen_structure, act_fct=nn.ReLU, final_act_fct=nn.Sigmoid, transpose=True, embedding_module=emb_module, bn_cont=bn)\n",
    "    if gan_type == 'aux':\n",
    "        auxiliary = True\n",
    "        dis_structure = dis_structure[:-1]\n",
    "        final_input_size = dis_structure[-1]\n",
    "        discriminator = GANMLP(ann_structure=dis_structure, act_fct=nn.LeakyReLU, final_act_fct=final_act_dis, bn_cont=bn)\n",
    "        discriminator = AuxiliaryDiscriminator(basic_discriminator=discriminator, n_classes=n_classes, final_input_size=final_input_size)  \n",
    "    else:\n",
    "        auxiliary = False\n",
    "        discriminator = GANMLP(ann_structure=dis_structure, act_fct=nn.LeakyReLU, final_act_fct=final_act_dis, bn_cont=bn)\n",
    "        \n",
    "    gen_opt = opt_fct(params=generator.parameters())\n",
    "    dis_opt = opt_fct(params=discriminator.parameters())\n",
    "    model = gan_class(generator=generator, discriminator=discriminator, gen_optim=gen_opt, dis_optim=dis_opt, n_z=n_z, auxiliary=auxiliary)\n",
    "\n",
    "    return model"
   ]
  },
  {
   "cell_type": "code",
   "execution_count": 12,
   "metadata": {},
   "outputs": [
    {
     "name": "stdout",
     "output_type": "stream",
     "text": [
      "bce\n",
      "GAN(\n",
      "  (generator): GANMLP(\n",
      "    (embedding_module): EmbeddingModule(\n",
      "      (embeddings): ModuleList(\n",
      "        (0): Embedding(3, 3)\n",
      "      )\n",
      "    )\n",
      "    (model): Sequential(\n",
      "      (0): Sequential(\n",
      "        (0): Linear(in_features=103, out_features=64, bias=True)\n",
      "        (1): BatchNorm1d(64, eps=1e-05, momentum=0.1, affine=True, track_running_stats=True)\n",
      "        (2): ReLU()\n",
      "      )\n",
      "      (1): Sequential(\n",
      "        (0): Linear(in_features=64, out_features=64, bias=True)\n",
      "        (1): BatchNorm1d(64, eps=1e-05, momentum=0.1, affine=True, track_running_stats=True)\n",
      "        (2): ReLU()\n",
      "      )\n",
      "      (2): Sequential(\n",
      "        (0): Linear(in_features=64, out_features=1, bias=True)\n",
      "        (1): BatchNorm1d(1, eps=1e-05, momentum=0.1, affine=True, track_running_stats=True)\n",
      "      )\n",
      "      (3): Sigmoid()\n",
      "    )\n",
      "  )\n",
      "  (discriminator): GANMLP(\n",
      "    (model): Sequential(\n",
      "      (0): Sequential(\n",
      "        (0): Linear(in_features=1, out_features=64, bias=True)\n",
      "        (1): BatchNorm1d(64, eps=1e-05, momentum=0.1, affine=True, track_running_stats=True)\n",
      "        (2): LeakyReLU(negative_slope=0.01)\n",
      "      )\n",
      "      (1): Sequential(\n",
      "        (0): Linear(in_features=64, out_features=64, bias=True)\n",
      "        (1): BatchNorm1d(64, eps=1e-05, momentum=0.1, affine=True, track_running_stats=True)\n",
      "        (2): LeakyReLU(negative_slope=0.01)\n",
      "      )\n",
      "      (2): Sequential(\n",
      "        (0): Linear(in_features=64, out_features=1, bias=True)\n",
      "        (1): BatchNorm1d(1, eps=1e-05, momentum=0.1, affine=True, track_running_stats=True)\n",
      "      )\n",
      "      (3): Sigmoid()\n",
      "    )\n",
      "  )\n",
      "  (bce_loss): BCELoss()\n",
      "  (auxiliary_loss_function): CrossEntropyLoss()\n",
      ")\n"
     ]
    },
    {
     "name": "stderr",
     "output_type": "stream",
     "text": [
      "100%|██████████| 100/100 [00:10<00:00,  9.32it/s]\n"
     ]
    },
    {
     "data": {
      "image/png": "[encoded data removed]",
      "text/plain": [
       "<Figure size 432x288 with 1 Axes>"
      ]
     },
     "metadata": {
      "needs_background": "light"
     },
     "output_type": "display_data"
    },
    {
     "name": "stdout",
     "output_type": "stream",
     "text": [
      "distribution of real data:\n"
     ]
    },
    {
     "data": {
      "image/png": "[encoded data removed]",
      "text/plain": [
       "<Figure size 432x288 with 1 Axes>"
      ]
     },
     "metadata": {
      "needs_background": "light"
     },
     "output_type": "display_data"
    },
    {
     "name": "stdout",
     "output_type": "stream",
     "text": [
      "distribution of generated data:\n"
     ]
    },
    {
     "data": {
      "image/png": "[encoded data removed]",
      "text/plain": [
       "<Figure size 432x288 with 1 Axes>"
      ]
     },
     "metadata": {
      "needs_background": "light"
     },
     "output_type": "display_data"
    },
    {
     "name": "stdout",
     "output_type": "stream",
     "text": [
      "aux\n",
      "GAN(\n",
      "  (generator): GANMLP(\n",
      "    (embedding_module): EmbeddingModule(\n",
      "      (embeddings): ModuleList(\n",
      "        (0): Embedding(3, 3)\n",
      "      )\n",
      "    )\n",
      "    (model): Sequential(\n",
      "      (0): Sequential(\n",
      "        (0): Linear(in_features=103, out_features=64, bias=True)\n",
      "        (1): BatchNorm1d(64, eps=1e-05, momentum=0.1, affine=True, track_running_stats=True)\n",
      "        (2): ReLU()\n",
      "      )\n",
      "      (1): Sequential(\n",
      "        (0): Linear(in_features=64, out_features=64, bias=True)\n",
      "        (1): BatchNorm1d(64, eps=1e-05, momentum=0.1, affine=True, track_running_stats=True)\n",
      "        (2): ReLU()\n",
      "      )\n",
      "      (2): Sequential(\n",
      "        (0): Linear(in_features=64, out_features=1, bias=True)\n",
      "        (1): BatchNorm1d(1, eps=1e-05, momentum=0.1, affine=True, track_running_stats=True)\n",
      "      )\n",
      "      (3): Sigmoid()\n",
      "    )\n",
      "  )\n",
      "  (discriminator): AuxiliaryDiscriminator(\n",
      "    (basic_discriminator): GANMLP(\n",
      "      (model): Sequential(\n",
      "        (0): Sequential(\n",
      "          (0): Linear(in_features=1, out_features=64, bias=True)\n",
      "          (1): BatchNorm1d(64, eps=1e-05, momentum=0.1, affine=True, track_running_stats=True)\n",
      "          (2): LeakyReLU(negative_slope=0.01)\n",
      "        )\n",
      "        (1): Sequential(\n",
      "          (0): Linear(in_features=64, out_features=64, bias=True)\n",
      "          (1): BatchNorm1d(64, eps=1e-05, momentum=0.1, affine=True, track_running_stats=True)\n",
      "        )\n",
      "        (2): Sigmoid()\n",
      "      )\n",
      "    )\n",
      "    (adv_layer): Sequential(\n",
      "      (0): Linear(in_features=64, out_features=1, bias=True)\n",
      "      (1): BatchNorm1d(1, eps=1e-05, momentum=0.1, affine=True, track_running_stats=True)\n",
      "      (2): Sigmoid()\n",
      "    )\n",
      "    (aux_layer): Sequential(\n",
      "      (0): Linear(in_features=64, out_features=2, bias=True)\n",
      "      (1): BatchNorm1d(2, eps=1e-05, momentum=0.1, affine=True, track_running_stats=True)\n",
      "      (2): Softmax(dim=1)\n",
      "    )\n",
      "  )\n",
      "  (bce_loss): BCELoss()\n",
      "  (auxiliary_loss_function): CrossEntropyLoss()\n",
      ")\n"
     ]
    },
    {
     "name": "stderr",
     "output_type": "stream",
     "text": [
      "100%|██████████| 100/100 [00:12<00:00,  8.13it/s]\n"
     ]
    },
    {
     "data": {
      "image/png": "[encoded data removed]",
      "text/plain": [
       "<Figure size 432x288 with 1 Axes>"
      ]
     },
     "metadata": {
      "needs_background": "light"
     },
     "output_type": "display_data"
    },
    {
     "name": "stdout",
     "output_type": "stream",
     "text": [
      "distribution of real data:\n"
     ]
    },
    {
     "data": {
      "image/png": "[encoded data removed]",
      "text/plain": [
       "<Figure size 432x288 with 1 Axes>"
      ]
     },
     "metadata": {
      "needs_background": "light"
     },
     "output_type": "display_data"
    },
    {
     "name": "stdout",
     "output_type": "stream",
     "text": [
      "distribution of generated data:\n"
     ]
    },
    {
     "data": {
      "image/png": "[encoded data removed]",
      "text/plain": [
       "<Figure size 432x288 with 1 Axes>"
      ]
     },
     "metadata": {
      "needs_background": "light"
     },
     "output_type": "display_data"
    },
    {
     "name": "stdout",
     "output_type": "stream",
     "text": [
      "wgan\n",
      "WGAN(\n",
      "  (generator): GANMLP(\n",
      "    (embedding_module): EmbeddingModule(\n",
      "      (embeddings): ModuleList(\n",
      "        (0): Embedding(3, 3)\n",
      "      )\n",
      "    )\n",
      "    (model): Sequential(\n",
      "      (0): Sequential(\n",
      "        (0): Linear(in_features=103, out_features=64, bias=True)\n",
      "        (1): BatchNorm1d(64, eps=1e-05, momentum=0.1, affine=True, track_running_stats=True)\n",
      "        (2): ReLU()\n",
      "      )\n",
      "      (1): Sequential(\n",
      "        (0): Linear(in_features=64, out_features=64, bias=True)\n",
      "        (1): BatchNorm1d(64, eps=1e-05, momentum=0.1, affine=True, track_running_stats=True)\n",
      "        (2): ReLU()\n",
      "      )\n",
      "      (2): Sequential(\n",
      "        (0): Linear(in_features=64, out_features=1, bias=True)\n",
      "        (1): BatchNorm1d(1, eps=1e-05, momentum=0.1, affine=True, track_running_stats=True)\n",
      "      )\n",
      "      (3): Sigmoid()\n",
      "    )\n",
      "  )\n",
      "  (discriminator): GANMLP(\n",
      "    (model): Sequential(\n",
      "      (0): Sequential(\n",
      "        (0): Linear(in_features=1, out_features=64, bias=True)\n",
      "        (1): BatchNorm1d(64, eps=1e-05, momentum=0.1, affine=True, track_running_stats=True)\n",
      "        (2): LeakyReLU(negative_slope=0.01)\n",
      "      )\n",
      "      (1): Sequential(\n",
      "        (0): Linear(in_features=64, out_features=64, bias=True)\n",
      "        (1): BatchNorm1d(64, eps=1e-05, momentum=0.1, affine=True, track_running_stats=True)\n",
      "        (2): LeakyReLU(negative_slope=0.01)\n",
      "      )\n",
      "      (2): Sequential(\n",
      "        (0): Linear(in_features=64, out_features=1, bias=True)\n",
      "        (1): BatchNorm1d(1, eps=1e-05, momentum=0.1, affine=True, track_running_stats=True)\n",
      "      )\n",
      "    )\n",
      "  )\n",
      "  (bce_loss): BCELoss()\n",
      "  (auxiliary_loss_function): CrossEntropyLoss()\n",
      ")\n"
     ]
    },
    {
     "name": "stderr",
     "output_type": "stream",
     "text": [
      "100%|██████████| 100/100 [00:09<00:00, 10.40it/s]\n"
     ]
    },
    {
     "data": {
      "image/png": "[encoded data removed]",
      "text/plain": [
       "<Figure size 432x288 with 1 Axes>"
      ]
     },
     "metadata": {
      "needs_background": "light"
     },
     "output_type": "display_data"
    },
    {
     "name": "stdout",
     "output_type": "stream",
     "text": [
      "distribution of real data:\n"
     ]
    },
    {
     "data": {
      "image/png": "[encoded data removed]",
      "text/plain": [
       "<Figure size 432x288 with 1 Axes>"
      ]
     },
     "metadata": {
      "needs_background": "light"
     },
     "output_type": "display_data"
    },
    {
     "name": "stdout",
     "output_type": "stream",
     "text": [
      "distribution of generated data:\n"
     ]
    },
    {
     "data": {
      "image/png": "[encoded data removed]",
      "text/plain": [
       "<Figure size 432x288 with 1 Axes>"
      ]
     },
     "metadata": {
      "needs_background": "light"
     },
     "output_type": "display_data"
    }
   ],
   "source": [
    "#hide\n",
    "\n",
    "for gan_type in ['bce', 'aux', 'wgan']:\n",
    "    print(gan_type)\n",
    "    model = get_gan_model(gan_type=gan_type, structure=[n_z, n_hidden, n_hidden, n_in], n_classes=2, emb_module=emb, bn=True)\n",
    "    print(model)    \n",
    "    for e in tqdm(range(epochs)):\n",
    "        for x_cat, x_cont, y in dl:\n",
    "            x_cat = x_cat.to(model.device).long()\n",
    "            x_cont = x_cont.to(model.device)\n",
    "            y = y.to(model.device)\n",
    "            model.train_discriminator(x_cat, x_cont, y)\n",
    "            model.train_generator(x_cat, x_cont, y)\n",
    "\n",
    "    plt.figure()\n",
    "    plt.plot(model.real_loss, label='Real Loss')\n",
    "    plt.plot(model.fake_loss, label='Fake Loss')\n",
    "    plt.plot([a.item() for a in model.aux_loss], label='Aux Loss')\n",
    "    plt.legend()\n",
    "    plt.show()\n",
    "\n",
    "    z = model.noise(x_cont)\n",
    "    x_fake = model.generator(x_cat, z)\n",
    "\n",
    "    print('distribution of real data:')\n",
    "    plot_class_hists(x_cat.cpu(), x_cont.cpu())\n",
    "\n",
    "    print('distribution of generated data:')\n",
    "    plot_class_hists(x_cat.cpu(), x_fake.cpu().detach())"
   ]
  },
  {
   "cell_type": "code",
   "execution_count": 13,
   "metadata": {},
   "outputs": [],
   "source": [
    "# export\n",
    "\n",
    "#class GANCNN(torch.nn.Module):\n",
    "#    def __init__(self, ann_structure, n_z=100, len_ts=1, bn_cont=False, act_fct=nn.ReLU, final_act_fct=nn.Sigmoid, embedding_module=None, transpose=False):\n",
    "#        super(GANCNN, self).__init__()\n",
    "#        \n",
    "#        self.conv_net = TemporalCNN(cnn_structure=ann_structure, batch_norm_cont=bn_cont, \n",
    "#                                    cnn_type='cnn', act_func=act_fct, \n",
    "#                                    # TODO: this is not the final layer\n",
    "#                                    final_activation=act_fct, transpose=transpose)\n",
    "#        self.transpose = transpose\n",
    "#        if self.transpose:\n",
    "#            if final_act_fct is not None:\n",
    "#                self.model_in = nn.Sequential(nn.Linear(n_z, ann_structure[0]*len_ts), final_act_fct(),\n",
    "#                                          nn.Unflatten(1, (ann_structure[0], len_ts))\n",
    "#                                         )\n",
    "#            else:\n",
    "#                self.model_in = nn.Sequential(nn.Linear(n_z, ann_structure[0]*len_ts),\n",
    "#                                          nn.Unflatten(1, (ann_structure[0], len_ts))\n",
    "#                                         )\n",
    "#        if not self.transpose:\n",
    "#            # TODO ugly\n",
    "#            if final_act_fct is not None:\n",
    "#                self.model_out = nn.Sequential(nn.Flatten(), nn.Linear(len_ts, len_ts), final_act_fct())\n",
    "#            else:\n",
    "#                self.model_out = nn.Sequential(nn.Flatten(), nn.Linear(len_ts, len_ts))\n",
    "#        \n",
    "#    def forward(self, x_cat, x_cont):\n",
    "#        if self.transpose:\n",
    "#            x = self.model_in(x_cont)\n",
    "#            x = self.conv_net(x_cat, x)\n",
    "#        else: \n",
    "#            x = self.conv_net(x_cat, x_cont)\n",
    "#            x = self.model_out(x)\n",
    "#        return x"
   ]
  },
  {
   "cell_type": "code",
   "execution_count": 14,
   "metadata": {},
   "outputs": [],
   "source": [
    "# hide\n",
    "\n",
    "#model = GANCNN(ann_structure=[n_in, n_hidden, 1], n_z=100, len_ts=24, transpose=False)\n",
    "#print(model)\n",
    "#opt = torch.optim.Adam(params=model.parameters())\n",
    "#loss = torch.nn.MSELoss()\n",
    "#data = DummyDataset(n_samples=100, n_cat_feats=n_in, n_cont_feats=n_in, n_targets=1, n_dim=3)\n",
    "#dl = torch.utils.data.DataLoader(data, batch_size=8, shuffle=True, drop_last=True)\n",
    "#\n",
    "#errors = []\n",
    "#\n",
    "#for epoch in range(epochs):\n",
    "#    for x_cat, x_cont, y in dl:\n",
    "#        opt.zero_grad()\n",
    "#        pred = model(x_cat, x_cont)\n",
    "#        error = loss(pred, y)\n",
    "#        error.backward()\n",
    "#        opt.step()\n",
    "#    errors.append(error.item())\n",
    "#    \n",
    "#assert(errors[0] > errors[-1]) \n",
    "#\n",
    "#plt.figure()\n",
    "#plt.plot(errors)\n",
    "#plt.show()"
   ]
  },
  {
   "cell_type": "code",
   "execution_count": 15,
   "metadata": {},
   "outputs": [],
   "source": [
    "#hide\n",
    "\n",
    "#generator = GANMLP([n_z, n_hidden, n_in], embedding_module=emb, bn_cont=True)\n",
    "#discriminator = GANMLP([n_in, n_hidden, 1], bn_cont=True)\n",
    "#gen_opt = torch.optim.Adam(generator.parameters())\n",
    "#dis_opt = torch.optim.Adam(discriminator.parameters())\n",
    "#model = GAN(generator, discriminator, gen_opt, dis_opt, n_z=n_z)\n",
    "#print(model)\n",
    "#\n",
    "#for e in tqdm(range(epochs)):\n",
    "#    for x_cat, x_cont, y in dl:\n",
    "#        x_cat = x_cat.to(model.device).long()\n",
    "#        x_cont = x_cont.to(model.device)\n",
    "#        y = y.to(model.device)\n",
    "#\n",
    "#        model.train_discriminator(x_cat, x_cont, y)\n",
    "#        model.train_generator(x_cat, x_cont, y)\n",
    "#\n",
    "#plt.figure()\n",
    "#plt.plot(model.real_loss, label='Real Loss')\n",
    "#plt.plot(model.fake_loss, label='Fake Loss')\n",
    "#plt.legend()\n",
    "#plt.show()\n",
    "#\n",
    "#assert(np.abs(model.real_loss[-1] - model.fake_loss[-1]) < 0.5)\n",
    "#\n",
    "#z = model.noise(x_cont)\n",
    "#x_fake = model.generator(x_cat, z)\n",
    "#assert((x_fake - x_cont).mean().abs().item() < 0.5)\n",
    "#\n",
    "#print('distribution of real data:')\n",
    "#plot_class_hists(x_cat.cpu(), x_cont.cpu())\n",
    "#\n",
    "#print('distribution of generated data:')\n",
    "#plot_class_hists(x_cat.cpu(), x_fake.cpu().detach())"
   ]
  },
  {
   "cell_type": "code",
   "execution_count": 16,
   "metadata": {},
   "outputs": [],
   "source": [
    "#hide\n",
    "\n",
    "#generator = GANMLP([n_z, n_hidden,  n_in], embedding_module=emb, bn_cont=True)\n",
    "#discriminator = GANMLP([n_in, n_hidden, 1], final_act_fct=nn.Identity, bn_cont=True)\n",
    "#gen_opt = torch.optim.RMSprop(generator.parameters())\n",
    "#dis_opt = torch.optim.RMSprop(discriminator.parameters())\n",
    "#model = WGAN(generator, discriminator, gen_opt, dis_opt, n_z=n_z)\n",
    "#print(model)\n",
    "#\n",
    "#for e in tqdm(range(epochs)):\n",
    "#    for x_cat, x_cont, y in dl:\n",
    "#        x_cat = x_cat.to(model.device).long()\n",
    "#        x_cont = x_cont.to(model.device)\n",
    "#        y = y.to(model.device)\n",
    "#\n",
    "#        model.train_discriminator(x_cat, x_cont, y)\n",
    "#        model.train_generator(x_cat, x_cont, y)\n",
    "#\n",
    "#plt.figure()\n",
    "#plt.plot(model.real_loss, label='Real Loss')\n",
    "#plt.plot(model.fake_loss, label='Fake Loss')\n",
    "#plt.legend()\n",
    "#plt.show()\n",
    "#\n",
    "#z = model.noise(x_cont)\n",
    "#x_fake = model.generator(x_cat, z)\n",
    "#\n",
    "#print('distribution of real data:')\n",
    "#plot_class_hists(x_cat.cpu(), x_cont.cpu())\n",
    "#\n",
    "#print('distribution of generated data:')\n",
    "#plot_class_hists(x_cat.cpu(), x_fake.cpu().detach())"
   ]
  },
  {
   "cell_type": "code",
   "execution_count": 17,
   "metadata": {},
   "outputs": [],
   "source": [
    "#hide\n",
    "\n",
    "#generator = GANMLP([n_z, n_hidden, n_hidden, n_in], embedding_module=emb, bn_cont=True)\n",
    "#discriminator = GANMLP([n_in, n_hidden, n_hidden], final_act_fct=nn.ReLU, bn_cont=True)\n",
    "#discriminator = AuxiliaryDiscriminator(basic_discriminator=discriminator, n_classes=n_classes, final_input_size=n_hidden, len_ts=1)\n",
    "#gen_opt = torch.optim.Adam(generator.parameters())\n",
    "#dis_opt = torch.optim.Adam(discriminator.parameters())\n",
    "#model = GAN(generator, discriminator, gen_opt, dis_opt, n_z=n_z, auxiliary=True, auxiliary_weighting_factor=1)\n",
    "#print(model)\n",
    "#\n",
    "#for e in tqdm(range(epochs)):\n",
    "#    for x_cat, x_cont, y in dl:\n",
    "#        x_cat = x_cat.to(model.device).long()\n",
    "#        x_cont = x_cont.to(model.device)\n",
    "#        y = y.to(model.device)\n",
    "#\n",
    "#        model.train_discriminator(x_cat, x_cont, y)\n",
    "#        model.train_generator(x_cat, x_cont, y)\n",
    "#\n",
    "#plt.figure()\n",
    "#plt.plot(model.real_loss, label='Real Loss')\n",
    "#plt.plot(model.fake_loss, label='Fake Loss')\n",
    "#plt.plot([a.item() for a in model.aux_loss], label='Aux Loss')\n",
    "#plt.legend()\n",
    "#plt.show()\n",
    "#\n",
    "#z = model.noise(x_cont)\n",
    "#x_fake = model.generator(x_cat, z)\n",
    "#\n",
    "#print('distribution of real data:')\n",
    "#plot_class_hists(x_cat.cpu(), x_cont.cpu())\n",
    "#\n",
    "#print('distribution of generated data:')\n",
    "#plot_class_hists(x_cat.cpu(), x_fake.cpu().detach())"
   ]
  }
 ],
 "metadata": {
  "kernelspec": {
   "display_name": "Python 3 (ipykernel)",
   "language": "python",
   "name": "python3"
  },
  "language_info": {
   "codemirror_mode": {
    "name": "ipython",
    "version": 3
   },
   "file_extension": ".py",
   "mimetype": "text/x-python",
   "name": "python",
   "nbconvert_exporter": "python",
   "pygments_lexer": "ipython3",
   "version": "3.8.12"
  }
 },
 "nbformat": 4,
 "nbformat_minor": 4
}
