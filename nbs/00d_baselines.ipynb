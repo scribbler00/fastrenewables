{
 "cells": [
  {
   "cell_type": "code",
   "execution_count": null,
   "metadata": {},
   "outputs": [],
   "source": [
    "# default_exp baselines"
   ]
  },
  {
   "cell_type": "markdown",
   "metadata": {},
   "source": [
    "# baselines\n",
    "\n",
    "> API details."
   ]
  },
  {
   "cell_type": "code",
   "execution_count": null,
   "metadata": {},
   "outputs": [],
   "source": [
    "#export\n",
    "#hide\n",
    "import numpy as np\n",
    "from sklearn.base import BaseEstimator\n",
    "from sklearn.multioutput import MultiOutputRegressor\n",
    "from sklearn.utils.validation import check_is_fitted\n",
    "from sktime.transformations.panel.rocket import Rocket\n",
    "from sktime.utils.data_processing import from_3d_numpy_to_nested\n",
    "import matplotlib.pyplot as plt"
   ]
  },
  {
   "cell_type": "code",
   "execution_count": null,
   "metadata": {},
   "outputs": [],
   "source": [
    "def get_test_data(n_samples=20):\n",
    "    X = np.random.random_sample(n_samples)*np.pi\n",
    "    y = np.sin(X) + np.random.randn(X.shape[0])*0.1+1\n",
    "    \n",
    "    return X.reshape(-1,1),y"
   ]
  },
  {
   "cell_type": "code",
   "execution_count": null,
   "metadata": {},
   "outputs": [
    {
     "data": {
      "text/plain": [
       "<matplotlib.collections.PathCollection at 0x7fa320215970>"
      ]
     },
     "execution_count": null,
     "metadata": {},
     "output_type": "execute_result"
    },
    {
     "data": {
      "image/png": "[encoded data removed]",
      "text/plain": [
       "<Figure size 432x288 with 1 Axes>"
      ]
     },
     "metadata": {
      "needs_background": "light"
     },
     "output_type": "display_data"
    }
   ],
   "source": [
    "X,y = get_test_data()\n",
    "plt.scatter(X, y)"
   ]
  },
  {
   "cell_type": "code",
   "execution_count": null,
   "metadata": {},
   "outputs": [],
   "source": [
    "#export\n",
    "def _append_one_col(X):\n",
    "    \"\"\"append array with ones in order to replace a fitted bias in the output\"\"\"\n",
    "    return np.hstack([np.ones((X.shape[0], 1)), X])"
   ]
  },
  {
   "cell_type": "code",
   "execution_count": null,
   "metadata": {},
   "outputs": [],
   "source": [
    "#export\n",
    "class BayesLinReg(BaseEstimator):\n",
    "    \"\"\"Batch wise linear regression\"\"\"\n",
    "\n",
    "    def __init__(self, alpha=0.3, beta=1):\n",
    "        self.alpha = alpha\n",
    "        self.beta = beta\n",
    "        self.n_features = None\n",
    "\n",
    "    # inspired by https://maxhalford.github.io/blog/bayesian-linear-regression/\n",
    "    def fit(self, X, y):\n",
    "\n",
    "        # If x and y are singletons, then we coerce them to a batch of length 1\n",
    "        x = np.atleast_2d(X)\n",
    "        y = np.atleast_1d(y)\n",
    "\n",
    "        X = _append_one_col(X)\n",
    "\n",
    "        if self.n_features is None:\n",
    "            self.n_features = X.shape[1]\n",
    "\n",
    "            self.mean = np.zeros(self.n_features)\n",
    "            self.cov_inv = np.identity(self.n_features) / self.alpha\n",
    "\n",
    "        # Update the inverse covariance matrix (Bishop eq. 3.51)\n",
    "        cov_inv = self.cov_inv + self.beta * X.T @ X\n",
    "\n",
    "        # Update the mean vector (Bishop eq. 3.50)\n",
    "        cov = np.linalg.inv(cov_inv)\n",
    "        mean = cov @ (self.cov_inv @ self.mean + self.beta * y @ X)\n",
    "\n",
    "        self.cov_inv = cov_inv\n",
    "        self.mean = mean\n",
    "\n",
    "        return self\n",
    "    \n",
    "    def _predict(self,X):\n",
    "        X = np.atleast_2d(X)\n",
    "\n",
    "        X = _append_one_col(X)\n",
    "\n",
    "        # Obtain the predictive mean (Bishop eq. 3.58)\n",
    "        y_pred_mean = X @ self.mean\n",
    "\n",
    "        # Obtain the predictive variance (Bishop eq. 3.59)\n",
    "        w_cov = np.linalg.inv(self.cov_inv)\n",
    "        y_pred_var = 1 / self.beta + (X @ w_cov * X).sum(axis=1)\n",
    "\n",
    "        # Drop a dimension from the mean and variance in case x and y were singletons\n",
    "        # There might be a more elegant way to proceed but this works!\n",
    "        y_pred_mean = np.squeeze(y_pred_mean)\n",
    "        y_pred_var = np.squeeze(y_pred_var)\n",
    "        \n",
    "        return y_pred_mean, y_pred_var ** 0.5\n",
    "        \n",
    "\n",
    "    def predict(self, X):\n",
    "\n",
    "        y_pred_mean, _ =self._predict(X)\n",
    "\n",
    "        return y_pred_mean\n",
    "    \n",
    "    def predict_proba(self, X):\n",
    "\n",
    "        y_pred_mean, y_pred_std =self._predict(X)\n",
    "\n",
    "        # return stats.norm(loc=y_pred_mean, scale=y_pred_var ** .5)\n",
    "        return y_pred_mean, y_pred_std\n"
   ]
  },
  {
   "cell_type": "code",
   "execution_count": null,
   "metadata": {},
   "outputs": [
    {
     "data": {
      "text/plain": [
       "((20, 1), (20,))"
      ]
     },
     "execution_count": null,
     "metadata": {},
     "output_type": "execute_result"
    }
   ],
   "source": [
    "X.shape, y.shape"
   ]
  },
  {
   "cell_type": "code",
   "execution_count": null,
   "metadata": {},
   "outputs": [
    {
     "data": {
      "text/plain": [
       "<matplotlib.legend.Legend at 0x7fa303f96910>"
      ]
     },
     "execution_count": null,
     "metadata": {},
     "output_type": "execute_result"
    },
    {
     "data": {
      "image/png": "[encoded data removed]",
      "text/plain": [
       "<Figure size 432x288 with 1 Axes>"
      ]
     },
     "metadata": {
      "needs_background": "light"
     },
     "output_type": "display_data"
    }
   ],
   "source": [
    "# train data\n",
    "X,y = get_test_data()\n",
    "model = BayesLinReg()\n",
    "model = model.fit(X,y)\n",
    "\n",
    "# test data\n",
    "X,y = get_test_data()\n",
    "yhat, ystd = model.predict_proba(X)\n",
    "\n",
    "fig, ax = plt.subplots()\n",
    "ax.scatter(X, y, label=\"True\")\n",
    "ax.scatter(X, yhat, label=\"Pred\")\n",
    "ax.plot(X, yhat, label=\"Pred\")\n",
    "\n",
    "x_range = np.arange(np.min(X), np.max(X)+0.1, step=0.001).reshape(-1,1)\n",
    "yhat, ystd = model.predict_proba(x_range)\n",
    "ax.fill_between(x_range.reshape(-1), (yhat-ystd), (yhat+ystd), color='b', alpha=.1)\n",
    "\n",
    "plt.legend()"
   ]
  },
  {
   "cell_type": "code",
   "execution_count": null,
   "metadata": {},
   "outputs": [],
   "source": [
    "#export\n",
    "class RidgeRegression(BaseEstimator):\n",
    "    def __init__(self, l2_reg=1e-3):\n",
    "        self.l2_reg = l2_reg\n",
    "\n",
    "    def _ridge_regression(self, X, y):\n",
    "        \"\"\"ridge / tikhonov regularized linear multiple, multivariate regression\"\"\"\n",
    "        return np.linalg.inv(X.T @ X + self.l2_reg * np.eye(X.shape[1])) @ X.T @ y\n",
    "\n",
    "    def fit(self, X, y):\n",
    "        X = _append_one_col(X)\n",
    "        self.W = self._ridge_regression(X, y)\n",
    "\n",
    "        return self\n",
    "\n",
    "    def predict(self, X):\n",
    "        X = _append_one_col(X)\n",
    "        y_hat = X @ self.W\n",
    "\n",
    "        return y_hat\n"
   ]
  },
  {
   "cell_type": "code",
   "execution_count": null,
   "metadata": {},
   "outputs": [],
   "source": [
    "#export\n",
    "def relu(x):\n",
    "    return np.maximum(x, 0)\n",
    "\n",
    "def identity(x):\n",
    "    return x"
   ]
  },
  {
   "cell_type": "code",
   "execution_count": null,
   "metadata": {},
   "outputs": [],
   "source": [
    "#export\n",
    "class ELM(BaseEstimator):\n",
    "    def __init__(\n",
    "        self, n_hidden=20, activations=relu, prediction_model=BayesLinReg(), \n",
    "                include_original_features=True,**kwargs):\n",
    "\n",
    "        \"\"\"[summary]\n",
    "\n",
    "        Args:\n",
    "            n_hidden (int, optional): [description]. Defaults to 100.\n",
    "            activations ([type], optional): [description]. Defaults to relu.\n",
    "            prediction_model_type (str, optional): [description]. Defaults to \"ridge\".\n",
    "        \"\"\"\n",
    "\n",
    "        self.prediction_model = prediction_model\n",
    "        self.n_hidden = n_hidden\n",
    "        self.activations = activations\n",
    "        self.include_original_features = include_original_features\n",
    "        self._hidden_weights, self._biases  = None, None\n",
    "\n",
    "        if self.prediction_model is None:\n",
    "            self._prediction_model = BayesLinReg()\n",
    "        else:\n",
    "            self._prediction_model = self.prediction_model\n",
    "\n",
    "        super(ELM).__init__()\n",
    "\n",
    "    def _as_list(self, a):\n",
    "        if isinstance(a, list):\n",
    "            return a\n",
    "        else:\n",
    "            return [a]\n",
    "        \n",
    "    def transform_X(self, X, W, b, activations):\n",
    "        G = np.dot(X, W) + b\n",
    "        Hs = []\n",
    "        for act in activations:\n",
    "            Hs.append(act(G))\n",
    "        return np.concatenate(Hs, axis=1)\n",
    "\n",
    "    def fit(self, X, y):\n",
    "\n",
    "        X, y = self._validate_data(X, y, y_numeric=True, multi_output=True)\n",
    "        activations = self._as_list(self.activations)\n",
    "\n",
    "        self._n_features = X.shape[1]\n",
    "        if self._hidden_weights is None:\n",
    "            self._hidden_weights = np.random.normal(size=[self._n_features, self.n_hidden*len(activations)])\n",
    "            self._biases = np.random.normal(size=[self.n_hidden*len(activations)])\n",
    "\n",
    "        \n",
    "        X_transformed = self.transform_X(\n",
    "            X, self._hidden_weights, self._biases, activations\n",
    "        )\n",
    "        \n",
    "        if self.include_original_features:\n",
    "            X_transformed = np.concatenate([X_transformed, X], axis=1)\n",
    "        \n",
    "        self._prediction_model.fit(X_transformed, y)\n",
    "\n",
    "        return self\n",
    "    \n",
    "    def _prep_pred_X(self, X):\n",
    "         # Check is fit had been called\n",
    "        check_is_fitted(self)\n",
    "\n",
    "        X = self._validate_data(X)\n",
    "\n",
    "        X_transformed = self.transform_X(\n",
    "            X, self._hidden_weights, self._biases, self._as_list(self.activations)\n",
    "        )\n",
    "        \n",
    "        if self.include_original_features:\n",
    "            X_transformed = np.concatenate([X_transformed, X], axis=1)\n",
    "        \n",
    "        return X_transformed\n",
    "        \n",
    "\n",
    "    def predict(self, X):\n",
    "        X_transformed = self._prep_pred_X(X)\n",
    "        y_hat = self._prediction_model.predict(X_transformed)\n",
    "\n",
    "        return y_hat\n",
    "    \n",
    "    def predict_proba(self, X):\n",
    "        X_transformed = self._prep_pred_X(X)\n",
    "        return self._prediction_model.predict_proba(X_transformed)\n",
    "\n",
    "    def set_params(self, **params):\n",
    "        local_param_keys = self.get_params(deep=False).keys()\n",
    "        local_params = {k: v for (k, v) in params.items() if k in local_param_keys}\n",
    "\n",
    "        for k, v in local_params.items():\n",
    "            setattr(self, k, v)\n",
    "\n",
    "        # assume that remaining keys must be part of the prediction model\n",
    "        non_local_params = {\n",
    "            k: v for (k, v) in params.items() if k not in local_param_keys\n",
    "        }\n",
    "        self.prediction_model.set_params(**non_local_params)\n",
    "\n",
    "    def get_params(self, deep=False):\n",
    "        return super().get_params()"
   ]
  },
  {
   "cell_type": "code",
   "execution_count": null,
   "metadata": {},
   "outputs": [
    {
     "data": {
      "text/plain": [
       "<matplotlib.legend.Legend at 0x7fa303fef370>"
      ]
     },
     "execution_count": null,
     "metadata": {},
     "output_type": "execute_result"
    },
    {
     "data": {
      "image/png": "[encoded data removed]",
      "text/plain": [
       "<Figure size 432x288 with 1 Axes>"
      ]
     },
     "metadata": {
      "needs_background": "light"
     },
     "output_type": "display_data"
    }
   ],
   "source": [
    "X,y = get_test_data(n_samples=10)\n",
    "model = ELM(n_hidden=5, activations=[np.sin], prediction_model=BayesLinReg(alpha=1, beta=10))\n",
    "model = model.fit(X,y)\n",
    "fig, ax = plt.subplots()\n",
    "ax.scatter(X, y, label=\"TrueTrain\")\n",
    "\n",
    "# test data\n",
    "X,y = get_test_data()\n",
    "yhat, ystd = model.predict_proba(X)\n",
    "\n",
    "\n",
    "ax.scatter(X, y, label=\"TrueTest\")\n",
    "ax.scatter(X, yhat, label=\"Pred\")\n",
    "\n",
    "x_range = np.arange(np.min(X)-2, np.max(X)+2, step=0.001).reshape(-1,1)\n",
    "yhat, ystd = model.predict_proba(x_range)\n",
    "ax.fill_between(x_range.reshape(-1), (yhat-1.96*ystd), (yhat+1.96*ystd), color='b', alpha=.1, label=\"CI\")\n",
    "\n",
    "plt.legend()"
   ]
  },
  {
   "cell_type": "code",
   "execution_count": null,
   "metadata": {},
   "outputs": [],
   "source": [
    "#export\n",
    "class EchoStateRegression(BaseEstimator):\n",
    "    def __init__(\n",
    "        self,\n",
    "        num_hidden=100,\n",
    "        activations=[relu, np.tanh, identity],\n",
    "        activation_momentum=0.9,\n",
    "        prediction_model=RidgeRegression(),\n",
    "    ):\n",
    "        # number of input features (necessary for initialization)\n",
    "        self.num_in_feature = None\n",
    "        # number of hidden recurrent units\n",
    "        self.num_hidden = num_hidden\n",
    "        # squashing / activation function\n",
    "        self.activations = activations\n",
    "        # activation momentum: each recurrent activation is a moving average of the past\n",
    "        self.activation_momentum = activation_momentum\n",
    "\n",
    "        self.prediction_model = prediction_model\n",
    "\n",
    "    def _init_params(self):\n",
    "        \"\"\"randomly initialize parameters\"\"\"\n",
    "        # initalize input weights\n",
    "        self.W_in = (\n",
    "            np.random.randn(self.num_in_feature, self.num_hidden)\n",
    "            * np.sqrt(2 / self.num_hidden)\n",
    "            - 0.5\n",
    "        )\n",
    "        # initialize recurrent weights\n",
    "        self.W_rec = np.random.randn(self.num_hidden, self.num_hidden)\n",
    "        # compute spectral radius from recurrent weights\n",
    "        spectral_radius = np.max(np.abs(np.linalg.eigvals(self.W_rec)))\n",
    "        # normalize recurrent weights via the spectral radius\n",
    "        self.W_rec /= spectral_radius * np.sqrt(2)\n",
    "        # biases\n",
    "        self.b = np.random.randn(1, self.num_hidden)\n",
    "\n",
    "    def _run_reservoir(self, X):\n",
    "        \"\"\"Fcompute reservoir activations of the echo state network\"\"\"\n",
    "        # get number of sequences\n",
    "        num_sequences = X.shape[0]\n",
    "        # get number of time steps (assumed to be equal, e.g. by padding)\n",
    "        num_time_steps = X.shape[1]\n",
    "        # compute the matrix product between each input sequence element and\n",
    "        # the input weight matrix (einsum replaces a loop over time steps)\n",
    "        H_in = np.einsum(\"ijk,kl\", X, self.W_in)\n",
    "\n",
    "        H_recs = []\n",
    "        # initialize recurrent activation with zeros\n",
    "        for act_func in self.activations:\n",
    "            H_rec = np.zeros((num_sequences, self.num_hidden))\n",
    "            # loop all time steps\n",
    "            for time_step in range(num_time_steps):\n",
    "                # compute recurrent input from previous time step recurrent activation\n",
    "                rec = H_rec @ self.W_rec\n",
    "                # comput hidden recurrent activation for next time step\n",
    "                H_rec = (1 - self.activation_momentum) * act_func(\n",
    "                    H_in[:, time_step, :] + rec + self.b\n",
    "                ) + self.activation_momentum * H_rec\n",
    "            H_recs.append(H_rec)\n",
    "\n",
    "        H_rec = np.concatenate(H_recs, axis=1)\n",
    "        # return final activation for the last time step\n",
    "        return H_rec\n",
    "\n",
    "    def fit(self, X, y):\n",
    "        \"\"\"Fitting a echo state network with a single time step forecast horizon.\"\"\"\n",
    "\n",
    "        if self.num_in_feature == None:\n",
    "            self.num_in_feature = X.shape[2]\n",
    "            self._init_params()\n",
    "        # compute reservoir activations\n",
    "        H = self._run_reservoir(X)\n",
    "\n",
    "        self.prediction_model = MultiOutputRegressor(self.prediction_model)\n",
    "        self.prediction_model = self.prediction_model.fit(H, y)\n",
    "\n",
    "        return self\n",
    "\n",
    "    def predict(self, X):\n",
    "        \"\"\"Predicting the trained echo state network\"\"\"\n",
    "        # assert that number of input features was correct\n",
    "        assert self.num_in_feature == X.shape[2]\n",
    "        # compute reservoir activations\n",
    "        H = self._run_reservoir(X)\n",
    "        # append array with ones in order to replace a fitted bias in the output\n",
    "        return self.prediction_model.predict(H)"
   ]
  },
  {
   "cell_type": "code",
   "execution_count": null,
   "metadata": {},
   "outputs": [],
   "source": [
    "#export\n",
    "class RocketReservoirRegression(BaseEstimator):\n",
    "    def __init__(\n",
    "        self, num_kernels=1000, prediction_model=RidgeRegression(), normalise=False\n",
    "    ):\n",
    "        self.num_kernels = num_kernels\n",
    "        self.prediction_model = prediction_model\n",
    "        self.rocket = Rocket(num_kernels=num_kernels, normalise=normalise)\n",
    "\n",
    "    def fit(self, X, y):\n",
    "        \"\"\"expects array of dimensions num_samples X timesteps X num features\"\"\"\n",
    "        X_transformed = from_3d_numpy_to_nested(X.swapaxes(1, 2))\n",
    "        X_transformed = self.rocket.fit_transform(X_transformed)\n",
    "\n",
    "        self.prediction_model = MultiOutputRegressor(self.prediction_model)\n",
    "        self.prediction_model = self.prediction_model.fit(X_transformed, y)\n",
    "\n",
    "        return self\n",
    "\n",
    "    def predict(self, X):\n",
    "        X_transformed = from_3d_numpy_to_nested(X.swapaxes(1, 2))\n",
    "        X_transformed = self.rocket.transform(X_transformed)\n",
    "\n",
    "        yhat = self.prediction_model.predict(X_transformed)\n",
    "\n",
    "        return yhat"
   ]
  }
 ],
 "metadata": {
  "kernelspec": {
   "display_name": "Python 3",
   "language": "python",
   "name": "python3"
  }
 },
 "nbformat": 4,
 "nbformat_minor": 4
}
