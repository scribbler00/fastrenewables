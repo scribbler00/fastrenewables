{
 "cells": [
  {
   "cell_type": "code",
   "execution_count": null,
   "metadata": {},
   "outputs": [],
   "source": [
    "# default_exp metrics"
   ]
  },
  {
   "cell_type": "markdown",
   "metadata": {},
   "source": [
    "# metrics\n",
    "\n",
    "> API details."
   ]
  },
  {
   "cell_type": "code",
   "execution_count": null,
   "metadata": {},
   "outputs": [],
   "source": [
    "#export\n",
    "import numpy as np\n",
    "import scipy.stats"
   ]
  },
  {
   "cell_type": "code",
   "execution_count": null,
   "metadata": {},
   "outputs": [],
   "source": [
    "#export\n",
    "def crps_for_quantiles(probabilistic_forecasts, measurements, quantiles=np.linspace(0.1, 0.9, 9)):\n",
    "    \"\"\" Computes the CRPS score with quantile representation.\n",
    "        This variant is the variant proposed in Hersbach H. Decomposition of the Continuous Ranked Probability Score for\n",
    "        Ensemble Prediction Systems. Weather Forecast. 2000;15(5):559-570.\n",
    "        Parameters\n",
    "        ----------\n",
    "            probabilistic_forecasts: array_like\n",
    "               Either list of \"M\" scipy.stats.rv_continuous distributions\n",
    "               https://docs.scipy.org/doc/scipy/reference/generated/scipy.stats.rv_continuous.html\n",
    "               OR\n",
    "               2D-numpy array with quantile forecasts with dimensionality M x Q,\n",
    "               where \"Q\" is number of quantiles.\n",
    "            measurements: array_like\n",
    "               List or numpy array with \"M\" measurements / observations.\n",
    "            quantiles: array_like\n",
    "               List of \"Q\" values of the quantiles to be evaluated.\n",
    "        Returns\n",
    "        -------\n",
    "            mean_crps: float\n",
    "                The mean CRIGN over all probabilistic_forecast - measurement pairs.\n",
    "            single_crps: array, shape (M,)\n",
    "                CRIGN value for each probabilistic_forecast - measurement pair.\n",
    "    \"\"\"\n",
    "\n",
    "    quantile_forecasts = np.array(probabilistic_forecasts)\n",
    "\n",
    "    measurements = np.atleast_2d(measurements).T\n",
    "\n",
    "    alpha_mat = np.diff(np.hstack([quantile_forecasts, measurements]))\n",
    "    alpha_mat = np.maximum(0, alpha_mat)\n",
    "    alpha_mat = np.minimum(alpha_mat, np.maximum(0, np.repeat(measurements, quantile_forecasts.shape[1],\n",
    "                                                              axis=1) - quantile_forecasts))\n",
    "\n",
    "    beta_mat = np.diff(np.hstack([measurements, quantile_forecasts]))\n",
    "    beta_mat = np.maximum(0, beta_mat)\n",
    "    beta_mat = np.minimum(beta_mat,\n",
    "                          np.maximum(0,\n",
    "                                     quantile_forecasts - np.repeat(measurements, quantile_forecasts.shape[1], axis=1)))\n",
    "\n",
    "    single_crps = np.matmul(alpha_mat, np.power(quantiles, 2)) + np.matmul(beta_mat, np.power(quantiles - 1, 2))\n",
    "\n",
    "    return np.mean(single_crps), single_crps"
   ]
  },
  {
   "cell_type": "code",
   "execution_count": null,
   "metadata": {},
   "outputs": [],
   "source": [
    "quantiles = np.array([0.25,0.5, 0.75])\n",
    "probabilistic_forecasts = np.array([[1,2,3],[4,5,6],[7,8,9],])\n",
    "measurements = np.array([2,5,8])"
   ]
  },
  {
   "cell_type": "code",
   "execution_count": null,
   "metadata": {},
   "outputs": [
    {
     "data": {
      "text/plain": [
       "0.125"
      ]
     },
     "execution_count": null,
     "metadata": {},
     "output_type": "execute_result"
    }
   ],
   "source": [
    "mean_crps, crps_per_observation = crps_for_quantiles(probabilistic_forecasts, measurements, quantiles)\n",
    "mean_crps"
   ]
  }
 ],
 "metadata": {
  "kernelspec": {
   "display_name": "Python 3",
   "language": "python",
   "name": "python3"
  }
 },
 "nbformat": 4,
 "nbformat_minor": 2
}
