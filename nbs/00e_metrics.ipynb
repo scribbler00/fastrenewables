{
 "cells": [
  {
   "cell_type": "code",
   "execution_count": null,
   "metadata": {},
   "outputs": [],
   "source": [
    "# default_exp metrics"
   ]
  },
  {
   "cell_type": "markdown",
   "metadata": {},
   "source": [
    "# metrics\n",
    "\n",
    "> API details."
   ]
  },
  {
   "cell_type": "code",
   "execution_count": null,
   "metadata": {},
   "outputs": [],
   "source": [
    "#export\n",
    "#hide\n",
    "import numpy as np\n",
    "import scipy.stats\n",
    "import torch\n",
    "from scipy.stats import chi2 as Chi2Dist\n",
    "import matplotlib.pyplot as plt\n",
    "from sklearn.metrics import auc\n",
    "from fastcore.test import *\n",
    "from fastai.metrics import rmse\n",
    "import dcor"
   ]
  },
  {
   "cell_type": "code",
   "execution_count": null,
   "metadata": {},
   "outputs": [],
   "source": [
    "#export\n",
    "def crps_for_quantiles(probabilistic_forecasts, measurements, quantiles=np.linspace(0.1, 0.9, 9)):\n",
    "    \"\"\" Computes the CRPS score with quantile representation.\n",
    "        This variant is the variant proposed in Hersbach H. Decomposition of the Continuous Ranked Probability Score for\n",
    "        Ensemble Prediction Systems. Weather Forecast. 2000;15(5):559-570.\n",
    "        Parameters\n",
    "        ----------\n",
    "            probabilistic_forecasts: array_like\n",
    "               Either list of \"M\" scipy.stats.rv_continuous distributions\n",
    "               https://docs.scipy.org/doc/scipy/reference/generated/scipy.stats.rv_continuous.html\n",
    "               OR\n",
    "               2D-numpy array with quantile forecasts with dimensionality M x Q,\n",
    "               where \"Q\" is number of quantiles.\n",
    "            measurements: array_like\n",
    "               List or numpy array with \"M\" measurements / observations.\n",
    "            quantiles: array_like\n",
    "               List of \"Q\" values of the quantiles to be evaluated.\n",
    "        Returns\n",
    "        -------\n",
    "            mean_crps: float\n",
    "                The mean CRIGN over all probabilistic_forecast - measurement pairs.\n",
    "            single_crps: array, shape (M,)\n",
    "                CRIGN value for each probabilistic_forecast - measurement pair.\n",
    "    \"\"\"\n",
    "\n",
    "    quantile_forecasts = np.array(probabilistic_forecasts)\n",
    "\n",
    "    measurements = np.atleast_2d(measurements).T\n",
    "\n",
    "    alpha_mat = np.diff(np.hstack([quantile_forecasts, measurements]))\n",
    "    alpha_mat = np.maximum(0, alpha_mat)\n",
    "    alpha_mat = np.minimum(alpha_mat, np.maximum(0, np.repeat(measurements, quantile_forecasts.shape[1],\n",
    "                                                              axis=1) - quantile_forecasts))\n",
    "\n",
    "    beta_mat = np.diff(np.hstack([measurements, quantile_forecasts]))\n",
    "    beta_mat = np.maximum(0, beta_mat)\n",
    "    beta_mat = np.minimum(beta_mat,\n",
    "                          np.maximum(0,\n",
    "                                     quantile_forecasts - np.repeat(measurements, quantile_forecasts.shape[1], axis=1)))\n",
    "\n",
    "    single_crps = np.matmul(alpha_mat, np.power(quantiles, 2)) + np.matmul(beta_mat, np.power(quantiles - 1, 2))\n",
    "\n",
    "    return np.mean(single_crps), single_crps"
   ]
  },
  {
   "cell_type": "code",
   "execution_count": null,
   "metadata": {},
   "outputs": [],
   "source": [
    "quantiles = np.array([0.25,0.5, 0.75])\n",
    "probabilistic_forecasts = np.array([[1,2,3],[4,5,6],[7,8,9],])\n",
    "measurements = np.array([2,5,8])"
   ]
  },
  {
   "cell_type": "code",
   "execution_count": null,
   "metadata": {},
   "outputs": [
    {
     "data": {
      "text/plain": [
       "0.125"
      ]
     },
     "execution_count": null,
     "metadata": {},
     "output_type": "execute_result"
    }
   ],
   "source": [
    "mean_crps, crps_per_observation = crps_for_quantiles(probabilistic_forecasts, measurements, quantiles)\n",
    "mean_crps"
   ]
  },
  {
   "cell_type": "code",
   "execution_count": null,
   "metadata": {},
   "outputs": [],
   "source": [
    "#export \n",
    "def rmse_nll(preds, targs, pos_mean=0):\n",
    "    \"\"\"RMSE for negative log likelihood forecast, where we have e.g. the mean and the variance as prediction.\"\"\"\n",
    "    return rmse(preds[:, pos_mean], targs)"
   ]
  },
  {
   "cell_type": "code",
   "execution_count": null,
   "metadata": {},
   "outputs": [],
   "source": [
    "#export\n",
    "def normalized_sum_of_squared_residuals_np(stochastic_preds, targets):\n",
    "    \"\"\"\n",
    "        Calculates normalized sof of squared residuals according to Eq. 50-52 in https://arxiv.org/pdf/2007.06823.pdf \n",
    "        stochastic samples of shape [n_observation, n_targets, n_samples]\n",
    "        targets of shape [n_observation, n_targets]\n",
    "    \"\"\"\n",
    "    nruntests = len(stochastic_preds)\n",
    "    predictions = stochastic_preds.mean(axis=-1, keepdims=True)\n",
    "    errors = targets - predictions.squeeze(-1)\n",
    "    covs = stochastic_preds-predictions\n",
    "    \n",
    "    covs = (covs @ covs.swapaxes(1,2)) / (nruntests-1.)\n",
    "    \n",
    "    \n",
    "    weights = np.linalg.inv(covs)\n",
    "    nssr = np.matmul(errors[:,np.newaxis,:], np.matmul(weights, errors[:,:,np.newaxis]))\n",
    "   \n",
    "    nssr = np.sort(nssr.flatten())\n",
    "    \n",
    "    p_prediction = Chi2Dist.cdf(nssr, targets.shape[1]);\n",
    "    p_expected = np.linspace(1./nssr.size, 1.0, nssr.size)\n",
    "    \n",
    "    return p_prediction, p_expected"
   ]
  },
  {
   "cell_type": "code",
   "execution_count": null,
   "metadata": {},
   "outputs": [
    {
     "data": {
      "text/plain": [
       "((3, 1, 2), (3, 1, 1))"
      ]
     },
     "execution_count": null,
     "metadata": {},
     "output_type": "execute_result"
    }
   ],
   "source": [
    "stochasic_preds = np.array([[1.01,2.05,3.04], [3.05,2.02,1.01]]).reshape(3,1,2)\n",
    "targets = np.array([2.1,2.05,2.2]).reshape(3,1,1)\n",
    "stochasic_preds.shape, targets.shape"
   ]
  },
  {
   "cell_type": "code",
   "execution_count": null,
   "metadata": {},
   "outputs": [],
   "source": [
    "p_prediction_np, p_expected_np = normalized_sum_of_squared_residuals_np(stochasic_preds, targets)"
   ]
  },
  {
   "cell_type": "code",
   "execution_count": null,
   "metadata": {},
   "outputs": [
    {
     "data": {
      "image/png": "[encoded data removed]",
      "text/plain": [
       "<Figure size 432x288 with 1 Axes>"
      ]
     },
     "metadata": {
      "needs_background": "light"
     },
     "output_type": "display_data"
    }
   ],
   "source": [
    "plt.figure(\"Calibration curve for sparse measure model\")\n",
    "plt.plot(p_prediction_np, p_expected_np, label='Calibration curve')\n",
    "plt.plot([0,1],[0,1], 'k--', alpha=0.5, label='Ideal curve')\n",
    "plt.xlabel('Predicted probability')\n",
    "plt.ylabel('Observed probability')\n",
    "plt.axis('equal')\n",
    "plt.xlim([0,1])\n",
    "plt.ylim([0,1])\n",
    "plt.legend()\n",
    "\n",
    "plt.show()"
   ]
  },
  {
   "cell_type": "markdown",
   "metadata": {},
   "source": [
    "The result can be utilized to calculate the area under the curve"
   ]
  },
  {
   "cell_type": "code",
   "execution_count": null,
   "metadata": {},
   "outputs": [
    {
     "data": {
      "text/plain": [
       "0.4260104080499696"
      ]
     },
     "execution_count": null,
     "metadata": {},
     "output_type": "execute_result"
    }
   ],
   "source": [
    "auc(p_expected_np, p_prediction_np)"
   ]
  },
  {
   "cell_type": "markdown",
   "metadata": {},
   "source": [
    "Or the distance to the ideal curve"
   ]
  },
  {
   "cell_type": "code",
   "execution_count": null,
   "metadata": {},
   "outputs": [],
   "source": [
    "#export\n",
    "def distance_ideal_curve(p_prediction, p_expected):\n",
    "    return np.trapz((p_prediction-p_expected)**2)**0.5"
   ]
  },
  {
   "cell_type": "code",
   "execution_count": null,
   "metadata": {},
   "outputs": [
    {
     "data": {
      "text/plain": [
       "1.0124797387874436"
      ]
     },
     "execution_count": null,
     "metadata": {},
     "output_type": "execute_result"
    }
   ],
   "source": [
    "distance_ideal_curve(p_expected_np, p_prediction_np)"
   ]
  },
  {
   "cell_type": "code",
   "execution_count": null,
   "metadata": {},
   "outputs": [],
   "source": [
    "#export\n",
    "def normalized_sum_of_squared_residuals_torch(stochastic_preds, targets):\n",
    "    \"\"\"\n",
    "        Calculates normalized sof of squared residuals according to Eq. 50-52 in https://arxiv.org/pdf/2007.06823.pdf \n",
    "        stochastic samples of shape [n_observation, n_targets, n_samples]\n",
    "        targets of shape [n_observation, n_targets]\n",
    "    \"\"\"\n",
    "    \n",
    "    predictions = stochastic_preds.mean(axis=-1, keepdim=True)\n",
    "    errors = targets - predictions.squeeze(dim=-1)\n",
    "    nruntests = len(stochastic_preds)\n",
    "    predictions = stochastic_preds.mean(axis=-1, keepdims=True)\n",
    "    covs = stochastic_preds - predictions\n",
    "    \n",
    "    covs = torch.matmul(covs, torch.transpose(covs, 1, 2))/(nruntests-1.)\n",
    "    \n",
    "    \n",
    "    weights = torch.linalg.inv(covs) #\n",
    "    nssr = torch.matmul(errors[:,np.newaxis,:].float(), \n",
    "                    torch.matmul(weights.float(), errors[:,:,np.newaxis].float()).float() )\n",
    "    \n",
    "    nssr = nssr.cpu().numpy().flatten()\n",
    "    nssr = np.sort(nssr)\n",
    "    \n",
    "    p_prediction = Chi2Dist.cdf(nssr, targets.shape[1]);\n",
    "    p_expected = np.linspace(1./nssr.size, 1.0, nssr.size)\n",
    "    \n",
    "    return p_prediction, p_expected"
   ]
  },
  {
   "cell_type": "code",
   "execution_count": null,
   "metadata": {},
   "outputs": [],
   "source": [
    "p_prediction_torch, p_expected_torch = normalized_sum_of_squared_residuals_torch(torch.tensor(stochasic_preds),torch.tensor( targets))"
   ]
  },
  {
   "cell_type": "code",
   "execution_count": null,
   "metadata": {},
   "outputs": [
    {
     "data": {
      "image/png": "[encoded data removed]",
      "text/plain": [
       "<Figure size 432x288 with 1 Axes>"
      ]
     },
     "metadata": {
      "needs_background": "light"
     },
     "output_type": "display_data"
    }
   ],
   "source": [
    "plt.figure(\"Calibration curve for sparse measure model\")\n",
    "plt.plot(p_prediction_torch, p_expected_torch, label='Calibration curve')\n",
    "plt.plot([0,1],[0,1], 'k--', alpha=0.5, label='Ideal curve')\n",
    "plt.xlabel('Predicted probability')\n",
    "plt.ylabel('Observed probability')\n",
    "plt.axis('equal')\n",
    "plt.xlim([0,1])\n",
    "plt.ylim([0,1])\n",
    "plt.legend()\n",
    "\n",
    "plt.show()"
   ]
  },
  {
   "cell_type": "code",
   "execution_count": null,
   "metadata": {},
   "outputs": [],
   "source": [
    "#hide\n",
    "test_close(p_expected_np, p_expected_torch)\n",
    "test_close(p_prediction_np, p_prediction_torch)"
   ]
  },
  {
   "cell_type": "code",
   "execution_count": null,
   "metadata": {},
   "outputs": [
    {
     "data": {
      "text/plain": [
       "0.42601040751471086"
      ]
     },
     "execution_count": null,
     "metadata": {},
     "output_type": "execute_result"
    }
   ],
   "source": [
    "auc(p_expected_torch, p_prediction_torch)"
   ]
  },
  {
   "cell_type": "code",
   "execution_count": null,
   "metadata": {},
   "outputs": [
    {
     "data": {
      "text/plain": [
       "1.0124797346001766"
      ]
     },
     "execution_count": null,
     "metadata": {},
     "output_type": "execute_result"
    }
   ],
   "source": [
    "distance_ideal_curve(p_expected_torch, p_prediction_torch)"
   ]
  },
  {
   "cell_type": "code",
   "execution_count": null,
   "metadata": {},
   "outputs": [],
   "source": [
    "#export\n",
    "def energy_distance(samples, targets):\n",
    "    \"\"\"\n",
    "        samples tensor (e.g. from a Bayesian Model) of shape [n_observation, n_samples]\n",
    "        target tensor observatrion fo shape [n_observation, 1]\n",
    "    \"\"\"\n",
    "    return dcor.energy_distance(samples.reshape(samples.shape[0], samples.shape[-1]).T, targets.T)"
   ]
  },
  {
   "cell_type": "code",
   "execution_count": null,
   "metadata": {},
   "outputs": [
    {
     "name": "stdout",
     "output_type": "stream",
     "text": [
      "Converted 00a_utils.ipynb.\n",
      "Converted 00b_losses.ipynb.\n",
      "Converted 00c_utils_blitz.ipynb.\n",
      "Converted 00d_baselines.ipynb.\n",
      "Converted 00e_metrics.ipynb.\n",
      "Converted 00f_utils_pytorch.ipynb.\n",
      "Converted 01_tabular.core.ipynb.\n",
      "Converted 02_tabular.data.ipynb.\n",
      "Converted 03_tabular.model.ipynb.\n",
      "Converted 04_tabular.learner.ipynb.\n",
      "Converted 05_timeseries.core.ipynb.\n",
      "Converted 06_timeseries.data.ipynb.\n",
      "Converted 07_timeseries.model.ipynb.\n",
      "Converted 08_timeseries.learner.ipynb.\n",
      "Converted 09_gan.core.ipynb.\n",
      "Converted 10_autoencoder_models.ipynb.\n",
      "Converted 11_probabilistic_models.ipynb.\n",
      "Converted index.ipynb.\n"
     ]
    }
   ],
   "source": [
    "#hide\n",
    "from nbdev.export import notebook2script\n",
    "notebook2script()"
   ]
  }
 ],
 "metadata": {
  "kernelspec": {
   "display_name": "Python 3",
   "language": "python",
   "name": "python3"
  }
 },
 "nbformat": 4,
 "nbformat_minor": 2
}
