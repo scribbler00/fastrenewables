{
 "cells": [
  {
   "cell_type": "code",
   "execution_count": null,
   "metadata": {},
   "outputs": [],
   "source": [
    "# default_exp models.transfermodels"
   ]
  },
  {
   "cell_type": "markdown",
   "metadata": {},
   "source": [
    "# models.transfermodels\n",
    "\n",
    "> API details."
   ]
  },
  {
   "cell_type": "code",
   "execution_count": null,
   "metadata": {},
   "outputs": [],
   "source": [
    "# export\n",
    "import os\n",
    "os.environ[\"CUDA_VISIBLE_DEVICES\"] = \"\"\n",
    "import numpy as np\n",
    "import torch\n",
    "from torch import nn\n",
    "from fastrenewables.tabular.model import *\n",
    "from fastrenewables.timeseries.model import *\n",
    "from fastai.tabular.all import *\n",
    "from torch.autograd import Variable\n",
    "from sklearn.datasets import make_regression\n",
    "from fastai.learner import *\n",
    "from fastrenewables.utils_pytorch import *\n",
    "import copy\n",
    "from fastrenewables.timeseries.model import *\n",
    "from fastrenewables.baselines import BayesLinReg"
   ]
  },
  {
   "cell_type": "code",
   "execution_count": null,
   "metadata": {},
   "outputs": [],
   "source": [
    "def generate_single_dataset(n_samples, start, end, bias, coef, noise_factor=0.3):\n",
    "\n",
    "    X = np.random.uniform(low=start, high=end,size=n_samples)\n",
    "    y = np.sin(X*coef*2*np.pi) + np.random.randn(X.shape[0])*noise_factor+bias\n",
    "    \n",
    "    return X,y"
   ]
  },
  {
   "cell_type": "code",
   "execution_count": null,
   "metadata": {},
   "outputs": [],
   "source": [
    "def generate_all_tasks(n_samples=100):\n",
    "    starts = [0,  0]\n",
    "    ends = [4.1,  3.9]\n",
    "    coefs = [3.4,  4]\n",
    "    biases = [0.1,  0.1]\n",
    "    n_samples = [n_samples, 30]\n",
    "    \n",
    "    df_tasks = []\n",
    "    for task_id in range(len(starts)):\n",
    "        start, end, bias, coef = starts[task_id], ends[task_id], coefs[task_id], biases[task_id]\n",
    "        X,y = generate_single_dataset(n_samples[task_id], start, end, bias, coef, noise_factor=0.05)\n",
    "        df_task = pd.DataFrame({\"X\": X.ravel(), \"y\":y.ravel()})\n",
    "        df_task[\"TaskID\"] = task_id\n",
    "        df_tasks.append(df_task)\n",
    "    return pd.concat(df_tasks)"
   ]
  },
  {
   "cell_type": "code",
   "execution_count": null,
   "metadata": {},
   "outputs": [],
   "source": [
    "def get_source_task(df):\n",
    "    df_source =  df[df.TaskID == 0]\n",
    "    dls = TabularDataLoaders.from_df(df_source, cont_names=\"X\", y_names=\"y\", \n",
    "                                     deivce=\"cpu\", procs=Normalize, bs=10)\n",
    "    return dls\n",
    "    \n",
    "def get_target_task(df):\n",
    "    df_target =  df[df.TaskID == 1]\n",
    "    dls = TabularDataLoaders.from_df(df_target, cont_names=\"X\", y_names=\"y\", \n",
    "                                     deivce=\"cpu\", procs=Normalize, bs=10)\n",
    "    return dls"
   ]
  },
  {
   "cell_type": "code",
   "execution_count": null,
   "metadata": {},
   "outputs": [],
   "source": [
    "df = generate_all_tasks()"
   ]
  },
  {
   "cell_type": "code",
   "execution_count": null,
   "metadata": {},
   "outputs": [
    {
     "data": {
      "text/plain": [
       "<matplotlib.collections.PathCollection at 0x7f67c9f38730>"
      ]
     },
     "execution_count": null,
     "metadata": {},
     "output_type": "execute_result"
    },
    {
     "data": {
      "image/png": "[encoded data removed]",
      "text/plain": [
       "<Figure size 432x288 with 1 Axes>"
      ]
     },
     "metadata": {
      "needs_background": "light"
     },
     "output_type": "display_data"
    }
   ],
   "source": [
    "plt.scatter(df.X, df.y, c=df.TaskID)"
   ]
  },
  {
   "cell_type": "code",
   "execution_count": null,
   "metadata": {},
   "outputs": [],
   "source": [
    "dls_source = get_source_task(df)\n",
    "dls_target = get_target_task(df)"
   ]
  },
  {
   "cell_type": "code",
   "execution_count": null,
   "metadata": {},
   "outputs": [],
   "source": [
    "set_seed(10)\n",
    "# set_random_states(10, 10,10, 10, 10, 10)\n",
    "source_model = MultiLayerPerceptron([1, 100, 10, 5, 1], use_bn=True, bn_cont=False)\n",
    "learn_source = Learner(dls_source, source_model, metrics=rmse)"
   ]
  },
  {
   "cell_type": "code",
   "execution_count": null,
   "metadata": {},
   "outputs": [
    {
     "data": {
      "text/html": [
       "<table border=\"1\" class=\"dataframe\">\n",
       "  <thead>\n",
       "    <tr style=\"text-align: left;\">\n",
       "      <th>epoch</th>\n",
       "      <th>train_loss</th>\n",
       "      <th>valid_loss</th>\n",
       "      <th>_rmse</th>\n",
       "      <th>time</th>\n",
       "    </tr>\n",
       "  </thead>\n",
       "  <tbody>\n",
       "    <tr>\n",
       "      <td>0</td>\n",
       "      <td>13.308401</td>\n",
       "      <td>12.963223</td>\n",
       "      <td>3.600448</td>\n",
       "      <td>00:00</td>\n",
       "    </tr>\n",
       "    <tr>\n",
       "      <td>1</td>\n",
       "      <td>12.632634</td>\n",
       "      <td>11.189746</td>\n",
       "      <td>3.345108</td>\n",
       "      <td>00:00</td>\n",
       "    </tr>\n",
       "    <tr>\n",
       "      <td>2</td>\n",
       "      <td>11.812666</td>\n",
       "      <td>8.946368</td>\n",
       "      <td>2.991048</td>\n",
       "      <td>00:00</td>\n",
       "    </tr>\n",
       "    <tr>\n",
       "      <td>3</td>\n",
       "      <td>10.810776</td>\n",
       "      <td>7.049251</td>\n",
       "      <td>2.655042</td>\n",
       "      <td>00:00</td>\n",
       "    </tr>\n",
       "    <tr>\n",
       "      <td>4</td>\n",
       "      <td>9.625528</td>\n",
       "      <td>5.346032</td>\n",
       "      <td>2.312149</td>\n",
       "      <td>00:00</td>\n",
       "    </tr>\n",
       "    <tr>\n",
       "      <td>5</td>\n",
       "      <td>8.313984</td>\n",
       "      <td>3.518455</td>\n",
       "      <td>1.875754</td>\n",
       "      <td>00:00</td>\n",
       "    </tr>\n",
       "    <tr>\n",
       "      <td>6</td>\n",
       "      <td>6.964099</td>\n",
       "      <td>1.502577</td>\n",
       "      <td>1.225797</td>\n",
       "      <td>00:00</td>\n",
       "    </tr>\n",
       "    <tr>\n",
       "      <td>7</td>\n",
       "      <td>5.697623</td>\n",
       "      <td>0.226136</td>\n",
       "      <td>0.475538</td>\n",
       "      <td>00:00</td>\n",
       "    </tr>\n",
       "    <tr>\n",
       "      <td>8</td>\n",
       "      <td>4.617256</td>\n",
       "      <td>0.015207</td>\n",
       "      <td>0.123316</td>\n",
       "      <td>00:00</td>\n",
       "    </tr>\n",
       "    <tr>\n",
       "      <td>9</td>\n",
       "      <td>3.766771</td>\n",
       "      <td>0.045279</td>\n",
       "      <td>0.212788</td>\n",
       "      <td>00:00</td>\n",
       "    </tr>\n",
       "    <tr>\n",
       "      <td>10</td>\n",
       "      <td>3.103764</td>\n",
       "      <td>0.053330</td>\n",
       "      <td>0.230933</td>\n",
       "      <td>00:00</td>\n",
       "    </tr>\n",
       "    <tr>\n",
       "      <td>11</td>\n",
       "      <td>2.571846</td>\n",
       "      <td>0.047250</td>\n",
       "      <td>0.217370</td>\n",
       "      <td>00:00</td>\n",
       "    </tr>\n",
       "    <tr>\n",
       "      <td>12</td>\n",
       "      <td>2.141994</td>\n",
       "      <td>0.011239</td>\n",
       "      <td>0.106016</td>\n",
       "      <td>00:00</td>\n",
       "    </tr>\n",
       "    <tr>\n",
       "      <td>13</td>\n",
       "      <td>1.788360</td>\n",
       "      <td>0.008728</td>\n",
       "      <td>0.093424</td>\n",
       "      <td>00:00</td>\n",
       "    </tr>\n",
       "    <tr>\n",
       "      <td>14</td>\n",
       "      <td>1.500725</td>\n",
       "      <td>0.018193</td>\n",
       "      <td>0.134880</td>\n",
       "      <td>00:00</td>\n",
       "    </tr>\n",
       "    <tr>\n",
       "      <td>15</td>\n",
       "      <td>1.262851</td>\n",
       "      <td>0.010011</td>\n",
       "      <td>0.100053</td>\n",
       "      <td>00:00</td>\n",
       "    </tr>\n",
       "    <tr>\n",
       "      <td>16</td>\n",
       "      <td>1.063562</td>\n",
       "      <td>0.011102</td>\n",
       "      <td>0.105368</td>\n",
       "      <td>00:00</td>\n",
       "    </tr>\n",
       "    <tr>\n",
       "      <td>17</td>\n",
       "      <td>0.899606</td>\n",
       "      <td>0.014354</td>\n",
       "      <td>0.119809</td>\n",
       "      <td>00:00</td>\n",
       "    </tr>\n",
       "    <tr>\n",
       "      <td>18</td>\n",
       "      <td>0.761427</td>\n",
       "      <td>0.011282</td>\n",
       "      <td>0.106217</td>\n",
       "      <td>00:00</td>\n",
       "    </tr>\n",
       "    <tr>\n",
       "      <td>19</td>\n",
       "      <td>0.647140</td>\n",
       "      <td>0.010411</td>\n",
       "      <td>0.102036</td>\n",
       "      <td>00:00</td>\n",
       "    </tr>\n",
       "    <tr>\n",
       "      <td>20</td>\n",
       "      <td>0.549885</td>\n",
       "      <td>0.007982</td>\n",
       "      <td>0.089342</td>\n",
       "      <td>00:00</td>\n",
       "    </tr>\n",
       "    <tr>\n",
       "      <td>21</td>\n",
       "      <td>0.470255</td>\n",
       "      <td>0.035040</td>\n",
       "      <td>0.187188</td>\n",
       "      <td>00:00</td>\n",
       "    </tr>\n",
       "    <tr>\n",
       "      <td>22</td>\n",
       "      <td>0.401460</td>\n",
       "      <td>0.027753</td>\n",
       "      <td>0.166592</td>\n",
       "      <td>00:00</td>\n",
       "    </tr>\n",
       "    <tr>\n",
       "      <td>23</td>\n",
       "      <td>0.343176</td>\n",
       "      <td>0.006757</td>\n",
       "      <td>0.082203</td>\n",
       "      <td>00:00</td>\n",
       "    </tr>\n",
       "    <tr>\n",
       "      <td>24</td>\n",
       "      <td>0.294058</td>\n",
       "      <td>0.005858</td>\n",
       "      <td>0.076540</td>\n",
       "      <td>00:00</td>\n",
       "    </tr>\n",
       "  </tbody>\n",
       "</table>"
      ],
      "text/plain": [
       "<IPython.core.display.HTML object>"
      ]
     },
     "metadata": {},
     "output_type": "display_data"
    }
   ],
   "source": [
    "learn_source.fit(25, lr=0.01)"
   ]
  },
  {
   "cell_type": "code",
   "execution_count": null,
   "metadata": {},
   "outputs": [
    {
     "data": {
      "text/html": [],
      "text/plain": [
       "<IPython.core.display.HTML object>"
      ]
     },
     "metadata": {},
     "output_type": "display_data"
    },
    {
     "data": {
      "image/png": "[encoded data removed]",
      "text/plain": [
       "<Figure size 432x288 with 1 Axes>"
      ]
     },
     "metadata": {
      "needs_background": "light"
     },
     "output_type": "display_data"
    }
   ],
   "source": [
    "targets, preds = learn_source.get_preds(ds_idx=0)\n",
    "plt.scatter(dls_source.train_ds.items.X, preds, label=\"preds\")\n",
    "plt.scatter(dls_source.train_ds.items.X, targets, label=\"targets\")\n",
    "plt.legend()\n",
    "plt.show()"
   ]
  },
  {
   "cell_type": "code",
   "execution_count": null,
   "metadata": {},
   "outputs": [],
   "source": [
    "# hide\n",
    "# export\n",
    "def _create_matrices(n_features, alpha):\n",
    "    w_mean = torch.zeros(n_features)\n",
    "    w_precision = torch.eye(n_features) / alpha\n",
    "    \n",
    "    return w_mean, w_precision\n",
    "# minimal check if we can create the matricies\n",
    "mean, precision = _create_matrices(10, 10)\n",
    "test_eq(0, mean.sum())\n",
    "test_eq(0.1, precision[0,0])"
   ]
  },
  {
   "cell_type": "code",
   "execution_count": null,
   "metadata": {},
   "outputs": [],
   "source": [
    "# export\n",
    "class LinearTransferModel(nn.Module):\n",
    "    def __init__(self, source_model, num_layers_to_remove=1, \n",
    "                 name_layers_or_function_to_remove=\"layers\", \n",
    "                 use_original_weights=True,\n",
    "                 prediction_model=BayesLinReg(alpha=1, beta=1, empirical_bayes=False)):\n",
    "        super().__init__()\n",
    "        self.are_weights_initialized = False\n",
    "        self.num_layers_to_remove = num_layers_to_remove\n",
    "        self.ts_length = 1\n",
    "        self.source_model = copy.deepcopy(source_model)\n",
    "        self._prediction_model = prediction_model\n",
    "        self.prediction_models = []\n",
    "        if use_original_weights:\n",
    "            self._prediction_model.empirical_bayes=False\n",
    "        \n",
    "        if callable(name_layers_or_function_to_remove):\n",
    "            name_layers_or_function_to_remove(self.source_model, num_layers_to_remove)\n",
    "        elif type(name_layers_or_function_to_remove) == str:\n",
    "            layers = getattrs(self.source_model, name_layers_or_function_to_remove, default=None)[0]\n",
    "            if layers is None:\n",
    "                raise ValueError(f\"Could not find layers by given name {name_layers_or_function_to_remove}.\")\n",
    "            elif isinstance(layers, torch.nn.modules.container.Sequential):\n",
    "                setattr(self.source_model, name_layers_or_function_to_remove, layers[0:-self.num_layers_to_remove])\n",
    "            else:\n",
    "                raise ValueError(f\"Only sequential layers are supported.\")\n",
    "        else:\n",
    "            ValueError(\"Unknown type for name_layers_or_function_to_remove\")\n",
    "            \n",
    "        if num_layers_to_remove != 1 and use_original_weights:\n",
    "            raise ValueError(\"Can only reuse weights when using the last layers due to the dimension.\")\n",
    "        elif num_layers_to_remove == 1 and use_original_weights:\n",
    "            \n",
    "            for element in layers[-1]:\n",
    "                if isinstance(element, nn.Linear):\n",
    "                    # create mean matrix including bias\n",
    "                    w_mean = copy.copy(element.weight.data)\n",
    "                    bias = copy.copy(element.bias.data)\n",
    "                    w_mean = w_mean.reshape(w_mean.shape[1])\n",
    "                    w_mean = to_np(torch.cat([bias, w_mean]))\n",
    "                    \n",
    "                    # create precision and variance matrix\n",
    "                    self.n_features = w_mean.shape[0]\n",
    "                    \n",
    "                    model = self._create_single_model(self.n_features)\n",
    "                    model.w_mean = w_mean\n",
    "                    self.prediction_models.append(model)\n",
    "                    \n",
    "                    self.are_weights_initialized = True\n",
    "                    \n",
    "            if not self.are_weights_initialized:\n",
    "                raise ValueError(f\"Could not find linear layer in last layer {self.layers[-1]}\")\n",
    "        \n",
    "        \n",
    "        freeze(self.source_model)\n",
    "        \n",
    "        # fake param so that it can be used with pytorch trainers\n",
    "        self.fake_param=nn.Parameter(torch.zeros((1,1), dtype=torch.float))\n",
    "        self.fake_param.requires_grad =True\n",
    "        \n",
    "    def _create_single_model(self,n_features):\n",
    "        model = copy.copy(self._prediction_model)\n",
    "        model._create_matrices(np.ones(n_features).reshape(1, n_features))\n",
    "        model.w_covariance = np.linalg.inv(model.w_precision)\n",
    "        return model\n",
    "        \n",
    "        \n",
    "    @property\n",
    "    def alpha(self):\n",
    "        return self._prediction_model.alpha\n",
    "    \n",
    "    @property\n",
    "    def beta(self):\n",
    "        return self._prediction_model.beta\n",
    "    \n",
    "    @alpha.setter\n",
    "    def alpha(self, alpha):\n",
    "        self._prediction_model.alpha = alpha\n",
    "        \n",
    "    @beta.setter\n",
    "    def beta(self, beta):\n",
    "        self._prediction_model.beta = beta\n",
    "        \n",
    "    def correct_shape(self, x):\n",
    "        n_samples = x.shape[0]\n",
    "        return x.reshape(n_samples, -1)\n",
    "        \n",
    "    def transform(self, cats, conts, as_np=False):\n",
    "        x_transformed =  self.source_model(cats, conts)\n",
    "        \n",
    "        x_transformed = self.correct_shape(x_transformed)\n",
    "        \n",
    "        if as_np: return to_np(x_transformed)\n",
    "        else: return x_transformed\n",
    "    \n",
    "    def forward(self, cats, conts):\n",
    "        n_samples = conts.shape[0]\n",
    "        self.ts_length = 1\n",
    "        if len(conts.shape) == 3:\n",
    "            self.ts_length = conts.shape[2]\n",
    "        \n",
    "        x_transformed = self.transform(cats, conts) \n",
    "        \n",
    "        if not self.are_weights_initialized:\n",
    "            self.n_features = x_transformed.shape[1]+1\n",
    "            \n",
    "            for idx in range(self.ts_length):\n",
    "                model = self._create_single_model(self.n_features)\n",
    "                self.prediction_models.append(model)\n",
    "                    \n",
    "            self.are_weights_initialized=True\n",
    "        \n",
    "        if self.training:\n",
    "            return x_transformed\n",
    "        else:\n",
    "            preds = self.pred_transformed_X(x_transformed)\n",
    "            \n",
    "            return preds\n",
    "            \n",
    "    def update(self, X, y):\n",
    "        X = to_np(X)\n",
    "        y = to_np(y)\n",
    "        y = self.correct_shape(y)\n",
    "        \n",
    "        for idx, prediction_model in enumerate(self.prediction_models):\n",
    "            prediction_model.fit(X, y[:,idx].ravel())\n",
    "        \n",
    "        return self\n",
    "\n",
    "    def predict(self, cats, conts):\n",
    "        x_transformed = self.transform(cats, conts, as_np=True) \n",
    "        return self.pred_transformed_X(x_transformed)\n",
    "\n",
    "    def predict_proba(self, cats, conts):\n",
    "        x_transformed = self.transform(cats, conts, as_np=True)\n",
    "        return self.pred_transformed_X(x_transformed, include_std=True)\n",
    "    \n",
    "    def pred_transformed_X(self, x_transformed, include_std=False):\n",
    "        y_pred_means = np.zeros((len(x_transformed), len(self.prediction_models)))\n",
    "        y_pred_stds = np.zeros((len(x_transformed), len(self.prediction_models)))\n",
    "        \n",
    "        for idx, prediction_model in enumerate(self.prediction_models):\n",
    "            y_pred_mean, y_pred_std = prediction_model.predict_proba(x_transformed)\n",
    "            y_pred_means[:,idx] = y_pred_mean\n",
    "            y_pred_stds[:,idx] = y_pred_std\n",
    "        if include_std:\n",
    "            return torch.tensor(y_pred_means), torch.tensor(y_pred_stds),\n",
    "        else:\n",
    "            return torch.tensor(y_pred_means)\n",
    "    \n",
    "    def loss_func(self, x_transformed, ys):\n",
    "        ys = self.correct_shape(ys)\n",
    "        if self.training:\n",
    "            self.update(x_transformed, ys)\n",
    "        \n",
    "            fake_loss = torch.tensor([0], dtype=torch.float)\n",
    "            fake_loss.requires_grad=True\n",
    "            return self.fake_param + fake_loss\n",
    "        else:\n",
    "            # in case of validation return MSE\n",
    "            return ((x_transformed-ys)**2).mean()\n",
    "        \n",
    "    def log_evidence(self, cats, conts, ys, logme=False):\n",
    "        evidences = []\n",
    "        ys = to_np(self.correct_shape(ys))\n",
    "        \n",
    "        x_transformed = self.transform(cats, conts, as_np=True) \n",
    "        for idx, pred_model in enumerate(self.prediction_models):\n",
    "            ev = pred_model.log_evidence(x_transformed, ys[:,idx].ravel())\n",
    "            evidences.append(ev)\n",
    "            \n",
    "        evidences = np.array(evidences)\n",
    "        \n",
    "        if logme:\n",
    "            evidences = evidences / len(conts)\n",
    "        \n",
    "        return evidences.mean()"
   ]
  },
  {
   "cell_type": "code",
   "execution_count": null,
   "metadata": {},
   "outputs": [],
   "source": [
    "# hide\n",
    "cats, conts, targets = dls_target.one_batch()\n",
    "# test if we get the same results as with the original model\n",
    "with torch.no_grad():\n",
    "    \n",
    "    preds_source = source_model(cats, conts)\n",
    "    ltmodel = LinearTransferModel(source_model, num_layers_to_remove=1, use_original_weights=True)\n",
    "    \n",
    "    preds_target = ltmodel.predict(cats, conts)\n",
    "    test_close(preds_source, preds_target)\n",
    "    preds_target = ltmodel.predict(cats, conts)\n",
    "    test_close(preds_source, preds_target)\n",
    "    preds_target = ltmodel.predict_proba(cats, conts)[0]\n",
    "    test_close(preds_source, preds_target)\n"
   ]
  },
  {
   "cell_type": "markdown",
   "metadata": {},
   "source": [
    "# Synthetic data"
   ]
  },
  {
   "cell_type": "code",
   "execution_count": null,
   "metadata": {},
   "outputs": [],
   "source": [
    "target_model = LinearTransferModel(source_model, num_layers_to_remove=1, \n",
    "                                   use_original_weights=True,\n",
    "                                  )\n",
    "target_model = target_model.eval()"
   ]
  },
  {
   "cell_type": "markdown",
   "metadata": {},
   "source": [
    "Create forecats and check if the source model and the untrained model create the same results"
   ]
  },
  {
   "cell_type": "code",
   "execution_count": null,
   "metadata": {},
   "outputs": [],
   "source": [
    "cats, conts, targets = dls_source.one_batch()"
   ]
  },
  {
   "cell_type": "code",
   "execution_count": null,
   "metadata": {},
   "outputs": [],
   "source": [
    "with torch.no_grad():\n",
    "    preds_source = source_model(cats, conts).ravel()\n",
    "preds_target = target_model(cats.to(\"cpu\"), conts.to(\"cpu\"))"
   ]
  },
  {
   "cell_type": "code",
   "execution_count": null,
   "metadata": {},
   "outputs": [
    {
     "data": {
      "image/png": "[encoded data removed]",
      "text/plain": [
       "<Figure size 432x288 with 1 Axes>"
      ]
     },
     "metadata": {
      "needs_background": "light"
     },
     "output_type": "display_data"
    }
   ],
   "source": [
    "# targets, preds = learn_source.get_preds(ds_idx=0)\n",
    "plt.scatter(conts, preds_target, label=\"preds target model - untrained\", alpha=0.2)\n",
    "plt.scatter(conts, preds_source.detach(), label=\"preds source model\", alpha=0.2)\n",
    "plt.scatter(conts, targets, label=\"targets\")\n",
    "\n",
    "plt.legend()\n",
    "plt.show()"
   ]
  },
  {
   "cell_type": "code",
   "execution_count": null,
   "metadata": {},
   "outputs": [],
   "source": [
    "target_model = LinearTransferModel(source_model, num_layers_to_remove=1, \n",
    "                                   use_original_weights=True,\n",
    "#                                   alpha=(1/0.1)**2, beta=(1/0.1)**2)\n",
    "                                   )\n",
    "target_model.training = True"
   ]
  },
  {
   "cell_type": "code",
   "execution_count": null,
   "metadata": {},
   "outputs": [],
   "source": [
    "preds_before_training = []\n",
    "conts_test_before_training = []\n",
    "targets_before_training = []\n",
    "for cats, conts, targets in dls_target[0]:\n",
    "    target_model(cats, conts)\n",
    "    pred_before_training = target_model.predict(cats, conts)\n",
    "    preds_before_training.append(pred_before_training)\n",
    "    conts_test_before_training.append(conts)\n",
    "    targets_before_training.append(targets)\n",
    "    \n",
    "preds_before_training = torch.cat(preds_before_training)\n",
    "conts_test_before_training = torch.cat(conts_test_before_training)\n",
    "targets_before_training = torch.cat(targets_before_training)"
   ]
  },
  {
   "cell_type": "code",
   "execution_count": null,
   "metadata": {},
   "outputs": [
    {
     "data": {
      "text/plain": [
       "(torch.Size([10, 1]), torch.Size([20, 1]))"
      ]
     },
     "execution_count": null,
     "metadata": {},
     "output_type": "execute_result"
    }
   ],
   "source": [
    "pred_before_training.shape, targets_before_training.shape"
   ]
  },
  {
   "cell_type": "code",
   "execution_count": null,
   "metadata": {},
   "outputs": [],
   "source": [
    "for cats, conts, targets in dls_target[0]:\n",
    "    x_transformed = target_model.forward(cats, conts)\n",
    "    target_model = target_model.update(x_transformed, targets.ravel())\n",
    "    x_transformed = target_model.forward(cats, torch.tensor(dls_target.train_ds.items.X.values).reshape(-1,1))\n",
    "    target_model = target_model.update(x_transformed, torch.tensor(dls_target.train_ds.items.y.values).ravel())"
   ]
  },
  {
   "cell_type": "code",
   "execution_count": null,
   "metadata": {},
   "outputs": [],
   "source": [
    "preds_after_training = []\n",
    "conts_test_after_training = []\n",
    "targets_after_training = []\n",
    "for cats, conts, targets in dls_target[0]:\n",
    "    pred_after_training = target_model.predict(cats, conts)\n",
    "    preds_after_training.append(pred_after_training)\n",
    "    conts_test_after_training.append(conts)\n",
    "    targets_after_training.append(targets)\n",
    "    \n",
    "preds_after_training = torch.cat(preds_after_training)\n",
    "conts_test_after_training = torch.cat(conts_test_after_training)\n",
    "targets_after_training = torch.cat(targets_after_training)"
   ]
  },
  {
   "cell_type": "code",
   "execution_count": null,
   "metadata": {},
   "outputs": [
    {
     "data": {
      "text/plain": [
       "tensor(0.0538, dtype=torch.float64)"
      ]
     },
     "execution_count": null,
     "metadata": {},
     "output_type": "execute_result"
    }
   ],
   "source": [
    "((targets_after_training.reshape(-1)-preds_after_training.reshape(-1))**2).mean()**0.5"
   ]
  },
  {
   "cell_type": "code",
   "execution_count": null,
   "metadata": {},
   "outputs": [
    {
     "data": {
      "text/plain": [
       "<matplotlib.legend.Legend at 0x7f67ca59a9d0>"
      ]
     },
     "execution_count": null,
     "metadata": {},
     "output_type": "execute_result"
    },
    {
     "data": {
      "image/png": "[encoded data removed]",
      "text/plain": [
       "<Figure size 432x288 with 1 Axes>"
      ]
     },
     "metadata": {
      "needs_background": "light"
     },
     "output_type": "display_data"
    }
   ],
   "source": [
    "plt.scatter(conts_test_before_training, targets_before_training, label=\"targets\")\n",
    "plt.scatter(conts_test_before_training, preds_before_training, label=\"before training\")\n",
    "plt.scatter(conts_test_after_training, preds_after_training, label=\"after training\")\n",
    "plt.legend()"
   ]
  },
  {
   "cell_type": "markdown",
   "metadata": {},
   "source": [
    "Lets assure that it also works with pytorch trainings such as the fastai training loop"
   ]
  },
  {
   "cell_type": "code",
   "execution_count": null,
   "metadata": {},
   "outputs": [],
   "source": [
    "target_model = LinearTransferModel(source_model, \n",
    "                                   num_layers_to_remove=1, \n",
    "                                   use_original_weights=True,\n",
    "                                   )"
   ]
  },
  {
   "cell_type": "code",
   "execution_count": null,
   "metadata": {},
   "outputs": [
    {
     "data": {
      "text/html": [
       "<table border=\"1\" class=\"dataframe\">\n",
       "  <thead>\n",
       "    <tr style=\"text-align: left;\">\n",
       "      <th>epoch</th>\n",
       "      <th>train_loss</th>\n",
       "      <th>valid_loss</th>\n",
       "      <th>_rmse</th>\n",
       "      <th>time</th>\n",
       "    </tr>\n",
       "  </thead>\n",
       "  <tbody>\n",
       "    <tr>\n",
       "      <td>0</td>\n",
       "      <td>-0.000505</td>\n",
       "      <td>0.013518</td>\n",
       "      <td>0.116265</td>\n",
       "      <td>00:00</td>\n",
       "    </tr>\n",
       "  </tbody>\n",
       "</table>"
      ],
      "text/plain": [
       "<IPython.core.display.HTML object>"
      ]
     },
     "metadata": {},
     "output_type": "display_data"
    }
   ],
   "source": [
    "target_model = LinearTransferModel(source_model, \n",
    "                                   num_layers_to_remove=1, \n",
    "                                   use_original_weights=True,\n",
    "                                   )\n",
    "\n",
    "\n",
    "target_learner = Learner(dls_target, target_model, loss_func=target_model.loss_func, metrics=rmse,)\n",
    "target_learner.fit(1)"
   ]
  },
  {
   "cell_type": "markdown",
   "metadata": {},
   "source": [
    "We can also not using the last layer as initializaition"
   ]
  },
  {
   "cell_type": "code",
   "execution_count": null,
   "metadata": {},
   "outputs": [
    {
     "data": {
      "text/html": [
       "<table border=\"1\" class=\"dataframe\">\n",
       "  <thead>\n",
       "    <tr style=\"text-align: left;\">\n",
       "      <th>epoch</th>\n",
       "      <th>train_loss</th>\n",
       "      <th>valid_loss</th>\n",
       "      <th>_rmse</th>\n",
       "      <th>time</th>\n",
       "    </tr>\n",
       "  </thead>\n",
       "  <tbody>\n",
       "    <tr>\n",
       "      <td>0</td>\n",
       "      <td>-0.000505</td>\n",
       "      <td>0.015426</td>\n",
       "      <td>0.124200</td>\n",
       "      <td>00:00</td>\n",
       "    </tr>\n",
       "  </tbody>\n",
       "</table>"
      ],
      "text/plain": [
       "<IPython.core.display.HTML object>"
      ]
     },
     "metadata": {},
     "output_type": "display_data"
    }
   ],
   "source": [
    "target_model = LinearTransferModel(source_model, \n",
    "                                   num_layers_to_remove=1, \n",
    "                                   use_original_weights=False,\n",
    "                                   prediction_model=BayesLinReg(alpha=1, beta=1, empirical_bayes=False))\n",
    "\n",
    "\n",
    "target_learner = Learner(dls_target, target_model, loss_func=target_model.loss_func, metrics=rmse,)\n",
    "target_learner.fit(1)"
   ]
  },
  {
   "cell_type": "markdown",
   "metadata": {},
   "source": [
    "Due to the few data samples, the empircal bayes is not working well."
   ]
  },
  {
   "cell_type": "code",
   "execution_count": null,
   "metadata": {},
   "outputs": [
    {
     "data": {
      "text/html": [
       "<table border=\"1\" class=\"dataframe\">\n",
       "  <thead>\n",
       "    <tr style=\"text-align: left;\">\n",
       "      <th>epoch</th>\n",
       "      <th>train_loss</th>\n",
       "      <th>valid_loss</th>\n",
       "      <th>_rmse</th>\n",
       "      <th>time</th>\n",
       "    </tr>\n",
       "  </thead>\n",
       "  <tbody>\n",
       "    <tr>\n",
       "      <td>0</td>\n",
       "      <td>-0.000505</td>\n",
       "      <td>0.032596</td>\n",
       "      <td>0.180544</td>\n",
       "      <td>00:00</td>\n",
       "    </tr>\n",
       "  </tbody>\n",
       "</table>"
      ],
      "text/plain": [
       "<IPython.core.display.HTML object>"
      ]
     },
     "metadata": {},
     "output_type": "display_data"
    }
   ],
   "source": [
    "target_model = LinearTransferModel(source_model, \n",
    "                                   num_layers_to_remove=1, \n",
    "                                   use_original_weights=False,\n",
    "                                   prediction_model=BayesLinReg(alpha=1, beta=1, empirical_bayes=True))\n",
    "\n",
    "\n",
    "target_learner = Learner(dls_target, target_model, loss_func=target_model.loss_func, metrics=rmse,)\n",
    "target_learner.fit(1)"
   ]
  },
  {
   "cell_type": "markdown",
   "metadata": {},
   "source": [
    "Or remove multiple layers"
   ]
  },
  {
   "cell_type": "code",
   "execution_count": null,
   "metadata": {},
   "outputs": [
    {
     "data": {
      "text/html": [
       "<table border=\"1\" class=\"dataframe\">\n",
       "  <thead>\n",
       "    <tr style=\"text-align: left;\">\n",
       "      <th>epoch</th>\n",
       "      <th>train_loss</th>\n",
       "      <th>valid_loss</th>\n",
       "      <th>_rmse</th>\n",
       "      <th>time</th>\n",
       "    </tr>\n",
       "  </thead>\n",
       "  <tbody>\n",
       "    <tr>\n",
       "      <td>0</td>\n",
       "      <td>-0.000505</td>\n",
       "      <td>0.043167</td>\n",
       "      <td>0.207767</td>\n",
       "      <td>00:00</td>\n",
       "    </tr>\n",
       "  </tbody>\n",
       "</table>"
      ],
      "text/plain": [
       "<IPython.core.display.HTML object>"
      ]
     },
     "metadata": {},
     "output_type": "display_data"
    }
   ],
   "source": [
    "target_model = LinearTransferModel(source_model, \n",
    "                                   num_layers_to_remove=2, \n",
    "                                   use_original_weights=False,\n",
    "                                   prediction_model=BayesLinReg(alpha=10, beta=10, empirical_bayes=False)\n",
    "                                   )\n",
    "\n",
    "\n",
    "target_learner = Learner(dls_target, target_model, loss_func=target_model.loss_func, metrics=rmse,)\n",
    "target_learner.fit(1)"
   ]
  },
  {
   "cell_type": "markdown",
   "metadata": {},
   "source": [
    "# Test on real world data"
   ]
  },
  {
   "cell_type": "markdown",
   "metadata": {},
   "source": [
    "## MLP"
   ]
  },
  {
   "cell_type": "code",
   "execution_count": null,
   "metadata": {},
   "outputs": [],
   "source": [
    "\n",
    "from fastrenewables.tabular.core import *\n",
    "from fastrenewables.tabular.data import *\n",
    "from fastrenewables.tabular.model import *\n",
    "from fastrenewables.tabular.learner import *"
   ]
  },
  {
   "cell_type": "code",
   "execution_count": null,
   "metadata": {},
   "outputs": [],
   "source": [
    "cont_names = ['T_HAG_2_M', 'RELHUM_HAG_2_M', 'PS_SFC_0_M', 'ASWDIFDS_SFC_0_M',\n",
    "       'ASWDIRS_SFC_0_M', 'WindSpeed58m',\n",
    "       'SinWindDirection58m', 'CosWindDirection58m', 'WindSpeed60m',\n",
    "       'SinWindDirection60m', 'CosWindDirection60m', 'WindSpeed58mMinus_t_1',\n",
    "       'SinWindDirection58mMinus_t_1', 'CosWindDirection58mMinus_t_1',\n",
    "       'WindSpeed60mMinus_t_1', 'SinWindDirection60mMinus_t_1',\n",
    "       'CosWindDirection60mMinus_t_1', 'WindSpeed58mPlus_t_1',\n",
    "       'SinWindDirection58mPlus_t_1', 'CosWindDirection58mPlus_t_1',\n",
    "       'WindSpeed60mPlus_t_1', 'SinWindDirection60mPlus_t_1',\n",
    "       'CosWindDirection60mPlus_t_1']\n",
    "cat_names = ['TaskID', 'Month', 'Day', 'Hour']\n",
    "set_seed(23, reproducible=True)\n",
    "dls_source = RenewableDataLoaders.from_files(glob.glob(\"../data/*.h5\")[0:1], y_names=\"PowerGeneration\", \n",
    "                                      pre_procs=[FilterYear(year=2020), \n",
    "                                                 AddSeasonalFeatures(as_cont=False)], \n",
    "                                      cat_names=cat_names, cont_names=cont_names)\n",
    "\n",
    "dls_target = RenewableDataLoaders.from_files(glob.glob(\"../data/*.h5\")[2], y_names=\"PowerGeneration\", \n",
    "                                      pre_procs=[FilterYear(year=2020), \n",
    "                                                 AddSeasonalFeatures(as_cont=False)], \n",
    "                                      cat_names=cat_names, cont_names=cont_names)"
   ]
  },
  {
   "cell_type": "code",
   "execution_count": null,
   "metadata": {},
   "outputs": [
    {
     "data": {
      "text/html": [
       "<table border=\"1\" class=\"dataframe\">\n",
       "  <thead>\n",
       "    <tr style=\"text-align: left;\">\n",
       "      <th>epoch</th>\n",
       "      <th>train_loss</th>\n",
       "      <th>valid_loss</th>\n",
       "      <th>_rmse</th>\n",
       "      <th>time</th>\n",
       "    </tr>\n",
       "  </thead>\n",
       "  <tbody>\n",
       "    <tr>\n",
       "      <td>0</td>\n",
       "      <td>0.067237</td>\n",
       "      <td>0.027513</td>\n",
       "      <td>0.165872</td>\n",
       "      <td>00:00</td>\n",
       "    </tr>\n",
       "    <tr>\n",
       "      <td>1</td>\n",
       "      <td>0.027498</td>\n",
       "      <td>0.015638</td>\n",
       "      <td>0.125053</td>\n",
       "      <td>00:00</td>\n",
       "    </tr>\n",
       "    <tr>\n",
       "      <td>2</td>\n",
       "      <td>0.018132</td>\n",
       "      <td>0.011926</td>\n",
       "      <td>0.109207</td>\n",
       "      <td>00:01</td>\n",
       "    </tr>\n",
       "    <tr>\n",
       "      <td>3</td>\n",
       "      <td>0.014278</td>\n",
       "      <td>0.011582</td>\n",
       "      <td>0.107621</td>\n",
       "      <td>00:01</td>\n",
       "    </tr>\n",
       "    <tr>\n",
       "      <td>4</td>\n",
       "      <td>0.012639</td>\n",
       "      <td>0.010648</td>\n",
       "      <td>0.103190</td>\n",
       "      <td>00:01</td>\n",
       "    </tr>\n",
       "  </tbody>\n",
       "</table>"
      ],
      "text/plain": [
       "<IPython.core.display.HTML object>"
      ]
     },
     "metadata": {},
     "output_type": "display_data"
    }
   ],
   "source": [
    "learn_source = renewable_learner(dls_source, metrics=rmse)\n",
    "learn_source.fit_one_cycle(5)"
   ]
  },
  {
   "cell_type": "markdown",
   "metadata": {},
   "source": [
    "When using empirical bayes (MacKay or FixedPoint) we need to set the size of a batch equal to the length  of the complete data. As these algorithms are not supporting a batch wise optimization."
   ]
  },
  {
   "cell_type": "code",
   "execution_count": null,
   "metadata": {},
   "outputs": [
    {
     "data": {
      "text/html": [
       "<table border=\"1\" class=\"dataframe\">\n",
       "  <thead>\n",
       "    <tr style=\"text-align: left;\">\n",
       "      <th>epoch</th>\n",
       "      <th>train_loss</th>\n",
       "      <th>valid_loss</th>\n",
       "      <th>_rmse</th>\n",
       "      <th>time</th>\n",
       "    </tr>\n",
       "  </thead>\n",
       "  <tbody>\n",
       "    <tr>\n",
       "      <td>0</td>\n",
       "      <td>-0.067663</td>\n",
       "      <td>0.009481</td>\n",
       "      <td>0.097371</td>\n",
       "      <td>00:00</td>\n",
       "    </tr>\n",
       "  </tbody>\n",
       "</table>"
      ],
      "text/plain": [
       "<IPython.core.display.HTML object>"
      ]
     },
     "metadata": {},
     "output_type": "display_data"
    }
   ],
   "source": [
    "target_model = LinearTransferModel(learn_source.model, 1, \n",
    "                                   use_original_weights=True,\n",
    "                                  prediction_model=BayesLinReg(alpha=10, beta=10, empirical_bayes=False))\n",
    "target_learner = RenewableLearner(dls_target, target_model, loss_func=target_model.loss_func, metrics=rmse,)\n",
    "target_learner.fit(1)"
   ]
  },
  {
   "cell_type": "code",
   "execution_count": null,
   "metadata": {},
   "outputs": [],
   "source": [
    "preds, targets = target_learner.predict(ds_idx=1, filter=True, flatten=True)"
   ]
  },
  {
   "cell_type": "code",
   "execution_count": null,
   "metadata": {},
   "outputs": [
    {
     "data": {
      "text/plain": [
       "<matplotlib.collections.PathCollection at 0x7f67c811e760>"
      ]
     },
     "execution_count": null,
     "metadata": {},
     "output_type": "execute_result"
    },
    {
     "data": {
      "image/png": "[encoded data removed]",
      "text/plain": [
       "<Figure size 432x288 with 1 Axes>"
      ]
     },
     "metadata": {
      "needs_background": "light"
     },
     "output_type": "display_data"
    }
   ],
   "source": [
    "plt.scatter(dls_target.valid_ds.items.WindSpeed58m, targets)\n",
    "plt.scatter(dls_target.valid_ds.items.WindSpeed58m, preds)"
   ]
  },
  {
   "cell_type": "code",
   "execution_count": null,
   "metadata": {},
   "outputs": [],
   "source": [
    "target_model = LinearTransferModel(learn_source.model, 1, \n",
    "                                   use_original_weights=True,\n",
    "            prediction_model=BayesLinReg(alpha=10, beta=10, empirical_bayes=True))"
   ]
  },
  {
   "cell_type": "markdown",
   "metadata": {},
   "source": [
    "\n",
    "\n",
    "target_learner = RenewableLearner(dls_target, target_model, loss_func=target_model.loss_func, metrics=rmse,)\n",
    "target_learner.dls[0].bs=len(target_learner.dls.train_ds)\n",
    "target_learner.fit(1)"
   ]
  },
  {
   "cell_type": "markdown",
   "metadata": {},
   "source": [
    "## TCN"
   ]
  },
  {
   "cell_type": "markdown",
   "metadata": {},
   "source": [
    "### Source Model"
   ]
  },
  {
   "cell_type": "code",
   "execution_count": null,
   "metadata": {},
   "outputs": [],
   "source": [
    "from fastrenewables.timeseries.core import *\n",
    "from fastrenewables.tabular.core import *\n",
    "from fastrenewables.timeseries.data import *\n",
    "from fastrenewables.timeseries.model import *\n",
    "from fastrenewables.timeseries.learner import *"
   ]
  },
  {
   "cell_type": "code",
   "execution_count": null,
   "metadata": {},
   "outputs": [],
   "source": [
    "def get_dls(y_names=\"PowerGeneration\"):\n",
    "    pd.options.mode.chained_assignment=None\n",
    "    dls_source = RenewableTimeSeriesDataLoaders.from_files(glob.glob(\"../data/*.h5\")[0:1], \n",
    "                                                y_names=y_names, \n",
    "                                                cat_names=cat_names, \n",
    "                                                cont_names=cont_names,\n",
    "                                                pre_procs=[CreateTimeStampIndex(index_col_name=\"TimeUTC\"),\n",
    "                                                           FilterYear(year=2020), \n",
    "                                                             AddSeasonalFeatures(as_cont=False),\n",
    "                                                             FilterInconsistentSamplesPerDay], \n",
    "                                                procs=[Categorify, Normalize], \n",
    "                                                bs=12,\n",
    "                                                y_block=RegressionBlock(),\n",
    "                                                )\n",
    "    \n",
    "    dls_target = RenewableTimeSeriesDataLoaders.from_files(glob.glob(\"../data/*.h5\")[2], \n",
    "                                                y_names=y_names, \n",
    "                                                cat_names=cat_names, \n",
    "                                                cont_names=cont_names,\n",
    "                                                pre_procs=[CreateTimeStampIndex(index_col_name=\"TimeUTC\"),\n",
    "                                                           FilterYear(year=2020), \n",
    "                                                             AddSeasonalFeatures(as_cont=False),\n",
    "                                                             FilterInconsistentSamplesPerDay, \n",
    "                                                           FilterMonths(months=[1,2,3,4])], \n",
    "                                                procs=[Categorify, Normalize], \n",
    "                                                bs=12,\n",
    "                                                y_block=RegressionBlock(),\n",
    "                                                )\n",
    "    \n",
    "    return dls_source, dls_target\n",
    "\n"
   ]
  },
  {
   "cell_type": "code",
   "execution_count": null,
   "metadata": {},
   "outputs": [],
   "source": [
    "set_seed(23, reproducible=True)\n",
    "dls_source, dls_target = get_dls()"
   ]
  },
  {
   "cell_type": "code",
   "execution_count": null,
   "metadata": {},
   "outputs": [],
   "source": [
    "n_features = len(dls_source.train_ds.cont_names)"
   ]
  },
  {
   "cell_type": "code",
   "execution_count": null,
   "metadata": {},
   "outputs": [],
   "source": [
    "learner = renewable_timeseries_learner(dls_source, metrics=rmse, layers=[n_features, 200, 100, 50, 25, 5, 1])"
   ]
  },
  {
   "cell_type": "code",
   "execution_count": null,
   "metadata": {},
   "outputs": [
    {
     "data": {
      "text/html": [
       "<table border=\"1\" class=\"dataframe\">\n",
       "  <thead>\n",
       "    <tr style=\"text-align: left;\">\n",
       "      <th>epoch</th>\n",
       "      <th>train_loss</th>\n",
       "      <th>valid_loss</th>\n",
       "      <th>_rmse</th>\n",
       "      <th>time</th>\n",
       "    </tr>\n",
       "  </thead>\n",
       "  <tbody>\n",
       "    <tr>\n",
       "      <td>0</td>\n",
       "      <td>0.024067</td>\n",
       "      <td>0.012737</td>\n",
       "      <td>0.112856</td>\n",
       "      <td>00:00</td>\n",
       "    </tr>\n",
       "    <tr>\n",
       "      <td>1</td>\n",
       "      <td>0.018807</td>\n",
       "      <td>0.011857</td>\n",
       "      <td>0.108891</td>\n",
       "      <td>00:00</td>\n",
       "    </tr>\n",
       "    <tr>\n",
       "      <td>2</td>\n",
       "      <td>0.015875</td>\n",
       "      <td>0.012140</td>\n",
       "      <td>0.110180</td>\n",
       "      <td>00:00</td>\n",
       "    </tr>\n",
       "    <tr>\n",
       "      <td>3</td>\n",
       "      <td>0.014241</td>\n",
       "      <td>0.011668</td>\n",
       "      <td>0.108021</td>\n",
       "      <td>00:00</td>\n",
       "    </tr>\n",
       "    <tr>\n",
       "      <td>4</td>\n",
       "      <td>0.013157</td>\n",
       "      <td>0.011694</td>\n",
       "      <td>0.108138</td>\n",
       "      <td>00:00</td>\n",
       "    </tr>\n",
       "  </tbody>\n",
       "</table>"
      ],
      "text/plain": [
       "<IPython.core.display.HTML object>"
      ]
     },
     "metadata": {},
     "output_type": "display_data"
    }
   ],
   "source": [
    "learner.fit_one_cycle(5)"
   ]
  },
  {
   "cell_type": "code",
   "execution_count": null,
   "metadata": {},
   "outputs": [],
   "source": [
    "preds, targets = learner.predict(ds_idx=1, filter=True)"
   ]
  },
  {
   "cell_type": "code",
   "execution_count": null,
   "metadata": {},
   "outputs": [],
   "source": [
    "id_ws = 5"
   ]
  },
  {
   "cell_type": "markdown",
   "metadata": {},
   "source": [
    "We catch the the wind speed from the validation data to check the forecasts."
   ]
  },
  {
   "cell_type": "code",
   "execution_count": null,
   "metadata": {},
   "outputs": [],
   "source": [
    "windspeed = dls_source.valid_ds.conts[:,id_ws,:]\n",
    "windspeed = windspeed.reshape(-1,1)"
   ]
  },
  {
   "cell_type": "code",
   "execution_count": null,
   "metadata": {},
   "outputs": [
    {
     "data": {
      "text/plain": [
       "<matplotlib.collections.PathCollection at 0x7f67c80b8b80>"
      ]
     },
     "execution_count": null,
     "metadata": {},
     "output_type": "execute_result"
    },
    {
     "data": {
      "image/png": "[encoded data removed]",
      "text/plain": [
       "<Figure size 432x288 with 1 Axes>"
      ]
     },
     "metadata": {
      "needs_background": "light"
     },
     "output_type": "display_data"
    }
   ],
   "source": [
    "plt.scatter(windspeed, targets)\n",
    "plt.scatter(windspeed, preds)"
   ]
  },
  {
   "cell_type": "markdown",
   "metadata": {},
   "source": [
    "### Target Model"
   ]
  },
  {
   "cell_type": "code",
   "execution_count": null,
   "metadata": {},
   "outputs": [],
   "source": [
    "# export\n",
    "def reduce_layers_tcn_model(tcn_model, num_layers=0):\n",
    "    tcn_model.layers.temporal_blocks = tcn_model.layers.temporal_blocks[:-num_layers]"
   ]
  },
  {
   "cell_type": "markdown",
   "metadata": {},
   "source": [
    "The problem is that we have a lot of features while less samples compared to the linear model."
   ]
  },
  {
   "cell_type": "code",
   "execution_count": null,
   "metadata": {},
   "outputs": [],
   "source": [
    "target_model = LinearTransferModel(learner.model, 1, \n",
    "                                   reduce_layers_tcn_model, \n",
    "                                   use_original_weights=False,\n",
    "                prediction_model=BayesLinReg(10, 10, empirical_bayes=False),\n",
    "                                  )"
   ]
  },
  {
   "cell_type": "code",
   "execution_count": null,
   "metadata": {},
   "outputs": [
    {
     "data": {
      "text/html": [
       "<table border=\"1\" class=\"dataframe\">\n",
       "  <thead>\n",
       "    <tr style=\"text-align: left;\">\n",
       "      <th>epoch</th>\n",
       "      <th>train_loss</th>\n",
       "      <th>valid_loss</th>\n",
       "      <th>_rmse</th>\n",
       "      <th>time</th>\n",
       "    </tr>\n",
       "  </thead>\n",
       "  <tbody>\n",
       "    <tr>\n",
       "      <td>0</td>\n",
       "      <td>-0.003606</td>\n",
       "      <td>0.023020</td>\n",
       "      <td>0.151723</td>\n",
       "      <td>00:00</td>\n",
       "    </tr>\n",
       "  </tbody>\n",
       "</table>"
      ],
      "text/plain": [
       "<IPython.core.display.HTML object>"
      ]
     },
     "metadata": {},
     "output_type": "display_data"
    }
   ],
   "source": [
    "target_learner = RenewableTimeseriesLearner(dls_target, target_model, loss_func=target_model.loss_func, metrics=rmse,)\n",
    "target_learner.fit(1)"
   ]
  },
  {
   "cell_type": "code",
   "execution_count": null,
   "metadata": {},
   "outputs": [
    {
     "data": {
      "text/plain": [
       "<matplotlib.collections.PathCollection at 0x7f679744fbb0>"
      ]
     },
     "execution_count": null,
     "metadata": {},
     "output_type": "execute_result"
    },
    {
     "data": {
      "image/png": "[encoded data removed]",
      "text/plain": [
       "<Figure size 432x288 with 1 Axes>"
      ]
     },
     "metadata": {
      "needs_background": "light"
     },
     "output_type": "display_data"
    }
   ],
   "source": [
    "preds, targets = target_learner.predict(ds_idx=1, filter=True, flatten=True)\n",
    "windspeed = dls_target.valid_ds.conts[:,id_ws,:]\n",
    "windspeed = windspeed.reshape(-1,1)\n",
    "plt.scatter(windspeed, targets)\n",
    "plt.scatter(windspeed, preds)"
   ]
  },
  {
   "cell_type": "code",
   "execution_count": null,
   "metadata": {},
   "outputs": [
    {
     "data": {
      "text/html": [
       "<table border=\"1\" class=\"dataframe\">\n",
       "  <thead>\n",
       "    <tr style=\"text-align: left;\">\n",
       "      <th>epoch</th>\n",
       "      <th>train_loss</th>\n",
       "      <th>valid_loss</th>\n",
       "      <th>_rmse</th>\n",
       "      <th>time</th>\n",
       "    </tr>\n",
       "  </thead>\n",
       "  <tbody>\n",
       "    <tr>\n",
       "      <td>0</td>\n",
       "      <td>0.000000</td>\n",
       "      <td>0.025736</td>\n",
       "      <td>0.160425</td>\n",
       "      <td>00:00</td>\n",
       "    </tr>\n",
       "  </tbody>\n",
       "</table>"
      ],
      "text/plain": [
       "<IPython.core.display.HTML object>"
      ]
     },
     "metadata": {},
     "output_type": "display_data"
    }
   ],
   "source": [
    "target_model = LinearTransferModel(learner.model, 1, \n",
    "                                   reduce_layers_tcn_model, \n",
    "                                   use_original_weights=False,\n",
    "                        prediction_model=BayesLinReg(1, 1, empirical_bayes=True),\n",
    "                                  )\n",
    "\n",
    "target_learner = RenewableTimeseriesLearner(dls_target, target_model, loss_func=target_model.loss_func, metrics=rmse,)\n",
    "target_learner.dls[0].bs=len(target_learner.dls.train_ds)\n",
    "target_learner.fit(1)"
   ]
  },
  {
   "cell_type": "code",
   "execution_count": null,
   "metadata": {},
   "outputs": [
    {
     "data": {
      "text/html": [
       "<table border=\"1\" class=\"dataframe\">\n",
       "  <thead>\n",
       "    <tr style=\"text-align: left;\">\n",
       "      <th>epoch</th>\n",
       "      <th>train_loss</th>\n",
       "      <th>valid_loss</th>\n",
       "      <th>_rmse</th>\n",
       "      <th>time</th>\n",
       "    </tr>\n",
       "  </thead>\n",
       "  <tbody>\n",
       "    <tr>\n",
       "      <td>0</td>\n",
       "      <td>0.000000</td>\n",
       "      <td>0.020170</td>\n",
       "      <td>0.142020</td>\n",
       "      <td>00:00</td>\n",
       "    </tr>\n",
       "  </tbody>\n",
       "</table>"
      ],
      "text/plain": [
       "<IPython.core.display.HTML object>"
      ]
     },
     "metadata": {},
     "output_type": "display_data"
    }
   ],
   "source": [
    "target_model = LinearTransferModel(learner.model, 1, \n",
    "                       reduce_layers_tcn_model, \n",
    "                       use_original_weights=False,\n",
    "                        prediction_model=BayesLinReg(1, 1, use_fixed_point=True),\n",
    "                                  )\n",
    "\n",
    "target_learner = RenewableTimeseriesLearner(dls_target, target_model, loss_func=target_model.loss_func, metrics=rmse,)\n",
    "target_learner.dls[0].bs=len(target_learner.dls.train_ds)\n",
    "target_learner.fit(1)"
   ]
  },
  {
   "cell_type": "code",
   "execution_count": null,
   "metadata": {},
   "outputs": [],
   "source": [
    "preds, targets = target_learner.predict(ds_idx=1, filter=True, flatten=True)\n",
    "windspeed = dls_target.valid_ds.conts[:,id_ws,:]"
   ]
  },
  {
   "cell_type": "code",
   "execution_count": null,
   "metadata": {},
   "outputs": [
    {
     "data": {
      "text/plain": [
       "<matplotlib.collections.PathCollection at 0x7f679711bc70>"
      ]
     },
     "execution_count": null,
     "metadata": {},
     "output_type": "execute_result"
    },
    {
     "data": {
      "image/png": "[encoded data removed]",
      "text/plain": [
       "<Figure size 432x288 with 1 Axes>"
      ]
     },
     "metadata": {
      "needs_background": "light"
     },
     "output_type": "display_data"
    }
   ],
   "source": [
    "windspeed = dls_target.valid_ds.conts[:,id_ws,:]\n",
    "windspeed = windspeed.reshape(-1,1)\n",
    "plt.scatter(windspeed.ravel(), targets)\n",
    "plt.scatter(windspeed.ravel(), preds)"
   ]
  }
 ],
 "metadata": {
  "kernelspec": {
   "display_name": "Python 3",
   "language": "python",
   "name": "python3"
  }
 },
 "nbformat": 4,
 "nbformat_minor": 2
}
