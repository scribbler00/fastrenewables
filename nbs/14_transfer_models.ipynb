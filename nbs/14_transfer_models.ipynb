{
 "cells": [
  {
   "cell_type": "code",
   "execution_count": null,
   "metadata": {},
   "outputs": [],
   "source": [
    "# default_exp models.transfermodels"
   ]
  },
  {
   "cell_type": "markdown",
   "metadata": {},
   "source": [
    "# models.transfermodels\n",
    "\n",
    "> API details."
   ]
  },
  {
   "cell_type": "code",
   "execution_count": null,
   "metadata": {},
   "outputs": [
    {
     "name": "stderr",
     "output_type": "stream",
     "text": [
      "/home/scribbler/anaconda/lib/python3.8/site-packages/numba/np/ufunc/parallel.py:365: NumbaWarning: \u001b[1mThe TBB threading layer requires TBB version 2019.5 or later i.e., TBB_INTERFACE_VERSION >= 11005. Found TBB_INTERFACE_VERSION = 9107. The TBB threading layer is disabled.\u001b[0m\n",
      "  warnings.warn(problem)\n"
     ]
    }
   ],
   "source": [
    "# export\n",
    "import os\n",
    "os.environ[\"CUDA_VISIBLE_DEVICES\"] = \"\"\n",
    "import numpy as np\n",
    "import torch\n",
    "from torch import nn\n",
    "from fastrenewables.tabular.model import *\n",
    "from fastrenewables.timeseries.model import *\n",
    "from fastai.tabular.all import *\n",
    "from torch.autograd import Variable\n",
    "from sklearn.datasets import make_regression\n",
    "from fastai.learner import *\n",
    "from fastrenewables.utils_pytorch import *\n",
    "import copy\n",
    "from fastrenewables.timeseries.model import *\n",
    "from fastrenewables.baselines import BayesLinReg\n",
    "from fastrenewables.tabular.learner import convert_to_tensor\n",
    "from fastrenewables.losses import *"
   ]
  },
  {
   "cell_type": "code",
   "execution_count": null,
   "metadata": {},
   "outputs": [],
   "source": [
    "def generate_single_dataset(n_samples, start, end, bias, coef, noise_factor=0.3):\n",
    "\n",
    "    X = np.random.uniform(low=start, high=end,size=n_samples)\n",
    "    y = np.sin(X*coef*2*np.pi) + np.random.randn(X.shape[0])*noise_factor+bias\n",
    "    \n",
    "    return X,y"
   ]
  },
  {
   "cell_type": "code",
   "execution_count": null,
   "metadata": {},
   "outputs": [],
   "source": [
    "def generate_all_tasks(n_samples=100):\n",
    "    starts = [0,  0]\n",
    "    ends = [4.1,  3.9]\n",
    "    coefs = [3.4,  4]\n",
    "    biases = [0.1,  0.1]\n",
    "    n_samples = [n_samples, 30]\n",
    "    \n",
    "    df_tasks = []\n",
    "    for task_id in range(len(starts)):\n",
    "        start, end, bias, coef = starts[task_id], ends[task_id], coefs[task_id], biases[task_id]\n",
    "        X,y = generate_single_dataset(n_samples[task_id], start, end, bias, coef, noise_factor=0.05)\n",
    "        df_task = pd.DataFrame({\"X\": X.ravel(), \"y\":y.ravel()})\n",
    "        df_task[\"TaskID\"] = task_id\n",
    "        df_tasks.append(df_task)\n",
    "    return pd.concat(df_tasks)"
   ]
  },
  {
   "cell_type": "code",
   "execution_count": null,
   "metadata": {},
   "outputs": [],
   "source": [
    "def get_source_task(df):\n",
    "    df_source =  df[df.TaskID == 0]\n",
    "    dls = TabularDataLoaders.from_df(df_source, cont_names=\"X\", y_names=\"y\", \n",
    "                                     deivce=\"cpu\", procs=Normalize, bs=10)\n",
    "    return dls\n",
    "    \n",
    "def get_target_task(df):\n",
    "    df_target =  df[df.TaskID == 1]\n",
    "    dls = TabularDataLoaders.from_df(df_target, cont_names=\"X\", y_names=\"y\", \n",
    "                                     deivce=\"cpu\", procs=Normalize, bs=10)\n",
    "    return dls"
   ]
  },
  {
   "cell_type": "code",
   "execution_count": null,
   "metadata": {},
   "outputs": [],
   "source": [
    "df = generate_all_tasks()"
   ]
  },
  {
   "cell_type": "code",
   "execution_count": null,
   "metadata": {},
   "outputs": [
    {
     "data": {
      "text/plain": [
       "<matplotlib.collections.PathCollection at 0x7fcb72566400>"
      ]
     },
     "execution_count": null,
     "metadata": {},
     "output_type": "execute_result"
    },
    {
     "data": {
      "image/png": "[encoded data removed]",
      "text/plain": [
       "<Figure size 432x288 with 1 Axes>"
      ]
     },
     "metadata": {
      "needs_background": "light"
     },
     "output_type": "display_data"
    }
   ],
   "source": [
    "plt.scatter(df.X, df.y, c=df.TaskID)"
   ]
  },
  {
   "cell_type": "code",
   "execution_count": null,
   "metadata": {},
   "outputs": [],
   "source": [
    "dls_source = get_source_task(df)\n",
    "dls_target = get_target_task(df)"
   ]
  },
  {
   "cell_type": "code",
   "execution_count": null,
   "metadata": {},
   "outputs": [],
   "source": [
    "set_seed(10)\n",
    "source_model = MultiLayerPerceptron([1, 100, 10, 5, 1], use_bn=True, bn_cont=False)\n",
    "learn_source = Learner(dls_source, source_model, metrics=rmse)"
   ]
  },
  {
   "cell_type": "code",
   "execution_count": null,
   "metadata": {},
   "outputs": [
    {
     "data": {
      "text/html": [
       "<table border=\"1\" class=\"dataframe\">\n",
       "  <thead>\n",
       "    <tr style=\"text-align: left;\">\n",
       "      <th>epoch</th>\n",
       "      <th>train_loss</th>\n",
       "      <th>valid_loss</th>\n",
       "      <th>_rmse</th>\n",
       "      <th>time</th>\n",
       "    </tr>\n",
       "  </thead>\n",
       "  <tbody>\n",
       "    <tr>\n",
       "      <td>0</td>\n",
       "      <td>13.426699</td>\n",
       "      <td>12.267033</td>\n",
       "      <td>3.502433</td>\n",
       "      <td>00:00</td>\n",
       "    </tr>\n",
       "    <tr>\n",
       "      <td>1</td>\n",
       "      <td>12.753251</td>\n",
       "      <td>10.990005</td>\n",
       "      <td>3.315118</td>\n",
       "      <td>00:00</td>\n",
       "    </tr>\n",
       "    <tr>\n",
       "      <td>2</td>\n",
       "      <td>11.962538</td>\n",
       "      <td>9.099142</td>\n",
       "      <td>3.016479</td>\n",
       "      <td>00:00</td>\n",
       "    </tr>\n",
       "    <tr>\n",
       "      <td>3</td>\n",
       "      <td>10.996161</td>\n",
       "      <td>7.370801</td>\n",
       "      <td>2.714922</td>\n",
       "      <td>00:00</td>\n",
       "    </tr>\n",
       "    <tr>\n",
       "      <td>4</td>\n",
       "      <td>9.840137</td>\n",
       "      <td>5.237538</td>\n",
       "      <td>2.288567</td>\n",
       "      <td>00:00</td>\n",
       "    </tr>\n",
       "    <tr>\n",
       "      <td>5</td>\n",
       "      <td>8.539509</td>\n",
       "      <td>2.974980</td>\n",
       "      <td>1.724813</td>\n",
       "      <td>00:00</td>\n",
       "    </tr>\n",
       "    <tr>\n",
       "      <td>6</td>\n",
       "      <td>7.187219</td>\n",
       "      <td>1.170844</td>\n",
       "      <td>1.082055</td>\n",
       "      <td>00:00</td>\n",
       "    </tr>\n",
       "    <tr>\n",
       "      <td>7</td>\n",
       "      <td>5.896554</td>\n",
       "      <td>0.291221</td>\n",
       "      <td>0.539649</td>\n",
       "      <td>00:00</td>\n",
       "    </tr>\n",
       "    <tr>\n",
       "      <td>8</td>\n",
       "      <td>4.784526</td>\n",
       "      <td>0.013240</td>\n",
       "      <td>0.115066</td>\n",
       "      <td>00:00</td>\n",
       "    </tr>\n",
       "    <tr>\n",
       "      <td>9</td>\n",
       "      <td>3.898248</td>\n",
       "      <td>0.056481</td>\n",
       "      <td>0.237657</td>\n",
       "      <td>00:00</td>\n",
       "    </tr>\n",
       "    <tr>\n",
       "      <td>10</td>\n",
       "      <td>3.211458</td>\n",
       "      <td>0.083822</td>\n",
       "      <td>0.289521</td>\n",
       "      <td>00:00</td>\n",
       "    </tr>\n",
       "    <tr>\n",
       "      <td>11</td>\n",
       "      <td>2.662535</td>\n",
       "      <td>0.024851</td>\n",
       "      <td>0.157641</td>\n",
       "      <td>00:00</td>\n",
       "    </tr>\n",
       "    <tr>\n",
       "      <td>12</td>\n",
       "      <td>2.216481</td>\n",
       "      <td>0.006924</td>\n",
       "      <td>0.083208</td>\n",
       "      <td>00:00</td>\n",
       "    </tr>\n",
       "    <tr>\n",
       "      <td>13</td>\n",
       "      <td>1.849615</td>\n",
       "      <td>0.006991</td>\n",
       "      <td>0.083612</td>\n",
       "      <td>00:00</td>\n",
       "    </tr>\n",
       "    <tr>\n",
       "      <td>14</td>\n",
       "      <td>1.548575</td>\n",
       "      <td>0.006224</td>\n",
       "      <td>0.078890</td>\n",
       "      <td>00:00</td>\n",
       "    </tr>\n",
       "    <tr>\n",
       "      <td>15</td>\n",
       "      <td>1.301680</td>\n",
       "      <td>0.005279</td>\n",
       "      <td>0.072659</td>\n",
       "      <td>00:00</td>\n",
       "    </tr>\n",
       "    <tr>\n",
       "      <td>16</td>\n",
       "      <td>1.097234</td>\n",
       "      <td>0.009179</td>\n",
       "      <td>0.095809</td>\n",
       "      <td>00:00</td>\n",
       "    </tr>\n",
       "    <tr>\n",
       "      <td>17</td>\n",
       "      <td>0.926624</td>\n",
       "      <td>0.022754</td>\n",
       "      <td>0.150845</td>\n",
       "      <td>00:00</td>\n",
       "    </tr>\n",
       "    <tr>\n",
       "      <td>18</td>\n",
       "      <td>0.786186</td>\n",
       "      <td>0.012015</td>\n",
       "      <td>0.109612</td>\n",
       "      <td>00:00</td>\n",
       "    </tr>\n",
       "    <tr>\n",
       "      <td>19</td>\n",
       "      <td>0.667312</td>\n",
       "      <td>0.005787</td>\n",
       "      <td>0.076073</td>\n",
       "      <td>00:00</td>\n",
       "    </tr>\n",
       "    <tr>\n",
       "      <td>20</td>\n",
       "      <td>0.567680</td>\n",
       "      <td>0.011128</td>\n",
       "      <td>0.105491</td>\n",
       "      <td>00:00</td>\n",
       "    </tr>\n",
       "    <tr>\n",
       "      <td>21</td>\n",
       "      <td>0.483377</td>\n",
       "      <td>0.010604</td>\n",
       "      <td>0.102975</td>\n",
       "      <td>00:00</td>\n",
       "    </tr>\n",
       "    <tr>\n",
       "      <td>22</td>\n",
       "      <td>0.411364</td>\n",
       "      <td>0.005926</td>\n",
       "      <td>0.076983</td>\n",
       "      <td>00:00</td>\n",
       "    </tr>\n",
       "    <tr>\n",
       "      <td>23</td>\n",
       "      <td>0.350667</td>\n",
       "      <td>0.004767</td>\n",
       "      <td>0.069041</td>\n",
       "      <td>00:00</td>\n",
       "    </tr>\n",
       "    <tr>\n",
       "      <td>24</td>\n",
       "      <td>0.299442</td>\n",
       "      <td>0.011794</td>\n",
       "      <td>0.108600</td>\n",
       "      <td>00:00</td>\n",
       "    </tr>\n",
       "  </tbody>\n",
       "</table>"
      ],
      "text/plain": [
       "<IPython.core.display.HTML object>"
      ]
     },
     "metadata": {},
     "output_type": "display_data"
    }
   ],
   "source": [
    "learn_source.fit(25, lr=0.01)"
   ]
  },
  {
   "cell_type": "code",
   "execution_count": null,
   "metadata": {},
   "outputs": [
    {
     "data": {
      "text/html": [],
      "text/plain": [
       "<IPython.core.display.HTML object>"
      ]
     },
     "metadata": {},
     "output_type": "display_data"
    },
    {
     "data": {
      "image/png": "[encoded data removed]",
      "text/plain": [
       "<Figure size 432x288 with 1 Axes>"
      ]
     },
     "metadata": {
      "needs_background": "light"
     },
     "output_type": "display_data"
    }
   ],
   "source": [
    "targets, preds = learn_source.get_preds(ds_idx=0)\n",
    "plt.scatter(dls_source.train_ds.items.X, preds, label=\"preds\")\n",
    "plt.scatter(dls_source.train_ds.items.X, targets, label=\"targets\")\n",
    "plt.legend()\n",
    "plt.show()"
   ]
  },
  {
   "cell_type": "code",
   "execution_count": null,
   "metadata": {},
   "outputs": [],
   "source": [
    "# hide\n",
    "# export\n",
    "def _create_matrices(n_features, alpha):\n",
    "    w_mean = torch.zeros(n_features)\n",
    "    w_precision = torch.eye(n_features) / alpha\n",
    "    \n",
    "    return w_mean, w_precision\n",
    "# minimal check if we can create the matricies\n",
    "mean, precision = _create_matrices(10, 10)\n",
    "test_eq(0, mean.sum())\n",
    "test_eq(0.1, precision[0,0])"
   ]
  },
  {
   "cell_type": "code",
   "execution_count": null,
   "metadata": {},
   "outputs": [],
   "source": [
    "# export\n",
    "class LinearTransferModel(nn.Module):\n",
    "    def __init__(\n",
    "        self,\n",
    "        source_model,\n",
    "        num_layers_to_remove=1,\n",
    "        name_layers_or_function_to_remove=\"layers\",\n",
    "        use_original_weights=True,\n",
    "        prediction_model=BayesLinReg(alpha=1, beta=1, empirical_bayes=False),\n",
    "        as_multivariate_target=True,\n",
    "    ):\n",
    "        super().__init__()\n",
    "        self.are_weights_initialized = False\n",
    "        self.as_multivariate_target = as_multivariate_target\n",
    "        self.num_layers_to_remove = num_layers_to_remove\n",
    "        self.ts_length = 1\n",
    "        self.source_model = copy.deepcopy(source_model)\n",
    "        self._prediction_model = prediction_model\n",
    "        self.prediction_models = []\n",
    "        if use_original_weights:\n",
    "            self._prediction_model.empirical_bayes = False\n",
    "\n",
    "        if callable(name_layers_or_function_to_remove):\n",
    "            name_layers_or_function_to_remove(self.source_model, num_layers_to_remove)\n",
    "        elif type(name_layers_or_function_to_remove) == str:\n",
    "            layers = getattrs(\n",
    "                self.source_model, name_layers_or_function_to_remove, default=None\n",
    "            )[0]\n",
    "            if layers is None:\n",
    "                raise ValueError(\n",
    "                    f\"Could not find layers by given name {name_layers_or_function_to_remove}.\"\n",
    "                )\n",
    "            elif isinstance(layers, torch.nn.modules.container.Sequential):\n",
    "                setattr(\n",
    "                    self.source_model,\n",
    "                    name_layers_or_function_to_remove,\n",
    "                    layers[0 : -self.num_layers_to_remove],\n",
    "                )\n",
    "            else:\n",
    "                raise ValueError(f\"Only sequential layers are supported.\")\n",
    "        else:\n",
    "            ValueError(\"Unknown type for name_layers_or_function_to_remove\")\n",
    "\n",
    "        if num_layers_to_remove != 1 and use_original_weights:\n",
    "            raise ValueError(\n",
    "                \"Can only reuse weights when using the last layers due to the dimension.\"\n",
    "            )\n",
    "        elif num_layers_to_remove == 1 and use_original_weights:\n",
    "\n",
    "            for element in layers[-1]:\n",
    "                if isinstance(element, nn.Linear):\n",
    "                    # create mean matrix including bias\n",
    "                    w_mean = copy.copy(element.weight.data)\n",
    "                    bias = copy.copy(element.bias.data)\n",
    "                    w_mean = w_mean.reshape(w_mean.shape[1])\n",
    "                    w_mean = to_np(torch.cat([bias, w_mean]))\n",
    "\n",
    "                    # create precision and variance matrix\n",
    "                    self.n_features = w_mean.shape[0]\n",
    "\n",
    "                    model = self._create_single_model(self.n_features)\n",
    "                    model.w_mean = w_mean\n",
    "                    self.prediction_models.append(model)\n",
    "\n",
    "                    self.are_weights_initialized = True\n",
    "\n",
    "            if not self.are_weights_initialized:\n",
    "                raise ValueError(\n",
    "                    f\"Could not find linear layer in last layer {self.layers[-1]}\"\n",
    "                )\n",
    "\n",
    "        freeze(self.source_model)\n",
    "\n",
    "        # fake param so that it can be used with pytorch trainers\n",
    "        self.fake_param = nn.Parameter(torch.zeros((1, 1), dtype=torch.float))\n",
    "        self.fake_param.requires_grad = True\n",
    "\n",
    "    def _create_single_model(self, n_features):\n",
    "        model = copy.copy(self._prediction_model)\n",
    "        model._create_matrices(np.ones(n_features).reshape(1, n_features))\n",
    "        model.w_covariance = np.linalg.inv(model.w_precision)\n",
    "        return model\n",
    "\n",
    "    @property\n",
    "    def alpha(self):\n",
    "        return self._prediction_model.alpha\n",
    "\n",
    "    @property\n",
    "    def beta(self):\n",
    "        return self._prediction_model.beta\n",
    "\n",
    "    @alpha.setter\n",
    "    def alpha(self, alpha):\n",
    "        self._prediction_model.alpha = alpha\n",
    "\n",
    "    @beta.setter\n",
    "    def beta(self, beta):\n",
    "        self._prediction_model.beta = beta\n",
    "\n",
    "    def correct_shape(self, x):\n",
    "        if self.as_multivariate_target:\n",
    "            n_samples = x.shape[0]\n",
    "            return x.reshape(n_samples, -1)\n",
    "        else:\n",
    "            n_features = x.shape[1]\n",
    "            if len(x.shape)==3:\n",
    "                return x.swapaxes(1, 2).reshape(-1, n_features)\n",
    "            else:\n",
    "                return x.reshape(-1, n_features)\n",
    "\n",
    "    def transform(self, cats, conts, as_np=False):\n",
    "        x_transformed = self.source_model(cats, conts)\n",
    "\n",
    "        x_transformed = self.correct_shape(x_transformed)\n",
    "\n",
    "        if as_np:\n",
    "            return to_np(x_transformed)\n",
    "        else:\n",
    "            return x_transformed\n",
    "\n",
    "    def forward(self, cats, conts):\n",
    "        n_samples = conts.shape[0]\n",
    "        self.ts_length = 1\n",
    "\n",
    "        if len(conts.shape) == 3 and self.as_multivariate_target:\n",
    "            self.ts_length = conts.shape[2]\n",
    "\n",
    "        x_transformed = self.transform(cats, conts)\n",
    "\n",
    "        if not self.are_weights_initialized:\n",
    "            self.n_features = x_transformed.shape[1] + 1\n",
    "\n",
    "            for idx in range(self.ts_length):\n",
    "                model = self._create_single_model(self.n_features)\n",
    "                self.prediction_models.append(model)\n",
    "\n",
    "            self.are_weights_initialized = True\n",
    "\n",
    "        if self.training:\n",
    "            return x_transformed\n",
    "        else:\n",
    "            preds = self.pred_transformed_X(x_transformed)\n",
    "\n",
    "            return preds\n",
    "\n",
    "    def update(self, X, y):\n",
    "        X = to_np(X)\n",
    "        y = to_np(y)\n",
    "        y = self.correct_shape(y)\n",
    "\n",
    "        for idx, prediction_model in enumerate(self.prediction_models):\n",
    "            prediction_model.fit(X, y[:, idx].ravel())\n",
    "\n",
    "        return self\n",
    "\n",
    "    def predict(self, cats, conts):\n",
    "        x_transformed = self.transform(cats, conts, as_np=True)\n",
    "        return self.pred_transformed_X(x_transformed)\n",
    "\n",
    "    def predict_proba(self, cats, conts):\n",
    "        x_transformed = self.transform(cats, conts, as_np=True)\n",
    "        return self.pred_transformed_X(x_transformed, include_std=True)\n",
    "\n",
    "    def pred_transformed_X(self, x_transformed, include_std=False):\n",
    "        y_pred_means = np.zeros((len(x_transformed), len(self.prediction_models)))\n",
    "        y_pred_stds = np.zeros((len(x_transformed), len(self.prediction_models)))\n",
    "\n",
    "        for idx, prediction_model in enumerate(self.prediction_models):\n",
    "            y_pred_mean, y_pred_std = prediction_model.predict_proba(x_transformed)\n",
    "            y_pred_means[:, idx] = y_pred_mean\n",
    "            y_pred_stds[:, idx] = y_pred_std\n",
    "        if include_std:\n",
    "            return (\n",
    "                torch.tensor(y_pred_means, dtype=torch.float32),\n",
    "                torch.tensor(y_pred_stds, dtype=torch.float32),\n",
    "            )\n",
    "        else:\n",
    "            return torch.tensor(y_pred_means, dtype=torch.float32)\n",
    "\n",
    "    def loss_func(self, x_transformed, ys):\n",
    "        ys = self.correct_shape(ys)\n",
    "        if self.training:\n",
    "            self.update(x_transformed, ys)\n",
    "\n",
    "            fake_loss = torch.tensor([0], dtype=torch.float)\n",
    "            fake_loss.requires_grad = True\n",
    "            return self.fake_param + fake_loss\n",
    "        else:\n",
    "            # in case of validation return MSE\n",
    "            return ((x_transformed - ys) ** 2).mean()\n",
    "\n",
    "    def log_posterior(self, cats, conts, ys):\n",
    "        ys = to_np(self.correct_shape(ys))\n",
    "\n",
    "        x_transformed = self.transform(cats, conts, as_np=True)\n",
    "\n",
    "        posteriors = np.zeros((len(self.prediction_models), 1))\n",
    "        for idx, pred_model in enumerate(self.prediction_models):\n",
    "            log_posterior = pred_model.log_posterior(x_transformed, ys[:, idx].ravel())\n",
    "            posteriors[idx] = log_posterior\n",
    "        return posteriors\n",
    "\n",
    "    def log_evidence(self, cats, conts, ys, logme=False):\n",
    "        evidences = []\n",
    "        ys = to_np(self.correct_shape(ys))\n",
    "\n",
    "        x_transformed = self.transform(cats, conts, as_np=True)\n",
    "        for idx, pred_model in enumerate(self.prediction_models):\n",
    "            ev = pred_model.log_evidence(x_transformed, ys[:, idx].ravel())\n",
    "            evidences.append(ev)\n",
    "\n",
    "        evidences = np.array(evidences, dtype=np.float)\n",
    "\n",
    "        if logme:\n",
    "            evidences = evidences / len(conts)\n",
    "\n",
    "        return evidences.mean()\n"
   ]
  },
  {
   "cell_type": "code",
   "execution_count": null,
   "metadata": {},
   "outputs": [],
   "source": [
    "# hide\n",
    "cats, conts, targets = dls_target.one_batch()\n",
    "# test if we get the same results as with the original model\n",
    "with torch.no_grad():\n",
    "    \n",
    "    preds_source = source_model(cats, conts)\n",
    "    ltmodel = LinearTransferModel(source_model, num_layers_to_remove=1, use_original_weights=True)\n",
    "    \n",
    "    preds_target = ltmodel.predict(cats, conts)\n",
    "    test_close(preds_source, preds_target)\n",
    "    preds_target = ltmodel.predict(cats, conts)\n",
    "    test_close(preds_source, preds_target)\n",
    "    preds_target = ltmodel.predict_proba(cats, conts)[0]\n",
    "    test_close(preds_source, preds_target)\n"
   ]
  },
  {
   "cell_type": "markdown",
   "metadata": {},
   "source": [
    "# Synthetic data"
   ]
  },
  {
   "cell_type": "markdown",
   "metadata": {},
   "source": [
    "## Linear Transfer Model"
   ]
  },
  {
   "cell_type": "code",
   "execution_count": null,
   "metadata": {},
   "outputs": [],
   "source": [
    "target_model = LinearTransferModel(source_model, num_layers_to_remove=1, \n",
    "                                   use_original_weights=True,\n",
    "                                  )\n",
    "target_model = target_model.eval()"
   ]
  },
  {
   "cell_type": "markdown",
   "metadata": {},
   "source": [
    "Create forecats and check if the source model and the untrained model create the same results"
   ]
  },
  {
   "cell_type": "code",
   "execution_count": null,
   "metadata": {},
   "outputs": [],
   "source": [
    "cats, conts, targets = dls_source.one_batch()"
   ]
  },
  {
   "cell_type": "code",
   "execution_count": null,
   "metadata": {},
   "outputs": [],
   "source": [
    "with torch.no_grad():\n",
    "    preds_source = source_model(cats, conts).ravel()\n",
    "preds_target = target_model(cats.to(\"cpu\"), conts.to(\"cpu\"))"
   ]
  },
  {
   "cell_type": "code",
   "execution_count": null,
   "metadata": {},
   "outputs": [
    {
     "data": {
      "image/png": "[encoded data removed]",
      "text/plain": [
       "<Figure size 432x288 with 1 Axes>"
      ]
     },
     "metadata": {
      "needs_background": "light"
     },
     "output_type": "display_data"
    }
   ],
   "source": [
    "# targets, preds = learn_source.get_preds(ds_idx=0)\n",
    "plt.scatter(conts, preds_target, label=\"preds target model - untrained\", alpha=0.2)\n",
    "plt.scatter(conts, preds_source.detach(), label=\"preds source model\", alpha=0.2)\n",
    "plt.scatter(conts, targets, label=\"targets\")\n",
    "\n",
    "plt.legend()\n",
    "plt.show()"
   ]
  },
  {
   "cell_type": "code",
   "execution_count": null,
   "metadata": {},
   "outputs": [],
   "source": [
    "target_model = LinearTransferModel(source_model, num_layers_to_remove=1, \n",
    "                                   use_original_weights=True,\n",
    "                                   )\n",
    "target_model.training = True"
   ]
  },
  {
   "cell_type": "code",
   "execution_count": null,
   "metadata": {},
   "outputs": [],
   "source": [
    "cats, conts, targets = convert_to_tensor(dls_target.train_ds)\n",
    "preds_before_training = target_model.predict(cats, conts)"
   ]
  },
  {
   "cell_type": "code",
   "execution_count": null,
   "metadata": {},
   "outputs": [],
   "source": [
    "x_transformed = target_model.forward(cats, conts)\n",
    "target_model = target_model.update(x_transformed, targets.ravel())\n",
    "target_model.training = False\n",
    "preds_after_training = target_model.forward(cats, conts)"
   ]
  },
  {
   "cell_type": "code",
   "execution_count": null,
   "metadata": {},
   "outputs": [
    {
     "data": {
      "text/plain": [
       "tensor(0.0858)"
      ]
     },
     "execution_count": null,
     "metadata": {},
     "output_type": "execute_result"
    }
   ],
   "source": [
    "((targets.reshape(-1)-preds_after_training.reshape(-1))**2).mean()**0.5"
   ]
  },
  {
   "cell_type": "code",
   "execution_count": null,
   "metadata": {},
   "outputs": [
    {
     "data": {
      "text/plain": [
       "<matplotlib.legend.Legend at 0x7fcb6c25eb20>"
      ]
     },
     "execution_count": null,
     "metadata": {},
     "output_type": "execute_result"
    },
    {
     "data": {
      "image/png": "[encoded data removed]",
      "text/plain": [
       "<Figure size 432x288 with 1 Axes>"
      ]
     },
     "metadata": {
      "needs_background": "light"
     },
     "output_type": "display_data"
    }
   ],
   "source": [
    "plt.scatter(conts, targets, label=\"targets\")\n",
    "plt.scatter(conts, preds_before_training, label=\"before training\")\n",
    "plt.scatter(conts, preds_after_training, label=\"after training\")\n",
    "plt.legend()"
   ]
  },
  {
   "cell_type": "markdown",
   "metadata": {},
   "source": [
    "Lets assure that it also works with pytorch trainings such as the fastai training loop"
   ]
  },
  {
   "cell_type": "code",
   "execution_count": null,
   "metadata": {},
   "outputs": [],
   "source": [
    "target_model = LinearTransferModel(source_model, \n",
    "                                   num_layers_to_remove=1, \n",
    "                                   use_original_weights=True,\n",
    "                                   )"
   ]
  },
  {
   "cell_type": "code",
   "execution_count": null,
   "metadata": {},
   "outputs": [
    {
     "data": {
      "text/html": [
       "<table border=\"1\" class=\"dataframe\">\n",
       "  <thead>\n",
       "    <tr style=\"text-align: left;\">\n",
       "      <th>epoch</th>\n",
       "      <th>train_loss</th>\n",
       "      <th>valid_loss</th>\n",
       "      <th>_rmse</th>\n",
       "      <th>time</th>\n",
       "    </tr>\n",
       "  </thead>\n",
       "  <tbody>\n",
       "    <tr>\n",
       "      <td>0</td>\n",
       "      <td>-0.000505</td>\n",
       "      <td>0.004182</td>\n",
       "      <td>0.064666</td>\n",
       "      <td>00:00</td>\n",
       "    </tr>\n",
       "  </tbody>\n",
       "</table>"
      ],
      "text/plain": [
       "<IPython.core.display.HTML object>"
      ]
     },
     "metadata": {},
     "output_type": "display_data"
    }
   ],
   "source": [
    "target_model = LinearTransferModel(source_model, \n",
    "                                   num_layers_to_remove=1, \n",
    "                                   use_original_weights=True,\n",
    "                                   )\n",
    "\n",
    "\n",
    "target_learner = Learner(dls_target, target_model, loss_func=target_model.loss_func, metrics=rmse,)\n",
    "target_learner.fit(1)"
   ]
  },
  {
   "cell_type": "markdown",
   "metadata": {},
   "source": [
    "We can also not using the last layer as initializaition"
   ]
  },
  {
   "cell_type": "code",
   "execution_count": null,
   "metadata": {},
   "outputs": [
    {
     "data": {
      "text/html": [
       "<table border=\"1\" class=\"dataframe\">\n",
       "  <thead>\n",
       "    <tr style=\"text-align: left;\">\n",
       "      <th>epoch</th>\n",
       "      <th>train_loss</th>\n",
       "      <th>valid_loss</th>\n",
       "      <th>_rmse</th>\n",
       "      <th>time</th>\n",
       "    </tr>\n",
       "  </thead>\n",
       "  <tbody>\n",
       "    <tr>\n",
       "      <td>0</td>\n",
       "      <td>-0.000505</td>\n",
       "      <td>0.007480</td>\n",
       "      <td>0.086488</td>\n",
       "      <td>00:00</td>\n",
       "    </tr>\n",
       "  </tbody>\n",
       "</table>"
      ],
      "text/plain": [
       "<IPython.core.display.HTML object>"
      ]
     },
     "metadata": {},
     "output_type": "display_data"
    }
   ],
   "source": [
    "target_model = LinearTransferModel(source_model, \n",
    "                                   num_layers_to_remove=1, \n",
    "                                   use_original_weights=False,\n",
    "                                   prediction_model=BayesLinReg(alpha=1, beta=1, empirical_bayes=False))\n",
    "\n",
    "\n",
    "target_learner = Learner(dls_target, target_model, loss_func=target_model.loss_func, metrics=rmse,)\n",
    "target_learner.fit(1)"
   ]
  },
  {
   "cell_type": "markdown",
   "metadata": {},
   "source": [
    "Due to the few data samples, the empircal bayes is not working well."
   ]
  },
  {
   "cell_type": "code",
   "execution_count": null,
   "metadata": {},
   "outputs": [
    {
     "data": {
      "text/html": [
       "<table border=\"1\" class=\"dataframe\">\n",
       "  <thead>\n",
       "    <tr style=\"text-align: left;\">\n",
       "      <th>epoch</th>\n",
       "      <th>train_loss</th>\n",
       "      <th>valid_loss</th>\n",
       "      <th>_rmse</th>\n",
       "      <th>time</th>\n",
       "    </tr>\n",
       "  </thead>\n",
       "  <tbody>\n",
       "    <tr>\n",
       "      <td>0</td>\n",
       "      <td>-0.000505</td>\n",
       "      <td>0.017668</td>\n",
       "      <td>0.132920</td>\n",
       "      <td>00:00</td>\n",
       "    </tr>\n",
       "  </tbody>\n",
       "</table>"
      ],
      "text/plain": [
       "<IPython.core.display.HTML object>"
      ]
     },
     "metadata": {},
     "output_type": "display_data"
    }
   ],
   "source": [
    "target_model = LinearTransferModel(source_model, \n",
    "                                   num_layers_to_remove=1, \n",
    "                                   use_original_weights=False,\n",
    "                                   prediction_model=BayesLinReg(alpha=1, beta=1, empirical_bayes=True))\n",
    "\n",
    "\n",
    "target_learner = Learner(dls_target, target_model, loss_func=target_model.loss_func, metrics=rmse,)\n",
    "target_learner.fit(1)"
   ]
  },
  {
   "cell_type": "markdown",
   "metadata": {},
   "source": [
    "Or remove multiple layers"
   ]
  },
  {
   "cell_type": "code",
   "execution_count": null,
   "metadata": {},
   "outputs": [
    {
     "data": {
      "text/html": [
       "<table border=\"1\" class=\"dataframe\">\n",
       "  <thead>\n",
       "    <tr style=\"text-align: left;\">\n",
       "      <th>epoch</th>\n",
       "      <th>train_loss</th>\n",
       "      <th>valid_loss</th>\n",
       "      <th>_rmse</th>\n",
       "      <th>time</th>\n",
       "    </tr>\n",
       "  </thead>\n",
       "  <tbody>\n",
       "    <tr>\n",
       "      <td>0</td>\n",
       "      <td>-0.000505</td>\n",
       "      <td>0.103939</td>\n",
       "      <td>0.322396</td>\n",
       "      <td>00:00</td>\n",
       "    </tr>\n",
       "  </tbody>\n",
       "</table>"
      ],
      "text/plain": [
       "<IPython.core.display.HTML object>"
      ]
     },
     "metadata": {},
     "output_type": "display_data"
    }
   ],
   "source": [
    "target_model = LinearTransferModel(source_model, \n",
    "                                   num_layers_to_remove=2, \n",
    "                                   use_original_weights=False,\n",
    "                                   prediction_model=BayesLinReg(alpha=10, beta=10, empirical_bayes=False)\n",
    "                                   )\n",
    "\n",
    "\n",
    "target_learner = Learner(dls_target, target_model, loss_func=target_model.loss_func, metrics=rmse,)\n",
    "target_learner.fit(1)"
   ]
  },
  {
   "cell_type": "markdown",
   "metadata": {},
   "source": [
    "## B Tuning"
   ]
  },
  {
   "cell_type": "code",
   "execution_count": null,
   "metadata": {},
   "outputs": [],
   "source": [
    "#export\n",
    "\n",
    "class BTuningModel(nn.Module):\n",
    "    def __init__(self, source_model, b_tuning_models):\n",
    "        \"\"\"Based on Ranking and Tuning Pre-trained Models: A New Paradigm of Exploiting Model Hubs\"\"\"\n",
    "        super().__init__()\n",
    "        self.source_model = source_model\n",
    "        self.b_tuning_models = b_tuning_models\n",
    "        \n",
    "        for model in self.b_tuning_models:\n",
    "            model.fake_param.requires_grad=False\n",
    "            model.eval()\n",
    "            \n",
    "    def forward(self, cats, conts):\n",
    "        yhat_source_model = self.source_model(cats, conts)\n",
    "        yhat_b_tuning_models = []\n",
    "        n_samples = len(conts)\n",
    "        is_ts = True if len(yhat_source_model.shape) == 3 else False\n",
    "        for b_tuning_model in self.b_tuning_models:\n",
    "            cur_y_hat = b_tuning_model(cats, conts)\n",
    "            if is_ts:\n",
    "                cur_y_hat = cur_y_hat.reshape(n_samples, 1, -1)\n",
    "            yhat_b_tuning_models.append(cur_y_hat)\n",
    "        yhat_b_tuning_models = torch.cat(yhat_b_tuning_models, axis=1)\n",
    "        \n",
    "        yhat_all = torch.cat([yhat_source_model, yhat_b_tuning_models], axis=1)\n",
    "        \n",
    "        return yhat_all\n",
    "            "
   ]
  },
  {
   "cell_type": "markdown",
   "metadata": {},
   "source": [
    "# Test on real world data"
   ]
  },
  {
   "cell_type": "markdown",
   "metadata": {},
   "source": [
    "## MLP"
   ]
  },
  {
   "cell_type": "code",
   "execution_count": null,
   "metadata": {},
   "outputs": [],
   "source": [
    "\n",
    "from fastrenewables.tabular.core import *\n",
    "from fastrenewables.tabular.data import *\n",
    "from fastrenewables.tabular.model import *\n",
    "from fastrenewables.tabular.learner import *"
   ]
  },
  {
   "cell_type": "code",
   "execution_count": null,
   "metadata": {},
   "outputs": [],
   "source": [
    "cont_names = ['T_HAG_2_M', 'RELHUM_HAG_2_M', 'PS_SFC_0_M', 'ASWDIFDS_SFC_0_M',\n",
    "       'ASWDIRS_SFC_0_M', 'WindSpeed58m',\n",
    "       'SinWindDirection58m', 'CosWindDirection58m', 'WindSpeed60m',\n",
    "       'SinWindDirection60m', 'CosWindDirection60m', 'WindSpeed58mMinus_t_1',\n",
    "       'SinWindDirection58mMinus_t_1', 'CosWindDirection58mMinus_t_1',\n",
    "       'WindSpeed60mMinus_t_1', 'SinWindDirection60mMinus_t_1',\n",
    "       'CosWindDirection60mMinus_t_1', 'WindSpeed58mPlus_t_1',\n",
    "       'SinWindDirection58mPlus_t_1', 'CosWindDirection58mPlus_t_1',\n",
    "       'WindSpeed60mPlus_t_1', 'SinWindDirection60mPlus_t_1',\n",
    "       'CosWindDirection60mPlus_t_1']\n",
    "cat_names = ['TaskID', 'Month', 'Day', 'Hour']\n",
    "set_seed(23, reproducible=True)\n",
    "dls_source = RenewableDataLoaders.from_files(glob.glob(\"../data/*.h5\")[0], y_names=\"PowerGeneration\", \n",
    "                                      pre_procs=[FilterYear(year=2020), \n",
    "                                                 AddSeasonalFeatures(as_cont=False)], \n",
    "                                      cat_names=cat_names, cont_names=cont_names)\n",
    "dls_source2 = RenewableDataLoaders.from_files(glob.glob(\"../data/*.h5\")[1], y_names=\"PowerGeneration\", \n",
    "                                      pre_procs=[FilterYear(year=2020), \n",
    "                                                 AddSeasonalFeatures(as_cont=False)], \n",
    "                                      cat_names=cat_names, cont_names=cont_names)\n",
    "\n",
    "dls_target = RenewableDataLoaders.from_files(glob.glob(\"../data/*.h5\")[2], y_names=\"PowerGeneration\", \n",
    "                                      pre_procs=[FilterYear(year=2020), \n",
    "                                                 FilterMonths(months=[4]),\n",
    "                                                 FilterDays(14),\n",
    "                                                 AddSeasonalFeatures(as_cont=False)], \n",
    "                                      cat_names=cat_names, cont_names=cont_names)\n",
    "\n",
    "dls_target_test = RenewableDataLoaders.from_files(glob.glob(\"../data/*.h5\")[2], y_names=\"PowerGeneration\", \n",
    "                                      pre_procs=[FilterYear(year=2020, drop=False), \n",
    "                                                 AddSeasonalFeatures(as_cont=False)], \n",
    "                                      cat_names=cat_names, cont_names=cont_names)"
   ]
  },
  {
   "cell_type": "code",
   "execution_count": null,
   "metadata": {},
   "outputs": [
    {
     "data": {
      "text/html": [
       "<table border=\"1\" class=\"dataframe\">\n",
       "  <thead>\n",
       "    <tr style=\"text-align: left;\">\n",
       "      <th>epoch</th>\n",
       "      <th>train_loss</th>\n",
       "      <th>valid_loss</th>\n",
       "      <th>_rmse</th>\n",
       "      <th>time</th>\n",
       "    </tr>\n",
       "  </thead>\n",
       "  <tbody>\n",
       "    <tr>\n",
       "      <td>0</td>\n",
       "      <td>0.051373</td>\n",
       "      <td>0.022847</td>\n",
       "      <td>0.151152</td>\n",
       "      <td>00:00</td>\n",
       "    </tr>\n",
       "    <tr>\n",
       "      <td>1</td>\n",
       "      <td>0.023696</td>\n",
       "      <td>0.013710</td>\n",
       "      <td>0.117088</td>\n",
       "      <td>00:00</td>\n",
       "    </tr>\n",
       "    <tr>\n",
       "      <td>2</td>\n",
       "      <td>0.017138</td>\n",
       "      <td>0.011691</td>\n",
       "      <td>0.108123</td>\n",
       "      <td>00:00</td>\n",
       "    </tr>\n",
       "    <tr>\n",
       "      <td>3</td>\n",
       "      <td>0.013668</td>\n",
       "      <td>0.010748</td>\n",
       "      <td>0.103675</td>\n",
       "      <td>00:00</td>\n",
       "    </tr>\n",
       "    <tr>\n",
       "      <td>4</td>\n",
       "      <td>0.012099</td>\n",
       "      <td>0.009912</td>\n",
       "      <td>0.099558</td>\n",
       "      <td>00:00</td>\n",
       "    </tr>\n",
       "  </tbody>\n",
       "</table>"
      ],
      "text/plain": [
       "<IPython.core.display.HTML object>"
      ]
     },
     "metadata": {},
     "output_type": "display_data"
    }
   ],
   "source": [
    "learn_source = renewable_learner(dls_source, metrics=rmse)\n",
    "learn_source.fit_one_cycle(5)"
   ]
  },
  {
   "cell_type": "code",
   "execution_count": null,
   "metadata": {},
   "outputs": [
    {
     "data": {
      "text/html": [
       "<table border=\"1\" class=\"dataframe\">\n",
       "  <thead>\n",
       "    <tr style=\"text-align: left;\">\n",
       "      <th>epoch</th>\n",
       "      <th>train_loss</th>\n",
       "      <th>valid_loss</th>\n",
       "      <th>_rmse</th>\n",
       "      <th>time</th>\n",
       "    </tr>\n",
       "  </thead>\n",
       "  <tbody>\n",
       "    <tr>\n",
       "      <td>0</td>\n",
       "      <td>0.062742</td>\n",
       "      <td>0.022118</td>\n",
       "      <td>0.148722</td>\n",
       "      <td>00:00</td>\n",
       "    </tr>\n",
       "    <tr>\n",
       "      <td>1</td>\n",
       "      <td>0.023437</td>\n",
       "      <td>0.016584</td>\n",
       "      <td>0.128779</td>\n",
       "      <td>00:00</td>\n",
       "    </tr>\n",
       "    <tr>\n",
       "      <td>2</td>\n",
       "      <td>0.014903</td>\n",
       "      <td>0.013031</td>\n",
       "      <td>0.114154</td>\n",
       "      <td>00:00</td>\n",
       "    </tr>\n",
       "    <tr>\n",
       "      <td>3</td>\n",
       "      <td>0.011798</td>\n",
       "      <td>0.012733</td>\n",
       "      <td>0.112840</td>\n",
       "      <td>00:00</td>\n",
       "    </tr>\n",
       "    <tr>\n",
       "      <td>4</td>\n",
       "      <td>0.010426</td>\n",
       "      <td>0.010620</td>\n",
       "      <td>0.103053</td>\n",
       "      <td>00:00</td>\n",
       "    </tr>\n",
       "  </tbody>\n",
       "</table>"
      ],
      "text/plain": [
       "<IPython.core.display.HTML object>"
      ]
     },
     "metadata": {},
     "output_type": "display_data"
    }
   ],
   "source": [
    "learn_source2 = renewable_learner(dls_source2, metrics=rmse)\n",
    "learn_source2.fit_one_cycle(5)"
   ]
  },
  {
   "cell_type": "markdown",
   "metadata": {},
   "source": [
    "When using empirical bayes (MacKay or FixedPoint) we need to set the size of a batch equal to the length  of the complete data. As these algorithms are not supporting a batch wise optimization."
   ]
  },
  {
   "cell_type": "code",
   "execution_count": null,
   "metadata": {},
   "outputs": [
    {
     "data": {
      "text/html": [
       "<table border=\"1\" class=\"dataframe\">\n",
       "  <thead>\n",
       "    <tr style=\"text-align: left;\">\n",
       "      <th>epoch</th>\n",
       "      <th>train_loss</th>\n",
       "      <th>valid_loss</th>\n",
       "      <th>_rmse</th>\n",
       "      <th>time</th>\n",
       "    </tr>\n",
       "  </thead>\n",
       "  <tbody>\n",
       "    <tr>\n",
       "      <td>0</td>\n",
       "      <td>-0.001525</td>\n",
       "      <td>0.004198</td>\n",
       "      <td>0.064794</td>\n",
       "      <td>00:00</td>\n",
       "    </tr>\n",
       "  </tbody>\n",
       "</table>"
      ],
      "text/plain": [
       "<IPython.core.display.HTML object>"
      ]
     },
     "metadata": {},
     "output_type": "display_data"
    }
   ],
   "source": [
    "target_model = LinearTransferModel(learn_source.model, 1, \n",
    "                                   use_original_weights=True,\n",
    "                                  prediction_model=BayesLinReg(alpha=10, beta=10, empirical_bayes=False))\n",
    "target_learner = RenewableLearner(dls_target, target_model, loss_func=target_model.loss_func, metrics=rmse,)\n",
    "target_learner.fit(1)"
   ]
  },
  {
   "cell_type": "code",
   "execution_count": null,
   "metadata": {},
   "outputs": [],
   "source": [
    "preds, targets = target_learner.predict(ds_idx=1, filter=True, flatten=True)"
   ]
  },
  {
   "cell_type": "code",
   "execution_count": null,
   "metadata": {},
   "outputs": [
    {
     "data": {
      "text/plain": [
       "<matplotlib.collections.PathCollection at 0x7fcb72989160>"
      ]
     },
     "execution_count": null,
     "metadata": {},
     "output_type": "execute_result"
    },
    {
     "data": {
      "image/png": "[encoded data removed]",
      "text/plain": [
       "<Figure size 432x288 with 1 Axes>"
      ]
     },
     "metadata": {
      "needs_background": "light"
     },
     "output_type": "display_data"
    }
   ],
   "source": [
    "plt.scatter(dls_target.valid_ds.items.WindSpeed58m, targets)\n",
    "plt.scatter(dls_target.valid_ds.items.WindSpeed58m, preds)"
   ]
  },
  {
   "cell_type": "code",
   "execution_count": null,
   "metadata": {},
   "outputs": [
    {
     "data": {
      "text/html": [
       "<table border=\"1\" class=\"dataframe\">\n",
       "  <thead>\n",
       "    <tr style=\"text-align: left;\">\n",
       "      <th>epoch</th>\n",
       "      <th>train_loss</th>\n",
       "      <th>valid_loss</th>\n",
       "      <th>_rmse</th>\n",
       "      <th>time</th>\n",
       "    </tr>\n",
       "  </thead>\n",
       "  <tbody>\n",
       "    <tr>\n",
       "      <td>0</td>\n",
       "      <td>0.000000</td>\n",
       "      <td>0.005673</td>\n",
       "      <td>0.075322</td>\n",
       "      <td>00:00</td>\n",
       "    </tr>\n",
       "  </tbody>\n",
       "</table>"
      ],
      "text/plain": [
       "<IPython.core.display.HTML object>"
      ]
     },
     "metadata": {},
     "output_type": "display_data"
    }
   ],
   "source": [
    "target_model = LinearTransferModel(learn_source.model, 1, \n",
    "                                   use_original_weights=True,\n",
    "            prediction_model=BayesLinReg(alpha=10, beta=10, empirical_bayes=True))\n",
    "target_learner = RenewableLearner(dls_target, target_model, loss_func=target_model.loss_func, metrics=rmse,)\n",
    "target_learner.dls[0].bs=len(target_learner.dls.train_ds)\n",
    "target_learner.fit(1)"
   ]
  },
  {
   "cell_type": "code",
   "execution_count": null,
   "metadata": {},
   "outputs": [
    {
     "data": {
      "text/html": [
       "<table border=\"1\" class=\"dataframe\">\n",
       "  <thead>\n",
       "    <tr style=\"text-align: left;\">\n",
       "      <th>epoch</th>\n",
       "      <th>train_loss</th>\n",
       "      <th>valid_loss</th>\n",
       "      <th>_rmse</th>\n",
       "      <th>time</th>\n",
       "    </tr>\n",
       "  </thead>\n",
       "  <tbody>\n",
       "    <tr>\n",
       "      <td>0</td>\n",
       "      <td>-0.001000</td>\n",
       "      <td>0.005813</td>\n",
       "      <td>0.076244</td>\n",
       "      <td>00:00</td>\n",
       "    </tr>\n",
       "  </tbody>\n",
       "</table>"
      ],
      "text/plain": [
       "<IPython.core.display.HTML object>"
      ]
     },
     "metadata": {},
     "output_type": "display_data"
    }
   ],
   "source": [
    "target_model2 = LinearTransferModel(learn_source2.model, 1, \n",
    "                                   use_original_weights=True,\n",
    "            prediction_model=BayesLinReg(alpha=10, beta=10, empirical_bayes=True))\n",
    "target_learner = RenewableLearner(dls_target, target_model, loss_func=target_model.loss_func, metrics=rmse,)\n",
    "target_learner.dls[0].bs=len(target_learner.dls.train_ds)\n",
    "target_learner.fit(1)"
   ]
  },
  {
   "cell_type": "markdown",
   "metadata": {},
   "source": [
    "## B Tunning "
   ]
  },
  {
   "cell_type": "code",
   "execution_count": null,
   "metadata": {},
   "outputs": [
    {
     "data": {
      "text/html": [
       "<table border=\"1\" class=\"dataframe\">\n",
       "  <thead>\n",
       "    <tr style=\"text-align: left;\">\n",
       "      <th>epoch</th>\n",
       "      <th>train_loss</th>\n",
       "      <th>valid_loss</th>\n",
       "      <th>_rmse</th>\n",
       "      <th>time</th>\n",
       "    </tr>\n",
       "  </thead>\n",
       "  <tbody>\n",
       "    <tr>\n",
       "      <td>0</td>\n",
       "      <td>0.014628</td>\n",
       "      <td>0.011018</td>\n",
       "      <td>0.104969</td>\n",
       "      <td>00:00</td>\n",
       "    </tr>\n",
       "    <tr>\n",
       "      <td>1</td>\n",
       "      <td>0.014853</td>\n",
       "      <td>0.006784</td>\n",
       "      <td>0.082365</td>\n",
       "      <td>00:00</td>\n",
       "    </tr>\n",
       "    <tr>\n",
       "      <td>2</td>\n",
       "      <td>0.012434</td>\n",
       "      <td>0.006455</td>\n",
       "      <td>0.080343</td>\n",
       "      <td>00:00</td>\n",
       "    </tr>\n",
       "    <tr>\n",
       "      <td>3</td>\n",
       "      <td>0.011216</td>\n",
       "      <td>0.006522</td>\n",
       "      <td>0.080758</td>\n",
       "      <td>00:00</td>\n",
       "    </tr>\n",
       "    <tr>\n",
       "      <td>4</td>\n",
       "      <td>0.010416</td>\n",
       "      <td>0.004815</td>\n",
       "      <td>0.069390</td>\n",
       "      <td>00:00</td>\n",
       "    </tr>\n",
       "  </tbody>\n",
       "</table>"
      ],
      "text/plain": [
       "<IPython.core.display.HTML object>"
      ]
     },
     "metadata": {},
     "output_type": "display_data"
    },
    {
     "data": {
      "text/plain": [
       "0.2482382494166137"
      ]
     },
     "execution_count": null,
     "metadata": {},
     "output_type": "execute_result"
    }
   ],
   "source": [
    "target_learner = RenewableLearner(dls_target, copy.deepcopy(learn_source.model), metrics=rmse)\n",
    "target_learner.fit(5, lr=5e-4)\n",
    "preds, targets = target_learner.predict(test_dl=dls_target_test, filter=False, flatten=False)\n",
    "((targets.ravel()-preds.ravel())**2).mean()**0.5"
   ]
  },
  {
   "cell_type": "code",
   "execution_count": null,
   "metadata": {},
   "outputs": [
    {
     "data": {
      "text/plain": [
       "<fastai.tabular.data.TabularDataLoaders at 0x7fcb6c3281f0>"
      ]
     },
     "execution_count": null,
     "metadata": {},
     "output_type": "execute_result"
    }
   ],
   "source": [
    "dls_target_test"
   ]
  },
  {
   "cell_type": "code",
   "execution_count": null,
   "metadata": {},
   "outputs": [
    {
     "name": "stdout",
     "output_type": "stream",
     "text": [
      "0.22409779712212635\n"
     ]
    },
    {
     "data": {
      "text/html": [
       "<table border=\"1\" class=\"dataframe\">\n",
       "  <thead>\n",
       "    <tr style=\"text-align: left;\">\n",
       "      <th>epoch</th>\n",
       "      <th>train_loss</th>\n",
       "      <th>valid_loss</th>\n",
       "      <th>btuning_rmse</th>\n",
       "      <th>time</th>\n",
       "    </tr>\n",
       "  </thead>\n",
       "  <tbody>\n",
       "    <tr>\n",
       "      <td>0</td>\n",
       "      <td>0.031296</td>\n",
       "      <td>0.025076</td>\n",
       "      <td>0.120109</td>\n",
       "      <td>00:00</td>\n",
       "    </tr>\n",
       "    <tr>\n",
       "      <td>1</td>\n",
       "      <td>0.032431</td>\n",
       "      <td>0.019194</td>\n",
       "      <td>0.099040</td>\n",
       "      <td>00:00</td>\n",
       "    </tr>\n",
       "    <tr>\n",
       "      <td>2</td>\n",
       "      <td>0.028178</td>\n",
       "      <td>0.016852</td>\n",
       "      <td>0.082386</td>\n",
       "      <td>00:00</td>\n",
       "    </tr>\n",
       "    <tr>\n",
       "      <td>3</td>\n",
       "      <td>0.025123</td>\n",
       "      <td>0.017654</td>\n",
       "      <td>0.080413</td>\n",
       "      <td>00:00</td>\n",
       "    </tr>\n",
       "    <tr>\n",
       "      <td>4</td>\n",
       "      <td>0.023895</td>\n",
       "      <td>0.014591</td>\n",
       "      <td>0.073255</td>\n",
       "      <td>00:00</td>\n",
       "    </tr>\n",
       "  </tbody>\n",
       "</table>"
      ],
      "text/plain": [
       "<IPython.core.display.HTML object>"
      ]
     },
     "metadata": {},
     "output_type": "display_data"
    },
    {
     "data": {
      "text/plain": [
       "0.23964759061705687"
      ]
     },
     "execution_count": null,
     "metadata": {},
     "output_type": "execute_result"
    }
   ],
   "source": [
    "source_model = copy.deepcopy(learn_source.model)\n",
    "btuning_model = BTuningModel(source_model, [target_model,target_model2])\n",
    "btuning_loss = BTuningLoss(lambd=1)\n",
    "\n",
    "\n",
    "target_learner = RenewableLearner(dls_target, btuning_model, loss_func=btuning_loss, metrics=btuning_rmse)\n",
    "preds, targets = target_learner.predict(test_dl=dls_target_test, filter=False, flatten=False)\n",
    "print(btuning_rmse(preds, targets))\n",
    "\n",
    "target_learner.fit(5, lr=5e-4)\n",
    "preds, targets = target_learner.predict(test_dl=dls_target_test, filter=False, flatten=False)\n",
    "btuning_rmse(preds, targets)"
   ]
  },
  {
   "cell_type": "markdown",
   "metadata": {},
   "source": [
    "## TCN"
   ]
  },
  {
   "cell_type": "markdown",
   "metadata": {},
   "source": [
    "### Source Model"
   ]
  },
  {
   "cell_type": "code",
   "execution_count": null,
   "metadata": {},
   "outputs": [],
   "source": [
    "from fastrenewables.timeseries.core import *\n",
    "from fastrenewables.tabular.core import *\n",
    "from fastrenewables.timeseries.data import *\n",
    "from fastrenewables.timeseries.model import *\n",
    "from fastrenewables.timeseries.learner import *"
   ]
  },
  {
   "cell_type": "code",
   "execution_count": null,
   "metadata": {},
   "outputs": [],
   "source": [
    "def get_dls(y_names=\"PowerGeneration\"):\n",
    "    pd.options.mode.chained_assignment=None\n",
    "    dls_source = RenewableTimeSeriesDataLoaders.from_files(glob.glob(\"../data/*.h5\")[0:1], \n",
    "                                                y_names=y_names, \n",
    "                                                cat_names=cat_names, \n",
    "                                                cont_names=cont_names,\n",
    "                                                pre_procs=[CreateTimeStampIndex(index_col_name=\"TimeUTC\"),\n",
    "                                                           FilterYear(year=2020), \n",
    "                                                             AddSeasonalFeatures(as_cont=False),\n",
    "                                                             FilterInconsistentSamplesPerDay], \n",
    "                                                procs=[Categorify, Normalize], \n",
    "                                                bs=12,\n",
    "                                                y_block=RegressionBlock(),\n",
    "                                                )\n",
    "    \n",
    "    dls_target = RenewableTimeSeriesDataLoaders.from_files(glob.glob(\"../data/*.h5\")[2], \n",
    "                                                y_names=y_names, \n",
    "                                                cat_names=cat_names, \n",
    "                                                cont_names=cont_names,\n",
    "                                                pre_procs=[CreateTimeStampIndex(index_col_name=\"TimeUTC\"),\n",
    "                                                           FilterYear(year=2020), \n",
    "                                                             AddSeasonalFeatures(as_cont=False),\n",
    "                                                             FilterInconsistentSamplesPerDay, \n",
    "                                                           FilterMonths(months=[1,2,3,4])], \n",
    "                                                procs=[Categorify, Normalize], \n",
    "                                                bs=12,\n",
    "                                                y_block=RegressionBlock(),\n",
    "                                                )\n",
    "    \n",
    "    dls_target_test = RenewableTimeSeriesDataLoaders.from_files(glob.glob(\"../data/*.h5\")[2], \n",
    "                                                y_names=y_names, \n",
    "                                                cat_names=cat_names, \n",
    "                                                cont_names=cont_names,\n",
    "                                                pre_procs=[CreateTimeStampIndex(index_col_name=\"TimeUTC\"),\n",
    "                                                           FilterYear(year=2020, drop=False), \n",
    "                                                             AddSeasonalFeatures(as_cont=False),\n",
    "                                                             FilterInconsistentSamplesPerDay, \n",
    "                                                           FilterMonths(months=[1,2,3,4])], \n",
    "                                                procs=[Categorify, Normalize], \n",
    "                                                bs=12,\n",
    "                                                y_block=RegressionBlock(),\n",
    "                                                )\n",
    "    return dls_source, dls_target,dls_target_test\n",
    "\n"
   ]
  },
  {
   "cell_type": "code",
   "execution_count": null,
   "metadata": {},
   "outputs": [],
   "source": [
    "set_seed(23, reproducible=True)\n",
    "dls_source, dls_target, dls_target_test = get_dls()"
   ]
  },
  {
   "cell_type": "code",
   "execution_count": null,
   "metadata": {},
   "outputs": [],
   "source": [
    "n_features = len(dls_source.train_ds.cont_names)"
   ]
  },
  {
   "cell_type": "code",
   "execution_count": null,
   "metadata": {},
   "outputs": [],
   "source": [
    "learner = renewable_timeseries_learner(dls_source, metrics=rmse, layers=[n_features, 200, 100, 50, 25, 5, 1])"
   ]
  },
  {
   "cell_type": "code",
   "execution_count": null,
   "metadata": {},
   "outputs": [
    {
     "data": {
      "text/html": [
       "<table border=\"1\" class=\"dataframe\">\n",
       "  <thead>\n",
       "    <tr style=\"text-align: left;\">\n",
       "      <th>epoch</th>\n",
       "      <th>train_loss</th>\n",
       "      <th>valid_loss</th>\n",
       "      <th>_rmse</th>\n",
       "      <th>time</th>\n",
       "    </tr>\n",
       "  </thead>\n",
       "  <tbody>\n",
       "    <tr>\n",
       "      <td>0</td>\n",
       "      <td>0.031414</td>\n",
       "      <td>0.015584</td>\n",
       "      <td>0.124834</td>\n",
       "      <td>00:00</td>\n",
       "    </tr>\n",
       "    <tr>\n",
       "      <td>1</td>\n",
       "      <td>0.022274</td>\n",
       "      <td>0.014412</td>\n",
       "      <td>0.120049</td>\n",
       "      <td>00:00</td>\n",
       "    </tr>\n",
       "    <tr>\n",
       "      <td>2</td>\n",
       "      <td>0.018172</td>\n",
       "      <td>0.012712</td>\n",
       "      <td>0.112750</td>\n",
       "      <td>00:00</td>\n",
       "    </tr>\n",
       "    <tr>\n",
       "      <td>3</td>\n",
       "      <td>0.015774</td>\n",
       "      <td>0.012098</td>\n",
       "      <td>0.109992</td>\n",
       "      <td>00:00</td>\n",
       "    </tr>\n",
       "    <tr>\n",
       "      <td>4</td>\n",
       "      <td>0.014208</td>\n",
       "      <td>0.011923</td>\n",
       "      <td>0.109195</td>\n",
       "      <td>00:00</td>\n",
       "    </tr>\n",
       "  </tbody>\n",
       "</table>"
      ],
      "text/plain": [
       "<IPython.core.display.HTML object>"
      ]
     },
     "metadata": {},
     "output_type": "display_data"
    }
   ],
   "source": [
    "learner.fit_one_cycle(5)"
   ]
  },
  {
   "cell_type": "code",
   "execution_count": null,
   "metadata": {},
   "outputs": [],
   "source": [
    "preds, targets = learner.predict(ds_idx=1, filter=True)"
   ]
  },
  {
   "cell_type": "code",
   "execution_count": null,
   "metadata": {},
   "outputs": [],
   "source": [
    "id_ws = 5"
   ]
  },
  {
   "cell_type": "markdown",
   "metadata": {},
   "source": [
    "We catch the the wind speed from the validation data to check the forecasts."
   ]
  },
  {
   "cell_type": "code",
   "execution_count": null,
   "metadata": {},
   "outputs": [],
   "source": [
    "windspeed = dls_source.valid_ds.conts[:,id_ws,:]\n",
    "windspeed = windspeed.reshape(-1,1)"
   ]
  },
  {
   "cell_type": "code",
   "execution_count": null,
   "metadata": {},
   "outputs": [
    {
     "data": {
      "text/plain": [
       "<matplotlib.collections.PathCollection at 0x7fcb728d0f70>"
      ]
     },
     "execution_count": null,
     "metadata": {},
     "output_type": "execute_result"
    },
    {
     "data": {
      "image/png": "[encoded data removed]",
      "text/plain": [
       "<Figure size 432x288 with 1 Axes>"
      ]
     },
     "metadata": {
      "needs_background": "light"
     },
     "output_type": "display_data"
    }
   ],
   "source": [
    "plt.scatter(windspeed, targets)\n",
    "plt.scatter(windspeed, preds)"
   ]
  },
  {
   "cell_type": "markdown",
   "metadata": {},
   "source": [
    "### Target Model"
   ]
  },
  {
   "cell_type": "code",
   "execution_count": null,
   "metadata": {},
   "outputs": [],
   "source": [
    "# export\n",
    "def reduce_layers_tcn_model(tcn_model, num_layers=0):\n",
    "    tcn_model.layers.temporal_blocks = tcn_model.layers.temporal_blocks[:-num_layers]"
   ]
  },
  {
   "cell_type": "markdown",
   "metadata": {},
   "source": [
    "The problem is that we have a lot of features while less samples compared to the linear model."
   ]
  },
  {
   "cell_type": "code",
   "execution_count": null,
   "metadata": {},
   "outputs": [],
   "source": [
    "target_model = LinearTransferModel(learner.model, 1, \n",
    "                                   reduce_layers_tcn_model, \n",
    "                                   use_original_weights=False,\n",
    "                prediction_model=BayesLinReg(10, 10, empirical_bayes=False),\n",
    "                                  )"
   ]
  },
  {
   "cell_type": "code",
   "execution_count": null,
   "metadata": {},
   "outputs": [
    {
     "data": {
      "text/html": [
       "<table border=\"1\" class=\"dataframe\">\n",
       "  <thead>\n",
       "    <tr style=\"text-align: left;\">\n",
       "      <th>epoch</th>\n",
       "      <th>train_loss</th>\n",
       "      <th>valid_loss</th>\n",
       "      <th>_rmse</th>\n",
       "      <th>time</th>\n",
       "    </tr>\n",
       "  </thead>\n",
       "  <tbody>\n",
       "    <tr>\n",
       "      <td>0</td>\n",
       "      <td>-0.003606</td>\n",
       "      <td>0.042961</td>\n",
       "      <td>0.207269</td>\n",
       "      <td>00:00</td>\n",
       "    </tr>\n",
       "  </tbody>\n",
       "</table>"
      ],
      "text/plain": [
       "<IPython.core.display.HTML object>"
      ]
     },
     "metadata": {},
     "output_type": "display_data"
    }
   ],
   "source": [
    "target_learner = RenewableTimeseriesLearner(dls_target, target_model, loss_func=target_model.loss_func, metrics=rmse,)\n",
    "target_learner.fit(1)"
   ]
  },
  {
   "cell_type": "code",
   "execution_count": null,
   "metadata": {},
   "outputs": [
    {
     "data": {
      "text/plain": [
       "<matplotlib.collections.PathCollection at 0x7fcb725367f0>"
      ]
     },
     "execution_count": null,
     "metadata": {},
     "output_type": "execute_result"
    },
    {
     "data": {
      "image/png": "[encoded data removed]",
      "text/plain": [
       "<Figure size 432x288 with 1 Axes>"
      ]
     },
     "metadata": {
      "needs_background": "light"
     },
     "output_type": "display_data"
    }
   ],
   "source": [
    "preds, targets = target_learner.predict(ds_idx=1, filter=True, flatten=True)\n",
    "windspeed = dls_target.valid_ds.conts[:,id_ws,:]\n",
    "windspeed = windspeed.reshape(-1,1)\n",
    "plt.scatter(windspeed, targets)\n",
    "plt.scatter(windspeed, preds)"
   ]
  },
  {
   "cell_type": "code",
   "execution_count": null,
   "metadata": {},
   "outputs": [],
   "source": [
    "cats, conts, ys = convert_to_tensor_ts(dls_target.train_ds)"
   ]
  },
  {
   "cell_type": "code",
   "execution_count": null,
   "metadata": {},
   "outputs": [
    {
     "data": {
      "text/plain": [
       "(24, 1)"
      ]
     },
     "execution_count": null,
     "metadata": {},
     "output_type": "execute_result"
    }
   ],
   "source": [
    "target_model.log_posterior(cats, conts, ys).shape"
   ]
  },
  {
   "cell_type": "code",
   "execution_count": null,
   "metadata": {},
   "outputs": [
    {
     "data": {
      "text/html": [
       "<table border=\"1\" class=\"dataframe\">\n",
       "  <thead>\n",
       "    <tr style=\"text-align: left;\">\n",
       "      <th>epoch</th>\n",
       "      <th>train_loss</th>\n",
       "      <th>valid_loss</th>\n",
       "      <th>_rmse</th>\n",
       "      <th>time</th>\n",
       "    </tr>\n",
       "  </thead>\n",
       "  <tbody>\n",
       "    <tr>\n",
       "      <td>0</td>\n",
       "      <td>0.000000</td>\n",
       "      <td>0.103107</td>\n",
       "      <td>0.321103</td>\n",
       "      <td>00:00</td>\n",
       "    </tr>\n",
       "  </tbody>\n",
       "</table>"
      ],
      "text/plain": [
       "<IPython.core.display.HTML object>"
      ]
     },
     "metadata": {},
     "output_type": "display_data"
    }
   ],
   "source": [
    "target_model = LinearTransferModel(learner.model, 1, \n",
    "                                   reduce_layers_tcn_model, \n",
    "                                   use_original_weights=False,\n",
    "                        prediction_model=BayesLinReg(1, 1, empirical_bayes=True),\n",
    "                                  )\n",
    "\n",
    "target_learner = RenewableTimeseriesLearner(dls_target, target_model, loss_func=target_model.loss_func, metrics=rmse,)\n",
    "target_learner.dls[0].bs=len(target_learner.dls.train_ds)\n",
    "target_learner.fit(1)"
   ]
  },
  {
   "cell_type": "code",
   "execution_count": null,
   "metadata": {},
   "outputs": [
    {
     "data": {
      "text/html": [
       "<table border=\"1\" class=\"dataframe\">\n",
       "  <thead>\n",
       "    <tr style=\"text-align: left;\">\n",
       "      <th>epoch</th>\n",
       "      <th>train_loss</th>\n",
       "      <th>valid_loss</th>\n",
       "      <th>_rmse</th>\n",
       "      <th>time</th>\n",
       "    </tr>\n",
       "  </thead>\n",
       "  <tbody>\n",
       "    <tr>\n",
       "      <td>0</td>\n",
       "      <td>0.000000</td>\n",
       "      <td>0.038799</td>\n",
       "      <td>0.196974</td>\n",
       "      <td>00:00</td>\n",
       "    </tr>\n",
       "  </tbody>\n",
       "</table>"
      ],
      "text/plain": [
       "<IPython.core.display.HTML object>"
      ]
     },
     "metadata": {},
     "output_type": "display_data"
    }
   ],
   "source": [
    "target_model = LinearTransferModel(learner.model, 1, \n",
    "                       reduce_layers_tcn_model, \n",
    "                       use_original_weights=False,\n",
    "                        prediction_model=BayesLinReg(1, 1, use_fixed_point=True),\n",
    "                        as_multivariate_target=True\n",
    "                                  )\n",
    "\n",
    "target_learner = RenewableTimeseriesLearner(dls_target, target_model, loss_func=target_model.loss_func, metrics=rmse,)\n",
    "target_learner.dls[0].bs=len(target_learner.dls.train_ds)\n",
    "target_learner.fit(1)"
   ]
  },
  {
   "cell_type": "code",
   "execution_count": null,
   "metadata": {},
   "outputs": [
    {
     "data": {
      "text/plain": [
       "0.1777108774267672"
      ]
     },
     "execution_count": null,
     "metadata": {},
     "output_type": "execute_result"
    }
   ],
   "source": [
    "preds, targets = target_learner.predict(test_dl=dls_target_test)\n",
    "((targets-preds)**2).mean()**0.5"
   ]
  },
  {
   "cell_type": "code",
   "execution_count": null,
   "metadata": {},
   "outputs": [],
   "source": [
    "preds, targets = target_learner.predict(ds_idx=1, filter=True, flatten=True)\n",
    "windspeed = dls_target.valid_ds.conts[:,id_ws,:]"
   ]
  },
  {
   "cell_type": "code",
   "execution_count": null,
   "metadata": {},
   "outputs": [
    {
     "data": {
      "text/plain": [
       "<matplotlib.collections.PathCollection at 0x7fcb7244e9d0>"
      ]
     },
     "execution_count": null,
     "metadata": {},
     "output_type": "execute_result"
    },
    {
     "data": {
      "image/png": "[encoded data removed]",
      "text/plain": [
       "<Figure size 432x288 with 1 Axes>"
      ]
     },
     "metadata": {
      "needs_background": "light"
     },
     "output_type": "display_data"
    }
   ],
   "source": [
    "windspeed = dls_target.valid_ds.conts[:,id_ws,:]\n",
    "windspeed = windspeed.reshape(-1,1)\n",
    "plt.scatter(windspeed.ravel(), targets)\n",
    "plt.scatter(windspeed.ravel(), preds)"
   ]
  },
  {
   "cell_type": "code",
   "execution_count": null,
   "metadata": {},
   "outputs": [
    {
     "name": "stdout",
     "output_type": "stream",
     "text": [
      "0.24613411133409405\n"
     ]
    },
    {
     "data": {
      "text/html": [
       "<table border=\"1\" class=\"dataframe\">\n",
       "  <thead>\n",
       "    <tr style=\"text-align: left;\">\n",
       "      <th>epoch</th>\n",
       "      <th>train_loss</th>\n",
       "      <th>valid_loss</th>\n",
       "      <th>btuning_rmse</th>\n",
       "      <th>time</th>\n",
       "    </tr>\n",
       "  </thead>\n",
       "  <tbody>\n",
       "    <tr>\n",
       "      <td>0</td>\n",
       "      <td>0.082033</td>\n",
       "      <td>0.041798</td>\n",
       "      <td>0.142165</td>\n",
       "      <td>00:00</td>\n",
       "    </tr>\n",
       "    <tr>\n",
       "      <td>1</td>\n",
       "      <td>0.068714</td>\n",
       "      <td>0.040070</td>\n",
       "      <td>0.146226</td>\n",
       "      <td>00:00</td>\n",
       "    </tr>\n",
       "    <tr>\n",
       "      <td>2</td>\n",
       "      <td>0.058995</td>\n",
       "      <td>0.045031</td>\n",
       "      <td>0.160715</td>\n",
       "      <td>00:00</td>\n",
       "    </tr>\n",
       "    <tr>\n",
       "      <td>3</td>\n",
       "      <td>0.052793</td>\n",
       "      <td>0.049817</td>\n",
       "      <td>0.172467</td>\n",
       "      <td>00:00</td>\n",
       "    </tr>\n",
       "    <tr>\n",
       "      <td>4</td>\n",
       "      <td>0.049569</td>\n",
       "      <td>0.046839</td>\n",
       "      <td>0.167903</td>\n",
       "      <td>00:00</td>\n",
       "    </tr>\n",
       "  </tbody>\n",
       "</table>"
      ],
      "text/plain": [
       "<IPython.core.display.HTML object>"
      ]
     },
     "metadata": {},
     "output_type": "display_data"
    },
    {
     "data": {
      "text/plain": [
       "0.1535094424936849"
      ]
     },
     "execution_count": null,
     "metadata": {},
     "output_type": "execute_result"
    }
   ],
   "source": [
    "source_model = copy.deepcopy(learner.model)\n",
    "btuning_model = BTuningModel(source_model, [target_model])\n",
    "btuning_loss = BTuningLoss(lambd=1)\n",
    "\n",
    "target_learner = RenewableTimeseriesLearner(dls_target, btuning_model, loss_func=btuning_loss, metrics=btuning_rmse)\n",
    "preds, targets = target_learner.predict(test_dl=dls_target_test, filter=False, flatten=False)\n",
    "print(btuning_rmse(preds, targets))\n",
    "\n",
    "target_learner.fit(5, lr=5e-4)\n",
    "preds, targets = target_learner.predict(test_dl=dls_target_test, filter=False, flatten=False)\n",
    "btuning_rmse(preds, targets)"
   ]
  }
 ],
 "metadata": {
  "kernelspec": {
   "display_name": "Python 3 (ipykernel)",
   "language": "python",
   "name": "python3"
  },
  "language_info": {
   "codemirror_mode": {
    "name": "ipython",
    "version": 3
   },
   "file_extension": ".py",
   "mimetype": "text/x-python",
   "name": "python",
   "nbconvert_exporter": "python",
   "pygments_lexer": "ipython3",
   "version": "3.8.10"
  }
 },
 "nbformat": 4,
 "nbformat_minor": 2
}
