{
 "cells": [
  {
   "cell_type": "code",
   "execution_count": null,
   "metadata": {},
   "outputs": [],
   "source": [
    "# default_exp models.transfermodels"
   ]
  },
  {
   "cell_type": "markdown",
   "metadata": {},
   "source": [
    "# models.transfermodels\n",
    "\n",
    "> API details."
   ]
  },
  {
   "cell_type": "code",
   "execution_count": null,
   "metadata": {},
   "outputs": [],
   "source": [
    "# export\n",
    "import os\n",
    "os.environ[\"CUDA_VISIBLE_DEVICES\"] = \"\"\n",
    "import numpy as np\n",
    "import torch\n",
    "from torch import nn\n",
    "from fastrenewables.tabular.model import *\n",
    "from fastrenewables.timeseries.model import *\n",
    "from fastai.tabular.all import *\n",
    "from torch.autograd import Variable\n",
    "from sklearn.datasets import make_regression\n",
    "from fastai.learner import *\n",
    "from fastrenewables.utils_pytorch import *\n",
    "import copy\n"
   ]
  },
  {
   "cell_type": "code",
   "execution_count": null,
   "metadata": {},
   "outputs": [],
   "source": [
    "def generate_single_dataset(n_samples, start, end, bias, coef, noise_factor=0.3):\n",
    "\n",
    "    X = np.random.uniform(low=start, high=end,size=n_samples)\n",
    "    y = np.sin(X*coef*2*np.pi) + np.random.randn(X.shape[0])*noise_factor+bias\n",
    "    \n",
    "    return X,y"
   ]
  },
  {
   "cell_type": "code",
   "execution_count": null,
   "metadata": {},
   "outputs": [],
   "source": [
    "def generate_all_tasks(n_samples=100):\n",
    "    starts = [0,  0]\n",
    "    ends = [4.1,  3.9]\n",
    "    coefs = [3.4,  4]\n",
    "    biases = [0.1,  0.1]\n",
    "    n_samples = [n_samples, 30]\n",
    "    \n",
    "    df_tasks = []\n",
    "    for task_id in range(len(starts)):\n",
    "        start, end, bias, coef = starts[task_id], ends[task_id], coefs[task_id], biases[task_id]\n",
    "        X,y = generate_single_dataset(n_samples[task_id], start, end, bias, coef, noise_factor=0.05)\n",
    "        df_task = pd.DataFrame({\"X\": X.ravel(), \"y\":y.ravel()})\n",
    "        df_task[\"TaskID\"] = task_id\n",
    "        df_tasks.append(df_task)\n",
    "    return pd.concat(df_tasks)"
   ]
  },
  {
   "cell_type": "code",
   "execution_count": null,
   "metadata": {},
   "outputs": [],
   "source": [
    "def get_source_task(df):\n",
    "    df_source =  df[df.TaskID == 0]\n",
    "    dls = TabularDataLoaders.from_df(df_source, cont_names=\"X\", y_names=\"y\", \n",
    "                                     deivce=\"cpu\", procs=Normalize, bs=10)\n",
    "    return dls\n",
    "    \n",
    "def get_target_task(df):\n",
    "    df_target =  df[df.TaskID == 1]\n",
    "    dls = TabularDataLoaders.from_df(df_target, cont_names=\"X\", y_names=\"y\", \n",
    "                                     deivce=\"cpu\", procs=Normalize, bs=10)\n",
    "    return dls"
   ]
  },
  {
   "cell_type": "code",
   "execution_count": null,
   "metadata": {},
   "outputs": [],
   "source": [
    "df = generate_all_tasks()"
   ]
  },
  {
   "cell_type": "code",
   "execution_count": null,
   "metadata": {},
   "outputs": [
    {
     "data": {
      "text/plain": [
       "<matplotlib.collections.PathCollection at 0x7fe3d0068910>"
      ]
     },
     "execution_count": null,
     "metadata": {},
     "output_type": "execute_result"
    },
    {
     "data": {
      "image/png": "[encoded data removed]",
      "text/plain": [
       "<Figure size 432x288 with 1 Axes>"
      ]
     },
     "metadata": {
      "needs_background": "light"
     },
     "output_type": "display_data"
    }
   ],
   "source": [
    "plt.scatter(df.X, df.y, c=df.TaskID)"
   ]
  },
  {
   "cell_type": "code",
   "execution_count": null,
   "metadata": {},
   "outputs": [],
   "source": [
    "dls_source = get_source_task(df)\n",
    "dls_target = get_target_task(df)"
   ]
  },
  {
   "cell_type": "code",
   "execution_count": null,
   "metadata": {},
   "outputs": [],
   "source": [
    "set_seed(10)\n",
    "# set_random_states(10, 10,10, 10, 10, 10)\n",
    "source_model = MultiLayerPerceptron([1, 100, 10, 5, 1], use_bn=True, bn_cont=False)\n",
    "learn_source = Learner(dls_source, source_model, metrics=rmse)"
   ]
  },
  {
   "cell_type": "code",
   "execution_count": null,
   "metadata": {},
   "outputs": [
    {
     "data": {
      "text/html": [
       "<table border=\"1\" class=\"dataframe\">\n",
       "  <thead>\n",
       "    <tr style=\"text-align: left;\">\n",
       "      <th>epoch</th>\n",
       "      <th>train_loss</th>\n",
       "      <th>valid_loss</th>\n",
       "      <th>_rmse</th>\n",
       "      <th>time</th>\n",
       "    </tr>\n",
       "  </thead>\n",
       "  <tbody>\n",
       "    <tr>\n",
       "      <td>0</td>\n",
       "      <td>13.597255</td>\n",
       "      <td>13.528824</td>\n",
       "      <td>3.678155</td>\n",
       "      <td>00:00</td>\n",
       "    </tr>\n",
       "    <tr>\n",
       "      <td>1</td>\n",
       "      <td>12.917191</td>\n",
       "      <td>12.259760</td>\n",
       "      <td>3.501394</td>\n",
       "      <td>00:00</td>\n",
       "    </tr>\n",
       "    <tr>\n",
       "      <td>2</td>\n",
       "      <td>12.144095</td>\n",
       "      <td>10.202208</td>\n",
       "      <td>3.194089</td>\n",
       "      <td>00:00</td>\n",
       "    </tr>\n",
       "    <tr>\n",
       "      <td>3</td>\n",
       "      <td>11.197414</td>\n",
       "      <td>8.158646</td>\n",
       "      <td>2.856334</td>\n",
       "      <td>00:00</td>\n",
       "    </tr>\n",
       "    <tr>\n",
       "      <td>4</td>\n",
       "      <td>10.049754</td>\n",
       "      <td>5.973557</td>\n",
       "      <td>2.444086</td>\n",
       "      <td>00:00</td>\n",
       "    </tr>\n",
       "    <tr>\n",
       "      <td>5</td>\n",
       "      <td>8.753527</td>\n",
       "      <td>3.649786</td>\n",
       "      <td>1.910441</td>\n",
       "      <td>00:00</td>\n",
       "    </tr>\n",
       "    <tr>\n",
       "      <td>6</td>\n",
       "      <td>7.395007</td>\n",
       "      <td>1.605155</td>\n",
       "      <td>1.266947</td>\n",
       "      <td>00:00</td>\n",
       "    </tr>\n",
       "    <tr>\n",
       "      <td>7</td>\n",
       "      <td>6.088000</td>\n",
       "      <td>0.334882</td>\n",
       "      <td>0.578690</td>\n",
       "      <td>00:00</td>\n",
       "    </tr>\n",
       "    <tr>\n",
       "      <td>8</td>\n",
       "      <td>4.959925</td>\n",
       "      <td>0.052513</td>\n",
       "      <td>0.229157</td>\n",
       "      <td>00:00</td>\n",
       "    </tr>\n",
       "    <tr>\n",
       "      <td>9</td>\n",
       "      <td>4.046452</td>\n",
       "      <td>0.012820</td>\n",
       "      <td>0.113226</td>\n",
       "      <td>00:00</td>\n",
       "    </tr>\n",
       "    <tr>\n",
       "      <td>10</td>\n",
       "      <td>3.340324</td>\n",
       "      <td>0.056984</td>\n",
       "      <td>0.238713</td>\n",
       "      <td>00:00</td>\n",
       "    </tr>\n",
       "    <tr>\n",
       "      <td>11</td>\n",
       "      <td>2.770961</td>\n",
       "      <td>0.018793</td>\n",
       "      <td>0.137087</td>\n",
       "      <td>00:00</td>\n",
       "    </tr>\n",
       "    <tr>\n",
       "      <td>12</td>\n",
       "      <td>2.307311</td>\n",
       "      <td>0.011231</td>\n",
       "      <td>0.105975</td>\n",
       "      <td>00:00</td>\n",
       "    </tr>\n",
       "    <tr>\n",
       "      <td>13</td>\n",
       "      <td>1.929474</td>\n",
       "      <td>0.017284</td>\n",
       "      <td>0.131468</td>\n",
       "      <td>00:00</td>\n",
       "    </tr>\n",
       "    <tr>\n",
       "      <td>14</td>\n",
       "      <td>1.617545</td>\n",
       "      <td>0.004416</td>\n",
       "      <td>0.066454</td>\n",
       "      <td>00:00</td>\n",
       "    </tr>\n",
       "    <tr>\n",
       "      <td>15</td>\n",
       "      <td>1.359857</td>\n",
       "      <td>0.002753</td>\n",
       "      <td>0.052469</td>\n",
       "      <td>00:00</td>\n",
       "    </tr>\n",
       "    <tr>\n",
       "      <td>16</td>\n",
       "      <td>1.150495</td>\n",
       "      <td>0.004928</td>\n",
       "      <td>0.070198</td>\n",
       "      <td>00:00</td>\n",
       "    </tr>\n",
       "    <tr>\n",
       "      <td>17</td>\n",
       "      <td>0.974573</td>\n",
       "      <td>0.009129</td>\n",
       "      <td>0.095546</td>\n",
       "      <td>00:00</td>\n",
       "    </tr>\n",
       "    <tr>\n",
       "      <td>18</td>\n",
       "      <td>0.829084</td>\n",
       "      <td>0.004534</td>\n",
       "      <td>0.067333</td>\n",
       "      <td>00:00</td>\n",
       "    </tr>\n",
       "    <tr>\n",
       "      <td>19</td>\n",
       "      <td>0.703743</td>\n",
       "      <td>0.006802</td>\n",
       "      <td>0.082473</td>\n",
       "      <td>00:00</td>\n",
       "    </tr>\n",
       "    <tr>\n",
       "      <td>20</td>\n",
       "      <td>0.599618</td>\n",
       "      <td>0.006584</td>\n",
       "      <td>0.081142</td>\n",
       "      <td>00:00</td>\n",
       "    </tr>\n",
       "    <tr>\n",
       "      <td>21</td>\n",
       "      <td>0.509851</td>\n",
       "      <td>0.004493</td>\n",
       "      <td>0.067029</td>\n",
       "      <td>00:00</td>\n",
       "    </tr>\n",
       "    <tr>\n",
       "      <td>22</td>\n",
       "      <td>0.441588</td>\n",
       "      <td>0.008703</td>\n",
       "      <td>0.093288</td>\n",
       "      <td>00:00</td>\n",
       "    </tr>\n",
       "    <tr>\n",
       "      <td>23</td>\n",
       "      <td>0.377626</td>\n",
       "      <td>0.028178</td>\n",
       "      <td>0.167863</td>\n",
       "      <td>00:00</td>\n",
       "    </tr>\n",
       "    <tr>\n",
       "      <td>24</td>\n",
       "      <td>0.324378</td>\n",
       "      <td>0.002433</td>\n",
       "      <td>0.049327</td>\n",
       "      <td>00:00</td>\n",
       "    </tr>\n",
       "  </tbody>\n",
       "</table>"
      ],
      "text/plain": [
       "<IPython.core.display.HTML object>"
      ]
     },
     "metadata": {},
     "output_type": "display_data"
    }
   ],
   "source": [
    "learn_source.fit(25, lr=0.01)"
   ]
  },
  {
   "cell_type": "code",
   "execution_count": null,
   "metadata": {},
   "outputs": [
    {
     "data": {
      "text/html": [],
      "text/plain": [
       "<IPython.core.display.HTML object>"
      ]
     },
     "metadata": {},
     "output_type": "display_data"
    },
    {
     "data": {
      "image/png": "[encoded data removed]",
      "text/plain": [
       "<Figure size 432x288 with 1 Axes>"
      ]
     },
     "metadata": {
      "needs_background": "light"
     },
     "output_type": "display_data"
    }
   ],
   "source": [
    "targets, preds = learn_source.get_preds(ds_idx=0)\n",
    "plt.scatter(dls_source.train_ds.items.X, preds, label=\"preds\")\n",
    "plt.scatter(dls_source.train_ds.items.X, targets, label=\"targets\")\n",
    "plt.legend()\n",
    "plt.show()"
   ]
  },
  {
   "cell_type": "code",
   "execution_count": null,
   "metadata": {},
   "outputs": [],
   "source": [
    "# hide\n",
    "# export\n",
    "def _create_matrices(n_features, alpha):\n",
    "    w_mean = torch.zeros(n_features)\n",
    "    w_precision = torch.eye(n_features) / alpha\n",
    "    \n",
    "    return w_mean, w_precision\n",
    "# minimal check if we can create the matricies\n",
    "mean, precision = _create_matrices(10, 10)\n",
    "test_eq(0, mean.sum())\n",
    "test_eq(0.1, precision[0,0])"
   ]
  },
  {
   "cell_type": "code",
   "execution_count": null,
   "metadata": {},
   "outputs": [],
   "source": [
    "from fastrenewables.timeseries.model import *"
   ]
  },
  {
   "cell_type": "code",
   "execution_count": null,
   "metadata": {},
   "outputs": [],
   "source": [
    "# export\n",
    "class LinearTransferModel(nn.Module):\n",
    "    def __init__(self, source_model, num_layers_to_remove=1, \n",
    "                 name_layers_or_function_to_remove=\"layers\", use_original_weights=True,\n",
    "                alpha=1, beta=1, include_original_features=False):\n",
    "        super().__init__()\n",
    "        self.are_weights_initialized = False\n",
    "        self.alpha, self.beta = alpha, beta\n",
    "        self.num_layers_to_remove = num_layers_to_remove\n",
    "        self.ts_length = 1\n",
    "        self.source_model = copy.deepcopy(source_model)\n",
    "        \n",
    "        \n",
    "        if callable(name_layers_or_function_to_remove):\n",
    "            name_layers_or_function_to_remove(self.source_model, num_layers_to_remove)\n",
    "        elif type(name_layers_or_function_to_remove) == str:\n",
    "            layers = getattrs(self.source_model, name_layers_or_function_to_remove, default=None)[0]\n",
    "            if layers is None:\n",
    "                raise ValueError(f\"Could not find layers by given name {name_layers_or_function_to_remove}.\")\n",
    "            elif isinstance(layers, torch.nn.modules.container.Sequential):\n",
    "                setattr(self.source_model, name_layers_or_function_to_remove, layers[0:-self.num_layers_to_remove])\n",
    "            else:\n",
    "                raise ValueError(f\"Only sequential layers are supported.\")\n",
    "        else:\n",
    "            ValueError(\"Unknown type for name_layers_or_function_to_remove\")\n",
    "            \n",
    "        if num_layers_to_remove != 1 and use_original_weights:\n",
    "            raise ValueError(\"Can only reuse weights when using the last layers due to the dimension.\")\n",
    "        elif num_layers_to_remove == 1 and use_original_weights:\n",
    "            \n",
    "            for element in layers[-1]:\n",
    "                if isinstance(element, nn.Linear):\n",
    "                    # create mean matrix including bias\n",
    "                    self.w_mean = copy.copy(element.weight.data)\n",
    "                    bias = copy.copy(element.bias.data)\n",
    "                    self.w_mean = self.w_mean.reshape(self.w_mean.shape[1])\n",
    "                    self.w_mean = torch.cat([bias, self.w_mean])\n",
    "                    \n",
    "                    # create precision and variance matrix\n",
    "                    self.n_features = self.w_mean.shape[0]\n",
    "                    _, self.w_precision = _create_matrices(self.n_features, self.alpha)\n",
    "                    self.w_covariance = torch.linalg.inv(self.w_precision)\n",
    "                    \n",
    "                    self.are_weights_initialized = True\n",
    "                    \n",
    "            if not self.are_weights_initialized:\n",
    "                raise ValueError(f\"Could not find linear layer in last layer {self.layers[-1]}\")\n",
    "        \n",
    "        \n",
    "        freeze(self.source_model)\n",
    "        self.include_original_features = include_original_features\n",
    "        \n",
    "        # fake param so that it can be used with pytorch trainers\n",
    "        self.fake_param=nn.Parameter(torch.zeros((1,1), dtype=torch.float))\n",
    "        self.fake_param.requires_grad =True\n",
    "        \n",
    "    def transform(self, cats, conts):\n",
    "        n_samples = conts.shape[0]\n",
    "        \n",
    "        x_transformed =  self.source_model(cats, conts)\n",
    "        \n",
    "        # flatten and update n_samples in case of timeseries model\n",
    "        x_transformed = x_transformed.reshape(n_samples*self.ts_length, -1)\n",
    "        n_samples = x_transformed.shape[0]\n",
    "        \n",
    "        if self.include_original_features:\n",
    "            x_transformed = torch.cat([ conts.reshape(n_samples,-1), x_transformed], axis=1)\n",
    "        \n",
    "        # add feature for bias\n",
    "        x_transformed = torch.cat([ torch.ones(n_samples).reshape(n_samples,1), x_transformed], axis=1)\n",
    "                \n",
    "        return x_transformed\n",
    "    \n",
    "    def forward(self, cats, conts):\n",
    "        n_samples = conts.shape[0]\n",
    "        self.ts_length = 1\n",
    "        if len(conts.shape) == 3:\n",
    "            self.ts_length = conts.shape[2]\n",
    "        \n",
    "        x_transformed = self.transform(cats, conts) \n",
    "        \n",
    "        if not self.are_weights_initialized:\n",
    "            self.n_features = x_transformed.shape[1]#*self.ts_length\n",
    "\n",
    "            self.w_mean, self.w_precision = _create_matrices(self.n_features, self.alpha)\n",
    "            self.w_covariance = torch.linalg.inv(self.w_precision)\n",
    "            self.are_weights_initialized=True\n",
    "        \n",
    "        if self.training:\n",
    "            return x_transformed\n",
    "        else:\n",
    "            preds = self._predict(x_transformed)[0]\n",
    "            \n",
    "            return preds\n",
    "            \n",
    "    def _predict(self, X):\n",
    "        # calcualte the predictive mean (Bishop eq. 3.58)\n",
    "        y_pred_mean = X @ self.w_mean\n",
    "\n",
    "        # calculate the predictive variance (Bishop eq. 3.59)\n",
    "        y_pred_var = 1 / self.beta + (X @ self.w_covariance * X).sum(axis=1)\n",
    "\n",
    "        # Drop a dimension from the mean and variance in case x and y were singletons\n",
    "        y_pred_mean = torch.squeeze(y_pred_mean)\n",
    "        y_pred_var = torch.squeeze(y_pred_var)\n",
    "\n",
    "        return y_pred_mean, y_pred_var ** 0.5\n",
    "    \n",
    "    def update(self, X, y):\n",
    "        \"\"\"Update mean and precision. X needs to be the output of the original source model.\"\"\"\n",
    "        \n",
    "        w_precision = self.w_precision + self.beta * X.T @ X\n",
    "        \n",
    "        w_covariance = torch.linalg.inv(w_precision)\n",
    "        w_mean = w_covariance @ (self.w_precision @ self.w_mean + self.beta * y @ X)\n",
    "\n",
    "        self.w_precision = w_precision\n",
    "        self.w_covariance = torch.linalg.inv(w_precision)\n",
    "        \n",
    "        self.w_mean = w_mean\n",
    "        \n",
    "        return self\n",
    "\n",
    "\n",
    "    def predict(self, cats, conts):\n",
    "        x_transformed = self.transform(cats, conts) \n",
    "        y_pred_mean, _ = self._predict(x_transformed)\n",
    "\n",
    "        return y_pred_mean\n",
    "\n",
    "    def predict_proba(self, cats, conts):\n",
    "        x_transformed = self.transform(cats, conts)\n",
    "        y_pred_mean, y_pred_std = self._predict(x_transformed)\n",
    "\n",
    "        return y_pred_mean, y_pred_std\n",
    "    \n",
    "    def loss_func(self, x_transformed, ys):\n",
    "        \n",
    "        _tmp = self.update(x_transformed, ys.ravel())\n",
    "        \n",
    "        fake_loss = torch.tensor([0], dtype=torch.float)\n",
    "        fake_loss.requires_grad=True\n",
    "        return self.fake_param + fake_loss\n",
    "    \n",
    "    \n",
    "    def _log_prior(self, w):\n",
    "        return -0.5 * self.alpha * torch.sum(w ** 2)\n",
    "\n",
    "    def _log_likelihood(self, X, y, w):\n",
    "        return -0.5 * self.beta * torch.square(y - X @ w).sum()\n",
    "\n",
    "\n",
    "    def _log_posterior(self, X, y, w):\n",
    "        return self._log_likelihood(X, y, w) + self._log_prior(w)\n",
    "\n",
    "    def log_evidence(self, X, y):\n",
    "        X, y = self._check_and_prep(X, y)\n",
    "\n",
    "        N, M = X.shape\n",
    "        \n",
    "        # E(\\mathbf{m}_n) = \\beta/2 \\cdot ||y- X \\mathbf{m}_n|| + \\alpha/2 \\mathbf{m}_n^T \\mathbf{m}_n, \n",
    "        # where \\mathbf{m}_n is the mean weight. This is the same as the negative of the posterior       \n",
    "        Emn = -self._log_posterior(X, y, self.w_mean)\n",
    "        \n",
    "        # Bishop eq. 3.86         \n",
    "        return 0.5 * (M * np.log(self.alpha) + N * np.log(self.beta)\n",
    "            - np.linalg.slogdet(self.w_precision)[1] - N * np.log(2 * np.pi)\n",
    "        ) - Emn\n"
   ]
  },
  {
   "cell_type": "code",
   "execution_count": null,
   "metadata": {},
   "outputs": [],
   "source": [
    "# hide\n",
    "cats, conts, targets = dls_target.one_batch()\n",
    "# test if we get the same results as with the original model\n",
    "with torch.no_grad():\n",
    "    \n",
    "    preds_source = source_model(cats, conts).ravel()\n",
    "    ltmodel = LinearTransferModel(source_model, num_layers_to_remove=1, use_original_weights=True)\n",
    "    \n",
    "    preds_target = ltmodel.predict(cats, conts)\n",
    "    test_close(preds_source, preds_target)\n",
    "    preds_target = ltmodel.predict(cats, conts)\n",
    "    test_close(preds_source, preds_target)\n",
    "    preds_target = ltmodel.predict_proba(cats, conts)[0]\n",
    "    test_close(preds_source, preds_target)\n"
   ]
  },
  {
   "cell_type": "code",
   "execution_count": null,
   "metadata": {},
   "outputs": [],
   "source": [
    "target_model = LinearTransferModel(source_model, num_layers_to_remove=1, \n",
    "                                   use_original_weights=True,\n",
    "                                  alpha=0.001, beta=1000)\n",
    "target_model = target_model.eval()"
   ]
  },
  {
   "cell_type": "markdown",
   "metadata": {},
   "source": [
    "Create forecats and check if the source model and the untrained model create the same results"
   ]
  },
  {
   "cell_type": "code",
   "execution_count": null,
   "metadata": {},
   "outputs": [],
   "source": [
    "cats, conts, targets = dls_source.one_batch()"
   ]
  },
  {
   "cell_type": "code",
   "execution_count": null,
   "metadata": {},
   "outputs": [],
   "source": [
    "with torch.no_grad():\n",
    "    preds_source = source_model(cats, conts).ravel()\n",
    "preds_target = target_model(cats.to(\"cpu\"), conts.to(\"cpu\"))"
   ]
  },
  {
   "cell_type": "code",
   "execution_count": null,
   "metadata": {},
   "outputs": [
    {
     "data": {
      "image/png": "[encoded data removed]",
      "text/plain": [
       "<Figure size 432x288 with 1 Axes>"
      ]
     },
     "metadata": {
      "needs_background": "light"
     },
     "output_type": "display_data"
    }
   ],
   "source": [
    "# targets, preds = learn_source.get_preds(ds_idx=0)\n",
    "plt.scatter(conts, preds_target, label=\"preds target model - untrained\", alpha=0.2)\n",
    "plt.scatter(conts, preds_source.detach(), label=\"preds source model\", alpha=0.2)\n",
    "plt.scatter(conts, targets, label=\"targets\")\n",
    "\n",
    "plt.legend()\n",
    "plt.show()"
   ]
  },
  {
   "cell_type": "code",
   "execution_count": null,
   "metadata": {},
   "outputs": [],
   "source": [
    "target_model = LinearTransferModel(source_model, num_layers_to_remove=1, \n",
    "                                   use_original_weights=True,\n",
    "#                                   alpha=(1/0.1)**2, beta=(1/0.1)**2)\n",
    "                                   alpha=10, beta=10)\n",
    "target_model.training = True"
   ]
  },
  {
   "cell_type": "code",
   "execution_count": null,
   "metadata": {},
   "outputs": [],
   "source": [
    "preds_before_training = []\n",
    "conts_test_before_training = []\n",
    "targets_before_training = []\n",
    "for cats, conts, targets in dls_target[0]:\n",
    "    target_model(cats, conts)\n",
    "    pred_before_training = target_model.predict(cats, conts)\n",
    "    preds_before_training.append(pred_before_training)\n",
    "    conts_test_before_training.append(conts)\n",
    "    targets_before_training.append(targets)\n",
    "    \n",
    "preds_before_training = torch.cat(preds_before_training)\n",
    "conts_test_before_training = torch.cat(conts_test_before_training)\n",
    "targets_before_training = torch.cat(targets_before_training)"
   ]
  },
  {
   "cell_type": "code",
   "execution_count": null,
   "metadata": {},
   "outputs": [
    {
     "data": {
      "text/plain": [
       "(torch.Size([10]), torch.Size([20, 1]))"
      ]
     },
     "execution_count": null,
     "metadata": {},
     "output_type": "execute_result"
    }
   ],
   "source": [
    "pred_before_training.shape, targets_before_training.shape"
   ]
  },
  {
   "cell_type": "code",
   "execution_count": null,
   "metadata": {},
   "outputs": [],
   "source": [
    "for cats, conts, targets in dls_target[0]:\n",
    "    x_transformed = target_model.forward(cats, conts)\n",
    "    target_model = target_model.update(x_transformed, targets.ravel())\n",
    "#     x_transformed = target_model.forward(cats, torch.tensor(dls_target.train_ds.items.X.values).reshape(-1,1))\n",
    "#     target_model = target_model.update(x_transformed, torch.tensor(dls_target.train_ds.items.y.values).ravel())\n"
   ]
  },
  {
   "cell_type": "code",
   "execution_count": null,
   "metadata": {},
   "outputs": [],
   "source": [
    "preds_after_training = []\n",
    "conts_test_after_training = []\n",
    "targets_after_training = []\n",
    "for cats, conts, targets in dls_target[0]:\n",
    "    pred_after_training = target_model.predict(cats, conts)\n",
    "    preds_after_training.append(pred_after_training)\n",
    "    conts_test_after_training.append(conts)\n",
    "    targets_after_training.append(targets)\n",
    "    \n",
    "preds_after_training = torch.cat(preds_after_training)\n",
    "conts_test_after_training = torch.cat(conts_test_after_training)\n",
    "targets_after_training = torch.cat(targets_after_training)"
   ]
  },
  {
   "cell_type": "code",
   "execution_count": null,
   "metadata": {},
   "outputs": [
    {
     "data": {
      "text/plain": [
       "tensor(0.0628)"
      ]
     },
     "execution_count": null,
     "metadata": {},
     "output_type": "execute_result"
    }
   ],
   "source": [
    "((targets_after_training.reshape(-1)-preds_after_training.reshape(-1))**2).mean()**0.5"
   ]
  },
  {
   "cell_type": "code",
   "execution_count": null,
   "metadata": {},
   "outputs": [
    {
     "data": {
      "text/plain": [
       "<matplotlib.legend.Legend at 0x7fe3c0717cd0>"
      ]
     },
     "execution_count": null,
     "metadata": {},
     "output_type": "execute_result"
    },
    {
     "data": {
      "image/png": "[encoded data removed]",
      "text/plain": [
       "<Figure size 432x288 with 1 Axes>"
      ]
     },
     "metadata": {
      "needs_background": "light"
     },
     "output_type": "display_data"
    }
   ],
   "source": [
    "plt.scatter(conts_test_before_training, targets_before_training, label=\"targets\")\n",
    "plt.scatter(conts_test_before_training, preds_before_training, label=\"before training\")\n",
    "plt.scatter(conts_test_after_training, preds_after_training, label=\"after training\")\n",
    "plt.legend()"
   ]
  },
  {
   "cell_type": "markdown",
   "metadata": {},
   "source": [
    "Lets assure that it also works with pytorch trainings such as the fastai training loop"
   ]
  },
  {
   "cell_type": "code",
   "execution_count": null,
   "metadata": {},
   "outputs": [
    {
     "data": {
      "text/html": [
       "<table border=\"1\" class=\"dataframe\">\n",
       "  <thead>\n",
       "    <tr style=\"text-align: left;\">\n",
       "      <th>epoch</th>\n",
       "      <th>train_loss</th>\n",
       "      <th>valid_loss</th>\n",
       "      <th>_rmse</th>\n",
       "      <th>time</th>\n",
       "    </tr>\n",
       "  </thead>\n",
       "  <tbody>\n",
       "    <tr>\n",
       "      <td>0</td>\n",
       "      <td>-0.000505</td>\n",
       "      <td>-0.002000</td>\n",
       "      <td>0.233920</td>\n",
       "      <td>00:00</td>\n",
       "    </tr>\n",
       "  </tbody>\n",
       "</table>"
      ],
      "text/plain": [
       "<IPython.core.display.HTML object>"
      ]
     },
     "metadata": {},
     "output_type": "display_data"
    }
   ],
   "source": [
    "target_model = LinearTransferModel(source_model, \n",
    "                                   num_layers_to_remove=1, \n",
    "                                   use_original_weights=True,\n",
    "                                   alpha=1/(0.1)**0.5, beta=1/(0.1)**0.5)\n",
    "\n",
    "\n",
    "target_learner = Learner(dls_target, target_model, loss_func=target_model.loss_func, metrics=rmse,)\n",
    "target_learner.fit(1)"
   ]
  },
  {
   "cell_type": "markdown",
   "metadata": {},
   "source": [
    "We can also not using the last layer as initializaition"
   ]
  },
  {
   "cell_type": "code",
   "execution_count": null,
   "metadata": {},
   "outputs": [
    {
     "data": {
      "text/html": [
       "<table border=\"1\" class=\"dataframe\">\n",
       "  <thead>\n",
       "    <tr style=\"text-align: left;\">\n",
       "      <th>epoch</th>\n",
       "      <th>train_loss</th>\n",
       "      <th>valid_loss</th>\n",
       "      <th>_rmse</th>\n",
       "      <th>time</th>\n",
       "    </tr>\n",
       "  </thead>\n",
       "  <tbody>\n",
       "    <tr>\n",
       "      <td>0</td>\n",
       "      <td>-0.000505</td>\n",
       "      <td>-0.002000</td>\n",
       "      <td>0.129076</td>\n",
       "      <td>00:00</td>\n",
       "    </tr>\n",
       "  </tbody>\n",
       "</table>"
      ],
      "text/plain": [
       "<IPython.core.display.HTML object>"
      ]
     },
     "metadata": {},
     "output_type": "display_data"
    }
   ],
   "source": [
    "target_model = LinearTransferModel(source_model, \n",
    "                                   num_layers_to_remove=1, \n",
    "                                   use_original_weights=False,\n",
    "                                   alpha=1/(0.1)**0.5, beta=1/(0.1)**0.5)\n",
    "\n",
    "\n",
    "target_learner = Learner(dls_target, target_model, loss_func=target_model.loss_func, metrics=rmse,)\n",
    "target_learner.fit(1)"
   ]
  },
  {
   "cell_type": "markdown",
   "metadata": {},
   "source": [
    "Or remove multiple layers"
   ]
  },
  {
   "cell_type": "code",
   "execution_count": null,
   "metadata": {},
   "outputs": [
    {
     "data": {
      "text/html": [
       "<table border=\"1\" class=\"dataframe\">\n",
       "  <thead>\n",
       "    <tr style=\"text-align: left;\">\n",
       "      <th>epoch</th>\n",
       "      <th>train_loss</th>\n",
       "      <th>valid_loss</th>\n",
       "      <th>_rmse</th>\n",
       "      <th>time</th>\n",
       "    </tr>\n",
       "  </thead>\n",
       "  <tbody>\n",
       "    <tr>\n",
       "      <td>0</td>\n",
       "      <td>-0.000505</td>\n",
       "      <td>-0.002000</td>\n",
       "      <td>0.133876</td>\n",
       "      <td>00:00</td>\n",
       "    </tr>\n",
       "  </tbody>\n",
       "</table>"
      ],
      "text/plain": [
       "<IPython.core.display.HTML object>"
      ]
     },
     "metadata": {},
     "output_type": "display_data"
    }
   ],
   "source": [
    "target_model = LinearTransferModel(source_model, \n",
    "                                   num_layers_to_remove=2, \n",
    "                                   use_original_weights=False,\n",
    "                                   alpha=1/(0.1)**0.5, beta=1/(0.1)**0.5)\n",
    "\n",
    "\n",
    "target_learner = Learner(dls_target, target_model, loss_func=target_model.loss_func, metrics=rmse,)\n",
    "target_learner.fit(1)"
   ]
  },
  {
   "cell_type": "markdown",
   "metadata": {},
   "source": [
    "# Test on real world data"
   ]
  },
  {
   "cell_type": "code",
   "execution_count": null,
   "metadata": {},
   "outputs": [],
   "source": [
    "\n",
    "from fastrenewables.tabular.core import *\n",
    "from fastrenewables.tabular.data import *\n",
    "from fastrenewables.tabular.model import *\n",
    "from fastrenewables.tabular.learner import *"
   ]
  },
  {
   "cell_type": "code",
   "execution_count": null,
   "metadata": {},
   "outputs": [],
   "source": [
    "cont_names = ['T_HAG_2_M', 'RELHUM_HAG_2_M', 'PS_SFC_0_M', 'ASWDIFDS_SFC_0_M',\n",
    "       'ASWDIRS_SFC_0_M', 'WindSpeed58m',\n",
    "       'SinWindDirection58m', 'CosWindDirection58m', 'WindSpeed60m',\n",
    "       'SinWindDirection60m', 'CosWindDirection60m', 'WindSpeed58mMinus_t_1',\n",
    "       'SinWindDirection58mMinus_t_1', 'CosWindDirection58mMinus_t_1',\n",
    "       'WindSpeed60mMinus_t_1', 'SinWindDirection60mMinus_t_1',\n",
    "       'CosWindDirection60mMinus_t_1', 'WindSpeed58mPlus_t_1',\n",
    "       'SinWindDirection58mPlus_t_1', 'CosWindDirection58mPlus_t_1',\n",
    "       'WindSpeed60mPlus_t_1', 'SinWindDirection60mPlus_t_1',\n",
    "       'CosWindDirection60mPlus_t_1']\n",
    "cat_names = ['TaskID', 'Month', 'Day', 'Hour']\n",
    "\n",
    "dls_source = RenewableDataLoaders.from_files(glob.glob(\"../data/*.h5\")[0:1], y_names=\"PowerGeneration\", \n",
    "                                      pre_procs=[FilterYear(year=2020), \n",
    "                                                 AddSeasonalFeatures(as_cont=False)], \n",
    "                                      cat_names=cat_names, cont_names=cont_names)\n",
    "\n",
    "dls_target = RenewableDataLoaders.from_files(glob.glob(\"../data/*.h5\")[2], y_names=\"PowerGeneration\", \n",
    "                                      pre_procs=[FilterYear(year=2020), \n",
    "                                                 AddSeasonalFeatures(as_cont=False)], \n",
    "                                      cat_names=cat_names, cont_names=cont_names)"
   ]
  },
  {
   "cell_type": "code",
   "execution_count": null,
   "metadata": {},
   "outputs": [
    {
     "data": {
      "text/html": [
       "<table border=\"1\" class=\"dataframe\">\n",
       "  <thead>\n",
       "    <tr style=\"text-align: left;\">\n",
       "      <th>epoch</th>\n",
       "      <th>train_loss</th>\n",
       "      <th>valid_loss</th>\n",
       "      <th>_rmse</th>\n",
       "      <th>time</th>\n",
       "    </tr>\n",
       "  </thead>\n",
       "  <tbody>\n",
       "    <tr>\n",
       "      <td>0</td>\n",
       "      <td>0.026344</td>\n",
       "      <td>0.018487</td>\n",
       "      <td>0.135966</td>\n",
       "      <td>00:00</td>\n",
       "    </tr>\n",
       "    <tr>\n",
       "      <td>1</td>\n",
       "      <td>0.016860</td>\n",
       "      <td>0.015592</td>\n",
       "      <td>0.124869</td>\n",
       "      <td>00:00</td>\n",
       "    </tr>\n",
       "    <tr>\n",
       "      <td>2</td>\n",
       "      <td>0.013994</td>\n",
       "      <td>0.014988</td>\n",
       "      <td>0.122424</td>\n",
       "      <td>00:00</td>\n",
       "    </tr>\n",
       "    <tr>\n",
       "      <td>3</td>\n",
       "      <td>0.013479</td>\n",
       "      <td>0.013282</td>\n",
       "      <td>0.115249</td>\n",
       "      <td>00:00</td>\n",
       "    </tr>\n",
       "    <tr>\n",
       "      <td>4</td>\n",
       "      <td>0.012488</td>\n",
       "      <td>0.013669</td>\n",
       "      <td>0.116914</td>\n",
       "      <td>00:01</td>\n",
       "    </tr>\n",
       "    <tr>\n",
       "      <td>5</td>\n",
       "      <td>0.012515</td>\n",
       "      <td>0.013215</td>\n",
       "      <td>0.114958</td>\n",
       "      <td>00:00</td>\n",
       "    </tr>\n",
       "    <tr>\n",
       "      <td>6</td>\n",
       "      <td>0.012388</td>\n",
       "      <td>0.013114</td>\n",
       "      <td>0.114515</td>\n",
       "      <td>00:00</td>\n",
       "    </tr>\n",
       "    <tr>\n",
       "      <td>7</td>\n",
       "      <td>0.011285</td>\n",
       "      <td>0.013015</td>\n",
       "      <td>0.114083</td>\n",
       "      <td>00:00</td>\n",
       "    </tr>\n",
       "    <tr>\n",
       "      <td>8</td>\n",
       "      <td>0.011318</td>\n",
       "      <td>0.012695</td>\n",
       "      <td>0.112672</td>\n",
       "      <td>00:00</td>\n",
       "    </tr>\n",
       "    <tr>\n",
       "      <td>9</td>\n",
       "      <td>0.010204</td>\n",
       "      <td>0.012120</td>\n",
       "      <td>0.110091</td>\n",
       "      <td>00:00</td>\n",
       "    </tr>\n",
       "  </tbody>\n",
       "</table>"
      ],
      "text/plain": [
       "<IPython.core.display.HTML object>"
      ]
     },
     "metadata": {},
     "output_type": "display_data"
    }
   ],
   "source": [
    "learn_source = renewable_learner(dls_source, metrics=rmse)\n",
    "learn_source.fit(10)"
   ]
  },
  {
   "cell_type": "code",
   "execution_count": null,
   "metadata": {},
   "outputs": [],
   "source": [
    "target_model = LinearTransferModel(learn_source.model, 1, use_original_weights=True,\n",
    "                                  alpha=1/(0.1)**0.5, beta=1/(0.1)**0.5)"
   ]
  },
  {
   "cell_type": "code",
   "execution_count": null,
   "metadata": {},
   "outputs": [
    {
     "data": {
      "text/html": [
       "<table border=\"1\" class=\"dataframe\">\n",
       "  <thead>\n",
       "    <tr style=\"text-align: left;\">\n",
       "      <th>epoch</th>\n",
       "      <th>train_loss</th>\n",
       "      <th>valid_loss</th>\n",
       "      <th>_rmse</th>\n",
       "      <th>time</th>\n",
       "    </tr>\n",
       "  </thead>\n",
       "  <tbody>\n",
       "    <tr>\n",
       "      <td>0</td>\n",
       "      <td>-0.067663</td>\n",
       "      <td>-0.102946</td>\n",
       "      <td>0.098105</td>\n",
       "      <td>00:00</td>\n",
       "    </tr>\n",
       "  </tbody>\n",
       "</table>"
      ],
      "text/plain": [
       "<IPython.core.display.HTML object>"
      ]
     },
     "metadata": {},
     "output_type": "display_data"
    }
   ],
   "source": [
    "target_learner = RenewableLearner(dls_target, target_model, loss_func=target_model.loss_func, metrics=rmse,)\n",
    "target_learner.fit(1)"
   ]
  },
  {
   "cell_type": "code",
   "execution_count": null,
   "metadata": {},
   "outputs": [],
   "source": [
    "preds, targets = target_learner.predict(ds_idx=1, filter=True, flatten=True)"
   ]
  },
  {
   "cell_type": "code",
   "execution_count": null,
   "metadata": {},
   "outputs": [
    {
     "data": {
      "text/plain": [
       "<matplotlib.collections.PathCollection at 0x7fe3c071ee20>"
      ]
     },
     "execution_count": null,
     "metadata": {},
     "output_type": "execute_result"
    },
    {
     "data": {
      "image/png": "[encoded data removed]",
      "text/plain": [
       "<Figure size 432x288 with 1 Axes>"
      ]
     },
     "metadata": {
      "needs_background": "light"
     },
     "output_type": "display_data"
    }
   ],
   "source": [
    "plt.scatter(dls_target.valid_ds.items.WindSpeed58m, targets)\n",
    "plt.scatter(dls_target.valid_ds.items.WindSpeed58m, preds)"
   ]
  },
  {
   "cell_type": "markdown",
   "metadata": {},
   "source": [
    "## Test for timeseries"
   ]
  },
  {
   "cell_type": "code",
   "execution_count": null,
   "metadata": {},
   "outputs": [],
   "source": [
    "from fastrenewables.timeseries.core import *\n",
    "from fastrenewables.tabular.core import *\n",
    "from fastrenewables.timeseries.data import *\n",
    "from fastrenewables.timeseries.model import *\n",
    "from fastrenewables.timeseries.learner import *"
   ]
  },
  {
   "cell_type": "code",
   "execution_count": null,
   "metadata": {},
   "outputs": [],
   "source": [
    "def get_dls(y_names=\"PowerGeneration\"):\n",
    "#     if cont_names is None:\n",
    "#         cont_names = ['T_HAG_2_M', 'RELHUM_HAG_2_M', 'PS_SFC_0_M', 'ASWDIFDS_SFC_0_M',\n",
    "#            'ASWDIRS_SFC_0_M', 'WindSpeed58m', \"HourSin\", \"HourCos\"]\n",
    "    \n",
    "    pd.options.mode.chained_assignment=None\n",
    "    dls_source = RenewableTimeSeriesDataLoaders.from_files(glob.glob(\"../data/*.h5\")[0], \n",
    "                                                y_names=y_names, \n",
    "                                                cat_names=cat_names, \n",
    "                                                cont_names=cont_names,\n",
    "                                                pre_procs=[#FilterYear(year=2020), \n",
    "                                                             AddSeasonalFeatures(as_cont=False),\n",
    "                                                             FilterInconsistentSamplesPerDay], \n",
    "                                                procs=[Categorify, Normalize], \n",
    "                                                bs=12,\n",
    "                                                y_block=RegressionBlock(),\n",
    "                                                )\n",
    "    \n",
    "    dls_target = RenewableTimeSeriesDataLoaders.from_files(glob.glob(\"../data/*.h5\")[1], \n",
    "                                                y_names=y_names, \n",
    "                                                cat_names=cat_names, \n",
    "                                                cont_names=cont_names,\n",
    "                                                pre_procs=[FilterYear(year=2020), \n",
    "                                                             AddSeasonalFeatures(as_cont=False),\n",
    "                                                             FilterInconsistentSamplesPerDay], \n",
    "                                                procs=[Categorify, Normalize], \n",
    "                                                bs=12,\n",
    "                                                y_block=RegressionBlock(),\n",
    "                                                )\n",
    "    \n",
    "    return dls_source, dls_target\n",
    "\n"
   ]
  },
  {
   "cell_type": "code",
   "execution_count": null,
   "metadata": {},
   "outputs": [],
   "source": [
    "dls_source, dls_target = get_dls()"
   ]
  },
  {
   "cell_type": "code",
   "execution_count": null,
   "metadata": {},
   "outputs": [],
   "source": [
    "n_features = len(dls_source.train_ds.cont_names)"
   ]
  },
  {
   "cell_type": "code",
   "execution_count": null,
   "metadata": {},
   "outputs": [],
   "source": [
    "learner = renewable_timeseries_learner(dls_source, metrics=rmse, layers=[n_features, 200, 100, 50, 25, 5, 1])"
   ]
  },
  {
   "cell_type": "code",
   "execution_count": null,
   "metadata": {},
   "outputs": [
    {
     "data": {
      "text/html": [
       "<table border=\"1\" class=\"dataframe\">\n",
       "  <thead>\n",
       "    <tr style=\"text-align: left;\">\n",
       "      <th>epoch</th>\n",
       "      <th>train_loss</th>\n",
       "      <th>valid_loss</th>\n",
       "      <th>_rmse</th>\n",
       "      <th>time</th>\n",
       "    </tr>\n",
       "  </thead>\n",
       "  <tbody>\n",
       "    <tr>\n",
       "      <td>0</td>\n",
       "      <td>0.042092</td>\n",
       "      <td>0.026910</td>\n",
       "      <td>0.164044</td>\n",
       "      <td>00:00</td>\n",
       "    </tr>\n",
       "    <tr>\n",
       "      <td>1</td>\n",
       "      <td>0.028721</td>\n",
       "      <td>0.015365</td>\n",
       "      <td>0.123955</td>\n",
       "      <td>00:00</td>\n",
       "    </tr>\n",
       "    <tr>\n",
       "      <td>2</td>\n",
       "      <td>0.021590</td>\n",
       "      <td>0.013102</td>\n",
       "      <td>0.114464</td>\n",
       "      <td>00:00</td>\n",
       "    </tr>\n",
       "    <tr>\n",
       "      <td>3</td>\n",
       "      <td>0.018228</td>\n",
       "      <td>0.012192</td>\n",
       "      <td>0.110415</td>\n",
       "      <td>00:00</td>\n",
       "    </tr>\n",
       "    <tr>\n",
       "      <td>4</td>\n",
       "      <td>0.016293</td>\n",
       "      <td>0.012858</td>\n",
       "      <td>0.113393</td>\n",
       "      <td>00:00</td>\n",
       "    </tr>\n",
       "    <tr>\n",
       "      <td>5</td>\n",
       "      <td>0.015048</td>\n",
       "      <td>0.014523</td>\n",
       "      <td>0.120511</td>\n",
       "      <td>00:00</td>\n",
       "    </tr>\n",
       "    <tr>\n",
       "      <td>6</td>\n",
       "      <td>0.014057</td>\n",
       "      <td>0.013996</td>\n",
       "      <td>0.118307</td>\n",
       "      <td>00:00</td>\n",
       "    </tr>\n",
       "    <tr>\n",
       "      <td>7</td>\n",
       "      <td>0.013323</td>\n",
       "      <td>0.015693</td>\n",
       "      <td>0.125270</td>\n",
       "      <td>00:01</td>\n",
       "    </tr>\n",
       "    <tr>\n",
       "      <td>8</td>\n",
       "      <td>0.012929</td>\n",
       "      <td>0.013321</td>\n",
       "      <td>0.115417</td>\n",
       "      <td>00:00</td>\n",
       "    </tr>\n",
       "    <tr>\n",
       "      <td>9</td>\n",
       "      <td>0.012528</td>\n",
       "      <td>0.013197</td>\n",
       "      <td>0.114876</td>\n",
       "      <td>00:00</td>\n",
       "    </tr>\n",
       "    <tr>\n",
       "      <td>10</td>\n",
       "      <td>0.012017</td>\n",
       "      <td>0.013333</td>\n",
       "      <td>0.115467</td>\n",
       "      <td>00:00</td>\n",
       "    </tr>\n",
       "    <tr>\n",
       "      <td>11</td>\n",
       "      <td>0.011451</td>\n",
       "      <td>0.011912</td>\n",
       "      <td>0.109141</td>\n",
       "      <td>00:00</td>\n",
       "    </tr>\n",
       "    <tr>\n",
       "      <td>12</td>\n",
       "      <td>0.011602</td>\n",
       "      <td>0.012333</td>\n",
       "      <td>0.111055</td>\n",
       "      <td>00:00</td>\n",
       "    </tr>\n",
       "    <tr>\n",
       "      <td>13</td>\n",
       "      <td>0.011100</td>\n",
       "      <td>0.014091</td>\n",
       "      <td>0.118704</td>\n",
       "      <td>00:00</td>\n",
       "    </tr>\n",
       "    <tr>\n",
       "      <td>14</td>\n",
       "      <td>0.010410</td>\n",
       "      <td>0.013272</td>\n",
       "      <td>0.115205</td>\n",
       "      <td>00:00</td>\n",
       "    </tr>\n",
       "    <tr>\n",
       "      <td>15</td>\n",
       "      <td>0.009646</td>\n",
       "      <td>0.013331</td>\n",
       "      <td>0.115461</td>\n",
       "      <td>00:00</td>\n",
       "    </tr>\n",
       "    <tr>\n",
       "      <td>16</td>\n",
       "      <td>0.009007</td>\n",
       "      <td>0.012306</td>\n",
       "      <td>0.110935</td>\n",
       "      <td>00:00</td>\n",
       "    </tr>\n",
       "    <tr>\n",
       "      <td>17</td>\n",
       "      <td>0.008510</td>\n",
       "      <td>0.012404</td>\n",
       "      <td>0.111371</td>\n",
       "      <td>00:00</td>\n",
       "    </tr>\n",
       "    <tr>\n",
       "      <td>18</td>\n",
       "      <td>0.008127</td>\n",
       "      <td>0.012649</td>\n",
       "      <td>0.112469</td>\n",
       "      <td>00:00</td>\n",
       "    </tr>\n",
       "    <tr>\n",
       "      <td>19</td>\n",
       "      <td>0.007895</td>\n",
       "      <td>0.012721</td>\n",
       "      <td>0.112786</td>\n",
       "      <td>00:00</td>\n",
       "    </tr>\n",
       "  </tbody>\n",
       "</table>"
      ],
      "text/plain": [
       "<IPython.core.display.HTML object>"
      ]
     },
     "metadata": {},
     "output_type": "display_data"
    }
   ],
   "source": [
    "learner.fit_one_cycle(20)"
   ]
  },
  {
   "cell_type": "code",
   "execution_count": null,
   "metadata": {},
   "outputs": [],
   "source": [
    "preds, targets = learner.predict(ds_idx=1, filter=True)"
   ]
  },
  {
   "cell_type": "code",
   "execution_count": null,
   "metadata": {},
   "outputs": [
    {
     "data": {
      "text/plain": [
       "(#23) ['T_HAG_2_M','RELHUM_HAG_2_M','PS_SFC_0_M','ASWDIFDS_SFC_0_M','ASWDIRS_SFC_0_M','WindSpeed58m','SinWindDirection58m','CosWindDirection58m','WindSpeed60m','SinWindDirection60m'...]"
      ]
     },
     "execution_count": null,
     "metadata": {},
     "output_type": "execute_result"
    }
   ],
   "source": [
    "dls_source.valid_ds.cont_names"
   ]
  },
  {
   "cell_type": "code",
   "execution_count": null,
   "metadata": {},
   "outputs": [],
   "source": [
    "id_ws = 5"
   ]
  },
  {
   "cell_type": "markdown",
   "metadata": {},
   "source": [
    "We catch the the wind speed from the validation data to check the forecasts."
   ]
  },
  {
   "cell_type": "code",
   "execution_count": null,
   "metadata": {},
   "outputs": [],
   "source": [
    "windspeed = dls_source.valid_ds.conts[:,id_ws,:]\n",
    "windspeed = windspeed.reshape(-1,1)"
   ]
  },
  {
   "cell_type": "code",
   "execution_count": null,
   "metadata": {},
   "outputs": [
    {
     "data": {
      "text/plain": [
       "<matplotlib.collections.PathCollection at 0x7fe3c00777f0>"
      ]
     },
     "execution_count": null,
     "metadata": {},
     "output_type": "execute_result"
    },
    {
     "data": {
      "image/png": "[encoded data removed]",
      "text/plain": [
       "<Figure size 432x288 with 1 Axes>"
      ]
     },
     "metadata": {
      "needs_background": "light"
     },
     "output_type": "display_data"
    }
   ],
   "source": [
    "plt.scatter(windspeed, targets)\n",
    "plt.scatter(windspeed, preds)"
   ]
  },
  {
   "cell_type": "code",
   "execution_count": null,
   "metadata": {},
   "outputs": [],
   "source": [
    "# export\n",
    "def reduce_layers_tcn_model(tcn_model, num_layers=1):\n",
    "    tcn_model.layers.temporal_blocks = tcn_model.layers.temporal_blocks[:-num_layers]"
   ]
  },
  {
   "cell_type": "code",
   "execution_count": null,
   "metadata": {},
   "outputs": [],
   "source": [
    "target_model = LinearTransferModel(learner.model, 1, reduce_layers_tcn_model, use_original_weights=False,\n",
    "                                  alpha=100, beta=100, include_original_features=True)"
   ]
  },
  {
   "cell_type": "code",
   "execution_count": null,
   "metadata": {},
   "outputs": [
    {
     "data": {
      "text/html": [
       "<table border=\"1\" class=\"dataframe\">\n",
       "  <thead>\n",
       "    <tr style=\"text-align: left;\">\n",
       "      <th>epoch</th>\n",
       "      <th>train_loss</th>\n",
       "      <th>valid_loss</th>\n",
       "      <th>_rmse</th>\n",
       "      <th>time</th>\n",
       "    </tr>\n",
       "  </thead>\n",
       "  <tbody>\n",
       "    <tr>\n",
       "      <td>0</td>\n",
       "      <td>-0.012463</td>\n",
       "      <td>-0.023997</td>\n",
       "      <td>0.144655</td>\n",
       "      <td>00:00</td>\n",
       "    </tr>\n",
       "  </tbody>\n",
       "</table>"
      ],
      "text/plain": [
       "<IPython.core.display.HTML object>"
      ]
     },
     "metadata": {},
     "output_type": "display_data"
    }
   ],
   "source": [
    "target_learner = RenewableTimeseriesLearner(dls_target, target_model, loss_func=target_model.loss_func, metrics=rmse,)\n",
    "target_learner.fit(1)"
   ]
  },
  {
   "cell_type": "code",
   "execution_count": null,
   "metadata": {},
   "outputs": [],
   "source": [
    "preds, targets = target_learner.predict(ds_idx=1, filter=True, flatten=True)"
   ]
  },
  {
   "cell_type": "code",
   "execution_count": null,
   "metadata": {},
   "outputs": [
    {
     "data": {
      "text/plain": [
       "((1728,), (1728,))"
      ]
     },
     "execution_count": null,
     "metadata": {},
     "output_type": "execute_result"
    }
   ],
   "source": [
    "preds.shape, targets.shape"
   ]
  },
  {
   "cell_type": "code",
   "execution_count": null,
   "metadata": {},
   "outputs": [],
   "source": [
    "windspeed = dls_target.valid_ds.conts[:,id_ws,:]\n",
    "windspeed = windspeed.reshape(-1,1)"
   ]
  },
  {
   "cell_type": "code",
   "execution_count": null,
   "metadata": {},
   "outputs": [
    {
     "data": {
      "text/plain": [
       "torch.Size([1728, 1])"
      ]
     },
     "execution_count": null,
     "metadata": {},
     "output_type": "execute_result"
    }
   ],
   "source": [
    "windspeed.shape"
   ]
  },
  {
   "cell_type": "code",
   "execution_count": null,
   "metadata": {},
   "outputs": [
    {
     "data": {
      "text/plain": [
       "<matplotlib.collections.PathCollection at 0x7fe3b039c9a0>"
      ]
     },
     "execution_count": null,
     "metadata": {},
     "output_type": "execute_result"
    },
    {
     "data": {
      "image/png": "[encoded data removed]",
      "text/plain": [
       "<Figure size 432x288 with 1 Axes>"
      ]
     },
     "metadata": {
      "needs_background": "light"
     },
     "output_type": "display_data"
    }
   ],
   "source": [
    "plt.scatter(windspeed, targets)\n",
    "plt.scatter(windspeed, preds)"
   ]
  }
 ],
 "metadata": {
  "kernelspec": {
   "display_name": "Python 3",
   "language": "python",
   "name": "python3"
  }
 },
 "nbformat": 4,
 "nbformat_minor": 2
}
