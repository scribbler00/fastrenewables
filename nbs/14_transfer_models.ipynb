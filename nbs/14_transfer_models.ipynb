{
 "cells": [
  {
   "cell_type": "code",
   "execution_count": null,
   "metadata": {},
   "outputs": [],
   "source": [
    "# default_exp models.transfermodels"
   ]
  },
  {
   "cell_type": "markdown",
   "metadata": {},
   "source": [
    "# models.transfermodels\n",
    "\n",
    "> API details."
   ]
  },
  {
   "cell_type": "code",
   "execution_count": null,
   "metadata": {},
   "outputs": [],
   "source": [
    "# export\n",
    "import os\n",
    "os.environ[\"CUDA_VISIBLE_DEVICES\"] = \"\"\n",
    "import numpy as np\n",
    "import torch\n",
    "from torch import nn\n",
    "from fastrenewables.tabular.model import *\n",
    "from fastrenewables.timeseries.model import *\n",
    "from fastai.tabular.all import *\n",
    "from torch.autograd import Variable\n",
    "from sklearn.datasets import make_regression\n",
    "from fastai.learner import *\n",
    "from fastrenewables.utils_pytorch import *\n",
    "import copy\n",
    "from fastrenewables.timeseries.model import *\n",
    "from fastrenewables.baselines import BayesLinReg"
   ]
  },
  {
   "cell_type": "code",
   "execution_count": null,
   "metadata": {},
   "outputs": [],
   "source": [
    "def generate_single_dataset(n_samples, start, end, bias, coef, noise_factor=0.3):\n",
    "\n",
    "    X = np.random.uniform(low=start, high=end,size=n_samples)\n",
    "    y = np.sin(X*coef*2*np.pi) + np.random.randn(X.shape[0])*noise_factor+bias\n",
    "    \n",
    "    return X,y"
   ]
  },
  {
   "cell_type": "code",
   "execution_count": null,
   "metadata": {},
   "outputs": [],
   "source": [
    "def generate_all_tasks(n_samples=100):\n",
    "    starts = [0,  0]\n",
    "    ends = [4.1,  3.9]\n",
    "    coefs = [3.4,  4]\n",
    "    biases = [0.1,  0.1]\n",
    "    n_samples = [n_samples, 30]\n",
    "    \n",
    "    df_tasks = []\n",
    "    for task_id in range(len(starts)):\n",
    "        start, end, bias, coef = starts[task_id], ends[task_id], coefs[task_id], biases[task_id]\n",
    "        X,y = generate_single_dataset(n_samples[task_id], start, end, bias, coef, noise_factor=0.05)\n",
    "        df_task = pd.DataFrame({\"X\": X.ravel(), \"y\":y.ravel()})\n",
    "        df_task[\"TaskID\"] = task_id\n",
    "        df_tasks.append(df_task)\n",
    "    return pd.concat(df_tasks)"
   ]
  },
  {
   "cell_type": "code",
   "execution_count": null,
   "metadata": {},
   "outputs": [],
   "source": [
    "def get_source_task(df):\n",
    "    df_source =  df[df.TaskID == 0]\n",
    "    dls = TabularDataLoaders.from_df(df_source, cont_names=\"X\", y_names=\"y\", \n",
    "                                     deivce=\"cpu\", procs=Normalize, bs=10)\n",
    "    return dls\n",
    "    \n",
    "def get_target_task(df):\n",
    "    df_target =  df[df.TaskID == 1]\n",
    "    dls = TabularDataLoaders.from_df(df_target, cont_names=\"X\", y_names=\"y\", \n",
    "                                     deivce=\"cpu\", procs=Normalize, bs=10)\n",
    "    return dls"
   ]
  },
  {
   "cell_type": "code",
   "execution_count": null,
   "metadata": {},
   "outputs": [],
   "source": [
    "df = generate_all_tasks()"
   ]
  },
  {
   "cell_type": "code",
   "execution_count": null,
   "metadata": {},
   "outputs": [
    {
     "data": {
      "text/plain": [
       "<matplotlib.collections.PathCollection at 0x7f8d7941bfd0>"
      ]
     },
     "execution_count": null,
     "metadata": {},
     "output_type": "execute_result"
    },
    {
     "data": {
      "image/png": "[encoded data removed]",
      "text/plain": [
       "<Figure size 432x288 with 1 Axes>"
      ]
     },
     "metadata": {
      "needs_background": "light"
     },
     "output_type": "display_data"
    }
   ],
   "source": [
    "plt.scatter(df.X, df.y, c=df.TaskID)"
   ]
  },
  {
   "cell_type": "code",
   "execution_count": null,
   "metadata": {},
   "outputs": [],
   "source": [
    "dls_source = get_source_task(df)\n",
    "dls_target = get_target_task(df)"
   ]
  },
  {
   "cell_type": "code",
   "execution_count": null,
   "metadata": {},
   "outputs": [],
   "source": [
    "set_seed(10)\n",
    "# set_random_states(10, 10,10, 10, 10, 10)\n",
    "source_model = MultiLayerPerceptron([1, 100, 10, 5, 1], use_bn=True, bn_cont=False)\n",
    "learn_source = Learner(dls_source, source_model, metrics=rmse)"
   ]
  },
  {
   "cell_type": "code",
   "execution_count": null,
   "metadata": {},
   "outputs": [
    {
     "data": {
      "text/html": [
       "<table border=\"1\" class=\"dataframe\">\n",
       "  <thead>\n",
       "    <tr style=\"text-align: left;\">\n",
       "      <th>epoch</th>\n",
       "      <th>train_loss</th>\n",
       "      <th>valid_loss</th>\n",
       "      <th>_rmse</th>\n",
       "      <th>time</th>\n",
       "    </tr>\n",
       "  </thead>\n",
       "  <tbody>\n",
       "    <tr>\n",
       "      <td>0</td>\n",
       "      <td>13.244592</td>\n",
       "      <td>12.791247</td>\n",
       "      <td>3.576485</td>\n",
       "      <td>00:00</td>\n",
       "    </tr>\n",
       "    <tr>\n",
       "      <td>1</td>\n",
       "      <td>12.564035</td>\n",
       "      <td>10.874581</td>\n",
       "      <td>3.297663</td>\n",
       "      <td>00:00</td>\n",
       "    </tr>\n",
       "    <tr>\n",
       "      <td>2</td>\n",
       "      <td>11.748777</td>\n",
       "      <td>8.843756</td>\n",
       "      <td>2.973845</td>\n",
       "      <td>00:00</td>\n",
       "    </tr>\n",
       "    <tr>\n",
       "      <td>3</td>\n",
       "      <td>10.746590</td>\n",
       "      <td>6.983147</td>\n",
       "      <td>2.642564</td>\n",
       "      <td>00:00</td>\n",
       "    </tr>\n",
       "    <tr>\n",
       "      <td>4</td>\n",
       "      <td>9.563304</td>\n",
       "      <td>5.258692</td>\n",
       "      <td>2.293184</td>\n",
       "      <td>00:00</td>\n",
       "    </tr>\n",
       "    <tr>\n",
       "      <td>5</td>\n",
       "      <td>8.253172</td>\n",
       "      <td>2.996956</td>\n",
       "      <td>1.731172</td>\n",
       "      <td>00:00</td>\n",
       "    </tr>\n",
       "    <tr>\n",
       "      <td>6</td>\n",
       "      <td>6.909734</td>\n",
       "      <td>1.235961</td>\n",
       "      <td>1.111738</td>\n",
       "      <td>00:00</td>\n",
       "    </tr>\n",
       "    <tr>\n",
       "      <td>7</td>\n",
       "      <td>5.659206</td>\n",
       "      <td>0.326915</td>\n",
       "      <td>0.571765</td>\n",
       "      <td>00:00</td>\n",
       "    </tr>\n",
       "    <tr>\n",
       "      <td>8</td>\n",
       "      <td>4.602721</td>\n",
       "      <td>0.050623</td>\n",
       "      <td>0.224996</td>\n",
       "      <td>00:00</td>\n",
       "    </tr>\n",
       "    <tr>\n",
       "      <td>9</td>\n",
       "      <td>3.753726</td>\n",
       "      <td>0.031874</td>\n",
       "      <td>0.178534</td>\n",
       "      <td>00:00</td>\n",
       "    </tr>\n",
       "    <tr>\n",
       "      <td>10</td>\n",
       "      <td>3.091597</td>\n",
       "      <td>0.169713</td>\n",
       "      <td>0.411963</td>\n",
       "      <td>00:00</td>\n",
       "    </tr>\n",
       "    <tr>\n",
       "      <td>11</td>\n",
       "      <td>2.564117</td>\n",
       "      <td>0.035669</td>\n",
       "      <td>0.188863</td>\n",
       "      <td>00:00</td>\n",
       "    </tr>\n",
       "    <tr>\n",
       "      <td>12</td>\n",
       "      <td>2.141209</td>\n",
       "      <td>0.012810</td>\n",
       "      <td>0.113182</td>\n",
       "      <td>00:00</td>\n",
       "    </tr>\n",
       "    <tr>\n",
       "      <td>13</td>\n",
       "      <td>1.791755</td>\n",
       "      <td>0.020932</td>\n",
       "      <td>0.144679</td>\n",
       "      <td>00:00</td>\n",
       "    </tr>\n",
       "    <tr>\n",
       "      <td>14</td>\n",
       "      <td>1.507237</td>\n",
       "      <td>0.038993</td>\n",
       "      <td>0.197466</td>\n",
       "      <td>00:00</td>\n",
       "    </tr>\n",
       "    <tr>\n",
       "      <td>15</td>\n",
       "      <td>1.269514</td>\n",
       "      <td>0.043060</td>\n",
       "      <td>0.207509</td>\n",
       "      <td>00:00</td>\n",
       "    </tr>\n",
       "    <tr>\n",
       "      <td>16</td>\n",
       "      <td>1.073725</td>\n",
       "      <td>0.010337</td>\n",
       "      <td>0.101669</td>\n",
       "      <td>00:00</td>\n",
       "    </tr>\n",
       "    <tr>\n",
       "      <td>17</td>\n",
       "      <td>0.912220</td>\n",
       "      <td>0.014318</td>\n",
       "      <td>0.119657</td>\n",
       "      <td>00:00</td>\n",
       "    </tr>\n",
       "    <tr>\n",
       "      <td>18</td>\n",
       "      <td>0.773436</td>\n",
       "      <td>0.025865</td>\n",
       "      <td>0.160827</td>\n",
       "      <td>00:00</td>\n",
       "    </tr>\n",
       "    <tr>\n",
       "      <td>19</td>\n",
       "      <td>0.657299</td>\n",
       "      <td>0.017449</td>\n",
       "      <td>0.132093</td>\n",
       "      <td>00:00</td>\n",
       "    </tr>\n",
       "    <tr>\n",
       "      <td>20</td>\n",
       "      <td>0.562543</td>\n",
       "      <td>0.007674</td>\n",
       "      <td>0.087603</td>\n",
       "      <td>00:00</td>\n",
       "    </tr>\n",
       "    <tr>\n",
       "      <td>21</td>\n",
       "      <td>0.479378</td>\n",
       "      <td>0.005975</td>\n",
       "      <td>0.077296</td>\n",
       "      <td>00:00</td>\n",
       "    </tr>\n",
       "    <tr>\n",
       "      <td>22</td>\n",
       "      <td>0.409715</td>\n",
       "      <td>0.011816</td>\n",
       "      <td>0.108703</td>\n",
       "      <td>00:00</td>\n",
       "    </tr>\n",
       "    <tr>\n",
       "      <td>23</td>\n",
       "      <td>0.353228</td>\n",
       "      <td>0.012737</td>\n",
       "      <td>0.112860</td>\n",
       "      <td>00:00</td>\n",
       "    </tr>\n",
       "    <tr>\n",
       "      <td>24</td>\n",
       "      <td>0.302811</td>\n",
       "      <td>0.009934</td>\n",
       "      <td>0.099669</td>\n",
       "      <td>00:00</td>\n",
       "    </tr>\n",
       "  </tbody>\n",
       "</table>"
      ],
      "text/plain": [
       "<IPython.core.display.HTML object>"
      ]
     },
     "metadata": {},
     "output_type": "display_data"
    }
   ],
   "source": [
    "learn_source.fit(25, lr=0.01)"
   ]
  },
  {
   "cell_type": "code",
   "execution_count": null,
   "metadata": {},
   "outputs": [
    {
     "data": {
      "text/html": [],
      "text/plain": [
       "<IPython.core.display.HTML object>"
      ]
     },
     "metadata": {},
     "output_type": "display_data"
    },
    {
     "data": {
      "image/png": "[encoded data removed]",
      "text/plain": [
       "<Figure size 432x288 with 1 Axes>"
      ]
     },
     "metadata": {
      "needs_background": "light"
     },
     "output_type": "display_data"
    }
   ],
   "source": [
    "targets, preds = learn_source.get_preds(ds_idx=0)\n",
    "plt.scatter(dls_source.train_ds.items.X, preds, label=\"preds\")\n",
    "plt.scatter(dls_source.train_ds.items.X, targets, label=\"targets\")\n",
    "plt.legend()\n",
    "plt.show()"
   ]
  },
  {
   "cell_type": "code",
   "execution_count": null,
   "metadata": {},
   "outputs": [],
   "source": [
    "# hide\n",
    "# export\n",
    "def _create_matrices(n_features, alpha):\n",
    "    w_mean = torch.zeros(n_features)\n",
    "    w_precision = torch.eye(n_features) / alpha\n",
    "    \n",
    "    return w_mean, w_precision\n",
    "# minimal check if we can create the matricies\n",
    "mean, precision = _create_matrices(10, 10)\n",
    "test_eq(0, mean.sum())\n",
    "test_eq(0.1, precision[0,0])"
   ]
  },
  {
   "cell_type": "code",
   "execution_count": null,
   "metadata": {},
   "outputs": [],
   "source": [
    "# export\n",
    "class LinearTransferModel(nn.Module):\n",
    "    def __init__(self, source_model, num_layers_to_remove=1, \n",
    "                 name_layers_or_function_to_remove=\"layers\", \n",
    "                 use_original_weights=True,\n",
    "                 prediction_model=BayesLinReg(alpha=1, beta=1, empirical_bayes=False),\n",
    "                include_original_features=False,\n",
    "                use_pca=False):\n",
    "        super().__init__()\n",
    "        self.are_weights_initialized = False\n",
    "        self.num_layers_to_remove = num_layers_to_remove\n",
    "        self.ts_length = 1\n",
    "        self.source_model = copy.deepcopy(source_model)\n",
    "        self._prediction_model = prediction_model\n",
    "        self.prediction_models = []\n",
    "        if use_original_weights:\n",
    "            self._prediction_model.empirical_bayes=False\n",
    "        \n",
    "        if callable(name_layers_or_function_to_remove):\n",
    "            name_layers_or_function_to_remove(self.source_model, num_layers_to_remove)\n",
    "        elif type(name_layers_or_function_to_remove) == str:\n",
    "            layers = getattrs(self.source_model, name_layers_or_function_to_remove, default=None)[0]\n",
    "            if layers is None:\n",
    "                raise ValueError(f\"Could not find layers by given name {name_layers_or_function_to_remove}.\")\n",
    "            elif isinstance(layers, torch.nn.modules.container.Sequential):\n",
    "                setattr(self.source_model, name_layers_or_function_to_remove, layers[0:-self.num_layers_to_remove])\n",
    "            else:\n",
    "                raise ValueError(f\"Only sequential layers are supported.\")\n",
    "        else:\n",
    "            ValueError(\"Unknown type for name_layers_or_function_to_remove\")\n",
    "            \n",
    "        if num_layers_to_remove != 1 and use_original_weights:\n",
    "            raise ValueError(\"Can only reuse weights when using the last layers due to the dimension.\")\n",
    "        elif num_layers_to_remove == 1 and use_original_weights:\n",
    "            \n",
    "            for element in layers[-1]:\n",
    "                if isinstance(element, nn.Linear):\n",
    "                    # create mean matrix including bias\n",
    "                    w_mean = copy.copy(element.weight.data)\n",
    "                    bias = copy.copy(element.bias.data)\n",
    "                    w_mean = w_mean.reshape(w_mean.shape[1])\n",
    "                    w_mean = to_np(torch.cat([bias, w_mean]))\n",
    "                    \n",
    "                    # create precision and variance matrix\n",
    "                    self.n_features = w_mean.shape[0]\n",
    "                    \n",
    "                    model = self._create_single_model(self.n_features)\n",
    "                    model.w_mean = w_mean\n",
    "                    self.prediction_models.append(model)\n",
    "                    \n",
    "                    self.are_weights_initialized = True\n",
    "                    \n",
    "            if not self.are_weights_initialized:\n",
    "                raise ValueError(f\"Could not find linear layer in last layer {self.layers[-1]}\")\n",
    "        \n",
    "        \n",
    "        freeze(self.source_model)\n",
    "        self.include_original_features = include_original_features\n",
    "        \n",
    "        # fake param so that it can be used with pytorch trainers\n",
    "        self.fake_param=nn.Parameter(torch.zeros((1,1), dtype=torch.float))\n",
    "        self.fake_param.requires_grad =True\n",
    "        self.use_pca = use_pca\n",
    "        self.pca_model = None\n",
    "        \n",
    "    def _create_single_model(self,n_features):\n",
    "        model = copy.copy(self._prediction_model)\n",
    "        model._create_matrices(np.ones(n_features).reshape(1, n_features))\n",
    "        model.w_covariance = np.linalg.inv(model.w_precision)\n",
    "        return model\n",
    "        \n",
    "        \n",
    "    @property\n",
    "    def alpha(self):\n",
    "        return self._prediction_model.alpha\n",
    "    \n",
    "    @property\n",
    "    def beta(self):\n",
    "        return self._prediction_model.beta\n",
    "    \n",
    "    @alpha.setter\n",
    "    def alpha(self, alpha):\n",
    "        self.prediction_model.alpha = alpha\n",
    "        \n",
    "    @beta.setter\n",
    "    def beta(self, beta):\n",
    "        self.prediction_model.beta = beta\n",
    "        \n",
    "    def transform(self, cats, conts):\n",
    "        n_samples = conts.shape[0]\n",
    "        \n",
    "        x_transformed =  self.source_model(cats, conts)\n",
    "        \n",
    "        x_transformed = x_transformed.reshape(n_samples, -1)\n",
    "        \n",
    "        if self.include_original_features:\n",
    "            x_transformed = torch.cat([ conts.reshape(n_samples,-1), x_transformed], axis=1)\n",
    "        \n",
    "        if self.use_pca and self.pca_model == None:\n",
    "            self.pca_model = PCA(n_components=10)\n",
    "            \n",
    "        if self.training and self.use_pca:\n",
    "            x_transformed = self.pca_model.fit_transform(x_transformed)\n",
    "        elif self.use_pca:\n",
    "            x_transformed = self.pca_model.transform(x_transformed)\n",
    "        \n",
    "        return torch.tensor(x_transformed)\n",
    "    \n",
    "    def forward(self, cats, conts):\n",
    "        n_samples = conts.shape[0]\n",
    "        self.ts_length = 1\n",
    "        if len(conts.shape) == 3:\n",
    "            self.ts_length = conts.shape[2]\n",
    "        \n",
    "        x_transformed = self.transform(cats, conts) \n",
    "        \n",
    "        if not self.are_weights_initialized:\n",
    "            self.n_features = x_transformed.shape[1]+1\n",
    "            \n",
    "            for idx in range(self.ts_length):\n",
    "                model = self._create_single_model(self.n_features)\n",
    "                self.prediction_models.append(model)\n",
    "                    \n",
    "            self.are_weights_initialized=True\n",
    "        \n",
    "        if self.training:\n",
    "            return x_transformed\n",
    "        else:\n",
    "            preds = self.predict(cats, conts)\n",
    "            \n",
    "            return preds\n",
    "            \n",
    "    def update(self, X, y):\n",
    "        X = to_np(X)\n",
    "        y = to_np(y)\n",
    "        \n",
    "        for idx, prediction_model in enumerate(self.prediction_models):\n",
    "            if len(y.shape) == 3:\n",
    "                y_cur = y[:,:,idx]\n",
    "            \n",
    "            \n",
    "            prediction_model.fit(X, y_cur.ravel())\n",
    "            \n",
    "        \n",
    "        return self\n",
    "\n",
    "    def predict(self, cats, conts):\n",
    "        x_transformed = self.transform(cats, conts) \n",
    "        x_transformed = to_np(x_transformed)\n",
    "        \n",
    "        y_pred_means = np.zeros((len(x_transformed), len(self.prediction_models)))\n",
    "        for idx, prediction_model in enumerate(self.prediction_models):\n",
    "            y_pred_mean = prediction_model.predict(x_transformed)\n",
    "            y_pred_means[:,idx] = y_pred_mean\n",
    "\n",
    "        return torch.tensor(y_pred_means)\n",
    "\n",
    "    def predict_proba(self, cats, conts):\n",
    "        x_transformed = self.transform(cats, conts)\n",
    "        x_transformed = to_np(x_transformed)\n",
    "        \n",
    "        y_pred_means = np.zeros((len(x_transformed), len(self.prediction_models)))\n",
    "        y_pred_stds = np.zeros((len(x_transformed), len(self.prediction_models)))\n",
    "        for idx, prediction_model in enumerate(self.prediction_models):\n",
    "            y_pred_mean, y_pred_std = prediction_model.predict_proba(x_transformed)\n",
    "            y_pred_means[:,idx] = y_pred_mean\n",
    "            y_pred_stds[:,idx] = y_pred_std\n",
    "\n",
    "        return torch.tensor(y_pred_means), torch.tensor(y_pred_stds),\n",
    "    \n",
    "    def pred_transformed_X(self, X_transformed):\n",
    "        \n",
    "        y_pred_means = np.zeros((len(x_transformed), len(self.prediction_models)))\n",
    "        for idx, prediction_model in enumerate(self.prediction_models):\n",
    "            y_pred_mean = prediction_model.predict(x_transformed)\n",
    "            y_pred_means[:,idx] = y_pred_mean\n",
    "\n",
    "        return torch.tensor(y_pred_means)\n",
    "    \n",
    "    def loss_func(self, x_transformed, ys):\n",
    "        \n",
    "        if self.training:\n",
    "            self.update(x_transformed, ys)\n",
    "        \n",
    "            fake_loss = torch.tensor([0], dtype=torch.float)\n",
    "            fake_loss.requires_grad=True\n",
    "            return self.fake_param + fake_loss\n",
    "        else:\n",
    "            # in case of validation return MSE\n",
    "            return ((x_transformed-ys)**2).mean()\n"
   ]
  },
  {
   "cell_type": "code",
   "execution_count": null,
   "metadata": {},
   "outputs": [],
   "source": [
    "# hide\n",
    "cats, conts, targets = dls_target.one_batch()\n",
    "# test if we get the same results as with the original model\n",
    "with torch.no_grad():\n",
    "    \n",
    "    preds_source = source_model(cats, conts)\n",
    "    ltmodel = LinearTransferModel(source_model, num_layers_to_remove=1, use_original_weights=True)\n",
    "    \n",
    "    preds_target = ltmodel.predict(cats, conts)\n",
    "    test_close(preds_source, preds_target)\n",
    "    preds_target = ltmodel.predict(cats, conts)\n",
    "    test_close(preds_source, preds_target)\n",
    "    preds_target = ltmodel.predict_proba(cats, conts)[0]\n",
    "    test_close(preds_source, preds_target)\n"
   ]
  },
  {
   "cell_type": "code",
   "execution_count": null,
   "metadata": {},
   "outputs": [],
   "source": [
    "target_model = LinearTransferModel(source_model, num_layers_to_remove=1, \n",
    "                                   use_original_weights=True,\n",
    "                                  )\n",
    "target_model = target_model.eval()"
   ]
  },
  {
   "cell_type": "markdown",
   "metadata": {},
   "source": [
    "Create forecats and check if the source model and the untrained model create the same results"
   ]
  },
  {
   "cell_type": "code",
   "execution_count": null,
   "metadata": {},
   "outputs": [],
   "source": [
    "cats, conts, targets = dls_source.one_batch()"
   ]
  },
  {
   "cell_type": "code",
   "execution_count": null,
   "metadata": {},
   "outputs": [],
   "source": [
    "with torch.no_grad():\n",
    "    preds_source = source_model(cats, conts).ravel()\n",
    "preds_target = target_model(cats.to(\"cpu\"), conts.to(\"cpu\"))"
   ]
  },
  {
   "cell_type": "code",
   "execution_count": null,
   "metadata": {},
   "outputs": [
    {
     "data": {
      "image/png": "[encoded data removed]",
      "text/plain": [
       "<Figure size 432x288 with 1 Axes>"
      ]
     },
     "metadata": {
      "needs_background": "light"
     },
     "output_type": "display_data"
    }
   ],
   "source": [
    "# targets, preds = learn_source.get_preds(ds_idx=0)\n",
    "plt.scatter(conts, preds_target, label=\"preds target model - untrained\", alpha=0.2)\n",
    "plt.scatter(conts, preds_source.detach(), label=\"preds source model\", alpha=0.2)\n",
    "plt.scatter(conts, targets, label=\"targets\")\n",
    "\n",
    "plt.legend()\n",
    "plt.show()"
   ]
  },
  {
   "cell_type": "code",
   "execution_count": null,
   "metadata": {},
   "outputs": [],
   "source": [
    "target_model = LinearTransferModel(source_model, num_layers_to_remove=1, \n",
    "                                   use_original_weights=True,\n",
    "#                                   alpha=(1/0.1)**2, beta=(1/0.1)**2)\n",
    "                                   )\n",
    "target_model.training = True"
   ]
  },
  {
   "cell_type": "code",
   "execution_count": null,
   "metadata": {},
   "outputs": [],
   "source": [
    "preds_before_training = []\n",
    "conts_test_before_training = []\n",
    "targets_before_training = []\n",
    "for cats, conts, targets in dls_target[0]:\n",
    "    target_model(cats, conts)\n",
    "    pred_before_training = target_model.predict(cats, conts)\n",
    "    preds_before_training.append(pred_before_training)\n",
    "    conts_test_before_training.append(conts)\n",
    "    targets_before_training.append(targets)\n",
    "    \n",
    "preds_before_training = torch.cat(preds_before_training)\n",
    "conts_test_before_training = torch.cat(conts_test_before_training)\n",
    "targets_before_training = torch.cat(targets_before_training)"
   ]
  },
  {
   "cell_type": "code",
   "execution_count": null,
   "metadata": {},
   "outputs": [
    {
     "data": {
      "text/plain": [
       "(torch.Size([10, 1]), torch.Size([20, 1]))"
      ]
     },
     "execution_count": null,
     "metadata": {},
     "output_type": "execute_result"
    }
   ],
   "source": [
    "pred_before_training.shape, targets_before_training.shape"
   ]
  },
  {
   "cell_type": "code",
   "execution_count": null,
   "metadata": {},
   "outputs": [],
   "source": [
    "for cats, conts, targets in dls_target[0]:\n",
    "    x_transformed = target_model.forward(cats, conts)\n",
    "    target_model = target_model.update(x_transformed, targets.ravel())\n",
    "    x_transformed = target_model.forward(cats, torch.tensor(dls_target.train_ds.items.X.values).reshape(-1,1))\n",
    "    target_model = target_model.update(x_transformed, torch.tensor(dls_target.train_ds.items.y.values).ravel())"
   ]
  },
  {
   "cell_type": "code",
   "execution_count": null,
   "metadata": {},
   "outputs": [],
   "source": [
    "preds_after_training = []\n",
    "conts_test_after_training = []\n",
    "targets_after_training = []\n",
    "for cats, conts, targets in dls_target[0]:\n",
    "    pred_after_training = target_model.predict(cats, conts)\n",
    "    preds_after_training.append(pred_after_training)\n",
    "    conts_test_after_training.append(conts)\n",
    "    targets_after_training.append(targets)\n",
    "    \n",
    "preds_after_training = torch.cat(preds_after_training)\n",
    "conts_test_after_training = torch.cat(conts_test_after_training)\n",
    "targets_after_training = torch.cat(targets_after_training)"
   ]
  },
  {
   "cell_type": "code",
   "execution_count": null,
   "metadata": {},
   "outputs": [
    {
     "data": {
      "text/plain": [
       "tensor(0.0577, dtype=torch.float64)"
      ]
     },
     "execution_count": null,
     "metadata": {},
     "output_type": "execute_result"
    }
   ],
   "source": [
    "((targets_after_training.reshape(-1)-preds_after_training.reshape(-1))**2).mean()**0.5"
   ]
  },
  {
   "cell_type": "code",
   "execution_count": null,
   "metadata": {},
   "outputs": [
    {
     "data": {
      "text/plain": [
       "<matplotlib.legend.Legend at 0x7f8d782258e0>"
      ]
     },
     "execution_count": null,
     "metadata": {},
     "output_type": "execute_result"
    },
    {
     "data": {
      "image/png": "[encoded data removed]",
      "text/plain": [
       "<Figure size 432x288 with 1 Axes>"
      ]
     },
     "metadata": {
      "needs_background": "light"
     },
     "output_type": "display_data"
    }
   ],
   "source": [
    "plt.scatter(conts_test_before_training, targets_before_training, label=\"targets\")\n",
    "plt.scatter(conts_test_before_training, preds_before_training, label=\"before training\")\n",
    "plt.scatter(conts_test_after_training, preds_after_training, label=\"after training\")\n",
    "plt.legend()"
   ]
  },
  {
   "cell_type": "markdown",
   "metadata": {},
   "source": [
    "Lets assure that it also works with pytorch trainings such as the fastai training loop"
   ]
  },
  {
   "cell_type": "code",
   "execution_count": null,
   "metadata": {},
   "outputs": [],
   "source": [
    "target_model = LinearTransferModel(source_model, \n",
    "                                   num_layers_to_remove=1, \n",
    "                                   use_original_weights=True,\n",
    "                                   )"
   ]
  },
  {
   "cell_type": "code",
   "execution_count": null,
   "metadata": {},
   "outputs": [
    {
     "data": {
      "text/html": [
       "<table border=\"1\" class=\"dataframe\">\n",
       "  <thead>\n",
       "    <tr style=\"text-align: left;\">\n",
       "      <th>epoch</th>\n",
       "      <th>train_loss</th>\n",
       "      <th>valid_loss</th>\n",
       "      <th>_rmse</th>\n",
       "      <th>time</th>\n",
       "    </tr>\n",
       "  </thead>\n",
       "  <tbody>\n",
       "    <tr>\n",
       "      <td>0</td>\n",
       "      <td>-0.000505</td>\n",
       "      <td>0.012760</td>\n",
       "      <td>0.112962</td>\n",
       "      <td>00:00</td>\n",
       "    </tr>\n",
       "  </tbody>\n",
       "</table>"
      ],
      "text/plain": [
       "<IPython.core.display.HTML object>"
      ]
     },
     "metadata": {},
     "output_type": "display_data"
    }
   ],
   "source": [
    "target_model = LinearTransferModel(source_model, \n",
    "                                   num_layers_to_remove=1, \n",
    "                                   use_original_weights=True,\n",
    "                                   )\n",
    "\n",
    "\n",
    "target_learner = Learner(dls_target, target_model, loss_func=target_model.loss_func, metrics=rmse,)\n",
    "target_learner.fit(1)"
   ]
  },
  {
   "cell_type": "markdown",
   "metadata": {},
   "source": [
    "We can also not using the last layer as initializaition"
   ]
  },
  {
   "cell_type": "code",
   "execution_count": null,
   "metadata": {},
   "outputs": [
    {
     "data": {
      "text/html": [
       "<table border=\"1\" class=\"dataframe\">\n",
       "  <thead>\n",
       "    <tr style=\"text-align: left;\">\n",
       "      <th>epoch</th>\n",
       "      <th>train_loss</th>\n",
       "      <th>valid_loss</th>\n",
       "      <th>_rmse</th>\n",
       "      <th>time</th>\n",
       "    </tr>\n",
       "  </thead>\n",
       "  <tbody>\n",
       "    <tr>\n",
       "      <td>0</td>\n",
       "      <td>-0.000505</td>\n",
       "      <td>0.006348</td>\n",
       "      <td>0.079674</td>\n",
       "      <td>00:00</td>\n",
       "    </tr>\n",
       "  </tbody>\n",
       "</table>"
      ],
      "text/plain": [
       "<IPython.core.display.HTML object>"
      ]
     },
     "metadata": {},
     "output_type": "display_data"
    }
   ],
   "source": [
    "target_model = LinearTransferModel(source_model, \n",
    "                                   num_layers_to_remove=1, \n",
    "                                   use_original_weights=False,\n",
    "                                   prediction_model=BayesLinReg(alpha=1, beta=1, empirical_bayes=False))\n",
    "\n",
    "\n",
    "target_learner = Learner(dls_target, target_model, loss_func=target_model.loss_func, metrics=rmse,)\n",
    "target_learner.fit(1)"
   ]
  },
  {
   "cell_type": "markdown",
   "metadata": {},
   "source": [
    "Due to the few data samples, the empircal bayes is not working well."
   ]
  },
  {
   "cell_type": "code",
   "execution_count": null,
   "metadata": {},
   "outputs": [
    {
     "data": {
      "text/html": [
       "<table border=\"1\" class=\"dataframe\">\n",
       "  <thead>\n",
       "    <tr style=\"text-align: left;\">\n",
       "      <th>epoch</th>\n",
       "      <th>train_loss</th>\n",
       "      <th>valid_loss</th>\n",
       "      <th>_rmse</th>\n",
       "      <th>time</th>\n",
       "    </tr>\n",
       "  </thead>\n",
       "  <tbody>\n",
       "    <tr>\n",
       "      <td>0</td>\n",
       "      <td>-0.000505</td>\n",
       "      <td>0.037106</td>\n",
       "      <td>0.192630</td>\n",
       "      <td>00:00</td>\n",
       "    </tr>\n",
       "  </tbody>\n",
       "</table>"
      ],
      "text/plain": [
       "<IPython.core.display.HTML object>"
      ]
     },
     "metadata": {},
     "output_type": "display_data"
    }
   ],
   "source": [
    "target_model = LinearTransferModel(source_model, \n",
    "                                   num_layers_to_remove=1, \n",
    "                                   use_original_weights=False,\n",
    "                                   prediction_model=BayesLinReg(alpha=1, beta=1, empirical_bayes=True))\n",
    "\n",
    "\n",
    "target_learner = Learner(dls_target, target_model, loss_func=target_model.loss_func, metrics=rmse,)\n",
    "target_learner.fit(1)"
   ]
  },
  {
   "cell_type": "markdown",
   "metadata": {},
   "source": [
    "Or remove multiple layers"
   ]
  },
  {
   "cell_type": "code",
   "execution_count": null,
   "metadata": {},
   "outputs": [
    {
     "data": {
      "text/html": [
       "<table border=\"1\" class=\"dataframe\">\n",
       "  <thead>\n",
       "    <tr style=\"text-align: left;\">\n",
       "      <th>epoch</th>\n",
       "      <th>train_loss</th>\n",
       "      <th>valid_loss</th>\n",
       "      <th>_rmse</th>\n",
       "      <th>time</th>\n",
       "    </tr>\n",
       "  </thead>\n",
       "  <tbody>\n",
       "    <tr>\n",
       "      <td>0</td>\n",
       "      <td>-0.000505</td>\n",
       "      <td>0.064279</td>\n",
       "      <td>0.253533</td>\n",
       "      <td>00:00</td>\n",
       "    </tr>\n",
       "  </tbody>\n",
       "</table>"
      ],
      "text/plain": [
       "<IPython.core.display.HTML object>"
      ]
     },
     "metadata": {},
     "output_type": "display_data"
    }
   ],
   "source": [
    "target_model = LinearTransferModel(source_model, \n",
    "                                   num_layers_to_remove=2, \n",
    "                                   use_original_weights=False,\n",
    "                                   prediction_model=BayesLinReg(alpha=10, beta=10, empirical_bayes=False)\n",
    "                                   )\n",
    "\n",
    "\n",
    "target_learner = Learner(dls_target, target_model, loss_func=target_model.loss_func, metrics=rmse,)\n",
    "target_learner.fit(1)"
   ]
  },
  {
   "cell_type": "markdown",
   "metadata": {},
   "source": [
    "# Test on real world data"
   ]
  },
  {
   "cell_type": "code",
   "execution_count": null,
   "metadata": {},
   "outputs": [],
   "source": [
    "\n",
    "from fastrenewables.tabular.core import *\n",
    "from fastrenewables.tabular.data import *\n",
    "from fastrenewables.tabular.model import *\n",
    "from fastrenewables.tabular.learner import *"
   ]
  },
  {
   "cell_type": "code",
   "execution_count": null,
   "metadata": {},
   "outputs": [],
   "source": [
    "cont_names = ['T_HAG_2_M', 'RELHUM_HAG_2_M', 'PS_SFC_0_M', 'ASWDIFDS_SFC_0_M',\n",
    "       'ASWDIRS_SFC_0_M', 'WindSpeed58m',\n",
    "       'SinWindDirection58m', 'CosWindDirection58m', 'WindSpeed60m',\n",
    "       'SinWindDirection60m', 'CosWindDirection60m', 'WindSpeed58mMinus_t_1',\n",
    "       'SinWindDirection58mMinus_t_1', 'CosWindDirection58mMinus_t_1',\n",
    "       'WindSpeed60mMinus_t_1', 'SinWindDirection60mMinus_t_1',\n",
    "       'CosWindDirection60mMinus_t_1', 'WindSpeed58mPlus_t_1',\n",
    "       'SinWindDirection58mPlus_t_1', 'CosWindDirection58mPlus_t_1',\n",
    "       'WindSpeed60mPlus_t_1', 'SinWindDirection60mPlus_t_1',\n",
    "       'CosWindDirection60mPlus_t_1']\n",
    "cat_names = ['TaskID', 'Month', 'Day', 'Hour']\n",
    "\n",
    "dls_source = RenewableDataLoaders.from_files(glob.glob(\"../data/*.h5\")[0:1], y_names=\"PowerGeneration\", \n",
    "                                      pre_procs=[FilterYear(year=2020), \n",
    "                                                 AddSeasonalFeatures(as_cont=False)], \n",
    "                                      cat_names=cat_names, cont_names=cont_names)\n",
    "\n",
    "dls_target = RenewableDataLoaders.from_files(glob.glob(\"../data/*.h5\")[2], y_names=\"PowerGeneration\", \n",
    "                                      pre_procs=[FilterYear(year=2020), \n",
    "                                                 AddSeasonalFeatures(as_cont=False)], \n",
    "                                      cat_names=cat_names, cont_names=cont_names)"
   ]
  },
  {
   "cell_type": "code",
   "execution_count": null,
   "metadata": {},
   "outputs": [
    {
     "data": {
      "text/html": [
       "<table border=\"1\" class=\"dataframe\">\n",
       "  <thead>\n",
       "    <tr style=\"text-align: left;\">\n",
       "      <th>epoch</th>\n",
       "      <th>train_loss</th>\n",
       "      <th>valid_loss</th>\n",
       "      <th>_rmse</th>\n",
       "      <th>time</th>\n",
       "    </tr>\n",
       "  </thead>\n",
       "  <tbody>\n",
       "    <tr>\n",
       "      <td>0</td>\n",
       "      <td>0.027319</td>\n",
       "      <td>0.016018</td>\n",
       "      <td>0.126564</td>\n",
       "      <td>00:01</td>\n",
       "    </tr>\n",
       "    <tr>\n",
       "      <td>1</td>\n",
       "      <td>0.017219</td>\n",
       "      <td>0.018726</td>\n",
       "      <td>0.136843</td>\n",
       "      <td>00:02</td>\n",
       "    </tr>\n",
       "    <tr>\n",
       "      <td>2</td>\n",
       "      <td>0.013632</td>\n",
       "      <td>0.013227</td>\n",
       "      <td>0.115009</td>\n",
       "      <td>00:04</td>\n",
       "    </tr>\n",
       "    <tr>\n",
       "      <td>3</td>\n",
       "      <td>0.013984</td>\n",
       "      <td>0.017421</td>\n",
       "      <td>0.131990</td>\n",
       "      <td>00:04</td>\n",
       "    </tr>\n",
       "    <tr>\n",
       "      <td>4</td>\n",
       "      <td>0.012524</td>\n",
       "      <td>0.011915</td>\n",
       "      <td>0.109158</td>\n",
       "      <td>00:07</td>\n",
       "    </tr>\n",
       "    <tr>\n",
       "      <td>5</td>\n",
       "      <td>0.012753</td>\n",
       "      <td>0.011677</td>\n",
       "      <td>0.108059</td>\n",
       "      <td>00:03</td>\n",
       "    </tr>\n",
       "    <tr>\n",
       "      <td>6</td>\n",
       "      <td>0.012387</td>\n",
       "      <td>0.014566</td>\n",
       "      <td>0.120690</td>\n",
       "      <td>00:03</td>\n",
       "    </tr>\n",
       "    <tr>\n",
       "      <td>7</td>\n",
       "      <td>0.011504</td>\n",
       "      <td>0.012284</td>\n",
       "      <td>0.110834</td>\n",
       "      <td>00:02</td>\n",
       "    </tr>\n",
       "    <tr>\n",
       "      <td>8</td>\n",
       "      <td>0.010993</td>\n",
       "      <td>0.013308</td>\n",
       "      <td>0.115359</td>\n",
       "      <td>00:02</td>\n",
       "    </tr>\n",
       "    <tr>\n",
       "      <td>9</td>\n",
       "      <td>0.011021</td>\n",
       "      <td>0.013208</td>\n",
       "      <td>0.114925</td>\n",
       "      <td>00:02</td>\n",
       "    </tr>\n",
       "  </tbody>\n",
       "</table>"
      ],
      "text/plain": [
       "<IPython.core.display.HTML object>"
      ]
     },
     "metadata": {},
     "output_type": "display_data"
    }
   ],
   "source": [
    "learn_source = renewable_learner(dls_source, metrics=rmse)\n",
    "learn_source.fit(10)"
   ]
  },
  {
   "cell_type": "code",
   "execution_count": null,
   "metadata": {},
   "outputs": [
    {
     "data": {
      "text/html": [
       "<table border=\"1\" class=\"dataframe\">\n",
       "  <thead>\n",
       "    <tr style=\"text-align: left;\">\n",
       "      <th>epoch</th>\n",
       "      <th>train_loss</th>\n",
       "      <th>valid_loss</th>\n",
       "      <th>_rmse</th>\n",
       "      <th>time</th>\n",
       "    </tr>\n",
       "  </thead>\n",
       "  <tbody>\n",
       "    <tr>\n",
       "      <td>0</td>\n",
       "      <td>-0.067663</td>\n",
       "      <td>0.010293</td>\n",
       "      <td>0.101457</td>\n",
       "      <td>00:01</td>\n",
       "    </tr>\n",
       "  </tbody>\n",
       "</table>"
      ],
      "text/plain": [
       "<IPython.core.display.HTML object>"
      ]
     },
     "metadata": {},
     "output_type": "display_data"
    }
   ],
   "source": [
    "target_model = LinearTransferModel(learn_source.model, 1, \n",
    "                                   use_original_weights=True,\n",
    "                                  prediction_model=BayesLinReg(alpha=10, beta=10, empirical_bayes=False))\n",
    "target_learner = RenewableLearner(dls_target, target_model, loss_func=target_model.loss_func, metrics=rmse,)\n",
    "target_learner.fit(1)"
   ]
  },
  {
   "cell_type": "code",
   "execution_count": null,
   "metadata": {},
   "outputs": [],
   "source": [
    "preds, targets = target_learner.predict(ds_idx=1, filter=True, flatten=True)"
   ]
  },
  {
   "cell_type": "code",
   "execution_count": null,
   "metadata": {},
   "outputs": [
    {
     "data": {
      "text/plain": [
       "<matplotlib.collections.PathCollection at 0x7f8d7948cbb0>"
      ]
     },
     "execution_count": null,
     "metadata": {},
     "output_type": "execute_result"
    },
    {
     "data": {
      "image/png": "[encoded data removed]",
      "text/plain": [
       "<Figure size 432x288 with 1 Axes>"
      ]
     },
     "metadata": {
      "needs_background": "light"
     },
     "output_type": "display_data"
    }
   ],
   "source": [
    "plt.scatter(dls_target.valid_ds.items.WindSpeed58m, targets)\n",
    "plt.scatter(dls_target.valid_ds.items.WindSpeed58m, preds)"
   ]
  },
  {
   "cell_type": "markdown",
   "metadata": {},
   "source": [
    "## Test for timeseries"
   ]
  },
  {
   "cell_type": "code",
   "execution_count": null,
   "metadata": {},
   "outputs": [],
   "source": [
    "from fastrenewables.timeseries.core import *\n",
    "from fastrenewables.tabular.core import *\n",
    "from fastrenewables.timeseries.data import *\n",
    "from fastrenewables.timeseries.model import *\n",
    "from fastrenewables.timeseries.learner import *"
   ]
  },
  {
   "cell_type": "code",
   "execution_count": null,
   "metadata": {},
   "outputs": [],
   "source": [
    "def get_dls(y_names=\"PowerGeneration\"):\n",
    "#     if cont_names is None:\n",
    "#         cont_names = ['T_HAG_2_M', 'RELHUM_HAG_2_M', 'PS_SFC_0_M', 'ASWDIFDS_SFC_0_M',\n",
    "#            'ASWDIRS_SFC_0_M', 'WindSpeed58m', \"HourSin\", \"HourCos\"]\n",
    "    \n",
    "    pd.options.mode.chained_assignment=None\n",
    "    dls_source = RenewableTimeSeriesDataLoaders.from_files(glob.glob(\"../data/*.h5\")[0:1], \n",
    "                                                y_names=y_names, \n",
    "                                                cat_names=cat_names, \n",
    "                                                cont_names=cont_names,\n",
    "                                                pre_procs=[#FilterYear(year=2020), \n",
    "                                                             AddSeasonalFeatures(as_cont=False),\n",
    "                                                             FilterInconsistentSamplesPerDay], \n",
    "                                                procs=[Categorify, Normalize], \n",
    "                                                bs=12,\n",
    "                                                y_block=RegressionBlock(),\n",
    "                                                )\n",
    "    \n",
    "    dls_target = RenewableTimeSeriesDataLoaders.from_files(glob.glob(\"../data/*.h5\")[2], \n",
    "                                                y_names=y_names, \n",
    "                                                cat_names=cat_names, \n",
    "                                                cont_names=cont_names,\n",
    "                                                pre_procs=[FilterYear(year=2020), \n",
    "                                                             AddSeasonalFeatures(as_cont=False),\n",
    "                                                             FilterInconsistentSamplesPerDay], \n",
    "                                                procs=[Categorify, Normalize], \n",
    "                                                bs=12,\n",
    "                                                y_block=RegressionBlock(),\n",
    "                                                )\n",
    "    \n",
    "    return dls_source, dls_target\n",
    "\n"
   ]
  },
  {
   "cell_type": "code",
   "execution_count": null,
   "metadata": {},
   "outputs": [],
   "source": [
    "dls_source, dls_target = get_dls()"
   ]
  },
  {
   "cell_type": "code",
   "execution_count": null,
   "metadata": {},
   "outputs": [],
   "source": [
    "n_features = len(dls_source.train_ds.cont_names)"
   ]
  },
  {
   "cell_type": "code",
   "execution_count": null,
   "metadata": {},
   "outputs": [],
   "source": [
    "learner = renewable_timeseries_learner(dls_source, metrics=rmse, layers=[n_features, 200, 100, 50, 25, 5, 1])"
   ]
  },
  {
   "cell_type": "code",
   "execution_count": null,
   "metadata": {},
   "outputs": [
    {
     "data": {
      "text/html": [
       "<table border=\"1\" class=\"dataframe\">\n",
       "  <thead>\n",
       "    <tr style=\"text-align: left;\">\n",
       "      <th>epoch</th>\n",
       "      <th>train_loss</th>\n",
       "      <th>valid_loss</th>\n",
       "      <th>_rmse</th>\n",
       "      <th>time</th>\n",
       "    </tr>\n",
       "  </thead>\n",
       "  <tbody>\n",
       "    <tr>\n",
       "      <td>0</td>\n",
       "      <td>0.044892</td>\n",
       "      <td>0.024418</td>\n",
       "      <td>0.156262</td>\n",
       "      <td>00:02</td>\n",
       "    </tr>\n",
       "    <tr>\n",
       "      <td>1</td>\n",
       "      <td>0.026811</td>\n",
       "      <td>0.013380</td>\n",
       "      <td>0.115673</td>\n",
       "      <td>00:02</td>\n",
       "    </tr>\n",
       "    <tr>\n",
       "      <td>2</td>\n",
       "      <td>0.019984</td>\n",
       "      <td>0.012043</td>\n",
       "      <td>0.109739</td>\n",
       "      <td>00:03</td>\n",
       "    </tr>\n",
       "    <tr>\n",
       "      <td>3</td>\n",
       "      <td>0.016930</td>\n",
       "      <td>0.011672</td>\n",
       "      <td>0.108038</td>\n",
       "      <td>00:02</td>\n",
       "    </tr>\n",
       "    <tr>\n",
       "      <td>4</td>\n",
       "      <td>0.015357</td>\n",
       "      <td>0.011816</td>\n",
       "      <td>0.108700</td>\n",
       "      <td>00:01</td>\n",
       "    </tr>\n",
       "    <tr>\n",
       "      <td>5</td>\n",
       "      <td>0.014391</td>\n",
       "      <td>0.012016</td>\n",
       "      <td>0.109616</td>\n",
       "      <td>00:03</td>\n",
       "    </tr>\n",
       "    <tr>\n",
       "      <td>6</td>\n",
       "      <td>0.013670</td>\n",
       "      <td>0.012425</td>\n",
       "      <td>0.111468</td>\n",
       "      <td>00:02</td>\n",
       "    </tr>\n",
       "    <tr>\n",
       "      <td>7</td>\n",
       "      <td>0.013023</td>\n",
       "      <td>0.012481</td>\n",
       "      <td>0.111717</td>\n",
       "      <td>00:02</td>\n",
       "    </tr>\n",
       "    <tr>\n",
       "      <td>8</td>\n",
       "      <td>0.012484</td>\n",
       "      <td>0.012493</td>\n",
       "      <td>0.111773</td>\n",
       "      <td>00:02</td>\n",
       "    </tr>\n",
       "    <tr>\n",
       "      <td>9</td>\n",
       "      <td>0.012059</td>\n",
       "      <td>0.012199</td>\n",
       "      <td>0.110449</td>\n",
       "      <td>00:02</td>\n",
       "    </tr>\n",
       "    <tr>\n",
       "      <td>10</td>\n",
       "      <td>0.011773</td>\n",
       "      <td>0.012523</td>\n",
       "      <td>0.111905</td>\n",
       "      <td>00:02</td>\n",
       "    </tr>\n",
       "    <tr>\n",
       "      <td>11</td>\n",
       "      <td>0.011572</td>\n",
       "      <td>0.012489</td>\n",
       "      <td>0.111752</td>\n",
       "      <td>00:01</td>\n",
       "    </tr>\n",
       "  </tbody>\n",
       "</table>"
      ],
      "text/plain": [
       "<IPython.core.display.HTML object>"
      ]
     },
     "metadata": {},
     "output_type": "display_data"
    }
   ],
   "source": [
    "learner.fit_one_cycle(12)"
   ]
  },
  {
   "cell_type": "code",
   "execution_count": null,
   "metadata": {},
   "outputs": [
    {
     "data": {
      "text/plain": [
       "['TaskID', 'Month', 'Day', 'Hour']"
      ]
     },
     "execution_count": null,
     "metadata": {},
     "output_type": "execute_result"
    }
   ],
   "source": [
    "cat_names"
   ]
  },
  {
   "cell_type": "code",
   "execution_count": null,
   "metadata": {},
   "outputs": [],
   "source": [
    "preds, targets = learner.predict(ds_idx=1, filter=True)"
   ]
  },
  {
   "cell_type": "code",
   "execution_count": null,
   "metadata": {},
   "outputs": [
    {
     "data": {
      "text/plain": [
       "(#23) ['T_HAG_2_M','RELHUM_HAG_2_M','PS_SFC_0_M','ASWDIFDS_SFC_0_M','ASWDIRS_SFC_0_M','WindSpeed58m','SinWindDirection58m','CosWindDirection58m','WindSpeed60m','SinWindDirection60m'...]"
      ]
     },
     "execution_count": null,
     "metadata": {},
     "output_type": "execute_result"
    }
   ],
   "source": [
    "dls_source.valid_ds.cont_names"
   ]
  },
  {
   "cell_type": "code",
   "execution_count": null,
   "metadata": {},
   "outputs": [],
   "source": [
    "id_ws = 5"
   ]
  },
  {
   "cell_type": "markdown",
   "metadata": {},
   "source": [
    "We catch the the wind speed from the validation data to check the forecasts."
   ]
  },
  {
   "cell_type": "code",
   "execution_count": null,
   "metadata": {},
   "outputs": [],
   "source": [
    "windspeed = dls_source.valid_ds.conts[:,id_ws,:]\n",
    "windspeed = windspeed.reshape(-1,1)"
   ]
  },
  {
   "cell_type": "code",
   "execution_count": null,
   "metadata": {},
   "outputs": [
    {
     "data": {
      "text/plain": [
       "<matplotlib.collections.PathCollection at 0x7f8d415e4820>"
      ]
     },
     "execution_count": null,
     "metadata": {},
     "output_type": "execute_result"
    },
    {
     "data": {
      "image/png": "[encoded data removed]",
      "text/plain": [
       "<Figure size 432x288 with 1 Axes>"
      ]
     },
     "metadata": {
      "needs_background": "light"
     },
     "output_type": "display_data"
    }
   ],
   "source": [
    "plt.scatter(windspeed, targets)\n",
    "plt.scatter(windspeed, preds)"
   ]
  },
  {
   "cell_type": "code",
   "execution_count": null,
   "metadata": {},
   "outputs": [],
   "source": [
    "# export\n",
    "def reduce_layers_tcn_model(tcn_model, num_layers=0):\n",
    "    tcn_model.layers.temporal_blocks = tcn_model.layers.temporal_blocks[:-num_layers]"
   ]
  },
  {
   "cell_type": "code",
   "execution_count": null,
   "metadata": {},
   "outputs": [
    {
     "data": {
      "text/plain": [
       "TemporalCNN(\n",
       "  (embedding_module): EmbeddingModule(\n",
       "    (embeddings): ModuleList(\n",
       "      (0): Embedding(2, 2)\n",
       "      (1): Embedding(13, 7)\n",
       "      (2): Embedding(32, 11)\n",
       "      (3): Embedding(25, 10)\n",
       "    )\n",
       "    (emb_drop): Dropout(p=0.1, inplace=False)\n",
       "  )\n",
       "  (bn_cont): BatchNorm1d(23, eps=1e-05, momentum=0.1, affine=True, track_running_stats=True)\n",
       "  (layers): TemporalConvNet(\n",
       "    (temporal_blocks): Sequential(\n",
       "      (0): ResidualBlock(\n",
       "        (conv1): Conv1d(23, 200, kernel_size=(3,), stride=(1,), padding=(2,))\n",
       "        (chomp1): Chomp1d()\n",
       "        (act_func1): ReLU()\n",
       "        (dropout1): Dropout2d(p=0.0, inplace=False)\n",
       "        (conv2): Conv1d(200, 200, kernel_size=(3,), stride=(1,), padding=(2,))\n",
       "        (chomp2): Chomp1d()\n",
       "        (act_func2): ReLU()\n",
       "        (dropout2): Dropout2d(p=0.0, inplace=False)\n",
       "        (net): Sequential(\n",
       "          (0): Conv1d(23, 200, kernel_size=(3,), stride=(1,), padding=(2,))\n",
       "          (1): Chomp1d()\n",
       "          (2): ReLU()\n",
       "          (3): Dropout2d(p=0.0, inplace=False)\n",
       "          (4): Conv1d(200, 200, kernel_size=(3,), stride=(1,), padding=(2,))\n",
       "          (5): Chomp1d()\n",
       "          (6): ReLU()\n",
       "          (7): Dropout2d(p=0.0, inplace=False)\n",
       "        )\n",
       "        (downsample): Conv1d(23, 200, kernel_size=(1,), stride=(1,))\n",
       "        (act_func3): ReLU()\n",
       "      )\n",
       "      (1): ResidualBlock(\n",
       "        (conv1): Conv1d(200, 100, kernel_size=(3,), stride=(1,), padding=(4,), dilation=(2,))\n",
       "        (chomp1): Chomp1d()\n",
       "        (act_func1): ReLU()\n",
       "        (dropout1): Dropout2d(p=0.0, inplace=False)\n",
       "        (conv2): Conv1d(100, 100, kernel_size=(3,), stride=(1,), padding=(4,), dilation=(2,))\n",
       "        (chomp2): Chomp1d()\n",
       "        (act_func2): ReLU()\n",
       "        (dropout2): Dropout2d(p=0.0, inplace=False)\n",
       "        (net): Sequential(\n",
       "          (0): Conv1d(200, 100, kernel_size=(3,), stride=(1,), padding=(4,), dilation=(2,))\n",
       "          (1): Chomp1d()\n",
       "          (2): ReLU()\n",
       "          (3): Dropout2d(p=0.0, inplace=False)\n",
       "          (4): Conv1d(100, 100, kernel_size=(3,), stride=(1,), padding=(4,), dilation=(2,))\n",
       "          (5): Chomp1d()\n",
       "          (6): ReLU()\n",
       "          (7): Dropout2d(p=0.0, inplace=False)\n",
       "        )\n",
       "        (downsample): Conv1d(200, 100, kernel_size=(1,), stride=(1,))\n",
       "        (act_func3): ReLU()\n",
       "      )\n",
       "      (2): ResidualBlock(\n",
       "        (conv1): Conv1d(100, 50, kernel_size=(3,), stride=(1,), padding=(8,), dilation=(4,))\n",
       "        (chomp1): Chomp1d()\n",
       "        (act_func1): ReLU()\n",
       "        (dropout1): Dropout2d(p=0.0, inplace=False)\n",
       "        (conv2): Conv1d(50, 50, kernel_size=(3,), stride=(1,), padding=(8,), dilation=(4,))\n",
       "        (chomp2): Chomp1d()\n",
       "        (act_func2): ReLU()\n",
       "        (dropout2): Dropout2d(p=0.0, inplace=False)\n",
       "        (net): Sequential(\n",
       "          (0): Conv1d(100, 50, kernel_size=(3,), stride=(1,), padding=(8,), dilation=(4,))\n",
       "          (1): Chomp1d()\n",
       "          (2): ReLU()\n",
       "          (3): Dropout2d(p=0.0, inplace=False)\n",
       "          (4): Conv1d(50, 50, kernel_size=(3,), stride=(1,), padding=(8,), dilation=(4,))\n",
       "          (5): Chomp1d()\n",
       "          (6): ReLU()\n",
       "          (7): Dropout2d(p=0.0, inplace=False)\n",
       "        )\n",
       "        (downsample): Conv1d(100, 50, kernel_size=(1,), stride=(1,))\n",
       "        (act_func3): ReLU()\n",
       "      )\n",
       "      (3): ResidualBlock(\n",
       "        (conv1): Conv1d(50, 25, kernel_size=(3,), stride=(1,), padding=(16,), dilation=(8,))\n",
       "        (chomp1): Chomp1d()\n",
       "        (act_func1): ReLU()\n",
       "        (dropout1): Dropout2d(p=0.0, inplace=False)\n",
       "        (conv2): Conv1d(25, 25, kernel_size=(3,), stride=(1,), padding=(16,), dilation=(8,))\n",
       "        (chomp2): Chomp1d()\n",
       "        (act_func2): ReLU()\n",
       "        (dropout2): Dropout2d(p=0.0, inplace=False)\n",
       "        (net): Sequential(\n",
       "          (0): Conv1d(50, 25, kernel_size=(3,), stride=(1,), padding=(16,), dilation=(8,))\n",
       "          (1): Chomp1d()\n",
       "          (2): ReLU()\n",
       "          (3): Dropout2d(p=0.0, inplace=False)\n",
       "          (4): Conv1d(25, 25, kernel_size=(3,), stride=(1,), padding=(16,), dilation=(8,))\n",
       "          (5): Chomp1d()\n",
       "          (6): ReLU()\n",
       "          (7): Dropout2d(p=0.0, inplace=False)\n",
       "        )\n",
       "        (downsample): Conv1d(50, 25, kernel_size=(1,), stride=(1,))\n",
       "        (act_func3): ReLU()\n",
       "      )\n",
       "      (4): ResidualBlock(\n",
       "        (conv1): Conv1d(25, 5, kernel_size=(3,), stride=(1,), padding=(32,), dilation=(16,))\n",
       "        (chomp1): Chomp1d()\n",
       "        (act_func1): ReLU()\n",
       "        (dropout1): Dropout2d(p=0.0, inplace=False)\n",
       "        (conv2): Conv1d(5, 5, kernel_size=(3,), stride=(1,), padding=(32,), dilation=(16,))\n",
       "        (chomp2): Chomp1d()\n",
       "        (act_func2): ReLU()\n",
       "        (dropout2): Dropout2d(p=0.0, inplace=False)\n",
       "        (net): Sequential(\n",
       "          (0): Conv1d(25, 5, kernel_size=(3,), stride=(1,), padding=(32,), dilation=(16,))\n",
       "          (1): Chomp1d()\n",
       "          (2): ReLU()\n",
       "          (3): Dropout2d(p=0.0, inplace=False)\n",
       "          (4): Conv1d(5, 5, kernel_size=(3,), stride=(1,), padding=(32,), dilation=(16,))\n",
       "          (5): Chomp1d()\n",
       "          (6): ReLU()\n",
       "          (7): Dropout2d(p=0.0, inplace=False)\n",
       "        )\n",
       "        (downsample): Conv1d(25, 5, kernel_size=(1,), stride=(1,))\n",
       "        (act_func3): ReLU()\n",
       "      )\n",
       "      (5): ResidualBlock(\n",
       "        (conv1): Conv1d(5, 1, kernel_size=(3,), stride=(1,), padding=(64,), dilation=(32,))\n",
       "        (chomp1): Chomp1d()\n",
       "        (act_func1): Identity()\n",
       "        (dropout1): Dropout2d(p=0.0, inplace=False)\n",
       "        (conv2): Conv1d(1, 1, kernel_size=(3,), stride=(1,), padding=(64,), dilation=(32,))\n",
       "        (chomp2): Chomp1d()\n",
       "        (act_func2): Identity()\n",
       "        (dropout2): Dropout2d(p=0.0, inplace=False)\n",
       "        (net): Sequential(\n",
       "          (0): Conv1d(5, 1, kernel_size=(3,), stride=(1,), padding=(64,), dilation=(32,))\n",
       "          (1): Chomp1d()\n",
       "          (2): Identity()\n",
       "          (3): Dropout2d(p=0.0, inplace=False)\n",
       "          (4): Conv1d(1, 1, kernel_size=(3,), stride=(1,), padding=(64,), dilation=(32,))\n",
       "          (5): Chomp1d()\n",
       "          (6): Identity()\n",
       "          (7): Dropout2d(p=0.0, inplace=False)\n",
       "        )\n",
       "        (downsample): Conv1d(5, 1, kernel_size=(1,), stride=(1,))\n",
       "        (act_func3): Identity()\n",
       "      )\n",
       "    )\n",
       "  )\n",
       ")"
      ]
     },
     "execution_count": null,
     "metadata": {},
     "output_type": "execute_result"
    }
   ],
   "source": [
    "learner.model"
   ]
  },
  {
   "cell_type": "markdown",
   "metadata": {},
   "source": [
    "The problem is that we have a lot of features while less samples compared to the linear model."
   ]
  },
  {
   "cell_type": "code",
   "execution_count": null,
   "metadata": {},
   "outputs": [
    {
     "data": {
      "text/plain": [
       "120"
      ]
     },
     "execution_count": null,
     "metadata": {},
     "output_type": "execute_result"
    }
   ],
   "source": [
    "5*24"
   ]
  },
  {
   "cell_type": "code",
   "execution_count": null,
   "metadata": {},
   "outputs": [
    {
     "data": {
      "text/plain": [
       "730"
      ]
     },
     "execution_count": null,
     "metadata": {},
     "output_type": "execute_result"
    }
   ],
   "source": [
    "2*365"
   ]
  },
  {
   "cell_type": "code",
   "execution_count": null,
   "metadata": {},
   "outputs": [
    {
     "data": {
      "text/plain": [
       "TemporalCNN(\n",
       "  (embedding_module): EmbeddingModule(\n",
       "    (embeddings): ModuleList(\n",
       "      (0): Embedding(2, 2)\n",
       "      (1): Embedding(13, 7)\n",
       "      (2): Embedding(32, 11)\n",
       "      (3): Embedding(25, 10)\n",
       "    )\n",
       "    (emb_drop): Dropout(p=0.1, inplace=False)\n",
       "  )\n",
       "  (bn_cont): BatchNorm1d(23, eps=1e-05, momentum=0.1, affine=True, track_running_stats=True)\n",
       "  (layers): TemporalConvNet(\n",
       "    (temporal_blocks): Sequential(\n",
       "      (0): ResidualBlock(\n",
       "        (conv1): Conv1d(23, 200, kernel_size=(3,), stride=(1,), padding=(2,))\n",
       "        (chomp1): Chomp1d()\n",
       "        (act_func1): ReLU()\n",
       "        (dropout1): Dropout2d(p=0.0, inplace=False)\n",
       "        (conv2): Conv1d(200, 200, kernel_size=(3,), stride=(1,), padding=(2,))\n",
       "        (chomp2): Chomp1d()\n",
       "        (act_func2): ReLU()\n",
       "        (dropout2): Dropout2d(p=0.0, inplace=False)\n",
       "        (net): Sequential(\n",
       "          (0): Conv1d(23, 200, kernel_size=(3,), stride=(1,), padding=(2,))\n",
       "          (1): Chomp1d()\n",
       "          (2): ReLU()\n",
       "          (3): Dropout2d(p=0.0, inplace=False)\n",
       "          (4): Conv1d(200, 200, kernel_size=(3,), stride=(1,), padding=(2,))\n",
       "          (5): Chomp1d()\n",
       "          (6): ReLU()\n",
       "          (7): Dropout2d(p=0.0, inplace=False)\n",
       "        )\n",
       "        (downsample): Conv1d(23, 200, kernel_size=(1,), stride=(1,))\n",
       "        (act_func3): ReLU()\n",
       "      )\n",
       "      (1): ResidualBlock(\n",
       "        (conv1): Conv1d(200, 100, kernel_size=(3,), stride=(1,), padding=(4,), dilation=(2,))\n",
       "        (chomp1): Chomp1d()\n",
       "        (act_func1): ReLU()\n",
       "        (dropout1): Dropout2d(p=0.0, inplace=False)\n",
       "        (conv2): Conv1d(100, 100, kernel_size=(3,), stride=(1,), padding=(4,), dilation=(2,))\n",
       "        (chomp2): Chomp1d()\n",
       "        (act_func2): ReLU()\n",
       "        (dropout2): Dropout2d(p=0.0, inplace=False)\n",
       "        (net): Sequential(\n",
       "          (0): Conv1d(200, 100, kernel_size=(3,), stride=(1,), padding=(4,), dilation=(2,))\n",
       "          (1): Chomp1d()\n",
       "          (2): ReLU()\n",
       "          (3): Dropout2d(p=0.0, inplace=False)\n",
       "          (4): Conv1d(100, 100, kernel_size=(3,), stride=(1,), padding=(4,), dilation=(2,))\n",
       "          (5): Chomp1d()\n",
       "          (6): ReLU()\n",
       "          (7): Dropout2d(p=0.0, inplace=False)\n",
       "        )\n",
       "        (downsample): Conv1d(200, 100, kernel_size=(1,), stride=(1,))\n",
       "        (act_func3): ReLU()\n",
       "      )\n",
       "      (2): ResidualBlock(\n",
       "        (conv1): Conv1d(100, 50, kernel_size=(3,), stride=(1,), padding=(8,), dilation=(4,))\n",
       "        (chomp1): Chomp1d()\n",
       "        (act_func1): ReLU()\n",
       "        (dropout1): Dropout2d(p=0.0, inplace=False)\n",
       "        (conv2): Conv1d(50, 50, kernel_size=(3,), stride=(1,), padding=(8,), dilation=(4,))\n",
       "        (chomp2): Chomp1d()\n",
       "        (act_func2): ReLU()\n",
       "        (dropout2): Dropout2d(p=0.0, inplace=False)\n",
       "        (net): Sequential(\n",
       "          (0): Conv1d(100, 50, kernel_size=(3,), stride=(1,), padding=(8,), dilation=(4,))\n",
       "          (1): Chomp1d()\n",
       "          (2): ReLU()\n",
       "          (3): Dropout2d(p=0.0, inplace=False)\n",
       "          (4): Conv1d(50, 50, kernel_size=(3,), stride=(1,), padding=(8,), dilation=(4,))\n",
       "          (5): Chomp1d()\n",
       "          (6): ReLU()\n",
       "          (7): Dropout2d(p=0.0, inplace=False)\n",
       "        )\n",
       "        (downsample): Conv1d(100, 50, kernel_size=(1,), stride=(1,))\n",
       "        (act_func3): ReLU()\n",
       "      )\n",
       "      (3): ResidualBlock(\n",
       "        (conv1): Conv1d(50, 25, kernel_size=(3,), stride=(1,), padding=(16,), dilation=(8,))\n",
       "        (chomp1): Chomp1d()\n",
       "        (act_func1): ReLU()\n",
       "        (dropout1): Dropout2d(p=0.0, inplace=False)\n",
       "        (conv2): Conv1d(25, 25, kernel_size=(3,), stride=(1,), padding=(16,), dilation=(8,))\n",
       "        (chomp2): Chomp1d()\n",
       "        (act_func2): ReLU()\n",
       "        (dropout2): Dropout2d(p=0.0, inplace=False)\n",
       "        (net): Sequential(\n",
       "          (0): Conv1d(50, 25, kernel_size=(3,), stride=(1,), padding=(16,), dilation=(8,))\n",
       "          (1): Chomp1d()\n",
       "          (2): ReLU()\n",
       "          (3): Dropout2d(p=0.0, inplace=False)\n",
       "          (4): Conv1d(25, 25, kernel_size=(3,), stride=(1,), padding=(16,), dilation=(8,))\n",
       "          (5): Chomp1d()\n",
       "          (6): ReLU()\n",
       "          (7): Dropout2d(p=0.0, inplace=False)\n",
       "        )\n",
       "        (downsample): Conv1d(50, 25, kernel_size=(1,), stride=(1,))\n",
       "        (act_func3): ReLU()\n",
       "      )\n",
       "      (4): ResidualBlock(\n",
       "        (conv1): Conv1d(25, 5, kernel_size=(3,), stride=(1,), padding=(32,), dilation=(16,))\n",
       "        (chomp1): Chomp1d()\n",
       "        (act_func1): ReLU()\n",
       "        (dropout1): Dropout2d(p=0.0, inplace=False)\n",
       "        (conv2): Conv1d(5, 5, kernel_size=(3,), stride=(1,), padding=(32,), dilation=(16,))\n",
       "        (chomp2): Chomp1d()\n",
       "        (act_func2): ReLU()\n",
       "        (dropout2): Dropout2d(p=0.0, inplace=False)\n",
       "        (net): Sequential(\n",
       "          (0): Conv1d(25, 5, kernel_size=(3,), stride=(1,), padding=(32,), dilation=(16,))\n",
       "          (1): Chomp1d()\n",
       "          (2): ReLU()\n",
       "          (3): Dropout2d(p=0.0, inplace=False)\n",
       "          (4): Conv1d(5, 5, kernel_size=(3,), stride=(1,), padding=(32,), dilation=(16,))\n",
       "          (5): Chomp1d()\n",
       "          (6): ReLU()\n",
       "          (7): Dropout2d(p=0.0, inplace=False)\n",
       "        )\n",
       "        (downsample): Conv1d(25, 5, kernel_size=(1,), stride=(1,))\n",
       "        (act_func3): ReLU()\n",
       "      )\n",
       "      (5): ResidualBlock(\n",
       "        (conv1): Conv1d(5, 1, kernel_size=(3,), stride=(1,), padding=(64,), dilation=(32,))\n",
       "        (chomp1): Chomp1d()\n",
       "        (act_func1): Identity()\n",
       "        (dropout1): Dropout2d(p=0.0, inplace=False)\n",
       "        (conv2): Conv1d(1, 1, kernel_size=(3,), stride=(1,), padding=(64,), dilation=(32,))\n",
       "        (chomp2): Chomp1d()\n",
       "        (act_func2): Identity()\n",
       "        (dropout2): Dropout2d(p=0.0, inplace=False)\n",
       "        (net): Sequential(\n",
       "          (0): Conv1d(5, 1, kernel_size=(3,), stride=(1,), padding=(64,), dilation=(32,))\n",
       "          (1): Chomp1d()\n",
       "          (2): Identity()\n",
       "          (3): Dropout2d(p=0.0, inplace=False)\n",
       "          (4): Conv1d(1, 1, kernel_size=(3,), stride=(1,), padding=(64,), dilation=(32,))\n",
       "          (5): Chomp1d()\n",
       "          (6): Identity()\n",
       "          (7): Dropout2d(p=0.0, inplace=False)\n",
       "        )\n",
       "        (downsample): Conv1d(5, 1, kernel_size=(1,), stride=(1,))\n",
       "        (act_func3): Identity()\n",
       "      )\n",
       "    )\n",
       "  )\n",
       ")"
      ]
     },
     "execution_count": null,
     "metadata": {},
     "output_type": "execute_result"
    }
   ],
   "source": [
    "learner.model"
   ]
  },
  {
   "cell_type": "code",
   "execution_count": null,
   "metadata": {},
   "outputs": [],
   "source": [
    "target_model = LinearTransferModel(learner.model, 1, \n",
    "                                   reduce_layers_tcn_model, \n",
    "                                   use_original_weights=False,\n",
    "                                  include_original_features=False,\n",
    "                                  prediction_model=BayesLinReg(10, 10, empirical_bayes=False),\n",
    "                                  use_pca=False)"
   ]
  },
  {
   "cell_type": "code",
   "execution_count": null,
   "metadata": {},
   "outputs": [
    {
     "data": {
      "text/html": [
       "<table border=\"1\" class=\"dataframe\">\n",
       "  <thead>\n",
       "    <tr style=\"text-align: left;\">\n",
       "      <th>epoch</th>\n",
       "      <th>train_loss</th>\n",
       "      <th>valid_loss</th>\n",
       "      <th>_rmse</th>\n",
       "      <th>time</th>\n",
       "    </tr>\n",
       "  </thead>\n",
       "  <tbody>\n",
       "    <tr>\n",
       "      <td>0</td>\n",
       "      <td>-0.011885</td>\n",
       "      <td>0.027373</td>\n",
       "      <td>0.113790</td>\n",
       "      <td>00:00</td>\n",
       "    </tr>\n",
       "  </tbody>\n",
       "</table>"
      ],
      "text/plain": [
       "<IPython.core.display.HTML object>"
      ]
     },
     "metadata": {},
     "output_type": "display_data"
    },
    {
     "name": "stderr",
     "output_type": "stream",
     "text": [
      "<ipython-input-292-77876d9e74b5>:107: UserWarning: To copy construct from a tensor, it is recommended to use sourceTensor.clone().detach() or sourceTensor.clone().detach().requires_grad_(True), rather than torch.tensor(sourceTensor).\n",
      "  return torch.tensor(x_transformed)\n"
     ]
    }
   ],
   "source": [
    "target_learner = RenewableTimeseriesLearner(dls_target, target_model, loss_func=target_model.loss_func, metrics=rmse,)\n",
    "target_learner.fit(1)"
   ]
  },
  {
   "cell_type": "code",
   "execution_count": null,
   "metadata": {},
   "outputs": [
    {
     "data": {
      "text/plain": [
       "[BayesLinReg(alpha=10, beta=10, empirical_bayes=False),\n",
       " BayesLinReg(alpha=10, beta=10, empirical_bayes=False),\n",
       " BayesLinReg(alpha=10, beta=10, empirical_bayes=False)]"
      ]
     },
     "execution_count": null,
     "metadata": {},
     "output_type": "execute_result"
    }
   ],
   "source": [
    "target_learner.prediction_models[0:3]"
   ]
  },
  {
   "cell_type": "code",
   "execution_count": null,
   "metadata": {},
   "outputs": [
    {
     "name": "stderr",
     "output_type": "stream",
     "text": [
      "<ipython-input-292-77876d9e74b5>:107: UserWarning: To copy construct from a tensor, it is recommended to use sourceTensor.clone().detach() or sourceTensor.clone().detach().requires_grad_(True), rather than torch.tensor(sourceTensor).\n",
      "  return torch.tensor(x_transformed)\n"
     ]
    }
   ],
   "source": [
    "preds, targets = target_learner.predict(ds_idx=1, filter=True, flatten=True)"
   ]
  },
  {
   "cell_type": "code",
   "execution_count": null,
   "metadata": {},
   "outputs": [
    {
     "data": {
      "text/plain": [
       "((1632,), (1632,))"
      ]
     },
     "execution_count": null,
     "metadata": {},
     "output_type": "execute_result"
    }
   ],
   "source": [
    "preds.shape, targets.shape"
   ]
  },
  {
   "cell_type": "code",
   "execution_count": null,
   "metadata": {},
   "outputs": [],
   "source": [
    "windspeed = dls_target.valid_ds.conts[:,id_ws,:]\n",
    "windspeed = windspeed.reshape(-1,1)"
   ]
  },
  {
   "cell_type": "code",
   "execution_count": null,
   "metadata": {},
   "outputs": [
    {
     "data": {
      "text/plain": [
       "torch.Size([1632, 1])"
      ]
     },
     "execution_count": null,
     "metadata": {},
     "output_type": "execute_result"
    }
   ],
   "source": [
    "windspeed.shape"
   ]
  },
  {
   "cell_type": "code",
   "execution_count": null,
   "metadata": {},
   "outputs": [
    {
     "data": {
      "text/plain": [
       "<matplotlib.collections.PathCollection at 0x7f8d400b1bb0>"
      ]
     },
     "execution_count": null,
     "metadata": {},
     "output_type": "execute_result"
    },
    {
     "data": {
      "image/png": "[encoded data removed]",
      "text/plain": [
       "<Figure size 432x288 with 1 Axes>"
      ]
     },
     "metadata": {
      "needs_background": "light"
     },
     "output_type": "display_data"
    }
   ],
   "source": [
    "plt.scatter(windspeed, targets)\n",
    "plt.scatter(windspeed, preds)"
   ]
  },
  {
   "cell_type": "code",
   "execution_count": null,
   "metadata": {},
   "outputs": [],
   "source": [
    "target_model = LinearTransferModel(learner.model, 1, \n",
    "                                   reduce_layers_tcn_model, \n",
    "                                   use_original_weights=False,\n",
    "                                  include_original_features=False,\n",
    "                                  prediction_model=BayesLinReg(0.1, 0.1, empirical_bayes=True),\n",
    "                                  use_pca=True)"
   ]
  },
  {
   "cell_type": "code",
   "execution_count": null,
   "metadata": {},
   "outputs": [],
   "source": [
    "cats, conts, targets = convert_to_tensor_ts(dls_target.train_ds)"
   ]
  },
  {
   "cell_type": "code",
   "execution_count": null,
   "metadata": {},
   "outputs": [],
   "source": [
    "X_transformed = target_model(cats, conts)"
   ]
  },
  {
   "cell_type": "code",
   "execution_count": null,
   "metadata": {},
   "outputs": [],
   "source": [
    "target_model = target_model.update(X_transformed, targets )"
   ]
  },
  {
   "cell_type": "code",
   "execution_count": null,
   "metadata": {},
   "outputs": [
    {
     "data": {
      "text/plain": [
       "[BayesLinReg(alpha=1596.1145440638443, beta=426.7999890652902),\n",
       " BayesLinReg(alpha=1498.8429881904901, beta=231.10304147266223),\n",
       " BayesLinReg(alpha=1810.4639697312593, beta=220.9876656343763),\n",
       " BayesLinReg(alpha=1576.4762414844074, beta=207.31362962731453),\n",
       " BayesLinReg(alpha=1506.0232112078338, beta=258.78776333795497),\n",
       " BayesLinReg(alpha=1328.6553660479344, beta=212.09282974461502),\n",
       " BayesLinReg(alpha=917.6368643195854, beta=175.00964015039762),\n",
       " BayesLinReg(alpha=909.0582031478964, beta=136.5941554894354),\n",
       " BayesLinReg(alpha=650.0671166746832, beta=122.31216973768794),\n",
       " BayesLinReg(alpha=538.5565588722459, beta=101.16323204967786),\n",
       " BayesLinReg(alpha=398.0885936770126, beta=73.93736189236765),\n",
       " BayesLinReg(alpha=321.96773731371127, beta=66.45588965260231),\n",
       " BayesLinReg(alpha=279.5194953579479, beta=65.70377083387673),\n",
       " BayesLinReg(alpha=271.73853315698926, beta=57.125522094677365),\n",
       " BayesLinReg(alpha=278.94428705718775, beta=48.04127834763031),\n",
       " BayesLinReg(alpha=343.05529814861336, beta=60.15772372502542),\n",
       " BayesLinReg(alpha=376.016699632966, beta=70.61355832512204),\n",
       " BayesLinReg(alpha=546.4793800309619, beta=81.486388030702),\n",
       " BayesLinReg(alpha=1033.6232037905531, beta=145.64112742986984),\n",
       " BayesLinReg(alpha=1107.292615836904, beta=128.75891402256417),\n",
       " BayesLinReg(alpha=1700.9185230656026, beta=177.18606331288993),\n",
       " BayesLinReg(alpha=1310.5122549285159, beta=143.952852899193),\n",
       " BayesLinReg(alpha=1345.0340931058838, beta=188.24027340232365),\n",
       " BayesLinReg(alpha=1216.867444639793, beta=141.5254667991124)]"
      ]
     },
     "execution_count": null,
     "metadata": {},
     "output_type": "execute_result"
    }
   ],
   "source": [
    "target_model.prediction_models[0:]"
   ]
  },
  {
   "cell_type": "code",
   "execution_count": null,
   "metadata": {},
   "outputs": [],
   "source": [
    "cats, conts, targets = convert_to_tensor_ts(dls_target.valid_ds)\n",
    "target_model.eval()\n",
    "yhats = target_model(cats, conts)"
   ]
  },
  {
   "cell_type": "code",
   "execution_count": null,
   "metadata": {},
   "outputs": [
    {
     "data": {
      "text/plain": [
       "tensor(0.1536, dtype=torch.float64)"
      ]
     },
     "execution_count": null,
     "metadata": {},
     "output_type": "execute_result"
    }
   ],
   "source": [
    "((targets.ravel()-yhat.ravel())**2).mean()**0.5"
   ]
  },
  {
   "cell_type": "code",
   "execution_count": null,
   "metadata": {},
   "outputs": [],
   "source": [
    "windspeed = dls_target.valid_ds.conts[:,id_ws,:]\n",
    "windspeed = windspeed.reshape(-1,1)"
   ]
  },
  {
   "cell_type": "code",
   "execution_count": null,
   "metadata": {},
   "outputs": [
    {
     "data": {
      "text/plain": [
       "<matplotlib.collections.PathCollection at 0x7f8d4002f430>"
      ]
     },
     "execution_count": null,
     "metadata": {},
     "output_type": "execute_result"
    },
    {
     "data": {
      "image/png": "[encoded data removed]",
      "text/plain": [
       "<Figure size 432x288 with 1 Axes>"
      ]
     },
     "metadata": {
      "needs_background": "light"
     },
     "output_type": "display_data"
    }
   ],
   "source": [
    "plt.scatter(windspeed, targets)\n",
    "plt.scatter(windspeed, yhat)"
   ]
  },
  {
   "cell_type": "code",
   "execution_count": null,
   "metadata": {},
   "outputs": [],
   "source": []
  }
 ],
 "metadata": {
  "kernelspec": {
   "display_name": "Python 3",
   "language": "python",
   "name": "python3"
  }
 },
 "nbformat": 4,
 "nbformat_minor": 2
}
