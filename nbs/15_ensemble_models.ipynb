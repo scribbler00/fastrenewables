{
 "cells": [
  {
   "cell_type": "code",
   "execution_count": 1,
   "metadata": {},
   "outputs": [],
   "source": [
    "# default_exp models.ensembles"
   ]
  },
  {
   "cell_type": "markdown",
   "metadata": {},
   "source": [
    "# models.ensembles\n",
    "> API details."
   ]
  },
  {
   "cell_type": "code",
   "execution_count": 2,
   "metadata": {},
   "outputs": [],
   "source": [
    "# export\n",
    "import os\n",
    "os.environ[\"CUDA_VISIBLE_DEVICES\"] = \"\"\n",
    "import numpy as np\n",
    "import torch\n",
    "from torch import nn\n",
    "from fastrenewables.tabular.model import *\n",
    "from fastrenewables.timeseries.model import *\n",
    "from fastai.tabular.all import *\n",
    "from torch.autograd import Variable\n",
    "from sklearn.datasets import make_regression\n",
    "from fastai.learner import *\n",
    "from fastrenewables.utils_pytorch import *\n",
    "import copy\n",
    "from fastrenewables.timeseries.model import *\n",
    "from fastrenewables.baselines import BayesLinReg, ELM\n",
    "from fastrenewables.models.transfermodels import *\n",
    "from fastrenewables.tabular.learner import *\n",
    "from fastrenewables.timeseries.learner import *\n",
    "from sklearn.base import BaseEstimator\n",
    "import numpy as np"
   ]
  },
  {
   "cell_type": "markdown",
   "metadata": {},
   "source": [
    "There are a number of different possibilities for ensembling/weighting in timeseries. The following functions cover those relevant for fastrenewables.\n",
    "\n",
    "The most simple one, will we have $N$ predictions with a forecast horizon of 1 by $k$ ensemble members.\n",
    "Respectively, the prediction has the shape $N\\times k$ or alternatively $N\\times k \\times 1$. Or alternatively we have an ensemble weight for $N\\times k \\times t$, so for each forecast horizon and and sample we have an weight. "
   ]
  },
  {
   "cell_type": "code",
   "execution_count": 3,
   "metadata": {},
   "outputs": [],
   "source": [
    "#export\n",
    "def normalize_weight(ensemble_weight):\n",
    "    \"\"\"\n",
    "    Let N be the number of samples, k the number of ensembles, and\n",
    "    t be the forecast horizon.\n",
    "    In case of an input array of dimension k, it is reshaped to k x 1, assuming a single forecast horizon.\n",
    "    In case of a k x t array we normalize for each forecast horizon t acrross all ensmeble members.\n",
    "    In case of Nxkxt we also normalise accross all members for each horizon.\n",
    "    \"\"\"\n",
    "    \n",
    "    if len(ensemble_weight.shape) == 1:\n",
    "        ensemble_weight = ensemble_weight.reshape(len(ensemble_weight), 1)\n",
    "            \n",
    "    if len(ensemble_weight.shape) == 2:\n",
    "        ensemble_weight = ensemble_weight/ensemble_weight.sum(0)\n",
    "    elif len(ensemble_weight.shape) == 3:\n",
    "        ensemble_weight = (ensemble_weight/ensemble_weight.sum(1)[:,np.newaxis,:])\n",
    "        \n",
    "    return ensemble_weight"
   ]
  },
  {
   "cell_type": "code",
   "execution_count": 4,
   "metadata": {},
   "outputs": [],
   "source": [
    "#export\n",
    "def weight_preds(preds, ensemble_weight):\n",
    "    \"\"\"\n",
    "        Weight the predictions by the ensemble weights, depeneding on the shape.\n",
    "    \"\"\"\n",
    "    ensemble_weight = ensemble_weight\n",
    "    if len(ensemble_weight.shape) == 1:\n",
    "        ensemble_weight = ensemble_weight.reshape(len(ensemble_weight), 1)\n",
    "    if len(preds.shape) == 1:\n",
    "        preds = preds.reshape(len(preds), 1)\n",
    "    if len(preds.shape) == 2:\n",
    "        preds = preds[:,:,np.newaxis]\n",
    "        \n",
    "    if len(ensemble_weight.shape) == 2:\n",
    "        preds = ((preds*ensemble_weight).sum(1))\n",
    "    elif len(ensemble_weight.shape) == 3:\n",
    "        preds = (preds*ensemble_weight).sum(1)\n",
    "    return preds"
   ]
  },
  {
   "cell_type": "markdown",
   "metadata": {},
   "source": [
    "The following tests cover the different scenarios."
   ]
  },
  {
   "cell_type": "code",
   "execution_count": 5,
   "metadata": {},
   "outputs": [],
   "source": [
    "N,k,t = 100,3,1\n",
    "yhat = np.random.random((N,k,t))\n",
    "ensemble_weight = np.random.random((k,t))\n",
    "test_close(normalize_weight(ensemble_weight).sum(0), np.array(1.))\n",
    "normalized_weight = normalize_weight(ensemble_weight.ravel())\n",
    "test_close(normalized_weight.sum(0), np.array(1.))\n",
    "test_eq(weight_preds(yhat, normalized_weight).shape, (100,1))\n",
    "\n",
    "N,k,t = 100,3,5\n",
    "ensemble_weight = np.random.random((k,t))\n",
    "yhat = np.random.random((N,k,t))\n",
    "# when summing accross all, \n",
    "# the normalized weight should be equal to the number forecast horizons\n",
    "normalized_weight = normalize_weight(ensemble_weight)\n",
    "test_close(normalized_weight.sum(), t)\n",
    "test_eq(weight_preds(yhat, normalized_weight).shape, (100,5))\n",
    "\n",
    "N,k,t = 5,3,4\n",
    "yhat = np.random.random((N,k,t))\n",
    "ensemble_weight = np.random.random((N, k, t))\n",
    "# for each forecast horizon for each samples it should sum up to one.\n",
    "normalized_weight = normalize_weight(ensemble_weight)\n",
    "test_close(normalized_weight.sum(1), np.ones((N,t)))\n",
    "# we should get the weighted result by Nxt\n",
    "test_eq(weight_preds(yhat, normalized_weight).shape, (5,4))\n",
    "\n",
    "\n",
    "N,k,t = 40,2,1\n",
    "yhat = np.random.random((N,k,t)).reshape((N,k))\n",
    "ensemble_weight = np.random.random((k,t))\n",
    "test_close(normalize_weight(ensemble_weight).sum(0), np.array(1.))\n",
    "normalized_weight = normalize_weight(ensemble_weight.ravel())\n",
    "test_eq(weight_preds(yhat, normalized_weight).shape, (40,1))"
   ]
  },
  {
   "cell_type": "markdown",
   "metadata": {},
   "source": [
    "# Source Models"
   ]
  },
  {
   "cell_type": "markdown",
   "metadata": {},
   "source": [
    "## Prep Data"
   ]
  },
  {
   "cell_type": "code",
   "execution_count": 6,
   "metadata": {},
   "outputs": [],
   "source": [
    "def generate_single_dataset(n_samples, start, end, bias, coef, noise_factor=0.3):\n",
    "\n",
    "    X = np.random.uniform(low=start, high=end,size=n_samples)\n",
    "    y = np.sin(X*coef*2*np.pi) + np.random.randn(X.shape[0])*noise_factor+bias\n",
    "    \n",
    "    return X,y"
   ]
  },
  {
   "cell_type": "code",
   "execution_count": 7,
   "metadata": {},
   "outputs": [],
   "source": [
    "def generate_all_tasks(n_samples=200):\n",
    "    starts = [0,  0, 0]\n",
    "    ends = [4.1,  3.9, 3.7]\n",
    "    coefs = [3.4,  4, 4.5]\n",
    "    biases = [0.1,  0.1, 0.1]\n",
    "    n_samples = [n_samples, n_samples, n_samples]\n",
    "    \n",
    "    df_tasks = []\n",
    "    for task_id in range(len(starts)):\n",
    "        start, end, bias, coef = starts[task_id], ends[task_id], coefs[task_id], biases[task_id]\n",
    "        X,y = generate_single_dataset(n_samples[task_id], start, end, bias, coef, noise_factor=0.05)\n",
    "        df_task = pd.DataFrame({\"X\": X.ravel(), \"y\":y.ravel()})\n",
    "        df_task[\"TaskID\"] = task_id\n",
    "        df_tasks.append(df_task)\n",
    "    return pd.concat(df_tasks)"
   ]
  },
  {
   "cell_type": "code",
   "execution_count": 8,
   "metadata": {},
   "outputs": [],
   "source": [
    "def get_source_task(df):\n",
    "    df_source =  df[(df.TaskID == 0) ]\n",
    "    dls_source_01 = TabularDataLoaders.from_df(df_source, cont_names=\"X\", y_names=\"y\", \n",
    "                                     deivce=\"cpu\", procs=Normalize, bs=10)\n",
    "    \n",
    "    df_source =  df[(df.TaskID == 1)]\n",
    "    dls_source_02 = TabularDataLoaders.from_df(df_source, cont_names=\"X\", y_names=\"y\", \n",
    "                                     deivce=\"cpu\", procs=Normalize, bs=10)\n",
    "    \n",
    "    return dls_source_01, dls_source_02\n",
    "    \n",
    "def get_target_task(df):\n",
    "    df_target =  df[df.TaskID == 2]\n",
    "    dls = TabularDataLoaders.from_df(df_target, cont_names=\"X\", y_names=\"y\", \n",
    "                                     deivce=\"cpu\", procs=Normalize, bs=10)\n",
    "    return dls"
   ]
  },
  {
   "cell_type": "code",
   "execution_count": 9,
   "metadata": {},
   "outputs": [],
   "source": [
    "df = generate_all_tasks()"
   ]
  },
  {
   "cell_type": "code",
   "execution_count": 10,
   "metadata": {},
   "outputs": [
    {
     "data": {
      "text/plain": [
       "<matplotlib.collections.PathCollection at 0x7f66b731b6a0>"
      ]
     },
     "execution_count": 10,
     "metadata": {},
     "output_type": "execute_result"
    },
    {
     "data": {
      "image/png": "[encoded data removed]",
      "text/plain": [
       "<Figure size 432x288 with 1 Axes>"
      ]
     },
     "metadata": {
      "needs_background": "light"
     },
     "output_type": "display_data"
    }
   ],
   "source": [
    "plt.scatter(df.X, df.y, c=df.TaskID)"
   ]
  },
  {
   "cell_type": "code",
   "execution_count": 11,
   "metadata": {},
   "outputs": [],
   "source": [
    "dls_source_01, dls_source_02 = get_source_task(df)\n",
    "dls_target = get_target_task(df)"
   ]
  },
  {
   "cell_type": "markdown",
   "metadata": {},
   "source": [
    "## Train Source Models"
   ]
  },
  {
   "cell_type": "code",
   "execution_count": 12,
   "metadata": {},
   "outputs": [
    {
     "data": {
      "text/html": [
       "<table border=\"1\" class=\"dataframe\">\n",
       "  <thead>\n",
       "    <tr style=\"text-align: left;\">\n",
       "      <th>epoch</th>\n",
       "      <th>train_loss</th>\n",
       "      <th>valid_loss</th>\n",
       "      <th>_rmse</th>\n",
       "      <th>time</th>\n",
       "    </tr>\n",
       "  </thead>\n",
       "  <tbody>\n",
       "    <tr>\n",
       "      <td>0</td>\n",
       "      <td>6.554866</td>\n",
       "      <td>0.282452</td>\n",
       "      <td>0.531462</td>\n",
       "      <td>00:00</td>\n",
       "    </tr>\n",
       "    <tr>\n",
       "      <td>1</td>\n",
       "      <td>3.209738</td>\n",
       "      <td>1.037858</td>\n",
       "      <td>1.018753</td>\n",
       "      <td>00:00</td>\n",
       "    </tr>\n",
       "    <tr>\n",
       "      <td>2</td>\n",
       "      <td>1.866211</td>\n",
       "      <td>0.051432</td>\n",
       "      <td>0.226785</td>\n",
       "      <td>00:00</td>\n",
       "    </tr>\n",
       "    <tr>\n",
       "      <td>3</td>\n",
       "      <td>1.179400</td>\n",
       "      <td>0.025405</td>\n",
       "      <td>0.159389</td>\n",
       "      <td>00:00</td>\n",
       "    </tr>\n",
       "    <tr>\n",
       "      <td>4</td>\n",
       "      <td>0.790122</td>\n",
       "      <td>0.050374</td>\n",
       "      <td>0.224441</td>\n",
       "      <td>00:00</td>\n",
       "    </tr>\n",
       "    <tr>\n",
       "      <td>5</td>\n",
       "      <td>0.550048</td>\n",
       "      <td>0.046928</td>\n",
       "      <td>0.216629</td>\n",
       "      <td>00:00</td>\n",
       "    </tr>\n",
       "    <tr>\n",
       "      <td>6</td>\n",
       "      <td>0.397139</td>\n",
       "      <td>0.033474</td>\n",
       "      <td>0.182958</td>\n",
       "      <td>00:00</td>\n",
       "    </tr>\n",
       "    <tr>\n",
       "      <td>7</td>\n",
       "      <td>0.288138</td>\n",
       "      <td>0.026449</td>\n",
       "      <td>0.162631</td>\n",
       "      <td>00:00</td>\n",
       "    </tr>\n",
       "    <tr>\n",
       "      <td>8</td>\n",
       "      <td>0.215259</td>\n",
       "      <td>0.014173</td>\n",
       "      <td>0.119052</td>\n",
       "      <td>00:00</td>\n",
       "    </tr>\n",
       "    <tr>\n",
       "      <td>9</td>\n",
       "      <td>0.164870</td>\n",
       "      <td>0.048965</td>\n",
       "      <td>0.221280</td>\n",
       "      <td>00:00</td>\n",
       "    </tr>\n",
       "  </tbody>\n",
       "</table>"
      ],
      "text/plain": [
       "<IPython.core.display.HTML object>"
      ]
     },
     "metadata": {},
     "output_type": "display_data"
    }
   ],
   "source": [
    "set_seed(41, reproducible=True)\n",
    "source_model = MultiLayerPerceptron([1, 100, 50, 10, 1], use_bn=True, bn_cont=True)\n",
    "learn_source_01 = Learner(dls_source_01, source_model, metrics=rmse)\n",
    "learn_source_01.fit(10, lr=0.05)"
   ]
  },
  {
   "cell_type": "code",
   "execution_count": 13,
   "metadata": {},
   "outputs": [
    {
     "data": {
      "text/html": [
       "<table border=\"1\" class=\"dataframe\">\n",
       "  <thead>\n",
       "    <tr style=\"text-align: left;\">\n",
       "      <th>epoch</th>\n",
       "      <th>train_loss</th>\n",
       "      <th>valid_loss</th>\n",
       "      <th>_rmse</th>\n",
       "      <th>time</th>\n",
       "    </tr>\n",
       "  </thead>\n",
       "  <tbody>\n",
       "    <tr>\n",
       "      <td>0</td>\n",
       "      <td>17.653273</td>\n",
       "      <td>8.891386</td>\n",
       "      <td>2.981843</td>\n",
       "      <td>00:00</td>\n",
       "    </tr>\n",
       "    <tr>\n",
       "      <td>1</td>\n",
       "      <td>8.422894</td>\n",
       "      <td>1.240544</td>\n",
       "      <td>1.113797</td>\n",
       "      <td>00:00</td>\n",
       "    </tr>\n",
       "    <tr>\n",
       "      <td>2</td>\n",
       "      <td>4.906835</td>\n",
       "      <td>0.160259</td>\n",
       "      <td>0.400323</td>\n",
       "      <td>00:00</td>\n",
       "    </tr>\n",
       "    <tr>\n",
       "      <td>3</td>\n",
       "      <td>3.089968</td>\n",
       "      <td>0.042131</td>\n",
       "      <td>0.205259</td>\n",
       "      <td>00:00</td>\n",
       "    </tr>\n",
       "    <tr>\n",
       "      <td>4</td>\n",
       "      <td>2.044519</td>\n",
       "      <td>0.026156</td>\n",
       "      <td>0.161728</td>\n",
       "      <td>00:00</td>\n",
       "    </tr>\n",
       "    <tr>\n",
       "      <td>5</td>\n",
       "      <td>1.393540</td>\n",
       "      <td>0.016535</td>\n",
       "      <td>0.128590</td>\n",
       "      <td>00:00</td>\n",
       "    </tr>\n",
       "    <tr>\n",
       "      <td>6</td>\n",
       "      <td>0.974335</td>\n",
       "      <td>0.011123</td>\n",
       "      <td>0.105465</td>\n",
       "      <td>00:00</td>\n",
       "    </tr>\n",
       "    <tr>\n",
       "      <td>7</td>\n",
       "      <td>0.694404</td>\n",
       "      <td>0.023411</td>\n",
       "      <td>0.153005</td>\n",
       "      <td>00:00</td>\n",
       "    </tr>\n",
       "    <tr>\n",
       "      <td>8</td>\n",
       "      <td>0.502269</td>\n",
       "      <td>0.024589</td>\n",
       "      <td>0.156808</td>\n",
       "      <td>00:00</td>\n",
       "    </tr>\n",
       "    <tr>\n",
       "      <td>9</td>\n",
       "      <td>0.368305</td>\n",
       "      <td>0.040390</td>\n",
       "      <td>0.200974</td>\n",
       "      <td>00:00</td>\n",
       "    </tr>\n",
       "    <tr>\n",
       "      <td>10</td>\n",
       "      <td>0.274514</td>\n",
       "      <td>0.013361</td>\n",
       "      <td>0.115591</td>\n",
       "      <td>00:00</td>\n",
       "    </tr>\n",
       "    <tr>\n",
       "      <td>11</td>\n",
       "      <td>0.203490</td>\n",
       "      <td>0.023083</td>\n",
       "      <td>0.151932</td>\n",
       "      <td>00:00</td>\n",
       "    </tr>\n",
       "    <tr>\n",
       "      <td>12</td>\n",
       "      <td>0.156683</td>\n",
       "      <td>0.010923</td>\n",
       "      <td>0.104511</td>\n",
       "      <td>00:00</td>\n",
       "    </tr>\n",
       "    <tr>\n",
       "      <td>13</td>\n",
       "      <td>0.122892</td>\n",
       "      <td>0.021329</td>\n",
       "      <td>0.146045</td>\n",
       "      <td>00:00</td>\n",
       "    </tr>\n",
       "    <tr>\n",
       "      <td>14</td>\n",
       "      <td>0.094485</td>\n",
       "      <td>0.007726</td>\n",
       "      <td>0.087899</td>\n",
       "      <td>00:00</td>\n",
       "    </tr>\n",
       "  </tbody>\n",
       "</table>"
      ],
      "text/plain": [
       "<IPython.core.display.HTML object>"
      ]
     },
     "metadata": {},
     "output_type": "display_data"
    }
   ],
   "source": [
    "set_seed(456, reproducible=True)\n",
    "source_model = MultiLayerPerceptron([1, 100, 50, 10, 1], use_bn=True, bn_cont=True)\n",
    "learn_source_02 = Learner(dls_source_02, source_model, metrics=rmse)\n",
    "learn_source_02.fit(15, lr=0.025)"
   ]
  },
  {
   "cell_type": "code",
   "execution_count": 14,
   "metadata": {},
   "outputs": [],
   "source": [
    "elm_source_model_01 = ELM(n_hidden=10, activations=np.sin, \n",
    "                          include_original_features=False,\n",
    "                         prediction_model=BayesLinReg(alpha=100, beta=10, empirical_bayes=False))\n",
    "elm_source_model_01 = elm_source_model_01.fit(dls_source_01.conts.values, dls_source_01.ys.values.ravel())\n",
    "\n",
    "elm_source_model_02 = ELM(n_hidden=50, include_original_features=False,\n",
    "                         prediction_model=BayesLinReg(alpha=1, beta=1, use_fixed_point=True))\n",
    "elm_source_model_02 = elm_source_model_02.fit(dls_source_02.conts.values, dls_source_02.ys.values)"
   ]
  },
  {
   "cell_type": "markdown",
   "metadata": {},
   "source": [
    "## Eval Source Model"
   ]
  },
  {
   "cell_type": "code",
   "execution_count": 15,
   "metadata": {},
   "outputs": [
    {
     "data": {
      "text/html": [],
      "text/plain": [
       "<IPython.core.display.HTML object>"
      ]
     },
     "metadata": {},
     "output_type": "display_data"
    },
    {
     "data": {
      "text/html": [],
      "text/plain": [
       "<IPython.core.display.HTML object>"
      ]
     },
     "metadata": {},
     "output_type": "display_data"
    },
    {
     "data": {
      "image/png": "[encoded data removed]",
      "text/plain": [
       "<Figure size 432x288 with 1 Axes>"
      ]
     },
     "metadata": {
      "needs_background": "light"
     },
     "output_type": "display_data"
    }
   ],
   "source": [
    "targets, preds = learn_source_01.get_preds(ds_idx=0)\n",
    "plt.scatter(dls_source_01.train_ds.items.X, preds, label=\"preds 01\")\n",
    "plt.scatter(dls_source_01.train_ds.items.X, targets, label=\"targets 01\")\n",
    "\n",
    "targets, preds = learn_source_02.get_preds(ds_idx=0)\n",
    "plt.scatter(dls_source_02.train_ds.items.X, preds, label=\"preds 02\")\n",
    "plt.scatter(dls_source_02.train_ds.items.X, targets, label=\"targets 02\")\n",
    "plt.legend()\n",
    "plt.show()"
   ]
  },
  {
   "cell_type": "markdown",
   "metadata": {},
   "source": [
    "# Target"
   ]
  },
  {
   "cell_type": "markdown",
   "metadata": {},
   "source": [
    "## Adapt source models"
   ]
  },
  {
   "cell_type": "code",
   "execution_count": 16,
   "metadata": {},
   "outputs": [],
   "source": [
    "# export\n",
    "def update_single_model(model, dls):\n",
    "    target_model = LinearTransferModel(\n",
    "                    model, num_layers_to_remove=1, \n",
    "                    prediction_model=BayesLinReg(1, 1, use_fixed_point=True))\n",
    "    \n",
    "    target_learner = RenewableLearner(dls, target_model, loss_func=target_model.loss_func, metrics=rmse,)\n",
    "    target_learner.dls[0].bs=len(target_learner.dls.train_ds)\n",
    "    target_learner.fit(1)\n",
    "    \n",
    "    return target_learner.model"
   ]
  },
  {
   "cell_type": "code",
   "execution_count": 17,
   "metadata": {},
   "outputs": [
    {
     "data": {
      "text/html": [
       "<table border=\"1\" class=\"dataframe\">\n",
       "  <thead>\n",
       "    <tr style=\"text-align: left;\">\n",
       "      <th>epoch</th>\n",
       "      <th>train_loss</th>\n",
       "      <th>valid_loss</th>\n",
       "      <th>_rmse</th>\n",
       "      <th>time</th>\n",
       "    </tr>\n",
       "  </thead>\n",
       "  <tbody>\n",
       "    <tr>\n",
       "      <td>0</td>\n",
       "      <td>0.000000</td>\n",
       "      <td>0.009083</td>\n",
       "      <td>0.095306</td>\n",
       "      <td>00:00</td>\n",
       "    </tr>\n",
       "  </tbody>\n",
       "</table>"
      ],
      "text/plain": [
       "<IPython.core.display.HTML object>"
      ]
     },
     "metadata": {},
     "output_type": "display_data"
    }
   ],
   "source": [
    "target_model_01 = update_single_model(learn_source_01.model, dls_target)"
   ]
  },
  {
   "cell_type": "code",
   "execution_count": 18,
   "metadata": {},
   "outputs": [
    {
     "data": {
      "text/html": [
       "<table border=\"1\" class=\"dataframe\">\n",
       "  <thead>\n",
       "    <tr style=\"text-align: left;\">\n",
       "      <th>epoch</th>\n",
       "      <th>train_loss</th>\n",
       "      <th>valid_loss</th>\n",
       "      <th>_rmse</th>\n",
       "      <th>time</th>\n",
       "    </tr>\n",
       "  </thead>\n",
       "  <tbody>\n",
       "    <tr>\n",
       "      <td>0</td>\n",
       "      <td>0.000000</td>\n",
       "      <td>0.011207</td>\n",
       "      <td>0.105864</td>\n",
       "      <td>00:00</td>\n",
       "    </tr>\n",
       "  </tbody>\n",
       "</table>"
      ],
      "text/plain": [
       "<IPython.core.display.HTML object>"
      ]
     },
     "metadata": {},
     "output_type": "display_data"
    }
   ],
   "source": [
    "target_model_02 = update_single_model(learn_source_02.model, dls_target)"
   ]
  },
  {
   "cell_type": "markdown",
   "metadata": {},
   "source": [
    "## Train Ensemble"
   ]
  },
  {
   "cell_type": "markdown",
   "metadata": {},
   "source": [
    "### Helper Functions"
   ]
  },
  {
   "cell_type": "code",
   "execution_count": 19,
   "metadata": {},
   "outputs": [],
   "source": [
    "#export\n",
    "def rank_by_evidence(cats, conts, targets, models, logme=True):\n",
    "    evidences = np.zeros(len(models))\n",
    "    for idx,model in enumerate(models):\n",
    "        if isinstance(model, BaseEstimator):\n",
    "            evidences[idx] = model.log_evidence(to_np(conts), to_np(targets), logme=logme)\n",
    "        else:\n",
    "            evidences[idx] = model.log_evidence(cats, conts, targets, logme=logme)\n",
    "    sort_ids = evidences.argsort()[::-1]\n",
    "    return evidences.reshape(len(models), 1), sort_ids"
   ]
  },
  {
   "cell_type": "code",
   "execution_count": 20,
   "metadata": {},
   "outputs": [],
   "source": [
    "# hide\n",
    "models = [target_model_01, target_model_02]\n",
    "cats, conts, targets = convert_to_tensor(dls_target.train_ds)\n",
    "evidences, sort_ids = rank_by_evidence(cats, conts,targets, models)\n",
    "# test_eq(sort_ids, np.array([1,0]))"
   ]
  },
  {
   "cell_type": "code",
   "execution_count": 21,
   "metadata": {},
   "outputs": [],
   "source": [
    "# export\n",
    "def get_posterioirs(cats, conts, targets, models):\n",
    "    posteriors = []\n",
    "    ts_length = 1\n",
    "    if len(conts.shape)==3:\n",
    "        ts_length = conts.shape[2]\n",
    "        \n",
    "    for idx,model in enumerate(models):\n",
    "        if isinstance(model, BaseEstimator):\n",
    "            posterior = np.exp(model.log_posterior(to_np(conts), to_np(targets)))\n",
    "        else:\n",
    "            posterior = np.exp(model.log_posterior(cats, conts, targets))\n",
    "        posteriors.append(posterior.reshape(-1,1))\n",
    "    posteriors = np.concatenate(posteriors, axis=1)\n",
    "    return posteriors.reshape(len(models),ts_length)"
   ]
  },
  {
   "cell_type": "code",
   "execution_count": 22,
   "metadata": {},
   "outputs": [],
   "source": [
    "# hide\n",
    "models = [target_model_01, target_model_02]\n",
    "cats, conts, targets = convert_to_tensor(dls_target.train_ds)\n",
    "posteriors = get_posterioirs(cats, conts, targets,  models)\n",
    "test_eq(posteriors.shape, (2,1))"
   ]
  },
  {
   "cell_type": "code",
   "execution_count": 23,
   "metadata": {},
   "outputs": [],
   "source": [
    "# export\n",
    "def get_predictive_uncertainty(cats, conts, models):\n",
    "    yhats,ystds = [], []\n",
    "    ts_length = 1\n",
    "    if len(conts.shape)==3:\n",
    "        ts_length = conts.shape[2]\n",
    "        \n",
    "    for idx,model in enumerate(models):\n",
    "        if isinstance(model, BaseEstimator):\n",
    "            yhat, ystd = model.predict_proba(to_np(conts))\n",
    "            yhats.append(yhat.reshape(-1,ts_length))\n",
    "            ystds.append(ystd.reshape(-1,ts_length))\n",
    "        else:\n",
    "            yhat, ystd = model.predict_proba(cats, conts)\n",
    "            yhats.append(to_np(yhat).reshape(-1,ts_length))\n",
    "            ystds.append(to_np(ystd).reshape(-1,ts_length))\n",
    "\n",
    "    #  TODO if this working for timersiers?\n",
    "    yhats, ystds = np.concatenate(yhats, axis=1), np.concatenate(ystds, axis=1)\n",
    "    yhats, ystds = yhats.reshape(len(conts),len(models),ts_length), ystds.reshape(len(conts),len(models),ts_length)\n",
    "    y_uncertainty = 1/ystds\n",
    "    \n",
    "    return yhats, y_uncertainty"
   ]
  },
  {
   "cell_type": "code",
   "execution_count": 24,
   "metadata": {},
   "outputs": [],
   "source": [
    "# hide\n",
    "models = [target_model_01, target_model_02]\n",
    "cats, conts, targets = convert_to_tensor(dls_target.train_ds)\n",
    "yhats, y_uncertainty = get_predictive_uncertainty(cats, conts, models)\n"
   ]
  },
  {
   "cell_type": "code",
   "execution_count": 25,
   "metadata": {},
   "outputs": [],
   "source": [
    "# export\n",
    "def get_preds(cats, conts, models, convert_to_np=True):\n",
    "    yhats, ystds = [], []\n",
    "    ts_length = 1\n",
    "    \n",
    "    if len(conts.shape) == 3:\n",
    "        ts_length = conts.shape[2]\n",
    "        \n",
    "    for idx, model in enumerate(models):\n",
    "        if isinstance(model, BaseEstimator):\n",
    "            yhat = model.predict(to_np(conts)).reshape(-1, ts_length)\n",
    "            yhats.append(yhat)\n",
    "        elif hasattr(model, \"predict\"):\n",
    "            yhat = model.predict(cats, conts).reshape(-1, ts_length)\n",
    "            if convert_to_np:\n",
    "                yhat = to_np(yhat)\n",
    "            yhats.append(yhat)\n",
    "        elif hasattr(model, \"forward\"):\n",
    "            yhat = model.forward(cats, conts).reshape(-1, ts_length)\n",
    "            if convert_to_np:\n",
    "                yhat = to_np(yhat)\n",
    "            yhats.append(yhat)\n",
    "        else:\n",
    "            raise ValueError(\"Unknown prediction function.\")\n",
    "    if convert_to_np:\n",
    "        yhats = np.concatenate(yhats, axis=1)\n",
    "    else:\n",
    "        yhats = torch.cat(yhats, axis=1)\n",
    "\n",
    "    yhats = yhats.reshape(len(conts), len(models), ts_length)\n",
    "\n",
    "    return yhats"
   ]
  },
  {
   "cell_type": "markdown",
   "metadata": {},
   "source": [
    "### Bayesian Model Averaging"
   ]
  },
  {
   "cell_type": "code",
   "execution_count": 26,
   "metadata": {},
   "outputs": [],
   "source": [
    "# export\n",
    "class BayesModelAveraing(nn.Module):\n",
    "    def __init__(self, source_models, \n",
    "                 rank_measure=\"evidence\", \n",
    "                 weighting_strategy=\"evidence\",\n",
    "                 n_best_models=-1,\n",
    "                is_timeseries=False):\n",
    "        \"\"\"\n",
    "            rank_measure [str]: either rmse or logevidence\n",
    "            n_best_models [int]: the n best models w.r.t. rank_measure are taken into account. \n",
    "                                default -1 takes all models\n",
    "        \n",
    "        \"\"\"\n",
    "        super().__init__()\n",
    "        self.source_models = np.array(source_models)\n",
    "        self.rank_measure=rank_measure\n",
    "        \n",
    "        self.weighting_strategy = weighting_strategy\n",
    "        self.n_best_models = n_best_models\n",
    "        self.is_timeseries = is_timeseries\n",
    "        \n",
    "        # fake param so that it can be used with pytorch trainers\n",
    "        self.fake_param=nn.Parameter(torch.zeros((1,1), dtype=torch.float))\n",
    "        self.fake_param.requires_grad =True\n",
    "        \n",
    "        self.conversion_to_tensor = convert_to_tensor_ts if self.is_timeseries else convert_to_tensor\n",
    "        \n",
    "        self.ensemble_weights = None\n",
    "   \n",
    "    def fit_tensors(self, cats, conts, targets):\n",
    "        if self.training:\n",
    "            if self.rank_measure == \"evidence\":\n",
    "                self.rank_measure_values, self.sord_ids = rank_by_evidence(\n",
    "                    cats, conts, targets, self.source_models\n",
    "                )\n",
    "       \n",
    "\n",
    "            if self.n_best_models != -1:\n",
    "                self.source_models = self.source_models[\n",
    "                    self.sord_ids[0 : self.n_best_models]\n",
    "                ]\n",
    "                self.rank_measure_values = self.rank_measure_values[\n",
    "                    self.sord_ids[0 : self.n_best_models]\n",
    "                ]\n",
    "\n",
    "        if self.weighting_strategy == \"evidence\":\n",
    "            self.ensemble_weights, _ = rank_by_evidence(\n",
    "                cats, conts, targets, self.source_models\n",
    "            )\n",
    "\n",
    "        elif self.weighting_strategy == \"posterior\":\n",
    "            self.ensemble_weights = get_posterioirs(\n",
    "                cats, conts, targets, self.source_models\n",
    "            )\n",
    "\n",
    "        if self.weighting_strategy != \"uncertainty\":\n",
    "            self.ensemble_weights = normalize_weight(self.ensemble_weights)\n",
    "\n",
    "    def fit(self, dls):\n",
    "        cats, conts, targets = self.conversion_to_tensor(dls.train_ds)\n",
    "        self.fit_tensors(cats, conts, targets)\n",
    "        \n",
    "            \n",
    "    def _predict(self, cats, conts):\n",
    "        if self.weighting_strategy==\"uncertainty\":\n",
    "            yhat, y_uncertainty = get_predictive_uncertainty(cats, conts, self.source_models)\n",
    "            if len(y_uncertainty.shape) == 2:\n",
    "                y_uncertainty = y_uncertainty[:,:, np.newaxis]\n",
    "                \n",
    "            self.ensemble_weights = normalize_weight(y_uncertainty)\n",
    "        else:\n",
    "            yhat = get_preds(cats, conts, self.source_models)\n",
    "        \n",
    "        yhat = weight_preds(yhat, self.ensemble_weights)\n",
    "        \n",
    "        return yhat\n",
    "    \n",
    "    def forward(self, cats, conts):\n",
    "        yhat = self._predict(cats, conts)\n",
    "        \n",
    "        return yhat\n",
    "\n",
    "    def predict(self, dls, ds_idx=0):\n",
    "        ds = dls.train_ds\n",
    "        if ds_idx==1:\n",
    "            ds = dls.valid_ds\n",
    "        \n",
    "        cats, conts, _ = self.conversion_to_tensor(ds)\n",
    "            \n",
    "        yhat = self._predict(cats, conts)\n",
    "        \n",
    "        return yhat   \n",
    "    \n",
    "    def log_evidence(self, dls, ds_idx=0,logme=False):\n",
    "        ds = dls.train_ds\n",
    "        if ds_idx==1:\n",
    "            ds = dls.valid_ds\n",
    "        \n",
    "        cats, conts, targets = self.conversion_to_tensor(ds)\n",
    "        evidences, _ = rank_by_evidence(cats, conts, targets, self.source_models, logme=logme)\n",
    "        \n",
    "        return evidences.mean()\n",
    "        "
   ]
  },
  {
   "cell_type": "code",
   "execution_count": 27,
   "metadata": {},
   "outputs": [
    {
     "data": {
      "text/plain": [
       "tensor(0.0997, dtype=torch.float64)"
      ]
     },
     "execution_count": 27,
     "metadata": {},
     "output_type": "execute_result"
    }
   ],
   "source": [
    "bma_model = BayesModelAveraing(source_models=[target_model_01, target_model_02], \n",
    "                               weighting_strategy='evidence',\n",
    "                               n_best_models=-1)\n",
    "bma_model.fit(dls_target)\n",
    "cats, conts, targets = convert_to_tensor(dls_target.valid_ds)\n",
    "yhat = bma_model.predict(dls_target, ds_idx=1).shape\n",
    "((targets.ravel()-bma_model.predict(dls_target, ds_idx=1).ravel())**2).mean()**0.5"
   ]
  },
  {
   "cell_type": "code",
   "execution_count": 28,
   "metadata": {},
   "outputs": [
    {
     "data": {
      "text/plain": [
       "tensor(0.0953, dtype=torch.float64)"
      ]
     },
     "execution_count": 28,
     "metadata": {},
     "output_type": "execute_result"
    }
   ],
   "source": [
    "bma_model = BayesModelAveraing(source_models=[target_model_01, target_model_02], \n",
    "                               weighting_strategy='posterior',\n",
    "                               n_best_models=-1)\n",
    "bma_model.fit(dls_target)\n",
    "cats, conts, targets = convert_to_tensor(dls_target.valid_ds)\n",
    "yhat = bma_model.predict(dls_target, ds_idx=1).shape\n",
    "((targets.ravel()-bma_model.predict(dls_target, ds_idx=1).ravel())**2).mean()**0.5"
   ]
  },
  {
   "cell_type": "code",
   "execution_count": 29,
   "metadata": {},
   "outputs": [
    {
     "data": {
      "text/plain": [
       "tensor(0.0997)"
      ]
     },
     "execution_count": 29,
     "metadata": {},
     "output_type": "execute_result"
    }
   ],
   "source": [
    "bma_model = BayesModelAveraing(source_models=[target_model_01, target_model_02], \n",
    "                               weighting_strategy='uncertainty',\n",
    "                               n_best_models=-1)\n",
    "bma_model.fit(dls_target)\n",
    "cats, conts, targets = convert_to_tensor(dls_target.valid_ds)\n",
    "yhat = bma_model.predict(dls_target, ds_idx=1)\n",
    "((targets.ravel()-yhat.ravel())**2).mean()**0.5"
   ]
  },
  {
   "cell_type": "markdown",
   "metadata": {},
   "source": [
    "We can also calculate the evidence of the ensemble."
   ]
  },
  {
   "cell_type": "code",
   "execution_count": 30,
   "metadata": {},
   "outputs": [
    {
     "data": {
      "text/plain": [
       "35.265928701437794"
      ]
     },
     "execution_count": 30,
     "metadata": {},
     "output_type": "execute_result"
    }
   ],
   "source": [
    "bma_model.log_evidence(dls_target, ds_idx=1)"
   ]
  },
  {
   "cell_type": "code",
   "execution_count": 31,
   "metadata": {},
   "outputs": [
    {
     "data": {
      "text/plain": [
       "tensor(1.2067, dtype=torch.float64)"
      ]
     },
     "execution_count": 31,
     "metadata": {},
     "output_type": "execute_result"
    }
   ],
   "source": [
    "bma_model = BayesModelAveraing(source_models=[elm_source_model_01, elm_source_model_02], \n",
    "                               weighting_strategy='evidence',\n",
    "                               n_best_models=-1)\n",
    "bma_model.fit(dls_target)\n",
    "cats, conts, targets = convert_to_tensor(dls_target.valid_ds)\n",
    "yhat = bma_model.predict(dls_target, ds_idx=1)\n",
    "((targets.ravel()-yhat.ravel())**2).mean()**0.5"
   ]
  },
  {
   "cell_type": "markdown",
   "metadata": {},
   "source": [
    "### Coopetitive Soft Gating"
   ]
  },
  {
   "cell_type": "code",
   "execution_count": 32,
   "metadata": {},
   "outputs": [],
   "source": [
    "# export\n",
    "def squared_error(y,yhat):\n",
    "    return (y-yhat)**2"
   ]
  },
  {
   "cell_type": "code",
   "execution_count": 33,
   "metadata": {},
   "outputs": [],
   "source": [
    "#export\n",
    "def soft_gating(errors, eta, eps=1e-9):\n",
    "    errors_sum = errors.sum(0)+eps\n",
    "    res = (errors_sum/(errors**eta))\n",
    "    return res/res.sum()"
   ]
  },
  {
   "cell_type": "code",
   "execution_count": 34,
   "metadata": {},
   "outputs": [],
   "source": [
    "# export\n",
    "# hide\n",
    "def _flatten_ts(x):\n",
    "    if len(x.shape) == 2:\n",
    "        return x\n",
    "    \n",
    "    n_samples, n_features, ts_length = x.shape\n",
    "    \n",
    "    if isinstance(x, np.ndarray):\n",
    "        x = x.swapaxes(1,2)\n",
    "    else:\n",
    "        x = x.permute(0,2,1)\n",
    "    x = x.reshape(n_samples*ts_length, n_features)\n",
    "    return x\n",
    "\n",
    "def _unflatten_to_ts(x, ts_length, n_features):\n",
    "    if len(x) == 0 or n_features == 0:\n",
    "        return x\n",
    "    \n",
    "    x = x.reshape(-1, ts_length, n_features)\n",
    "    if isinstance(x, np.ndarray):\n",
    "        x = x.swapaxes(1,2)\n",
    "    else:\n",
    "        x = x.permute(0,2,1)\n",
    "    \n",
    "    return x"
   ]
  },
  {
   "cell_type": "code",
   "execution_count": 35,
   "metadata": {},
   "outputs": [],
   "source": [
    "# export\n",
    "# hide\n",
    "def create_error_matrix(targets, preds, error_function=squared_error):\n",
    "    \"\"\"\n",
    "        N=#samples, k=#ensembles, t=forecast horizon\n",
    "        targets needs to be of size Nxt or Nx1xt\n",
    "        yhat needs to be of shape Nxkxt\n",
    "    \"\"\"\n",
    "    # shape N --> Nxkxt    \n",
    "    if len(targets.shape)==1:\n",
    "        targets = targets.reshape(-1,1,1)\n",
    "        \n",
    "    # shape Nxt --> Nxkxt \n",
    "    if len(targets.shape)==2:\n",
    "        # 1 is so that we can brodcast accross k ensembles\n",
    "        targets = targets.reshape(len(targets), 1, -1)\n",
    "        \n",
    "    # shape N --> Nxkxt    \n",
    "    if len(preds.shape)==1:      \n",
    "        preds = preds.reshape(-1,1,1)\n",
    "        \n",
    "    # shape Nxk --> Nxkxt \n",
    "    if len(preds.shape)==2: \n",
    "        # 1 is for a single forecast horizon\n",
    "        preds = preds.reshape(len(preds), preds.shape[1],1)\n",
    "    error_matrix = error_function(targets, preds)\n",
    "    \n",
    "    if error_function == squared_error:\n",
    "        error_matrix = error_matrix**0.5\n",
    "        \n",
    "    return error_matrix"
   ]
  },
  {
   "cell_type": "code",
   "execution_count": 36,
   "metadata": {},
   "outputs": [],
   "source": [
    "# hide\n",
    "N,k,t = 2,4,3 \n",
    "targets = np.random.random((N,t))\n",
    "yhat = np.random.random((N,k,t))\n",
    "test_eq(create_error_matrix(targets, yhat).shape, (N,k,t))\n",
    "\n",
    "N,k,t = 2,4,3 \n",
    "targets = np.random.random((N,1,t))\n",
    "yhat = np.random.random((N,k,t))\n",
    "test_eq(create_error_matrix(targets, yhat).shape, (N,k,t))\n",
    "\n",
    "N,k,t = 2,4,3 \n",
    "targets = np.random.random((N))\n",
    "yhat = np.random.random((N,k,t))\n",
    "test_eq(create_error_matrix(targets, yhat).shape, (N,k,t))\n",
    "\n",
    "N,k,t = 2,4,1 \n",
    "targets = np.random.random((N))\n",
    "yhat = np.random.random((N,k))\n",
    "test_eq(create_error_matrix(targets, yhat).shape, (N,k,t))"
   ]
  },
  {
   "cell_type": "code",
   "execution_count": 37,
   "metadata": {},
   "outputs": [],
   "source": [
    "# export\n",
    "# hide\n",
    "def get_global_weight(error_matrix, eta=1):\n",
    "    \"\"\"expected to be of shape n_samples x n_ensembles x forecast_horizon \"\"\"\n",
    "\n",
    "    global_weight =  error_matrix.mean(0).mean(1)\n",
    "    \n",
    "    global_weight = Variable(global_weight)\n",
    "    global_weight.requires_grad = True\n",
    "    \n",
    "    return soft_gating(global_weight.reshape(-1,1), eta)"
   ]
  },
  {
   "cell_type": "code",
   "execution_count": 38,
   "metadata": {},
   "outputs": [],
   "source": [
    "# hide\n",
    "N,k,t = 10,4,3\n",
    "targets = np.random.random((N,t))\n",
    "yhat = np.random.random((N,k,t))\n",
    "em = create_error_matrix(torch.tensor(targets), torch.tensor(yhat))\n",
    "test_eq(get_global_weight(em).shape, (k,1))"
   ]
  },
  {
   "cell_type": "code",
   "execution_count": 39,
   "metadata": {},
   "outputs": [],
   "source": [
    "# export\n",
    "# hide\n",
    "def get_timedependent_weight(error_matrix, eta=1):\n",
    "    \"\"\"\n",
    "        Caclulates timedepentend input.\n",
    "        Input expected to be of shape n_samples x n_ensembles x forecast_horizon \n",
    "        Output is of size n_ensembles x forecast_horizon\n",
    "    \"\"\"\n",
    "    if len(error_matrix.shape) != 3:\n",
    "        raise ValueError(\"Error matrix is not of dimension n_samples x n_ensembles x forecast_horizon.\")\n",
    "    \n",
    "    N,k,t =error_matrix.shape\n",
    "    # average accross all samples\n",
    "    time_depentent_weight =  error_matrix.mean(0)\n",
    "\n",
    "    time_depentent_weight = Variable(time_depentent_weight)\n",
    "    time_depentent_weight.requires_grad = False\n",
    "    \n",
    "    new_time_depentent_weight = []\n",
    "    for t_i in range(t):\n",
    "        new_time_depentent_weight += [soft_gating(time_depentent_weight[:,t_i], eta).reshape((k,1))]\n",
    "    \n",
    "    return torch.cat(new_time_depentent_weight, axis=1)"
   ]
  },
  {
   "cell_type": "code",
   "execution_count": 40,
   "metadata": {},
   "outputs": [],
   "source": [
    "# hide\n",
    "test_eq(get_timedependent_weight(em).shape, (k,t))"
   ]
  },
  {
   "cell_type": "code",
   "execution_count": 41,
   "metadata": {},
   "outputs": [],
   "source": [
    "# export\n",
    "# hide\n",
    "from sklearn.decomposition import PCA\n",
    "from sklearn.neighbors import KNeighborsRegressor\n",
    "from sklearn.pipeline import Pipeline\n",
    "from sklearn.utils.validation import check_is_fitted\n",
    "def simple_local_error_estimator(param_dict = {\"n_components\":5, \"n_neighbors\": 5}):\n",
    "    pipe = Pipeline([('pca', PCA(n_components=param_dict[\"n_components\"])), \n",
    "                     ('knn', KNeighborsRegressor(n_neighbors=param_dict[\"n_neighbors\"]))])\n",
    "    return pipe\n"
   ]
  },
  {
   "cell_type": "code",
   "execution_count": 42,
   "metadata": {},
   "outputs": [],
   "source": [
    "# export\n",
    "# hide\n",
    "\n",
    "def get_local_weight(conts, error_expectation_regressor, eta=1):\n",
    "    \"\"\"\n",
    "      Calculates the expected local error based on an trained error expectation reggressor.\n",
    "      Based on this matrix with shape n_samples x n_ensembles the weights are calculated.\n",
    "    \"\"\"\n",
    "    with torch.no_grad(): \n",
    "        if len(conts.shape)==3:\n",
    "            conts=_flatten_ts(conts)\n",
    "\n",
    "        if not isinstance(conts,np.ndarray):\n",
    "            conts = to_np(conts)\n",
    "       \n",
    "        # todo check timeseries that is the same for each timestep\n",
    "        local_error_expectation = error_expectation_regressor.predict(conts)\n",
    "        \n",
    "        if type(local_error_expectation) == np.ndarray:\n",
    "            local_error_expectation = torch.tensor(local_error_expectation)\n",
    "    \n",
    "        if len(local_error_expectation.shape) != 2:\n",
    "            raise ValueError(f\"Local error matrix is not of dimension n_samples x n_ensembles x forecast_horizon. It is of size {local_error_expectation.shape}\")\n",
    "        N,k = local_error_expectation.shape\n",
    "    \n",
    "#     local_error_expectation = Variable(local_error_expectation)\n",
    "    local_error_expectation.requires_grad = False\n",
    "    \n",
    "            \n",
    "    # we should have an error matrix of shape Nxk (n_samples x n_ensembles)\n",
    "    local_weight = []\n",
    "    for n in range(len(local_error_expectation)):\n",
    "        local_weight += [soft_gating(local_error_expectation[n,], eta).reshape(1,k)]\n",
    "    local_weight = torch.cat(local_weight, axis=0)\n",
    "    \n",
    "    return local_weight"
   ]
  },
  {
   "cell_type": "code",
   "execution_count": 43,
   "metadata": {},
   "outputs": [],
   "source": [
    "#hide\n",
    "cats, conts, targets = convert_to_tensor(dls_target.valid_ds)\n",
    "preds_01 = target_model_01.predict(cats, conts)\n",
    "preds_02 = target_model_02.predict(cats, conts)\n",
    "preds_comb = np.concatenate([preds_01, preds_02], axis=1)\n",
    "error_matrix = create_error_matrix(targets, preds_comb)\n",
    "error_expectation_regressor = simple_local_error_estimator(param_dict = {\"n_components\":1, \"n_neighbors\": 5})\n",
    "error_expectation_regressor = error_expectation_regressor.fit(conts, error_matrix.reshape(-1,error_matrix.shape[1]))\n",
    "local_weight = get_local_weight(conts, error_expectation_regressor)\n",
    "test_eq(local_weight.shape, (len(conts),2))\n",
    "test_close(local_weight.sum(), len(conts))\n",
    "test_close(local_weight.sum(1)[0], 1)"
   ]
  },
  {
   "cell_type": "code",
   "execution_count": 44,
   "metadata": {},
   "outputs": [],
   "source": [
    "# export\n",
    "# hide\n",
    "class LocalErrorPredictor(BaseEstimator):\n",
    "    \"\"\"\n",
    "       This is a wrapper for a multivariate Bayesian linear regression/extreme learning machine \n",
    "       to provide local error forecasts for the CSGE.\n",
    "    \"\"\"\n",
    "    def __init__(self, n_models=1, use_elm=True, n_hidden=200):\n",
    "        self.n_models = n_models\n",
    "        self.use_elm = use_elm\n",
    "        self.n_hidden = n_hidden\n",
    "    \n",
    "    def fit(self, conts, errors):\n",
    "        if not isinstance(conts,np.ndarray):\n",
    "            conts = to_np(conts)\n",
    "            \n",
    "        if not isinstance(errors,np.ndarray):\n",
    "            errors = to_np(errors)\n",
    "        \n",
    "        self.models = []\n",
    "        for idx in range(self.n_models):\n",
    "            model = BayesLinReg(use_fixed_point=True)\n",
    "            if self.use_elm:\n",
    "                model = ELM(n_hidden=self.n_hidden, prediction_model=model)\n",
    "            model = model.fit(conts, errors[:,idx])\n",
    "            self.models.append(model)\n",
    "            \n",
    "    def predict(self, conts):\n",
    "        if len(conts.shape)==3:\n",
    "            conts=_flatten_ts(conts)\n",
    "            \n",
    "        if not isinstance(conts,np.ndarray):\n",
    "            conts = to_np(conts)\n",
    "            \n",
    "        preds = []\n",
    "        for model in self.models:\n",
    "            pred = model.predict(conts)\n",
    "            preds.append(torch.tensor(pred).reshape(-1,1))\n",
    "            \n",
    "        preds = torch.cat(preds, axis=1)\n",
    "        preds[preds<0] = 1\n",
    "        preds[preds>1] = 1\n",
    "        \n",
    "        \n",
    "        return preds"
   ]
  },
  {
   "cell_type": "code",
   "execution_count": 45,
   "metadata": {},
   "outputs": [],
   "source": [
    "# export\n",
    "def turnOffTrackingStats(module):\n",
    "        if hasattr(module, \"track_running_stats\"):\n",
    "            module.track_running_stats = False\n",
    "        for childMod in module.children():\n",
    "            turnOffTrackingStats(childMod)\n",
    "\n",
    "            \n",
    "class CSGE(nn.Module):\n",
    "    def __init__(self, source_models,\n",
    "                       local_error_estimator,\n",
    "                       eta_global=10, eta_time=10, eta_local=10,\n",
    "                 is_timeseries_model=False, \n",
    "                 is_timeseries_data=False,\n",
    "                 ts_length=1):\n",
    "        \"\"\"\n",
    "        \"\"\"\n",
    "        super().__init__()\n",
    "        \n",
    "        self.source_models = torch.nn.Sequential(*source_models)\n",
    "#         self.source_models = np.array(source_models)\n",
    "        self.is_timeseries_data = is_timeseries_data\n",
    "        self.is_timeseries_model = is_timeseries_model\n",
    "        self.local_error_estimator = local_error_estimator\n",
    "        self.conversion_to_tensor = convert_to_tensor_ts if self.is_timeseries_data else convert_to_tensor\n",
    "        \n",
    "        self.ts_length = ts_length\n",
    "        self.n_ensembles = len(self.source_models)\n",
    "        self.error_matrix = None\n",
    "        self.global_weights = None\n",
    "        self.timedependent_weights = None\n",
    "        self.local_weights = None\n",
    "        self.n_features = None\n",
    "        \n",
    "        self.eta_global = nn.Parameter(torch.Tensor([eta_global]))\n",
    "        self.eta_local = nn.Parameter(torch.Tensor([eta_local]))\n",
    "        self.eta_time = nn.Parameter(torch.Tensor([eta_time]))\n",
    "        \n",
    "    def create_preds(self, cats, conts):\n",
    "        if self.is_timeseries_model:\n",
    "            preds = get_preds(cats, conts, self.source_models, convert_to_np=False)\n",
    "        else:\n",
    "            preds = get_preds(_flatten_ts(cats), _flatten_ts(conts), \n",
    "                              self.source_models, convert_to_np=False)\n",
    "            \n",
    "            preds = _unflatten_to_ts(preds, self.ts_length, self.n_ensembles)\n",
    "            \n",
    "        return preds\n",
    "   \n",
    "    def create_error_matrix(self, preds, targets):\n",
    "        self.error_matrix = create_error_matrix(targets, preds)\n",
    "        if not isinstance(self.error_matrix, type(torch.tensor(1))):\n",
    "            raise ValueError(f\"Unexpected data type: {type(self.error_matrix)}\")\n",
    "        \n",
    "    def _single_data_as_ts(self, data, n_features):\n",
    "        if data is None:\n",
    "            return data\n",
    "        elif len(data.shape) == 3:\n",
    "            raise ValueError()\n",
    "        else:\n",
    "            return _unflatten_to_ts(data, self.ts_length, n_features)  \n",
    "        \n",
    "    def _n_features(self,data):\n",
    "        if data is None:\n",
    "            return 0\n",
    "        elif len(data) == 0:\n",
    "            return 0\n",
    "        else:\n",
    "            return data.shape[1]\n",
    "        \n",
    "    def all_data_as_ts(self, cats, conts, targets=None):\n",
    "        if self.is_timeseries_model:\n",
    "            return cats,  conts, targets\n",
    "        else:\n",
    "            return self._single_data_as_ts(cats, n_features=self._n_features(cats)), \\\n",
    "                   self._single_data_as_ts(conts, n_features=self.n_features), \\\n",
    "                   self._single_data_as_ts(targets, n_features=self._n_features(targets))\n",
    "        \n",
    "    \n",
    "    def fit(self, dls, ds_idx=0, n_epochs=1):\n",
    "        turnOffTrackingStats(self)\n",
    "        if ds_idx == 0:\n",
    "            ds = dls.train_ds\n",
    "        else:\n",
    "            ds = dls.valid_ds\n",
    "            \n",
    "        cats, conts, targets = self.conversion_to_tensor(ds)\n",
    "        self.n_features = conts.shape[1]\n",
    "        cats, conts, targets = self.all_data_as_ts(cats, conts, targets)\n",
    "      \n",
    "        # we do an initial fit to setup everything and check dimensions\n",
    "        with torch.no_grad():\n",
    "            preds = self.create_preds(cats, conts)\n",
    "            self.create_error_matrix(preds, targets)\n",
    "            \n",
    "            self.global_weights = get_global_weight(self.error_matrix, self.eta_global)\n",
    "            \n",
    "            self.local_error_estimator.fit(_flatten_ts(conts), _flatten_ts(self.error_matrix))\n",
    "            self.local_weights = self.get_local_weight(conts)\n",
    "            \n",
    "            self.timedependent_weights = get_timedependent_weight(\n",
    "                self.error_matrix, self.eta_time\n",
    "            )\n",
    "        \n",
    "            assert len(conts) == self.error_matrix.shape[0]\n",
    "            assert self.n_ensembles == self.error_matrix.shape[1]\n",
    "            assert self.ts_length == self.error_matrix.shape[2]\n",
    "            \n",
    "            assert self.n_ensembles == self.global_weights.shape[0]\n",
    "            assert 1 == self.global_weights.shape[1]\n",
    "            assert 2==len(self.global_weights.shape)\n",
    "            \n",
    "            assert len(conts) == self.local_weights.shape[0]\n",
    "            assert self.n_ensembles == self.local_weights.shape[1]\n",
    "            assert 3==len(self.local_weights.shape)\n",
    "            \n",
    "            assert self.n_ensembles == self.timedependent_weights.shape[0]\n",
    "            assert self.ts_length == self.timedependent_weights.shape[1]\n",
    "            assert 2==len(self.timedependent_weights.shape)\n",
    "            \n",
    "    def get_local_weight(self, conts):\n",
    "        local_weights = get_local_weight(_flatten_ts(conts), self.local_error_estimator, self.eta_local)\n",
    "        \n",
    "        local_weights = _unflatten_to_ts(local_weights, self.ts_length, self.n_ensembles)\n",
    "        \n",
    "        return local_weights\n",
    "        \n",
    "    def calc_final_weights(self, ):\n",
    "\n",
    "        final_weights = self.global_weights*self.timedependent_weights\n",
    "        final_weights = normalize_weight(final_weights)\n",
    "        \n",
    "        final_weights = self.local_weights*final_weights\n",
    "        final_weights = normalize_weight(final_weights)\n",
    "            \n",
    "        return final_weights\n",
    "    \n",
    "    def forward(self, cats, conts):\n",
    "        cats, conts, targets = self.all_data_as_ts(cats, conts, None)\n",
    "        \n",
    "        self.global_weights = get_global_weight(self.error_matrix, self.eta_global)\n",
    "        \n",
    "        self.timedependent_weights = get_timedependent_weight(\n",
    "                self.error_matrix, self.eta_time\n",
    "            )\n",
    "        \n",
    "        yhat = self._predict(cats, conts)\n",
    "\n",
    "        return yhat\n",
    "        \n",
    "            \n",
    "    def _predict(self, cats, conts):\n",
    "        yhat = self.create_preds(cats, conts)\n",
    "        \n",
    "        self.local_weights = self.get_local_weight(conts)\n",
    "        \n",
    "        final_weights = self.calc_final_weights()\n",
    "        \n",
    "        yhat = weight_preds(yhat, final_weights)\n",
    "        \n",
    "        return yhat\n",
    "    \n",
    "\n",
    "    def predict(self, dls, ds_idx=0):\n",
    "        ds = dls.train_ds\n",
    "        if ds_idx==1:\n",
    "            ds = dls.valid_ds\n",
    "        with torch.no_grad():\n",
    "            cats, conts, targets = self.conversion_to_tensor(ds)\n",
    "            cats, conts, targets = self.all_data_as_ts(cats, conts, targets)\n",
    "\n",
    "            yhat = self._predict(cats, conts)\n",
    "\n",
    "            return yhat, targets.reshape(yhat.shape[0],yhat.shape[1])   \n",
    "\n"
   ]
  },
  {
   "cell_type": "code",
   "execution_count": 46,
   "metadata": {},
   "outputs": [
    {
     "name": "stdout",
     "output_type": "stream",
     "text": [
      "0.8 tensor(0.0988, dtype=torch.float64)\n",
      "0.9 tensor(0.0986, dtype=torch.float64)\n",
      "1 tensor(0.0985, dtype=torch.float64)\n",
      "2 tensor(0.0975, dtype=torch.float64)\n",
      "3 tensor(0.0966, dtype=torch.float64)\n",
      "4 tensor(0.0962, dtype=torch.float64)\n",
      "5 tensor(0.0956, dtype=torch.float64)\n",
      "6 tensor(0.0955, dtype=torch.float64)\n",
      "7 tensor(0.0954, dtype=torch.float64)\n",
      "8 tensor(0.0954, dtype=torch.float64)\n",
      "9 tensor(0.0954, dtype=torch.float64)\n",
      "10 tensor(0.0953, dtype=torch.float64)\n",
      "20 tensor(0.0953, dtype=torch.float64)\n"
     ]
    }
   ],
   "source": [
    "for eta in [0.8,0.9,1,2,3,4,5,6,7,8,9,10,20]:\n",
    "    csge_model = CSGE(source_models=[target_model_01, target_model_02],\n",
    "                      local_error_estimator=LocalErrorPredictor(2),\n",
    "                     eta_global=eta, eta_local=eta, eta_time=eta)\n",
    "    \n",
    "    csge_model.fit(dls_target, ds_idx=1)\n",
    "    \n",
    "    yhat, targets = csge_model.predict(dls_target, ds_idx=1)\n",
    "    print(eta, ((targets.ravel()-yhat.ravel())**2).mean()**0.5)"
   ]
  },
  {
   "cell_type": "markdown",
   "metadata": {},
   "source": [
    "# Check for real world timeseries data"
   ]
  },
  {
   "cell_type": "markdown",
   "metadata": {},
   "source": [
    "## Data Preparation"
   ]
  },
  {
   "cell_type": "code",
   "execution_count": 47,
   "metadata": {},
   "outputs": [],
   "source": [
    "from fastrenewables.timeseries.core import *\n",
    "from fastrenewables.tabular.core import *\n",
    "from fastrenewables.timeseries.data import *\n",
    "from fastrenewables.timeseries.model import *\n",
    "from fastrenewables.timeseries.learner import *"
   ]
  },
  {
   "cell_type": "code",
   "execution_count": 48,
   "metadata": {},
   "outputs": [],
   "source": [
    "cont_names = ['T_HAG_2_M', 'RELHUM_HAG_2_M', 'PS_SFC_0_M', 'ASWDIFDS_SFC_0_M',\n",
    "       'ASWDIRS_SFC_0_M', 'WindSpeed58m',\n",
    "       'SinWindDirection58m', 'CosWindDirection58m', 'WindSpeed60m']\n",
    "cat_names = ['Hour']\n",
    "\n",
    "def get_dls(y_names=\"PowerGeneration\"):\n",
    "    pd.options.mode.chained_assignment=None\n",
    "    dls_source0 = RenewableTimeSeriesDataLoaders.from_files(glob.glob(\"../data/*.h5\")[0], \n",
    "                                                y_names=y_names, \n",
    "                                                cat_names=cat_names, \n",
    "                                                cont_names=cont_names,\n",
    "                                                pre_procs=[CreateTimeStampIndex(index_col_name=\"TimeUTC\"),\n",
    "                                                             AddSeasonalFeatures(as_cont=False),\n",
    "                                                             FilterInconsistentSamplesPerDay], \n",
    "                                                procs=[Categorify, Normalize], \n",
    "                                                bs=12,\n",
    "                                                y_block=RegressionBlock(),\n",
    "                                                )\n",
    "    dls_source1 = RenewableTimeSeriesDataLoaders.from_files(glob.glob(\"../data/*.h5\")[1], \n",
    "                                                y_names=y_names, \n",
    "                                                cat_names=cat_names, \n",
    "                                                cont_names=cont_names,\n",
    "                                                pre_procs=[CreateTimeStampIndex(index_col_name=\"TimeUTC\"),\n",
    "                                                             AddSeasonalFeatures(as_cont=False),\n",
    "                                                             FilterInconsistentSamplesPerDay], \n",
    "                                                procs=[Categorify, Normalize], \n",
    "                                                bs=12,\n",
    "                                                y_block=RegressionBlock(),\n",
    "                                                )\n",
    "    \n",
    "    dls_target = RenewableTimeSeriesDataLoaders.from_files(glob.glob(\"../data/*.h5\")[2], \n",
    "                                                y_names=y_names, \n",
    "                                                cat_names=cat_names, \n",
    "                                                cont_names=cont_names,\n",
    "                                                pre_procs=[CreateTimeStampIndex(index_col_name=\"TimeUTC\"),\n",
    "                                                           FilterYear(year=2020), \n",
    "                                                             AddSeasonalFeatures(as_cont=False),\n",
    "                                                             FilterInconsistentSamplesPerDay, \n",
    "                                                           FilterMonths(months=[1,2,3,4])], \n",
    "                                                procs=[Categorify, Normalize], \n",
    "                                                bs=12,\n",
    "                                                y_block=RegressionBlock(),\n",
    "                                                )\n",
    "    \n",
    "    return dls_source0,dls_source1,dls_target\n"
   ]
  },
  {
   "cell_type": "markdown",
   "metadata": {},
   "source": [
    "## Timeseries source model"
   ]
  },
  {
   "cell_type": "code",
   "execution_count": 49,
   "metadata": {},
   "outputs": [],
   "source": [
    "set_seed(23, reproducible=True)\n",
    "dls_source0, dls_source1,dls_target = get_dls()\n",
    "ann_structure = [len(cont_names), 10, 5, 1]"
   ]
  },
  {
   "cell_type": "code",
   "execution_count": 50,
   "metadata": {},
   "outputs": [
    {
     "data": {
      "text/html": [
       "<table border=\"1\" class=\"dataframe\">\n",
       "  <thead>\n",
       "    <tr style=\"text-align: left;\">\n",
       "      <th>epoch</th>\n",
       "      <th>train_loss</th>\n",
       "      <th>valid_loss</th>\n",
       "      <th>_rmse</th>\n",
       "      <th>time</th>\n",
       "    </tr>\n",
       "  </thead>\n",
       "  <tbody>\n",
       "    <tr>\n",
       "      <td>0</td>\n",
       "      <td>0.064880</td>\n",
       "      <td>0.041518</td>\n",
       "      <td>0.203759</td>\n",
       "      <td>00:00</td>\n",
       "    </tr>\n",
       "    <tr>\n",
       "      <td>1</td>\n",
       "      <td>0.044117</td>\n",
       "      <td>0.026211</td>\n",
       "      <td>0.161898</td>\n",
       "      <td>00:00</td>\n",
       "    </tr>\n",
       "    <tr>\n",
       "      <td>2</td>\n",
       "      <td>0.032613</td>\n",
       "      <td>0.020254</td>\n",
       "      <td>0.142315</td>\n",
       "      <td>00:00</td>\n",
       "    </tr>\n",
       "    <tr>\n",
       "      <td>3</td>\n",
       "      <td>0.025581</td>\n",
       "      <td>0.017398</td>\n",
       "      <td>0.131900</td>\n",
       "      <td>00:00</td>\n",
       "    </tr>\n",
       "    <tr>\n",
       "      <td>4</td>\n",
       "      <td>0.021227</td>\n",
       "      <td>0.015840</td>\n",
       "      <td>0.125859</td>\n",
       "      <td>00:00</td>\n",
       "    </tr>\n",
       "    <tr>\n",
       "      <td>5</td>\n",
       "      <td>0.018538</td>\n",
       "      <td>0.014951</td>\n",
       "      <td>0.122276</td>\n",
       "      <td>00:00</td>\n",
       "    </tr>\n",
       "    <tr>\n",
       "      <td>6</td>\n",
       "      <td>0.016847</td>\n",
       "      <td>0.014382</td>\n",
       "      <td>0.119927</td>\n",
       "      <td>00:00</td>\n",
       "    </tr>\n",
       "    <tr>\n",
       "      <td>7</td>\n",
       "      <td>0.015765</td>\n",
       "      <td>0.013962</td>\n",
       "      <td>0.118163</td>\n",
       "      <td>00:00</td>\n",
       "    </tr>\n",
       "    <tr>\n",
       "      <td>8</td>\n",
       "      <td>0.015046</td>\n",
       "      <td>0.013651</td>\n",
       "      <td>0.116837</td>\n",
       "      <td>00:00</td>\n",
       "    </tr>\n",
       "    <tr>\n",
       "      <td>9</td>\n",
       "      <td>0.014559</td>\n",
       "      <td>0.013458</td>\n",
       "      <td>0.116009</td>\n",
       "      <td>00:00</td>\n",
       "    </tr>\n",
       "  </tbody>\n",
       "</table>"
      ],
      "text/plain": [
       "<IPython.core.display.HTML object>"
      ]
     },
     "metadata": {},
     "output_type": "display_data"
    }
   ],
   "source": [
    "set_seed(23, reproducible=True)\n",
    "learn_source0 = renewable_timeseries_learner(dls_source0, layers=ann_structure, metrics=rmse)\n",
    "learn_source0.fit(10)"
   ]
  },
  {
   "cell_type": "code",
   "execution_count": 51,
   "metadata": {},
   "outputs": [
    {
     "data": {
      "text/html": [
       "<table border=\"1\" class=\"dataframe\">\n",
       "  <thead>\n",
       "    <tr style=\"text-align: left;\">\n",
       "      <th>epoch</th>\n",
       "      <th>train_loss</th>\n",
       "      <th>valid_loss</th>\n",
       "      <th>_rmse</th>\n",
       "      <th>time</th>\n",
       "    </tr>\n",
       "  </thead>\n",
       "  <tbody>\n",
       "    <tr>\n",
       "      <td>0</td>\n",
       "      <td>0.031127</td>\n",
       "      <td>0.025526</td>\n",
       "      <td>0.159767</td>\n",
       "      <td>00:00</td>\n",
       "    </tr>\n",
       "    <tr>\n",
       "      <td>1</td>\n",
       "      <td>0.023947</td>\n",
       "      <td>0.019131</td>\n",
       "      <td>0.138315</td>\n",
       "      <td>00:00</td>\n",
       "    </tr>\n",
       "    <tr>\n",
       "      <td>2</td>\n",
       "      <td>0.020303</td>\n",
       "      <td>0.017095</td>\n",
       "      <td>0.130747</td>\n",
       "      <td>00:00</td>\n",
       "    </tr>\n",
       "    <tr>\n",
       "      <td>3</td>\n",
       "      <td>0.018228</td>\n",
       "      <td>0.015887</td>\n",
       "      <td>0.126042</td>\n",
       "      <td>00:00</td>\n",
       "    </tr>\n",
       "    <tr>\n",
       "      <td>4</td>\n",
       "      <td>0.016900</td>\n",
       "      <td>0.015069</td>\n",
       "      <td>0.122757</td>\n",
       "      <td>00:00</td>\n",
       "    </tr>\n",
       "    <tr>\n",
       "      <td>5</td>\n",
       "      <td>0.016011</td>\n",
       "      <td>0.014510</td>\n",
       "      <td>0.120459</td>\n",
       "      <td>00:00</td>\n",
       "    </tr>\n",
       "    <tr>\n",
       "      <td>6</td>\n",
       "      <td>0.015392</td>\n",
       "      <td>0.014106</td>\n",
       "      <td>0.118770</td>\n",
       "      <td>00:00</td>\n",
       "    </tr>\n",
       "    <tr>\n",
       "      <td>7</td>\n",
       "      <td>0.014954</td>\n",
       "      <td>0.013799</td>\n",
       "      <td>0.117468</td>\n",
       "      <td>00:00</td>\n",
       "    </tr>\n",
       "    <tr>\n",
       "      <td>8</td>\n",
       "      <td>0.014637</td>\n",
       "      <td>0.013618</td>\n",
       "      <td>0.116696</td>\n",
       "      <td>00:00</td>\n",
       "    </tr>\n",
       "    <tr>\n",
       "      <td>9</td>\n",
       "      <td>0.014402</td>\n",
       "      <td>0.013466</td>\n",
       "      <td>0.116043</td>\n",
       "      <td>00:00</td>\n",
       "    </tr>\n",
       "  </tbody>\n",
       "</table>"
      ],
      "text/plain": [
       "<IPython.core.display.HTML object>"
      ]
     },
     "metadata": {},
     "output_type": "display_data"
    }
   ],
   "source": [
    "set_seed(12345, reproducible=True)\n",
    "learn_source1 = renewable_timeseries_learner(dls_source1, layers=ann_structure, metrics=rmse)\n",
    "learn_source1.fit(10)"
   ]
  },
  {
   "cell_type": "markdown",
   "metadata": {},
   "source": [
    "## Timeseries Target Models and Bayesian Model Averaging"
   ]
  },
  {
   "cell_type": "code",
   "execution_count": 52,
   "metadata": {},
   "outputs": [
    {
     "data": {
      "text/html": [
       "<table border=\"1\" class=\"dataframe\">\n",
       "  <thead>\n",
       "    <tr style=\"text-align: left;\">\n",
       "      <th>epoch</th>\n",
       "      <th>train_loss</th>\n",
       "      <th>valid_loss</th>\n",
       "      <th>_rmse</th>\n",
       "      <th>time</th>\n",
       "    </tr>\n",
       "  </thead>\n",
       "  <tbody>\n",
       "    <tr>\n",
       "      <td>0</td>\n",
       "      <td>0.000000</td>\n",
       "      <td>0.024466</td>\n",
       "      <td>0.156416</td>\n",
       "      <td>00:00</td>\n",
       "    </tr>\n",
       "  </tbody>\n",
       "</table>"
      ],
      "text/plain": [
       "<IPython.core.display.HTML object>"
      ]
     },
     "metadata": {},
     "output_type": "display_data"
    }
   ],
   "source": [
    "target_model0 = LinearTransferModel(learn_source0.model, 1, \n",
    "                           reduce_layers_tcn_model, \n",
    "                           use_original_weights=False,\n",
    "                        prediction_model=BayesLinReg(1, 1, empirical_bayes=False,use_fixed_point=True),\n",
    "                                  )\n",
    "\n",
    "target_learner0 = RenewableTimeseriesLearner(dls_target, target_model0, loss_func=target_model0.loss_func, metrics=rmse,)\n",
    "target_learner0.dls[0].bs=len(target_learner0.dls.train_ds)\n",
    "target_learner0.fit(1)"
   ]
  },
  {
   "cell_type": "code",
   "execution_count": 53,
   "metadata": {},
   "outputs": [
    {
     "data": {
      "text/html": [
       "<table border=\"1\" class=\"dataframe\">\n",
       "  <thead>\n",
       "    <tr style=\"text-align: left;\">\n",
       "      <th>epoch</th>\n",
       "      <th>train_loss</th>\n",
       "      <th>valid_loss</th>\n",
       "      <th>_rmse</th>\n",
       "      <th>time</th>\n",
       "    </tr>\n",
       "  </thead>\n",
       "  <tbody>\n",
       "    <tr>\n",
       "      <td>0</td>\n",
       "      <td>0.000000</td>\n",
       "      <td>0.018755</td>\n",
       "      <td>0.136948</td>\n",
       "      <td>00:00</td>\n",
       "    </tr>\n",
       "  </tbody>\n",
       "</table>"
      ],
      "text/plain": [
       "<IPython.core.display.HTML object>"
      ]
     },
     "metadata": {},
     "output_type": "display_data"
    }
   ],
   "source": [
    "target_model1 = LinearTransferModel(learn_source1.model, 1, \n",
    "                           reduce_layers_tcn_model, \n",
    "                           use_original_weights=False,\n",
    "                        prediction_model=BayesLinReg(1, 1, use_fixed_point=True),\n",
    "                                  )\n",
    "\n",
    "target_learner1 = RenewableTimeseriesLearner(dls_target, target_model1, loss_func=target_model1.loss_func, metrics=rmse,)\n",
    "target_learner1.dls[0].bs=len(target_learner1.dls.train_ds)\n",
    "target_learner1.fit(1)"
   ]
  },
  {
   "cell_type": "code",
   "execution_count": 54,
   "metadata": {},
   "outputs": [
    {
     "data": {
      "text/plain": [
       "tensor(0.1598, dtype=torch.float64)"
      ]
     },
     "execution_count": 54,
     "metadata": {},
     "output_type": "execute_result"
    }
   ],
   "source": [
    "bma_model = BayesModelAveraing(source_models=[target_learner0.model, target_learner1.model], \n",
    "                               weighting_strategy='evidence',is_timeseries=True,\n",
    "                               n_best_models=-1)\n",
    "bma_model.fit(dls_target)\n",
    "cats, conts, targets = convert_to_tensor_ts(dls_target.valid_ds)\n",
    "yhat = bma_model.predict(dls_target, ds_idx=1)\n",
    "((targets.ravel()-bma_model.predict(dls_target, ds_idx=1).ravel())**2).mean()**0.5"
   ]
  },
  {
   "cell_type": "code",
   "execution_count": 55,
   "metadata": {},
   "outputs": [
    {
     "data": {
      "text/plain": [
       "tensor(0.1676, dtype=torch.float64)"
      ]
     },
     "execution_count": 55,
     "metadata": {},
     "output_type": "execute_result"
    }
   ],
   "source": [
    "bma_model = BayesModelAveraing(source_models=[target_learner0.model, target_learner1.model], \n",
    "                               weighting_strategy='posterior',is_timeseries=True,\n",
    "                               n_best_models=-1)\n",
    "bma_model.fit(dls_target)\n",
    "cats, conts, targets = convert_to_tensor_ts(dls_target.valid_ds)\n",
    "yhat = bma_model.predict(dls_target, ds_idx=1)\n",
    "((targets.ravel()-bma_model.predict(dls_target, ds_idx=1).ravel())**2).mean()**0.5"
   ]
  },
  {
   "cell_type": "code",
   "execution_count": 56,
   "metadata": {},
   "outputs": [
    {
     "data": {
      "text/plain": [
       "tensor(0.1595)"
      ]
     },
     "execution_count": 56,
     "metadata": {},
     "output_type": "execute_result"
    }
   ],
   "source": [
    "bma_model = BayesModelAveraing(source_models=[target_learner0.model, target_learner1.model], \n",
    "                               weighting_strategy='uncertainty',is_timeseries=True,\n",
    "                               n_best_models=-1)\n",
    "bma_model.fit(dls_target)\n",
    "cats, conts, targets = convert_to_tensor_ts(dls_target.valid_ds)\n",
    "yhat = bma_model.predict(dls_target, ds_idx=1)\n",
    "((targets.ravel()-bma_model.predict(dls_target, ds_idx=1).ravel())**2).mean()**0.5"
   ]
  },
  {
   "cell_type": "markdown",
   "metadata": {},
   "source": [
    "## CSGE on Timeseries"
   ]
  },
  {
   "cell_type": "code",
   "execution_count": 57,
   "metadata": {},
   "outputs": [],
   "source": [
    "from fastrenewables.utils import filter_preds\n",
    "from sklearn.ensemble import GradientBoostingRegressor"
   ]
  },
  {
   "cell_type": "code",
   "execution_count": 59,
   "metadata": {},
   "outputs": [],
   "source": [
    "# export\n",
    "class TorchSklearnWrapper(nn.Module):\n",
    "    def __init__(self, source_models):\n",
    "        \"\"\"Wrapper to include sklearn models in the CSGE.\"\"\"\n",
    "        super().__init__()\n",
    "        self.source_models = source_models\n",
    "        \n",
    "    def forward(self, cats, conts):\n",
    "        X = to_np(conts)\n",
    "        if len(X.shape) == 3:\n",
    "            N,D,t = X.shape\n",
    "        else:\n",
    "            N,D,t = X.shape,1\n",
    "        \n",
    "        X = _flatten_ts(X)\n",
    "        \n",
    "        # TODO: could be multiple models\n",
    "        yhat = self.source_models.predict(X)\n",
    "        yhat = torch.tensor(yhat).float().reshape(-1,1)\n",
    "        # TODO: could be multiple models\n",
    "        yhat = _unflatten_to_ts(yhat, t, 1)\n",
    "        \n",
    "        \n",
    "        return yhat"
   ]
  },
  {
   "cell_type": "markdown",
   "metadata": {},
   "source": [
    "The CSGE can combine arbritrary forecast models. So we can also have a mixture of sklearn and torch models."
   ]
  },
  {
   "cell_type": "code",
   "execution_count": 60,
   "metadata": {},
   "outputs": [],
   "source": [
    "conts = _flatten_ts(dls_target.train_ds.conts)\n",
    "ys = _flatten_ts(dls_target.train_ds.ys)\n",
    "\n",
    "gbrt = GradientBoostingRegressor(n_estimators=20)\n",
    "gbrt = gbrt.fit(to_np(conts), to_np(ys).ravel())\n",
    "gbrt_torch = TorchSklearnWrapper(gbrt)"
   ]
  },
  {
   "cell_type": "code",
   "execution_count": 62,
   "metadata": {},
   "outputs": [
    {
     "name": "stdout",
     "output_type": "stream",
     "text": [
      "2 tensor(0.1561, dtype=torch.float64)\n"
     ]
    }
   ],
   "source": [
    "eta = 2\n",
    "csge_model = CSGE(source_models=[target_learner0.model, target_learner1.model, gbrt_torch],\n",
    "                  local_error_estimator=LocalErrorPredictor(3),\n",
    "                 eta_global=eta, eta_local=eta, eta_time=eta,\n",
    "                  is_timeseries_data=True, is_timeseries_model=True, \n",
    "                  ts_length=24)\n",
    "\n",
    "csge_model.fit(dls_target, ds_idx=0)\n",
    "\n",
    "yhat, target = csge_model.predict(dls_target, ds_idx=1)\n",
    "\n",
    "print(eta, ((targets.ravel()-yhat.ravel())**2).mean()**0.5)"
   ]
  },
  {
   "cell_type": "code",
   "execution_count": 63,
   "metadata": {},
   "outputs": [
    {
     "name": "stdout",
     "output_type": "stream",
     "text": [
      "0.8 tensor(0.1602, dtype=torch.float64)\n",
      "0.9 tensor(0.1612, dtype=torch.float64)\n",
      "1 tensor(0.1612, dtype=torch.float64)\n",
      "2 tensor(0.1653, dtype=torch.float64)\n",
      "4 tensor(0.1654, dtype=torch.float64)\n",
      "6 tensor(0.1691, dtype=torch.float64)\n",
      "8 tensor(0.1703, dtype=torch.float64)\n",
      "10 tensor(0.1705, dtype=torch.float64)\n",
      "12 tensor(0.1684, dtype=torch.float64)\n",
      "16 tensor(0.1750, dtype=torch.float64)\n"
     ]
    }
   ],
   "source": [
    "for eta in [0.8,0.9,1,2,4,6,8,10,12,16]:\n",
    "    csge_model = CSGE(source_models=[target_learner0.model, target_learner1.model],\n",
    "                      local_error_estimator=LocalErrorPredictor(2),\n",
    "                     eta_global=eta, eta_local=eta, eta_time=eta,\n",
    "                      is_timeseries_data=True, is_timeseries_model=True, \n",
    "                      ts_length=24)\n",
    "\n",
    "    csge_model.fit(dls_target, ds_idx=0)\n",
    "       \n",
    "    yhat, target = csge_model.predict(dls_target, ds_idx=1)\n",
    "#     target, yhat = filter_preds(target.ravel(), yhat.ravel())\n",
    "    print(eta, ((targets.ravel()-yhat.ravel())**2).mean()**0.5)"
   ]
  },
  {
   "cell_type": "code",
   "execution_count": 64,
   "metadata": {},
   "outputs": [
    {
     "name": "stdout",
     "output_type": "stream",
     "text": [
      "0.8 tensor(0.1744, dtype=torch.float64)\n",
      "0.9 tensor(0.1742, dtype=torch.float64)\n",
      "1 tensor(0.1741, dtype=torch.float64)\n",
      "2 tensor(0.1726, dtype=torch.float64)\n",
      "4 tensor(0.1706, dtype=torch.float64)\n",
      "6 tensor(0.1696, dtype=torch.float64)\n",
      "8 tensor(0.1691, dtype=torch.float64)\n",
      "10 tensor(0.1688, dtype=torch.float64)\n",
      "12 tensor(0.1687, dtype=torch.float64)\n",
      "14 tensor(0.1687, dtype=torch.float64)\n",
      "16 tensor(0.1687, dtype=torch.float64)\n"
     ]
    }
   ],
   "source": [
    "for eta in [0.8,0.9,1,2,4,6,8,10,12,14,16]:\n",
    "    set_seed(42)\n",
    "\n",
    "    csge_model = CSGE(source_models=[learn_source0.model, learn_source1.model],\n",
    "                      local_error_estimator=LocalErrorPredictor(2),\n",
    "                     eta_global=eta, eta_local=eta, eta_time=eta,\n",
    "                      is_timeseries_data=True, is_timeseries_model=True, \n",
    "                      ts_length=24)\n",
    "\n",
    "    csge_model.fit(dls_target, ds_idx=0)\n",
    "    \n",
    "    yhat, targets = csge_model.predict(dls_target, ds_idx=1)\n",
    "#     target, yhat = filter_preds(target.ravel(), yhat.ravel())\n",
    "    print(eta, ((targets.ravel()-yhat.ravel())**2).mean()**0.5)"
   ]
  },
  {
   "cell_type": "code",
   "execution_count": 65,
   "metadata": {},
   "outputs": [
    {
     "data": {
      "text/html": [
       "<table border=\"1\" class=\"dataframe\">\n",
       "  <thead>\n",
       "    <tr style=\"text-align: left;\">\n",
       "      <th>epoch</th>\n",
       "      <th>train_loss</th>\n",
       "      <th>valid_loss</th>\n",
       "      <th>_rmse</th>\n",
       "      <th>time</th>\n",
       "    </tr>\n",
       "  </thead>\n",
       "  <tbody>\n",
       "    <tr>\n",
       "      <td>0</td>\n",
       "      <td>0.051758</td>\n",
       "      <td>0.019502</td>\n",
       "      <td>0.139648</td>\n",
       "      <td>00:00</td>\n",
       "    </tr>\n",
       "  </tbody>\n",
       "</table>"
      ],
      "text/plain": [
       "<IPython.core.display.HTML object>"
      ]
     },
     "metadata": {},
     "output_type": "display_data"
    },
    {
     "name": "stdout",
     "output_type": "stream",
     "text": [
      "Parameter containing:\n",
      "tensor([3.9823], requires_grad=True) Parameter containing:\n",
      "tensor([4.3439], requires_grad=True) Parameter containing:\n",
      "tensor([4.1557], requires_grad=True)\n"
     ]
    }
   ],
   "source": [
    "freeze(learn_source0.model)\n",
    "freeze(learn_source1.model)\n",
    "source_models = [learn_source0.model, learn_source1.model]\n",
    "local_error_estimator  = LocalErrorPredictor(len(source_models), use_elm=True, n_hidden=20)\n",
    "\n",
    "csge_model = CSGE(source_models=source_models,\n",
    "                  local_error_estimator=local_error_estimator,\n",
    "                     eta_global=2, eta_local=2, eta_time=2,\n",
    "                      is_timeseries_data=True, is_timeseries_model=True, \n",
    "                      ts_length=24)\n",
    "csge_model.fit(dls_target, ds_idx=0)\n",
    "\n",
    "dls_target_re = copy.deepcopy(dls_target)\n",
    "dls_target_re[0].bs=16\n",
    "csge_learner = RenewableTimeseriesLearner(dls_target_re, csge_model, metrics=rmse)\n",
    "csge_learner.fit(1, lr=0.5)\n",
    "print(csge_model.eta_global,csge_model.eta_local, csge_model.eta_time)"
   ]
  },
  {
   "cell_type": "code",
   "execution_count": 66,
   "metadata": {},
   "outputs": [
    {
     "data": {
      "text/html": [
       "<table border=\"1\" class=\"dataframe\">\n",
       "  <thead>\n",
       "    <tr style=\"text-align: left;\">\n",
       "      <th>epoch</th>\n",
       "      <th>train_loss</th>\n",
       "      <th>valid_loss</th>\n",
       "      <th>_rmse</th>\n",
       "      <th>time</th>\n",
       "    </tr>\n",
       "  </thead>\n",
       "  <tbody>\n",
       "    <tr>\n",
       "      <td>0</td>\n",
       "      <td>0.050678</td>\n",
       "      <td>0.018557</td>\n",
       "      <td>0.136224</td>\n",
       "      <td>00:00</td>\n",
       "    </tr>\n",
       "  </tbody>\n",
       "</table>"
      ],
      "text/plain": [
       "<IPython.core.display.HTML object>"
      ]
     },
     "metadata": {},
     "output_type": "display_data"
    },
    {
     "name": "stdout",
     "output_type": "stream",
     "text": [
      "Parameter containing:\n",
      "tensor([3.8335], requires_grad=True) Parameter containing:\n",
      "tensor([4.6167], requires_grad=True) Parameter containing:\n",
      "tensor([4.0594], requires_grad=True)\n"
     ]
    }
   ],
   "source": [
    "freeze(learn_source0.model)\n",
    "freeze(learn_source1.model)\n",
    "\n",
    "source_models = [learn_source0.model, learn_source1.model]\n",
    "#  local error based on knn and pca\n",
    "local_error_estimator  = simple_local_error_estimator()\n",
    "\n",
    "csge_model = CSGE(source_models=source_models,\n",
    "                  local_error_estimator=local_error_estimator,\n",
    "                     eta_global=2, eta_local=2, eta_time=2,\n",
    "                      is_timeseries_data=True, is_timeseries_model=True, \n",
    "                      ts_length=24)\n",
    "csge_model.fit(dls_target, ds_idx=0)\n",
    "\n",
    "dls_target_re = copy.deepcopy(dls_target)\n",
    "dls_target_re[0].bs=16\n",
    "csge_learner = RenewableTimeseriesLearner(dls_target_re, csge_model, metrics=rmse)\n",
    "csge_learner.fit(1, lr=0.5)\n",
    "print(csge_model.eta_global,csge_model.eta_local, csge_model.eta_time)"
   ]
  },
  {
   "cell_type": "code",
   "execution_count": 67,
   "metadata": {},
   "outputs": [
    {
     "data": {
      "text/html": [
       "<table border=\"1\" class=\"dataframe\">\n",
       "  <thead>\n",
       "    <tr style=\"text-align: left;\">\n",
       "      <th>epoch</th>\n",
       "      <th>train_loss</th>\n",
       "      <th>valid_loss</th>\n",
       "      <th>_rmse</th>\n",
       "      <th>time</th>\n",
       "    </tr>\n",
       "  </thead>\n",
       "  <tbody>\n",
       "    <tr>\n",
       "      <td>0</td>\n",
       "      <td>0.051962</td>\n",
       "      <td>0.019271</td>\n",
       "      <td>0.138819</td>\n",
       "      <td>00:00</td>\n",
       "    </tr>\n",
       "  </tbody>\n",
       "</table>"
      ],
      "text/plain": [
       "<IPython.core.display.HTML object>"
      ]
     },
     "metadata": {},
     "output_type": "display_data"
    },
    {
     "name": "stdout",
     "output_type": "stream",
     "text": [
      "Parameter containing:\n",
      "tensor([4.0568], requires_grad=True) Parameter containing:\n",
      "tensor([4.3266], requires_grad=True) Parameter containing:\n",
      "tensor([4.1984], requires_grad=True)\n"
     ]
    }
   ],
   "source": [
    "freeze(learn_source0.model)\n",
    "freeze(learn_source1.model)\n",
    "\n",
    "source_models = [learn_source0.model, learn_source1.model]\n",
    "local_error_estimator  = LocalErrorPredictor(len(source_models), use_elm=False)\n",
    "\n",
    "csge_model = CSGE(source_models=source_models,\n",
    "                  local_error_estimator=local_error_estimator,\n",
    "                     eta_global=2, eta_local=2, eta_time=2,\n",
    "                      is_timeseries_data=True, is_timeseries_model=True, \n",
    "                      ts_length=24)\n",
    "csge_model.fit(dls_target, ds_idx=0)\n",
    "\n",
    "dls_target_re = copy.deepcopy(dls_target)\n",
    "dls_target_re[0].bs=16\n",
    "csge_learner = RenewableTimeseriesLearner(dls_target_re, csge_model, metrics=rmse)\n",
    "csge_learner.fit(1, lr=0.5)\n",
    "print(csge_model.eta_global,csge_model.eta_local, csge_model.eta_time)"
   ]
  },
  {
   "cell_type": "code",
   "execution_count": 68,
   "metadata": {},
   "outputs": [
    {
     "name": "stdout",
     "output_type": "stream",
     "text": [
      "Before training\n",
      "Parameter containing:\n",
      "tensor([[[-0.1195],\n",
      "         [ 0.2878],\n",
      "         [-0.0852],\n",
      "         [ 0.1717],\n",
      "         [-0.0188]]], requires_grad=True)\n"
     ]
    },
    {
     "data": {
      "text/html": [
       "<table border=\"1\" class=\"dataframe\">\n",
       "  <thead>\n",
       "    <tr style=\"text-align: left;\">\n",
       "      <th>epoch</th>\n",
       "      <th>train_loss</th>\n",
       "      <th>valid_loss</th>\n",
       "      <th>_rmse</th>\n",
       "      <th>time</th>\n",
       "    </tr>\n",
       "  </thead>\n",
       "  <tbody>\n",
       "    <tr>\n",
       "      <td>0</td>\n",
       "      <td>0.053718</td>\n",
       "      <td>0.018461</td>\n",
       "      <td>0.135871</td>\n",
       "      <td>00:00</td>\n",
       "    </tr>\n",
       "  </tbody>\n",
       "</table>"
      ],
      "text/plain": [
       "<IPython.core.display.HTML object>"
      ]
     },
     "metadata": {},
     "output_type": "display_data"
    },
    {
     "name": "stdout",
     "output_type": "stream",
     "text": [
      "After training\n",
      "Parameter containing:\n",
      "tensor([[[-0.1037],\n",
      "         [ 0.3845],\n",
      "         [-0.0922],\n",
      "         [ 0.0147],\n",
      "         [ 0.1446]]], requires_grad=True)\n"
     ]
    }
   ],
   "source": [
    "import copy\n",
    "s0 = copy.deepcopy(learn_source0.model)\n",
    "s1 = copy.deepcopy(learn_source1.model)\n",
    "freeze(s0)\n",
    "freeze(s1)\n",
    "unfreeze(s0.layers.temporal_blocks[-1])\n",
    "\n",
    "source_models = [s0, s1]\n",
    "print(\"Before training\")\n",
    "print(s0.layers.temporal_blocks[-1].downsample.weight)\n",
    "\n",
    "local_error_estimator  = LocalErrorPredictor(len(source_models), use_elm=False)\n",
    "local_error_estimator = simple_local_error_estimator()\n",
    "csge_model = CSGE(source_models=source_models,\n",
    "                  local_error_estimator=local_error_estimator,\n",
    "                     eta_global=2, eta_local=2, eta_time=2,\n",
    "                      is_timeseries_data=True, is_timeseries_model=True, \n",
    "                      ts_length=24)\n",
    "csge_model.fit(dls_target, ds_idx=0)\n",
    "\n",
    "dls_target_re = copy.deepcopy(dls_target)\n",
    "dls_target_re[0].bs=16\n",
    "csge_learner = RenewableTimeseriesLearner(dls_target_re, csge_model, metrics=rmse)\n",
    "csge_learner.unfreeze()\n",
    "csge_learner.fit(1, lr=1e-1)\n",
    "print(\"After training\")\n",
    "print(csge_learner.model.source_models[0].layers.temporal_blocks[-1].downsample.weight)"
   ]
  }
 ],
 "metadata": {
  "kernelspec": {
   "display_name": "Python 3 (ipykernel)",
   "language": "python",
   "name": "python3"
  },
  "language_info": {
   "codemirror_mode": {
    "name": "ipython",
    "version": 3
   },
   "file_extension": ".py",
   "mimetype": "text/x-python",
   "name": "python",
   "nbconvert_exporter": "python",
   "pygments_lexer": "ipython3",
   "version": "3.8.10"
  }
 },
 "nbformat": 4,
 "nbformat_minor": 2
}
