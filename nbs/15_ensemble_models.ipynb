{
 "cells": [
  {
   "cell_type": "code",
   "execution_count": null,
   "metadata": {},
   "outputs": [],
   "source": [
    "# default_exp models.ensembles"
   ]
  },
  {
   "cell_type": "markdown",
   "metadata": {},
   "source": [
    "# models.ensembles\n",
    "> API details."
   ]
  },
  {
   "cell_type": "code",
   "execution_count": null,
   "metadata": {},
   "outputs": [],
   "source": [
    "# export\n",
    "import os\n",
    "os.environ[\"CUDA_VISIBLE_DEVICES\"] = \"\"\n",
    "import numpy as np\n",
    "import torch\n",
    "from torch import nn\n",
    "from fastrenewables.tabular.model import *\n",
    "from fastrenewables.timeseries.model import *\n",
    "from fastai.tabular.all import *\n",
    "from torch.autograd import Variable\n",
    "from sklearn.datasets import make_regression\n",
    "from fastai.learner import *\n",
    "from fastrenewables.utils_pytorch import *\n",
    "import copy\n",
    "from fastrenewables.timeseries.model import *\n",
    "from fastrenewables.baselines import BayesLinReg, ELM\n",
    "from fastrenewables.models.transfermodels import *\n",
    "from fastrenewables.tabular.learner import *\n",
    "from fastrenewables.timeseries.learner import *\n",
    "from sklearn.base import BaseEstimator\n",
    "import numpy as np"
   ]
  },
  {
   "cell_type": "markdown",
   "metadata": {},
   "source": [
    "There are a number of different possibilities for ensembling/weighting in timeseries. The following functions cover those relevant for fastrenewables.\n",
    "\n",
    "The most simple one, will we have $N$ predictions with a forecast horizon of 1 by $k$ ensemble members.\n",
    "Respectively, the prediction has the shape $N\\times k$ or alternatively $N\\times k \\times 1$. Or alternatively we have an ensemble weight for $N\\times k \\times t$, so for each forecast horizon and and sample we have an weight. "
   ]
  },
  {
   "cell_type": "code",
   "execution_count": null,
   "metadata": {},
   "outputs": [],
   "source": [
    "#export\n",
    "def normalize_weight(ensemble_weight):\n",
    "    \"\"\"\n",
    "    Let N be the number of samples, k the number of ensembles, and\n",
    "    t be the forecast horizon.\n",
    "    In case of an input array of dimension k, it is reshaped to k x 1, assuming a single forecast horizon.\n",
    "    In case of a k x t array we normalize for each forecast horizon t acrross all ensmeble members.\n",
    "    In case of Nxkxt we also normalise accross all members for each horizon.\n",
    "    \"\"\"\n",
    "    \n",
    "    if len(ensemble_weight.shape) == 1:\n",
    "        ensemble_weight = ensemble_weight.reshape(len(ensemble_weight), 1)\n",
    "            \n",
    "    if len(ensemble_weight.shape) == 2:\n",
    "        ensemble_weight = ensemble_weight/ensemble_weight.sum(0)\n",
    "    elif len(ensemble_weight.shape) == 3:\n",
    "        ensemble_weight = (ensemble_weight/ensemble_weight.sum(1)[:,np.newaxis,:])\n",
    "        \n",
    "    return ensemble_weight"
   ]
  },
  {
   "cell_type": "code",
   "execution_count": null,
   "metadata": {},
   "outputs": [],
   "source": [
    "#export\n",
    "def weight_preds(preds, ensemble_weight):\n",
    "    \"\"\"\n",
    "        Weight the predictions by the ensemble weights, depeneding on the shape.\n",
    "    \"\"\"\n",
    "    ensemble_weight = ensemble_weight\n",
    "    if len(ensemble_weight.shape) == 1:\n",
    "        ensemble_weight = ensemble_weight.reshape(len(ensemble_weight), 1)\n",
    "    if len(preds.shape) == 1:\n",
    "        preds = preds.reshape(len(preds), 1)\n",
    "    if len(preds.shape) == 2:\n",
    "        preds = preds[:,:,np.newaxis]\n",
    "        \n",
    "    if len(ensemble_weight.shape) == 2:\n",
    "        preds = ((preds*ensemble_weight).sum(1))\n",
    "    elif len(ensemble_weight.shape) == 3:\n",
    "        preds = (preds*ensemble_weight).sum(1)\n",
    "    return preds"
   ]
  },
  {
   "cell_type": "markdown",
   "metadata": {},
   "source": [
    "The following tests cover the different scenarios."
   ]
  },
  {
   "cell_type": "code",
   "execution_count": null,
   "metadata": {},
   "outputs": [],
   "source": [
    "N,k,t = 100,3,1\n",
    "yhat = np.random.random((N,k,t))\n",
    "ensemble_weight = np.random.random((k,t))\n",
    "test_close(normalize_weight(ensemble_weight).sum(0), np.array(1.))\n",
    "normalized_weight = normalize_weight(ensemble_weight.ravel())\n",
    "test_close(normalized_weight.sum(0), np.array(1.))\n",
    "test_eq(weight_preds(yhat, normalized_weight).shape, (100,1))\n",
    "\n",
    "N,k,t = 100,3,5\n",
    "ensemble_weight = np.random.random((k,t))\n",
    "yhat = np.random.random((N,k,t))\n",
    "# when summing accross all, \n",
    "# the normalized weight should be equal to the number forecast horizons\n",
    "normalized_weight = normalize_weight(ensemble_weight)\n",
    "test_close(normalized_weight.sum(), t)\n",
    "test_eq(weight_preds(yhat, normalized_weight).shape, (100,5))\n",
    "\n",
    "N,k,t = 5,3,4\n",
    "yhat = np.random.random((N,k,t))\n",
    "ensemble_weight = np.random.random((N, k, t))\n",
    "# for each forecast horizon for each samples it should sum up to one.\n",
    "normalized_weight = normalize_weight(ensemble_weight)\n",
    "test_close(normalized_weight.sum(1), np.ones((N,t)))\n",
    "# we should get the weighted result by Nxt\n",
    "test_eq(weight_preds(yhat, normalized_weight).shape, (5,4))\n",
    "\n",
    "\n",
    "N,k,t = 40,2,1\n",
    "yhat = np.random.random((N,k,t)).reshape((N,k))\n",
    "ensemble_weight = np.random.random((k,t))\n",
    "test_close(normalize_weight(ensemble_weight).sum(0), np.array(1.))\n",
    "normalized_weight = normalize_weight(ensemble_weight.ravel())\n",
    "test_eq(weight_preds(yhat, normalized_weight).shape, (40,1))"
   ]
  },
  {
   "cell_type": "markdown",
   "metadata": {},
   "source": [
    "# Source Models"
   ]
  },
  {
   "cell_type": "markdown",
   "metadata": {},
   "source": [
    "## Prep Data"
   ]
  },
  {
   "cell_type": "code",
   "execution_count": null,
   "metadata": {},
   "outputs": [],
   "source": [
    "def generate_single_dataset(n_samples, start, end, bias, coef, noise_factor=0.3):\n",
    "\n",
    "    X = np.random.uniform(low=start, high=end,size=n_samples)\n",
    "    y = np.sin(X*coef*2*np.pi) + np.random.randn(X.shape[0])*noise_factor+bias\n",
    "    \n",
    "    return X,y"
   ]
  },
  {
   "cell_type": "code",
   "execution_count": null,
   "metadata": {},
   "outputs": [],
   "source": [
    "def generate_all_tasks(n_samples=200):\n",
    "    starts = [0,  0, 0]\n",
    "    ends = [4.1,  3.9, 3.7]\n",
    "    coefs = [3.4,  4, 4.5]\n",
    "    biases = [0.1,  0.1, 0.1]\n",
    "    n_samples = [n_samples, n_samples, n_samples]\n",
    "    \n",
    "    df_tasks = []\n",
    "    for task_id in range(len(starts)):\n",
    "        start, end, bias, coef = starts[task_id], ends[task_id], coefs[task_id], biases[task_id]\n",
    "        X,y = generate_single_dataset(n_samples[task_id], start, end, bias, coef, noise_factor=0.05)\n",
    "        df_task = pd.DataFrame({\"X\": X.ravel(), \"y\":y.ravel()})\n",
    "        df_task[\"TaskID\"] = task_id\n",
    "        df_tasks.append(df_task)\n",
    "    return pd.concat(df_tasks)"
   ]
  },
  {
   "cell_type": "code",
   "execution_count": null,
   "metadata": {},
   "outputs": [],
   "source": [
    "def get_source_task(df):\n",
    "    df_source =  df[(df.TaskID == 0) ]\n",
    "    dls_source_01 = TabularDataLoaders.from_df(df_source, cont_names=\"X\", y_names=\"y\", \n",
    "                                     deivce=\"cpu\", procs=Normalize, bs=10)\n",
    "    \n",
    "    df_source =  df[(df.TaskID == 1)]\n",
    "    dls_source_02 = TabularDataLoaders.from_df(df_source, cont_names=\"X\", y_names=\"y\", \n",
    "                                     deivce=\"cpu\", procs=Normalize, bs=10)\n",
    "    \n",
    "    return dls_source_01, dls_source_02\n",
    "    \n",
    "def get_target_task(df):\n",
    "    df_target =  df[df.TaskID == 2]\n",
    "    dls = TabularDataLoaders.from_df(df_target, cont_names=\"X\", y_names=\"y\", \n",
    "                                     deivce=\"cpu\", procs=Normalize, bs=10)\n",
    "    return dls"
   ]
  },
  {
   "cell_type": "code",
   "execution_count": null,
   "metadata": {},
   "outputs": [],
   "source": [
    "df = generate_all_tasks()"
   ]
  },
  {
   "cell_type": "code",
   "execution_count": null,
   "metadata": {},
   "outputs": [
    {
     "data": {
      "text/plain": [
       "<matplotlib.collections.PathCollection at 0x7f82bcbfcac0>"
      ]
     },
     "execution_count": null,
     "metadata": {},
     "output_type": "execute_result"
    },
    {
     "data": {
      "image/png": "[encoded data removed]",
      "text/plain": [
       "<Figure size 432x288 with 1 Axes>"
      ]
     },
     "metadata": {
      "needs_background": "light"
     },
     "output_type": "display_data"
    }
   ],
   "source": [
    "plt.scatter(df.X, df.y, c=df.TaskID)"
   ]
  },
  {
   "cell_type": "code",
   "execution_count": null,
   "metadata": {},
   "outputs": [],
   "source": [
    "dls_source_01, dls_source_02 = get_source_task(df)\n",
    "dls_target = get_target_task(df)"
   ]
  },
  {
   "cell_type": "markdown",
   "metadata": {},
   "source": [
    "## Train Source Models"
   ]
  },
  {
   "cell_type": "code",
   "execution_count": null,
   "metadata": {},
   "outputs": [
    {
     "data": {
      "text/html": [
       "<table border=\"1\" class=\"dataframe\">\n",
       "  <thead>\n",
       "    <tr style=\"text-align: left;\">\n",
       "      <th>epoch</th>\n",
       "      <th>train_loss</th>\n",
       "      <th>valid_loss</th>\n",
       "      <th>_rmse</th>\n",
       "      <th>time</th>\n",
       "    </tr>\n",
       "  </thead>\n",
       "  <tbody>\n",
       "    <tr>\n",
       "      <td>0</td>\n",
       "      <td>6.432735</td>\n",
       "      <td>0.754278</td>\n",
       "      <td>0.868492</td>\n",
       "      <td>00:00</td>\n",
       "    </tr>\n",
       "    <tr>\n",
       "      <td>1</td>\n",
       "      <td>3.176492</td>\n",
       "      <td>0.607088</td>\n",
       "      <td>0.779158</td>\n",
       "      <td>00:00</td>\n",
       "    </tr>\n",
       "    <tr>\n",
       "      <td>2</td>\n",
       "      <td>1.826525</td>\n",
       "      <td>0.027260</td>\n",
       "      <td>0.165107</td>\n",
       "      <td>00:00</td>\n",
       "    </tr>\n",
       "    <tr>\n",
       "      <td>3</td>\n",
       "      <td>1.148280</td>\n",
       "      <td>0.009614</td>\n",
       "      <td>0.098048</td>\n",
       "      <td>00:00</td>\n",
       "    </tr>\n",
       "    <tr>\n",
       "      <td>4</td>\n",
       "      <td>0.762176</td>\n",
       "      <td>0.016209</td>\n",
       "      <td>0.127315</td>\n",
       "      <td>00:00</td>\n",
       "    </tr>\n",
       "    <tr>\n",
       "      <td>5</td>\n",
       "      <td>0.525207</td>\n",
       "      <td>0.021040</td>\n",
       "      <td>0.145051</td>\n",
       "      <td>00:00</td>\n",
       "    </tr>\n",
       "    <tr>\n",
       "      <td>6</td>\n",
       "      <td>0.372846</td>\n",
       "      <td>0.014523</td>\n",
       "      <td>0.120511</td>\n",
       "      <td>00:00</td>\n",
       "    </tr>\n",
       "    <tr>\n",
       "      <td>7</td>\n",
       "      <td>0.267032</td>\n",
       "      <td>0.009698</td>\n",
       "      <td>0.098478</td>\n",
       "      <td>00:00</td>\n",
       "    </tr>\n",
       "    <tr>\n",
       "      <td>8</td>\n",
       "      <td>0.196054</td>\n",
       "      <td>0.012621</td>\n",
       "      <td>0.112345</td>\n",
       "      <td>00:00</td>\n",
       "    </tr>\n",
       "    <tr>\n",
       "      <td>9</td>\n",
       "      <td>0.148374</td>\n",
       "      <td>0.030688</td>\n",
       "      <td>0.175180</td>\n",
       "      <td>00:00</td>\n",
       "    </tr>\n",
       "  </tbody>\n",
       "</table>"
      ],
      "text/plain": [
       "<IPython.core.display.HTML object>"
      ]
     },
     "metadata": {},
     "output_type": "display_data"
    }
   ],
   "source": [
    "set_seed(41, reproducible=True)\n",
    "source_model = MultiLayerPerceptron([1, 100, 50, 10, 1], use_bn=True, bn_cont=True)\n",
    "learn_source_01 = Learner(dls_source_01, source_model, metrics=rmse)\n",
    "learn_source_01.fit(10, lr=0.05)"
   ]
  },
  {
   "cell_type": "code",
   "execution_count": null,
   "metadata": {},
   "outputs": [
    {
     "data": {
      "text/html": [
       "<table border=\"1\" class=\"dataframe\">\n",
       "  <thead>\n",
       "    <tr style=\"text-align: left;\">\n",
       "      <th>epoch</th>\n",
       "      <th>train_loss</th>\n",
       "      <th>valid_loss</th>\n",
       "      <th>_rmse</th>\n",
       "      <th>time</th>\n",
       "    </tr>\n",
       "  </thead>\n",
       "  <tbody>\n",
       "    <tr>\n",
       "      <td>0</td>\n",
       "      <td>18.773550</td>\n",
       "      <td>11.559833</td>\n",
       "      <td>3.399975</td>\n",
       "      <td>00:00</td>\n",
       "    </tr>\n",
       "    <tr>\n",
       "      <td>1</td>\n",
       "      <td>9.280488</td>\n",
       "      <td>0.499872</td>\n",
       "      <td>0.707016</td>\n",
       "      <td>00:00</td>\n",
       "    </tr>\n",
       "    <tr>\n",
       "      <td>2</td>\n",
       "      <td>5.413975</td>\n",
       "      <td>0.102577</td>\n",
       "      <td>0.320276</td>\n",
       "      <td>00:00</td>\n",
       "    </tr>\n",
       "    <tr>\n",
       "      <td>3</td>\n",
       "      <td>3.410022</td>\n",
       "      <td>0.014606</td>\n",
       "      <td>0.120856</td>\n",
       "      <td>00:00</td>\n",
       "    </tr>\n",
       "    <tr>\n",
       "      <td>4</td>\n",
       "      <td>2.250854</td>\n",
       "      <td>0.011857</td>\n",
       "      <td>0.108889</td>\n",
       "      <td>00:00</td>\n",
       "    </tr>\n",
       "    <tr>\n",
       "      <td>5</td>\n",
       "      <td>1.536420</td>\n",
       "      <td>0.016925</td>\n",
       "      <td>0.130095</td>\n",
       "      <td>00:00</td>\n",
       "    </tr>\n",
       "    <tr>\n",
       "      <td>6</td>\n",
       "      <td>1.074813</td>\n",
       "      <td>0.014082</td>\n",
       "      <td>0.118669</td>\n",
       "      <td>00:00</td>\n",
       "    </tr>\n",
       "    <tr>\n",
       "      <td>7</td>\n",
       "      <td>0.762232</td>\n",
       "      <td>0.014038</td>\n",
       "      <td>0.118481</td>\n",
       "      <td>00:00</td>\n",
       "    </tr>\n",
       "    <tr>\n",
       "      <td>8</td>\n",
       "      <td>0.548200</td>\n",
       "      <td>0.021880</td>\n",
       "      <td>0.147919</td>\n",
       "      <td>00:00</td>\n",
       "    </tr>\n",
       "    <tr>\n",
       "      <td>9</td>\n",
       "      <td>0.400647</td>\n",
       "      <td>0.023489</td>\n",
       "      <td>0.153260</td>\n",
       "      <td>00:00</td>\n",
       "    </tr>\n",
       "    <tr>\n",
       "      <td>10</td>\n",
       "      <td>0.298572</td>\n",
       "      <td>0.034878</td>\n",
       "      <td>0.186756</td>\n",
       "      <td>00:00</td>\n",
       "    </tr>\n",
       "    <tr>\n",
       "      <td>11</td>\n",
       "      <td>0.226872</td>\n",
       "      <td>0.012652</td>\n",
       "      <td>0.112480</td>\n",
       "      <td>00:00</td>\n",
       "    </tr>\n",
       "    <tr>\n",
       "      <td>12</td>\n",
       "      <td>0.178271</td>\n",
       "      <td>0.049214</td>\n",
       "      <td>0.221842</td>\n",
       "      <td>00:00</td>\n",
       "    </tr>\n",
       "    <tr>\n",
       "      <td>13</td>\n",
       "      <td>0.138229</td>\n",
       "      <td>0.012074</td>\n",
       "      <td>0.109883</td>\n",
       "      <td>00:00</td>\n",
       "    </tr>\n",
       "    <tr>\n",
       "      <td>14</td>\n",
       "      <td>0.107415</td>\n",
       "      <td>0.014750</td>\n",
       "      <td>0.121449</td>\n",
       "      <td>00:00</td>\n",
       "    </tr>\n",
       "  </tbody>\n",
       "</table>"
      ],
      "text/plain": [
       "<IPython.core.display.HTML object>"
      ]
     },
     "metadata": {},
     "output_type": "display_data"
    }
   ],
   "source": [
    "set_seed(456, reproducible=True)\n",
    "source_model = MultiLayerPerceptron([1, 100, 50, 10, 1], use_bn=True, bn_cont=True)\n",
    "learn_source_02 = Learner(dls_source_02, source_model, metrics=rmse)\n",
    "learn_source_02.fit(15, lr=0.025)"
   ]
  },
  {
   "cell_type": "code",
   "execution_count": null,
   "metadata": {},
   "outputs": [],
   "source": [
    "elm_source_model_01 = ELM(n_hidden=10, activations=np.sin, \n",
    "                          include_original_features=False,\n",
    "                         prediction_model=BayesLinReg(alpha=100, beta=10, empirical_bayes=False))\n",
    "elm_source_model_01 = elm_source_model_01.fit(dls_source_01.conts.values, dls_source_01.ys.values.ravel())\n",
    "\n",
    "elm_source_model_02 = ELM(n_hidden=50, include_original_features=False,\n",
    "                         prediction_model=BayesLinReg(alpha=1, beta=1, use_fixed_point=True))\n",
    "elm_source_model_02 = elm_source_model_02.fit(dls_source_02.conts.values, dls_source_02.ys.values)"
   ]
  },
  {
   "cell_type": "markdown",
   "metadata": {},
   "source": [
    "## Eval Source Model"
   ]
  },
  {
   "cell_type": "code",
   "execution_count": null,
   "metadata": {},
   "outputs": [
    {
     "data": {
      "text/html": [],
      "text/plain": [
       "<IPython.core.display.HTML object>"
      ]
     },
     "metadata": {},
     "output_type": "display_data"
    },
    {
     "data": {
      "text/html": [],
      "text/plain": [
       "<IPython.core.display.HTML object>"
      ]
     },
     "metadata": {},
     "output_type": "display_data"
    },
    {
     "data": {
      "image/png": "[encoded data removed]",
      "text/plain": [
       "<Figure size 432x288 with 1 Axes>"
      ]
     },
     "metadata": {
      "needs_background": "light"
     },
     "output_type": "display_data"
    }
   ],
   "source": [
    "targets, preds = learn_source_01.get_preds(ds_idx=0)\n",
    "plt.scatter(dls_source_01.train_ds.items.X, preds, label=\"preds 01\")\n",
    "plt.scatter(dls_source_01.train_ds.items.X, targets, label=\"targets 01\")\n",
    "\n",
    "targets, preds = learn_source_02.get_preds(ds_idx=0)\n",
    "plt.scatter(dls_source_02.train_ds.items.X, preds, label=\"preds 02\")\n",
    "plt.scatter(dls_source_02.train_ds.items.X, targets, label=\"targets 02\")\n",
    "plt.legend()\n",
    "plt.show()"
   ]
  },
  {
   "cell_type": "markdown",
   "metadata": {},
   "source": [
    "# Target"
   ]
  },
  {
   "cell_type": "markdown",
   "metadata": {},
   "source": [
    "## Adapt source models"
   ]
  },
  {
   "cell_type": "code",
   "execution_count": null,
   "metadata": {},
   "outputs": [],
   "source": [
    "# export\n",
    "def update_single_model(model, dls):\n",
    "    target_model = LinearTransferModel(\n",
    "                    model, num_layers_to_remove=1, \n",
    "                    prediction_model=BayesLinReg(1, 1, use_fixed_point=True))\n",
    "    \n",
    "    target_learner = RenewableLearner(dls, target_model, loss_func=target_model.loss_func, metrics=rmse,)\n",
    "    target_learner.dls[0].bs=len(target_learner.dls.train_ds)\n",
    "    target_learner.fit(1)\n",
    "    \n",
    "    return target_learner.model"
   ]
  },
  {
   "cell_type": "code",
   "execution_count": null,
   "metadata": {},
   "outputs": [
    {
     "data": {
      "text/html": [
       "<table border=\"1\" class=\"dataframe\">\n",
       "  <thead>\n",
       "    <tr style=\"text-align: left;\">\n",
       "      <th>epoch</th>\n",
       "      <th>train_loss</th>\n",
       "      <th>valid_loss</th>\n",
       "      <th>_rmse</th>\n",
       "      <th>time</th>\n",
       "    </tr>\n",
       "  </thead>\n",
       "  <tbody>\n",
       "    <tr>\n",
       "      <td>0</td>\n",
       "      <td>0.000000</td>\n",
       "      <td>0.009757</td>\n",
       "      <td>0.098776</td>\n",
       "      <td>00:00</td>\n",
       "    </tr>\n",
       "  </tbody>\n",
       "</table>"
      ],
      "text/plain": [
       "<IPython.core.display.HTML object>"
      ]
     },
     "metadata": {},
     "output_type": "display_data"
    }
   ],
   "source": [
    "target_model_01 = update_single_model(learn_source_01.model, dls_target)"
   ]
  },
  {
   "cell_type": "code",
   "execution_count": null,
   "metadata": {},
   "outputs": [
    {
     "data": {
      "text/html": [
       "<table border=\"1\" class=\"dataframe\">\n",
       "  <thead>\n",
       "    <tr style=\"text-align: left;\">\n",
       "      <th>epoch</th>\n",
       "      <th>train_loss</th>\n",
       "      <th>valid_loss</th>\n",
       "      <th>_rmse</th>\n",
       "      <th>time</th>\n",
       "    </tr>\n",
       "  </thead>\n",
       "  <tbody>\n",
       "    <tr>\n",
       "      <td>0</td>\n",
       "      <td>0.000000</td>\n",
       "      <td>0.006020</td>\n",
       "      <td>0.077586</td>\n",
       "      <td>00:00</td>\n",
       "    </tr>\n",
       "  </tbody>\n",
       "</table>"
      ],
      "text/plain": [
       "<IPython.core.display.HTML object>"
      ]
     },
     "metadata": {},
     "output_type": "display_data"
    }
   ],
   "source": [
    "target_model_02 = update_single_model(learn_source_02.model, dls_target)"
   ]
  },
  {
   "cell_type": "markdown",
   "metadata": {},
   "source": [
    "## Train Ensemble"
   ]
  },
  {
   "cell_type": "markdown",
   "metadata": {},
   "source": [
    "### Helper Functions"
   ]
  },
  {
   "cell_type": "code",
   "execution_count": null,
   "metadata": {},
   "outputs": [],
   "source": [
    "#export\n",
    "def rank_by_evidence(cats, conts, targets, models, logme=True):\n",
    "    evidences = np.zeros(len(models))\n",
    "    for idx,model in enumerate(models):\n",
    "        if isinstance(model, BaseEstimator):\n",
    "            evidences[idx] = model.log_evidence(to_np(conts), to_np(targets), logme=logme)\n",
    "        else:\n",
    "            evidences[idx] = model.log_evidence(cats, conts, targets, logme=logme)\n",
    "    sort_ids = evidences.argsort()[::-1]\n",
    "    return evidences.reshape(len(models), 1), sort_ids"
   ]
  },
  {
   "cell_type": "code",
   "execution_count": null,
   "metadata": {},
   "outputs": [],
   "source": [
    "# hide\n",
    "models = [target_model_01, target_model_02]\n",
    "cats, conts, targets = convert_to_tensor(dls_target.train_ds)\n",
    "evidences, sort_ids = rank_by_evidence(cats, conts,targets, models)\n",
    "# test_eq(sort_ids, np.array([1,0]))"
   ]
  },
  {
   "cell_type": "code",
   "execution_count": null,
   "metadata": {},
   "outputs": [],
   "source": [
    "# export\n",
    "def get_posterioirs(cats, conts, targets, models):\n",
    "    posteriors = []\n",
    "    ts_length = 1\n",
    "    if len(conts.shape)==3:\n",
    "        ts_length = conts.shape[2]\n",
    "        \n",
    "    for idx,model in enumerate(models):\n",
    "        if isinstance(model, BaseEstimator):\n",
    "            posterior = np.exp(model.log_posterior(to_np(conts), to_np(targets)))\n",
    "        else:\n",
    "            posterior = np.exp(model.log_posterior(cats, conts, targets))\n",
    "        posteriors.append(posterior.reshape(-1,1))\n",
    "    posteriors = np.concatenate(posteriors, axis=1)\n",
    "    return posteriors.reshape(len(models),ts_length)"
   ]
  },
  {
   "cell_type": "code",
   "execution_count": null,
   "metadata": {},
   "outputs": [],
   "source": [
    "# hide\n",
    "models = [target_model_01, target_model_02]\n",
    "cats, conts, targets = convert_to_tensor(dls_target.train_ds)\n",
    "posteriors = get_posterioirs(cats, conts, targets,  models)\n",
    "test_eq(posteriors.shape, (2,1))"
   ]
  },
  {
   "cell_type": "code",
   "execution_count": null,
   "metadata": {},
   "outputs": [],
   "source": [
    "# export\n",
    "def get_predictive_uncertainty(cats, conts, models):\n",
    "    yhats,ystds = [], []\n",
    "    ts_length = 1\n",
    "    if len(conts.shape)==3:\n",
    "        ts_length = conts.shape[2]\n",
    "        \n",
    "    for idx,model in enumerate(models):\n",
    "        if isinstance(model, BaseEstimator):\n",
    "            yhat, ystd = model.predict_proba(to_np(conts))\n",
    "            yhats.append(yhat.reshape(-1,ts_length))\n",
    "            ystds.append(ystd.reshape(-1,ts_length))\n",
    "        else:\n",
    "            yhat, ystd = model.predict_proba(cats, conts)\n",
    "            yhats.append(to_np(yhat).reshape(-1,ts_length))\n",
    "            ystds.append(to_np(ystd).reshape(-1,ts_length))\n",
    "\n",
    "    #  TODO if this working for timersiers?\n",
    "    yhats, ystds = np.concatenate(yhats, axis=1), np.concatenate(ystds, axis=1)\n",
    "    yhats, ystds = yhats.reshape(len(conts),len(models),ts_length), ystds.reshape(len(conts),len(models),ts_length)\n",
    "    y_uncertainty = 1/ystds\n",
    "    \n",
    "    return yhats, y_uncertainty"
   ]
  },
  {
   "cell_type": "code",
   "execution_count": null,
   "metadata": {},
   "outputs": [],
   "source": [
    "# hide\n",
    "models = [target_model_01, target_model_02]\n",
    "cats, conts, targets = convert_to_tensor(dls_target.train_ds)\n",
    "yhats, y_uncertainty = get_predictive_uncertainty(cats, conts, models)\n"
   ]
  },
  {
   "cell_type": "code",
   "execution_count": null,
   "metadata": {},
   "outputs": [],
   "source": [
    "# export\n",
    "def get_preds(cats, conts, models, convert_to_np=True):\n",
    "    yhats, ystds = [], []\n",
    "    ts_length = 1\n",
    "    if len(conts.shape) == 3:\n",
    "        ts_length = conts.shape[2]\n",
    "    for idx, model in enumerate(models):\n",
    "        if isinstance(model, BaseEstimator):\n",
    "            yhat = model.predict(to_np(conts)).reshape(-1, ts_length)\n",
    "            yhats.append(yhat)\n",
    "        elif hasattr(model, \"predict\"):\n",
    "            yhat = model.predict(cats, conts).reshape(-1, ts_length)\n",
    "            if convert_to_np:\n",
    "                yhat = to_np(yhat)\n",
    "            yhats.append(yhat)\n",
    "        elif hasattr(model, \"forward\"):\n",
    "            yhat = model.forward(cats, conts).reshape(-1, ts_length)\n",
    "            if convert_to_np:\n",
    "                yhat = to_np(yhat)\n",
    "            yhats.append(yhat)\n",
    "        else:\n",
    "            raise ValueError(\"Unknown prediction function.\")\n",
    "    if convert_to_np:\n",
    "        yhats = np.concatenate(yhats, axis=1)\n",
    "    else:\n",
    "        yhats = torch.cat(yhats, axis=1)\n",
    "\n",
    "    yhats = yhats.reshape(len(conts), len(models), ts_length)\n",
    "\n",
    "    return yhats"
   ]
  },
  {
   "cell_type": "markdown",
   "metadata": {},
   "source": [
    "### Bayesian Model Averaging"
   ]
  },
  {
   "cell_type": "code",
   "execution_count": null,
   "metadata": {},
   "outputs": [],
   "source": [
    "# export\n",
    "class BayesModelAveraing(nn.Module):\n",
    "    def __init__(self, source_models, \n",
    "                 rank_measure=\"evidence\", \n",
    "                 weighting_strategy=\"evidence\",\n",
    "                 n_best_models=-1,\n",
    "                is_timeseries=False):\n",
    "        \"\"\"\n",
    "            rank_measure [str]: either rmse or logevidence\n",
    "            n_best_models [int]: the n best models w.r.t. rank_measure are taken into account. \n",
    "                                default -1 takes all models\n",
    "        \n",
    "        \"\"\"\n",
    "        super().__init__()\n",
    "        self.source_models = np.array(source_models)\n",
    "        self.rank_measure=rank_measure\n",
    "        \n",
    "        self.weighting_strategy = weighting_strategy\n",
    "        self.n_best_models = n_best_models\n",
    "        self.is_timeseries = is_timeseries\n",
    "        \n",
    "        # fake param so that it can be used with pytorch trainers\n",
    "        self.fake_param=nn.Parameter(torch.zeros((1,1), dtype=torch.float))\n",
    "        self.fake_param.requires_grad =True\n",
    "        \n",
    "        self.conversion_to_tensor = convert_to_tensor_ts if self.is_timeseries else convert_to_tensor\n",
    "        \n",
    "        self.ensemble_weights = None\n",
    "   \n",
    "    def fit_tensors(self, cats, conts, targets):\n",
    "        if self.training:\n",
    "            if self.rank_measure == \"evidence\":\n",
    "                self.rank_measure_values, self.sord_ids = rank_by_evidence(\n",
    "                    cats, conts, targets, self.source_models\n",
    "                )\n",
    "            else:\n",
    "                raise NotImplemented\n",
    "\n",
    "            if self.n_best_models != -1:\n",
    "                self.source_models = self.source_models[\n",
    "                    self.sord_ids[0 : self.n_best_models]\n",
    "                ]\n",
    "                self.rank_measure_values = self.rank_measure_values[\n",
    "                    self.sord_ids[0 : self.n_best_models]\n",
    "                ]\n",
    "\n",
    "        if self.weighting_strategy == \"evidence\":\n",
    "            self.ensemble_weights, _ = rank_by_evidence(\n",
    "                cats, conts, targets, self.source_models\n",
    "            )\n",
    "\n",
    "        elif self.weighting_strategy == \"posterior\":\n",
    "            self.ensemble_weights = get_posterioirs(\n",
    "                cats, conts, targets, self.source_models\n",
    "            )\n",
    "\n",
    "        if self.weighting_strategy != \"uncertainty\":\n",
    "            self.ensemble_weights = normalize_weight(self.ensemble_weights)\n",
    "\n",
    "    def fit(self, dls):\n",
    "        cats, conts, targets = self.conversion_to_tensor(dls.train_ds)\n",
    "        self.fit_tensors(cats, conts, targets)\n",
    "        \n",
    "            \n",
    "    def _predict(self, cats, conts):\n",
    "        if self.weighting_strategy==\"uncertainty\":\n",
    "            yhat, y_uncertainty = get_predictive_uncertainty(cats, conts, self.source_models)\n",
    "            if len(y_uncertainty.shape) == 2:\n",
    "                y_uncertainty = y_uncertainty[:,:, np.newaxis]\n",
    "                \n",
    "            self.ensemble_weights = normalize_weight(y_uncertainty)\n",
    "        else:\n",
    "            yhat = get_preds(cats, conts, self.source_models)\n",
    "        \n",
    "        yhat = weight_preds(yhat, self.ensemble_weights)\n",
    "        \n",
    "        return yhat\n",
    "    \n",
    "    def forward(self, cats, conts):\n",
    "        yhat = self._predict(cats, conts)\n",
    "        \n",
    "        return yhat\n",
    "\n",
    "    def predict(self, dls, ds_idx=0):\n",
    "        ds = dls.train_ds\n",
    "        if ds_idx==1:\n",
    "            ds = dls.valid_ds\n",
    "        \n",
    "        cats, conts, _ = self.conversion_to_tensor(ds)\n",
    "            \n",
    "        yhat = self._predict(cats, conts)\n",
    "        \n",
    "        return yhat   \n",
    "    \n",
    "    def log_evidence(self, dls, ds_idx=0,logme=False):\n",
    "        ds = dls.train_ds\n",
    "        if ds_idx==1:\n",
    "            ds = dls.valid_ds\n",
    "        \n",
    "        cats, conts, targets = self.conversion_to_tensor(ds)\n",
    "        evidences, _ = rank_by_evidence(cats, conts, targets, self.source_models, logme=logme)\n",
    "        \n",
    "        return evidences.mean()\n",
    "        "
   ]
  },
  {
   "cell_type": "code",
   "execution_count": null,
   "metadata": {},
   "outputs": [
    {
     "data": {
      "text/plain": [
       "tensor(0.0842, dtype=torch.float64)"
      ]
     },
     "execution_count": null,
     "metadata": {},
     "output_type": "execute_result"
    }
   ],
   "source": [
    "bma_model = BayesModelAveraing(source_models=[target_model_01, target_model_02], \n",
    "                               weighting_strategy='evidence',\n",
    "                               n_best_models=-1)\n",
    "bma_model.fit(dls_target)\n",
    "cats, conts, targets = convert_to_tensor(dls_target.valid_ds)\n",
    "yhat = bma_model.predict(dls_target, ds_idx=1).shape\n",
    "((targets.ravel()-bma_model.predict(dls_target, ds_idx=1).ravel())**2).mean()**0.5"
   ]
  },
  {
   "cell_type": "code",
   "execution_count": null,
   "metadata": {},
   "outputs": [
    {
     "data": {
      "text/plain": [
       "tensor(0.0776, dtype=torch.float64)"
      ]
     },
     "execution_count": null,
     "metadata": {},
     "output_type": "execute_result"
    }
   ],
   "source": [
    "bma_model = BayesModelAveraing(source_models=[target_model_01, target_model_02], \n",
    "                               weighting_strategy='posterior',\n",
    "                               n_best_models=-1)\n",
    "bma_model.fit(dls_target)\n",
    "cats, conts, targets = convert_to_tensor(dls_target.valid_ds)\n",
    "yhat = bma_model.predict(dls_target, ds_idx=1).shape\n",
    "((targets.ravel()-bma_model.predict(dls_target, ds_idx=1).ravel())**2).mean()**0.5"
   ]
  },
  {
   "cell_type": "code",
   "execution_count": null,
   "metadata": {},
   "outputs": [
    {
     "data": {
      "text/plain": [
       "tensor(0.0839)"
      ]
     },
     "execution_count": null,
     "metadata": {},
     "output_type": "execute_result"
    }
   ],
   "source": [
    "bma_model = BayesModelAveraing(source_models=[target_model_01, target_model_02], \n",
    "                               weighting_strategy='uncertainty',\n",
    "                               n_best_models=-1)\n",
    "bma_model.fit(dls_target)\n",
    "cats, conts, targets = convert_to_tensor(dls_target.valid_ds)\n",
    "yhat = bma_model.predict(dls_target, ds_idx=1)\n",
    "((targets.ravel()-yhat.ravel())**2).mean()**0.5"
   ]
  },
  {
   "cell_type": "markdown",
   "metadata": {},
   "source": [
    "We can also calculate the evidence of the ensemble."
   ]
  },
  {
   "cell_type": "code",
   "execution_count": null,
   "metadata": {},
   "outputs": [
    {
     "data": {
      "text/plain": [
       "32.80098555682608"
      ]
     },
     "execution_count": null,
     "metadata": {},
     "output_type": "execute_result"
    }
   ],
   "source": [
    "bma_model.log_evidence(dls_target, ds_idx=1)"
   ]
  },
  {
   "cell_type": "code",
   "execution_count": null,
   "metadata": {},
   "outputs": [
    {
     "data": {
      "text/plain": [
       "tensor(1.2086, dtype=torch.float64)"
      ]
     },
     "execution_count": null,
     "metadata": {},
     "output_type": "execute_result"
    }
   ],
   "source": [
    "bma_model = BayesModelAveraing(source_models=[elm_source_model_01, elm_source_model_02], \n",
    "                               weighting_strategy='evidence',\n",
    "                               n_best_models=-1)\n",
    "bma_model.fit(dls_target)\n",
    "cats, conts, targets = convert_to_tensor(dls_target.valid_ds)\n",
    "yhat = bma_model.predict(dls_target, ds_idx=1)\n",
    "((targets.ravel()-yhat.ravel())**2).mean()**0.5"
   ]
  },
  {
   "cell_type": "markdown",
   "metadata": {},
   "source": [
    "### Coopetitive Soft Gating"
   ]
  },
  {
   "cell_type": "code",
   "execution_count": null,
   "metadata": {},
   "outputs": [],
   "source": [
    "# export\n",
    "def squared_error(y,yhat):\n",
    "    return (y-yhat)**2"
   ]
  },
  {
   "cell_type": "code",
   "execution_count": null,
   "metadata": {},
   "outputs": [],
   "source": [
    "#export\n",
    "def soft_gating(errors, eta, eps=1e-9):\n",
    "    errors_sum = errors.sum(0)+eps\n",
    "    res = (errors_sum/(errors**eta))\n",
    "    return res/res.sum()"
   ]
  },
  {
   "cell_type": "code",
   "execution_count": null,
   "metadata": {},
   "outputs": [],
   "source": [
    "# export\n",
    "# hide\n",
    "def _flatten_ts(x):\n",
    "    n_samples, n_features, ts_length = x.shape\n",
    "    \n",
    "    if isinstance(x, np.ndarray):\n",
    "        x = x.swapaxes(1,2)\n",
    "    else:\n",
    "        x = x.permute(0,2,1)\n",
    "    x = x.reshape(n_samples*ts_length, n_features)\n",
    "    return x\n",
    "\n",
    "def _unflatten_to_ts(x, ts_length, n_features):\n",
    "    x = x.reshape(-1, ts_length, n_features)\n",
    "    if isinstance(x, np.ndarray):\n",
    "        x = x.swapaxes(1,2)\n",
    "    else:\n",
    "        x = x.permute(0,2,1)\n",
    "    \n",
    "    return x"
   ]
  },
  {
   "cell_type": "code",
   "execution_count": null,
   "metadata": {},
   "outputs": [],
   "source": [
    "# export\n",
    "def create_error_matrix(targets, preds, error_function=squared_error):\n",
    "    \"\"\"\n",
    "        N=#samples, k=#ensembles, t=forecast horizon\n",
    "        targets needs to be of size Nxt or Nx1xt\n",
    "        yhat needs to be of shape Nxkxt\n",
    "    \"\"\"\n",
    "    # shape N --> Nxkxt    \n",
    "    if len(targets.shape)==1:\n",
    "        targets = targets.reshape(-1,1,1)\n",
    "        \n",
    "    # shape Nxt --> Nxkxt \n",
    "    if len(targets.shape)==2:\n",
    "        # 1 is so that we can brodcast accross k ensembles\n",
    "        targets = targets.reshape(len(targets), 1, -1)\n",
    "        \n",
    "    # shape N --> Nxkxt    \n",
    "    if len(preds.shape)==1:      \n",
    "        preds = preds.reshape(-1,1,1)\n",
    "        \n",
    "    # shape Nxk --> Nxkxt \n",
    "    if len(preds.shape)==2: \n",
    "        # 1 is for a single forecast horizon\n",
    "        preds = preds.reshape(len(preds), preds.shape[1],1)\n",
    "    error_matrix = error_function(targets, preds)\n",
    "    \n",
    "    if error_function == squared_error:\n",
    "        error_matrix = error_matrix**0.5\n",
    "    \n",
    "    if not isinstance(error_matrix, np.ndarray):\n",
    "        error_matrix = to_np(error_matrix)\n",
    "        \n",
    "    return error_matrix"
   ]
  },
  {
   "cell_type": "code",
   "execution_count": null,
   "metadata": {},
   "outputs": [],
   "source": [
    "N,k,t = 2,4,3 \n",
    "targets = np.random.random((N,t))\n",
    "yhat = np.random.random((N,k,t))\n",
    "test_eq(create_error_matrix(targets, yhat).shape, (N,k,t))\n",
    "\n",
    "N,k,t = 2,4,3 \n",
    "targets = np.random.random((N,1,t))\n",
    "yhat = np.random.random((N,k,t))\n",
    "test_eq(create_error_matrix(targets, yhat).shape, (N,k,t))\n",
    "\n",
    "N,k,t = 2,4,3 \n",
    "targets = np.random.random((N))\n",
    "yhat = np.random.random((N,k,t))\n",
    "test_eq(create_error_matrix(targets, yhat).shape, (N,k,t))\n",
    "\n",
    "N,k,t = 2,4,1 \n",
    "targets = np.random.random((N))\n",
    "yhat = np.random.random((N,k))\n",
    "test_eq(create_error_matrix(targets, yhat).shape, (N,k,t))"
   ]
  },
  {
   "cell_type": "code",
   "execution_count": null,
   "metadata": {},
   "outputs": [],
   "source": [
    "# export\n",
    "def get_global_weight(error_matrix, eta=1):\n",
    "    \"\"\"expected to be of shape n_samples x n_ensembles x forecast_horizon \"\"\"\n",
    "    # average accross all forecast horizon and samples\n",
    "    # either via error_matrix.mean(0).mean(1) or error_matrix.mean(2).mean(0)\n",
    "\n",
    "    global_weight =  error_matrix.mean(0).mean(1)\n",
    "    \n",
    "    return soft_gating(global_weight.reshape(-1,1), eta)"
   ]
  },
  {
   "cell_type": "code",
   "execution_count": null,
   "metadata": {},
   "outputs": [],
   "source": [
    "N,k,t = 10,4,3\n",
    "targets = np.random.random((N,t))\n",
    "yhat = np.random.random((N,k,t))\n",
    "em = create_error_matrix(targets, yhat)\n",
    "test_eq(get_global_weight(em).shape, (k,1))"
   ]
  },
  {
   "cell_type": "code",
   "execution_count": null,
   "metadata": {},
   "outputs": [],
   "source": [
    "# export\n",
    "def get_timedependent_weight(error_matrix, eta=1):\n",
    "    \"\"\"expected to be of shape n_samples x n_ensembles x forecast_horizon \"\"\"\n",
    "    # average accross all samples\n",
    "    N,k,t =error_matrix.shape\n",
    "    time_depentent_weight =  error_matrix.mean(0)\n",
    "\n",
    "#     if not isinstance(time_depentent_weight, np.ndarray):\n",
    "#             time_depentent_weight = to_np(time_depentent_weight)\n",
    "    \n",
    "    for t_i in range(t):\n",
    "        time_depentent_weight[:,t_i] = soft_gating(time_depentent_weight[:,t_i], eta)\n",
    "\n",
    "            \n",
    "    return time_depentent_weight"
   ]
  },
  {
   "cell_type": "code",
   "execution_count": null,
   "metadata": {},
   "outputs": [],
   "source": [
    "test_eq(get_timedependent_weight(em).shape, (k,t))"
   ]
  },
  {
   "cell_type": "code",
   "execution_count": null,
   "metadata": {},
   "outputs": [],
   "source": [
    "# export\n",
    "from sklearn.decomposition import PCA\n",
    "from sklearn.neighbors import KNeighborsRegressor\n",
    "from sklearn.pipeline import Pipeline\n",
    "from sklearn.utils.validation import check_is_fitted\n",
    "def simple_local_error_estimator(param_dict = {\"n_components\":5, \"n_neighbors\": 5}):\n",
    "    pipe = Pipeline([('pca', PCA(n_components=param_dict[\"n_components\"])), \n",
    "                     ('knn', KNeighborsRegressor(n_neighbors=param_dict[\"n_neighbors\"]))])\n",
    "    return pipe\n",
    "\n",
    "def get_local_weight(conts, error_matrix, error_expectation_regressor, eta=1):\n",
    "    N,k,t = error_matrix.shape\n",
    "    \n",
    "    if len(conts.shape)==3:\n",
    "        conts=_flatten_ts(conts)\n",
    "    \n",
    "    if not isinstance(conts,np.ndarray):\n",
    "        conts = to_np(conts)\n",
    "        \n",
    "    # todo check timeseries that is the same for each timestep\n",
    "    local_error_expectation = error_expectation_regressor.predict(conts)\n",
    "    \n",
    "    local_error_expectation = _unflatten_to_ts(local_error_expectation, \n",
    "                                               ts_length=t, n_features=k)\n",
    "            \n",
    "    # we should have an error matrix of shape Nxk\n",
    "#     for n in range(len(local_error_expectation)):\n",
    "#         local_error_expectation[n,:] = soft_gating(local_error_expectation[n,], eta)\n",
    "            \n",
    "    return local_error_expectation"
   ]
  },
  {
   "cell_type": "code",
   "execution_count": null,
   "metadata": {},
   "outputs": [],
   "source": [
    "cats, conts, targets = convert_to_tensor(dls_target.valid_ds)"
   ]
  },
  {
   "cell_type": "code",
   "execution_count": null,
   "metadata": {},
   "outputs": [],
   "source": [
    "preds_01 = target_model_01.predict(cats, conts)\n",
    "preds_02 = target_model_02.predict(cats, conts)\n",
    "preds_comb = np.concatenate([preds_01, preds_02], axis=1)\n",
    "error_matrix = create_error_matrix(targets, preds_comb)"
   ]
  },
  {
   "cell_type": "code",
   "execution_count": null,
   "metadata": {},
   "outputs": [],
   "source": [
    "error_expectation_regressor = simple_local_error_estimator(param_dict = {\"n_components\":1, \"n_neighbors\": 5})"
   ]
  },
  {
   "cell_type": "code",
   "execution_count": null,
   "metadata": {},
   "outputs": [],
   "source": [
    "error_expectation_regressor = error_expectation_regressor.fit(conts, error_matrix.reshape(-1,error_matrix.shape[1]))"
   ]
  },
  {
   "cell_type": "code",
   "execution_count": null,
   "metadata": {},
   "outputs": [],
   "source": [
    "local_weight = get_local_weight(conts, error_matrix, error_expectation_regressor)"
   ]
  },
  {
   "cell_type": "code",
   "execution_count": null,
   "metadata": {},
   "outputs": [],
   "source": [
    "_tmp = get_local_weight(conts, error_matrix, error_expectation_regressor)"
   ]
  },
  {
   "cell_type": "code",
   "execution_count": null,
   "metadata": {},
   "outputs": [],
   "source": [
    "# export\n",
    "\n",
    "def turnOffTrackingStats(module):\n",
    "        if hasattr(module, \"track_running_stats\"):\n",
    "            module.track_running_stats = False\n",
    "        for childMod in module.children():\n",
    "            turnOffTrackingStats(childMod)\n",
    "\n",
    "            \n",
    "class CSGE(nn.Module):\n",
    "    def __init__(self, source_models,\n",
    "                       eta_global=10, eta_time=10, eta_local=10,\n",
    "                 is_timeseries_model=False, \n",
    "                 is_timeseries_data=False,\n",
    "                 use_elm=True,\n",
    "                 n_hidden=200,\n",
    "                 ts_length=1):\n",
    "        \"\"\"\n",
    "        \"\"\"\n",
    "        super().__init__()\n",
    "        self.source_models = np.array(source_models)\n",
    "        self.is_timeseries_data = is_timeseries_data\n",
    "        self.is_timeseries_model = is_timeseries_model\n",
    "        self.error_expectation_regressor = \\\n",
    "            LocalErrorPredictor(len(source_models), use_elm=use_elm, n_hidden=n_hidden)\n",
    "         \n",
    "        self.conversion_to_tensor = convert_to_tensor_ts if self.is_timeseries_data else convert_to_tensor\n",
    "        \n",
    "        self.ts_length = ts_length\n",
    "        self.error_matrix = None\n",
    "        self.global_weights = None\n",
    "        self.timedependent_weights = None\n",
    "        self.local_weights = None\n",
    "        \n",
    "        self.eta_global = nn.Parameter(torch.Tensor([eta_global]))\n",
    "        self.eta_local = nn.Parameter(torch.Tensor([eta_local]))\n",
    "        self.eta_time = nn.Parameter(torch.Tensor([eta_time]))\n",
    "   \n",
    "#     def setup_complete_data(self, cats, conts, targets):\n",
    "#         if len(conts.shape) == 3:\n",
    "#             # is already timeseries data\n",
    "#             conts_non_ts = _flatten_ts(conts)\n",
    "#             if len(cats)>0 and cats.numel() != 0:\n",
    "#                 cats_non_ts = _flatten_ts(cats)\n",
    "#             else:\n",
    "#                 cats_non_ts = cats\n",
    "#             targets_non_ts = _flatten_ts(targets)\n",
    "#         else:\n",
    "#             cats_non_ts, conts_non_ts, targets_non_ts = cats, conts, targets\n",
    "#             conts = _unflatten_to_ts(conts, self.ts_length, conts.shape[1])\n",
    "#             targets = _unflatten_to_ts(targets, self.ts_length, targets.shape[1])\n",
    "#             if len(cats)>0 and cats.numel() != 0:\n",
    "#                 cats_non_ts = _unflatten_to_ts(cats, self.ts_length, cats.shape[1])\n",
    "\n",
    "\n",
    "#         if self.is_timeseries_model:\n",
    "#             preds = get_preds(cats, conts, self.source_models, convert_to_np=False)\n",
    "#         else:\n",
    "#             preds = get_preds(cats_non_ts, conts_non_ts, self.source_models, convert_to_np=False)\n",
    "#             preds = _unflatten_to_ts(\n",
    "#                 preds, self.ts_length, len(self.source_models)\n",
    "#             )  \n",
    "#         self.cats, self.conts, self.targets = cats, conts, targets\n",
    "#         self.cats_non_ts, self.conts_non_ts, self.targets_non_ts = cats_non_ts, conts_non_ts, targets_non_ts\n",
    "#         self.targets, self.preds = targets, preds\n",
    "\n",
    "    def setup_complete_data(self, cats, conts, targets=None):\n",
    "        targets_non_ts = None\n",
    "        if len(conts.shape) == 3:\n",
    "            # is already timeseries data\n",
    "            conts_non_ts = _flatten_ts(conts)\n",
    "            if len(cats)>0 and cats.numel() != 0:\n",
    "                cats_non_ts = _flatten_ts(cats)\n",
    "            else:\n",
    "                cats_non_ts = cats\n",
    "            if targets is not None:  targets_non_ts = _flatten_ts(targets)\n",
    "        else:\n",
    "            cats_non_ts, conts_non_ts, targets_non_ts = cats, conts, targets\n",
    "            conts = _unflatten_to_ts(conts, self.ts_length, conts.shape[1])\n",
    "            if targets is not None: targets = _unflatten_to_ts(targets, self.ts_length, targets.shape[1])\n",
    "            if len(cats)>0 and cats.numel() != 0:\n",
    "                cats_non_ts = _unflatten_to_ts(cats, self.ts_length, cats.shape[1])\n",
    "\n",
    "\n",
    "        if self.is_timeseries_model:\n",
    "            preds = get_preds(cats, conts, self.source_models, convert_to_np=False)\n",
    "        else:\n",
    "            preds = get_preds(cats_non_ts, conts_non_ts, self.source_models, convert_to_np=False)\n",
    "            preds = _unflatten_to_ts(\n",
    "                preds, self.ts_length, len(self.source_models)\n",
    "            )  \n",
    "        self.cats, self.conts, self.targets = cats, conts, targets\n",
    "        self.cats_non_ts, self.conts_non_ts, self.targets_non_ts = cats_non_ts, conts_non_ts, targets_non_ts\n",
    "        self.targets, self.preds = targets, preds\n",
    "        \n",
    "\n",
    "    def fit(self, dls, ds_idx=0, n_epochs=1):\n",
    "        turnOffTrackingStats(self)\n",
    "        if ds_idx == 0:\n",
    "            ds = dls.train_ds\n",
    "        else:\n",
    "            ds = dls.valid_ds\n",
    "            \n",
    "        cats, conts, targets = self.conversion_to_tensor(ds)\n",
    "        \n",
    "        # we do an initial fit to setup everything\n",
    "        with torch.no_grad():\n",
    "            self.setup_complete_data(cats, conts, targets)\n",
    "            # TODO: fit local predictors\n",
    "            self.error_matrix = torch.tensor(create_error_matrix(self.targets, self.preds))\n",
    "            # update local, global, and timedependent weight\n",
    "        \n",
    "            self.global_weights = get_global_weight(self.error_matrix, self.eta_global)\n",
    "            \n",
    "            self.error_expectation_regressor.fit(self.conts, self.error_matrix)\n",
    "\n",
    "            self.local_weight = get_local_weight(\n",
    "                self.conts_non_ts,\n",
    "                self.error_matrix,\n",
    "                self.error_expectation_regressor,\n",
    "                eta=self.eta_local,\n",
    "            )\n",
    "            \n",
    "            if self.ts_length>1 or self.is_timeseries_data:\n",
    "                self.time_dependent_weights = get_timedependent_weight(\n",
    "                    self.error_matrix, self.eta_time\n",
    "                )\n",
    "        \n",
    "    def calc_final_weights(self):\n",
    "        if self.ts_length>1 or self.is_timeseries_data: \n",
    "            final_weights = self.global_weights*self.time_dependent_weights\n",
    "        else:\n",
    "            final_weights = self.global_weights\n",
    "        final_weights = self.global_weights\n",
    "            \n",
    "        final_weights = normalize_weight(final_weights)\n",
    "        \n",
    "        final_weights = final_weights*self.local_weights\n",
    "            \n",
    "        self.final_weights = final_weights\n",
    "        self.final_weights = normalize_weight(final_weights)\n",
    "        \n",
    "        return self.final_weights\n",
    "            \n",
    "    def _predict(self, cats, conts):\n",
    "        yhat = get_preds(cats, conts, self.source_models, convert_to_np=False)  \n",
    "        \n",
    "        if self.ts_length != 1 and not self.is_timeseries_data:\n",
    "            yhat = _unflatten_to_ts(yhat, self.ts_length, yhat.shape[1])\n",
    "#         yhat = torch.tensor(yhat)\n",
    "        \n",
    "        self.local_weights = get_local_weight(conts, self.error_matrix, \n",
    "                                              self.error_expectation_regressor, \n",
    "                                              )\n",
    "        \n",
    "        final_weights = self.calc_final_weights()\n",
    "        \n",
    "        yhat = weight_preds(yhat, final_weights)\n",
    "        \n",
    "        return yhat\n",
    "    \n",
    "#     def forward(self, cats, conts):\n",
    "#         self.global_weights = get_global_weight(self.error_matrix, self.eta_global)\n",
    "            \n",
    "#         self.local_weight = get_local_weight(\n",
    "#             self.conts_non_ts,\n",
    "#             self.error_matrix,\n",
    "#             self.error_expectation_regressor,\n",
    "#             eta=self.eta_local,\n",
    "#         )\n",
    "\n",
    "#         if self.ts_length>1 or self.is_timeseries_data:\n",
    "#             self.time_dependent_weights = get_timedependent_weight(\n",
    "#                 self.error_matrix, self.eta_time\n",
    "#             )\n",
    "\n",
    "#         yhat = self._predict(cats, conts)\n",
    "        \n",
    "#         return yhat\n",
    "\n",
    "    def forward(self, cats, conts):\n",
    "        self.setup_complete_data(cats, conts)\n",
    "        self.global_weights = get_global_weight(self.error_matrix, self.eta_global)\n",
    "\n",
    "        self.local_weights = get_local_weight(\n",
    "            self.conts_non_ts,\n",
    "            self.error_matrix,\n",
    "            self.error_expectation_regressor,\n",
    "            eta=self.eta_local,\n",
    "        )\n",
    "\n",
    "        self.local_weights = Variable(self.local_weights)\n",
    "        self.local_weights.requires_grad = True\n",
    "\n",
    "        def vSoftGate(t, eta, eps=1e-18):\n",
    "            t = torch.sum(t, dim=1).reshape(t.shape[0], 1) / (t ** eta + eps)\n",
    "            return t / torch.sum(t, dim=1).reshape(t.shape[0], 1)\n",
    "\n",
    "        # TODO as Variable before applying soft gating formula\n",
    "        \n",
    "        # we should have an error matrix of shape Nxk\n",
    "        new_local_weights = []\n",
    "        for n in range(len(self.local_weights)):\n",
    "            new_local_weights.append(\n",
    "                soft_gating(self.local_weights[n,], self.eta_local)[np.newaxis, :, :]\n",
    "            )\n",
    "        self.local_weights = torch.cat(new_local_weights)\n",
    "\n",
    "        # TODO as Variable before applying soft gating formula\n",
    "        if self.ts_length > 1 or self.is_timeseries_data:\n",
    "            self.time_dependent_weights = get_timedependent_weight(\n",
    "                self.error_matrix, self.eta_time\n",
    "            )\n",
    "\n",
    "        yhat = (\n",
    "            self.preds\n",
    "        )  # get_preds(cats, conts, self.source_models, convert_to_np=False)\n",
    "\n",
    "        if self.ts_length != 1 and not self.is_timeseries_data:\n",
    "            yhat = _unflatten_to_ts(yhat, self.ts_length, yhat.shape[1])\n",
    "\n",
    "        final_weights = self.global_weights * self.local_weights\n",
    "\n",
    "        final_weights = normalize_weight(final_weights)\n",
    "        \n",
    "\n",
    "        # print(yhat.shape, final_weights.shape)\n",
    "\n",
    "        yhat = weight_preds(yhat, final_weights)\n",
    "\n",
    "        # yhat = self._predict(cats, conts)\n",
    "\n",
    "        return yhat\n",
    "\n",
    "    def predict(self, dls, ds_idx=0):\n",
    "        ds = dls.train_ds\n",
    "        if ds_idx==1:\n",
    "            ds = dls.valid_ds\n",
    "        \n",
    "        cats, conts, targets = self.conversion_to_tensor(ds)\n",
    "            \n",
    "        yhat = self._predict(cats, conts)\n",
    "        \n",
    "        return yhat, targets   \n",
    "\n",
    "class LocalErrorPredictor(BaseEstimator):\n",
    "    def __init__(self, n_models=1, use_elm=True, n_hidden=200):\n",
    "        self.n_models = n_models\n",
    "        self.use_elm = use_elm\n",
    "        self.n_hidden = n_hidden\n",
    "    \n",
    "    def fit(self, conts, errors):\n",
    "        \n",
    "        if len(conts.shape)==3:\n",
    "            conts=_flatten_ts(conts)\n",
    "            \n",
    "        if len(errors.shape)==3:\n",
    "            errors=_flatten_ts(errors)\n",
    "    \n",
    "        if not isinstance(conts,np.ndarray):\n",
    "            conts = to_np(conts)\n",
    "            \n",
    "        if not isinstance(errors,np.ndarray):\n",
    "            errors = to_np(errors)\n",
    "        \n",
    "        self.models = []\n",
    "        for idx in range(self.n_models):\n",
    "            model = BayesLinReg(use_fixed_point=True)\n",
    "            if self.use_elm:\n",
    "                model = ELM(n_hidden=self.n_hidden, prediction_model=model)\n",
    "            model = model.fit(conts, errors[:,idx])\n",
    "            self.models.append(model)\n",
    "            \n",
    "    def predict(self, conts):\n",
    "        if len(conts.shape)==3:\n",
    "            conts=_flatten_ts(conts)\n",
    "            \n",
    "        if not isinstance(conts,np.ndarray):\n",
    "            conts = to_np(conts)\n",
    "            \n",
    "        preds = []\n",
    "        for model in self.models:\n",
    "            pred = model.predict(conts)\n",
    "            preds.append(torch.tensor(pred).reshape(-1,1))\n",
    "            \n",
    "        preds = torch.cat(preds, axis=1)\n",
    "        \n",
    "        return preds"
   ]
  },
  {
   "cell_type": "code",
   "execution_count": null,
   "metadata": {},
   "outputs": [
    {
     "name": "stdout",
     "output_type": "stream",
     "text": [
      "0.8 tensor(0.0871, dtype=torch.float64)\n",
      "0.9 tensor(0.0871, dtype=torch.float64)\n",
      "1 tensor(0.0868, dtype=torch.float64)\n",
      "2 tensor(0.0857, dtype=torch.float64)\n",
      "3 tensor(0.0846, dtype=torch.float64)\n",
      "4 tensor(0.0837, dtype=torch.float64)\n",
      "5 tensor(0.0827, dtype=torch.float64)\n",
      "6 tensor(0.0818, dtype=torch.float64)\n",
      "7 tensor(0.0811, dtype=torch.float64)\n",
      "8 tensor(0.0805, dtype=torch.float64)\n",
      "9 tensor(0.0800, dtype=torch.float64)\n",
      "10 tensor(0.0796, dtype=torch.float64)\n",
      "20 tensor(0.0778, dtype=torch.float64)\n"
     ]
    }
   ],
   "source": [
    "for eta in [0.8,0.9,1,2,3,4,5,6,7,8,9,10,20]:\n",
    "    csge_model = CSGE(source_models=[target_model_01, target_model_02],\n",
    "                     eta_global=eta, eta_local=eta, eta_time=eta)\n",
    "    \n",
    "    csge_model.fit(dls_target, ds_idx=1)\n",
    "    \n",
    "    yhat, targets = csge_model.predict(dls_target, ds_idx=1)\n",
    "    print(eta, ((targets.ravel()-yhat.ravel())**2).mean()**0.5)"
   ]
  },
  {
   "cell_type": "markdown",
   "metadata": {},
   "source": [
    "# Check for real world timeseries data"
   ]
  },
  {
   "cell_type": "markdown",
   "metadata": {},
   "source": [
    "## Data Preparation"
   ]
  },
  {
   "cell_type": "code",
   "execution_count": null,
   "metadata": {},
   "outputs": [],
   "source": [
    "from fastrenewables.timeseries.core import *\n",
    "from fastrenewables.tabular.core import *\n",
    "from fastrenewables.timeseries.data import *\n",
    "from fastrenewables.timeseries.model import *\n",
    "from fastrenewables.timeseries.learner import *"
   ]
  },
  {
   "cell_type": "code",
   "execution_count": null,
   "metadata": {},
   "outputs": [],
   "source": [
    "cont_names = ['T_HAG_2_M', 'RELHUM_HAG_2_M', 'PS_SFC_0_M', 'ASWDIFDS_SFC_0_M',\n",
    "       'ASWDIRS_SFC_0_M', 'WindSpeed58m',\n",
    "       'SinWindDirection58m', 'CosWindDirection58m', 'WindSpeed60m']\n",
    "cat_names = ['Hour']\n",
    "\n",
    "def get_dls(y_names=\"PowerGeneration\"):\n",
    "    pd.options.mode.chained_assignment=None\n",
    "    dls_source0 = RenewableTimeSeriesDataLoaders.from_files(glob.glob(\"../data/*.h5\")[0], \n",
    "                                                y_names=y_names, \n",
    "                                                cat_names=cat_names, \n",
    "                                                cont_names=cont_names,\n",
    "                                                pre_procs=[CreateTimeStampIndex(index_col_name=\"TimeUTC\"),\n",
    "                                                             AddSeasonalFeatures(as_cont=False),\n",
    "                                                             FilterInconsistentSamplesPerDay], \n",
    "                                                procs=[Categorify, Normalize], \n",
    "                                                bs=12,\n",
    "                                                y_block=RegressionBlock(),\n",
    "                                                )\n",
    "    dls_source1 = RenewableTimeSeriesDataLoaders.from_files(glob.glob(\"../data/*.h5\")[1], \n",
    "                                                y_names=y_names, \n",
    "                                                cat_names=cat_names, \n",
    "                                                cont_names=cont_names,\n",
    "                                                pre_procs=[CreateTimeStampIndex(index_col_name=\"TimeUTC\"),\n",
    "                                                             AddSeasonalFeatures(as_cont=False),\n",
    "                                                             FilterInconsistentSamplesPerDay], \n",
    "                                                procs=[Categorify, Normalize], \n",
    "                                                bs=12,\n",
    "                                                y_block=RegressionBlock(),\n",
    "                                                )\n",
    "    \n",
    "    dls_target = RenewableTimeSeriesDataLoaders.from_files(glob.glob(\"../data/*.h5\")[2], \n",
    "                                                y_names=y_names, \n",
    "                                                cat_names=cat_names, \n",
    "                                                cont_names=cont_names,\n",
    "                                                pre_procs=[CreateTimeStampIndex(index_col_name=\"TimeUTC\"),\n",
    "                                                           FilterYear(year=2020), \n",
    "                                                             AddSeasonalFeatures(as_cont=False),\n",
    "                                                             FilterInconsistentSamplesPerDay, \n",
    "                                                           FilterMonths(months=[1,2,3,4])], \n",
    "                                                procs=[Categorify, Normalize], \n",
    "                                                bs=12,\n",
    "                                                y_block=RegressionBlock(),\n",
    "                                                )\n",
    "    \n",
    "    return dls_source0,dls_source1,dls_target\n"
   ]
  },
  {
   "cell_type": "markdown",
   "metadata": {},
   "source": [
    "## Timeseries source model"
   ]
  },
  {
   "cell_type": "code",
   "execution_count": null,
   "metadata": {},
   "outputs": [],
   "source": [
    "set_seed(23, reproducible=True)\n",
    "dls_source0, dls_source1,dls_target = get_dls()\n",
    "ann_structure = [len(cont_names), 10, 5, 1]"
   ]
  },
  {
   "cell_type": "code",
   "execution_count": null,
   "metadata": {},
   "outputs": [
    {
     "data": {
      "text/html": [
       "<table border=\"1\" class=\"dataframe\">\n",
       "  <thead>\n",
       "    <tr style=\"text-align: left;\">\n",
       "      <th>epoch</th>\n",
       "      <th>train_loss</th>\n",
       "      <th>valid_loss</th>\n",
       "      <th>_rmse</th>\n",
       "      <th>time</th>\n",
       "    </tr>\n",
       "  </thead>\n",
       "  <tbody>\n",
       "    <tr>\n",
       "      <td>0</td>\n",
       "      <td>0.075959</td>\n",
       "      <td>0.049644</td>\n",
       "      <td>0.222810</td>\n",
       "      <td>00:00</td>\n",
       "    </tr>\n",
       "    <tr>\n",
       "      <td>1</td>\n",
       "      <td>0.050632</td>\n",
       "      <td>0.028458</td>\n",
       "      <td>0.168695</td>\n",
       "      <td>00:00</td>\n",
       "    </tr>\n",
       "    <tr>\n",
       "      <td>2</td>\n",
       "      <td>0.036488</td>\n",
       "      <td>0.021525</td>\n",
       "      <td>0.146716</td>\n",
       "      <td>00:00</td>\n",
       "    </tr>\n",
       "    <tr>\n",
       "      <td>3</td>\n",
       "      <td>0.028245</td>\n",
       "      <td>0.019161</td>\n",
       "      <td>0.138424</td>\n",
       "      <td>00:00</td>\n",
       "    </tr>\n",
       "    <tr>\n",
       "      <td>4</td>\n",
       "      <td>0.023330</td>\n",
       "      <td>0.017868</td>\n",
       "      <td>0.133670</td>\n",
       "      <td>00:00</td>\n",
       "    </tr>\n",
       "    <tr>\n",
       "      <td>5</td>\n",
       "      <td>0.020304</td>\n",
       "      <td>0.016956</td>\n",
       "      <td>0.130215</td>\n",
       "      <td>00:00</td>\n",
       "    </tr>\n",
       "    <tr>\n",
       "      <td>6</td>\n",
       "      <td>0.018368</td>\n",
       "      <td>0.016351</td>\n",
       "      <td>0.127869</td>\n",
       "      <td>00:00</td>\n",
       "    </tr>\n",
       "    <tr>\n",
       "      <td>7</td>\n",
       "      <td>0.017070</td>\n",
       "      <td>0.015937</td>\n",
       "      <td>0.126243</td>\n",
       "      <td>00:00</td>\n",
       "    </tr>\n",
       "    <tr>\n",
       "      <td>8</td>\n",
       "      <td>0.016186</td>\n",
       "      <td>0.015668</td>\n",
       "      <td>0.125171</td>\n",
       "      <td>00:00</td>\n",
       "    </tr>\n",
       "    <tr>\n",
       "      <td>9</td>\n",
       "      <td>0.015559</td>\n",
       "      <td>0.015452</td>\n",
       "      <td>0.124304</td>\n",
       "      <td>00:00</td>\n",
       "    </tr>\n",
       "  </tbody>\n",
       "</table>"
      ],
      "text/plain": [
       "<IPython.core.display.HTML object>"
      ]
     },
     "metadata": {},
     "output_type": "display_data"
    }
   ],
   "source": [
    "set_seed(23, reproducible=True)\n",
    "learn_source0 = renewable_timeseries_learner(dls_source0, layers=ann_structure, metrics=rmse)\n",
    "learn_source0.fit(10)"
   ]
  },
  {
   "cell_type": "code",
   "execution_count": null,
   "metadata": {},
   "outputs": [
    {
     "data": {
      "text/html": [
       "<table border=\"1\" class=\"dataframe\">\n",
       "  <thead>\n",
       "    <tr style=\"text-align: left;\">\n",
       "      <th>epoch</th>\n",
       "      <th>train_loss</th>\n",
       "      <th>valid_loss</th>\n",
       "      <th>_rmse</th>\n",
       "      <th>time</th>\n",
       "    </tr>\n",
       "  </thead>\n",
       "  <tbody>\n",
       "    <tr>\n",
       "      <td>0</td>\n",
       "      <td>0.041709</td>\n",
       "      <td>0.029697</td>\n",
       "      <td>0.172329</td>\n",
       "      <td>00:00</td>\n",
       "    </tr>\n",
       "    <tr>\n",
       "      <td>1</td>\n",
       "      <td>0.032322</td>\n",
       "      <td>0.023872</td>\n",
       "      <td>0.154507</td>\n",
       "      <td>00:00</td>\n",
       "    </tr>\n",
       "    <tr>\n",
       "      <td>2</td>\n",
       "      <td>0.027287</td>\n",
       "      <td>0.022111</td>\n",
       "      <td>0.148696</td>\n",
       "      <td>00:00</td>\n",
       "    </tr>\n",
       "    <tr>\n",
       "      <td>3</td>\n",
       "      <td>0.024335</td>\n",
       "      <td>0.020824</td>\n",
       "      <td>0.144304</td>\n",
       "      <td>00:00</td>\n",
       "    </tr>\n",
       "    <tr>\n",
       "      <td>4</td>\n",
       "      <td>0.022340</td>\n",
       "      <td>0.020273</td>\n",
       "      <td>0.142383</td>\n",
       "      <td>00:00</td>\n",
       "    </tr>\n",
       "    <tr>\n",
       "      <td>5</td>\n",
       "      <td>0.021012</td>\n",
       "      <td>0.019778</td>\n",
       "      <td>0.140634</td>\n",
       "      <td>00:00</td>\n",
       "    </tr>\n",
       "    <tr>\n",
       "      <td>6</td>\n",
       "      <td>0.020052</td>\n",
       "      <td>0.019471</td>\n",
       "      <td>0.139538</td>\n",
       "      <td>00:00</td>\n",
       "    </tr>\n",
       "    <tr>\n",
       "      <td>7</td>\n",
       "      <td>0.019335</td>\n",
       "      <td>0.019351</td>\n",
       "      <td>0.139109</td>\n",
       "      <td>00:00</td>\n",
       "    </tr>\n",
       "    <tr>\n",
       "      <td>8</td>\n",
       "      <td>0.018797</td>\n",
       "      <td>0.019249</td>\n",
       "      <td>0.138742</td>\n",
       "      <td>00:00</td>\n",
       "    </tr>\n",
       "    <tr>\n",
       "      <td>9</td>\n",
       "      <td>0.018372</td>\n",
       "      <td>0.019146</td>\n",
       "      <td>0.138369</td>\n",
       "      <td>00:00</td>\n",
       "    </tr>\n",
       "  </tbody>\n",
       "</table>"
      ],
      "text/plain": [
       "<IPython.core.display.HTML object>"
      ]
     },
     "metadata": {},
     "output_type": "display_data"
    }
   ],
   "source": [
    "set_seed(12345, reproducible=True)\n",
    "learn_source1 = renewable_timeseries_learner(dls_source1, layers=ann_structure, metrics=rmse)\n",
    "learn_source1.fit(10)"
   ]
  },
  {
   "cell_type": "markdown",
   "metadata": {},
   "source": [
    "## Timeseries Target Models and Bayesian Model Averaging"
   ]
  },
  {
   "cell_type": "code",
   "execution_count": null,
   "metadata": {},
   "outputs": [
    {
     "data": {
      "text/html": [
       "<table border=\"1\" class=\"dataframe\">\n",
       "  <thead>\n",
       "    <tr style=\"text-align: left;\">\n",
       "      <th>epoch</th>\n",
       "      <th>train_loss</th>\n",
       "      <th>valid_loss</th>\n",
       "      <th>_rmse</th>\n",
       "      <th>time</th>\n",
       "    </tr>\n",
       "  </thead>\n",
       "  <tbody>\n",
       "    <tr>\n",
       "      <td>0</td>\n",
       "      <td>0.000000</td>\n",
       "      <td>0.019864</td>\n",
       "      <td>0.140941</td>\n",
       "      <td>00:00</td>\n",
       "    </tr>\n",
       "  </tbody>\n",
       "</table>"
      ],
      "text/plain": [
       "<IPython.core.display.HTML object>"
      ]
     },
     "metadata": {},
     "output_type": "display_data"
    }
   ],
   "source": [
    "target_model0 = LinearTransferModel(learn_source0.model, 1, \n",
    "                           reduce_layers_tcn_model, \n",
    "                           use_original_weights=False,\n",
    "                        prediction_model=BayesLinReg(1, 1, empirical_bayes=False,use_fixed_point=True),\n",
    "                                  )\n",
    "\n",
    "target_learner0 = RenewableTimeseriesLearner(dls_target, target_model0, loss_func=target_model0.loss_func, metrics=rmse,)\n",
    "target_learner0.dls[0].bs=len(target_learner0.dls.train_ds)\n",
    "target_learner0.fit(1)"
   ]
  },
  {
   "cell_type": "code",
   "execution_count": null,
   "metadata": {},
   "outputs": [
    {
     "data": {
      "text/html": [
       "<table border=\"1\" class=\"dataframe\">\n",
       "  <thead>\n",
       "    <tr style=\"text-align: left;\">\n",
       "      <th>epoch</th>\n",
       "      <th>train_loss</th>\n",
       "      <th>valid_loss</th>\n",
       "      <th>_rmse</th>\n",
       "      <th>time</th>\n",
       "    </tr>\n",
       "  </thead>\n",
       "  <tbody>\n",
       "    <tr>\n",
       "      <td>0</td>\n",
       "      <td>0.000000</td>\n",
       "      <td>0.018835</td>\n",
       "      <td>0.137241</td>\n",
       "      <td>00:00</td>\n",
       "    </tr>\n",
       "  </tbody>\n",
       "</table>"
      ],
      "text/plain": [
       "<IPython.core.display.HTML object>"
      ]
     },
     "metadata": {},
     "output_type": "display_data"
    }
   ],
   "source": [
    "target_model1 = LinearTransferModel(learn_source1.model, 1, \n",
    "                           reduce_layers_tcn_model, \n",
    "                           use_original_weights=False,\n",
    "                        prediction_model=BayesLinReg(1, 1, use_fixed_point=True),\n",
    "                                  )\n",
    "\n",
    "target_learner1 = RenewableTimeseriesLearner(dls_target, target_model1, loss_func=target_model1.loss_func, metrics=rmse,)\n",
    "target_learner1.dls[0].bs=len(target_learner1.dls.train_ds)\n",
    "target_learner1.fit(1)"
   ]
  },
  {
   "cell_type": "code",
   "execution_count": null,
   "metadata": {},
   "outputs": [
    {
     "data": {
      "text/plain": [
       "tensor(0.1244, dtype=torch.float64)"
      ]
     },
     "execution_count": null,
     "metadata": {},
     "output_type": "execute_result"
    }
   ],
   "source": [
    "bma_model = BayesModelAveraing(source_models=[target_learner0.model, target_learner1.model], \n",
    "                               weighting_strategy='evidence',is_timeseries=True,\n",
    "                               n_best_models=-1)\n",
    "bma_model.fit(dls_target)\n",
    "cats, conts, targets = convert_to_tensor_ts(dls_target.valid_ds)\n",
    "yhat = bma_model.predict(dls_target, ds_idx=1)\n",
    "((targets.ravel()-bma_model.predict(dls_target, ds_idx=1).ravel())**2).mean()**0.5"
   ]
  },
  {
   "cell_type": "code",
   "execution_count": null,
   "metadata": {},
   "outputs": [
    {
     "data": {
      "text/plain": [
       "tensor(0.1291, dtype=torch.float64)"
      ]
     },
     "execution_count": null,
     "metadata": {},
     "output_type": "execute_result"
    }
   ],
   "source": [
    "bma_model = BayesModelAveraing(source_models=[target_learner0.model, target_learner1.model], \n",
    "                               weighting_strategy='posterior',is_timeseries=True,\n",
    "                               n_best_models=-1)\n",
    "bma_model.fit(dls_target)\n",
    "cats, conts, targets = convert_to_tensor_ts(dls_target.valid_ds)\n",
    "yhat = bma_model.predict(dls_target, ds_idx=1)\n",
    "((targets.ravel()-bma_model.predict(dls_target, ds_idx=1).ravel())**2).mean()**0.5"
   ]
  },
  {
   "cell_type": "code",
   "execution_count": null,
   "metadata": {},
   "outputs": [
    {
     "data": {
      "text/plain": [
       "tensor(0.1250)"
      ]
     },
     "execution_count": null,
     "metadata": {},
     "output_type": "execute_result"
    }
   ],
   "source": [
    "bma_model = BayesModelAveraing(source_models=[target_learner0.model, target_learner1.model], \n",
    "                               weighting_strategy='uncertainty',is_timeseries=True,\n",
    "                               n_best_models=-1)\n",
    "bma_model.fit(dls_target)\n",
    "cats, conts, targets = convert_to_tensor_ts(dls_target.valid_ds)\n",
    "yhat = bma_model.predict(dls_target, ds_idx=1)\n",
    "((targets.ravel()-bma_model.predict(dls_target, ds_idx=1).ravel())**2).mean()**0.5"
   ]
  },
  {
   "cell_type": "markdown",
   "metadata": {},
   "source": [
    "## CSGE on Timeseries"
   ]
  },
  {
   "cell_type": "code",
   "execution_count": null,
   "metadata": {},
   "outputs": [
    {
     "name": "stdout",
     "output_type": "stream",
     "text": [
      "0.8 tensor(0.4185, dtype=torch.float64)\n",
      "0.9 tensor(0.1262, dtype=torch.float64)\n",
      "1 tensor(0.1265, dtype=torch.float64)\n",
      "2 tensor(0.1392, dtype=torch.float64)\n",
      "3 tensor(0.1261, dtype=torch.float64)\n",
      "4 tensor(0.1262, dtype=torch.float64)\n",
      "5 tensor(0.1285, dtype=torch.float64)\n",
      "6 tensor(0.1268, dtype=torch.float64)\n",
      "7 tensor(0.1258, dtype=torch.float64)\n",
      "8 tensor(0.1261, dtype=torch.float64)\n",
      "9 tensor(1.2204, dtype=torch.float64)\n",
      "10 tensor(0.1276, dtype=torch.float64)\n"
     ]
    }
   ],
   "source": [
    "for eta in [0.8,0.9,1,2,3,4,5,6,7,8,9,10]:\n",
    "    csge_model = CSGE(source_models=[target_learner0.model, target_learner1.model],\n",
    "                     eta_global=eta, eta_local=eta, eta_time=-10,\n",
    "                      is_timeseries_data=True, is_timeseries_model=True, \n",
    "                      ts_length=24)\n",
    "\n",
    "    csge_model.fit(dls_target, ds_idx=1)\n",
    "   \n",
    "    yhat, target = csge_model.predict(dls_target, ds_idx=1)\n",
    "    print(eta, ((targets.ravel()-yhat.ravel())**2).mean()**0.5)"
   ]
  },
  {
   "cell_type": "code",
   "execution_count": null,
   "metadata": {},
   "outputs": [
    {
     "name": "stdout",
     "output_type": "stream",
     "text": [
      "0.8 tensor(0.1224, dtype=torch.float64, grad_fn=<PowBackward0>)\n",
      "0.9 tensor(0.1223, dtype=torch.float64, grad_fn=<PowBackward0>)\n",
      "1 tensor(0.1223, dtype=torch.float64, grad_fn=<PowBackward0>)\n",
      "2 tensor(0.1207, dtype=torch.float64, grad_fn=<PowBackward0>)\n",
      "3 tensor(0.1197, dtype=torch.float64, grad_fn=<PowBackward0>)\n",
      "4 tensor(0.1183, dtype=torch.float64, grad_fn=<PowBackward0>)\n",
      "5 tensor(0.1173, dtype=torch.float64, grad_fn=<PowBackward0>)\n",
      "6 tensor(0.1165, dtype=torch.float64, grad_fn=<PowBackward0>)\n",
      "7 tensor(0.1157, dtype=torch.float64, grad_fn=<PowBackward0>)\n",
      "8 tensor(0.1151, dtype=torch.float64, grad_fn=<PowBackward0>)\n",
      "9 tensor(0.1145, dtype=torch.float64, grad_fn=<PowBackward0>)\n",
      "10 tensor(0.1141, dtype=torch.float64, grad_fn=<PowBackward0>)\n"
     ]
    }
   ],
   "source": [
    "for eta in [0.8,0.9,1,2,3,4,5,6,7,8,9,10]:\n",
    "    csge_model = CSGE(source_models=[learn_source0.model, learn_source1.model],\n",
    "                     eta_global=eta, eta_local=eta, eta_time=-10,\n",
    "                      is_timeseries_data=True, is_timeseries_model=True, \n",
    "                      ts_length=24)\n",
    "\n",
    "    csge_model.fit(dls_target, ds_idx=1)\n",
    "    \n",
    "    yhat, targets = csge_model.predict(dls_target, ds_idx=1)\n",
    "    print(eta, ((targets.ravel()-yhat.ravel())**2).mean()**0.5)"
   ]
  }
 ],
 "metadata": {
  "kernelspec": {
   "display_name": "Python 3",
   "language": "python",
   "name": "python3"
  }
 },
 "nbformat": 4,
 "nbformat_minor": 2
}
